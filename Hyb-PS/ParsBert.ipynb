{
  "cells": [
    {
      "cell_type": "code",
      "execution_count": null,
      "metadata": {
        "id": "KiLbeeAAWqam"
      },
      "outputs": [],
      "source": [
        "%%capture\n",
        "!pip install --upgrade transformers"
      ]
    },
    {
      "cell_type": "code",
      "execution_count": null,
      "metadata": {
        "id": "_rGUJMwQiRcS"
      },
      "outputs": [],
      "source": [
        "%%capture\n",
        "!pip install datasets"
      ]
    },
    {
      "cell_type": "code",
      "execution_count": null,
      "metadata": {
        "id": "-0Q3QjWmL0YQ"
      },
      "outputs": [],
      "source": [
        "%%capture\n",
        "!pip install accelerate -U"
      ]
    },
    {
      "cell_type": "code",
      "execution_count": null,
      "metadata": {
        "id": "l4Yh5_heJ42u"
      },
      "outputs": [],
      "source": [
        "%%capture\n",
        "!pip install evaluate"
      ]
    },
    {
      "cell_type": "code",
      "execution_count": null,
      "metadata": {
        "id": "Ni2eEZi4KX11"
      },
      "outputs": [],
      "source": [
        "%%capture\n",
        "!pip install seqeval"
      ]
    },
    {
      "cell_type": "code",
      "execution_count": null,
      "metadata": {
        "id": "dcK5IOCUN_0t"
      },
      "outputs": [],
      "source": [
        "%%capture\n",
        "!pip install scikit-learn"
      ]
    },
    {
      "cell_type": "code",
      "execution_count": null,
      "metadata": {
        "id": "AXMGsh7HanSo"
      },
      "outputs": [],
      "source": [
        "%%capture\n",
        "!pip install matplotlib"
      ]
    },
    {
      "cell_type": "code",
      "execution_count": null,
      "metadata": {
        "id": "jFgdEvC2Scw8"
      },
      "outputs": [],
      "source": [
        "%%capture\n",
        "!pip install sklearn"
      ]
    },
    {
      "cell_type": "code",
      "execution_count": null,
      "metadata": {
        "id": "tU9gaz6P9o3e"
      },
      "outputs": [],
      "source": [
        "from google.colab import drive\n",
        "import torch\n",
        "import pandas as pd\n",
        "import evaluate\n",
        "import matplotlib.pyplot as plt\n",
        "import os\n",
        "import numpy as np\n",
        "from sklearn.model_selection import train_test_split\n",
        "from tokenizers import Encoding\n",
        "from collections import defaultdict\n",
        "from torch.utils.data import Dataset, DataLoader\n",
        "from transformers import BertTokenizer, BertForTokenClassification, AdamW, get_linear_schedule_with_warmup, Trainer, TrainingArguments,  BatchEncoding"
      ]
    },
    {
      "cell_type": "code",
      "execution_count": null,
      "metadata": {
        "colab": {
          "base_uri": "https://localhost:8080/"
        },
        "id": "zyWbDeNeNMpf",
        "outputId": "8da63b52-fb8f-48e2-b9cc-aa00c8304745"
      },
      "outputs": [
        {
          "name": "stdout",
          "output_type": "stream",
          "text": [
            "Mounted at /content/drive\n"
          ]
        }
      ],
      "source": [
        "drive.mount('/content/drive')"
      ]
    },
    {
      "cell_type": "code",
      "execution_count": null,
      "metadata": {
        "id": "cwlCuCbexix7"
      },
      "outputs": [],
      "source": [
        "device = torch.device(\"cuda\")\n",
        "json_data = '/content/drive/MyDrive/davodi.json'\n",
        "df = pd.read_json(json_data)\n",
        "df = df.drop(['_id', 'sentence', 'frame', 'lexicalUnit', 'status', 'issuer', 'is_active', 'createdAt', 'updatedAt', 'PId', 'lang', 'description', 'lexicalUnitHint', 'reviewer', 'lexicalUnitHelper', 'frameHelper', 'frameName', 'lexicalUnitName'], axis = 1)"
      ]
    },
    {
      "cell_type": "code",
      "execution_count": null,
      "metadata": {
        "id": "U8STebfkruf-"
      },
      "outputs": [],
      "source": [
        "def framenet_tags(FN_tags):\n",
        "    framenet_pattern = []\n",
        "    for FN_tag in FN_tags:\n",
        "        tag_type = FN_tag.get('tagType')\n",
        "        if tag_type == 5:\n",
        "            element = FN_tag.get('element', {})\n",
        "            element_name = element.get('name', '')\n",
        "            framenet_pattern.append(element_name)\n",
        "        else:\n",
        "            framenet_pattern.append('O')\n",
        "    return framenet_pattern"
      ]
    },
    {
      "cell_type": "code",
      "execution_count": null,
      "metadata": {
        "id": "vr_bQ8xwMPUi"
      },
      "outputs": [],
      "source": [
        "df['frameNetTags'] = df['frameNetTags'].apply(lambda FN_tags : framenet_tags(FN_tags))"
      ]
    },
    {
      "cell_type": "code",
      "execution_count": null,
      "metadata": {
        "colab": {
          "base_uri": "https://localhost:8080/",
          "height": 424
        },
        "id": "Pfx5H5-vPS4k",
        "outputId": "3fbf3365-6141-4033-fdb3-8d5fbf2a7bd8"
      },
      "outputs": [
        {
          "data": {
            "application/vnd.google.colaboratory.intrinsic+json": {
              "summary": "{\n  \"name\": \"df\",\n  \"rows\": 32729,\n  \"fields\": [\n    {\n      \"column\": \"words\",\n      \"properties\": {\n        \"dtype\": \"string\",\n        \"num_unique_values\": 19466,\n        \"samples\": [\n          \"\\u062f\\u0631 \\u0627\\u06cc\\u0646 \\u0631\\u0627\\u0633\\u062a\\u0627 \\u0648\\u0638\\u06cc\\u0641\\u06c0 \\u0634\\u0645\\u0627 \\u0633\\u062a \\u06a9\\u0647 \\u0627\\u0632 \\u0648\\u0632\\u0627\\u0631\\u062a\\u200c\\u0647\\u0627\\u06cc \\u0645\\u0631\\u0628\\u0648\\u0637\\u0647 \\u062a\\u0648\\u0636\\u06cc\\u062d \\u0628\\u062e\\u0648\\u0627\\u0647\\u06cc\\u062f .\",\n          \"\\u0637\\u0628\\u06cc\\u0639\\u06cc \\u0628\\u0648\\u062f \\u0627\\u0648\\u0644\\u06cc\\u0646 \\u0641\\u06a9\\u0631\\u06cc \\u06a9\\u0647 \\u0628\\u0647 \\u0630\\u0647\\u0646\\u0645 \\u0628\\u0631\\u0633\\u062f \\u060c \\u0646\\u062f\\u0627\\u0634\\u062a\\u0646 \\u0645\\u0648\\u0627\\u062f \\u0627\\u0648\\u0644\\u06cc\\u06c0 \\u062a\\u0647\\u06cc\\u06c0 \\u0634\\u0627\\u0645 \\u0628\\u0627\\u0634\\u062f .\",\n          \"\\u062e\\u0648\\u0634\\u0627 \\u0628\\u0647 \\u062d\\u0627\\u0644 \\u063a\\u0631\\u06cc\\u0628\\u0627\\u0646\\u06cc \\u06a9\\u0647 \\u0622\\u0646 \\u0686\\u0647 \\u0627\\u0632 \\u0633\\u0646\\u062a \\u062a\\u0648\\u0633\\u0637 \\u0645\\u0631\\u062f\\u0645 \\u0628\\u0647 \\u062a\\u0628\\u0627\\u0647\\u06cc \\u0631\\u0641\\u062a\\u0647 \\u0628\\u0647 \\u0635\\u0644\\u0627\\u062d \\u0628\\u0627\\u0632\\u0645\\u06cc\\u200c\\u0622\\u0648\\u0631\\u0646\\u062f .\"\n        ],\n        \"semantic_type\": \"\",\n        \"description\": \"\"\n      }\n    },\n    {\n      \"column\": \"frameNetTags\",\n      \"properties\": {\n        \"dtype\": \"object\",\n        \"semantic_type\": \"\",\n        \"description\": \"\"\n      }\n    },\n    {\n      \"column\": \"propBankTags\",\n      \"properties\": {\n        \"dtype\": \"object\",\n        \"semantic_type\": \"\",\n        \"description\": \"\"\n      }\n    }\n  ]\n}",
              "type": "dataframe",
              "variable_name": "df"
            },
            "text/html": [
              "\n",
              "  <div id=\"df-49f1cab8-c3a1-4c9a-a532-344064257135\" class=\"colab-df-container\">\n",
              "    <div>\n",
              "<style scoped>\n",
              "    .dataframe tbody tr th:only-of-type {\n",
              "        vertical-align: middle;\n",
              "    }\n",
              "\n",
              "    .dataframe tbody tr th {\n",
              "        vertical-align: top;\n",
              "    }\n",
              "\n",
              "    .dataframe thead th {\n",
              "        text-align: right;\n",
              "    }\n",
              "</style>\n",
              "<table border=\"1\" class=\"dataframe\">\n",
              "  <thead>\n",
              "    <tr style=\"text-align: right;\">\n",
              "      <th></th>\n",
              "      <th>words</th>\n",
              "      <th>frameNetTags</th>\n",
              "      <th>propBankTags</th>\n",
              "    </tr>\n",
              "  </thead>\n",
              "  <tbody>\n",
              "    <tr>\n",
              "      <th>0</th>\n",
              "      <td>خانم نزهت‌الدوله گرچه تا به حال سه تا شوهر کرد...</td>\n",
              "      <td>[O, O, O, O, O, O, O, O, O, O, O, O, O, O, O, ...</td>\n",
              "      <td>[O, O, O, O, O, O, O, O, O, O, O, O, O, O, O, ...</td>\n",
              "    </tr>\n",
              "    <tr>\n",
              "      <th>1</th>\n",
              "      <td>خانم نزهت‌الدوله گرچه تا به حال سه تا شوهر کرد...</td>\n",
              "      <td>[جستجو_کننده, جستجو_کننده, O, O, O, O, O, O, O...</td>\n",
              "      <td>[O, O, O, O, O, O, O, O, O, O, O, O, O, O, O, ...</td>\n",
              "    </tr>\n",
              "    <tr>\n",
              "      <th>2</th>\n",
              "      <td>تو به من مجال دادی تا پروانه شوم .</td>\n",
              "      <td>[مرجع_ذیصلاح, قهرمان, قهرمان, O, O, عمل, عمل, ...</td>\n",
              "      <td>[B-A0, B-A2, O, B-NVE, B-V, B-PRP, O, O, O]</td>\n",
              "    </tr>\n",
              "    <tr>\n",
              "      <th>3</th>\n",
              "      <td>تو به من مجال دادی تا پروانه شوم .</td>\n",
              "      <td>[O, O, O, O, O, O, دسته_نهایی, O, O]</td>\n",
              "      <td>[O, O, O, O, O, O, B-A2, B-V, O]</td>\n",
              "    </tr>\n",
              "    <tr>\n",
              "      <th>4</th>\n",
              "      <td>هر زمان این غریزه و فطرت و رشد سنی و عقلی و اج...</td>\n",
              "      <td>[O, O, موجودیت, موجودیت, موجودیت, موجودیت, موج...</td>\n",
              "      <td>[O, O, O, B-A2, O, O, O, O, O, O, O, O, O, B-N...</td>\n",
              "    </tr>\n",
              "    <tr>\n",
              "      <th>...</th>\n",
              "      <td>...</td>\n",
              "      <td>...</td>\n",
              "      <td>...</td>\n",
              "    </tr>\n",
              "    <tr>\n",
              "      <th>32724</th>\n",
              "      <td>روسیه به زودی برای عمل به تعهدهای خود به اروپا...</td>\n",
              "      <td>[بحث‌کنندگان, زمان, زمان, مسئله, مسئله, مسئله,...</td>\n",
              "      <td>[B-A0, B-TMP, O, B-A2, O, O, O, O, O, O, O, O,...</td>\n",
              "    </tr>\n",
              "    <tr>\n",
              "      <th>32725</th>\n",
              "      <td>منازعه و مشاجرۀ پدر و مادر اقدام ناخوشایندی اس...</td>\n",
              "      <td>[O, O, O, بحث‌کنندگان, بحث‌کنندگان, بحث‌کنندگا...</td>\n",
              "      <td>[B-N-V, O, O, B-A0, B-A1, O, O, O, O, O, O, O,...</td>\n",
              "    </tr>\n",
              "    <tr>\n",
              "      <th>32726</th>\n",
              "      <td>منازعه و مشاجرۀ پدر و مادر اقدام ناخوشایندی اس...</td>\n",
              "      <td>[روش, روش, روش, عامل, عامل, عامل, O, توضیح, O,...</td>\n",
              "      <td>[B-A1, O, O, O, O, O, B-A2, O, B-V, O, O, O, O...</td>\n",
              "    </tr>\n",
              "    <tr>\n",
              "      <th>32727</th>\n",
              "      <td>منازعه و مشاجرۀ پدر و مادر اقدام ناخوشایندی اس...</td>\n",
              "      <td>[O, O, O, O, O, O, O, O, O, O, شاخص, شاخص, O, ...</td>\n",
              "      <td>[O, O, O, O, O, O, O, O, O, O, B-Arg2_B1, O, B...</td>\n",
              "    </tr>\n",
              "    <tr>\n",
              "      <th>32728</th>\n",
              "      <td>منازعه و مشاجرۀ پدر و مادر اقدام ناخوشایندی اس...</td>\n",
              "      <td>[O, O, O, O, O, O, O, O, O, O, O, O, O, O, O, ...</td>\n",
              "      <td>[O, O, O, O, O, O, O, O, O, O, O, O, O, B-N-V,...</td>\n",
              "    </tr>\n",
              "  </tbody>\n",
              "</table>\n",
              "<p>32729 rows × 3 columns</p>\n",
              "</div>\n",
              "    <div class=\"colab-df-buttons\">\n",
              "\n",
              "  <div class=\"colab-df-container\">\n",
              "    <button class=\"colab-df-convert\" onclick=\"convertToInteractive('df-49f1cab8-c3a1-4c9a-a532-344064257135')\"\n",
              "            title=\"Convert this dataframe to an interactive table.\"\n",
              "            style=\"display:none;\">\n",
              "\n",
              "  <svg xmlns=\"http://www.w3.org/2000/svg\" height=\"24px\" viewBox=\"0 -960 960 960\">\n",
              "    <path d=\"M120-120v-720h720v720H120Zm60-500h600v-160H180v160Zm220 220h160v-160H400v160Zm0 220h160v-160H400v160ZM180-400h160v-160H180v160Zm440 0h160v-160H620v160ZM180-180h160v-160H180v160Zm440 0h160v-160H620v160Z\"/>\n",
              "  </svg>\n",
              "    </button>\n",
              "\n",
              "  <style>\n",
              "    .colab-df-container {\n",
              "      display:flex;\n",
              "      gap: 12px;\n",
              "    }\n",
              "\n",
              "    .colab-df-convert {\n",
              "      background-color: #E8F0FE;\n",
              "      border: none;\n",
              "      border-radius: 50%;\n",
              "      cursor: pointer;\n",
              "      display: none;\n",
              "      fill: #1967D2;\n",
              "      height: 32px;\n",
              "      padding: 0 0 0 0;\n",
              "      width: 32px;\n",
              "    }\n",
              "\n",
              "    .colab-df-convert:hover {\n",
              "      background-color: #E2EBFA;\n",
              "      box-shadow: 0px 1px 2px rgba(60, 64, 67, 0.3), 0px 1px 3px 1px rgba(60, 64, 67, 0.15);\n",
              "      fill: #174EA6;\n",
              "    }\n",
              "\n",
              "    .colab-df-buttons div {\n",
              "      margin-bottom: 4px;\n",
              "    }\n",
              "\n",
              "    [theme=dark] .colab-df-convert {\n",
              "      background-color: #3B4455;\n",
              "      fill: #D2E3FC;\n",
              "    }\n",
              "\n",
              "    [theme=dark] .colab-df-convert:hover {\n",
              "      background-color: #434B5C;\n",
              "      box-shadow: 0px 1px 3px 1px rgba(0, 0, 0, 0.15);\n",
              "      filter: drop-shadow(0px 1px 2px rgba(0, 0, 0, 0.3));\n",
              "      fill: #FFFFFF;\n",
              "    }\n",
              "  </style>\n",
              "\n",
              "    <script>\n",
              "      const buttonEl =\n",
              "        document.querySelector('#df-49f1cab8-c3a1-4c9a-a532-344064257135 button.colab-df-convert');\n",
              "      buttonEl.style.display =\n",
              "        google.colab.kernel.accessAllowed ? 'block' : 'none';\n",
              "\n",
              "      async function convertToInteractive(key) {\n",
              "        const element = document.querySelector('#df-49f1cab8-c3a1-4c9a-a532-344064257135');\n",
              "        const dataTable =\n",
              "          await google.colab.kernel.invokeFunction('convertToInteractive',\n",
              "                                                    [key], {});\n",
              "        if (!dataTable) return;\n",
              "\n",
              "        const docLinkHtml = 'Like what you see? Visit the ' +\n",
              "          '<a target=\"_blank\" href=https://colab.research.google.com/notebooks/data_table.ipynb>data table notebook</a>'\n",
              "          + ' to learn more about interactive tables.';\n",
              "        element.innerHTML = '';\n",
              "        dataTable['output_type'] = 'display_data';\n",
              "        await google.colab.output.renderOutput(dataTable, element);\n",
              "        const docLink = document.createElement('div');\n",
              "        docLink.innerHTML = docLinkHtml;\n",
              "        element.appendChild(docLink);\n",
              "      }\n",
              "    </script>\n",
              "  </div>\n",
              "\n",
              "\n",
              "<div id=\"df-793ba298-f228-49b4-9829-4f7be142e840\">\n",
              "  <button class=\"colab-df-quickchart\" onclick=\"quickchart('df-793ba298-f228-49b4-9829-4f7be142e840')\"\n",
              "            title=\"Suggest charts\"\n",
              "            style=\"display:none;\">\n",
              "\n",
              "<svg xmlns=\"http://www.w3.org/2000/svg\" height=\"24px\"viewBox=\"0 0 24 24\"\n",
              "     width=\"24px\">\n",
              "    <g>\n",
              "        <path d=\"M19 3H5c-1.1 0-2 .9-2 2v14c0 1.1.9 2 2 2h14c1.1 0 2-.9 2-2V5c0-1.1-.9-2-2-2zM9 17H7v-7h2v7zm4 0h-2V7h2v10zm4 0h-2v-4h2v4z\"/>\n",
              "    </g>\n",
              "</svg>\n",
              "  </button>\n",
              "\n",
              "<style>\n",
              "  .colab-df-quickchart {\n",
              "      --bg-color: #E8F0FE;\n",
              "      --fill-color: #1967D2;\n",
              "      --hover-bg-color: #E2EBFA;\n",
              "      --hover-fill-color: #174EA6;\n",
              "      --disabled-fill-color: #AAA;\n",
              "      --disabled-bg-color: #DDD;\n",
              "  }\n",
              "\n",
              "  [theme=dark] .colab-df-quickchart {\n",
              "      --bg-color: #3B4455;\n",
              "      --fill-color: #D2E3FC;\n",
              "      --hover-bg-color: #434B5C;\n",
              "      --hover-fill-color: #FFFFFF;\n",
              "      --disabled-bg-color: #3B4455;\n",
              "      --disabled-fill-color: #666;\n",
              "  }\n",
              "\n",
              "  .colab-df-quickchart {\n",
              "    background-color: var(--bg-color);\n",
              "    border: none;\n",
              "    border-radius: 50%;\n",
              "    cursor: pointer;\n",
              "    display: none;\n",
              "    fill: var(--fill-color);\n",
              "    height: 32px;\n",
              "    padding: 0;\n",
              "    width: 32px;\n",
              "  }\n",
              "\n",
              "  .colab-df-quickchart:hover {\n",
              "    background-color: var(--hover-bg-color);\n",
              "    box-shadow: 0 1px 2px rgba(60, 64, 67, 0.3), 0 1px 3px 1px rgba(60, 64, 67, 0.15);\n",
              "    fill: var(--button-hover-fill-color);\n",
              "  }\n",
              "\n",
              "  .colab-df-quickchart-complete:disabled,\n",
              "  .colab-df-quickchart-complete:disabled:hover {\n",
              "    background-color: var(--disabled-bg-color);\n",
              "    fill: var(--disabled-fill-color);\n",
              "    box-shadow: none;\n",
              "  }\n",
              "\n",
              "  .colab-df-spinner {\n",
              "    border: 2px solid var(--fill-color);\n",
              "    border-color: transparent;\n",
              "    border-bottom-color: var(--fill-color);\n",
              "    animation:\n",
              "      spin 1s steps(1) infinite;\n",
              "  }\n",
              "\n",
              "  @keyframes spin {\n",
              "    0% {\n",
              "      border-color: transparent;\n",
              "      border-bottom-color: var(--fill-color);\n",
              "      border-left-color: var(--fill-color);\n",
              "    }\n",
              "    20% {\n",
              "      border-color: transparent;\n",
              "      border-left-color: var(--fill-color);\n",
              "      border-top-color: var(--fill-color);\n",
              "    }\n",
              "    30% {\n",
              "      border-color: transparent;\n",
              "      border-left-color: var(--fill-color);\n",
              "      border-top-color: var(--fill-color);\n",
              "      border-right-color: var(--fill-color);\n",
              "    }\n",
              "    40% {\n",
              "      border-color: transparent;\n",
              "      border-right-color: var(--fill-color);\n",
              "      border-top-color: var(--fill-color);\n",
              "    }\n",
              "    60% {\n",
              "      border-color: transparent;\n",
              "      border-right-color: var(--fill-color);\n",
              "    }\n",
              "    80% {\n",
              "      border-color: transparent;\n",
              "      border-right-color: var(--fill-color);\n",
              "      border-bottom-color: var(--fill-color);\n",
              "    }\n",
              "    90% {\n",
              "      border-color: transparent;\n",
              "      border-bottom-color: var(--fill-color);\n",
              "    }\n",
              "  }\n",
              "</style>\n",
              "\n",
              "  <script>\n",
              "    async function quickchart(key) {\n",
              "      const quickchartButtonEl =\n",
              "        document.querySelector('#' + key + ' button');\n",
              "      quickchartButtonEl.disabled = true;  // To prevent multiple clicks.\n",
              "      quickchartButtonEl.classList.add('colab-df-spinner');\n",
              "      try {\n",
              "        const charts = await google.colab.kernel.invokeFunction(\n",
              "            'suggestCharts', [key], {});\n",
              "      } catch (error) {\n",
              "        console.error('Error during call to suggestCharts:', error);\n",
              "      }\n",
              "      quickchartButtonEl.classList.remove('colab-df-spinner');\n",
              "      quickchartButtonEl.classList.add('colab-df-quickchart-complete');\n",
              "    }\n",
              "    (() => {\n",
              "      let quickchartButtonEl =\n",
              "        document.querySelector('#df-793ba298-f228-49b4-9829-4f7be142e840 button');\n",
              "      quickchartButtonEl.style.display =\n",
              "        google.colab.kernel.accessAllowed ? 'block' : 'none';\n",
              "    })();\n",
              "  </script>\n",
              "</div>\n",
              "\n",
              "  <div id=\"id_974b50bf-8c89-4b90-a75f-15d6f196af4f\">\n",
              "    <style>\n",
              "      .colab-df-generate {\n",
              "        background-color: #E8F0FE;\n",
              "        border: none;\n",
              "        border-radius: 50%;\n",
              "        cursor: pointer;\n",
              "        display: none;\n",
              "        fill: #1967D2;\n",
              "        height: 32px;\n",
              "        padding: 0 0 0 0;\n",
              "        width: 32px;\n",
              "      }\n",
              "\n",
              "      .colab-df-generate:hover {\n",
              "        background-color: #E2EBFA;\n",
              "        box-shadow: 0px 1px 2px rgba(60, 64, 67, 0.3), 0px 1px 3px 1px rgba(60, 64, 67, 0.15);\n",
              "        fill: #174EA6;\n",
              "      }\n",
              "\n",
              "      [theme=dark] .colab-df-generate {\n",
              "        background-color: #3B4455;\n",
              "        fill: #D2E3FC;\n",
              "      }\n",
              "\n",
              "      [theme=dark] .colab-df-generate:hover {\n",
              "        background-color: #434B5C;\n",
              "        box-shadow: 0px 1px 3px 1px rgba(0, 0, 0, 0.15);\n",
              "        filter: drop-shadow(0px 1px 2px rgba(0, 0, 0, 0.3));\n",
              "        fill: #FFFFFF;\n",
              "      }\n",
              "    </style>\n",
              "    <button class=\"colab-df-generate\" onclick=\"generateWithVariable('df')\"\n",
              "            title=\"Generate code using this dataframe.\"\n",
              "            style=\"display:none;\">\n",
              "\n",
              "  <svg xmlns=\"http://www.w3.org/2000/svg\" height=\"24px\"viewBox=\"0 0 24 24\"\n",
              "       width=\"24px\">\n",
              "    <path d=\"M7,19H8.4L18.45,9,17,7.55,7,17.6ZM5,21V16.75L18.45,3.32a2,2,0,0,1,2.83,0l1.4,1.43a1.91,1.91,0,0,1,.58,1.4,1.91,1.91,0,0,1-.58,1.4L9.25,21ZM18.45,9,17,7.55Zm-12,3A5.31,5.31,0,0,0,4.9,8.1,5.31,5.31,0,0,0,1,6.5,5.31,5.31,0,0,0,4.9,4.9,5.31,5.31,0,0,0,6.5,1,5.31,5.31,0,0,0,8.1,4.9,5.31,5.31,0,0,0,12,6.5,5.46,5.46,0,0,0,6.5,12Z\"/>\n",
              "  </svg>\n",
              "    </button>\n",
              "    <script>\n",
              "      (() => {\n",
              "      const buttonEl =\n",
              "        document.querySelector('#id_974b50bf-8c89-4b90-a75f-15d6f196af4f button.colab-df-generate');\n",
              "      buttonEl.style.display =\n",
              "        google.colab.kernel.accessAllowed ? 'block' : 'none';\n",
              "\n",
              "      buttonEl.onclick = () => {\n",
              "        google.colab.notebook.generateWithVariable('df');\n",
              "      }\n",
              "      })();\n",
              "    </script>\n",
              "  </div>\n",
              "\n",
              "    </div>\n",
              "  </div>\n"
            ],
            "text/plain": [
              "                                                   words  \\\n",
              "0      خانم نزهت‌الدوله گرچه تا به حال سه تا شوهر کرد...   \n",
              "1      خانم نزهت‌الدوله گرچه تا به حال سه تا شوهر کرد...   \n",
              "2                     تو به من مجال دادی تا پروانه شوم .   \n",
              "3                     تو به من مجال دادی تا پروانه شوم .   \n",
              "4      هر زمان این غریزه و فطرت و رشد سنی و عقلی و اج...   \n",
              "...                                                  ...   \n",
              "32724  روسیه به زودی برای عمل به تعهدهای خود به اروپا...   \n",
              "32725  منازعه و مشاجرۀ پدر و مادر اقدام ناخوشایندی اس...   \n",
              "32726  منازعه و مشاجرۀ پدر و مادر اقدام ناخوشایندی اس...   \n",
              "32727  منازعه و مشاجرۀ پدر و مادر اقدام ناخوشایندی اس...   \n",
              "32728  منازعه و مشاجرۀ پدر و مادر اقدام ناخوشایندی اس...   \n",
              "\n",
              "                                            frameNetTags  \\\n",
              "0      [O, O, O, O, O, O, O, O, O, O, O, O, O, O, O, ...   \n",
              "1      [جستجو_کننده, جستجو_کننده, O, O, O, O, O, O, O...   \n",
              "2      [مرجع_ذیصلاح, قهرمان, قهرمان, O, O, عمل, عمل, ...   \n",
              "3                   [O, O, O, O, O, O, دسته_نهایی, O, O]   \n",
              "4      [O, O, موجودیت, موجودیت, موجودیت, موجودیت, موج...   \n",
              "...                                                  ...   \n",
              "32724  [بحث‌کنندگان, زمان, زمان, مسئله, مسئله, مسئله,...   \n",
              "32725  [O, O, O, بحث‌کنندگان, بحث‌کنندگان, بحث‌کنندگا...   \n",
              "32726  [روش, روش, روش, عامل, عامل, عامل, O, توضیح, O,...   \n",
              "32727  [O, O, O, O, O, O, O, O, O, O, شاخص, شاخص, O, ...   \n",
              "32728  [O, O, O, O, O, O, O, O, O, O, O, O, O, O, O, ...   \n",
              "\n",
              "                                            propBankTags  \n",
              "0      [O, O, O, O, O, O, O, O, O, O, O, O, O, O, O, ...  \n",
              "1      [O, O, O, O, O, O, O, O, O, O, O, O, O, O, O, ...  \n",
              "2            [B-A0, B-A2, O, B-NVE, B-V, B-PRP, O, O, O]  \n",
              "3                       [O, O, O, O, O, O, B-A2, B-V, O]  \n",
              "4      [O, O, O, B-A2, O, O, O, O, O, O, O, O, O, B-N...  \n",
              "...                                                  ...  \n",
              "32724  [B-A0, B-TMP, O, B-A2, O, O, O, O, O, O, O, O,...  \n",
              "32725  [B-N-V, O, O, B-A0, B-A1, O, O, O, O, O, O, O,...  \n",
              "32726  [B-A1, O, O, O, O, O, B-A2, O, B-V, O, O, O, O...  \n",
              "32727  [O, O, O, O, O, O, O, O, O, O, B-Arg2_B1, O, B...  \n",
              "32728  [O, O, O, O, O, O, O, O, O, O, O, O, O, B-N-V,...  \n",
              "\n",
              "[32729 rows x 3 columns]"
            ]
          },
          "execution_count": 14,
          "metadata": {},
          "output_type": "execute_result"
        }
      ],
      "source": [
        "df"
      ]
    },
    {
      "cell_type": "code",
      "execution_count": null,
      "metadata": {
        "id": "TdE8Tp_Jv2Ly"
      },
      "outputs": [],
      "source": [
        "train_data, temp_data = train_test_split(df, test_size=0.2, random_state=42)\n",
        "validation_data, test_data = train_test_split(temp_data, test_size=0.5, random_state=42)\n",
        "print(\"Training set size:\", len(train_data))\n",
        "print(\"Validation set size:\", len(validation_data))\n",
        "print(\"Test set size:\", len(test_data))"
      ]
    },
    {
      "cell_type": "code",
      "execution_count": null,
      "metadata": {
        "colab": {
          "base_uri": "https://localhost:8080/",
          "height": 205,
          "referenced_widgets": [
            "1c794a27e1914c609d7cb87ab9bf9dd7",
            "dc3603a432e04c46857c565cc642045b",
            "c71b52da515a499c9527144dd7aac9f8",
            "dc5579cbc89543ee9427ef5c05e2ebab",
            "5558d9a705db4ae196a77ac71cee4654",
            "730f31868b4d419d89bc14cd94ee928e",
            "851a5328d1014b8bac5122b653cdfdf0",
            "d8a290b6eb524855b9194a6bcc95fee1",
            "4e91af21d6394e6fbbb4a3e6954c7812",
            "fdb2ea9b157641da951242a3920cc555",
            "83eee5948d494d24af66e1f0a228b380",
            "1c55f32213d34f5684960437747aa247",
            "c41d34a1b791446da6f96ad4a58b9ad6",
            "b5461030023f463d9f2744eea5e362a4",
            "9978481ff4644c2a92c216ef51288013",
            "6572ccc4d17d480ba5c444ad1be699f6",
            "559c6fb7b0ec4934a43cf9eace659f07",
            "342ddaa7c4244639ac902f990d618899",
            "cb7c7100bdc642a092625130e35ec5fc",
            "f20b3ae5c8234289804ab0c1a2a7d378",
            "93fc335f8f4b435ba195ca5df6ff1cf0",
            "264b8622f82c41778ac2075069b5df16"
          ]
        },
        "id": "gAljfzJSZvPE",
        "outputId": "89b25dc2-48fa-4376-c7b4-9d463e10b756"
      },
      "outputs": [
        {
          "name": "stderr",
          "output_type": "stream",
          "text": [
            "/usr/local/lib/python3.11/dist-packages/huggingface_hub/utils/_auth.py:94: UserWarning: \n",
            "The secret `HF_TOKEN` does not exist in your Colab secrets.\n",
            "To authenticate with the Hugging Face Hub, create a token in your settings tab (https://huggingface.co/settings/tokens), set it as secret in your Google Colab and restart your session.\n",
            "You will be able to reuse this secret in all of your notebooks.\n",
            "Please note that authentication is recommended but still optional to access public models or datasets.\n",
            "  warnings.warn(\n"
          ]
        },
        {
          "data": {
            "application/vnd.jupyter.widget-view+json": {
              "model_id": "1c794a27e1914c609d7cb87ab9bf9dd7",
              "version_major": 2,
              "version_minor": 0
            },
            "text/plain": [
              "config.json:   0%|          | 0.00/434 [00:00<?, ?B/s]"
            ]
          },
          "metadata": {},
          "output_type": "display_data"
        },
        {
          "data": {
            "application/vnd.jupyter.widget-view+json": {
              "model_id": "1c55f32213d34f5684960437747aa247",
              "version_major": 2,
              "version_minor": 0
            },
            "text/plain": [
              "vocab.txt:   0%|          | 0.00/1.22M [00:00<?, ?B/s]"
            ]
          },
          "metadata": {},
          "output_type": "display_data"
        }
      ],
      "source": [
        "from transformers import AutoTokenizer, AutoModelForMaskedLM\n",
        "tokenizer = AutoTokenizer.from_pretrained(\"HooshvareLab/bert-base-parsbert-uncased\")"
      ]
    },
    {
      "cell_type": "code",
      "execution_count": null,
      "metadata": {
        "colab": {
          "base_uri": "https://localhost:8080/"
        },
        "id": "W57ljReCWqu7",
        "outputId": "c01aae7a-ad0a-4099-b390-382c9dcc4701"
      },
      "outputs": [
        {
          "name": "stderr",
          "output_type": "stream",
          "text": [
            "<ipython-input-21-ce01e66bb15d>:1: SettingWithCopyWarning: \n",
            "A value is trying to be set on a copy of a slice from a DataFrame.\n",
            "Try using .loc[row_indexer,col_indexer] = value instead\n",
            "\n",
            "See the caveats in the documentation: https://pandas.pydata.org/pandas-docs/stable/user_guide/indexing.html#returning-a-view-versus-a-copy\n",
            "  df[\"Words\"] = df[\"words\"].apply(lambda sentence: [word.strip() for word in sentence.split(' ')])\n"
          ]
        }
      ],
      "source": [
        "df[\"Words\"] = df[\"words\"].apply(lambda sentence: [word.strip() for word in sentence.split(' ')])"
      ]
    },
    {
      "cell_type": "code",
      "execution_count": null,
      "metadata": {
        "colab": {
          "base_uri": "https://localhost:8080/",
          "height": 177,
          "referenced_widgets": [
            "b4ce55e73abb42de8ba1296b55dbe03b",
            "7711fdd0afee4f27a0cc7923ad4bee7e",
            "58b0623a4ac843a28132a9df3751dd3c",
            "d287147de42442a2b64c98c735e7435e",
            "d24f6eab00434815bf422720194cfe16",
            "157c71cf9c174a6cb704a214c45b6ef6",
            "10c94e30852c4abb91123a00f6beb153",
            "13dd2ad6457849f49093a3137201ed14",
            "fde5200e6728405a9abaca514769da35",
            "0ebd123ec59449aba6c465cf3d4d9725",
            "666608461226409fba890e7b7c79ad2e",
            "fd68531c4d344dfe863e76f5bd9ca30a",
            "8777267f5f2546cd8a59dc6adc028120",
            "4f4f120b8e474c8d82da7be7e0c51ed4",
            "556ccd28a0224964be374026a415f7d4",
            "584250f7d49f424684aec2402f0b2eef",
            "9ae931badc59475386e513fd63e8ac64",
            "cf25a4a16e1e439ea59cdd18adb06dbb",
            "574c12e5398e408087bbaf594575b6e8",
            "5430b906bbe84606930ece97bf59afb9",
            "c785594d4c21483da6090a5bc5854b54",
            "3b8620b9d06d4128a593c8906f8c7810",
            "f189d210883049dba4ee5ec9a10284dc",
            "02868bca5f5849efaf0610a222bb2745",
            "e112070f7bed42deb4491e13ecbda1ce",
            "577a5c2a4c944c7ba9bf4cd5d934f981",
            "41ebc5475ffd40dd858dccaea121bab7",
            "1c812319d6544363ab4ea2cba301c540",
            "561983a73a5a4ca3819be6a58bab571d",
            "ad46caed063945e09f3f7f985d76e048",
            "cc81a4a2dade4f66b121face522bafe1",
            "2fcdef6e5fa54d488f5c448a549c30f5",
            "d2dbc6a14e4d45969a20e5821a19ee2f",
            "7bb2def479aa4c3b9b0c22c2ed4d7e45",
            "da01c17062ef44ff89d52e2875772d52",
            "195c328815124ceabae447e09f90bea5",
            "a1f30aa1dc054058bd8a8813e01d3a17",
            "451640ceab384927a74e25f258a0204a",
            "57d170e19c0b4709b8a59875f1646439",
            "a26531d9c3df41ad99743659381d45a5",
            "16cd98fbff184c0e8e814260dc6c8db0",
            "4fe0a3ab4b3645e6b1041b6b4d2a6fff",
            "c1076cd9d5394b32a131950aeb32bbac",
            "c3d1f32c6c2e4a48a4f670914d67dab7",
            "4a0dea4ab3324419b8e995fb8fa64b7c",
            "0d534cd069b74313a09312013cfe2269",
            "57d6ede283c844de8395ade5d0ddd66c",
            "cb527a32fbc24759a9b0562efd40727b",
            "e0946db9e0714c09a8e297bd7c8fc781",
            "a89eca43b8a440079b93dd45bec7c825",
            "57d9d6c5e6c44956863ace2f440b3408",
            "7c5f46c81c0a4135bf27fd5fa49390da",
            "78a0c6621ba04c05b6dd32be1f8c5ebe",
            "448f159b16a14f198f222a7893078eaa",
            "7ecca5e693d146c980f8b64dc7b2b66b"
          ]
        },
        "id": "TK8CK9ozU-xB",
        "outputId": "15b2a1bd-2037-48c6-98e5-6e4ac404a97c"
      },
      "outputs": [
        {
          "data": {
            "application/vnd.jupyter.widget-view+json": {
              "model_id": "b4ce55e73abb42de8ba1296b55dbe03b",
              "version_major": 2,
              "version_minor": 0
            },
            "text/plain": [
              "tokenizer_config.json:   0%|          | 0.00/346 [00:00<?, ?B/s]"
            ]
          },
          "metadata": {},
          "output_type": "display_data"
        },
        {
          "data": {
            "application/vnd.jupyter.widget-view+json": {
              "model_id": "fd68531c4d344dfe863e76f5bd9ca30a",
              "version_major": 2,
              "version_minor": 0
            },
            "text/plain": [
              "config.json:   0%|          | 0.00/1.38k [00:00<?, ?B/s]"
            ]
          },
          "metadata": {},
          "output_type": "display_data"
        },
        {
          "data": {
            "application/vnd.jupyter.widget-view+json": {
              "model_id": "f189d210883049dba4ee5ec9a10284dc",
              "version_major": 2,
              "version_minor": 0
            },
            "text/plain": [
              "vocab.txt:   0%|          | 0.00/426k [00:00<?, ?B/s]"
            ]
          },
          "metadata": {},
          "output_type": "display_data"
        },
        {
          "data": {
            "application/vnd.jupyter.widget-view+json": {
              "model_id": "7bb2def479aa4c3b9b0c22c2ed4d7e45",
              "version_major": 2,
              "version_minor": 0
            },
            "text/plain": [
              "tokenizer.json:   0%|          | 0.00/1.11M [00:00<?, ?B/s]"
            ]
          },
          "metadata": {},
          "output_type": "display_data"
        },
        {
          "data": {
            "application/vnd.jupyter.widget-view+json": {
              "model_id": "4a0dea4ab3324419b8e995fb8fa64b7c",
              "version_major": 2,
              "version_minor": 0
            },
            "text/plain": [
              "special_tokens_map.json:   0%|          | 0.00/134 [00:00<?, ?B/s]"
            ]
          },
          "metadata": {},
          "output_type": "display_data"
        }
      ],
      "source": [
        "from transformers import AutoTokenizer\n",
        "tokenizer = AutoTokenizer.from_pretrained(\"HooshvareLab/bert-fa-zwnj-base-ner\")"
      ]
    },
    {
      "cell_type": "code",
      "execution_count": null,
      "metadata": {
        "colab": {
          "base_uri": "https://localhost:8080/"
        },
        "id": "c3PrqPEW8kcY",
        "outputId": "7783e2b8-6b68-44a9-b360-824f16727d1f"
      },
      "outputs": [
        {
          "data": {
            "text/plain": [
              "['[CLS]',\n",
              " 'خانم',\n",
              " 'نزه',\n",
              " '##ت',\n",
              " '[ZWNJ]',\n",
              " 'الدوله',\n",
              " 'گرچه',\n",
              " 'تا',\n",
              " 'به',\n",
              " 'حال',\n",
              " 'سه',\n",
              " 'تا',\n",
              " 'شوهر',\n",
              " 'کرده',\n",
              " 'و',\n",
              " 'شش',\n",
              " 'بار',\n",
              " 'زاییده',\n",
              " 'و',\n",
              " 'دو',\n",
              " 'تا',\n",
              " 'از',\n",
              " 'دخترهای',\n",
              " '##ش',\n",
              " 'هم',\n",
              " 'به',\n",
              " '[UNK]',\n",
              " 'داماد',\n",
              " 'فرستاده',\n",
              " '_',\n",
              " 'شده',\n",
              " '[ZWNJ]',\n",
              " 'اند',\n",
              " 'و',\n",
              " 'حالا',\n",
              " 'دیگر',\n",
              " 'برای',\n",
              " 'خودش',\n",
              " 'مادربزرگ',\n",
              " 'شده',\n",
              " '_',\n",
              " 'است',\n",
              " '،',\n",
              " 'باز',\n",
              " 'هم',\n",
              " 'عقیده',\n",
              " 'دارد',\n",
              " 'که',\n",
              " 'پیری',\n",
              " 'و',\n",
              " 'جوانی',\n",
              " 'دست',\n",
              " 'خود',\n",
              " 'آ',\n",
              " '##دم',\n",
              " 'است',\n",
              " 'و',\n",
              " 'گرچه',\n",
              " 'سر',\n",
              " 'و',\n",
              " 'همسر',\n",
              " 'و',\n",
              " 'خویشان',\n",
              " 'و',\n",
              " 'دوستان',\n",
              " 'می',\n",
              " '[ZWNJ]',\n",
              " 'گویند',\n",
              " 'که',\n",
              " 'پنجاه',\n",
              " 'سالی',\n",
              " 'دارد',\n",
              " 'ولی',\n",
              " 'هنوز',\n",
              " 'دو',\n",
              " 'دستی',\n",
              " 'به',\n",
              " 'جوانی',\n",
              " '[ZWNJ]',\n",
              " 'اش',\n",
              " 'چسبیده',\n",
              " 'و',\n",
              " 'هنوز',\n",
              " 'هم',\n",
              " 'در',\n",
              " 'جستجوی',\n",
              " 'شوهر',\n",
              " 'ایده',\n",
              " '[ZWNJ]',\n",
              " 'آ',\n",
              " '##ل',\n",
              " 'به',\n",
              " 'این',\n",
              " 'در',\n",
              " 'و',\n",
              " 'آ',\n",
              " '##ن',\n",
              " 'در',\n",
              " 'می',\n",
              " '[ZWNJ]',\n",
              " 'زند',\n",
              " '.',\n",
              " '[SEP]']"
            ]
          },
          "execution_count": 25,
          "metadata": {},
          "output_type": "execute_result"
        }
      ],
      "source": [
        "tokenized_input = tokenizer(df['words'][0].split(' '), is_split_into_words=True)\n",
        "tokenizer.convert_ids_to_tokens(tokenized_input[\"input_ids\"])"
      ]
    },
    {
      "cell_type": "code",
      "execution_count": null,
      "metadata": {
        "id": "1jRbNPH0GSxT"
      },
      "outputs": [],
      "source": [
        "def create_role_id_dictionary():\n",
        "    \"\"\"Creates a dictionary that maps PropBank roles to numerical IDs.\"\"\"\n",
        "    #roles = set()\n",
        "    frame_elements = set()\n",
        "    for _, row in df.iterrows():\n",
        "    #    prop_str = row['propBankTags']\n",
        "        framenet_str = row['frameNetTags']\n",
        "    #    roles.update(prop_str)\n",
        "        frame_elements.update(framenet_str)\n",
        "    #role_id_dict = defaultdict(int)\n",
        "    frame_id_dict = defaultdict(int)\n",
        "    index = 1\n",
        "    #for role in roles:\n",
        "    #    role_id_dict[role] = index\n",
        "    #    index += 1\n",
        "    for frame_element in frame_elements:\n",
        "        frame_id_dict[frame_element] = index\n",
        "        index += 1\n",
        "    #return role_id_dict, frame_id_dict, roles, frame_elements\n",
        "    return frame_id_dict, frame_elements"
      ]
    },
    {
      "cell_type": "code",
      "execution_count": null,
      "metadata": {
        "colab": {
          "base_uri": "https://localhost:8080/"
        },
        "id": "wlyiZZ-ILuyj",
        "outputId": "529225cc-7ffd-4818-ea7d-3bf05cdd410a"
      },
      "outputs": [
        {
          "name": "stdout",
          "output_type": "stream",
          "text": [
            "Frame2ID:defaultdict(<class 'int'>, {'اصل_و_نسب': 1, 'تاثیر': 2, 'وسیله': 3, 'هدف_رویداد': 4, 'پرداخت_کننده': 5, 'توصیف': 6, 'عامل': 7, 'عقیده': 8, 'محل_اجرا': 9, 'مالکیت': 10, 'موجود': 11, 'رویداد_مقایسه': 12, 'توصیفی': 13, 'توصیف\\u200cنما': 14, 'پذیرنده': 15, 'پدیده': 16, 'اهداکننده': 17, 'موضوع': 18, 'توصیف_گر': 19, 'قهرمان': 20, 'برگزیده': 21, 'متن': 22, 'كنش_پذیر': 23, 'فعالیت': 24, 'مدت': 25, 'مقصود': 26, 'دامنه': 27, 'بسامد': 28, 'رویداد': 29, 'شمارش': 30, 'فرستنده': 31, 'دسته_نهایی': 32, 'تشخیص\\u200cگر': 33, 'مقصد': 34, 'کنشگر': 35, 'درجه': 36, 'جریمه': 37, 'رویداد_پیش\\u200cزمینه': 38, 'O': 39, 'مورد_1': 40, 'کاربرد': 41, 'شخص': 42, 'مرجع_ذیصلاح': 43, 'علت': 44, 'محصول': 45, 'حسگر': 46, 'مسافر': 47, 'محدوده': 48, 'وضعیت_نهایی': 49, 'مکان': 50, 'مدت_زمان': 51, 'بارش': 52, 'کالا': 53, 'مجری1': 54, 'هدف': 55, 'پیام': 56, 'گیرنده': 57, 'جستجو_کننده': 58, 'تجربه\\u200cگر': 59, 'مالک': 60, 'مورد_2': 61, 'زمان': 62, 'توصیفگر': 63, 'پارامتر': 64, 'رقابت': 65, 'گوینده': 66, 'الزام': 67, 'توصیف\\u200cگر': 68, 'طرف_متأثر': 69, 'کیفیت_نهایی': 70, 'مبدأ': 71, 'هدف_ذاتی': 72, 'ابزار': 73, 'مقوله': 74, 'شیوه': 75, 'عمل': 76, 'شریک_اول': 77, 'پیکر': 78, 'موجودیت_خلق_شده': 79, 'موجودیت_جستجوشده': 80, 'مورد': 81, 'نام': 82, 'موجودیت': 83, 'کنش\\u200cپذیر': 84, 'کنش': 85, 'رویداد_همزمان': 86, 'مجری2': 87, 'محل': 88, 'مسیر': 89, 'توزیع\\u200cکننده': 90, 'محتوا': 91})\n",
            "Frame Elements:{'اصل_و_نسب', 'تاثیر', 'وسیله', 'هدف_رویداد', 'پرداخت_کننده', 'توصیف', 'عامل', 'عقیده', 'محل_اجرا', 'مالکیت', 'موجود', 'رویداد_مقایسه', 'توصیفی', 'توصیف\\u200cنما', 'پذیرنده', 'پدیده', 'اهداکننده', 'موضوع', 'توصیف_گر', 'قهرمان', 'برگزیده', 'متن', 'كنش_پذیر', 'فعالیت', 'مدت', 'مقصود', 'دامنه', 'بسامد', 'رویداد', 'شمارش', 'فرستنده', 'دسته_نهایی', 'تشخیص\\u200cگر', 'مقصد', 'کنشگر', 'درجه', 'جریمه', 'رویداد_پیش\\u200cزمینه', 'O', 'مورد_1', 'کاربرد', 'شخص', 'مرجع_ذیصلاح', 'علت', 'محصول', 'حسگر', 'مسافر', 'محدوده', 'وضعیت_نهایی', 'مکان', 'مدت_زمان', 'بارش', 'کالا', 'مجری1', 'هدف', 'پیام', 'گیرنده', 'جستجو_کننده', 'تجربه\\u200cگر', 'مالک', 'مورد_2', 'زمان', 'توصیفگر', 'پارامتر', 'رقابت', 'گوینده', 'الزام', 'توصیف\\u200cگر', 'طرف_متأثر', 'کیفیت_نهایی', 'مبدأ', 'هدف_ذاتی', 'ابزار', 'مقوله', 'شیوه', 'عمل', 'شریک_اول', 'پیکر', 'موجودیت_خلق_شده', 'موجودیت_جستجوشده', 'مورد', 'نام', 'موجودیت', 'کنش\\u200cپذیر', 'کنش', 'رویداد_همزمان', 'مجری2', 'محل', 'مسیر', 'توزیع\\u200cکننده', 'محتوا'}\n"
          ]
        }
      ],
      "source": [
        "frame2id, frame_elements = create_role_id_dictionary()\n",
        "print(\"Frame2ID:\" + str(frame2id))\n",
        "print(\"Frame Elements:\" + str(frame_elements))"
      ]
    },
    {
      "cell_type": "code",
      "execution_count": null,
      "metadata": {
        "colab": {
          "base_uri": "https://localhost:8080/"
        },
        "id": "4EuIUNXWmex_",
        "outputId": "2de91d3e-72fc-470c-ae86-02eb619e4526"
      },
      "outputs": [
        {
          "name": "stderr",
          "output_type": "stream",
          "text": [
            "<ipython-input-28-b2dc9e216140>:1: SettingWithCopyWarning: \n",
            "A value is trying to be set on a copy of a slice from a DataFrame.\n",
            "Try using .loc[row_indexer,col_indexer] = value instead\n",
            "\n",
            "See the caveats in the documentation: https://pandas.pydata.org/pandas-docs/stable/user_guide/indexing.html#returning-a-view-versus-a-copy\n",
            "  df['frameNetTags'] = df['frameNetTags'].apply(lambda label : [frame2id[l] for l in label])\n"
          ]
        }
      ],
      "source": [
        "df['frameNetTags'] = df['frameNetTags'].apply(lambda label : [frame2id[l] for l in label])"
      ]
    },
    {
      "cell_type": "code",
      "execution_count": null,
      "metadata": {
        "id": "oQCDd8yUznhH"
      },
      "outputs": [],
      "source": [
        "def tokenize_and_align_labels(examples):\n",
        "    tokenized_inputs = tokenizer(examples[\"Words\"], examples[\"propBankTags\"], truncation=True, padding=True, is_split_into_words=True)\n",
        "    labels = []\n",
        "    for i, label in enumerate(examples[f\"frameNetTags\"]):\n",
        "        word_ids = tokenized_inputs.word_ids(batch_index=i)\n",
        "        previous_word_idx = None\n",
        "        label_ids = []\n",
        "        for word_idx in word_ids:\n",
        "            if word_idx is None:\n",
        "                label_ids.append(-100)\n",
        "            elif word_idx != previous_word_idx:\n",
        "                label_ids.append(label[word_idx])\n",
        "            else:\n",
        "                label_ids.append(-100)\n",
        "            previous_word_idx = word_idx\n",
        "        labels.append(label_ids)\n",
        "    tokenized_inputs[\"labels\"] = labels\n",
        "    return tokenized_inputs"
      ]
    },
    {
      "cell_type": "code",
      "execution_count": null,
      "metadata": {
        "colab": {
          "base_uri": "https://localhost:8080/",
          "height": 49,
          "referenced_widgets": [
            "f5201133016e4f1596f08cccca73bb16",
            "e626744b475d44a8805432ef82898132",
            "0e00b575543f4e3ba21794e4496cadef",
            "2a3e4c30125d409a8ef89fd78a24250f",
            "a12c514ec7fd496aa78ffca3e19fb496",
            "25972535a07a4641bac7ca891b612a45",
            "9e60d44a2df349dc910c7445eb7ad438",
            "d7466963abb44986a62a8e40f5e457b0",
            "faaaefb80bc64450b3820d3601c83d8a",
            "6f8eca48c975474aa8edd817b979e1c5",
            "7db0f337f1c04559b4e3ca0f0a8cd50f"
          ]
        },
        "id": "9CFTLgIl0MbT",
        "outputId": "6c208848-8a60-4817-95bb-62782e8d5fa9"
      },
      "outputs": [
        {
          "data": {
            "application/vnd.jupyter.widget-view+json": {
              "model_id": "f5201133016e4f1596f08cccca73bb16",
              "version_major": 2,
              "version_minor": 0
            },
            "text/plain": [
              "Map:   0%|          | 0/100 [00:00<?, ? examples/s]"
            ]
          },
          "metadata": {},
          "output_type": "display_data"
        }
      ],
      "source": [
        "from datasets import Dataset\n",
        "dataset = Dataset.from_pandas(df)\n",
        "tokenized_data = dataset.map(tokenize_and_align_labels, batched=True)"
      ]
    },
    {
      "cell_type": "code",
      "execution_count": null,
      "metadata": {
        "id": "x6V3xKXrnxpv"
      },
      "outputs": [],
      "source": [
        "tokenized_data = tokenized_data.train_test_split(test_size=0.3)"
      ]
    },
    {
      "cell_type": "code",
      "execution_count": null,
      "metadata": {
        "colab": {
          "base_uri": "https://localhost:8080/",
          "height": 49,
          "referenced_widgets": [
            "c2579c04b8264226a132c2835f1cb4ac",
            "502f8ab216364293af5fe572a549b1c0",
            "75cab9e1018e4ac9b2e01709be8cb5ee",
            "f1e8f88451234812a26e0a915e6fd0da",
            "7979c41a23e54c32bac22f82cc29dc9c",
            "df88700a8fa842af8e6227f4a3ce1cb3",
            "0c3637a84d0f4d6f8d8b8f376e3fcb8e",
            "3c1a4edbae6240108cb57f25c4d21f59",
            "0239da9b9be14656acf82853e8ce480c",
            "51904bb415104411a47d28e7dbc75e83",
            "ae96cb9055b54135903a21cc5bb41112"
          ]
        },
        "id": "9WOsZoa1zXGU",
        "outputId": "2d759511-a716-43f9-f117-86bd7e4f9d05"
      },
      "outputs": [
        {
          "data": {
            "application/vnd.jupyter.widget-view+json": {
              "model_id": "c2579c04b8264226a132c2835f1cb4ac",
              "version_major": 2,
              "version_minor": 0
            },
            "text/plain": [
              "Downloading builder script:   0%|          | 0.00/6.34k [00:00<?, ?B/s]"
            ]
          },
          "metadata": {},
          "output_type": "display_data"
        }
      ],
      "source": [
        "import evaluate\n",
        "seqeval = evaluate.load(\"seqeval\")"
      ]
    },
    {
      "cell_type": "code",
      "execution_count": null,
      "metadata": {
        "colab": {
          "base_uri": "https://localhost:8080/",
          "height": 49,
          "referenced_widgets": [
            "0059f894920e40a9a7520be6c697dc21",
            "e1315f7345e94a59ba81c47b741d6718",
            "29b1173b83f74485b4a07225c71cf564",
            "b97de05170bb4a34ba77408287791c1f",
            "51708daaf6834cefafa796506c016a36",
            "b1a00bac98e140cba604a6b8746b057a",
            "9b3151d42757496e9715fb90404fc03d",
            "fde228fba470495fbae6afb5748e0674",
            "1fad4d22da024cf9b074597c70473a88",
            "f462fd39f07544cc9c58f7eacc00eb4b",
            "17bda90ffbad4f2287c1eaa7e05a9dd1"
          ]
        },
        "id": "PvTczx7yz6wE",
        "outputId": "426f7c4d-cb6c-4fef-b54d-8af4a67a485a"
      },
      "outputs": [
        {
          "data": {
            "application/vnd.jupyter.widget-view+json": {
              "model_id": "0059f894920e40a9a7520be6c697dc21",
              "version_major": 2,
              "version_minor": 0
            },
            "text/plain": [
              "Downloading builder script:   0%|          | 0.00/4.20k [00:00<?, ?B/s]"
            ]
          },
          "metadata": {},
          "output_type": "display_data"
        }
      ],
      "source": [
        "accuracy = evaluate.load(\"accuracy\")"
      ]
    },
    {
      "cell_type": "code",
      "execution_count": null,
      "metadata": {
        "id": "EaR1Q3gHyqlY"
      },
      "outputs": [],
      "source": [
        "from transformers import DataCollatorForTokenClassification\n",
        "data_collator = DataCollatorForTokenClassification(tokenizer=tokenizer)"
      ]
    },
    {
      "cell_type": "code",
      "execution_count": null,
      "metadata": {
        "colab": {
          "base_uri": "https://localhost:8080/",
          "height": 170,
          "referenced_widgets": [
            "5dd907f656b3444d8d99a9adea8d5fd6",
            "7b670567118f41819a8c8aad6ef30fa5",
            "401e643560104609b7ee5de979d9d5cb",
            "a5b65af92dcf40678a58602aa7cb1ae1",
            "d38b78938f7e4b0a9415be2bb85d53fa",
            "98e3e5ac55da457badf0e6d4c73bf930",
            "754ffd6b933f4ea8b71efaa0fb4e117f",
            "fee73bd824c747229810c5a2ae8bb25e",
            "08443fc6b17f4d6e84bd2c9f06662cc6",
            "762afb84f846419fb8b0039d3919382c",
            "f8610f5be4b34e12b3067c93f60f5a08",
            "55216909ecff42c3968944c052b7a54f",
            "1a855ef4a03c4a9698ba92379ea851b7",
            "5a9144e12dca475cad68222166b5eb18",
            "d1ab0e498f9a4562b1acc5dc6fbaf060",
            "a34830decf234e7790eb2056a7626883",
            "a2d7c11d12cc4ceb8e01562b33a4d773",
            "17444bdecda3485991898ba8ff82322a",
            "867e66626f4a4385be1dda215e955a2b",
            "9dc69133453844d28bdf0df62c40335e",
            "521b1bd307c94accb1a410be3bd2cf09",
            "c8788ab508494fb48eb9db77eafd621d"
          ]
        },
        "id": "iHF8Y5I9otVy",
        "outputId": "5443376d-80ee-4dd9-dd13-8ae41e46d477"
      },
      "outputs": [
        {
          "data": {
            "application/vnd.jupyter.widget-view+json": {
              "model_id": "5dd907f656b3444d8d99a9adea8d5fd6",
              "version_major": 2,
              "version_minor": 0
            },
            "text/plain": [
              "pytorch_model.bin:   0%|          | 0.00/471M [00:00<?, ?B/s]"
            ]
          },
          "metadata": {},
          "output_type": "display_data"
        },
        {
          "data": {
            "application/vnd.jupyter.widget-view+json": {
              "model_id": "55216909ecff42c3968944c052b7a54f",
              "version_major": 2,
              "version_minor": 0
            },
            "text/plain": [
              "model.safetensors:   0%|          | 0.00/471M [00:00<?, ?B/s]"
            ]
          },
          "metadata": {},
          "output_type": "display_data"
        },
        {
          "name": "stderr",
          "output_type": "stream",
          "text": [
            "Some weights of BertForTokenClassification were not initialized from the model checkpoint at HooshvareLab/bert-fa-zwnj-base-ner and are newly initialized because the shapes did not match:\n",
            "- classifier.weight: found shape torch.Size([21, 768]) in the checkpoint and torch.Size([92, 768]) in the model instantiated\n",
            "- classifier.bias: found shape torch.Size([21]) in the checkpoint and torch.Size([92]) in the model instantiated\n",
            "You should probably TRAIN this model on a down-stream task to be able to use it for predictions and inference.\n"
          ]
        }
      ],
      "source": [
        "from transformers import AutoModelForTokenClassification\n",
        "model = AutoModelForTokenClassification.from_pretrained('HooshvareLab/bert-fa-zwnj-base-ner', num_labels=len(frame2id)+1,ignore_mismatched_sizes=True)"
      ]
    },
    {
      "cell_type": "code",
      "execution_count": null,
      "metadata": {
        "id": "sy_diAZc1qNe"
      },
      "outputs": [],
      "source": [
        "label2id = dict(frame2id)"
      ]
    },
    {
      "cell_type": "code",
      "execution_count": null,
      "metadata": {
        "id": "exUhcGciVpDM"
      },
      "outputs": [],
      "source": [
        "id2label = dict((v,k) for k,v in label2id.items())"
      ]
    },
    {
      "cell_type": "code",
      "execution_count": null,
      "metadata": {
        "id": "BAkZc0LQ5cd5"
      },
      "outputs": [],
      "source": [
        "label_list = list(frame2id.keys())\n",
        "from sklearn.metrics import classification_report, precision_recall_fscore_support\n",
        "from sklearn.preprocessing import MultiLabelBinarizer\n",
        "\n",
        "from sklearn.metrics import classification_report\n",
        "def compute_metrics(p):\n",
        "    predictions, labels = p\n",
        "    predictions = np.argmax(predictions, axis=2)\n",
        "\n",
        "    true_predictions = [\n",
        "        [id2label[p] for (p, l) in zip(prediction, label) if l != -100]\n",
        "        for prediction, label in zip(predictions, labels)\n",
        "    ]\n",
        "    true_labels = [\n",
        "        [id2label[l] for (p, l) in zip(prediction, label) if l != -100]\n",
        "        for prediction, label in zip(predictions, labels)\n",
        "    ]\n",
        "    true_labels_bin = list(np.concatenate(true_labels))\n",
        "    pred_labels_bin = list(np.concatenate(true_predictions))\n",
        "    print(true_labels_bin)\n",
        "    print(pred_labels_bin)\n",
        "    report = classification_report(true_labels_bin, pred_labels_bin)\n",
        "    metrics = precision_recall_fscore_support(true_labels_bin, pred_labels_bin, average='weighted')\n",
        "    accuracy = metrics[0]\n",
        "    precision = metrics[1]\n",
        "    recall = metrics[2]\n",
        "    f1_score = metrics[3]\n",
        "    return {\n",
        "        \"precision\": precision,\n",
        "        \"recall\": recall,\n",
        "        \"f1\": f1_score,\n",
        "        \"accuracy\": accuracy\n",
        "    }"
      ]
    },
    {
      "cell_type": "code",
      "execution_count": null,
      "metadata": {
        "colab": {
          "base_uri": "https://localhost:8080/",
          "height": 72
        },
        "id": "vD9uyLVYGQIa",
        "outputId": "5676ddb0-f7ee-4558-97ba-f3b991c46857"
      },
      "outputs": [
        {
          "name": "stderr",
          "output_type": "stream",
          "text": [
            "/usr/local/lib/python3.11/dist-packages/transformers/training_args.py:1594: FutureWarning: `evaluation_strategy` is deprecated and will be removed in version 4.46 of 🤗 Transformers. Use `eval_strategy` instead\n",
            "  warnings.warn(\n"
          ]
        }
      ],
      "source": [
        "training_args = TrainingArguments(\n",
        "    output_dir=\"bert-token-classification\",\n",
        "    learning_rate=0.1,\n",
        "    per_device_train_batch_size=16,\n",
        "    per_device_eval_batch_size=16,\n",
        "    num_train_epochs=1,\n",
        "    evaluation_strategy=\"epoch\",\n",
        "    weight_decay=0.01,\n",
        "    save_strategy=\"no\",\n",
        "    #use_cpu=True,\n",
        "    #no_cuda=True,\n",
        "    #load_best_model_at_end=True, # uncomment if you wanna save\n",
        ")"
      ]
    },
    {
      "cell_type": "code",
      "execution_count": null,
      "metadata": {
        "id": "3elmnJlcGQLz"
      },
      "outputs": [],
      "source": [
        "trainer = Trainer(model=model,args=training_args,data_collator=data_collator,train_dataset=tokenized_data['train']  ,eval_dataset=tokenized_data['test'],compute_metrics=compute_metrics,)"
      ]
    },
    {
      "cell_type": "code",
      "execution_count": null,
      "metadata": {
        "id": "NZkEIMV7GQqV"
      },
      "outputs": [],
      "source": [
        "trainer.train()"
      ]
    },
    {
      "cell_type": "code",
      "execution_count": null,
      "metadata": {
        "id": "oiRuHuGDRTc8"
      },
      "outputs": [],
      "source": [
        "trainer.evaluate()"
      ]
    }
  ],
  "metadata": {
    "accelerator": "GPU",
    "colab": {
      "provenance": []
    },
    "kernelspec": {
      "display_name": "Python 3",
      "name": "python3"
    },
    "language_info": {
      "name": "python"
    }
  },
  "nbformat": 4,
  "nbformat_minor": 0
}