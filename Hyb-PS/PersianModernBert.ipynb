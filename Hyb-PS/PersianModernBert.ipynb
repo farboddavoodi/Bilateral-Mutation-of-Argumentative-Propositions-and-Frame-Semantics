{
  "cells": [
    {
      "cell_type": "code",
      "execution_count": null,
      "metadata": {
        "id": "KiLbeeAAWqam"
      },
      "outputs": [],
      "source": [
        "%%capture\n",
        "!pip install --upgrade transformers"
      ]
    },
    {
      "cell_type": "code",
      "execution_count": null,
      "metadata": {
        "id": "_rGUJMwQiRcS"
      },
      "outputs": [],
      "source": [
        "%%capture\n",
        "!pip install datasets"
      ]
    },
    {
      "cell_type": "code",
      "execution_count": null,
      "metadata": {
        "id": "-0Q3QjWmL0YQ"
      },
      "outputs": [],
      "source": [
        "%%capture\n",
        "!pip install accelerate -U"
      ]
    },
    {
      "cell_type": "code",
      "execution_count": null,
      "metadata": {
        "id": "l4Yh5_heJ42u"
      },
      "outputs": [],
      "source": [
        "%%capture\n",
        "!pip install evaluate"
      ]
    },
    {
      "cell_type": "code",
      "execution_count": null,
      "metadata": {
        "id": "Ni2eEZi4KX11"
      },
      "outputs": [],
      "source": [
        "%%capture\n",
        "!pip install seqeval"
      ]
    },
    {
      "cell_type": "code",
      "execution_count": null,
      "metadata": {
        "id": "dcK5IOCUN_0t"
      },
      "outputs": [],
      "source": [
        "%%capture\n",
        "!pip install scikit-learn"
      ]
    },
    {
      "cell_type": "code",
      "execution_count": null,
      "metadata": {
        "id": "AXMGsh7HanSo"
      },
      "outputs": [],
      "source": [
        "%%capture\n",
        "!pip install matplotlib"
      ]
    },
    {
      "cell_type": "code",
      "execution_count": null,
      "metadata": {
        "id": "jFgdEvC2Scw8"
      },
      "outputs": [],
      "source": [
        "%%capture\n",
        "!pip install sklearn"
      ]
    },
    {
      "cell_type": "code",
      "execution_count": null,
      "metadata": {
        "id": "tU9gaz6P9o3e"
      },
      "outputs": [],
      "source": [
        "from google.colab import drive\n",
        "import torch\n",
        "import pandas as pd\n",
        "import evaluate\n",
        "import matplotlib.pyplot as plt\n",
        "import os\n",
        "import numpy as np\n",
        "from sklearn.model_selection import train_test_split\n",
        "from tokenizers import Encoding\n",
        "from collections import defaultdict\n",
        "from torch.utils.data import Dataset, DataLoader\n",
        "from transformers import BertTokenizer, BertForTokenClassification, AdamW, get_linear_schedule_with_warmup, Trainer, TrainingArguments,  BatchEncoding"
      ]
    },
    {
      "cell_type": "code",
      "execution_count": null,
      "metadata": {
        "colab": {
          "base_uri": "https://localhost:8080/"
        },
        "id": "zyWbDeNeNMpf",
        "outputId": "9fc7c405-44b5-4bb3-80b8-f32db70a8458"
      },
      "outputs": [
        {
          "name": "stdout",
          "output_type": "stream",
          "text": [
            "Mounted at /content/drive\n"
          ]
        }
      ],
      "source": [
        "drive.mount('/content/drive')"
      ]
    },
    {
      "cell_type": "code",
      "execution_count": null,
      "metadata": {
        "id": "cwlCuCbexix7"
      },
      "outputs": [],
      "source": [
        "device = torch.device(\"cuda\")\n",
        "json_data = '/content/drive/MyDrive/davodi.json'\n",
        "df = pd.read_json(json_data)\n",
        "df = df.drop(['_id', 'sentence', 'frame', 'lexicalUnit', 'status', 'issuer', 'is_active', 'createdAt', 'updatedAt', 'PId', 'lang', 'description', 'lexicalUnitHint', 'reviewer', 'lexicalUnitHelper', 'frameHelper', 'frameName', 'lexicalUnitName'], axis = 1)"
      ]
    },
    {
      "cell_type": "code",
      "execution_count": null,
      "metadata": {
        "id": "U8STebfkruf-"
      },
      "outputs": [],
      "source": [
        "def framenet_tags(FN_tags):\n",
        "    framenet_pattern = []\n",
        "    for FN_tag in FN_tags:\n",
        "        tag_type = FN_tag.get('tagType')\n",
        "        if tag_type == 5:\n",
        "            element = FN_tag.get('element', {})\n",
        "            element_name = element.get('name', '')\n",
        "            framenet_pattern.append(element_name)\n",
        "        else:\n",
        "            framenet_pattern.append('O')\n",
        "    return framenet_pattern"
      ]
    },
    {
      "cell_type": "code",
      "execution_count": null,
      "metadata": {
        "id": "vr_bQ8xwMPUi"
      },
      "outputs": [],
      "source": [
        "df['frameNetTags'] = df['frameNetTags'].apply(lambda FN_tags : framenet_tags(FN_tags))"
      ]
    },
    {
      "cell_type": "code",
      "execution_count": null,
      "metadata": {
        "colab": {
          "base_uri": "https://localhost:8080/",
          "height": 424
        },
        "id": "Pfx5H5-vPS4k",
        "outputId": "c2bd7d85-09c3-40fd-a6e3-c805ad92c3ab"
      },
      "outputs": [
        {
          "data": {
            "application/vnd.google.colaboratory.intrinsic+json": {
              "summary": "{\n  \"name\": \"df\",\n  \"rows\": 32729,\n  \"fields\": [\n    {\n      \"column\": \"words\",\n      \"properties\": {\n        \"dtype\": \"string\",\n        \"num_unique_values\": 19466,\n        \"samples\": [\n          \"\\u062f\\u0631 \\u0627\\u06cc\\u0646 \\u0631\\u0627\\u0633\\u062a\\u0627 \\u0648\\u0638\\u06cc\\u0641\\u06c0 \\u0634\\u0645\\u0627 \\u0633\\u062a \\u06a9\\u0647 \\u0627\\u0632 \\u0648\\u0632\\u0627\\u0631\\u062a\\u200c\\u0647\\u0627\\u06cc \\u0645\\u0631\\u0628\\u0648\\u0637\\u0647 \\u062a\\u0648\\u0636\\u06cc\\u062d \\u0628\\u062e\\u0648\\u0627\\u0647\\u06cc\\u062f .\",\n          \"\\u0637\\u0628\\u06cc\\u0639\\u06cc \\u0628\\u0648\\u062f \\u0627\\u0648\\u0644\\u06cc\\u0646 \\u0641\\u06a9\\u0631\\u06cc \\u06a9\\u0647 \\u0628\\u0647 \\u0630\\u0647\\u0646\\u0645 \\u0628\\u0631\\u0633\\u062f \\u060c \\u0646\\u062f\\u0627\\u0634\\u062a\\u0646 \\u0645\\u0648\\u0627\\u062f \\u0627\\u0648\\u0644\\u06cc\\u06c0 \\u062a\\u0647\\u06cc\\u06c0 \\u0634\\u0627\\u0645 \\u0628\\u0627\\u0634\\u062f .\",\n          \"\\u062e\\u0648\\u0634\\u0627 \\u0628\\u0647 \\u062d\\u0627\\u0644 \\u063a\\u0631\\u06cc\\u0628\\u0627\\u0646\\u06cc \\u06a9\\u0647 \\u0622\\u0646 \\u0686\\u0647 \\u0627\\u0632 \\u0633\\u0646\\u062a \\u062a\\u0648\\u0633\\u0637 \\u0645\\u0631\\u062f\\u0645 \\u0628\\u0647 \\u062a\\u0628\\u0627\\u0647\\u06cc \\u0631\\u0641\\u062a\\u0647 \\u0628\\u0647 \\u0635\\u0644\\u0627\\u062d \\u0628\\u0627\\u0632\\u0645\\u06cc\\u200c\\u0622\\u0648\\u0631\\u0646\\u062f .\"\n        ],\n        \"semantic_type\": \"\",\n        \"description\": \"\"\n      }\n    },\n    {\n      \"column\": \"frameNetTags\",\n      \"properties\": {\n        \"dtype\": \"object\",\n        \"semantic_type\": \"\",\n        \"description\": \"\"\n      }\n    },\n    {\n      \"column\": \"propBankTags\",\n      \"properties\": {\n        \"dtype\": \"object\",\n        \"semantic_type\": \"\",\n        \"description\": \"\"\n      }\n    }\n  ]\n}",
              "type": "dataframe",
              "variable_name": "df"
            },
            "text/html": [
              "\n",
              "  <div id=\"df-2216efe2-c5f2-4ea3-8842-0dc2c04cfaac\" class=\"colab-df-container\">\n",
              "    <div>\n",
              "<style scoped>\n",
              "    .dataframe tbody tr th:only-of-type {\n",
              "        vertical-align: middle;\n",
              "    }\n",
              "\n",
              "    .dataframe tbody tr th {\n",
              "        vertical-align: top;\n",
              "    }\n",
              "\n",
              "    .dataframe thead th {\n",
              "        text-align: right;\n",
              "    }\n",
              "</style>\n",
              "<table border=\"1\" class=\"dataframe\">\n",
              "  <thead>\n",
              "    <tr style=\"text-align: right;\">\n",
              "      <th></th>\n",
              "      <th>words</th>\n",
              "      <th>frameNetTags</th>\n",
              "      <th>propBankTags</th>\n",
              "    </tr>\n",
              "  </thead>\n",
              "  <tbody>\n",
              "    <tr>\n",
              "      <th>0</th>\n",
              "      <td>خانم نزهت‌الدوله گرچه تا به حال سه تا شوهر کرد...</td>\n",
              "      <td>[O, O, O, O, O, O, O, O, O, O, O, O, O, O, O, ...</td>\n",
              "      <td>[O, O, O, O, O, O, O, O, O, O, O, O, O, O, O, ...</td>\n",
              "    </tr>\n",
              "    <tr>\n",
              "      <th>1</th>\n",
              "      <td>خانم نزهت‌الدوله گرچه تا به حال سه تا شوهر کرد...</td>\n",
              "      <td>[جستجو_کننده, جستجو_کننده, O, O, O, O, O, O, O...</td>\n",
              "      <td>[O, O, O, O, O, O, O, O, O, O, O, O, O, O, O, ...</td>\n",
              "    </tr>\n",
              "    <tr>\n",
              "      <th>2</th>\n",
              "      <td>تو به من مجال دادی تا پروانه شوم .</td>\n",
              "      <td>[مرجع_ذیصلاح, قهرمان, قهرمان, O, O, عمل, عمل, ...</td>\n",
              "      <td>[B-A0, B-A2, O, B-NVE, B-V, B-PRP, O, O, O]</td>\n",
              "    </tr>\n",
              "    <tr>\n",
              "      <th>3</th>\n",
              "      <td>تو به من مجال دادی تا پروانه شوم .</td>\n",
              "      <td>[O, O, O, O, O, O, دسته_نهایی, O, O]</td>\n",
              "      <td>[O, O, O, O, O, O, B-A2, B-V, O]</td>\n",
              "    </tr>\n",
              "    <tr>\n",
              "      <th>4</th>\n",
              "      <td>هر زمان این غریزه و فطرت و رشد سنی و عقلی و اج...</td>\n",
              "      <td>[O, O, موجودیت, موجودیت, موجودیت, موجودیت, موج...</td>\n",
              "      <td>[O, O, O, B-A2, O, O, O, O, O, O, O, O, O, B-N...</td>\n",
              "    </tr>\n",
              "    <tr>\n",
              "      <th>...</th>\n",
              "      <td>...</td>\n",
              "      <td>...</td>\n",
              "      <td>...</td>\n",
              "    </tr>\n",
              "    <tr>\n",
              "      <th>32724</th>\n",
              "      <td>روسیه به زودی برای عمل به تعهدهای خود به اروپا...</td>\n",
              "      <td>[بحث‌کنندگان, زمان, زمان, مسئله, مسئله, مسئله,...</td>\n",
              "      <td>[B-A0, B-TMP, O, B-A2, O, O, O, O, O, O, O, O,...</td>\n",
              "    </tr>\n",
              "    <tr>\n",
              "      <th>32725</th>\n",
              "      <td>منازعه و مشاجرۀ پدر و مادر اقدام ناخوشایندی اس...</td>\n",
              "      <td>[O, O, O, بحث‌کنندگان, بحث‌کنندگان, بحث‌کنندگا...</td>\n",
              "      <td>[B-N-V, O, O, B-A0, B-A1, O, O, O, O, O, O, O,...</td>\n",
              "    </tr>\n",
              "    <tr>\n",
              "      <th>32726</th>\n",
              "      <td>منازعه و مشاجرۀ پدر و مادر اقدام ناخوشایندی اس...</td>\n",
              "      <td>[روش, روش, روش, عامل, عامل, عامل, O, توضیح, O,...</td>\n",
              "      <td>[B-A1, O, O, O, O, O, B-A2, O, B-V, O, O, O, O...</td>\n",
              "    </tr>\n",
              "    <tr>\n",
              "      <th>32727</th>\n",
              "      <td>منازعه و مشاجرۀ پدر و مادر اقدام ناخوشایندی اس...</td>\n",
              "      <td>[O, O, O, O, O, O, O, O, O, O, شاخص, شاخص, O, ...</td>\n",
              "      <td>[O, O, O, O, O, O, O, O, O, O, B-Arg2_B1, O, B...</td>\n",
              "    </tr>\n",
              "    <tr>\n",
              "      <th>32728</th>\n",
              "      <td>منازعه و مشاجرۀ پدر و مادر اقدام ناخوشایندی اس...</td>\n",
              "      <td>[O, O, O, O, O, O, O, O, O, O, O, O, O, O, O, ...</td>\n",
              "      <td>[O, O, O, O, O, O, O, O, O, O, O, O, O, B-N-V,...</td>\n",
              "    </tr>\n",
              "  </tbody>\n",
              "</table>\n",
              "<p>32729 rows × 3 columns</p>\n",
              "</div>\n",
              "    <div class=\"colab-df-buttons\">\n",
              "\n",
              "  <div class=\"colab-df-container\">\n",
              "    <button class=\"colab-df-convert\" onclick=\"convertToInteractive('df-2216efe2-c5f2-4ea3-8842-0dc2c04cfaac')\"\n",
              "            title=\"Convert this dataframe to an interactive table.\"\n",
              "            style=\"display:none;\">\n",
              "\n",
              "  <svg xmlns=\"http://www.w3.org/2000/svg\" height=\"24px\" viewBox=\"0 -960 960 960\">\n",
              "    <path d=\"M120-120v-720h720v720H120Zm60-500h600v-160H180v160Zm220 220h160v-160H400v160Zm0 220h160v-160H400v160ZM180-400h160v-160H180v160Zm440 0h160v-160H620v160ZM180-180h160v-160H180v160Zm440 0h160v-160H620v160Z\"/>\n",
              "  </svg>\n",
              "    </button>\n",
              "\n",
              "  <style>\n",
              "    .colab-df-container {\n",
              "      display:flex;\n",
              "      gap: 12px;\n",
              "    }\n",
              "\n",
              "    .colab-df-convert {\n",
              "      background-color: #E8F0FE;\n",
              "      border: none;\n",
              "      border-radius: 50%;\n",
              "      cursor: pointer;\n",
              "      display: none;\n",
              "      fill: #1967D2;\n",
              "      height: 32px;\n",
              "      padding: 0 0 0 0;\n",
              "      width: 32px;\n",
              "    }\n",
              "\n",
              "    .colab-df-convert:hover {\n",
              "      background-color: #E2EBFA;\n",
              "      box-shadow: 0px 1px 2px rgba(60, 64, 67, 0.3), 0px 1px 3px 1px rgba(60, 64, 67, 0.15);\n",
              "      fill: #174EA6;\n",
              "    }\n",
              "\n",
              "    .colab-df-buttons div {\n",
              "      margin-bottom: 4px;\n",
              "    }\n",
              "\n",
              "    [theme=dark] .colab-df-convert {\n",
              "      background-color: #3B4455;\n",
              "      fill: #D2E3FC;\n",
              "    }\n",
              "\n",
              "    [theme=dark] .colab-df-convert:hover {\n",
              "      background-color: #434B5C;\n",
              "      box-shadow: 0px 1px 3px 1px rgba(0, 0, 0, 0.15);\n",
              "      filter: drop-shadow(0px 1px 2px rgba(0, 0, 0, 0.3));\n",
              "      fill: #FFFFFF;\n",
              "    }\n",
              "  </style>\n",
              "\n",
              "    <script>\n",
              "      const buttonEl =\n",
              "        document.querySelector('#df-2216efe2-c5f2-4ea3-8842-0dc2c04cfaac button.colab-df-convert');\n",
              "      buttonEl.style.display =\n",
              "        google.colab.kernel.accessAllowed ? 'block' : 'none';\n",
              "\n",
              "      async function convertToInteractive(key) {\n",
              "        const element = document.querySelector('#df-2216efe2-c5f2-4ea3-8842-0dc2c04cfaac');\n",
              "        const dataTable =\n",
              "          await google.colab.kernel.invokeFunction('convertToInteractive',\n",
              "                                                    [key], {});\n",
              "        if (!dataTable) return;\n",
              "\n",
              "        const docLinkHtml = 'Like what you see? Visit the ' +\n",
              "          '<a target=\"_blank\" href=https://colab.research.google.com/notebooks/data_table.ipynb>data table notebook</a>'\n",
              "          + ' to learn more about interactive tables.';\n",
              "        element.innerHTML = '';\n",
              "        dataTable['output_type'] = 'display_data';\n",
              "        await google.colab.output.renderOutput(dataTable, element);\n",
              "        const docLink = document.createElement('div');\n",
              "        docLink.innerHTML = docLinkHtml;\n",
              "        element.appendChild(docLink);\n",
              "      }\n",
              "    </script>\n",
              "  </div>\n",
              "\n",
              "\n",
              "<div id=\"df-4d3b9a16-ec22-4962-920f-e7de953f80d7\">\n",
              "  <button class=\"colab-df-quickchart\" onclick=\"quickchart('df-4d3b9a16-ec22-4962-920f-e7de953f80d7')\"\n",
              "            title=\"Suggest charts\"\n",
              "            style=\"display:none;\">\n",
              "\n",
              "<svg xmlns=\"http://www.w3.org/2000/svg\" height=\"24px\"viewBox=\"0 0 24 24\"\n",
              "     width=\"24px\">\n",
              "    <g>\n",
              "        <path d=\"M19 3H5c-1.1 0-2 .9-2 2v14c0 1.1.9 2 2 2h14c1.1 0 2-.9 2-2V5c0-1.1-.9-2-2-2zM9 17H7v-7h2v7zm4 0h-2V7h2v10zm4 0h-2v-4h2v4z\"/>\n",
              "    </g>\n",
              "</svg>\n",
              "  </button>\n",
              "\n",
              "<style>\n",
              "  .colab-df-quickchart {\n",
              "      --bg-color: #E8F0FE;\n",
              "      --fill-color: #1967D2;\n",
              "      --hover-bg-color: #E2EBFA;\n",
              "      --hover-fill-color: #174EA6;\n",
              "      --disabled-fill-color: #AAA;\n",
              "      --disabled-bg-color: #DDD;\n",
              "  }\n",
              "\n",
              "  [theme=dark] .colab-df-quickchart {\n",
              "      --bg-color: #3B4455;\n",
              "      --fill-color: #D2E3FC;\n",
              "      --hover-bg-color: #434B5C;\n",
              "      --hover-fill-color: #FFFFFF;\n",
              "      --disabled-bg-color: #3B4455;\n",
              "      --disabled-fill-color: #666;\n",
              "  }\n",
              "\n",
              "  .colab-df-quickchart {\n",
              "    background-color: var(--bg-color);\n",
              "    border: none;\n",
              "    border-radius: 50%;\n",
              "    cursor: pointer;\n",
              "    display: none;\n",
              "    fill: var(--fill-color);\n",
              "    height: 32px;\n",
              "    padding: 0;\n",
              "    width: 32px;\n",
              "  }\n",
              "\n",
              "  .colab-df-quickchart:hover {\n",
              "    background-color: var(--hover-bg-color);\n",
              "    box-shadow: 0 1px 2px rgba(60, 64, 67, 0.3), 0 1px 3px 1px rgba(60, 64, 67, 0.15);\n",
              "    fill: var(--button-hover-fill-color);\n",
              "  }\n",
              "\n",
              "  .colab-df-quickchart-complete:disabled,\n",
              "  .colab-df-quickchart-complete:disabled:hover {\n",
              "    background-color: var(--disabled-bg-color);\n",
              "    fill: var(--disabled-fill-color);\n",
              "    box-shadow: none;\n",
              "  }\n",
              "\n",
              "  .colab-df-spinner {\n",
              "    border: 2px solid var(--fill-color);\n",
              "    border-color: transparent;\n",
              "    border-bottom-color: var(--fill-color);\n",
              "    animation:\n",
              "      spin 1s steps(1) infinite;\n",
              "  }\n",
              "\n",
              "  @keyframes spin {\n",
              "    0% {\n",
              "      border-color: transparent;\n",
              "      border-bottom-color: var(--fill-color);\n",
              "      border-left-color: var(--fill-color);\n",
              "    }\n",
              "    20% {\n",
              "      border-color: transparent;\n",
              "      border-left-color: var(--fill-color);\n",
              "      border-top-color: var(--fill-color);\n",
              "    }\n",
              "    30% {\n",
              "      border-color: transparent;\n",
              "      border-left-color: var(--fill-color);\n",
              "      border-top-color: var(--fill-color);\n",
              "      border-right-color: var(--fill-color);\n",
              "    }\n",
              "    40% {\n",
              "      border-color: transparent;\n",
              "      border-right-color: var(--fill-color);\n",
              "      border-top-color: var(--fill-color);\n",
              "    }\n",
              "    60% {\n",
              "      border-color: transparent;\n",
              "      border-right-color: var(--fill-color);\n",
              "    }\n",
              "    80% {\n",
              "      border-color: transparent;\n",
              "      border-right-color: var(--fill-color);\n",
              "      border-bottom-color: var(--fill-color);\n",
              "    }\n",
              "    90% {\n",
              "      border-color: transparent;\n",
              "      border-bottom-color: var(--fill-color);\n",
              "    }\n",
              "  }\n",
              "</style>\n",
              "\n",
              "  <script>\n",
              "    async function quickchart(key) {\n",
              "      const quickchartButtonEl =\n",
              "        document.querySelector('#' + key + ' button');\n",
              "      quickchartButtonEl.disabled = true;  // To prevent multiple clicks.\n",
              "      quickchartButtonEl.classList.add('colab-df-spinner');\n",
              "      try {\n",
              "        const charts = await google.colab.kernel.invokeFunction(\n",
              "            'suggestCharts', [key], {});\n",
              "      } catch (error) {\n",
              "        console.error('Error during call to suggestCharts:', error);\n",
              "      }\n",
              "      quickchartButtonEl.classList.remove('colab-df-spinner');\n",
              "      quickchartButtonEl.classList.add('colab-df-quickchart-complete');\n",
              "    }\n",
              "    (() => {\n",
              "      let quickchartButtonEl =\n",
              "        document.querySelector('#df-4d3b9a16-ec22-4962-920f-e7de953f80d7 button');\n",
              "      quickchartButtonEl.style.display =\n",
              "        google.colab.kernel.accessAllowed ? 'block' : 'none';\n",
              "    })();\n",
              "  </script>\n",
              "</div>\n",
              "\n",
              "  <div id=\"id_2046f409-ead7-4b80-b0cd-5fc4f4273574\">\n",
              "    <style>\n",
              "      .colab-df-generate {\n",
              "        background-color: #E8F0FE;\n",
              "        border: none;\n",
              "        border-radius: 50%;\n",
              "        cursor: pointer;\n",
              "        display: none;\n",
              "        fill: #1967D2;\n",
              "        height: 32px;\n",
              "        padding: 0 0 0 0;\n",
              "        width: 32px;\n",
              "      }\n",
              "\n",
              "      .colab-df-generate:hover {\n",
              "        background-color: #E2EBFA;\n",
              "        box-shadow: 0px 1px 2px rgba(60, 64, 67, 0.3), 0px 1px 3px 1px rgba(60, 64, 67, 0.15);\n",
              "        fill: #174EA6;\n",
              "      }\n",
              "\n",
              "      [theme=dark] .colab-df-generate {\n",
              "        background-color: #3B4455;\n",
              "        fill: #D2E3FC;\n",
              "      }\n",
              "\n",
              "      [theme=dark] .colab-df-generate:hover {\n",
              "        background-color: #434B5C;\n",
              "        box-shadow: 0px 1px 3px 1px rgba(0, 0, 0, 0.15);\n",
              "        filter: drop-shadow(0px 1px 2px rgba(0, 0, 0, 0.3));\n",
              "        fill: #FFFFFF;\n",
              "      }\n",
              "    </style>\n",
              "    <button class=\"colab-df-generate\" onclick=\"generateWithVariable('df')\"\n",
              "            title=\"Generate code using this dataframe.\"\n",
              "            style=\"display:none;\">\n",
              "\n",
              "  <svg xmlns=\"http://www.w3.org/2000/svg\" height=\"24px\"viewBox=\"0 0 24 24\"\n",
              "       width=\"24px\">\n",
              "    <path d=\"M7,19H8.4L18.45,9,17,7.55,7,17.6ZM5,21V16.75L18.45,3.32a2,2,0,0,1,2.83,0l1.4,1.43a1.91,1.91,0,0,1,.58,1.4,1.91,1.91,0,0,1-.58,1.4L9.25,21ZM18.45,9,17,7.55Zm-12,3A5.31,5.31,0,0,0,4.9,8.1,5.31,5.31,0,0,0,1,6.5,5.31,5.31,0,0,0,4.9,4.9,5.31,5.31,0,0,0,6.5,1,5.31,5.31,0,0,0,8.1,4.9,5.31,5.31,0,0,0,12,6.5,5.46,5.46,0,0,0,6.5,12Z\"/>\n",
              "  </svg>\n",
              "    </button>\n",
              "    <script>\n",
              "      (() => {\n",
              "      const buttonEl =\n",
              "        document.querySelector('#id_2046f409-ead7-4b80-b0cd-5fc4f4273574 button.colab-df-generate');\n",
              "      buttonEl.style.display =\n",
              "        google.colab.kernel.accessAllowed ? 'block' : 'none';\n",
              "\n",
              "      buttonEl.onclick = () => {\n",
              "        google.colab.notebook.generateWithVariable('df');\n",
              "      }\n",
              "      })();\n",
              "    </script>\n",
              "  </div>\n",
              "\n",
              "    </div>\n",
              "  </div>\n"
            ],
            "text/plain": [
              "                                                   words  \\\n",
              "0      خانم نزهت‌الدوله گرچه تا به حال سه تا شوهر کرد...   \n",
              "1      خانم نزهت‌الدوله گرچه تا به حال سه تا شوهر کرد...   \n",
              "2                     تو به من مجال دادی تا پروانه شوم .   \n",
              "3                     تو به من مجال دادی تا پروانه شوم .   \n",
              "4      هر زمان این غریزه و فطرت و رشد سنی و عقلی و اج...   \n",
              "...                                                  ...   \n",
              "32724  روسیه به زودی برای عمل به تعهدهای خود به اروپا...   \n",
              "32725  منازعه و مشاجرۀ پدر و مادر اقدام ناخوشایندی اس...   \n",
              "32726  منازعه و مشاجرۀ پدر و مادر اقدام ناخوشایندی اس...   \n",
              "32727  منازعه و مشاجرۀ پدر و مادر اقدام ناخوشایندی اس...   \n",
              "32728  منازعه و مشاجرۀ پدر و مادر اقدام ناخوشایندی اس...   \n",
              "\n",
              "                                            frameNetTags  \\\n",
              "0      [O, O, O, O, O, O, O, O, O, O, O, O, O, O, O, ...   \n",
              "1      [جستجو_کننده, جستجو_کننده, O, O, O, O, O, O, O...   \n",
              "2      [مرجع_ذیصلاح, قهرمان, قهرمان, O, O, عمل, عمل, ...   \n",
              "3                   [O, O, O, O, O, O, دسته_نهایی, O, O]   \n",
              "4      [O, O, موجودیت, موجودیت, موجودیت, موجودیت, موج...   \n",
              "...                                                  ...   \n",
              "32724  [بحث‌کنندگان, زمان, زمان, مسئله, مسئله, مسئله,...   \n",
              "32725  [O, O, O, بحث‌کنندگان, بحث‌کنندگان, بحث‌کنندگا...   \n",
              "32726  [روش, روش, روش, عامل, عامل, عامل, O, توضیح, O,...   \n",
              "32727  [O, O, O, O, O, O, O, O, O, O, شاخص, شاخص, O, ...   \n",
              "32728  [O, O, O, O, O, O, O, O, O, O, O, O, O, O, O, ...   \n",
              "\n",
              "                                            propBankTags  \n",
              "0      [O, O, O, O, O, O, O, O, O, O, O, O, O, O, O, ...  \n",
              "1      [O, O, O, O, O, O, O, O, O, O, O, O, O, O, O, ...  \n",
              "2            [B-A0, B-A2, O, B-NVE, B-V, B-PRP, O, O, O]  \n",
              "3                       [O, O, O, O, O, O, B-A2, B-V, O]  \n",
              "4      [O, O, O, B-A2, O, O, O, O, O, O, O, O, O, B-N...  \n",
              "...                                                  ...  \n",
              "32724  [B-A0, B-TMP, O, B-A2, O, O, O, O, O, O, O, O,...  \n",
              "32725  [B-N-V, O, O, B-A0, B-A1, O, O, O, O, O, O, O,...  \n",
              "32726  [B-A1, O, O, O, O, O, B-A2, O, B-V, O, O, O, O...  \n",
              "32727  [O, O, O, O, O, O, O, O, O, O, B-Arg2_B1, O, B...  \n",
              "32728  [O, O, O, O, O, O, O, O, O, O, O, O, O, B-N-V,...  \n",
              "\n",
              "[32729 rows x 3 columns]"
            ]
          },
          "execution_count": 14,
          "metadata": {},
          "output_type": "execute_result"
        }
      ],
      "source": [
        "df"
      ]
    },
    {
      "cell_type": "code",
      "execution_count": null,
      "metadata": {
        "id": "TdE8Tp_Jv2Ly"
      },
      "outputs": [],
      "source": [
        "train_data, temp_data = train_test_split(df, test_size=0.2, random_state=42)\n",
        "validation_data, test_data = train_test_split(temp_data, test_size=0.5, random_state=42)\n",
        "print(\"Training set size:\", len(train_data))\n",
        "print(\"Validation set size:\", len(validation_data))\n",
        "print(\"Test set size:\", len(test_data))"
      ]
    },
    {
      "cell_type": "code",
      "execution_count": null,
      "metadata": {
        "colab": {
          "base_uri": "https://localhost:8080/"
        },
        "id": "W57ljReCWqu7",
        "outputId": "d13f5ccc-0b54-40fc-c7c6-86f8208684aa"
      },
      "outputs": [
        {
          "name": "stderr",
          "output_type": "stream",
          "text": [
            "<ipython-input-20-ce01e66bb15d>:1: SettingWithCopyWarning: \n",
            "A value is trying to be set on a copy of a slice from a DataFrame.\n",
            "Try using .loc[row_indexer,col_indexer] = value instead\n",
            "\n",
            "See the caveats in the documentation: https://pandas.pydata.org/pandas-docs/stable/user_guide/indexing.html#returning-a-view-versus-a-copy\n",
            "  df[\"Words\"] = df[\"words\"].apply(lambda sentence: [word.strip() for word in sentence.split(' ')])\n"
          ]
        }
      ],
      "source": [
        "df[\"Words\"] = df[\"words\"].apply(lambda sentence: [word.strip() for word in sentence.split(' ')])"
      ]
    },
    {
      "cell_type": "code",
      "execution_count": null,
      "metadata": {
        "colab": {
          "base_uri": "https://localhost:8080/",
          "height": 237,
          "referenced_widgets": [
            "e8824eee4b3441ff8fd0ea5ed399e32f",
            "32c5ea861ba647a3ba32dfc74bf5fb02",
            "ea63232ad603431c8a64664458d9858c",
            "318bd5b1b9214f06ad34d78901a20589",
            "320e4cf072b64227b0335b8dc76cad4c",
            "8e43dbe0f0d04c13819916cfd5101ee3",
            "eea463246cfe486283cd824157077e39",
            "520fa95a893049fc9573166826f8e1ef",
            "5eb16fcd283f437bb6e7be5cc008e4ec",
            "e044f79542fe4cd8b6e37093f0da5a6a",
            "b610b2d0ba224051b0bb5ec922ed5e2b",
            "752c3a46e34d4d3ca76795558d906a3d",
            "a1371ccdefc2467b83b9fa61bc1be2e1",
            "8a08de0b08d748e1aefc89a0e91c4925",
            "4f9f3381ed974ec1a7a9bdff8987635b",
            "2b81ccba99534fcdbbafb5cbaffe88e2",
            "23c17b63c6234482af2976dc8adf165d",
            "3d58c583b5c34fbe83003f340e3de184",
            "e80d2d45c2fb4d09a1674c08096bcf51",
            "415588b2d0e044989084f343fa209790",
            "cf6614d8c55c477ba2d4c241bd89e429",
            "31f43854cf584affbde5e8f76f8051ea",
            "21cee152566e49f2a40d08bd2138f3dd",
            "0bb8716718024a2dbccf682e7d2394ab",
            "ddf4282808e84db18ed445d39cdd861f",
            "cf11bb53ff344134a4636665507d6952",
            "8728dadfd8844a4bafe6e71a54939843",
            "1e3c2103101d4954a3506469c2c25263",
            "d321306d1f694ffeb4a652ffd354de64",
            "c70e3b917bc34d5798543703aaee6c5e",
            "0140d1e12506414d8d88588772928f83",
            "4519722ff1274be5941cd695a88aea43",
            "23db3a80a027408aa00465679aa0f284"
          ]
        },
        "id": "TK8CK9ozU-xB",
        "outputId": "c1493044-0a49-4c75-d477-1bad74495e72"
      },
      "outputs": [
        {
          "name": "stderr",
          "output_type": "stream",
          "text": [
            "/usr/local/lib/python3.11/dist-packages/huggingface_hub/utils/_auth.py:94: UserWarning: \n",
            "The secret `HF_TOKEN` does not exist in your Colab secrets.\n",
            "To authenticate with the Hugging Face Hub, create a token in your settings tab (https://huggingface.co/settings/tokens), set it as secret in your Google Colab and restart your session.\n",
            "You will be able to reuse this secret in all of your notebooks.\n",
            "Please note that authentication is recommended but still optional to access public models or datasets.\n",
            "  warnings.warn(\n"
          ]
        },
        {
          "data": {
            "application/vnd.jupyter.widget-view+json": {
              "model_id": "e8824eee4b3441ff8fd0ea5ed399e32f",
              "version_major": 2,
              "version_minor": 0
            },
            "text/plain": [
              "tokenizer_config.json:   0%|          | 0.00/1.25k [00:00<?, ?B/s]"
            ]
          },
          "metadata": {},
          "output_type": "display_data"
        },
        {
          "data": {
            "application/vnd.jupyter.widget-view+json": {
              "model_id": "752c3a46e34d4d3ca76795558d906a3d",
              "version_major": 2,
              "version_minor": 0
            },
            "text/plain": [
              "tokenizer.json:   0%|          | 0.00/2.30M [00:00<?, ?B/s]"
            ]
          },
          "metadata": {},
          "output_type": "display_data"
        },
        {
          "data": {
            "application/vnd.jupyter.widget-view+json": {
              "model_id": "21cee152566e49f2a40d08bd2138f3dd",
              "version_major": 2,
              "version_minor": 0
            },
            "text/plain": [
              "special_tokens_map.json:   0%|          | 0.00/695 [00:00<?, ?B/s]"
            ]
          },
          "metadata": {},
          "output_type": "display_data"
        }
      ],
      "source": [
        "from transformers import AutoTokenizer\n",
        "tokenizer = AutoTokenizer.from_pretrained(\"myrkur/Persian-ModernBert-base\")"
      ]
    },
    {
      "cell_type": "code",
      "execution_count": null,
      "metadata": {
        "colab": {
          "base_uri": "https://localhost:8080/"
        },
        "id": "c3PrqPEW8kcY",
        "outputId": "d8bcb8dc-91f4-49e0-806a-b1c0f229ecd2"
      },
      "outputs": [
        {
          "data": {
            "text/plain": [
              "['خانم',\n",
              " 'نز',\n",
              " 'هت',\n",
              " '\\u200cال',\n",
              " 'دوله',\n",
              " 'گرچه',\n",
              " 'تا',\n",
              " 'به',\n",
              " 'حال',\n",
              " 'سه',\n",
              " 'تا',\n",
              " 'شوهر',\n",
              " 'کرده',\n",
              " 'و',\n",
              " 'شش',\n",
              " 'بار',\n",
              " 'زاییده',\n",
              " 'و',\n",
              " 'دو',\n",
              " 'تا',\n",
              " 'از',\n",
              " 'دختر',\n",
              " 'هایش',\n",
              " 'هم',\n",
              " 'به',\n",
              " 'خان',\n",
              " '[UNK]',\n",
              " 'داماد',\n",
              " 'فرستاده',\n",
              " '_',\n",
              " 'شده\\u200cاند',\n",
              " 'و',\n",
              " 'حالا',\n",
              " 'دیگر',\n",
              " 'برای',\n",
              " 'خودش',\n",
              " 'مادربزرگ',\n",
              " 'شده',\n",
              " '_',\n",
              " 'است',\n",
              " '،',\n",
              " 'باز',\n",
              " 'هم',\n",
              " 'عقیده',\n",
              " 'دارد',\n",
              " 'که',\n",
              " 'پیری',\n",
              " 'و',\n",
              " 'جوانی',\n",
              " 'دست',\n",
              " 'خود',\n",
              " 'آدم',\n",
              " 'است',\n",
              " 'و',\n",
              " 'گرچه',\n",
              " 'سر',\n",
              " 'و',\n",
              " 'همسر',\n",
              " 'و',\n",
              " 'خوی',\n",
              " 'شان',\n",
              " 'و',\n",
              " 'دوستان',\n",
              " 'می\\u200cگویند',\n",
              " 'که',\n",
              " 'پنجاه',\n",
              " 'سالی',\n",
              " 'دارد',\n",
              " 'ولی',\n",
              " 'هنوز',\n",
              " 'دو',\n",
              " 'دستی',\n",
              " 'به',\n",
              " 'جوانی',\n",
              " '\\u200cاش',\n",
              " 'چسبیده',\n",
              " 'و',\n",
              " 'هنوز',\n",
              " 'هم',\n",
              " 'در',\n",
              " 'جستجوی',\n",
              " 'شوهر',\n",
              " 'ایده\\u200cآل',\n",
              " 'به',\n",
              " 'این',\n",
              " 'در',\n",
              " 'و',\n",
              " 'آن',\n",
              " 'در',\n",
              " 'می\\u200cزند',\n",
              " '.']"
            ]
          },
          "execution_count": 24,
          "metadata": {},
          "output_type": "execute_result"
        }
      ],
      "source": [
        "tokenized_input = tokenizer(df['words'][0].split(' '), is_split_into_words=True)\n",
        "tokenizer.convert_ids_to_tokens(tokenized_input[\"input_ids\"])"
      ]
    },
    {
      "cell_type": "code",
      "execution_count": null,
      "metadata": {
        "id": "1jRbNPH0GSxT"
      },
      "outputs": [],
      "source": [
        "def create_role_id_dictionary():\n",
        "    \"\"\"Creates a dictionary that maps PropBank roles to numerical IDs.\"\"\"\n",
        "    #roles = set()\n",
        "    frame_elements = set()\n",
        "    for _, row in df.iterrows():\n",
        "    #    prop_str = row['propBankTags']\n",
        "        framenet_str = row['frameNetTags']\n",
        "    #    roles.update(prop_str)\n",
        "        frame_elements.update(framenet_str)\n",
        "    #role_id_dict = defaultdict(int)\n",
        "    frame_id_dict = defaultdict(int)\n",
        "    index = 1\n",
        "    #for role in roles:\n",
        "    #    role_id_dict[role] = index\n",
        "    #    index += 1\n",
        "    for frame_element in frame_elements:\n",
        "        frame_id_dict[frame_element] = index\n",
        "        index += 1\n",
        "    #return role_id_dict, frame_id_dict, roles, frame_elements\n",
        "    return frame_id_dict, frame_elements"
      ]
    },
    {
      "cell_type": "code",
      "execution_count": null,
      "metadata": {
        "colab": {
          "base_uri": "https://localhost:8080/"
        },
        "id": "wlyiZZ-ILuyj",
        "outputId": "3d1e1567-7154-4e64-978c-1566112b3d79"
      },
      "outputs": [
        {
          "name": "stdout",
          "output_type": "stream",
          "text": [
            "Frame2ID:defaultdict(<class 'int'>, {'هدف': 1, 'هدف_رویداد': 2, 'طرف_متأثر': 3, 'محدوده': 4, 'کنش': 5, 'کالا': 6, 'مالکیت': 7, 'گیرنده': 8, 'مسیر': 9, 'توصیفگر': 10, 'توصیفی': 11, 'قهرمان': 12, 'رویداد_همزمان': 13, 'تشخیص\\u200cگر': 14, 'مقصد': 15, 'مبدأ': 16, 'کاربرد': 17, 'شمارش': 18, 'مسافر': 19, 'رقابت': 20, 'عمل': 21, 'کنشگر': 22, 'متن': 23, 'محل_اجرا': 24, 'بارش': 25, 'موجودیت_جستجوشده': 26, 'مورد_1': 27, 'نام': 28, 'رویداد_مقایسه': 29, 'عقیده': 30, 'فرستنده': 31, 'پرداخت_کننده': 32, 'جریمه': 33, 'مجری2': 34, 'کنش\\u200cپذیر': 35, 'مقوله': 36, 'رویداد_پیش\\u200cزمینه': 37, 'توزیع\\u200cکننده': 38, 'درجه': 39, 'تاثیر': 40, 'وسیله': 41, 'موجود': 42, 'محل': 43, 'ابزار': 44, 'رویداد': 45, 'پذیرنده': 46, 'بسامد': 47, 'کیفیت_نهایی': 48, 'مورد': 49, 'توصیف': 50, 'پیکر': 51, 'فعالیت': 52, 'حسگر': 53, 'موضوع': 54, 'الزام': 55, 'توصیف_گر': 56, 'كنش_پذیر': 57, 'پدیده': 58, 'محصول': 59, 'مالک': 60, 'زمان': 61, 'جستجو_کننده': 62, 'موجودیت_خلق_شده': 63, 'شخص': 64, 'وضعیت_نهایی': 65, 'اصل_و_نسب': 66, 'مرجع_ذیصلاح': 67, 'O': 68, 'عامل': 69, 'پیام': 70, 'اهداکننده': 71, 'دسته_نهایی': 72, 'تجربه\\u200cگر': 73, 'توصیف\\u200cگر': 74, 'موجودیت': 75, 'دامنه': 76, 'مجری1': 77, 'علت': 78, 'محتوا': 79, 'توصیف\\u200cنما': 80, 'مکان': 81, 'مدت': 82, 'شیوه': 83, 'مقصود': 84, 'هدف_ذاتی': 85, 'شریک_اول': 86, 'گوینده': 87, 'پارامتر': 88, 'مورد_2': 89, 'مدت_زمان': 90, 'برگزیده': 91})\n",
            "Frame Elements:{'هدف', 'هدف_رویداد', 'طرف_متأثر', 'محدوده', 'کنش', 'کالا', 'مالکیت', 'گیرنده', 'مسیر', 'توصیفگر', 'توصیفی', 'قهرمان', 'رویداد_همزمان', 'تشخیص\\u200cگر', 'مقصد', 'مبدأ', 'کاربرد', 'شمارش', 'مسافر', 'رقابت', 'عمل', 'کنشگر', 'متن', 'محل_اجرا', 'بارش', 'موجودیت_جستجوشده', 'مورد_1', 'نام', 'رویداد_مقایسه', 'عقیده', 'فرستنده', 'پرداخت_کننده', 'جریمه', 'مجری2', 'کنش\\u200cپذیر', 'مقوله', 'رویداد_پیش\\u200cزمینه', 'توزیع\\u200cکننده', 'درجه', 'تاثیر', 'وسیله', 'موجود', 'محل', 'ابزار', 'رویداد', 'پذیرنده', 'بسامد', 'کیفیت_نهایی', 'مورد', 'توصیف', 'پیکر', 'فعالیت', 'حسگر', 'موضوع', 'الزام', 'توصیف_گر', 'كنش_پذیر', 'پدیده', 'محصول', 'مالک', 'زمان', 'جستجو_کننده', 'موجودیت_خلق_شده', 'شخص', 'وضعیت_نهایی', 'اصل_و_نسب', 'مرجع_ذیصلاح', 'O', 'عامل', 'پیام', 'اهداکننده', 'دسته_نهایی', 'تجربه\\u200cگر', 'توصیف\\u200cگر', 'موجودیت', 'دامنه', 'مجری1', 'علت', 'محتوا', 'توصیف\\u200cنما', 'مکان', 'مدت', 'شیوه', 'مقصود', 'هدف_ذاتی', 'شریک_اول', 'گوینده', 'پارامتر', 'مورد_2', 'مدت_زمان', 'برگزیده'}\n"
          ]
        }
      ],
      "source": [
        "frame2id, frame_elements = create_role_id_dictionary()\n",
        "print(\"Frame2ID:\" + str(frame2id))\n",
        "print(\"Frame Elements:\" + str(frame_elements))"
      ]
    },
    {
      "cell_type": "code",
      "execution_count": null,
      "metadata": {
        "colab": {
          "base_uri": "https://localhost:8080/"
        },
        "id": "4EuIUNXWmex_",
        "outputId": "ac18471c-160c-49dd-8d0d-0f69cd5cacef"
      },
      "outputs": [
        {
          "name": "stderr",
          "output_type": "stream",
          "text": [
            "<ipython-input-27-b2dc9e216140>:1: SettingWithCopyWarning: \n",
            "A value is trying to be set on a copy of a slice from a DataFrame.\n",
            "Try using .loc[row_indexer,col_indexer] = value instead\n",
            "\n",
            "See the caveats in the documentation: https://pandas.pydata.org/pandas-docs/stable/user_guide/indexing.html#returning-a-view-versus-a-copy\n",
            "  df['frameNetTags'] = df['frameNetTags'].apply(lambda label : [frame2id[l] for l in label])\n"
          ]
        }
      ],
      "source": [
        "df['frameNetTags'] = df['frameNetTags'].apply(lambda label : [frame2id[l] for l in label])"
      ]
    },
    {
      "cell_type": "code",
      "execution_count": null,
      "metadata": {
        "id": "oQCDd8yUznhH"
      },
      "outputs": [],
      "source": [
        "def tokenize_and_align_labels(examples):\n",
        "    tokenized_inputs = tokenizer(examples[\"Words\"], examples[\"propBankTags\"], truncation=True, padding=True, is_split_into_words=True)\n",
        "    labels = []\n",
        "    for i, label in enumerate(examples[f\"frameNetTags\"]):\n",
        "        word_ids = tokenized_inputs.word_ids(batch_index=i)\n",
        "        previous_word_idx = None\n",
        "        label_ids = []\n",
        "        for word_idx in word_ids:\n",
        "            if word_idx is None:\n",
        "                label_ids.append(-100)\n",
        "            elif word_idx != previous_word_idx:\n",
        "                label_ids.append(label[word_idx])\n",
        "            else:\n",
        "                label_ids.append(-100)\n",
        "            previous_word_idx = word_idx\n",
        "        labels.append(label_ids)\n",
        "\n",
        "    tokenized_inputs[\"labels\"] = labels\n",
        "    return tokenized_inputs"
      ]
    },
    {
      "cell_type": "code",
      "execution_count": null,
      "metadata": {
        "colab": {
          "base_uri": "https://localhost:8080/",
          "height": 66,
          "referenced_widgets": [
            "23dd76966bb94fd8b95ae5364256a417",
            "9b1af6944dc747aab3f044f57259f86f",
            "94d5d389d65744bb9e37ca0e0401eff3",
            "4616e51c45dc4fe6ac6b2dcec4b76068",
            "1938c5ce981e4f4ea4407580090f4d86",
            "49a0bde5dfb44045a61fff8c89f1211f",
            "b3ac749a7c7343f19bc8d8dccdf7b374",
            "7362fb5f7fcf46bc996fce66cd6d625d",
            "6ee25fc8b7e04c558b1de97976877cbe",
            "1bdc96db6485422786022c8cf70c4b56",
            "9c258f3720eb4a48a2c0b81855aec7d8"
          ]
        },
        "id": "9CFTLgIl0MbT",
        "outputId": "05e05565-f633-4317-c3ab-3b106d199512"
      },
      "outputs": [
        {
          "data": {
            "application/vnd.jupyter.widget-view+json": {
              "model_id": "23dd76966bb94fd8b95ae5364256a417",
              "version_major": 2,
              "version_minor": 0
            },
            "text/plain": [
              "Map:   0%|          | 0/100 [00:00<?, ? examples/s]"
            ]
          },
          "metadata": {},
          "output_type": "display_data"
        },
        {
          "name": "stderr",
          "output_type": "stream",
          "text": [
            "Asking to truncate to max_length but no maximum length is provided and the model has no predefined maximum length. Default to no truncation.\n"
          ]
        }
      ],
      "source": [
        "from datasets import Dataset\n",
        "dataset = Dataset.from_pandas(df)\n",
        "tokenized_data = dataset.map(tokenize_and_align_labels, batched=True)"
      ]
    },
    {
      "cell_type": "code",
      "execution_count": null,
      "metadata": {
        "id": "x6V3xKXrnxpv"
      },
      "outputs": [],
      "source": [
        "tokenized_data = tokenized_data.train_test_split(test_size=0.3)"
      ]
    },
    {
      "cell_type": "code",
      "execution_count": null,
      "metadata": {
        "colab": {
          "base_uri": "https://localhost:8080/",
          "height": 49,
          "referenced_widgets": [
            "1713d1a40ae14a68b722332fcfa3e76f",
            "bba572f78334401bab776a7f05cc55c2",
            "a9b8704506ef45b8859673316d375b1a",
            "16714a737f0d47618d9f3c7526d7cd64",
            "e2e7779950b34e06a69d3068a66b9adc",
            "55ca1f3930524c1089c07b1530441439",
            "1a5ee00966954c6e80f6f3032d9cba21",
            "1edc7a4d2238430184818f84b394b118",
            "bd2b5885ca434c60b79875bff3f7ff13",
            "f81f0c950aa44013ba6257494d1e6dba",
            "9831a366a5834c9e83c3d3aff2139710"
          ]
        },
        "id": "9WOsZoa1zXGU",
        "outputId": "cc2b3d3d-9189-4c6b-fb29-cabdc92604ed"
      },
      "outputs": [
        {
          "data": {
            "application/vnd.jupyter.widget-view+json": {
              "model_id": "1713d1a40ae14a68b722332fcfa3e76f",
              "version_major": 2,
              "version_minor": 0
            },
            "text/plain": [
              "Downloading builder script:   0%|          | 0.00/6.34k [00:00<?, ?B/s]"
            ]
          },
          "metadata": {},
          "output_type": "display_data"
        }
      ],
      "source": [
        "import evaluate\n",
        "seqeval = evaluate.load(\"seqeval\")"
      ]
    },
    {
      "cell_type": "code",
      "execution_count": null,
      "metadata": {
        "colab": {
          "base_uri": "https://localhost:8080/",
          "height": 49,
          "referenced_widgets": [
            "467087af798e40549459fb9da6077edc",
            "ea0a4938a9f5415cb2c48d9b0e1d7f35",
            "5d89d7878d9b4113b42b8f201adadcb9",
            "66616496c8694e1d947687577b21b073",
            "359be54ae80c4c2284737eda4f7d981f",
            "609da213f1ca42a4b4b9bcebf8ce9c5f",
            "cd74bc30421c4ff585d9b52b1678caf0",
            "11e3d164ce95467294d70565a4d9041c",
            "d0a77f60d15b4b73a104a8e43ff258ac",
            "db9a28beefb94583b323d70a77001d7e",
            "599b1baf641a4f3bbd41301dc0fc79da"
          ]
        },
        "id": "PvTczx7yz6wE",
        "outputId": "680a0722-9cad-4bae-cf15-1a25f30d548c"
      },
      "outputs": [
        {
          "data": {
            "application/vnd.jupyter.widget-view+json": {
              "model_id": "467087af798e40549459fb9da6077edc",
              "version_major": 2,
              "version_minor": 0
            },
            "text/plain": [
              "Downloading builder script:   0%|          | 0.00/4.20k [00:00<?, ?B/s]"
            ]
          },
          "metadata": {},
          "output_type": "display_data"
        }
      ],
      "source": [
        "accuracy = evaluate.load(\"accuracy\")"
      ]
    },
    {
      "cell_type": "code",
      "execution_count": null,
      "metadata": {
        "id": "EaR1Q3gHyqlY"
      },
      "outputs": [],
      "source": [
        "from transformers import DataCollatorForTokenClassification\n",
        "data_collator = DataCollatorForTokenClassification(tokenizer=tokenizer)"
      ]
    },
    {
      "cell_type": "code",
      "execution_count": null,
      "metadata": {
        "colab": {
          "base_uri": "https://localhost:8080/",
          "height": 81,
          "referenced_widgets": [
            "2ed37f6f34a04d68a8aef413596dbbfa",
            "95c8575b4d6c4567ad3d1a473623910d",
            "8c5324fa3a2c43f28a4ee0c707b3dc6f",
            "b0654fd75f1649f9a84e6f006886cf50",
            "497dbde8fb3c4304a05a0c447bc1edb8",
            "6a24b17f4c66491eafe6edcae7857c29",
            "b6e29a6f725e4fb6aff9359193a164f0",
            "9ed5a864ac4f41149466dc0456398e56",
            "bf4d8077bacc417ba92b1a6b5cf089f4",
            "ccac658751ab4b5cb3dded9d02400860",
            "8d4554503b574733b3f5c2ff257d6357",
            "3575079cef024986a3947e37e51b238c",
            "e4814a59971141a3b83810c412c94c5d",
            "ff74bffe34db4edf912be10bfcc1b060",
            "7acf1ce7fa79466bbc08861471067367",
            "ea992e82dbc344de8775b690cdb67bfd",
            "e159602aef1945dbb94f57b71a8a95cd",
            "0ec62c63cfc84833ad60541adebd4ed7",
            "6795c30489d54c8e849a00d32931f344",
            "1cdc3aee41904806af86778adf7659fd",
            "c160f3009f0d4213babe45c0b7accdc4",
            "8b2313a0eb0d46979c161a6ba2f88fc5"
          ]
        },
        "id": "iHF8Y5I9otVy",
        "outputId": "c62eaa52-e148-4076-b513-94e9dfdef3e3"
      },
      "outputs": [
        {
          "data": {
            "application/vnd.jupyter.widget-view+json": {
              "model_id": "2ed37f6f34a04d68a8aef413596dbbfa",
              "version_major": 2,
              "version_minor": 0
            },
            "text/plain": [
              "config.json:   0%|          | 0.00/1.27k [00:00<?, ?B/s]"
            ]
          },
          "metadata": {},
          "output_type": "display_data"
        },
        {
          "data": {
            "application/vnd.jupyter.widget-view+json": {
              "model_id": "3575079cef024986a3947e37e51b238c",
              "version_major": 2,
              "version_minor": 0
            },
            "text/plain": [
              "model.safetensors:   0%|          | 0.00/299M [00:00<?, ?B/s]"
            ]
          },
          "metadata": {},
          "output_type": "display_data"
        }
      ],
      "source": [
        "from transformers import AutoModelForMaskedLM\n",
        "model = AutoModelForMaskedLM.from_pretrained(\"myrkur/Persian-ModernBert-base\", num_labels=len(frame2id)+1,ignore_mismatched_sizes=True)"
      ]
    },
    {
      "cell_type": "code",
      "execution_count": null,
      "metadata": {
        "id": "sy_diAZc1qNe"
      },
      "outputs": [],
      "source": [
        "label2id = dict(frame2id)"
      ]
    },
    {
      "cell_type": "code",
      "execution_count": null,
      "metadata": {
        "id": "exUhcGciVpDM"
      },
      "outputs": [],
      "source": [
        "id2label = dict((v,k) for k,v in label2id.items())"
      ]
    },
    {
      "cell_type": "code",
      "execution_count": null,
      "metadata": {
        "id": "BAkZc0LQ5cd5"
      },
      "outputs": [],
      "source": [
        "label_list = list(frame2id.keys())\n",
        "from sklearn.metrics import classification_report, precision_recall_fscore_support\n",
        "from sklearn.preprocessing import MultiLabelBinarizer\n",
        "\n",
        "from sklearn.metrics import classification_report\n",
        "def compute_metrics(p):\n",
        "    predictions, labels = p\n",
        "    predictions = np.argmax(predictions, axis=2)\n",
        "\n",
        "    true_predictions = [\n",
        "        [id2label[p] for (p, l) in zip(prediction, label) if l != -100]\n",
        "        for prediction, label in zip(predictions, labels)\n",
        "    ]\n",
        "    true_labels = [\n",
        "        [id2label[l] for (p, l) in zip(prediction, label) if l != -100]\n",
        "        for prediction, label in zip(predictions, labels)\n",
        "    ]\n",
        "    true_labels_bin = list(np.concatenate(true_labels))\n",
        "    pred_labels_bin = list(np.concatenate(true_predictions))\n",
        "    print(true_labels_bin)\n",
        "    print(pred_labels_bin)\n",
        "    report = classification_report(true_labels_bin, pred_labels_bin)\n",
        "    metrics = precision_recall_fscore_support(true_labels_bin, pred_labels_bin, average='weighted')\n",
        "    accuracy = metrics[0]\n",
        "    precision = metrics[1]\n",
        "    recall = metrics[2]\n",
        "    f1_score = metrics[3]\n",
        "    return {\n",
        "        \"precision\": precision,\n",
        "        \"recall\": recall,\n",
        "        \"f1\": f1_score,\n",
        "        \"accuracy\": accuracy\n",
        "    }"
      ]
    },
    {
      "cell_type": "code",
      "execution_count": null,
      "metadata": {
        "colab": {
          "base_uri": "https://localhost:8080/"
        },
        "id": "vD9uyLVYGQIa",
        "outputId": "6bda9586-328e-4888-ce73-e79383c57f7e"
      },
      "outputs": [
        {
          "name": "stderr",
          "output_type": "stream",
          "text": [
            "/usr/local/lib/python3.11/dist-packages/transformers/training_args.py:1594: FutureWarning: `evaluation_strategy` is deprecated and will be removed in version 4.46 of 🤗 Transformers. Use `eval_strategy` instead\n",
            "  warnings.warn(\n"
          ]
        }
      ],
      "source": [
        "training_args = TrainingArguments(\n",
        "    output_dir=\"bert-token-classification\",\n",
        "    learning_rate=0.1,\n",
        "    per_device_train_batch_size=16,\n",
        "    per_device_eval_batch_size=16,\n",
        "    num_train_epochs=1,\n",
        "    evaluation_strategy=\"epoch\",\n",
        "    weight_decay=0.01,\n",
        "    save_strategy=\"no\",\n",
        "    #use_cpu=True,\n",
        "    #no_cuda=True,\n",
        "    #load_best_model_at_end=True, # uncomment if you wanna save\n",
        ")"
      ]
    },
    {
      "cell_type": "code",
      "execution_count": null,
      "metadata": {
        "id": "3elmnJlcGQLz"
      },
      "outputs": [],
      "source": [
        "trainer = Trainer(model=model,args=training_args,data_collator=data_collator,train_dataset=tokenized_data['train']  ,eval_dataset=tokenized_data['test'],compute_metrics=compute_metrics,)"
      ]
    },
    {
      "cell_type": "code",
      "execution_count": null,
      "metadata": {
        "id": "NZkEIMV7GQqV"
      },
      "outputs": [],
      "source": [
        "trainer.train()"
      ]
    },
    {
      "cell_type": "code",
      "execution_count": null,
      "metadata": {
        "id": "oiRuHuGDRTc8"
      },
      "outputs": [],
      "source": [
        "trainer.evaluate()"
      ]
    }
  ],
  "metadata": {
    "accelerator": "GPU",
    "colab": {
      "provenance": []
    },
    "kernelspec": {
      "display_name": "Python 3",
      "name": "python3"
    },
    "language_info": {
      "name": "python"
    }
  },
  "nbformat": 4,
  "nbformat_minor": 0
}