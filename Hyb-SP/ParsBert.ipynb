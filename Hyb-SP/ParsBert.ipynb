{
  "cells": [
    {
      "cell_type": "code",
      "execution_count": null,
      "metadata": {
        "id": "KiLbeeAAWqam"
      },
      "outputs": [],
      "source": [
        "%%capture\n",
        "!pip install --upgrade transformers"
      ]
    },
    {
      "cell_type": "code",
      "execution_count": null,
      "metadata": {
        "id": "_rGUJMwQiRcS"
      },
      "outputs": [],
      "source": [
        "%%capture\n",
        "!pip install datasets"
      ]
    },
    {
      "cell_type": "code",
      "execution_count": null,
      "metadata": {
        "id": "-0Q3QjWmL0YQ"
      },
      "outputs": [],
      "source": [
        "%%capture\n",
        "!pip install accelerate -U"
      ]
    },
    {
      "cell_type": "code",
      "execution_count": null,
      "metadata": {
        "id": "l4Yh5_heJ42u"
      },
      "outputs": [],
      "source": [
        "%%capture\n",
        "!pip install evaluate"
      ]
    },
    {
      "cell_type": "code",
      "execution_count": null,
      "metadata": {
        "id": "Ni2eEZi4KX11"
      },
      "outputs": [],
      "source": [
        "%%capture\n",
        "!pip install seqeval"
      ]
    },
    {
      "cell_type": "code",
      "execution_count": null,
      "metadata": {
        "id": "dcK5IOCUN_0t"
      },
      "outputs": [],
      "source": [
        "%%capture\n",
        "!pip install scikit-learn"
      ]
    },
    {
      "cell_type": "code",
      "execution_count": null,
      "metadata": {
        "id": "AXMGsh7HanSo"
      },
      "outputs": [],
      "source": [
        "%%capture\n",
        "!pip install matplotlib"
      ]
    },
    {
      "cell_type": "code",
      "execution_count": null,
      "metadata": {
        "id": "jFgdEvC2Scw8"
      },
      "outputs": [],
      "source": [
        "%%capture\n",
        "!pip install sklearn"
      ]
    },
    {
      "cell_type": "code",
      "execution_count": null,
      "metadata": {
        "id": "tU9gaz6P9o3e"
      },
      "outputs": [],
      "source": [
        "from google.colab import drive\n",
        "import torch\n",
        "import pandas as pd\n",
        "import evaluate\n",
        "import matplotlib.pyplot as plt\n",
        "import os\n",
        "import numpy as np\n",
        "from sklearn.model_selection import train_test_split\n",
        "from tokenizers import Encoding\n",
        "from collections import defaultdict\n",
        "from torch.utils.data import Dataset, DataLoader\n",
        "from transformers import BertTokenizer, BertForTokenClassification, AdamW, get_linear_schedule_with_warmup, Trainer, TrainingArguments,  BatchEncoding"
      ]
    },
    {
      "cell_type": "code",
      "execution_count": null,
      "metadata": {
        "colab": {
          "base_uri": "https://localhost:8080/"
        },
        "id": "zyWbDeNeNMpf",
        "outputId": "8619abb2-9e76-4185-fb57-8cdcb87edfd9"
      },
      "outputs": [
        {
          "name": "stdout",
          "output_type": "stream",
          "text": [
            "Mounted at /content/drive\n"
          ]
        }
      ],
      "source": [
        "drive.mount('/content/drive')"
      ]
    },
    {
      "cell_type": "code",
      "execution_count": null,
      "metadata": {
        "id": "cwlCuCbexix7"
      },
      "outputs": [],
      "source": [
        "device = torch.device(\"cuda\")\n",
        "json_data = '/content/drive/MyDrive/davodi.json'\n",
        "df = pd.read_json(json_data)\n",
        "df = df.drop(['_id', 'sentence', 'frame', 'lexicalUnit', 'status', 'issuer', 'is_active', 'createdAt', 'updatedAt', 'PId', 'lang', 'description', 'lexicalUnitHint', 'reviewer', 'lexicalUnitHelper', 'frameHelper', 'frameName', 'lexicalUnitName'], axis = 1)"
      ]
    },
    {
      "cell_type": "code",
      "execution_count": null,
      "metadata": {
        "id": "U8STebfkruf-"
      },
      "outputs": [],
      "source": [
        "def framenet_tags(FN_tags):\n",
        "    framenet_pattern = []\n",
        "    for FN_tag in FN_tags:\n",
        "        tag_type = FN_tag.get('tagType')\n",
        "        if tag_type == 5:\n",
        "            element = FN_tag.get('element', {})\n",
        "            element_name = element.get('name', '')\n",
        "            framenet_pattern.append(element_name)\n",
        "        else:\n",
        "            framenet_pattern.append('O')\n",
        "    return framenet_pattern"
      ]
    },
    {
      "cell_type": "code",
      "execution_count": null,
      "metadata": {
        "id": "vr_bQ8xwMPUi"
      },
      "outputs": [],
      "source": [
        "df['frameNetTags'] = df['frameNetTags'].apply(lambda FN_tags : framenet_tags(FN_tags))"
      ]
    },
    {
      "cell_type": "code",
      "execution_count": null,
      "metadata": {
        "colab": {
          "base_uri": "https://localhost:8080/",
          "height": 424
        },
        "id": "Pfx5H5-vPS4k",
        "outputId": "6594d6a2-7bb8-471b-a8d2-60d87c872677"
      },
      "outputs": [
        {
          "data": {
            "application/vnd.google.colaboratory.intrinsic+json": {
              "summary": "{\n  \"name\": \"df\",\n  \"rows\": 32729,\n  \"fields\": [\n    {\n      \"column\": \"words\",\n      \"properties\": {\n        \"dtype\": \"string\",\n        \"num_unique_values\": 19466,\n        \"samples\": [\n          \"\\u062f\\u0631 \\u0627\\u06cc\\u0646 \\u0631\\u0627\\u0633\\u062a\\u0627 \\u0648\\u0638\\u06cc\\u0641\\u06c0 \\u0634\\u0645\\u0627 \\u0633\\u062a \\u06a9\\u0647 \\u0627\\u0632 \\u0648\\u0632\\u0627\\u0631\\u062a\\u200c\\u0647\\u0627\\u06cc \\u0645\\u0631\\u0628\\u0648\\u0637\\u0647 \\u062a\\u0648\\u0636\\u06cc\\u062d \\u0628\\u062e\\u0648\\u0627\\u0647\\u06cc\\u062f .\",\n          \"\\u0637\\u0628\\u06cc\\u0639\\u06cc \\u0628\\u0648\\u062f \\u0627\\u0648\\u0644\\u06cc\\u0646 \\u0641\\u06a9\\u0631\\u06cc \\u06a9\\u0647 \\u0628\\u0647 \\u0630\\u0647\\u0646\\u0645 \\u0628\\u0631\\u0633\\u062f \\u060c \\u0646\\u062f\\u0627\\u0634\\u062a\\u0646 \\u0645\\u0648\\u0627\\u062f \\u0627\\u0648\\u0644\\u06cc\\u06c0 \\u062a\\u0647\\u06cc\\u06c0 \\u0634\\u0627\\u0645 \\u0628\\u0627\\u0634\\u062f .\",\n          \"\\u062e\\u0648\\u0634\\u0627 \\u0628\\u0647 \\u062d\\u0627\\u0644 \\u063a\\u0631\\u06cc\\u0628\\u0627\\u0646\\u06cc \\u06a9\\u0647 \\u0622\\u0646 \\u0686\\u0647 \\u0627\\u0632 \\u0633\\u0646\\u062a \\u062a\\u0648\\u0633\\u0637 \\u0645\\u0631\\u062f\\u0645 \\u0628\\u0647 \\u062a\\u0628\\u0627\\u0647\\u06cc \\u0631\\u0641\\u062a\\u0647 \\u0628\\u0647 \\u0635\\u0644\\u0627\\u062d \\u0628\\u0627\\u0632\\u0645\\u06cc\\u200c\\u0622\\u0648\\u0631\\u0646\\u062f .\"\n        ],\n        \"semantic_type\": \"\",\n        \"description\": \"\"\n      }\n    },\n    {\n      \"column\": \"frameNetTags\",\n      \"properties\": {\n        \"dtype\": \"object\",\n        \"semantic_type\": \"\",\n        \"description\": \"\"\n      }\n    },\n    {\n      \"column\": \"propBankTags\",\n      \"properties\": {\n        \"dtype\": \"object\",\n        \"semantic_type\": \"\",\n        \"description\": \"\"\n      }\n    }\n  ]\n}",
              "type": "dataframe",
              "variable_name": "df"
            },
            "text/html": [
              "\n",
              "  <div id=\"df-345396b6-6650-4442-bfc9-635c1722d6cb\" class=\"colab-df-container\">\n",
              "    <div>\n",
              "<style scoped>\n",
              "    .dataframe tbody tr th:only-of-type {\n",
              "        vertical-align: middle;\n",
              "    }\n",
              "\n",
              "    .dataframe tbody tr th {\n",
              "        vertical-align: top;\n",
              "    }\n",
              "\n",
              "    .dataframe thead th {\n",
              "        text-align: right;\n",
              "    }\n",
              "</style>\n",
              "<table border=\"1\" class=\"dataframe\">\n",
              "  <thead>\n",
              "    <tr style=\"text-align: right;\">\n",
              "      <th></th>\n",
              "      <th>words</th>\n",
              "      <th>frameNetTags</th>\n",
              "      <th>propBankTags</th>\n",
              "    </tr>\n",
              "  </thead>\n",
              "  <tbody>\n",
              "    <tr>\n",
              "      <th>0</th>\n",
              "      <td>خانم نزهت‌الدوله گرچه تا به حال سه تا شوهر کرد...</td>\n",
              "      <td>[O, O, O, O, O, O, O, O, O, O, O, O, O, O, O, ...</td>\n",
              "      <td>[O, O, O, O, O, O, O, O, O, O, O, O, O, O, O, ...</td>\n",
              "    </tr>\n",
              "    <tr>\n",
              "      <th>1</th>\n",
              "      <td>خانم نزهت‌الدوله گرچه تا به حال سه تا شوهر کرد...</td>\n",
              "      <td>[جستجو_کننده, جستجو_کننده, O, O, O, O, O, O, O...</td>\n",
              "      <td>[O, O, O, O, O, O, O, O, O, O, O, O, O, O, O, ...</td>\n",
              "    </tr>\n",
              "    <tr>\n",
              "      <th>2</th>\n",
              "      <td>تو به من مجال دادی تا پروانه شوم .</td>\n",
              "      <td>[مرجع_ذیصلاح, قهرمان, قهرمان, O, O, عمل, عمل, ...</td>\n",
              "      <td>[B-A0, B-A2, O, B-NVE, B-V, B-PRP, O, O, O]</td>\n",
              "    </tr>\n",
              "    <tr>\n",
              "      <th>3</th>\n",
              "      <td>تو به من مجال دادی تا پروانه شوم .</td>\n",
              "      <td>[O, O, O, O, O, O, دسته_نهایی, O, O]</td>\n",
              "      <td>[O, O, O, O, O, O, B-A2, B-V, O]</td>\n",
              "    </tr>\n",
              "    <tr>\n",
              "      <th>4</th>\n",
              "      <td>هر زمان این غریزه و فطرت و رشد سنی و عقلی و اج...</td>\n",
              "      <td>[O, O, موجودیت, موجودیت, موجودیت, موجودیت, موج...</td>\n",
              "      <td>[O, O, O, B-A2, O, O, O, O, O, O, O, O, O, B-N...</td>\n",
              "    </tr>\n",
              "    <tr>\n",
              "      <th>...</th>\n",
              "      <td>...</td>\n",
              "      <td>...</td>\n",
              "      <td>...</td>\n",
              "    </tr>\n",
              "    <tr>\n",
              "      <th>32724</th>\n",
              "      <td>روسیه به زودی برای عمل به تعهدهای خود به اروپا...</td>\n",
              "      <td>[بحث‌کنندگان, زمان, زمان, مسئله, مسئله, مسئله,...</td>\n",
              "      <td>[B-A0, B-TMP, O, B-A2, O, O, O, O, O, O, O, O,...</td>\n",
              "    </tr>\n",
              "    <tr>\n",
              "      <th>32725</th>\n",
              "      <td>منازعه و مشاجرۀ پدر و مادر اقدام ناخوشایندی اس...</td>\n",
              "      <td>[O, O, O, بحث‌کنندگان, بحث‌کنندگان, بحث‌کنندگا...</td>\n",
              "      <td>[B-N-V, O, O, B-A0, B-A1, O, O, O, O, O, O, O,...</td>\n",
              "    </tr>\n",
              "    <tr>\n",
              "      <th>32726</th>\n",
              "      <td>منازعه و مشاجرۀ پدر و مادر اقدام ناخوشایندی اس...</td>\n",
              "      <td>[روش, روش, روش, عامل, عامل, عامل, O, توضیح, O,...</td>\n",
              "      <td>[B-A1, O, O, O, O, O, B-A2, O, B-V, O, O, O, O...</td>\n",
              "    </tr>\n",
              "    <tr>\n",
              "      <th>32727</th>\n",
              "      <td>منازعه و مشاجرۀ پدر و مادر اقدام ناخوشایندی اس...</td>\n",
              "      <td>[O, O, O, O, O, O, O, O, O, O, شاخص, شاخص, O, ...</td>\n",
              "      <td>[O, O, O, O, O, O, O, O, O, O, B-Arg2_B1, O, B...</td>\n",
              "    </tr>\n",
              "    <tr>\n",
              "      <th>32728</th>\n",
              "      <td>منازعه و مشاجرۀ پدر و مادر اقدام ناخوشایندی اس...</td>\n",
              "      <td>[O, O, O, O, O, O, O, O, O, O, O, O, O, O, O, ...</td>\n",
              "      <td>[O, O, O, O, O, O, O, O, O, O, O, O, O, B-N-V,...</td>\n",
              "    </tr>\n",
              "  </tbody>\n",
              "</table>\n",
              "<p>32729 rows × 3 columns</p>\n",
              "</div>\n",
              "    <div class=\"colab-df-buttons\">\n",
              "\n",
              "  <div class=\"colab-df-container\">\n",
              "    <button class=\"colab-df-convert\" onclick=\"convertToInteractive('df-345396b6-6650-4442-bfc9-635c1722d6cb')\"\n",
              "            title=\"Convert this dataframe to an interactive table.\"\n",
              "            style=\"display:none;\">\n",
              "\n",
              "  <svg xmlns=\"http://www.w3.org/2000/svg\" height=\"24px\" viewBox=\"0 -960 960 960\">\n",
              "    <path d=\"M120-120v-720h720v720H120Zm60-500h600v-160H180v160Zm220 220h160v-160H400v160Zm0 220h160v-160H400v160ZM180-400h160v-160H180v160Zm440 0h160v-160H620v160ZM180-180h160v-160H180v160Zm440 0h160v-160H620v160Z\"/>\n",
              "  </svg>\n",
              "    </button>\n",
              "\n",
              "  <style>\n",
              "    .colab-df-container {\n",
              "      display:flex;\n",
              "      gap: 12px;\n",
              "    }\n",
              "\n",
              "    .colab-df-convert {\n",
              "      background-color: #E8F0FE;\n",
              "      border: none;\n",
              "      border-radius: 50%;\n",
              "      cursor: pointer;\n",
              "      display: none;\n",
              "      fill: #1967D2;\n",
              "      height: 32px;\n",
              "      padding: 0 0 0 0;\n",
              "      width: 32px;\n",
              "    }\n",
              "\n",
              "    .colab-df-convert:hover {\n",
              "      background-color: #E2EBFA;\n",
              "      box-shadow: 0px 1px 2px rgba(60, 64, 67, 0.3), 0px 1px 3px 1px rgba(60, 64, 67, 0.15);\n",
              "      fill: #174EA6;\n",
              "    }\n",
              "\n",
              "    .colab-df-buttons div {\n",
              "      margin-bottom: 4px;\n",
              "    }\n",
              "\n",
              "    [theme=dark] .colab-df-convert {\n",
              "      background-color: #3B4455;\n",
              "      fill: #D2E3FC;\n",
              "    }\n",
              "\n",
              "    [theme=dark] .colab-df-convert:hover {\n",
              "      background-color: #434B5C;\n",
              "      box-shadow: 0px 1px 3px 1px rgba(0, 0, 0, 0.15);\n",
              "      filter: drop-shadow(0px 1px 2px rgba(0, 0, 0, 0.3));\n",
              "      fill: #FFFFFF;\n",
              "    }\n",
              "  </style>\n",
              "\n",
              "    <script>\n",
              "      const buttonEl =\n",
              "        document.querySelector('#df-345396b6-6650-4442-bfc9-635c1722d6cb button.colab-df-convert');\n",
              "      buttonEl.style.display =\n",
              "        google.colab.kernel.accessAllowed ? 'block' : 'none';\n",
              "\n",
              "      async function convertToInteractive(key) {\n",
              "        const element = document.querySelector('#df-345396b6-6650-4442-bfc9-635c1722d6cb');\n",
              "        const dataTable =\n",
              "          await google.colab.kernel.invokeFunction('convertToInteractive',\n",
              "                                                    [key], {});\n",
              "        if (!dataTable) return;\n",
              "\n",
              "        const docLinkHtml = 'Like what you see? Visit the ' +\n",
              "          '<a target=\"_blank\" href=https://colab.research.google.com/notebooks/data_table.ipynb>data table notebook</a>'\n",
              "          + ' to learn more about interactive tables.';\n",
              "        element.innerHTML = '';\n",
              "        dataTable['output_type'] = 'display_data';\n",
              "        await google.colab.output.renderOutput(dataTable, element);\n",
              "        const docLink = document.createElement('div');\n",
              "        docLink.innerHTML = docLinkHtml;\n",
              "        element.appendChild(docLink);\n",
              "      }\n",
              "    </script>\n",
              "  </div>\n",
              "\n",
              "\n",
              "<div id=\"df-d24a8a47-2d20-460b-85fe-a3410ae4de17\">\n",
              "  <button class=\"colab-df-quickchart\" onclick=\"quickchart('df-d24a8a47-2d20-460b-85fe-a3410ae4de17')\"\n",
              "            title=\"Suggest charts\"\n",
              "            style=\"display:none;\">\n",
              "\n",
              "<svg xmlns=\"http://www.w3.org/2000/svg\" height=\"24px\"viewBox=\"0 0 24 24\"\n",
              "     width=\"24px\">\n",
              "    <g>\n",
              "        <path d=\"M19 3H5c-1.1 0-2 .9-2 2v14c0 1.1.9 2 2 2h14c1.1 0 2-.9 2-2V5c0-1.1-.9-2-2-2zM9 17H7v-7h2v7zm4 0h-2V7h2v10zm4 0h-2v-4h2v4z\"/>\n",
              "    </g>\n",
              "</svg>\n",
              "  </button>\n",
              "\n",
              "<style>\n",
              "  .colab-df-quickchart {\n",
              "      --bg-color: #E8F0FE;\n",
              "      --fill-color: #1967D2;\n",
              "      --hover-bg-color: #E2EBFA;\n",
              "      --hover-fill-color: #174EA6;\n",
              "      --disabled-fill-color: #AAA;\n",
              "      --disabled-bg-color: #DDD;\n",
              "  }\n",
              "\n",
              "  [theme=dark] .colab-df-quickchart {\n",
              "      --bg-color: #3B4455;\n",
              "      --fill-color: #D2E3FC;\n",
              "      --hover-bg-color: #434B5C;\n",
              "      --hover-fill-color: #FFFFFF;\n",
              "      --disabled-bg-color: #3B4455;\n",
              "      --disabled-fill-color: #666;\n",
              "  }\n",
              "\n",
              "  .colab-df-quickchart {\n",
              "    background-color: var(--bg-color);\n",
              "    border: none;\n",
              "    border-radius: 50%;\n",
              "    cursor: pointer;\n",
              "    display: none;\n",
              "    fill: var(--fill-color);\n",
              "    height: 32px;\n",
              "    padding: 0;\n",
              "    width: 32px;\n",
              "  }\n",
              "\n",
              "  .colab-df-quickchart:hover {\n",
              "    background-color: var(--hover-bg-color);\n",
              "    box-shadow: 0 1px 2px rgba(60, 64, 67, 0.3), 0 1px 3px 1px rgba(60, 64, 67, 0.15);\n",
              "    fill: var(--button-hover-fill-color);\n",
              "  }\n",
              "\n",
              "  .colab-df-quickchart-complete:disabled,\n",
              "  .colab-df-quickchart-complete:disabled:hover {\n",
              "    background-color: var(--disabled-bg-color);\n",
              "    fill: var(--disabled-fill-color);\n",
              "    box-shadow: none;\n",
              "  }\n",
              "\n",
              "  .colab-df-spinner {\n",
              "    border: 2px solid var(--fill-color);\n",
              "    border-color: transparent;\n",
              "    border-bottom-color: var(--fill-color);\n",
              "    animation:\n",
              "      spin 1s steps(1) infinite;\n",
              "  }\n",
              "\n",
              "  @keyframes spin {\n",
              "    0% {\n",
              "      border-color: transparent;\n",
              "      border-bottom-color: var(--fill-color);\n",
              "      border-left-color: var(--fill-color);\n",
              "    }\n",
              "    20% {\n",
              "      border-color: transparent;\n",
              "      border-left-color: var(--fill-color);\n",
              "      border-top-color: var(--fill-color);\n",
              "    }\n",
              "    30% {\n",
              "      border-color: transparent;\n",
              "      border-left-color: var(--fill-color);\n",
              "      border-top-color: var(--fill-color);\n",
              "      border-right-color: var(--fill-color);\n",
              "    }\n",
              "    40% {\n",
              "      border-color: transparent;\n",
              "      border-right-color: var(--fill-color);\n",
              "      border-top-color: var(--fill-color);\n",
              "    }\n",
              "    60% {\n",
              "      border-color: transparent;\n",
              "      border-right-color: var(--fill-color);\n",
              "    }\n",
              "    80% {\n",
              "      border-color: transparent;\n",
              "      border-right-color: var(--fill-color);\n",
              "      border-bottom-color: var(--fill-color);\n",
              "    }\n",
              "    90% {\n",
              "      border-color: transparent;\n",
              "      border-bottom-color: var(--fill-color);\n",
              "    }\n",
              "  }\n",
              "</style>\n",
              "\n",
              "  <script>\n",
              "    async function quickchart(key) {\n",
              "      const quickchartButtonEl =\n",
              "        document.querySelector('#' + key + ' button');\n",
              "      quickchartButtonEl.disabled = true;  // To prevent multiple clicks.\n",
              "      quickchartButtonEl.classList.add('colab-df-spinner');\n",
              "      try {\n",
              "        const charts = await google.colab.kernel.invokeFunction(\n",
              "            'suggestCharts', [key], {});\n",
              "      } catch (error) {\n",
              "        console.error('Error during call to suggestCharts:', error);\n",
              "      }\n",
              "      quickchartButtonEl.classList.remove('colab-df-spinner');\n",
              "      quickchartButtonEl.classList.add('colab-df-quickchart-complete');\n",
              "    }\n",
              "    (() => {\n",
              "      let quickchartButtonEl =\n",
              "        document.querySelector('#df-d24a8a47-2d20-460b-85fe-a3410ae4de17 button');\n",
              "      quickchartButtonEl.style.display =\n",
              "        google.colab.kernel.accessAllowed ? 'block' : 'none';\n",
              "    })();\n",
              "  </script>\n",
              "</div>\n",
              "\n",
              "  <div id=\"id_f6230cec-5ca4-4179-9292-d48217f8782c\">\n",
              "    <style>\n",
              "      .colab-df-generate {\n",
              "        background-color: #E8F0FE;\n",
              "        border: none;\n",
              "        border-radius: 50%;\n",
              "        cursor: pointer;\n",
              "        display: none;\n",
              "        fill: #1967D2;\n",
              "        height: 32px;\n",
              "        padding: 0 0 0 0;\n",
              "        width: 32px;\n",
              "      }\n",
              "\n",
              "      .colab-df-generate:hover {\n",
              "        background-color: #E2EBFA;\n",
              "        box-shadow: 0px 1px 2px rgba(60, 64, 67, 0.3), 0px 1px 3px 1px rgba(60, 64, 67, 0.15);\n",
              "        fill: #174EA6;\n",
              "      }\n",
              "\n",
              "      [theme=dark] .colab-df-generate {\n",
              "        background-color: #3B4455;\n",
              "        fill: #D2E3FC;\n",
              "      }\n",
              "\n",
              "      [theme=dark] .colab-df-generate:hover {\n",
              "        background-color: #434B5C;\n",
              "        box-shadow: 0px 1px 3px 1px rgba(0, 0, 0, 0.15);\n",
              "        filter: drop-shadow(0px 1px 2px rgba(0, 0, 0, 0.3));\n",
              "        fill: #FFFFFF;\n",
              "      }\n",
              "    </style>\n",
              "    <button class=\"colab-df-generate\" onclick=\"generateWithVariable('df')\"\n",
              "            title=\"Generate code using this dataframe.\"\n",
              "            style=\"display:none;\">\n",
              "\n",
              "  <svg xmlns=\"http://www.w3.org/2000/svg\" height=\"24px\"viewBox=\"0 0 24 24\"\n",
              "       width=\"24px\">\n",
              "    <path d=\"M7,19H8.4L18.45,9,17,7.55,7,17.6ZM5,21V16.75L18.45,3.32a2,2,0,0,1,2.83,0l1.4,1.43a1.91,1.91,0,0,1,.58,1.4,1.91,1.91,0,0,1-.58,1.4L9.25,21ZM18.45,9,17,7.55Zm-12,3A5.31,5.31,0,0,0,4.9,8.1,5.31,5.31,0,0,0,1,6.5,5.31,5.31,0,0,0,4.9,4.9,5.31,5.31,0,0,0,6.5,1,5.31,5.31,0,0,0,8.1,4.9,5.31,5.31,0,0,0,12,6.5,5.46,5.46,0,0,0,6.5,12Z\"/>\n",
              "  </svg>\n",
              "    </button>\n",
              "    <script>\n",
              "      (() => {\n",
              "      const buttonEl =\n",
              "        document.querySelector('#id_f6230cec-5ca4-4179-9292-d48217f8782c button.colab-df-generate');\n",
              "      buttonEl.style.display =\n",
              "        google.colab.kernel.accessAllowed ? 'block' : 'none';\n",
              "\n",
              "      buttonEl.onclick = () => {\n",
              "        google.colab.notebook.generateWithVariable('df');\n",
              "      }\n",
              "      })();\n",
              "    </script>\n",
              "  </div>\n",
              "\n",
              "    </div>\n",
              "  </div>\n"
            ],
            "text/plain": [
              "                                                   words  \\\n",
              "0      خانم نزهت‌الدوله گرچه تا به حال سه تا شوهر کرد...   \n",
              "1      خانم نزهت‌الدوله گرچه تا به حال سه تا شوهر کرد...   \n",
              "2                     تو به من مجال دادی تا پروانه شوم .   \n",
              "3                     تو به من مجال دادی تا پروانه شوم .   \n",
              "4      هر زمان این غریزه و فطرت و رشد سنی و عقلی و اج...   \n",
              "...                                                  ...   \n",
              "32724  روسیه به زودی برای عمل به تعهدهای خود به اروپا...   \n",
              "32725  منازعه و مشاجرۀ پدر و مادر اقدام ناخوشایندی اس...   \n",
              "32726  منازعه و مشاجرۀ پدر و مادر اقدام ناخوشایندی اس...   \n",
              "32727  منازعه و مشاجرۀ پدر و مادر اقدام ناخوشایندی اس...   \n",
              "32728  منازعه و مشاجرۀ پدر و مادر اقدام ناخوشایندی اس...   \n",
              "\n",
              "                                            frameNetTags  \\\n",
              "0      [O, O, O, O, O, O, O, O, O, O, O, O, O, O, O, ...   \n",
              "1      [جستجو_کننده, جستجو_کننده, O, O, O, O, O, O, O...   \n",
              "2      [مرجع_ذیصلاح, قهرمان, قهرمان, O, O, عمل, عمل, ...   \n",
              "3                   [O, O, O, O, O, O, دسته_نهایی, O, O]   \n",
              "4      [O, O, موجودیت, موجودیت, موجودیت, موجودیت, موج...   \n",
              "...                                                  ...   \n",
              "32724  [بحث‌کنندگان, زمان, زمان, مسئله, مسئله, مسئله,...   \n",
              "32725  [O, O, O, بحث‌کنندگان, بحث‌کنندگان, بحث‌کنندگا...   \n",
              "32726  [روش, روش, روش, عامل, عامل, عامل, O, توضیح, O,...   \n",
              "32727  [O, O, O, O, O, O, O, O, O, O, شاخص, شاخص, O, ...   \n",
              "32728  [O, O, O, O, O, O, O, O, O, O, O, O, O, O, O, ...   \n",
              "\n",
              "                                            propBankTags  \n",
              "0      [O, O, O, O, O, O, O, O, O, O, O, O, O, O, O, ...  \n",
              "1      [O, O, O, O, O, O, O, O, O, O, O, O, O, O, O, ...  \n",
              "2            [B-A0, B-A2, O, B-NVE, B-V, B-PRP, O, O, O]  \n",
              "3                       [O, O, O, O, O, O, B-A2, B-V, O]  \n",
              "4      [O, O, O, B-A2, O, O, O, O, O, O, O, O, O, B-N...  \n",
              "...                                                  ...  \n",
              "32724  [B-A0, B-TMP, O, B-A2, O, O, O, O, O, O, O, O,...  \n",
              "32725  [B-N-V, O, O, B-A0, B-A1, O, O, O, O, O, O, O,...  \n",
              "32726  [B-A1, O, O, O, O, O, B-A2, O, B-V, O, O, O, O...  \n",
              "32727  [O, O, O, O, O, O, O, O, O, O, B-Arg2_B1, O, B...  \n",
              "32728  [O, O, O, O, O, O, O, O, O, O, O, O, O, B-N-V,...  \n",
              "\n",
              "[32729 rows x 3 columns]"
            ]
          },
          "execution_count": 14,
          "metadata": {},
          "output_type": "execute_result"
        }
      ],
      "source": [
        "df"
      ]
    },
    {
      "cell_type": "code",
      "execution_count": null,
      "metadata": {
        "id": "TdE8Tp_Jv2Ly"
      },
      "outputs": [],
      "source": [
        "train_data, temp_data = train_test_split(df, test_size=0.2, random_state=42)\n",
        "validation_data, test_data = train_test_split(temp_data, test_size=0.5, random_state=42)\n",
        "print(\"Training set size:\", len(train_data))\n",
        "print(\"Validation set size:\", len(validation_data))\n",
        "print(\"Test set size:\", len(test_data))"
      ]
    },
    {
      "cell_type": "code",
      "execution_count": null,
      "metadata": {
        "colab": {
          "base_uri": "https://localhost:8080/",
          "height": 205,
          "referenced_widgets": [
            "40b09d31cc0f48cd9b518c7f24be7e9e",
            "e39ce766f4a24c39a1feb0419e672db3",
            "ba599fe6b5ee45d2a1540c514980d8f8",
            "026d077f08644a039e0d5b4e25348d05",
            "45db76607a054cd9a59a97eaa375452f",
            "970b71de2eb0473e9df2aa404d2f6c3c",
            "037b5ba2565d4431a43b89ff34db7323",
            "b2120a82c98e42ba8453baea41cd6815",
            "fcb747ad12b548dea30dd192dba1f779",
            "e8cd3e5f7923407e9901215ef0297c5a",
            "14b6e2a63f9d486eac7eb940b1e77190",
            "f06e8a6cc78c4f8396beccdaba83a68c",
            "254055e356944aaaaad4cd4ce64f1049",
            "08ec682c208b45eb879c8f398a950d1a",
            "5a8e3d88818e4dd8b5018fc9954064ba",
            "85074ee68a1a4eb99d16ad9a247427b0",
            "4aaf518a5f2a4988936da37bc1363f5c",
            "e0751852e8e142ca9aa71e70bcdfa169",
            "8d784007e7e24aceaa3e13d3e9b3679e",
            "42ea2d59f8d94e529d84fd75d6073bce",
            "40f85f0a467744ed8b7dfc69ae1e2f28",
            "e6cb7e08dd8e4d8384c3d007e9d831e8"
          ]
        },
        "id": "gAljfzJSZvPE",
        "outputId": "452e9270-0dc8-490b-93c4-642df121c608"
      },
      "outputs": [
        {
          "name": "stderr",
          "output_type": "stream",
          "text": [
            "/usr/local/lib/python3.11/dist-packages/huggingface_hub/utils/_auth.py:94: UserWarning: \n",
            "The secret `HF_TOKEN` does not exist in your Colab secrets.\n",
            "To authenticate with the Hugging Face Hub, create a token in your settings tab (https://huggingface.co/settings/tokens), set it as secret in your Google Colab and restart your session.\n",
            "You will be able to reuse this secret in all of your notebooks.\n",
            "Please note that authentication is recommended but still optional to access public models or datasets.\n",
            "  warnings.warn(\n"
          ]
        },
        {
          "data": {
            "application/vnd.jupyter.widget-view+json": {
              "model_id": "40b09d31cc0f48cd9b518c7f24be7e9e",
              "version_major": 2,
              "version_minor": 0
            },
            "text/plain": [
              "config.json:   0%|          | 0.00/434 [00:00<?, ?B/s]"
            ]
          },
          "metadata": {},
          "output_type": "display_data"
        },
        {
          "data": {
            "application/vnd.jupyter.widget-view+json": {
              "model_id": "f06e8a6cc78c4f8396beccdaba83a68c",
              "version_major": 2,
              "version_minor": 0
            },
            "text/plain": [
              "vocab.txt:   0%|          | 0.00/1.22M [00:00<?, ?B/s]"
            ]
          },
          "metadata": {},
          "output_type": "display_data"
        }
      ],
      "source": [
        "from transformers import AutoTokenizer, AutoModelForMaskedLM\n",
        "tokenizer = AutoTokenizer.from_pretrained(\"HooshvareLab/bert-base-parsbert-uncased\")"
      ]
    },
    {
      "cell_type": "code",
      "execution_count": null,
      "metadata": {
        "colab": {
          "base_uri": "https://localhost:8080/"
        },
        "id": "W57ljReCWqu7",
        "outputId": "dc7c807f-6e8e-4342-c073-952b8a133257"
      },
      "outputs": [
        {
          "name": "stderr",
          "output_type": "stream",
          "text": [
            "<ipython-input-22-d10e9a2cbb9e>:1: SettingWithCopyWarning: \n",
            "A value is trying to be set on a copy of a slice from a DataFrame.\n",
            "Try using .loc[row_indexer,col_indexer] = value instead\n",
            "\n",
            "See the caveats in the documentation: https://pandas.pydata.org/pandas-docs/stable/user_guide/indexing.html#returning-a-view-versus-a-copy\n",
            "  df[\"Words\"] = df[\"words\"].apply(lambda sentence: [word.strip() for word in sentence.split(' ')])\n"
          ]
        }
      ],
      "source": [
        "df[\"Words\"] = df[\"words\"].apply(lambda sentence: [word.strip() for word in sentence.split(' ')])#sentence"
      ]
    },
    {
      "cell_type": "code",
      "execution_count": null,
      "metadata": {
        "colab": {
          "base_uri": "https://localhost:8080/",
          "height": 177,
          "referenced_widgets": [
            "2185b109dfa44c6aa5ce305b6c8a67cc",
            "496b3b8ecf0146339171dca3993419a5",
            "12703c5ca4234eeaa8e23664b624de5d",
            "cec40e75f3c54badac27a9f23e1e0ab4",
            "6115ef7978fb4fc5863b3b14cc01de59",
            "f49bcb74516644eb919d21700aa663bd",
            "de3fff28d1a744ae8c8eb2e0e2b4b919",
            "bbe779192bae418695d2f9f9f7343775",
            "d1de5b9f880043fe9f51e92fbbab3f4f",
            "30ad49789d6d46b8b4b35911393265f7",
            "0496a0476e0c4beeb4be632f05117fcb",
            "ad2184e51dc448f89479fe3d9925049d",
            "3837e4b3ecc748e9b0f425ac096712d6",
            "a0a41fea7e994955b0df3579df697d40",
            "db38f1a3dfe244beb4e85689daf207e4",
            "cf238be5f34249ddb0730f1cb7d28578",
            "3f21ebb2ac554f60bcaad02df169afee",
            "642cffe861844639a33ebba70c57afeb",
            "2e96924f6bcd4296b26557c9870c8a24",
            "b28a59508b5444fb923c03900d589868",
            "3c22a415c28d47b18d598d73aafd0170",
            "9e032ed473a8446aa3c2c027a0e897a9",
            "5c3d9ffbaf7a46fdb09d1f8a531a7c90",
            "03f51865963a4d3daf0b92d5afa8072e",
            "712ae65a9b164aa9a8ce61816ba1caef",
            "624101ab81ff4ee4a3ed0f287cba228d",
            "0e8da7b4bc414a95a8afe61aae4688d6",
            "9e048169e9c44a9ebdc6474e2f630b05",
            "145850bbb152479bb6e84ad74ba29de3",
            "52fe72b393cf4332bd1cbb906e3d5745",
            "74f000f779d1433cb7d906c2bc5118ca",
            "398222c71521450a9f8597224957e1a2",
            "f63cdd847d6e48799fc6a7a6a61b5e2e",
            "54d1ed104c8545cba69cd358c898b3fb",
            "989487502a914a2cbdc4c7e76b245f42",
            "c01f7ccb711b487580b2b038e601e7b5",
            "8af6ef6e3f614d23b46fb1651982eb63",
            "16735d7673344006b68e10c1b66b87ca",
            "d3f4b2e923264ebd87dff5e36453baf7",
            "311fce3277e74ec9a44cff31a484b6d0",
            "0231c65f71ae44e7acae705996e72a25",
            "a22726502c0846389874047359878bb3",
            "0c2f8a92fc4244a7988092f868446d77",
            "c15d5c5c7fe84a06a8f46a145359d0fc",
            "3226106ef34d4a9fac8dcdd2a1d85c84",
            "47768528f9bf49ebb59ee3fcfcbe4b0a",
            "6d5ca5d3e7e748dd8ad25754a8e2ccf6",
            "8da5a39122734b4a9d864f3b30b7105c",
            "93feccbc16534150b26b3f9fc25fa4fb",
            "5a45c54b3e834779b0227f2db8e309b0",
            "c5d38dedb8ca49558dac79533a5ff1fb",
            "47f486aad6254354b35f859f752da49e",
            "1ff2f9c5a62948afa5aa88927bfbb97f",
            "ac4522db218f4f0c902430d72a51ecb8",
            "090b0fd9a82e4cb5a8de0d7ee1597e4b"
          ]
        },
        "id": "TK8CK9ozU-xB",
        "outputId": "28b71bd9-e1de-4e09-b801-218118f304c4"
      },
      "outputs": [
        {
          "data": {
            "application/vnd.jupyter.widget-view+json": {
              "model_id": "2185b109dfa44c6aa5ce305b6c8a67cc",
              "version_major": 2,
              "version_minor": 0
            },
            "text/plain": [
              "tokenizer_config.json:   0%|          | 0.00/346 [00:00<?, ?B/s]"
            ]
          },
          "metadata": {},
          "output_type": "display_data"
        },
        {
          "data": {
            "application/vnd.jupyter.widget-view+json": {
              "model_id": "ad2184e51dc448f89479fe3d9925049d",
              "version_major": 2,
              "version_minor": 0
            },
            "text/plain": [
              "config.json:   0%|          | 0.00/1.38k [00:00<?, ?B/s]"
            ]
          },
          "metadata": {},
          "output_type": "display_data"
        },
        {
          "data": {
            "application/vnd.jupyter.widget-view+json": {
              "model_id": "5c3d9ffbaf7a46fdb09d1f8a531a7c90",
              "version_major": 2,
              "version_minor": 0
            },
            "text/plain": [
              "vocab.txt:   0%|          | 0.00/426k [00:00<?, ?B/s]"
            ]
          },
          "metadata": {},
          "output_type": "display_data"
        },
        {
          "data": {
            "application/vnd.jupyter.widget-view+json": {
              "model_id": "54d1ed104c8545cba69cd358c898b3fb",
              "version_major": 2,
              "version_minor": 0
            },
            "text/plain": [
              "tokenizer.json:   0%|          | 0.00/1.11M [00:00<?, ?B/s]"
            ]
          },
          "metadata": {},
          "output_type": "display_data"
        },
        {
          "data": {
            "application/vnd.jupyter.widget-view+json": {
              "model_id": "3226106ef34d4a9fac8dcdd2a1d85c84",
              "version_major": 2,
              "version_minor": 0
            },
            "text/plain": [
              "special_tokens_map.json:   0%|          | 0.00/134 [00:00<?, ?B/s]"
            ]
          },
          "metadata": {},
          "output_type": "display_data"
        }
      ],
      "source": [
        "from transformers import AutoTokenizer\n",
        "tokenizer = AutoTokenizer.from_pretrained(\"HooshvareLab/bert-fa-zwnj-base-ner\")"
      ]
    },
    {
      "cell_type": "code",
      "execution_count": null,
      "metadata": {
        "colab": {
          "base_uri": "https://localhost:8080/"
        },
        "id": "c3PrqPEW8kcY",
        "outputId": "a6762a70-7c29-48b4-f9d7-63f751145a64"
      },
      "outputs": [
        {
          "data": {
            "text/plain": [
              "['[CLS]',\n",
              " 'خانم',\n",
              " 'نزه',\n",
              " '##ت',\n",
              " '[ZWNJ]',\n",
              " 'الدوله',\n",
              " 'گرچه',\n",
              " 'تا',\n",
              " 'به',\n",
              " 'حال',\n",
              " 'سه',\n",
              " 'تا',\n",
              " 'شوهر',\n",
              " 'کرده',\n",
              " 'و',\n",
              " 'شش',\n",
              " 'بار',\n",
              " 'زاییده',\n",
              " 'و',\n",
              " 'دو',\n",
              " 'تا',\n",
              " 'از',\n",
              " 'دخترهای',\n",
              " '##ش',\n",
              " 'هم',\n",
              " 'به',\n",
              " '[UNK]',\n",
              " 'داماد',\n",
              " 'فرستاده',\n",
              " '_',\n",
              " 'شده',\n",
              " '[ZWNJ]',\n",
              " 'اند',\n",
              " 'و',\n",
              " 'حالا',\n",
              " 'دیگر',\n",
              " 'برای',\n",
              " 'خودش',\n",
              " 'مادربزرگ',\n",
              " 'شده',\n",
              " '_',\n",
              " 'است',\n",
              " '،',\n",
              " 'باز',\n",
              " 'هم',\n",
              " 'عقیده',\n",
              " 'دارد',\n",
              " 'که',\n",
              " 'پیری',\n",
              " 'و',\n",
              " 'جوانی',\n",
              " 'دست',\n",
              " 'خود',\n",
              " 'آ',\n",
              " '##دم',\n",
              " 'است',\n",
              " 'و',\n",
              " 'گرچه',\n",
              " 'سر',\n",
              " 'و',\n",
              " 'همسر',\n",
              " 'و',\n",
              " 'خویشان',\n",
              " 'و',\n",
              " 'دوستان',\n",
              " 'می',\n",
              " '[ZWNJ]',\n",
              " 'گویند',\n",
              " 'که',\n",
              " 'پنجاه',\n",
              " 'سالی',\n",
              " 'دارد',\n",
              " 'ولی',\n",
              " 'هنوز',\n",
              " 'دو',\n",
              " 'دستی',\n",
              " 'به',\n",
              " 'جوانی',\n",
              " '[ZWNJ]',\n",
              " 'اش',\n",
              " 'چسبیده',\n",
              " 'و',\n",
              " 'هنوز',\n",
              " 'هم',\n",
              " 'در',\n",
              " 'جستجوی',\n",
              " 'شوهر',\n",
              " 'ایده',\n",
              " '[ZWNJ]',\n",
              " 'آ',\n",
              " '##ل',\n",
              " 'به',\n",
              " 'این',\n",
              " 'در',\n",
              " 'و',\n",
              " 'آ',\n",
              " '##ن',\n",
              " 'در',\n",
              " 'می',\n",
              " '[ZWNJ]',\n",
              " 'زند',\n",
              " '.',\n",
              " '[SEP]']"
            ]
          },
          "execution_count": 29,
          "metadata": {},
          "output_type": "execute_result"
        }
      ],
      "source": [
        "tokenized_input = tokenizer(df['Sentence'][0].split(' '), is_split_into_words=True)\n",
        "tokenizer.convert_ids_to_tokens(tokenized_input[\"input_ids\"])"
      ]
    },
    {
      "cell_type": "code",
      "execution_count": null,
      "metadata": {
        "id": "1jRbNPH0GSxT"
      },
      "outputs": [],
      "source": [
        "def create_role_id_dictionary():\n",
        "    \"\"\"Creates a dictionary that maps PropBank roles to numerical IDs.\"\"\"\n",
        "    roles = set()\n",
        "    frame_elements = set()\n",
        "    for _, row in df.iterrows():\n",
        "        prop_str = row['PropBank Roles']\n",
        "        framenet_str = row['frameNetTa']\n",
        "        roles.update(prop_str)\n",
        "        frame_elements.update(framenet_str)\n",
        "    role_id_dict = defaultdict(int)\n",
        "    frame_id_dict = defaultdict(int)\n",
        "    index = 1\n",
        "    for role in roles:\n",
        "        role_id_dict[role] = index\n",
        "        index += 1\n",
        "    for frame_element in frame_elements:\n",
        "        frame_id_dict[frame_element] = index\n",
        "        index += 1\n",
        "    return role_id_dict, frame_id_dict, roles, frame_elements"
      ]
    },
    {
      "cell_type": "code",
      "execution_count": null,
      "metadata": {
        "colab": {
          "base_uri": "https://localhost:8080/"
        },
        "id": "wlyiZZ-ILuyj",
        "outputId": "6ce1c933-acab-4909-87f2-e9adb1a45c64"
      },
      "outputs": [
        {
          "name": "stdout",
          "output_type": "stream",
          "text": [
            "Role2ID:defaultdict(<class 'int'>, {'B-REC': 1, 'B-MOD': 2, 'B-CAU': 3, 'B-A1': 4, 'B-Arg2_B1': 5, 'B-EXT': 6, 'B-A0': 7, 'B-GOL': 8, 'B-Top': 9, 'B-V': 10, 'B-NVE': 11, 'B-Def': 12, 'B-COM': 13, 'B-A2': 14, 'B-ADJ': 15, 'B-CON': 16, 'B-PRP': 17, 'B-RCL2': 18, 'B-N-V': 19, 'B-RPT': 20, 'B-ASP': 21, 'B-INS': 22, 'B-DIS': 23, 'B-PRD': 24, 'B-RCL1': 25, 'B-TMP': 26, 'B-ArgA': 27, 'B-ADV': 28, 'B-A3': 29, 'B-MNR': 30, 'B-A4': 31, 'B-NEG': 32, 'B-T1': 33, 'O': 34, 'B-LOC': 35})\n",
            "Frame2ID:defaultdict(<class 'int'>, {'تجربه_گر': 36, 'مقام_مسؤل': 37, 'اقدام': 38, 'محل_تجمع': 39, 'توزیع\\u200cکننده': 40, 'معلم': 41, 'وضعیت': 42, 'بیان\\u200cگر': 43, 'گوینده1': 44, 'شرکت_کننده_2': 45, 'رویداد': 46, 'مبدأ': 47, 'درک': 48, 'تاثیر': 49, 'منبع': 50, 'صحنه': 51, 'توصیف': 52, 'مانع': 53, 'اتهام': 54, 'توصیف_كننده': 55, 'جامعه': 56, 'مبدا': 57, 'موجودیت1': 58, 'بلندگو': 59, 'تصمیم_گیرنده': 60, 'کارمند': 61, 'مشخصه_مداوم': 62, 'کالا': 63, 'موجودیت_خلق_شده': 64, 'تعداد_تکرار': 65, 'پرداخت_کننده': 66, 'منبع_صدا': 67, 'معیار': 68, 'رویداد_پیش\\u200cزمینه': 69, 'ویژگی_نمونه': 70, 'دارایی': 71, 'نویسنده': 72, 'گوینده': 73, 'شاخص': 74, 'مسافر': 75, 'مورد_1': 76, 'ویژگی_جزء': 77, 'عمل_سومند': 78, 'تماس_گیرنده': 79, 'توصیفی': 80, 'مانعی_بالقوه': 81, 'مشکل': 82, 'ابزار': 83, 'جنگجویان': 84, 'عرضه\\u200cکننده': 85, 'میزبان': 86, 'عامل_یا_کنشگر': 87, 'موضوع': 88, 'گروه': 89, 'رسانه': 90, 'سرعت': 91, 'موقعیت_مکانی': 92, 'شورش': 93, 'نتیجه': 94, 'کنش_پذیر': 95, 'پول': 96, 'موجود_کنترل_کننده': 97, 'مجری1': 98, 'صفت': 99, 'مکان': 100, 'کاربرد': 101, 'رویداد_برجسته': 102, 'هدف_درنظرگرفته\\u200cشده': 103, 'نام': 104, 'قاضی': 105, 'مایع': 106, 'قهرمان': 107, 'ارزیابی\\u200cشونده': 108, 'موسسه_نهاد': 109, 'مخاطب': 110, 'کار': 111, 'هم_موضوع': 112, 'مقصود': 113, 'روش': 114, 'بهره\\u200cور': 115, 'رویداد_گذرا': 116, 'کنش': 117, 'عقیده': 118, 'رویداد_خط_سیر': 119, 'علت_داخلی': 120, 'مكان': 121, 'محتوا': 122, 'عامل': 123, 'اداره_شونده': 124, 'مجرم': 125, 'رقابت_کننده': 126, 'نمونه': 127, 'حمایت\\u200cشده': 128, 'حامل': 129, 'عمل': 130, 'توضیح': 131, 'فرایند': 132, 'جستجو_کننده': 133, 'سازمان': 134, 'مدرک_منفعل': 135, 'تلاش': 136, 'موجودیت': 137, 'دسته_نهایی': 138, 'مشارک_2': 139, 'اثرپذیر': 140, 'گوینده2': 141, 'بازدیدکننده': 142, 'قاتل': 143, 'مورد': 144, 'رهبر': 145, 'کنشگر': 146, 'رویداد_فرضی': 147, 'نوع': 148, 'رهبری_کنونی': 149, 'پوشنده_لباس': 150, 'جریمه': 151, 'مالکیت': 152, 'تشخیص\\u200cگر': 153, 'مورد_2': 154, 'بسامد': 155, 'محصول': 156, 'بارش': 157, 'محل_استخدام': 158, 'موضوع_اول': 159, 'کلیت_کنش_پذیر': 160, 'اجزا': 161, 'فروشنده': 162, 'متوسط': 163, 'محل': 164, 'بلع_كننده': 165, 'ارزش': 166, 'ویژگی': 167, 'روش_حمل_و_نقل': 168, 'برگزیده': 169, 'خواننده': 170, 'شرکت_کننده_1_1': 171, 'حركت_كننده_ارادی': 172, 'محرک': 173, 'مدت_زمان_حالت_نهایی': 174, 'قومیت': 175, 'عنوان': 176, 'شخص': 177, 'منطقه': 178, 'جانب_1': 179, 'مسیر': 180, 'خالق': 181, 'طرف_مسئول': 182, 'فریب\\u200cدهنده': 183, 'خریدار': 184, 'عامل_حسگر': 185, 'اشغالگر': 186, 'علت': 187, 'جانب_2': 188, 'پارامتر': 189, 'نهاد_وابسته': 190, 'مقیم': 191, 'کمک_کننده': 192, 'قربانی': 193, 'مقوله': 194, 'تولید': 195, 'عمل_فعال': 196, 'ابعاد': 197, 'طرف\\u200c_ذینفع': 198, 'هدف_رویداد': 199, 'پیام': 200, 'احتمال_نماسازی\\u200cشده': 201, 'مورد_هدف': 202, 'الزام': 203, 'مساله': 204, 'مدت': 205, 'واسطه': 206, 'کنش\\u200cپذیر': 207, 'حوزه': 208, 'رفتار': 209, 'بهره_ور': 210, 'کیفیت_نهایی': 211, 'درجه': 212, 'خود_متحرک': 213, 'موجودیت_ها': 214, 'فرد_تصمیم_گیرنده': 215, 'مالک': 216, 'بِعد': 217, 'شرایط': 218, 'بافت': 219, 'حسگر': 220, 'زمینه': 221, 'زمان_نسبی': 222, 'رویداد_شامل': 223, 'وظیفه': 224, 'ارتباط\\u200cدهنده': 225, 'وضعیت_امور': 226, 'هنرمند': 227, 'محل_متنی': 228, 'دامنه': 229, 'متن': 230, 'رویداد_همزمان_شده': 231, 'کل': 232, 'وسیله\\u200cنقلیه': 233, 'سن': 234, 'متصرف': 235, 'کمیت': 236, 'اصل__الزام_آور': 237, 'متغیر_تاثیرگذار': 238, 'مقصود_تحمیلی': 239, 'فرآیند': 240, 'نگرش': 241, 'موجود_خلق_شده': 242, 'رویداد_ممکن': 243, 'مقدار_اولیه': 244, 'اعداد': 245, 'نابودشده': 246, 'ارزش_نهایی': 247, 'اصل_و_نسب': 248, 'اثر': 249, 'منابع': 250, 'هدف_ذاتی': 251, 'توصیفگر': 252, 'حکم': 253, 'شریک2': 254, 'تکرار': 255, 'زمان': 256, 'رقابت': 257, 'متن_شامل': 258, 'مرجع_ذیصلاح': 259, 'موجودیت2': 260, 'موجود_جستجوشده': 261, 'پیکر': 262, 'مهارت': 263, 'اهداکننده': 264, 'توصیف\\u200cگر': 265, 'تاثیرپذیرفته': 266, 'فرد_خواب': 267, 'سرزمین': 268, 'شمارش': 269, 'پذیرنده': 270, 'وضعیت_نهایی': 271, 'تجربه\\u200cگر': 272, 'توصیف_گر': 273, 'محل_اجرا': 274, 'شریک_اول': 275, 'شیوه': 276, 'طرف_متأثر': 277, 'موجودیت_ساخته\\u200cشده': 278, 'كنش_پذیر': 279, 'نقش': 280, 'مالک_ظرف': 281, 'ارزیابی\\u200c\\u200cشونده': 282, 'مالک_منطقه': 283, 'زمان_رویداد': 284, 'جستار': 285, 'محدوده': 286, 'تسلیم_شونده': 287, 'منطقه\\u200cی\\u200c_واردات': 288, 'مناسبت': 289, 'هدف': 290, 'شرح_رویداد': 291, 'وسیله_نقلیه': 292, 'موقعیت': 293, 'طول_زمان': 294, 'ویژگی_مورد': 295, 'پیامد': 296, 'معلول': 297, 'توصیف\\u200cنما': 298, 'مشارک_1': 299, 'مهمان': 300, 'پرتابه': 301, 'مقصد': 302, 'احتمال': 303, 'زمینه_آشنایی': 304, 'بازنمایی_مقصد': 305, 'موجود_مقاوم': 306, 'ارتباطگر': 307, 'مدت_زمان': 308, 'گیرنده': 309, 'راننده': 310, 'دانشجو': 311, 'شرکت\\u200cكننده_همراه': 312, 'موجودیت_جستجوشده': 313, 'وسیله': 314, 'شواهد': 315, 'موجود': 316, 'فرستنده': 317, 'سیستم': 318, 'برقرارکننده_ارتباط': 319, 'وسیله_جمع_آوری': 320, 'پدیده': 321, 'ملاحظات': 322, 'رویداد_همزمان': 323, 'طرف_بهره_ور': 324, 'سخنگو': 325, 'رویداد_مقایسه': 326, 'شاکی': 327, 'مجری2': 328, 'عضو_جدید': 329, 'وابسته': 330, 'چیز': 331, 'خوراکی': 332, 'طرف_های_مکالمه': 333, 'صدمه': 334, 'مهاجم': 335, 'خاطی': 336, 'فعالیت': 337, 'O': 338})\n",
            "Roles:{'B-REC', 'B-MOD', 'B-CAU', 'B-A1', 'B-Arg2_B1', 'B-EXT', 'B-A0', 'B-GOL', 'B-Top', 'B-V', 'B-NVE', 'B-Def', 'B-COM', 'B-A2', 'B-ADJ', 'B-CON', 'B-PRP', 'B-RCL2', 'B-N-V', 'B-RPT', 'B-ASP', 'B-INS', 'B-DIS', 'B-PRD', 'B-RCL1', 'B-TMP', 'B-ArgA', 'B-ADV', 'B-A3', 'B-MNR', 'B-A4', 'B-NEG', 'B-T1', 'O', 'B-LOC'}\n",
            "Frame Elements:{'تجربه_گر', 'مقام_مسؤل', 'اقدام', 'محل_تجمع', 'توزیع\\u200cکننده', 'معلم', 'وضعیت', 'بیان\\u200cگر', 'گوینده1', 'شرکت_کننده_2', 'رویداد', 'مبدأ', 'درک', 'تاثیر', 'منبع', 'صحنه', 'توصیف', 'مانع', 'اتهام', 'توصیف_كننده', 'جامعه', 'مبدا', 'موجودیت1', 'بلندگو', 'تصمیم_گیرنده', 'کارمند', 'مشخصه_مداوم', 'کالا', 'موجودیت_خلق_شده', 'تعداد_تکرار', 'پرداخت_کننده', 'منبع_صدا', 'معیار', 'رویداد_پیش\\u200cزمینه', 'ویژگی_نمونه', 'دارایی', 'نویسنده', 'گوینده', 'شاخص', 'مسافر', 'مورد_1', 'ویژگی_جزء', 'عمل_سومند', 'تماس_گیرنده', 'توصیفی', 'مانعی_بالقوه', 'مشکل', 'ابزار', 'جنگجویان', 'عرضه\\u200cکننده', 'میزبان', 'عامل_یا_کنشگر', 'موضوع', 'گروه', 'رسانه', 'سرعت', 'موقعیت_مکانی', 'شورش', 'نتیجه', 'کنش_پذیر', 'پول', 'موجود_کنترل_کننده', 'مجری1', 'صفت', 'مکان', 'کاربرد', 'رویداد_برجسته', 'هدف_درنظرگرفته\\u200cشده', 'نام', 'قاضی', 'مایع', 'قهرمان', 'ارزیابی\\u200cشونده', 'موسسه_نهاد', 'مخاطب', 'کار', 'هم_موضوع', 'مقصود', 'روش', 'بهره\\u200cور', 'رویداد_گذرا', 'کنش', 'عقیده', 'رویداد_خط_سیر', 'علت_داخلی', 'مكان', 'محتوا', 'عامل', 'اداره_شونده', 'مجرم', 'رقابت_کننده', 'نمونه', 'حمایت\\u200cشده', 'حامل', 'عمل', 'توضیح', 'فرایند', 'جستجو_کننده', 'سازمان', 'مدرک_منفعل', 'تلاش', 'موجودیت', 'دسته_نهایی', 'مشارک_2', 'اثرپذیر', 'گوینده2', 'بازدیدکننده', 'قاتل', 'مورد', 'رهبر', 'کنشگر', 'رویداد_فرضی', 'نوع', 'رهبری_کنونی', 'پوشنده_لباس', 'جریمه', 'مالکیت', 'تشخیص\\u200cگر', 'مورد_2', 'بسامد', 'محصول', 'بارش', 'محل_استخدام', 'موضوع_اول', 'کلیت_کنش_پذیر', 'اجزا', 'فروشنده', 'متوسط', 'محل', 'بلع_كننده', 'ارزش', 'ویژگی', 'روش_حمل_و_نقل', 'برگزیده', 'خواننده', 'شرکت_کننده_1_1', 'حركت_كننده_ارادی', 'محرک', 'مدت_زمان_حالت_نهایی', 'قومیت', 'عنوان', 'شخص', 'منطقه', 'جانب_1', 'مسیر', 'خالق', 'طرف_مسئول', 'فریب\\u200cدهنده', 'خریدار', 'عامل_حسگر', 'اشغالگر', 'علت', 'جانب_2', 'پارامتر', 'نهاد_وابسته', 'مقیم', 'کمک_کننده', 'قربانی', 'مقوله', 'تولید', 'عمل_فعال', 'ابعاد', 'طرف\\u200c_ذینفع', 'هدف_رویداد', 'پیام', 'احتمال_نماسازی\\u200cشده', 'مورد_هدف', 'الزام', 'مساله', 'مدت', 'واسطه', 'کنش\\u200cپذیر', 'حوزه', 'رفتار', 'بهره_ور', 'کیفیت_نهایی', 'درجه', 'خود_متحرک', 'موجودیت_ها', 'فرد_تصمیم_گیرنده', 'مالک', 'بِعد', 'شرایط', 'بافت', 'حسگر', 'زمینه', 'زمان_نسبی', 'رویداد_شامل', 'وظیفه', 'ارتباط\\u200cدهنده', 'وضعیت_امور', 'هنرمند', 'محل_متنی', 'دامنه', 'متن', 'رویداد_همزمان_شده', 'کل', 'وسیله\\u200cنقلیه', 'سن', 'متصرف', 'کمیت', 'اصل__الزام_آور', 'متغیر_تاثیرگذار', 'مقصود_تحمیلی', 'فرآیند', 'نگرش', 'موجود_خلق_شده', 'رویداد_ممکن', 'مقدار_اولیه', 'اعداد', 'نابودشده', 'ارزش_نهایی', 'اصل_و_نسب', 'اثر', 'منابع', 'هدف_ذاتی', 'توصیفگر', 'حکم', 'شریک2', 'تکرار', 'زمان', 'رقابت', 'متن_شامل', 'مرجع_ذیصلاح', 'موجودیت2', 'موجود_جستجوشده', 'پیکر', 'مهارت', 'اهداکننده', 'توصیف\\u200cگر', 'تاثیرپذیرفته', 'فرد_خواب', 'سرزمین', 'شمارش', 'پذیرنده', 'وضعیت_نهایی', 'تجربه\\u200cگر', 'توصیف_گر', 'محل_اجرا', 'شریک_اول', 'شیوه', 'طرف_متأثر', 'موجودیت_ساخته\\u200cشده', 'كنش_پذیر', 'نقش', 'مالک_ظرف', 'ارزیابی\\u200c\\u200cشونده', 'مالک_منطقه', 'زمان_رویداد', 'جستار', 'محدوده', 'تسلیم_شونده', 'منطقه\\u200cی\\u200c_واردات', 'مناسبت', 'هدف', 'شرح_رویداد', 'وسیله_نقلیه', 'موقعیت', 'طول_زمان', 'ویژگی_مورد', 'پیامد', 'معلول', 'توصیف\\u200cنما', 'مشارک_1', 'مهمان', 'پرتابه', 'مقصد', 'احتمال', 'زمینه_آشنایی', 'بازنمایی_مقصد', 'موجود_مقاوم', 'ارتباطگر', 'مدت_زمان', 'گیرنده', 'راننده', 'دانشجو', 'شرکت\\u200cكننده_همراه', 'موجودیت_جستجوشده', 'وسیله', 'شواهد', 'موجود', 'فرستنده', 'سیستم', 'برقرارکننده_ارتباط', 'وسیله_جمع_آوری', 'پدیده', 'ملاحظات', 'رویداد_همزمان', 'طرف_بهره_ور', 'سخنگو', 'رویداد_مقایسه', 'شاکی', 'مجری2', 'عضو_جدید', 'وابسته', 'چیز', 'خوراکی', 'طرف_های_مکالمه', 'صدمه', 'مهاجم', 'خاطی', 'فعالیت', 'O'}\n"
          ]
        }
      ],
      "source": [
        "role2id, frame2id, roles, frame_elements = create_role_id_dictionary()\n",
        "print(\"Role2ID:\" + str(role2id))\n",
        "print(\"Frame2ID:\" + str(frame2id))\n",
        "print(\"Roles:\" + str(roles))\n",
        "print(\"Frame Elements:\" + str(frame_elements))"
      ]
    },
    {
      "cell_type": "code",
      "execution_count": null,
      "metadata": {
        "id": "Hshm12kX8Gy5"
      },
      "outputs": [],
      "source": [
        "role2id, frame2id, roles, frame_elements = create_role_id_dictionary()"
      ]
    },
    {
      "cell_type": "code",
      "execution_count": null,
      "metadata": {
        "id": "omiAQ_Dqo6Ja"
      },
      "outputs": [],
      "source": [
        "def getRole(role):\n",
        "  return role2id[role]"
      ]
    },
    {
      "cell_type": "code",
      "execution_count": null,
      "metadata": {
        "id": "4EuIUNXWmex_"
      },
      "outputs": [],
      "source": [
        "df['PropBank Roles'] = df['PropBank Roles'].apply(lambda label : [role2id[l] for l in label])\n",
        "#df['FrameNet Pattern'] = df['FrameNet Pattern'].apply(lambda label : [frame2id[l] for l in label])"
      ]
    },
    {
      "cell_type": "code",
      "execution_count": null,
      "metadata": {
        "id": "oQCDd8yUznhH"
      },
      "outputs": [],
      "source": [
        "def tokenize_and_align_labels(examples):\n",
        "    tokenized_inputs = tokenizer(examples[\"Words\"], examples[\"frameNetTags\"], truncation=True, padding=True, is_split_into_words=True)\n",
        "    labels = []\n",
        "    for i, label in enumerate(examples[f\"propBankTags\"]):\n",
        "        word_ids = tokenized_inputs.word_ids(batch_index=i)\n",
        "        previous_word_idx = None\n",
        "        label_ids = []\n",
        "        for word_idx in word_ids:\n",
        "            if word_idx is None:\n",
        "                label_ids.append(-100)\n",
        "            elif word_idx != previous_word_idx:\n",
        "                label_ids.append(label[word_idx])\n",
        "            else:\n",
        "                label_ids.append(-100)\n",
        "            previous_word_idx = word_idx\n",
        "        labels.append(label_ids)\n",
        "\n",
        "    tokenized_inputs[\"labels\"] = labels\n",
        "    return tokenized_inputs"
      ]
    },
    {
      "cell_type": "code",
      "execution_count": null,
      "metadata": {
        "colab": {
          "base_uri": "https://localhost:8080/",
          "height": 49,
          "referenced_widgets": [
            "68fd43dda3da4a05a56faca3c0ea187b",
            "9fd798db62704a45b98af908768698c1",
            "3c6ac6d0f44e4f818aba7f78d8dd5cd6",
            "5ca6e2ca735d4e7cbf8a5ff84f834708",
            "4430674a2bd741aaa5a6866b1cd87530",
            "15df03897eaf48b7ac25824ad0a076ba",
            "8e11fc53e18747428056e6016d3d0cd1",
            "8227fdc48446424fba0e1f3cd36a6bc0",
            "d53dbd73efdd40b99636d036dbe0a6da",
            "308753f55d954099ad5e9ec09d16a300",
            "545633afcff24c26b93a76c8ecdbe16f"
          ]
        },
        "id": "9CFTLgIl0MbT",
        "outputId": "f5fb1ced-5409-47f6-d95b-7d88e88b22bf"
      },
      "outputs": [
        {
          "data": {
            "application/vnd.jupyter.widget-view+json": {
              "model_id": "68fd43dda3da4a05a56faca3c0ea187b",
              "version_major": 2,
              "version_minor": 0
            },
            "text/plain": [
              "Map:   0%|          | 0/1000 [00:00<?, ? examples/s]"
            ]
          },
          "metadata": {},
          "output_type": "display_data"
        }
      ],
      "source": [
        "from datasets import Dataset\n",
        "dataset = Dataset.from_pandas(df)\n",
        "tokenized_data = dataset.map(tokenize_and_align_labels, batched=True)"
      ]
    },
    {
      "cell_type": "code",
      "execution_count": null,
      "metadata": {
        "id": "x6V3xKXrnxpv"
      },
      "outputs": [],
      "source": [
        "tokenized_data = tokenized_data.train_test_split(test_size=0.3)"
      ]
    },
    {
      "cell_type": "code",
      "execution_count": null,
      "metadata": {
        "colab": {
          "base_uri": "https://localhost:8080/",
          "height": 49,
          "referenced_widgets": [
            "4d7480e5ad8b421abd0d678c8428e17d",
            "b83a464f7e694403bad676da10f59a3a",
            "fccef7c4fb2945ec90dfbf34565240da",
            "dcd30e53a63c4c8f9aa5d60e9c5c4358",
            "eac729596ee54425bc6b91276157b2a3",
            "15e4105723234284a43def38b87bb627",
            "88c052af1bd94bb8b3100d6c0f489e32",
            "6f2c94fc52e74ea792e24cd5ad572ab2",
            "71c27d0408834381adf397468ce0bbc2",
            "109f404c66174560acd10f8d0fcb575a",
            "eaa03d5c152d4834944f8e15668fcf26"
          ]
        },
        "id": "9WOsZoa1zXGU",
        "outputId": "5e555cff-dede-463d-e8f6-7d2abf3308d4"
      },
      "outputs": [
        {
          "data": {
            "application/vnd.jupyter.widget-view+json": {
              "model_id": "4d7480e5ad8b421abd0d678c8428e17d",
              "version_major": 2,
              "version_minor": 0
            },
            "text/plain": [
              "Downloading builder script:   0%|          | 0.00/6.34k [00:00<?, ?B/s]"
            ]
          },
          "metadata": {},
          "output_type": "display_data"
        }
      ],
      "source": [
        "import evaluate\n",
        "seqeval = evaluate.load(\"seqeval\")"
      ]
    },
    {
      "cell_type": "code",
      "execution_count": null,
      "metadata": {
        "colab": {
          "base_uri": "https://localhost:8080/",
          "height": 49,
          "referenced_widgets": [
            "421d6d257cd544dfb7c1a522d75887f6",
            "974ee6ad1f334aaeb79d314f9f5830ca",
            "a45cef9c6bf6484191177defe5b4948d",
            "363561efc00d4bc4a51d10ed9406077e",
            "f50a3cd7ce3a47dda857928112b2afd4",
            "c657be266c2a4516a943d35dcf116853",
            "65fdb26fe45c4026bdee4105e1ecf0ca",
            "d4438a88125443288121ad09abe7f08e",
            "5717006bc1124ae1986d956de450916f",
            "a356b655bfac41509a82e234c319e2cd",
            "237e5e2aba864948b7d6b5a95bf2c0cd"
          ]
        },
        "id": "PvTczx7yz6wE",
        "outputId": "2c6b2731-1c51-4978-c307-77179f59459d"
      },
      "outputs": [
        {
          "data": {
            "application/vnd.jupyter.widget-view+json": {
              "model_id": "421d6d257cd544dfb7c1a522d75887f6",
              "version_major": 2,
              "version_minor": 0
            },
            "text/plain": [
              "Downloading builder script:   0%|          | 0.00/4.20k [00:00<?, ?B/s]"
            ]
          },
          "metadata": {},
          "output_type": "display_data"
        }
      ],
      "source": [
        "accuracy = evaluate.load(\"accuracy\")"
      ]
    },
    {
      "cell_type": "code",
      "execution_count": null,
      "metadata": {
        "id": "EaR1Q3gHyqlY"
      },
      "outputs": [],
      "source": [
        "from transformers import DataCollatorForTokenClassification\n",
        "data_collator = DataCollatorForTokenClassification(tokenizer=tokenizer)"
      ]
    },
    {
      "cell_type": "code",
      "execution_count": null,
      "metadata": {
        "colab": {
          "base_uri": "https://localhost:8080/",
          "height": 170,
          "referenced_widgets": [
            "63fab88fd8434201a87cb1421ddee41b",
            "63e1a592d80d4f7eac8b690a39c636a2",
            "89bc938e9fe941cea772a425ff169e3b",
            "986e1f6f801e47709e3116c3203e4b3d",
            "c1bb4796dbb149e8bb51cf470642468e",
            "02f6e2617e764cdaad3cea12260dcf71",
            "73577a52ad1241908f489b586a30cfa2",
            "d0dcb144c8324ec882ec95c526efecf5",
            "3c9e946e58d0403ca8ec5e689389dd67",
            "5666b753f6cc449a92959e69adc7fe21",
            "fdf6de873d59470f8659e0c9bf3deec7",
            "f6144bb9b42b44bf82d0f0ef864f32f9",
            "56f2561388e34620a70db8fa2fd70f30",
            "968f3176b5dd458e897820500a8e473c",
            "1ec05f7195674b07ab7acdf6c698eaf1",
            "30fb3830a7ce4e56b5fc44694c1c4133",
            "9809effbb6c748e7abaac139c3eccb2a",
            "4f154f7653344fd3b067cff6569d4447",
            "cfe10db616d34c93a0071fbbf5126a50",
            "3669ca4d8d634e00badffd5e2268b0e7",
            "1a7513c659124527a260ef666fc475a8",
            "98a0f01cc78d4b759dfb02f986eef9e3"
          ]
        },
        "id": "iHF8Y5I9otVy",
        "outputId": "dcb4675c-6552-424b-b576-52bbdd9ff459"
      },
      "outputs": [
        {
          "data": {
            "application/vnd.jupyter.widget-view+json": {
              "model_id": "63fab88fd8434201a87cb1421ddee41b",
              "version_major": 2,
              "version_minor": 0
            },
            "text/plain": [
              "pytorch_model.bin:   0%|          | 0.00/471M [00:00<?, ?B/s]"
            ]
          },
          "metadata": {},
          "output_type": "display_data"
        },
        {
          "data": {
            "application/vnd.jupyter.widget-view+json": {
              "model_id": "f6144bb9b42b44bf82d0f0ef864f32f9",
              "version_major": 2,
              "version_minor": 0
            },
            "text/plain": [
              "model.safetensors:   0%|          | 0.00/471M [00:00<?, ?B/s]"
            ]
          },
          "metadata": {},
          "output_type": "display_data"
        },
        {
          "name": "stderr",
          "output_type": "stream",
          "text": [
            "Some weights of BertForTokenClassification were not initialized from the model checkpoint at HooshvareLab/bert-fa-zwnj-base-ner and are newly initialized because the shapes did not match:\n",
            "- classifier.weight: found shape torch.Size([21, 768]) in the checkpoint and torch.Size([36, 768]) in the model instantiated\n",
            "- classifier.bias: found shape torch.Size([21]) in the checkpoint and torch.Size([36]) in the model instantiated\n",
            "You should probably TRAIN this model on a down-stream task to be able to use it for predictions and inference.\n"
          ]
        }
      ],
      "source": [
        "from transformers import AutoModelForTokenClassification\n",
        "model = AutoModelForTokenClassification.from_pretrained('HooshvareLab/bert-fa-zwnj-base-ner', num_labels=len(role2id)+1,ignore_mismatched_sizes=True)"
      ]
    },
    {
      "cell_type": "code",
      "execution_count": null,
      "metadata": {
        "id": "sy_diAZc1qNe"
      },
      "outputs": [],
      "source": [
        "label2id = dict(role2id)"
      ]
    },
    {
      "cell_type": "code",
      "execution_count": null,
      "metadata": {
        "id": "exUhcGciVpDM"
      },
      "outputs": [],
      "source": [
        "id2label = dict((v,k) for k,v in label2id.items())"
      ]
    },
    {
      "cell_type": "code",
      "execution_count": null,
      "metadata": {
        "id": "BAkZc0LQ5cd5"
      },
      "outputs": [],
      "source": [
        "label_list = list(role2id.keys())\n",
        "from sklearn.metrics import classification_report, precision_recall_fscore_support\n",
        "from sklearn.preprocessing import MultiLabelBinarizer\n",
        "\n",
        "from sklearn.metrics import classification_report\n",
        "def compute_metrics(p):\n",
        "    predictions, labels = p\n",
        "    predictions = np.argmax(predictions, axis=2)\n",
        "\n",
        "    true_predictions = [\n",
        "        [id2label[p] for (p, l) in zip(prediction, label) if l != -100]\n",
        "        for prediction, label in zip(predictions, labels)\n",
        "    ]\n",
        "    true_labels = [\n",
        "        [id2label[l] for (p, l) in zip(prediction, label) if l != -100]\n",
        "        for prediction, label in zip(predictions, labels)\n",
        "    ]\n",
        "    true_labels_bin = list(np.concatenate(true_labels))\n",
        "    pred_labels_bin = list(np.concatenate(true_predictions))\n",
        "    print(true_labels_bin)\n",
        "    print(pred_labels_bin)\n",
        "    report = classification_report(true_labels_bin, pred_labels_bin)\n",
        "    metrics = precision_recall_fscore_support(true_labels_bin, pred_labels_bin, average='weighted')\n",
        "    accuracy = metrics[0]\n",
        "    precision = metrics[1]\n",
        "    recall = metrics[2]\n",
        "    f1_score = metrics[3]\n",
        "    return {\n",
        "        \"precision\": precision,\n",
        "        \"recall\": recall,\n",
        "        \"f1\": f1_score,\n",
        "        \"accuracy\": accuracy\n",
        "    }"
      ]
    },
    {
      "cell_type": "code",
      "execution_count": null,
      "metadata": {
        "colab": {
          "base_uri": "https://localhost:8080/",
          "height": 72
        },
        "id": "vD9uyLVYGQIa",
        "outputId": "9ea33fe7-7659-48bc-a030-7c9f5967a9cf"
      },
      "outputs": [
        {
          "name": "stderr",
          "output_type": "stream",
          "text": [
            "/usr/local/lib/python3.11/dist-packages/transformers/training_args.py:1594: FutureWarning: `evaluation_strategy` is deprecated and will be removed in version 4.46 of 🤗 Transformers. Use `eval_strategy` instead\n",
            "  warnings.warn(\n"
          ]
        }
      ],
      "source": [
        "training_args = TrainingArguments(\n",
        "    output_dir=\"bert-token-classification\",\n",
        "    learning_rate=0.1,\n",
        "    per_device_train_batch_size=16,\n",
        "    per_device_eval_batch_size=16,\n",
        "    num_train_epochs=1,\n",
        "    evaluation_strategy=\"epoch\",\n",
        "    weight_decay=0.01,\n",
        "    save_strategy=\"no\",\n",
        "    #use_cpu=True,\n",
        "    #no_cuda=True,\n",
        "    #load_best_model_at_end=True, # uncomment if you wanna save\n",
        ")"
      ]
    },
    {
      "cell_type": "code",
      "execution_count": null,
      "metadata": {
        "id": "3elmnJlcGQLz"
      },
      "outputs": [],
      "source": [
        "trainer = Trainer(model=model,args=training_args,data_collator=data_collator,train_dataset=tokenized_data['train']  ,eval_dataset=tokenized_data['test'],compute_metrics=compute_metrics,)"
      ]
    },
    {
      "cell_type": "code",
      "execution_count": null,
      "metadata": {
        "id": "NZkEIMV7GQqV"
      },
      "outputs": [],
      "source": [
        "trainer.train()"
      ]
    },
    {
      "cell_type": "code",
      "execution_count": null,
      "metadata": {
        "id": "oiRuHuGDRTc8"
      },
      "outputs": [],
      "source": [
        "trainer.evaluate()"
      ]
    }
  ],
  "metadata": {
    "accelerator": "GPU",
    "colab": {
      "provenance": []
    },
    "kernelspec": {
      "display_name": "Python 3",
      "name": "python3"
    },
    "language_info": {
      "name": "python"
    }
  },
  "nbformat": 4,
  "nbformat_minor": 0
}