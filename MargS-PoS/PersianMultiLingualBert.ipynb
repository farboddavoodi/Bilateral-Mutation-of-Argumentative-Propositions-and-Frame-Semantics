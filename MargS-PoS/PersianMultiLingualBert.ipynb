{
  "cells": [
    {
      "cell_type": "code",
      "execution_count": null,
      "metadata": {
        "id": "KiLbeeAAWqam"
      },
      "outputs": [],
      "source": [
        "%%capture\n",
        "!pip install --upgrade transformers"
      ]
    },
    {
      "cell_type": "code",
      "execution_count": null,
      "metadata": {
        "id": "_rGUJMwQiRcS"
      },
      "outputs": [],
      "source": [
        "%%capture\n",
        "!pip install datasets"
      ]
    },
    {
      "cell_type": "code",
      "execution_count": null,
      "metadata": {
        "id": "-0Q3QjWmL0YQ"
      },
      "outputs": [],
      "source": [
        "%%capture\n",
        "!pip install accelerate -U"
      ]
    },
    {
      "cell_type": "code",
      "execution_count": null,
      "metadata": {
        "id": "l4Yh5_heJ42u"
      },
      "outputs": [],
      "source": [
        "%%capture\n",
        "!pip install evaluate"
      ]
    },
    {
      "cell_type": "code",
      "execution_count": null,
      "metadata": {
        "id": "Ni2eEZi4KX11"
      },
      "outputs": [],
      "source": [
        "%%capture\n",
        "!pip install seqeval"
      ]
    },
    {
      "cell_type": "code",
      "execution_count": null,
      "metadata": {
        "id": "dcK5IOCUN_0t"
      },
      "outputs": [],
      "source": [
        "%%capture\n",
        "!pip install scikit-learn"
      ]
    },
    {
      "cell_type": "code",
      "execution_count": null,
      "metadata": {
        "id": "AXMGsh7HanSo"
      },
      "outputs": [],
      "source": [
        "%%capture\n",
        "!pip install matplotlib"
      ]
    },
    {
      "cell_type": "code",
      "execution_count": null,
      "metadata": {
        "id": "jFgdEvC2Scw8"
      },
      "outputs": [],
      "source": [
        "%%capture\n",
        "!pip install sklearn"
      ]
    },
    {
      "cell_type": "code",
      "execution_count": null,
      "metadata": {
        "id": "tU9gaz6P9o3e"
      },
      "outputs": [],
      "source": [
        "from google.colab import drive\n",
        "import torch\n",
        "import pandas as pd\n",
        "import evaluate\n",
        "import matplotlib.pyplot as plt\n",
        "import os\n",
        "import numpy as np\n",
        "from sklearn.model_selection import train_test_split\n",
        "from tokenizers import Encoding\n",
        "from collections import defaultdict\n",
        "from torch.utils.data import Dataset, DataLoader\n",
        "from transformers import BertTokenizer, BertForTokenClassification, AdamW, get_linear_schedule_with_warmup, Trainer, TrainingArguments,  BatchEncoding"
      ]
    },
    {
      "cell_type": "code",
      "execution_count": null,
      "metadata": {
        "colab": {
          "base_uri": "https://localhost:8080/"
        },
        "id": "zyWbDeNeNMpf",
        "outputId": "8a37f64b-20d5-4f37-e39c-c2917c0cf480"
      },
      "outputs": [
        {
          "name": "stdout",
          "output_type": "stream",
          "text": [
            "Mounted at /content/drive\n"
          ]
        }
      ],
      "source": [
        "drive.mount('/content/drive')"
      ]
    },
    {
      "cell_type": "code",
      "execution_count": null,
      "metadata": {
        "id": "cwlCuCbexix7"
      },
      "outputs": [],
      "source": [
        "device = torch.device(\"cuda\")\n",
        "json_data = '/content/drive/MyDrive/davodi.json'\n",
        "df = pd.read_json(json_data)\n",
        "df = df.drop(['_id', 'sentence', 'frame', 'lexicalUnit', 'status', 'issuer', 'is_active', 'createdAt', 'updatedAt', 'PId', 'lang', 'description', 'lexicalUnitHint', 'reviewer', 'lexicalUnitHelper', 'frameHelper', 'frameName', 'lexicalUnitName'], axis = 1)"
      ]
    },
    {
      "cell_type": "code",
      "execution_count": null,
      "metadata": {
        "id": "U8STebfkruf-"
      },
      "outputs": [],
      "source": [
        "def framenet_tags(FN_tags):\n",
        "    framenet_pattern = []\n",
        "    for FN_tag in FN_tags:\n",
        "        tag_type = FN_tag.get('tagType')\n",
        "        if tag_type == 5:\n",
        "            element = FN_tag.get('element', {})\n",
        "            element_name = element.get('name', '')\n",
        "            framenet_pattern.append(element_name)\n",
        "        else:\n",
        "            framenet_pattern.append('O')\n",
        "    return framenet_pattern"
      ]
    },
    {
      "cell_type": "code",
      "execution_count": null,
      "metadata": {
        "id": "vr_bQ8xwMPUi"
      },
      "outputs": [],
      "source": [
        "df['frameNetTags'] = df['frameNetTags'].apply(lambda FN_tags : framenet_tags(FN_tags))"
      ]
    },
    {
      "cell_type": "code",
      "execution_count": null,
      "metadata": {
        "colab": {
          "base_uri": "https://localhost:8080/",
          "height": 424
        },
        "id": "Pfx5H5-vPS4k",
        "outputId": "3ecdb7fc-0263-473e-b393-c5e84d6df963"
      },
      "outputs": [
        {
          "data": {
            "application/vnd.google.colaboratory.intrinsic+json": {
              "summary": "{\n  \"name\": \"df\",\n  \"rows\": 32729,\n  \"fields\": [\n    {\n      \"column\": \"words\",\n      \"properties\": {\n        \"dtype\": \"string\",\n        \"num_unique_values\": 19466,\n        \"samples\": [\n          \"\\u062f\\u0631 \\u0627\\u06cc\\u0646 \\u0631\\u0627\\u0633\\u062a\\u0627 \\u0648\\u0638\\u06cc\\u0641\\u06c0 \\u0634\\u0645\\u0627 \\u0633\\u062a \\u06a9\\u0647 \\u0627\\u0632 \\u0648\\u0632\\u0627\\u0631\\u062a\\u200c\\u0647\\u0627\\u06cc \\u0645\\u0631\\u0628\\u0648\\u0637\\u0647 \\u062a\\u0648\\u0636\\u06cc\\u062d \\u0628\\u062e\\u0648\\u0627\\u0647\\u06cc\\u062f .\",\n          \"\\u0637\\u0628\\u06cc\\u0639\\u06cc \\u0628\\u0648\\u062f \\u0627\\u0648\\u0644\\u06cc\\u0646 \\u0641\\u06a9\\u0631\\u06cc \\u06a9\\u0647 \\u0628\\u0647 \\u0630\\u0647\\u0646\\u0645 \\u0628\\u0631\\u0633\\u062f \\u060c \\u0646\\u062f\\u0627\\u0634\\u062a\\u0646 \\u0645\\u0648\\u0627\\u062f \\u0627\\u0648\\u0644\\u06cc\\u06c0 \\u062a\\u0647\\u06cc\\u06c0 \\u0634\\u0627\\u0645 \\u0628\\u0627\\u0634\\u062f .\",\n          \"\\u062e\\u0648\\u0634\\u0627 \\u0628\\u0647 \\u062d\\u0627\\u0644 \\u063a\\u0631\\u06cc\\u0628\\u0627\\u0646\\u06cc \\u06a9\\u0647 \\u0622\\u0646 \\u0686\\u0647 \\u0627\\u0632 \\u0633\\u0646\\u062a \\u062a\\u0648\\u0633\\u0637 \\u0645\\u0631\\u062f\\u0645 \\u0628\\u0647 \\u062a\\u0628\\u0627\\u0647\\u06cc \\u0631\\u0641\\u062a\\u0647 \\u0628\\u0647 \\u0635\\u0644\\u0627\\u062d \\u0628\\u0627\\u0632\\u0645\\u06cc\\u200c\\u0622\\u0648\\u0631\\u0646\\u062f .\"\n        ],\n        \"semantic_type\": \"\",\n        \"description\": \"\"\n      }\n    },\n    {\n      \"column\": \"frameNetTags\",\n      \"properties\": {\n        \"dtype\": \"object\",\n        \"semantic_type\": \"\",\n        \"description\": \"\"\n      }\n    },\n    {\n      \"column\": \"propBankTags\",\n      \"properties\": {\n        \"dtype\": \"object\",\n        \"semantic_type\": \"\",\n        \"description\": \"\"\n      }\n    }\n  ]\n}",
              "type": "dataframe",
              "variable_name": "df"
            },
            "text/html": [
              "\n",
              "  <div id=\"df-3be85798-c8b8-43f5-b2a2-b0ff60d6a455\" class=\"colab-df-container\">\n",
              "    <div>\n",
              "<style scoped>\n",
              "    .dataframe tbody tr th:only-of-type {\n",
              "        vertical-align: middle;\n",
              "    }\n",
              "\n",
              "    .dataframe tbody tr th {\n",
              "        vertical-align: top;\n",
              "    }\n",
              "\n",
              "    .dataframe thead th {\n",
              "        text-align: right;\n",
              "    }\n",
              "</style>\n",
              "<table border=\"1\" class=\"dataframe\">\n",
              "  <thead>\n",
              "    <tr style=\"text-align: right;\">\n",
              "      <th></th>\n",
              "      <th>words</th>\n",
              "      <th>frameNetTags</th>\n",
              "      <th>propBankTags</th>\n",
              "    </tr>\n",
              "  </thead>\n",
              "  <tbody>\n",
              "    <tr>\n",
              "      <th>0</th>\n",
              "      <td>خانم نزهت‌الدوله گرچه تا به حال سه تا شوهر کرد...</td>\n",
              "      <td>[O, O, O, O, O, O, O, O, O, O, O, O, O, O, O, ...</td>\n",
              "      <td>[O, O, O, O, O, O, O, O, O, O, O, O, O, O, O, ...</td>\n",
              "    </tr>\n",
              "    <tr>\n",
              "      <th>1</th>\n",
              "      <td>خانم نزهت‌الدوله گرچه تا به حال سه تا شوهر کرد...</td>\n",
              "      <td>[جستجو_کننده, جستجو_کننده, O, O, O, O, O, O, O...</td>\n",
              "      <td>[O, O, O, O, O, O, O, O, O, O, O, O, O, O, O, ...</td>\n",
              "    </tr>\n",
              "    <tr>\n",
              "      <th>2</th>\n",
              "      <td>تو به من مجال دادی تا پروانه شوم .</td>\n",
              "      <td>[مرجع_ذیصلاح, قهرمان, قهرمان, O, O, عمل, عمل, ...</td>\n",
              "      <td>[B-A0, B-A2, O, B-NVE, B-V, B-PRP, O, O, O]</td>\n",
              "    </tr>\n",
              "    <tr>\n",
              "      <th>3</th>\n",
              "      <td>تو به من مجال دادی تا پروانه شوم .</td>\n",
              "      <td>[O, O, O, O, O, O, دسته_نهایی, O, O]</td>\n",
              "      <td>[O, O, O, O, O, O, B-A2, B-V, O]</td>\n",
              "    </tr>\n",
              "    <tr>\n",
              "      <th>4</th>\n",
              "      <td>هر زمان این غریزه و فطرت و رشد سنی و عقلی و اج...</td>\n",
              "      <td>[O, O, موجودیت, موجودیت, موجودیت, موجودیت, موج...</td>\n",
              "      <td>[O, O, O, B-A2, O, O, O, O, O, O, O, O, O, B-N...</td>\n",
              "    </tr>\n",
              "    <tr>\n",
              "      <th>...</th>\n",
              "      <td>...</td>\n",
              "      <td>...</td>\n",
              "      <td>...</td>\n",
              "    </tr>\n",
              "    <tr>\n",
              "      <th>32724</th>\n",
              "      <td>روسیه به زودی برای عمل به تعهدهای خود به اروپا...</td>\n",
              "      <td>[بحث‌کنندگان, زمان, زمان, مسئله, مسئله, مسئله,...</td>\n",
              "      <td>[B-A0, B-TMP, O, B-A2, O, O, O, O, O, O, O, O,...</td>\n",
              "    </tr>\n",
              "    <tr>\n",
              "      <th>32725</th>\n",
              "      <td>منازعه و مشاجرۀ پدر و مادر اقدام ناخوشایندی اس...</td>\n",
              "      <td>[O, O, O, بحث‌کنندگان, بحث‌کنندگان, بحث‌کنندگا...</td>\n",
              "      <td>[B-N-V, O, O, B-A0, B-A1, O, O, O, O, O, O, O,...</td>\n",
              "    </tr>\n",
              "    <tr>\n",
              "      <th>32726</th>\n",
              "      <td>منازعه و مشاجرۀ پدر و مادر اقدام ناخوشایندی اس...</td>\n",
              "      <td>[روش, روش, روش, عامل, عامل, عامل, O, توضیح, O,...</td>\n",
              "      <td>[B-A1, O, O, O, O, O, B-A2, O, B-V, O, O, O, O...</td>\n",
              "    </tr>\n",
              "    <tr>\n",
              "      <th>32727</th>\n",
              "      <td>منازعه و مشاجرۀ پدر و مادر اقدام ناخوشایندی اس...</td>\n",
              "      <td>[O, O, O, O, O, O, O, O, O, O, شاخص, شاخص, O, ...</td>\n",
              "      <td>[O, O, O, O, O, O, O, O, O, O, B-Arg2_B1, O, B...</td>\n",
              "    </tr>\n",
              "    <tr>\n",
              "      <th>32728</th>\n",
              "      <td>منازعه و مشاجرۀ پدر و مادر اقدام ناخوشایندی اس...</td>\n",
              "      <td>[O, O, O, O, O, O, O, O, O, O, O, O, O, O, O, ...</td>\n",
              "      <td>[O, O, O, O, O, O, O, O, O, O, O, O, O, B-N-V,...</td>\n",
              "    </tr>\n",
              "  </tbody>\n",
              "</table>\n",
              "<p>32729 rows × 3 columns</p>\n",
              "</div>\n",
              "    <div class=\"colab-df-buttons\">\n",
              "\n",
              "  <div class=\"colab-df-container\">\n",
              "    <button class=\"colab-df-convert\" onclick=\"convertToInteractive('df-3be85798-c8b8-43f5-b2a2-b0ff60d6a455')\"\n",
              "            title=\"Convert this dataframe to an interactive table.\"\n",
              "            style=\"display:none;\">\n",
              "\n",
              "  <svg xmlns=\"http://www.w3.org/2000/svg\" height=\"24px\" viewBox=\"0 -960 960 960\">\n",
              "    <path d=\"M120-120v-720h720v720H120Zm60-500h600v-160H180v160Zm220 220h160v-160H400v160Zm0 220h160v-160H400v160ZM180-400h160v-160H180v160Zm440 0h160v-160H620v160ZM180-180h160v-160H180v160Zm440 0h160v-160H620v160Z\"/>\n",
              "  </svg>\n",
              "    </button>\n",
              "\n",
              "  <style>\n",
              "    .colab-df-container {\n",
              "      display:flex;\n",
              "      gap: 12px;\n",
              "    }\n",
              "\n",
              "    .colab-df-convert {\n",
              "      background-color: #E8F0FE;\n",
              "      border: none;\n",
              "      border-radius: 50%;\n",
              "      cursor: pointer;\n",
              "      display: none;\n",
              "      fill: #1967D2;\n",
              "      height: 32px;\n",
              "      padding: 0 0 0 0;\n",
              "      width: 32px;\n",
              "    }\n",
              "\n",
              "    .colab-df-convert:hover {\n",
              "      background-color: #E2EBFA;\n",
              "      box-shadow: 0px 1px 2px rgba(60, 64, 67, 0.3), 0px 1px 3px 1px rgba(60, 64, 67, 0.15);\n",
              "      fill: #174EA6;\n",
              "    }\n",
              "\n",
              "    .colab-df-buttons div {\n",
              "      margin-bottom: 4px;\n",
              "    }\n",
              "\n",
              "    [theme=dark] .colab-df-convert {\n",
              "      background-color: #3B4455;\n",
              "      fill: #D2E3FC;\n",
              "    }\n",
              "\n",
              "    [theme=dark] .colab-df-convert:hover {\n",
              "      background-color: #434B5C;\n",
              "      box-shadow: 0px 1px 3px 1px rgba(0, 0, 0, 0.15);\n",
              "      filter: drop-shadow(0px 1px 2px rgba(0, 0, 0, 0.3));\n",
              "      fill: #FFFFFF;\n",
              "    }\n",
              "  </style>\n",
              "\n",
              "    <script>\n",
              "      const buttonEl =\n",
              "        document.querySelector('#df-3be85798-c8b8-43f5-b2a2-b0ff60d6a455 button.colab-df-convert');\n",
              "      buttonEl.style.display =\n",
              "        google.colab.kernel.accessAllowed ? 'block' : 'none';\n",
              "\n",
              "      async function convertToInteractive(key) {\n",
              "        const element = document.querySelector('#df-3be85798-c8b8-43f5-b2a2-b0ff60d6a455');\n",
              "        const dataTable =\n",
              "          await google.colab.kernel.invokeFunction('convertToInteractive',\n",
              "                                                    [key], {});\n",
              "        if (!dataTable) return;\n",
              "\n",
              "        const docLinkHtml = 'Like what you see? Visit the ' +\n",
              "          '<a target=\"_blank\" href=https://colab.research.google.com/notebooks/data_table.ipynb>data table notebook</a>'\n",
              "          + ' to learn more about interactive tables.';\n",
              "        element.innerHTML = '';\n",
              "        dataTable['output_type'] = 'display_data';\n",
              "        await google.colab.output.renderOutput(dataTable, element);\n",
              "        const docLink = document.createElement('div');\n",
              "        docLink.innerHTML = docLinkHtml;\n",
              "        element.appendChild(docLink);\n",
              "      }\n",
              "    </script>\n",
              "  </div>\n",
              "\n",
              "\n",
              "<div id=\"df-a4931fc3-2c20-4402-8e78-7664774a6262\">\n",
              "  <button class=\"colab-df-quickchart\" onclick=\"quickchart('df-a4931fc3-2c20-4402-8e78-7664774a6262')\"\n",
              "            title=\"Suggest charts\"\n",
              "            style=\"display:none;\">\n",
              "\n",
              "<svg xmlns=\"http://www.w3.org/2000/svg\" height=\"24px\"viewBox=\"0 0 24 24\"\n",
              "     width=\"24px\">\n",
              "    <g>\n",
              "        <path d=\"M19 3H5c-1.1 0-2 .9-2 2v14c0 1.1.9 2 2 2h14c1.1 0 2-.9 2-2V5c0-1.1-.9-2-2-2zM9 17H7v-7h2v7zm4 0h-2V7h2v10zm4 0h-2v-4h2v4z\"/>\n",
              "    </g>\n",
              "</svg>\n",
              "  </button>\n",
              "\n",
              "<style>\n",
              "  .colab-df-quickchart {\n",
              "      --bg-color: #E8F0FE;\n",
              "      --fill-color: #1967D2;\n",
              "      --hover-bg-color: #E2EBFA;\n",
              "      --hover-fill-color: #174EA6;\n",
              "      --disabled-fill-color: #AAA;\n",
              "      --disabled-bg-color: #DDD;\n",
              "  }\n",
              "\n",
              "  [theme=dark] .colab-df-quickchart {\n",
              "      --bg-color: #3B4455;\n",
              "      --fill-color: #D2E3FC;\n",
              "      --hover-bg-color: #434B5C;\n",
              "      --hover-fill-color: #FFFFFF;\n",
              "      --disabled-bg-color: #3B4455;\n",
              "      --disabled-fill-color: #666;\n",
              "  }\n",
              "\n",
              "  .colab-df-quickchart {\n",
              "    background-color: var(--bg-color);\n",
              "    border: none;\n",
              "    border-radius: 50%;\n",
              "    cursor: pointer;\n",
              "    display: none;\n",
              "    fill: var(--fill-color);\n",
              "    height: 32px;\n",
              "    padding: 0;\n",
              "    width: 32px;\n",
              "  }\n",
              "\n",
              "  .colab-df-quickchart:hover {\n",
              "    background-color: var(--hover-bg-color);\n",
              "    box-shadow: 0 1px 2px rgba(60, 64, 67, 0.3), 0 1px 3px 1px rgba(60, 64, 67, 0.15);\n",
              "    fill: var(--button-hover-fill-color);\n",
              "  }\n",
              "\n",
              "  .colab-df-quickchart-complete:disabled,\n",
              "  .colab-df-quickchart-complete:disabled:hover {\n",
              "    background-color: var(--disabled-bg-color);\n",
              "    fill: var(--disabled-fill-color);\n",
              "    box-shadow: none;\n",
              "  }\n",
              "\n",
              "  .colab-df-spinner {\n",
              "    border: 2px solid var(--fill-color);\n",
              "    border-color: transparent;\n",
              "    border-bottom-color: var(--fill-color);\n",
              "    animation:\n",
              "      spin 1s steps(1) infinite;\n",
              "  }\n",
              "\n",
              "  @keyframes spin {\n",
              "    0% {\n",
              "      border-color: transparent;\n",
              "      border-bottom-color: var(--fill-color);\n",
              "      border-left-color: var(--fill-color);\n",
              "    }\n",
              "    20% {\n",
              "      border-color: transparent;\n",
              "      border-left-color: var(--fill-color);\n",
              "      border-top-color: var(--fill-color);\n",
              "    }\n",
              "    30% {\n",
              "      border-color: transparent;\n",
              "      border-left-color: var(--fill-color);\n",
              "      border-top-color: var(--fill-color);\n",
              "      border-right-color: var(--fill-color);\n",
              "    }\n",
              "    40% {\n",
              "      border-color: transparent;\n",
              "      border-right-color: var(--fill-color);\n",
              "      border-top-color: var(--fill-color);\n",
              "    }\n",
              "    60% {\n",
              "      border-color: transparent;\n",
              "      border-right-color: var(--fill-color);\n",
              "    }\n",
              "    80% {\n",
              "      border-color: transparent;\n",
              "      border-right-color: var(--fill-color);\n",
              "      border-bottom-color: var(--fill-color);\n",
              "    }\n",
              "    90% {\n",
              "      border-color: transparent;\n",
              "      border-bottom-color: var(--fill-color);\n",
              "    }\n",
              "  }\n",
              "</style>\n",
              "\n",
              "  <script>\n",
              "    async function quickchart(key) {\n",
              "      const quickchartButtonEl =\n",
              "        document.querySelector('#' + key + ' button');\n",
              "      quickchartButtonEl.disabled = true;  // To prevent multiple clicks.\n",
              "      quickchartButtonEl.classList.add('colab-df-spinner');\n",
              "      try {\n",
              "        const charts = await google.colab.kernel.invokeFunction(\n",
              "            'suggestCharts', [key], {});\n",
              "      } catch (error) {\n",
              "        console.error('Error during call to suggestCharts:', error);\n",
              "      }\n",
              "      quickchartButtonEl.classList.remove('colab-df-spinner');\n",
              "      quickchartButtonEl.classList.add('colab-df-quickchart-complete');\n",
              "    }\n",
              "    (() => {\n",
              "      let quickchartButtonEl =\n",
              "        document.querySelector('#df-a4931fc3-2c20-4402-8e78-7664774a6262 button');\n",
              "      quickchartButtonEl.style.display =\n",
              "        google.colab.kernel.accessAllowed ? 'block' : 'none';\n",
              "    })();\n",
              "  </script>\n",
              "</div>\n",
              "\n",
              "  <div id=\"id_f800ac1f-a10c-40cf-bd1a-093987a57f93\">\n",
              "    <style>\n",
              "      .colab-df-generate {\n",
              "        background-color: #E8F0FE;\n",
              "        border: none;\n",
              "        border-radius: 50%;\n",
              "        cursor: pointer;\n",
              "        display: none;\n",
              "        fill: #1967D2;\n",
              "        height: 32px;\n",
              "        padding: 0 0 0 0;\n",
              "        width: 32px;\n",
              "      }\n",
              "\n",
              "      .colab-df-generate:hover {\n",
              "        background-color: #E2EBFA;\n",
              "        box-shadow: 0px 1px 2px rgba(60, 64, 67, 0.3), 0px 1px 3px 1px rgba(60, 64, 67, 0.15);\n",
              "        fill: #174EA6;\n",
              "      }\n",
              "\n",
              "      [theme=dark] .colab-df-generate {\n",
              "        background-color: #3B4455;\n",
              "        fill: #D2E3FC;\n",
              "      }\n",
              "\n",
              "      [theme=dark] .colab-df-generate:hover {\n",
              "        background-color: #434B5C;\n",
              "        box-shadow: 0px 1px 3px 1px rgba(0, 0, 0, 0.15);\n",
              "        filter: drop-shadow(0px 1px 2px rgba(0, 0, 0, 0.3));\n",
              "        fill: #FFFFFF;\n",
              "      }\n",
              "    </style>\n",
              "    <button class=\"colab-df-generate\" onclick=\"generateWithVariable('df')\"\n",
              "            title=\"Generate code using this dataframe.\"\n",
              "            style=\"display:none;\">\n",
              "\n",
              "  <svg xmlns=\"http://www.w3.org/2000/svg\" height=\"24px\"viewBox=\"0 0 24 24\"\n",
              "       width=\"24px\">\n",
              "    <path d=\"M7,19H8.4L18.45,9,17,7.55,7,17.6ZM5,21V16.75L18.45,3.32a2,2,0,0,1,2.83,0l1.4,1.43a1.91,1.91,0,0,1,.58,1.4,1.91,1.91,0,0,1-.58,1.4L9.25,21ZM18.45,9,17,7.55Zm-12,3A5.31,5.31,0,0,0,4.9,8.1,5.31,5.31,0,0,0,1,6.5,5.31,5.31,0,0,0,4.9,4.9,5.31,5.31,0,0,0,6.5,1,5.31,5.31,0,0,0,8.1,4.9,5.31,5.31,0,0,0,12,6.5,5.46,5.46,0,0,0,6.5,12Z\"/>\n",
              "  </svg>\n",
              "    </button>\n",
              "    <script>\n",
              "      (() => {\n",
              "      const buttonEl =\n",
              "        document.querySelector('#id_f800ac1f-a10c-40cf-bd1a-093987a57f93 button.colab-df-generate');\n",
              "      buttonEl.style.display =\n",
              "        google.colab.kernel.accessAllowed ? 'block' : 'none';\n",
              "\n",
              "      buttonEl.onclick = () => {\n",
              "        google.colab.notebook.generateWithVariable('df');\n",
              "      }\n",
              "      })();\n",
              "    </script>\n",
              "  </div>\n",
              "\n",
              "    </div>\n",
              "  </div>\n"
            ],
            "text/plain": [
              "                                                   words  \\\n",
              "0      خانم نزهت‌الدوله گرچه تا به حال سه تا شوهر کرد...   \n",
              "1      خانم نزهت‌الدوله گرچه تا به حال سه تا شوهر کرد...   \n",
              "2                     تو به من مجال دادی تا پروانه شوم .   \n",
              "3                     تو به من مجال دادی تا پروانه شوم .   \n",
              "4      هر زمان این غریزه و فطرت و رشد سنی و عقلی و اج...   \n",
              "...                                                  ...   \n",
              "32724  روسیه به زودی برای عمل به تعهدهای خود به اروپا...   \n",
              "32725  منازعه و مشاجرۀ پدر و مادر اقدام ناخوشایندی اس...   \n",
              "32726  منازعه و مشاجرۀ پدر و مادر اقدام ناخوشایندی اس...   \n",
              "32727  منازعه و مشاجرۀ پدر و مادر اقدام ناخوشایندی اس...   \n",
              "32728  منازعه و مشاجرۀ پدر و مادر اقدام ناخوشایندی اس...   \n",
              "\n",
              "                                            frameNetTags  \\\n",
              "0      [O, O, O, O, O, O, O, O, O, O, O, O, O, O, O, ...   \n",
              "1      [جستجو_کننده, جستجو_کننده, O, O, O, O, O, O, O...   \n",
              "2      [مرجع_ذیصلاح, قهرمان, قهرمان, O, O, عمل, عمل, ...   \n",
              "3                   [O, O, O, O, O, O, دسته_نهایی, O, O]   \n",
              "4      [O, O, موجودیت, موجودیت, موجودیت, موجودیت, موج...   \n",
              "...                                                  ...   \n",
              "32724  [بحث‌کنندگان, زمان, زمان, مسئله, مسئله, مسئله,...   \n",
              "32725  [O, O, O, بحث‌کنندگان, بحث‌کنندگان, بحث‌کنندگا...   \n",
              "32726  [روش, روش, روش, عامل, عامل, عامل, O, توضیح, O,...   \n",
              "32727  [O, O, O, O, O, O, O, O, O, O, شاخص, شاخص, O, ...   \n",
              "32728  [O, O, O, O, O, O, O, O, O, O, O, O, O, O, O, ...   \n",
              "\n",
              "                                            propBankTags  \n",
              "0      [O, O, O, O, O, O, O, O, O, O, O, O, O, O, O, ...  \n",
              "1      [O, O, O, O, O, O, O, O, O, O, O, O, O, O, O, ...  \n",
              "2            [B-A0, B-A2, O, B-NVE, B-V, B-PRP, O, O, O]  \n",
              "3                       [O, O, O, O, O, O, B-A2, B-V, O]  \n",
              "4      [O, O, O, B-A2, O, O, O, O, O, O, O, O, O, B-N...  \n",
              "...                                                  ...  \n",
              "32724  [B-A0, B-TMP, O, B-A2, O, O, O, O, O, O, O, O,...  \n",
              "32725  [B-N-V, O, O, B-A0, B-A1, O, O, O, O, O, O, O,...  \n",
              "32726  [B-A1, O, O, O, O, O, B-A2, O, B-V, O, O, O, O...  \n",
              "32727  [O, O, O, O, O, O, O, O, O, O, B-Arg2_B1, O, B...  \n",
              "32728  [O, O, O, O, O, O, O, O, O, O, O, O, O, B-N-V,...  \n",
              "\n",
              "[32729 rows x 3 columns]"
            ]
          },
          "execution_count": 14,
          "metadata": {},
          "output_type": "execute_result"
        }
      ],
      "source": [
        "df"
      ]
    },
    {
      "cell_type": "code",
      "execution_count": null,
      "metadata": {
        "id": "TdE8Tp_Jv2Ly"
      },
      "outputs": [],
      "source": [
        "train_data, temp_data = train_test_split(df, test_size=0.2, random_state=42)\n",
        "validation_data, test_data = train_test_split(temp_data, test_size=0.5, random_state=42)\n",
        "print(\"Training set size:\", len(train_data))\n",
        "print(\"Validation set size:\", len(validation_data))\n",
        "print(\"Test set size:\", len(test_data))"
      ]
    },
    {
      "cell_type": "code",
      "execution_count": null,
      "metadata": {
        "colab": {
          "base_uri": "https://localhost:8080/"
        },
        "id": "W57ljReCWqu7",
        "outputId": "78106437-6916-4aaa-cec3-d3ac86fb4d15"
      },
      "outputs": [
        {
          "name": "stderr",
          "output_type": "stream",
          "text": [
            "<ipython-input-20-ce01e66bb15d>:1: SettingWithCopyWarning: \n",
            "A value is trying to be set on a copy of a slice from a DataFrame.\n",
            "Try using .loc[row_indexer,col_indexer] = value instead\n",
            "\n",
            "See the caveats in the documentation: https://pandas.pydata.org/pandas-docs/stable/user_guide/indexing.html#returning-a-view-versus-a-copy\n",
            "  df[\"Words\"] = df[\"words\"].apply(lambda sentence: [word.strip() for word in sentence.split(' ')])\n"
          ]
        }
      ],
      "source": [
        "df[\"Words\"] = df[\"words\"].apply(lambda sentence: [word.strip() for word in sentence.split(' ')])"
      ]
    },
    {
      "cell_type": "code",
      "execution_count": null,
      "metadata": {
        "id": "auQlkuVVS_NE"
      },
      "outputs": [],
      "source": [
        "df = df.rename(columns={'words': 'Sentence','propBankTags' : 'PropBank Roles','frameNetTags' : 'FrameNet Pattern'})"
      ]
    },
    {
      "cell_type": "code",
      "execution_count": null,
      "metadata": {
        "colab": {
          "base_uri": "https://localhost:8080/",
          "height": 269,
          "referenced_widgets": [
            "0e226c589158438f8c52ee2a9e04c9a6",
            "579f82bb90634b229c4dc188d84370a7",
            "fd711fca142e4480b591f92fa215cacf",
            "522e95665c4941d99402a27a103eb233",
            "3137d0ee46954fbeb399dd639a0f1529",
            "806523905c644d82900709c0d10fe4eb",
            "ada9754e90244fc8a130e2e5f72861d6",
            "9b8198b9fd5b4952a7246586bdb06f47",
            "cbfa974164e549339531491c43b1d2c2",
            "ae79c00df4b744c986d9fe28799083b8",
            "a91daf2f91a942d8b2803151f11d4985",
            "b62e3b132a0a45f98f2268500d0c2708",
            "9579a6a3aa11492883514e0ecc3f6c4a",
            "7f1f407700ed479cb260d2a2e724666e",
            "edbb6f26de45454f91d03692f16dde52",
            "e4ccbae1568749a1a2a55fa3fa6b75ce",
            "dd02f468bbf44db484f98a9e9b4e33c8",
            "19b678e3febb45eab3af33ec96206350",
            "f86a5c91f2f145488a8aff4ad88c03a6",
            "2bce08c1812f494689be586581a942a3",
            "fd908821367e4becb734dbbd82d63347",
            "b25bb61f2a694998b900d8e15f403f40",
            "01bfc3cec0b74587b20b929bf48566f5",
            "4a2b462d7ece426ca7bb1ab93363ade5",
            "3c00f37123224990aacb345ca087d6b4",
            "7ffa6422c5c949c38740fc08ee456c3e",
            "f8556a807ed94537884dfbfcf3e4beb2",
            "892f3a5bcdbd47b3921cd18f903bd11d",
            "cd41bc08a84045dc9066fc0d1ae2f0ce",
            "2e5e70672a3b47b281a6f336d09ebea5",
            "e226c85b2f0f4b099481ae26c59c9b97",
            "f4ceca8edfa2448d8644fa44675472d9",
            "2eed35fbcb344f2996fad552b1831c76",
            "3d3c47bbfe4b4565bc30ee2edfc70b54",
            "1fe2d01f45ed4f88b0c6b40f2bc9e6b3",
            "5cec38fc1cd147919d74690710a23eb5",
            "34dce2f8ddb04cccb83e3542831c4cc3",
            "497dd2b8106142f494125fcc57c4016d",
            "f715403f22d14dda94b6b56c39d33e91",
            "f16416bb4a464e0e93308cd274aa8d5c",
            "2b6f6e1969dd4130ab39751daab99ac3",
            "6835efead37d496790013e98d1b67a51",
            "8664551890ed411684b1b8b2d59eb771",
            "cd951819fc7649c5939aee6a0d2f3b9a"
          ]
        },
        "id": "TK8CK9ozU-xB",
        "outputId": "8f57ca55-282d-46b8-e0f8-1b20d5e38a8d"
      },
      "outputs": [
        {
          "name": "stderr",
          "output_type": "stream",
          "text": [
            "/usr/local/lib/python3.11/dist-packages/huggingface_hub/utils/_auth.py:94: UserWarning: \n",
            "The secret `HF_TOKEN` does not exist in your Colab secrets.\n",
            "To authenticate with the Hugging Face Hub, create a token in your settings tab (https://huggingface.co/settings/tokens), set it as secret in your Google Colab and restart your session.\n",
            "You will be able to reuse this secret in all of your notebooks.\n",
            "Please note that authentication is recommended but still optional to access public models or datasets.\n",
            "  warnings.warn(\n"
          ]
        },
        {
          "data": {
            "application/vnd.jupyter.widget-view+json": {
              "model_id": "0e226c589158438f8c52ee2a9e04c9a6",
              "version_major": 2,
              "version_minor": 0
            },
            "text/plain": [
              "tokenizer_config.json:   0%|          | 0.00/48.0 [00:00<?, ?B/s]"
            ]
          },
          "metadata": {},
          "output_type": "display_data"
        },
        {
          "data": {
            "application/vnd.jupyter.widget-view+json": {
              "model_id": "b62e3b132a0a45f98f2268500d0c2708",
              "version_major": 2,
              "version_minor": 0
            },
            "text/plain": [
              "config.json:   0%|          | 0.00/625 [00:00<?, ?B/s]"
            ]
          },
          "metadata": {},
          "output_type": "display_data"
        },
        {
          "data": {
            "application/vnd.jupyter.widget-view+json": {
              "model_id": "01bfc3cec0b74587b20b929bf48566f5",
              "version_major": 2,
              "version_minor": 0
            },
            "text/plain": [
              "vocab.txt:   0%|          | 0.00/872k [00:00<?, ?B/s]"
            ]
          },
          "metadata": {},
          "output_type": "display_data"
        },
        {
          "data": {
            "application/vnd.jupyter.widget-view+json": {
              "model_id": "3d3c47bbfe4b4565bc30ee2edfc70b54",
              "version_major": 2,
              "version_minor": 0
            },
            "text/plain": [
              "tokenizer.json:   0%|          | 0.00/1.72M [00:00<?, ?B/s]"
            ]
          },
          "metadata": {},
          "output_type": "display_data"
        }
      ],
      "source": [
        "from transformers import AutoTokenizer\n",
        "tokenizer = AutoTokenizer.from_pretrained(\"bert-base-multilingual-uncased\")"
      ]
    },
    {
      "cell_type": "code",
      "execution_count": null,
      "metadata": {
        "colab": {
          "base_uri": "https://localhost:8080/"
        },
        "id": "c3PrqPEW8kcY",
        "outputId": "93825926-d794-4ca1-af39-34235ec4ff3d"
      },
      "outputs": [
        {
          "data": {
            "text/plain": [
              "['[CLS]',\n",
              " 'خان',\n",
              " '##م',\n",
              " 'ن',\n",
              " '##زه',\n",
              " '##تال',\n",
              " '##دو',\n",
              " '##له',\n",
              " 'گ',\n",
              " '##ر',\n",
              " '##چه',\n",
              " 'تا',\n",
              " 'به',\n",
              " 'حال',\n",
              " 'سه',\n",
              " 'تا',\n",
              " 'ش',\n",
              " '##وه',\n",
              " '##ر',\n",
              " 'کرده',\n",
              " 'و',\n",
              " 'شش',\n",
              " 'بار',\n",
              " 'ز',\n",
              " '##ایی',\n",
              " '##ده',\n",
              " 'و',\n",
              " 'دو',\n",
              " 'تا',\n",
              " 'از',\n",
              " 'دختر',\n",
              " '##های',\n",
              " '##ش',\n",
              " 'هم',\n",
              " 'به',\n",
              " 'خان',\n",
              " '##ە',\n",
              " 'دا',\n",
              " '##ماد',\n",
              " 'ف',\n",
              " '##رس',\n",
              " '##تاد',\n",
              " '##ه',\n",
              " '_',\n",
              " 'شدهاند',\n",
              " 'و',\n",
              " 'حال',\n",
              " '##ا',\n",
              " 'دیگر',\n",
              " 'برای',\n",
              " 'خودش',\n",
              " 'مادر',\n",
              " '##ب',\n",
              " '##زر',\n",
              " '##گ',\n",
              " 'شده',\n",
              " '_',\n",
              " 'است',\n",
              " '،',\n",
              " 'باز',\n",
              " 'هم',\n",
              " 'ع',\n",
              " '##قی',\n",
              " '##ده',\n",
              " 'دارد',\n",
              " 'که',\n",
              " 'پی',\n",
              " '##ری',\n",
              " 'و',\n",
              " 'جوان',\n",
              " '##ی',\n",
              " 'دست',\n",
              " 'خود',\n",
              " 'اد',\n",
              " '##م',\n",
              " 'است',\n",
              " 'و',\n",
              " 'گ',\n",
              " '##ر',\n",
              " '##چه',\n",
              " 'سر',\n",
              " 'و',\n",
              " 'هم',\n",
              " '##سر',\n",
              " 'و',\n",
              " 'خ',\n",
              " '##ویش',\n",
              " '##ان',\n",
              " 'و',\n",
              " 'دوست',\n",
              " '##ان',\n",
              " 'می',\n",
              " '##گو',\n",
              " '##یند',\n",
              " 'که',\n",
              " 'پنج',\n",
              " '##اه',\n",
              " 'سال',\n",
              " '##ی',\n",
              " 'دارد',\n",
              " 'ولی',\n",
              " 'هنوز',\n",
              " 'دو',\n",
              " 'دست',\n",
              " '##ی',\n",
              " 'به',\n",
              " 'جوان',\n",
              " '##یا',\n",
              " '##ش',\n",
              " 'چ',\n",
              " '##سب',\n",
              " '##ید',\n",
              " '##ه',\n",
              " 'و',\n",
              " 'هنوز',\n",
              " 'هم',\n",
              " 'در',\n",
              " 'جس',\n",
              " '##تج',\n",
              " '##وی',\n",
              " 'ش',\n",
              " '##وه',\n",
              " '##ر',\n",
              " 'ای',\n",
              " '##دها',\n",
              " '##ل',\n",
              " 'به',\n",
              " 'این',\n",
              " 'در',\n",
              " 'و',\n",
              " 'ان',\n",
              " 'در',\n",
              " 'می',\n",
              " '##زند',\n",
              " '.',\n",
              " '[SEP]']"
            ]
          },
          "execution_count": 25,
          "metadata": {},
          "output_type": "execute_result"
        }
      ],
      "source": [
        "tokenized_input = tokenizer(df['Sentence'][0].split(' '), is_split_into_words=True)\n",
        "tokenizer.convert_ids_to_tokens(tokenized_input[\"input_ids\"])"
      ]
    },
    {
      "cell_type": "code",
      "execution_count": null,
      "metadata": {
        "id": "1jRbNPH0GSxT"
      },
      "outputs": [],
      "source": [
        "def create_role_id_dictionary():\n",
        "    \"\"\"Creates a dictionary that maps PropBank roles to numerical IDs.\"\"\"\n",
        "    roles = set()\n",
        "    frame_elements = set()\n",
        "    for _, row in df.iterrows():\n",
        "        prop_str = row['PropBank Roles']\n",
        "        framenet_str = row['FrameNet Pattern']\n",
        "        roles.update(prop_str)\n",
        "        frame_elements.update(framenet_str)\n",
        "    role_id_dict = defaultdict(int)\n",
        "    frame_id_dict = defaultdict(int)\n",
        "    index = 1\n",
        "    for role in roles:\n",
        "        role_id_dict[role] = index\n",
        "        index += 1\n",
        "    for frame_element in frame_elements:\n",
        "        frame_id_dict[frame_element] = index\n",
        "        index += 1\n",
        "    return role_id_dict, frame_id_dict, roles, frame_elements"
      ]
    },
    {
      "cell_type": "code",
      "execution_count": null,
      "metadata": {
        "colab": {
          "base_uri": "https://localhost:8080/"
        },
        "id": "wlyiZZ-ILuyj",
        "outputId": "68ab23b8-156e-43a6-ecc3-fba60e44a312"
      },
      "outputs": [
        {
          "name": "stdout",
          "output_type": "stream",
          "text": [
            "Role2ID:defaultdict(<class 'int'>, {'B-Def': 1, 'B-ASP': 2, 'O': 3, 'B-GOL': 4, 'B-LOC': 5, 'B-ADV': 6, 'B-TMP': 7, 'B-RCL2': 8, 'B-NVE': 9, 'B-N-V': 10, 'B-MOD': 11, 'B-EXT': 12, 'B-ADJ': 13, 'B-A4': 14, 'B-PRD': 15, 'B-A0': 16, 'B-PRP': 17, 'B-MNR': 18, 'B-A2': 19, 'B-V': 20, 'B-CON': 21, 'B-RCL1': 22, 'B-RPT': 23, 'B-A1': 24, 'B-NEG': 25})\n",
            "Frame2ID:defaultdict(<class 'int'>, {'محصول': 26, 'مقصود': 27, 'کیفیت_نهایی': 28, 'O': 29, 'نام': 30, 'هدف_ذاتی': 31, 'پیام': 32, 'مجری2': 33, 'کنش': 34, 'موجود': 35, 'توصیف\\u200cگر': 36, 'تجربه\\u200cگر': 37, 'وضعیت_نهایی': 38, 'مبدأ': 39, 'موضوع': 40, 'مالکیت': 41, 'محل': 42, 'گیرنده': 43, 'رویداد_پیش\\u200cزمینه': 44, 'اصل_و_نسب': 45, 'بسامد': 46, 'درجه': 47, 'رقابت': 48, 'مرجع_ذیصلاح': 49, 'بارش': 50, 'توصیف': 51, 'توصیفگر': 52, 'توصیف_گر': 53, 'عمل': 54, 'مدت_زمان': 55, 'عقیده': 56, 'رویداد_همزمان': 57, 'دسته_نهایی': 58, 'وسیله': 59, 'تاثیر': 60, 'مسافر': 61, 'هدف_رویداد': 62, 'رویداد_مقایسه': 63, 'جستجو_کننده': 64, 'گوینده': 65, 'کاربرد': 66, 'محدوده': 67, 'قهرمان': 68, 'طرف_متأثر': 69, 'مورد_2': 70, 'مجری1': 71, 'توصیف\\u200cنما': 72, 'هدف': 73, 'جریمه': 74, 'مالک': 75, 'ابزار': 76, 'توصیفی': 77, 'شخص': 78, 'پرداخت_کننده': 79, 'موجودیت_جستجوشده': 80, 'کنش\\u200cپذیر': 81, 'تشخیص\\u200cگر': 82, 'کالا': 83, 'محل_اجرا': 84, 'عامل': 85, 'پارامتر': 86, 'شمارش': 87, 'الزام': 88, 'پدیده': 89, 'توزیع\\u200cکننده': 90, 'موجودیت_خلق_شده': 91, 'برگزیده': 92, 'اهداکننده': 93, 'پیکر': 94, 'علت': 95, 'رویداد': 96, 'فعالیت': 97, 'زمان': 98, 'فرستنده': 99, 'محتوا': 100, 'مورد_1': 101, 'مقوله': 102, 'حسگر': 103, 'مقصد': 104, 'پذیرنده': 105, 'مورد': 106, 'دامنه': 107, 'موجودیت': 108, 'شیوه': 109, 'مکان': 110, 'متن': 111, 'كنش_پذیر': 112, 'شریک_اول': 113, 'مسیر': 114, 'مدت': 115, 'کنشگر': 116})\n",
            "Roles:{'B-Def', 'B-ASP', 'O', 'B-GOL', 'B-LOC', 'B-ADV', 'B-TMP', 'B-RCL2', 'B-NVE', 'B-N-V', 'B-MOD', 'B-EXT', 'B-ADJ', 'B-A4', 'B-PRD', 'B-A0', 'B-PRP', 'B-MNR', 'B-A2', 'B-V', 'B-CON', 'B-RCL1', 'B-RPT', 'B-A1', 'B-NEG'}\n",
            "Frame Elements:{'محصول', 'مقصود', 'کیفیت_نهایی', 'O', 'نام', 'هدف_ذاتی', 'پیام', 'مجری2', 'کنش', 'موجود', 'توصیف\\u200cگر', 'تجربه\\u200cگر', 'وضعیت_نهایی', 'مبدأ', 'موضوع', 'مالکیت', 'محل', 'گیرنده', 'رویداد_پیش\\u200cزمینه', 'اصل_و_نسب', 'بسامد', 'درجه', 'رقابت', 'مرجع_ذیصلاح', 'بارش', 'توصیف', 'توصیفگر', 'توصیف_گر', 'عمل', 'مدت_زمان', 'عقیده', 'رویداد_همزمان', 'دسته_نهایی', 'وسیله', 'تاثیر', 'مسافر', 'هدف_رویداد', 'رویداد_مقایسه', 'جستجو_کننده', 'گوینده', 'کاربرد', 'محدوده', 'قهرمان', 'طرف_متأثر', 'مورد_2', 'مجری1', 'توصیف\\u200cنما', 'هدف', 'جریمه', 'مالک', 'ابزار', 'توصیفی', 'شخص', 'پرداخت_کننده', 'موجودیت_جستجوشده', 'کنش\\u200cپذیر', 'تشخیص\\u200cگر', 'کالا', 'محل_اجرا', 'عامل', 'پارامتر', 'شمارش', 'الزام', 'پدیده', 'توزیع\\u200cکننده', 'موجودیت_خلق_شده', 'برگزیده', 'اهداکننده', 'پیکر', 'علت', 'رویداد', 'فعالیت', 'زمان', 'فرستنده', 'محتوا', 'مورد_1', 'مقوله', 'حسگر', 'مقصد', 'پذیرنده', 'مورد', 'دامنه', 'موجودیت', 'شیوه', 'مکان', 'متن', 'كنش_پذیر', 'شریک_اول', 'مسیر', 'مدت', 'کنشگر'}\n"
          ]
        }
      ],
      "source": [
        "role2id, frame2id, roles, frame_elements = create_role_id_dictionary()\n",
        "print(\"Role2ID:\" + str(role2id))\n",
        "print(\"Frame2ID:\" + str(frame2id))\n",
        "print(\"Roles:\" + str(roles))\n",
        "print(\"Frame Elements:\" + str(frame_elements))"
      ]
    },
    {
      "cell_type": "code",
      "execution_count": null,
      "metadata": {
        "id": "Hshm12kX8Gy5"
      },
      "outputs": [],
      "source": [
        "role2id, frame2id, roles, frame_elements = create_role_id_dictionary()"
      ]
    },
    {
      "cell_type": "code",
      "execution_count": null,
      "metadata": {
        "id": "omiAQ_Dqo6Ja"
      },
      "outputs": [],
      "source": [
        "def getRole(role):\n",
        "  return role2id[role]"
      ]
    },
    {
      "cell_type": "code",
      "execution_count": null,
      "metadata": {
        "id": "4EuIUNXWmex_"
      },
      "outputs": [],
      "source": [
        "df['PropBank Roles'] = df['PropBank Roles'].apply(lambda label : [role2id[l] for l in label])"
      ]
    },
    {
      "cell_type": "code",
      "execution_count": null,
      "metadata": {
        "id": "oQCDd8yUznhH"
      },
      "outputs": [],
      "source": [
        "def tokenize_and_align_labels(examples):\n",
        "    tokenized_inputs = tokenizer(examples[\"Words\"], truncation=True, padding=True, is_split_into_words=True)\n",
        "    labels = []\n",
        "    for i, label in enumerate(examples[f\"PropBank Roles\"]):\n",
        "        word_ids = tokenized_inputs.word_ids(batch_index=i)\n",
        "        previous_word_idx = None\n",
        "        label_ids = []\n",
        "        for word_idx in word_ids:\n",
        "            if word_idx is None:\n",
        "                label_ids.append(-100)\n",
        "            elif word_idx != previous_word_idx:\n",
        "                label_ids.append(label[word_idx])\n",
        "            else:\n",
        "                label_ids.append(-100)\n",
        "            previous_word_idx = word_idx\n",
        "        labels.append(label_ids)\n",
        "\n",
        "    tokenized_inputs[\"labels\"] = labels\n",
        "    return tokenized_inputs"
      ]
    },
    {
      "cell_type": "code",
      "execution_count": null,
      "metadata": {
        "colab": {
          "base_uri": "https://localhost:8080/",
          "height": 49,
          "referenced_widgets": [
            "9f3bd86573d643c68ed426414577575f",
            "41194b21b1bf4f7581fb8b7dc2b41029",
            "7a144cab4fd647c4b29fa1d2e6039457",
            "5d56d3445a1242479b05a91280a75565",
            "383131740f0f46759e6a39e43336d92d",
            "0770904608474c569ec09291a7d6d079",
            "d68f2b13d926485cab2397bdb31caa60",
            "213dfb5a59d64a28ba6df067b7278e99",
            "1d9ad6bcc87949f4a02c684de54f5cf9",
            "732b84f5872b44cdb1f274ea8c575f72",
            "150673cf5ce74a1a87d5eee21eeb87a8"
          ]
        },
        "id": "9CFTLgIl0MbT",
        "outputId": "f74b5377-7072-4a94-e57a-1c2253644e67"
      },
      "outputs": [
        {
          "data": {
            "application/vnd.jupyter.widget-view+json": {
              "model_id": "9f3bd86573d643c68ed426414577575f",
              "version_major": 2,
              "version_minor": 0
            },
            "text/plain": [
              "Map:   0%|          | 0/100 [00:00<?, ? examples/s]"
            ]
          },
          "metadata": {},
          "output_type": "display_data"
        }
      ],
      "source": [
        "from datasets import Dataset\n",
        "dataset = Dataset.from_pandas(df)\n",
        "tokenized_data = dataset.map(tokenize_and_align_labels, batched=True)"
      ]
    },
    {
      "cell_type": "code",
      "execution_count": null,
      "metadata": {
        "id": "x6V3xKXrnxpv"
      },
      "outputs": [],
      "source": [
        "tokenized_data = tokenized_data.train_test_split(test_size=0.3)"
      ]
    },
    {
      "cell_type": "code",
      "execution_count": null,
      "metadata": {
        "colab": {
          "base_uri": "https://localhost:8080/",
          "height": 49,
          "referenced_widgets": [
            "7d4ce6efdf6e4f81a6e9f43531241487",
            "df1bde29af504e0588678f1d257fdff8",
            "358978e1eca040babcfbff4d52b9b7f4",
            "f89b2e94e30e4072b84ae0e3d8c767a4",
            "338a916ec37746be9bbc9c3299f1b232",
            "b84150f7769b4c15bf95cd5c59dd5f7b",
            "d2480dc373b24e10821d6490e2862af1",
            "6c542285f3484604acdfff3cb4d24270",
            "447014aeb55d48b385aaa7b74cb46896",
            "38127d534e144cf8b3edc704afb9a46d",
            "fcb6a93fab14421eb62f553cd45053bb"
          ]
        },
        "id": "9WOsZoa1zXGU",
        "outputId": "3f149cc7-17ad-4133-b815-735cc88b815b"
      },
      "outputs": [
        {
          "data": {
            "application/vnd.jupyter.widget-view+json": {
              "model_id": "7d4ce6efdf6e4f81a6e9f43531241487",
              "version_major": 2,
              "version_minor": 0
            },
            "text/plain": [
              "Downloading builder script:   0%|          | 0.00/6.34k [00:00<?, ?B/s]"
            ]
          },
          "metadata": {},
          "output_type": "display_data"
        }
      ],
      "source": [
        "import evaluate\n",
        "seqeval = evaluate.load(\"seqeval\")"
      ]
    },
    {
      "cell_type": "code",
      "execution_count": null,
      "metadata": {
        "colab": {
          "base_uri": "https://localhost:8080/",
          "height": 49,
          "referenced_widgets": [
            "802042607dfb43d3a1a76a0571a813ce",
            "352e7c91e90c4066beb118d93d6eabcc",
            "23ed2fd0b524475289436c5fbbec7e21",
            "7088da219e4546e3b3bcaa6d207b4ffb",
            "d9d4790791e84f82a0602bbf6b438abc",
            "5ec3c998b6cd457e90b93335d1a4fce3",
            "3a15c904c2f14108a4faa68c28c1ea80",
            "0c9e8b0f415e4669acce223e1ed103b7",
            "241ff833d675410289d9e649acca7a2c",
            "66b94d06d59341488555ae7f6eefc951",
            "7135bb769c5a4b889fdb71b04b3a9fd3"
          ]
        },
        "id": "PvTczx7yz6wE",
        "outputId": "6314fa93-b23c-4d92-ae76-d43f582f498e"
      },
      "outputs": [
        {
          "data": {
            "application/vnd.jupyter.widget-view+json": {
              "model_id": "802042607dfb43d3a1a76a0571a813ce",
              "version_major": 2,
              "version_minor": 0
            },
            "text/plain": [
              "Downloading builder script:   0%|          | 0.00/4.20k [00:00<?, ?B/s]"
            ]
          },
          "metadata": {},
          "output_type": "display_data"
        }
      ],
      "source": [
        "accuracy = evaluate.load(\"accuracy\")"
      ]
    },
    {
      "cell_type": "code",
      "execution_count": null,
      "metadata": {
        "id": "EaR1Q3gHyqlY"
      },
      "outputs": [],
      "source": [
        "from transformers import DataCollatorForTokenClassification\n",
        "data_collator = DataCollatorForTokenClassification(tokenizer=tokenizer)"
      ]
    },
    {
      "cell_type": "code",
      "execution_count": null,
      "metadata": {
        "colab": {
          "base_uri": "https://localhost:8080/",
          "height": 104,
          "referenced_widgets": [
            "e0df6903128449e3b9d7a371b03c7979",
            "050d316919fe452091b7e54756931124",
            "2d3fd067dfca469195c925bc02bf6b5c",
            "06f43713ef454ea2991e4e1d1039ca1f",
            "0be5d2210e8b45dfaea79ec9c5442632",
            "674f9ba561af48b8b27a96f36402146a",
            "a3e2c8241f7b407d85976cf3bad0f3ea",
            "24760486cef049178c8d4fe84b5b69de",
            "18c7bd93b6814e3d984bc4bff6818735",
            "c9cfa8a7764e4b0ba4b3f534a6610b6e",
            "6d36df38d3964714912276ef0cb5e1bc"
          ]
        },
        "id": "iHF8Y5I9otVy",
        "outputId": "4032dbee-46ba-44a0-fd0c-fd202f73e9b3"
      },
      "outputs": [
        {
          "data": {
            "application/vnd.jupyter.widget-view+json": {
              "model_id": "e0df6903128449e3b9d7a371b03c7979",
              "version_major": 2,
              "version_minor": 0
            },
            "text/plain": [
              "model.safetensors:   0%|          | 0.00/672M [00:00<?, ?B/s]"
            ]
          },
          "metadata": {},
          "output_type": "display_data"
        },
        {
          "name": "stderr",
          "output_type": "stream",
          "text": [
            "Some weights of BertForTokenClassification were not initialized from the model checkpoint at bert-base-multilingual-uncased and are newly initialized: ['classifier.bias', 'classifier.weight']\n",
            "You should probably TRAIN this model on a down-stream task to be able to use it for predictions and inference.\n"
          ]
        }
      ],
      "source": [
        "from transformers import AutoModelForTokenClassification\n",
        "model = AutoModelForTokenClassification.from_pretrained('bert-base-multilingual-uncased', num_labels=len(role2id)+1,ignore_mismatched_sizes=True)"
      ]
    },
    {
      "cell_type": "code",
      "execution_count": null,
      "metadata": {
        "id": "sy_diAZc1qNe"
      },
      "outputs": [],
      "source": [
        "label2id = dict(role2id)"
      ]
    },
    {
      "cell_type": "code",
      "execution_count": null,
      "metadata": {
        "id": "exUhcGciVpDM"
      },
      "outputs": [],
      "source": [
        "id2label = dict((v,k) for k,v in label2id.items())"
      ]
    },
    {
      "cell_type": "code",
      "execution_count": null,
      "metadata": {
        "id": "BAkZc0LQ5cd5"
      },
      "outputs": [],
      "source": [
        "label_list = list(role2id.keys())\n",
        "from sklearn.metrics import classification_report, precision_recall_fscore_support\n",
        "from sklearn.preprocessing import MultiLabelBinarizer\n",
        "\n",
        "from sklearn.metrics import classification_report\n",
        "def compute_metrics(p):\n",
        "    predictions, labels = p\n",
        "    predictions = np.argmax(predictions, axis=2)\n",
        "\n",
        "    true_predictions = [\n",
        "        [id2label[p] for (p, l) in zip(prediction, label) if l != -100]\n",
        "        for prediction, label in zip(predictions, labels)\n",
        "    ]\n",
        "    true_labels = [\n",
        "        [id2label[l] for (p, l) in zip(prediction, label) if l != -100]\n",
        "        for prediction, label in zip(predictions, labels)\n",
        "    ]\n",
        "    true_labels_bin = list(np.concatenate(true_labels))\n",
        "    pred_labels_bin = list(np.concatenate(true_predictions))\n",
        "    print(true_labels_bin)\n",
        "    print(pred_labels_bin)\n",
        "    report = classification_report(true_labels_bin, pred_labels_bin)\n",
        "    metrics = precision_recall_fscore_support(true_labels_bin, pred_labels_bin, average='weighted')\n",
        "    accuracy = metrics[0]\n",
        "    precision = metrics[1]\n",
        "    recall = metrics[2]\n",
        "    f1_score = metrics[3]\n",
        "    return {\n",
        "        \"precision\": precision,\n",
        "        \"recall\": recall,\n",
        "        \"f1\": f1_score,\n",
        "        \"accuracy\": accuracy\n",
        "    }"
      ]
    },
    {
      "cell_type": "code",
      "execution_count": null,
      "metadata": {
        "colab": {
          "base_uri": "https://localhost:8080/"
        },
        "id": "vD9uyLVYGQIa",
        "outputId": "5b46fc42-e931-48a3-cc0f-721e67b3545e"
      },
      "outputs": [
        {
          "name": "stderr",
          "output_type": "stream",
          "text": [
            "/usr/local/lib/python3.11/dist-packages/transformers/training_args.py:1594: FutureWarning: `evaluation_strategy` is deprecated and will be removed in version 4.46 of 🤗 Transformers. Use `eval_strategy` instead\n",
            "  warnings.warn(\n"
          ]
        }
      ],
      "source": [
        "training_args = TrainingArguments(\n",
        "    output_dir=\"bert-token-classification\",\n",
        "    learning_rate=0.1,\n",
        "    per_device_train_batch_size=16,\n",
        "    per_device_eval_batch_size=16,\n",
        "    num_train_epochs=1,\n",
        "    evaluation_strategy=\"epoch\",\n",
        "    weight_decay=0.01,\n",
        "    save_strategy=\"no\",\n",
        "    report_to=None,\n",
        "    #use_cpu=True,\n",
        "    #no_cuda=True,\n",
        "    #load_best_model_at_end=True, # uncomment if you wanna save\n",
        ")"
      ]
    },
    {
      "cell_type": "code",
      "execution_count": null,
      "metadata": {
        "id": "3elmnJlcGQLz"
      },
      "outputs": [],
      "source": [
        "trainer = Trainer(model=model,args=training_args,data_collator=data_collator,train_dataset=tokenized_data['train']  ,eval_dataset=tokenized_data['test'],compute_metrics=compute_metrics,)"
      ]
    },
    {
      "cell_type": "code",
      "execution_count": null,
      "metadata": {
        "id": "HH2V2Wd3Y_bJ"
      },
      "outputs": [],
      "source": [
        "import os\n",
        "os.environ[\"WANDB_DISABLED\"] = \"true\""
      ]
    },
    {
      "cell_type": "code",
      "execution_count": null,
      "metadata": {
        "id": "NZkEIMV7GQqV"
      },
      "outputs": [],
      "source": [
        "trainer.train()"
      ]
    },
    {
      "cell_type": "code",
      "execution_count": null,
      "metadata": {
        "id": "oiRuHuGDRTc8"
      },
      "outputs": [],
      "source": [
        "trainer.evaluate()"
      ]
    }
  ],
  "metadata": {
    "accelerator": "GPU",
    "colab": {
      "provenance": []
    },
    "kernelspec": {
      "display_name": "Python 3",
      "name": "python3"
    },
    "language_info": {
      "name": "python"
    }
  },
  "nbformat": 4,
  "nbformat_minor": 0
}