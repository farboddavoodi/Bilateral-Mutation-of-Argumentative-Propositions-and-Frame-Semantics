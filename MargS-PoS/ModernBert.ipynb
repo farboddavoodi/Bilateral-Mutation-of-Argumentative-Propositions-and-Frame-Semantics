{
  "cells": [
    {
      "cell_type": "code",
      "execution_count": null,
      "metadata": {
        "id": "7geJAOjEvA19"
      },
      "outputs": [],
      "source": [
        "%%capture\n",
        "!pip install datasets"
      ]
    },
    {
      "cell_type": "code",
      "execution_count": null,
      "metadata": {
        "id": "mcgpxXNrUnGj"
      },
      "outputs": [],
      "source": [
        "%%capture\n",
        "!pip install evaluate\n",
        "!pip install seqeval"
      ]
    },
    {
      "cell_type": "code",
      "execution_count": null,
      "metadata": {
        "id": "wzUgpKT5KyZp"
      },
      "outputs": [],
      "source": [
        "%%capture\n",
        "!pip install --upgrade transformers"
      ]
    },
    {
      "cell_type": "code",
      "execution_count": null,
      "metadata": {
        "id": "i6PFBM0FNVeU"
      },
      "outputs": [],
      "source": [
        "%%capture\n",
        "!pip install matplotlib-venn\n",
        "!pip install pydot\n",
        "!pip install cartopy\n",
        "import cartopy\n",
        "import pydot"
      ]
    },
    {
      "cell_type": "code",
      "execution_count": null,
      "metadata": {
        "id": "8iyJZLSuv4ev"
      },
      "outputs": [],
      "source": [
        "%%capture\n",
        "!pip install accelerate -U"
      ]
    },
    {
      "cell_type": "code",
      "execution_count": null,
      "metadata": {
        "id": "C8gKCu6XrYY7"
      },
      "outputs": [],
      "source": [
        "import torch\n",
        "import pandas as pd\n",
        "import os\n",
        "import json\n",
        "import re\n",
        "import xml.etree.ElementTree as ET\n",
        "from collections import Counter\n",
        "from tqdm import tqdm\n",
        "import nltk\n",
        "import zipfile\n",
        "import tarfile\n",
        "from nltk.corpus import wordnet\n",
        "from nltk.stem import WordNetLemmatizer\n",
        "from google.colab import drive\n",
        "import matplotlib.pyplot as plt\n",
        "import os\n",
        "import numpy as np\n",
        "from sklearn.model_selection import train_test_split\n",
        "from tokenizers import Encoding\n",
        "from collections import defaultdict\n",
        "from torch.utils.data import Dataset, DataLoader\n",
        "from transformers import BertTokenizer, BertForTokenClassification, AdamW, get_linear_schedule_with_warmup, Trainer, TrainingArguments,  BatchEncoding\n",
        "import json\n",
        "import sqlite3\n",
        "import csv\n",
        "from tqdm import tqdm\n",
        "import pandas as pd\n",
        "import torch\n",
        "from google.colab import drive\n",
        "import matplotlib.pyplot as plt\n",
        "import os\n",
        "import numpy as np\n",
        "from sklearn.model_selection import train_test_split\n",
        "from tokenizers import Encoding\n",
        "from collections import defaultdict\n",
        "from torch.utils.data import Dataset, DataLoader\n",
        "from transformers import BertTokenizer, BertForTokenClassification, AdamW, get_linear_schedule_with_warmup, Trainer, TrainingArguments,  BatchEncoding\n",
        "import os\n",
        "import pandas as pd\n",
        "from lxml import etree\n",
        "import xml.etree.ElementTree as ET\n",
        "import xml.etree.ElementTree as ETree\n",
        "from pathlib import Path\n",
        "import glob\n",
        "from tqdm import tqdm\n",
        "from google.colab import drive\n",
        "import torch\n",
        "import matplotlib.pyplot as plt\n",
        "import numpy as np\n",
        "from sklearn.model_selection import train_test_split\n",
        "from tokenizers import Encoding\n",
        "from collections import defaultdict\n",
        "from torch.utils.data import Dataset, DataLoader\n",
        "from transformers import BertTokenizer, BertForTokenClassification, AdamW, get_linear_schedule_with_warmup, Trainer, TrainingArguments,  BatchEncoding"
      ]
    },
    {
      "cell_type": "code",
      "execution_count": null,
      "metadata": {
        "colab": {
          "base_uri": "https://localhost:8080/"
        },
        "id": "mC2XSPTJuXhk",
        "outputId": "a2e29b37-1dac-4ff4-d47c-141576000fad"
      },
      "outputs": [
        {
          "name": "stdout",
          "output_type": "stream",
          "text": [
            "Mounted at /content/drive\n"
          ]
        }
      ],
      "source": [
        "from google.colab import drive\n",
        "drive.mount('/content/drive')"
      ]
    },
    {
      "cell_type": "code",
      "execution_count": null,
      "metadata": {
        "id": "sVoTCmeAyPt1"
      },
      "outputs": [],
      "source": [
        "device = torch.device(\"cuda\")\n",
        "json_data = '/content/drive/MyDrive/davodi.json'\n",
        "persian_df = pd.read_json(json_data)\n",
        "persian_df = persian_df.drop(['_id', 'sentence', 'frame', 'lexicalUnit', 'status', 'issuer', 'is_active', 'createdAt', 'updatedAt', 'PId', 'lang', 'description', 'lexicalUnitHint', 'reviewer', 'lexicalUnitHelper', 'frameHelper', 'frameName', 'lexicalUnitName'], axis = 1)"
      ]
    },
    {
      "cell_type": "code",
      "execution_count": null,
      "metadata": {
        "id": "U8STebfkruf-"
      },
      "outputs": [],
      "source": [
        "def framenet_tags(FN_tags):\n",
        "    framenet_pattern = []\n",
        "    for FN_tag in FN_tags:\n",
        "        tag_type = FN_tag.get('tagType')\n",
        "        if tag_type == 5:\n",
        "            element = FN_tag.get('element', {})\n",
        "            element_name = element.get('name', '')\n",
        "            framenet_pattern.append(element_name)\n",
        "        else:\n",
        "            framenet_pattern.append('O')\n",
        "    return framenet_pattern"
      ]
    },
    {
      "cell_type": "code",
      "execution_count": null,
      "metadata": {
        "id": "vr_bQ8xwMPUi"
      },
      "outputs": [],
      "source": [
        "persian_df['frameNetTags'] = persian_df['frameNetTags'].apply(lambda FN_tags : framenet_tags(FN_tags))"
      ]
    },
    {
      "cell_type": "code",
      "execution_count": null,
      "metadata": {
        "id": "hpTSULsLubeJ"
      },
      "outputs": [],
      "source": [
        "device = torch.device(\"cuda\")\n",
        "sentences_path = \"/content/drive/MyDrive/sentences.zip\""
      ]
    },
    {
      "cell_type": "code",
      "execution_count": null,
      "metadata": {
        "colab": {
          "base_uri": "https://localhost:8080/"
        },
        "id": "IdzSd3_lbZgM",
        "outputId": "9cc1e182-5e2b-4738-b063-d47a750673f2"
      },
      "outputs": [
        {
          "data": {
            "text/plain": [
              "2304"
            ]
          },
          "execution_count": 12,
          "metadata": {},
          "output_type": "execute_result"
        }
      ],
      "source": [
        "os.system(\"unzip sentences.zip\")"
      ]
    },
    {
      "cell_type": "code",
      "execution_count": null,
      "metadata": {
        "id": "qsRNREQLa5Wp"
      },
      "outputs": [],
      "source": [
        "zip_file_path = '/content/drive/My Drive/sentences.zip'\n",
        "with zipfile.ZipFile(zip_file_path, 'r') as zip_ref:\n",
        "    zip_ref.extractall('/content/drive/My Drive/sentences')"
      ]
    },
    {
      "cell_type": "code",
      "execution_count": null,
      "metadata": {
        "id": "1XYJw079WEpT"
      },
      "outputs": [],
      "source": [
        "directory = \"/content/drive/MyDrive/sentences\"\n",
        "dataframes = []\n",
        "for filename in os.listdir(directory):\n",
        "    if filename.endswith(\".json\"):\n",
        "        filepath = os.path.join(directory, filename)\n",
        "        enpb_df = pd.read_json(filepath, lines=True)\n",
        "        dataframes.append(enpb_df)"
      ]
    },
    {
      "cell_type": "code",
      "execution_count": null,
      "metadata": {
        "id": "keOUDa7xWFPx"
      },
      "outputs": [],
      "source": [
        "def read_json_files(root_dir):\n",
        "  dataframes = []\n",
        "  for root, dirs, files in os.walk(root_dir):\n",
        "      for filename in files:\n",
        "          if filename.endswith(\".json\"):\n",
        "              filepath = os.path.join(root, filename)\n",
        "              df = pd.read_json(filepath, lines=True)\n",
        "              dataframes.append(df)\n",
        "  return dataframes\n",
        "dataframes = read_json_files(\"/content/drive/MyDrive/sentences\")"
      ]
    },
    {
      "cell_type": "code",
      "execution_count": null,
      "metadata": {
        "id": "4LgmJT6qs38h"
      },
      "outputs": [],
      "source": [
        "def prepare_token_classification_data(json_data):\n",
        "    all_roles = []\n",
        "    for key, value in json_data.items():\n",
        "        predicate = value['predicate']\n",
        "        roles = value['roles']\n",
        "        verb_index = int(key)\n",
        "        roles[verb_index] = \"B-V\"\n",
        "        roles = ['O' if role == '_' else role for role in roles]\n",
        "        all_roles.append(roles)\n",
        "    return all_roles"
      ]
    },
    {
      "cell_type": "code",
      "execution_count": null,
      "metadata": {
        "id": "iajvjXak3DlM"
      },
      "outputs": [],
      "source": [
        "def create_token_label_dataframe_from_columns(df):\n",
        "    sentence_ids = df[\"sentence_id\"].tolist()\n",
        "    words = df['words'].tolist()\n",
        "    predictions = df['predictions'].tolist()\n",
        "    df_prepared = pd.DataFrame(columns=[\"sentence_id\", \"words\", \"predictions\"])\n",
        "    for i, (sentence_id, word, prediction) in enumerate(zip(sentence_ids, words, predictions)):\n",
        "        for label in prediction:\n",
        "            df_prepared.loc[len(df_prepared)] = [sentence_id, word, label]\n",
        "    return df_prepared"
      ]
    },
    {
      "cell_type": "code",
      "execution_count": null,
      "metadata": {
        "id": "f9J6MquBovp2"
      },
      "outputs": [],
      "source": [
        "enpb_df['predictions'] = enpb_df['predictions'].apply(lambda json_data : prepare_token_classification_data(json_data))"
      ]
    },
    {
      "cell_type": "code",
      "execution_count": null,
      "metadata": {
        "id": "Vo7M027LCHBm"
      },
      "outputs": [],
      "source": [
        "enpb_df = create_token_label_dataframe_from_columns(enpb_df)"
      ]
    },
    {
      "cell_type": "code",
      "execution_count": null,
      "metadata": {
        "id": "PYJixkCaIPz2"
      },
      "outputs": [],
      "source": [
        "enpb_df['Sentence'] = enpb_df['words'].apply(lambda x: ' '.join(x))\n",
        "enpb_df = enpb_df.rename(columns={'predictions' : 'propBankTags'})"
      ]
    },
    {
      "cell_type": "code",
      "execution_count": null,
      "metadata": {
        "colab": {
          "base_uri": "https://localhost:8080/",
          "height": 424
        },
        "id": "auRJ9FJxAS9L",
        "outputId": "01130a3f-0b86-4539-e437-33da05055759"
      },
      "outputs": [
        {
          "data": {
            "application/vnd.google.colaboratory.intrinsic+json": {
              "summary": "{\n  \"name\": \"enpb_df\",\n  \"rows\": 26159,\n  \"fields\": [\n    {\n      \"column\": \"sentence_id\",\n      \"properties\": {\n        \"dtype\": \"number\",\n        \"std\": 2981,\n        \"min\": 0,\n        \"max\": 10261,\n        \"num_unique_values\": 9613,\n        \"samples\": [\n          10144,\n          2141,\n          384\n        ],\n        \"semantic_type\": \"\",\n        \"description\": \"\"\n      }\n    },\n    {\n      \"column\": \"words\",\n      \"properties\": {\n        \"dtype\": \"object\",\n        \"semantic_type\": \"\",\n        \"description\": \"\"\n      }\n    },\n    {\n      \"column\": \"propBankTags\",\n      \"properties\": {\n        \"dtype\": \"object\",\n        \"semantic_type\": \"\",\n        \"description\": \"\"\n      }\n    },\n    {\n      \"column\": \"Sentence\",\n      \"properties\": {\n        \"dtype\": \"category\",\n        \"num_unique_values\": 9565,\n        \"samples\": [\n          \"The process went so far in Algeria earlier this year that the army cancelled the results of general elections when it became clear that the Islamic Salvation Front would win an overwhelming victory .\",\n          \"They also eat the eggs of birds and other reptiles .\",\n          \"He produced a packet of cigarettes , and lit up .\"\n        ],\n        \"semantic_type\": \"\",\n        \"description\": \"\"\n      }\n    }\n  ]\n}",
              "type": "dataframe",
              "variable_name": "enpb_df"
            },
            "text/html": [
              "\n",
              "  <div id=\"df-d2a4407f-7797-48c4-9c5f-97b13be2d6c7\" class=\"colab-df-container\">\n",
              "    <div>\n",
              "<style scoped>\n",
              "    .dataframe tbody tr th:only-of-type {\n",
              "        vertical-align: middle;\n",
              "    }\n",
              "\n",
              "    .dataframe tbody tr th {\n",
              "        vertical-align: top;\n",
              "    }\n",
              "\n",
              "    .dataframe thead th {\n",
              "        text-align: right;\n",
              "    }\n",
              "</style>\n",
              "<table border=\"1\" class=\"dataframe\">\n",
              "  <thead>\n",
              "    <tr style=\"text-align: right;\">\n",
              "      <th></th>\n",
              "      <th>sentence_id</th>\n",
              "      <th>words</th>\n",
              "      <th>propBankTags</th>\n",
              "      <th>Sentence</th>\n",
              "    </tr>\n",
              "  </thead>\n",
              "  <tbody>\n",
              "    <tr>\n",
              "      <th>0</th>\n",
              "      <td>0</td>\n",
              "      <td>[And, without, more, ado, the, two, officers, ...</td>\n",
              "      <td>[O, AM-MNR, O, O, O, O, A0, B-V, O, A1, A2, O,...</td>\n",
              "      <td>And without more ado the two officers fastened...</td>\n",
              "    </tr>\n",
              "    <tr>\n",
              "      <th>1</th>\n",
              "      <td>0</td>\n",
              "      <td>[And, without, more, ado, the, two, officers, ...</td>\n",
              "      <td>[AM-DIS, AM-MNR, O, O, O, O, A0, O, O, O, O, O...</td>\n",
              "      <td>And without more ado the two officers fastened...</td>\n",
              "    </tr>\n",
              "    <tr>\n",
              "      <th>2</th>\n",
              "      <td>1</td>\n",
              "      <td>[She, would, fasten, the, ring, about, her, ne...</td>\n",
              "      <td>[A0, AM-MOD, B-V, O, A1, A2, O, O, O, O, O, O,...</td>\n",
              "      <td>She would fasten the ring about her neck and w...</td>\n",
              "    </tr>\n",
              "    <tr>\n",
              "      <th>3</th>\n",
              "      <td>1</td>\n",
              "      <td>[She, would, fasten, the, ring, about, her, ne...</td>\n",
              "      <td>[A0, AM-MOD, O, O, O, O, O, O, O, B-V, A1, AM-...</td>\n",
              "      <td>She would fasten the ring about her neck and w...</td>\n",
              "    </tr>\n",
              "    <tr>\n",
              "      <th>4</th>\n",
              "      <td>1</td>\n",
              "      <td>[She, would, fasten, the, ring, about, her, ne...</td>\n",
              "      <td>[O, O, O, O, O, O, O, O, O, O, O, O, O, O, O, ...</td>\n",
              "      <td>She would fasten the ring about her neck and w...</td>\n",
              "    </tr>\n",
              "    <tr>\n",
              "      <th>...</th>\n",
              "      <td>...</td>\n",
              "      <td>...</td>\n",
              "      <td>...</td>\n",
              "      <td>...</td>\n",
              "    </tr>\n",
              "    <tr>\n",
              "      <th>26154</th>\n",
              "      <td>10260</td>\n",
              "      <td>[It, was, after, the, first, snow, and, I, fol...</td>\n",
              "      <td>[O, O, O, O, O, O, O, A0, B-V, O, O, A1, AM-DI...</td>\n",
              "      <td>It was after the first snow and I followed the...</td>\n",
              "    </tr>\n",
              "    <tr>\n",
              "      <th>26155</th>\n",
              "      <td>10260</td>\n",
              "      <td>[It, was, after, the, first, snow, and, I, fol...</td>\n",
              "      <td>[O, O, O, O, O, O, O, A0, O, O, O, O, O, O, O,...</td>\n",
              "      <td>It was after the first snow and I followed the...</td>\n",
              "    </tr>\n",
              "    <tr>\n",
              "      <th>26156</th>\n",
              "      <td>10260</td>\n",
              "      <td>[It, was, after, the, first, snow, and, I, fol...</td>\n",
              "      <td>[O, O, O, O, O, O, O, O, O, O, O, O, O, O, O, ...</td>\n",
              "      <td>It was after the first snow and I followed the...</td>\n",
              "    </tr>\n",
              "    <tr>\n",
              "      <th>26157</th>\n",
              "      <td>10261</td>\n",
              "      <td>[There, was, only, a, handful, of, mourners, a...</td>\n",
              "      <td>[O, B-V, O, O, A1, O, O, O, O, O, O, AM-CAU, O...</td>\n",
              "      <td>There was only a handful of mourners at Gillam...</td>\n",
              "    </tr>\n",
              "    <tr>\n",
              "      <th>26158</th>\n",
              "      <td>10261</td>\n",
              "      <td>[There, was, only, a, handful, of, mourners, a...</td>\n",
              "      <td>[O, O, O, O, O, O, O, O, O, O, O, O, O, A1, O,...</td>\n",
              "      <td>There was only a handful of mourners at Gillam...</td>\n",
              "    </tr>\n",
              "  </tbody>\n",
              "</table>\n",
              "<p>26159 rows × 4 columns</p>\n",
              "</div>\n",
              "    <div class=\"colab-df-buttons\">\n",
              "\n",
              "  <div class=\"colab-df-container\">\n",
              "    <button class=\"colab-df-convert\" onclick=\"convertToInteractive('df-d2a4407f-7797-48c4-9c5f-97b13be2d6c7')\"\n",
              "            title=\"Convert this dataframe to an interactive table.\"\n",
              "            style=\"display:none;\">\n",
              "\n",
              "  <svg xmlns=\"http://www.w3.org/2000/svg\" height=\"24px\" viewBox=\"0 -960 960 960\">\n",
              "    <path d=\"M120-120v-720h720v720H120Zm60-500h600v-160H180v160Zm220 220h160v-160H400v160Zm0 220h160v-160H400v160ZM180-400h160v-160H180v160Zm440 0h160v-160H620v160ZM180-180h160v-160H180v160Zm440 0h160v-160H620v160Z\"/>\n",
              "  </svg>\n",
              "    </button>\n",
              "\n",
              "  <style>\n",
              "    .colab-df-container {\n",
              "      display:flex;\n",
              "      gap: 12px;\n",
              "    }\n",
              "\n",
              "    .colab-df-convert {\n",
              "      background-color: #E8F0FE;\n",
              "      border: none;\n",
              "      border-radius: 50%;\n",
              "      cursor: pointer;\n",
              "      display: none;\n",
              "      fill: #1967D2;\n",
              "      height: 32px;\n",
              "      padding: 0 0 0 0;\n",
              "      width: 32px;\n",
              "    }\n",
              "\n",
              "    .colab-df-convert:hover {\n",
              "      background-color: #E2EBFA;\n",
              "      box-shadow: 0px 1px 2px rgba(60, 64, 67, 0.3), 0px 1px 3px 1px rgba(60, 64, 67, 0.15);\n",
              "      fill: #174EA6;\n",
              "    }\n",
              "\n",
              "    .colab-df-buttons div {\n",
              "      margin-bottom: 4px;\n",
              "    }\n",
              "\n",
              "    [theme=dark] .colab-df-convert {\n",
              "      background-color: #3B4455;\n",
              "      fill: #D2E3FC;\n",
              "    }\n",
              "\n",
              "    [theme=dark] .colab-df-convert:hover {\n",
              "      background-color: #434B5C;\n",
              "      box-shadow: 0px 1px 3px 1px rgba(0, 0, 0, 0.15);\n",
              "      filter: drop-shadow(0px 1px 2px rgba(0, 0, 0, 0.3));\n",
              "      fill: #FFFFFF;\n",
              "    }\n",
              "  </style>\n",
              "\n",
              "    <script>\n",
              "      const buttonEl =\n",
              "        document.querySelector('#df-d2a4407f-7797-48c4-9c5f-97b13be2d6c7 button.colab-df-convert');\n",
              "      buttonEl.style.display =\n",
              "        google.colab.kernel.accessAllowed ? 'block' : 'none';\n",
              "\n",
              "      async function convertToInteractive(key) {\n",
              "        const element = document.querySelector('#df-d2a4407f-7797-48c4-9c5f-97b13be2d6c7');\n",
              "        const dataTable =\n",
              "          await google.colab.kernel.invokeFunction('convertToInteractive',\n",
              "                                                    [key], {});\n",
              "        if (!dataTable) return;\n",
              "\n",
              "        const docLinkHtml = 'Like what you see? Visit the ' +\n",
              "          '<a target=\"_blank\" href=https://colab.research.google.com/notebooks/data_table.ipynb>data table notebook</a>'\n",
              "          + ' to learn more about interactive tables.';\n",
              "        element.innerHTML = '';\n",
              "        dataTable['output_type'] = 'display_data';\n",
              "        await google.colab.output.renderOutput(dataTable, element);\n",
              "        const docLink = document.createElement('div');\n",
              "        docLink.innerHTML = docLinkHtml;\n",
              "        element.appendChild(docLink);\n",
              "      }\n",
              "    </script>\n",
              "  </div>\n",
              "\n",
              "\n",
              "<div id=\"df-aed49c43-1d1d-4ecf-9aa6-87d3a22fa79f\">\n",
              "  <button class=\"colab-df-quickchart\" onclick=\"quickchart('df-aed49c43-1d1d-4ecf-9aa6-87d3a22fa79f')\"\n",
              "            title=\"Suggest charts\"\n",
              "            style=\"display:none;\">\n",
              "\n",
              "<svg xmlns=\"http://www.w3.org/2000/svg\" height=\"24px\"viewBox=\"0 0 24 24\"\n",
              "     width=\"24px\">\n",
              "    <g>\n",
              "        <path d=\"M19 3H5c-1.1 0-2 .9-2 2v14c0 1.1.9 2 2 2h14c1.1 0 2-.9 2-2V5c0-1.1-.9-2-2-2zM9 17H7v-7h2v7zm4 0h-2V7h2v10zm4 0h-2v-4h2v4z\"/>\n",
              "    </g>\n",
              "</svg>\n",
              "  </button>\n",
              "\n",
              "<style>\n",
              "  .colab-df-quickchart {\n",
              "      --bg-color: #E8F0FE;\n",
              "      --fill-color: #1967D2;\n",
              "      --hover-bg-color: #E2EBFA;\n",
              "      --hover-fill-color: #174EA6;\n",
              "      --disabled-fill-color: #AAA;\n",
              "      --disabled-bg-color: #DDD;\n",
              "  }\n",
              "\n",
              "  [theme=dark] .colab-df-quickchart {\n",
              "      --bg-color: #3B4455;\n",
              "      --fill-color: #D2E3FC;\n",
              "      --hover-bg-color: #434B5C;\n",
              "      --hover-fill-color: #FFFFFF;\n",
              "      --disabled-bg-color: #3B4455;\n",
              "      --disabled-fill-color: #666;\n",
              "  }\n",
              "\n",
              "  .colab-df-quickchart {\n",
              "    background-color: var(--bg-color);\n",
              "    border: none;\n",
              "    border-radius: 50%;\n",
              "    cursor: pointer;\n",
              "    display: none;\n",
              "    fill: var(--fill-color);\n",
              "    height: 32px;\n",
              "    padding: 0;\n",
              "    width: 32px;\n",
              "  }\n",
              "\n",
              "  .colab-df-quickchart:hover {\n",
              "    background-color: var(--hover-bg-color);\n",
              "    box-shadow: 0 1px 2px rgba(60, 64, 67, 0.3), 0 1px 3px 1px rgba(60, 64, 67, 0.15);\n",
              "    fill: var(--button-hover-fill-color);\n",
              "  }\n",
              "\n",
              "  .colab-df-quickchart-complete:disabled,\n",
              "  .colab-df-quickchart-complete:disabled:hover {\n",
              "    background-color: var(--disabled-bg-color);\n",
              "    fill: var(--disabled-fill-color);\n",
              "    box-shadow: none;\n",
              "  }\n",
              "\n",
              "  .colab-df-spinner {\n",
              "    border: 2px solid var(--fill-color);\n",
              "    border-color: transparent;\n",
              "    border-bottom-color: var(--fill-color);\n",
              "    animation:\n",
              "      spin 1s steps(1) infinite;\n",
              "  }\n",
              "\n",
              "  @keyframes spin {\n",
              "    0% {\n",
              "      border-color: transparent;\n",
              "      border-bottom-color: var(--fill-color);\n",
              "      border-left-color: var(--fill-color);\n",
              "    }\n",
              "    20% {\n",
              "      border-color: transparent;\n",
              "      border-left-color: var(--fill-color);\n",
              "      border-top-color: var(--fill-color);\n",
              "    }\n",
              "    30% {\n",
              "      border-color: transparent;\n",
              "      border-left-color: var(--fill-color);\n",
              "      border-top-color: var(--fill-color);\n",
              "      border-right-color: var(--fill-color);\n",
              "    }\n",
              "    40% {\n",
              "      border-color: transparent;\n",
              "      border-right-color: var(--fill-color);\n",
              "      border-top-color: var(--fill-color);\n",
              "    }\n",
              "    60% {\n",
              "      border-color: transparent;\n",
              "      border-right-color: var(--fill-color);\n",
              "    }\n",
              "    80% {\n",
              "      border-color: transparent;\n",
              "      border-right-color: var(--fill-color);\n",
              "      border-bottom-color: var(--fill-color);\n",
              "    }\n",
              "    90% {\n",
              "      border-color: transparent;\n",
              "      border-bottom-color: var(--fill-color);\n",
              "    }\n",
              "  }\n",
              "</style>\n",
              "\n",
              "  <script>\n",
              "    async function quickchart(key) {\n",
              "      const quickchartButtonEl =\n",
              "        document.querySelector('#' + key + ' button');\n",
              "      quickchartButtonEl.disabled = true;  // To prevent multiple clicks.\n",
              "      quickchartButtonEl.classList.add('colab-df-spinner');\n",
              "      try {\n",
              "        const charts = await google.colab.kernel.invokeFunction(\n",
              "            'suggestCharts', [key], {});\n",
              "      } catch (error) {\n",
              "        console.error('Error during call to suggestCharts:', error);\n",
              "      }\n",
              "      quickchartButtonEl.classList.remove('colab-df-spinner');\n",
              "      quickchartButtonEl.classList.add('colab-df-quickchart-complete');\n",
              "    }\n",
              "    (() => {\n",
              "      let quickchartButtonEl =\n",
              "        document.querySelector('#df-aed49c43-1d1d-4ecf-9aa6-87d3a22fa79f button');\n",
              "      quickchartButtonEl.style.display =\n",
              "        google.colab.kernel.accessAllowed ? 'block' : 'none';\n",
              "    })();\n",
              "  </script>\n",
              "</div>\n",
              "\n",
              "  <div id=\"id_bcde9689-80de-4f2f-84a6-6d8f27d1838b\">\n",
              "    <style>\n",
              "      .colab-df-generate {\n",
              "        background-color: #E8F0FE;\n",
              "        border: none;\n",
              "        border-radius: 50%;\n",
              "        cursor: pointer;\n",
              "        display: none;\n",
              "        fill: #1967D2;\n",
              "        height: 32px;\n",
              "        padding: 0 0 0 0;\n",
              "        width: 32px;\n",
              "      }\n",
              "\n",
              "      .colab-df-generate:hover {\n",
              "        background-color: #E2EBFA;\n",
              "        box-shadow: 0px 1px 2px rgba(60, 64, 67, 0.3), 0px 1px 3px 1px rgba(60, 64, 67, 0.15);\n",
              "        fill: #174EA6;\n",
              "      }\n",
              "\n",
              "      [theme=dark] .colab-df-generate {\n",
              "        background-color: #3B4455;\n",
              "        fill: #D2E3FC;\n",
              "      }\n",
              "\n",
              "      [theme=dark] .colab-df-generate:hover {\n",
              "        background-color: #434B5C;\n",
              "        box-shadow: 0px 1px 3px 1px rgba(0, 0, 0, 0.15);\n",
              "        filter: drop-shadow(0px 1px 2px rgba(0, 0, 0, 0.3));\n",
              "        fill: #FFFFFF;\n",
              "      }\n",
              "    </style>\n",
              "    <button class=\"colab-df-generate\" onclick=\"generateWithVariable('enpb_df')\"\n",
              "            title=\"Generate code using this dataframe.\"\n",
              "            style=\"display:none;\">\n",
              "\n",
              "  <svg xmlns=\"http://www.w3.org/2000/svg\" height=\"24px\"viewBox=\"0 0 24 24\"\n",
              "       width=\"24px\">\n",
              "    <path d=\"M7,19H8.4L18.45,9,17,7.55,7,17.6ZM5,21V16.75L18.45,3.32a2,2,0,0,1,2.83,0l1.4,1.43a1.91,1.91,0,0,1,.58,1.4,1.91,1.91,0,0,1-.58,1.4L9.25,21ZM18.45,9,17,7.55Zm-12,3A5.31,5.31,0,0,0,4.9,8.1,5.31,5.31,0,0,0,1,6.5,5.31,5.31,0,0,0,4.9,4.9,5.31,5.31,0,0,0,6.5,1,5.31,5.31,0,0,0,8.1,4.9,5.31,5.31,0,0,0,12,6.5,5.46,5.46,0,0,0,6.5,12Z\"/>\n",
              "  </svg>\n",
              "    </button>\n",
              "    <script>\n",
              "      (() => {\n",
              "      const buttonEl =\n",
              "        document.querySelector('#id_bcde9689-80de-4f2f-84a6-6d8f27d1838b button.colab-df-generate');\n",
              "      buttonEl.style.display =\n",
              "        google.colab.kernel.accessAllowed ? 'block' : 'none';\n",
              "\n",
              "      buttonEl.onclick = () => {\n",
              "        google.colab.notebook.generateWithVariable('enpb_df');\n",
              "      }\n",
              "      })();\n",
              "    </script>\n",
              "  </div>\n",
              "\n",
              "    </div>\n",
              "  </div>\n"
            ],
            "text/plain": [
              "       sentence_id                                              words  \\\n",
              "0                0  [And, without, more, ado, the, two, officers, ...   \n",
              "1                0  [And, without, more, ado, the, two, officers, ...   \n",
              "2                1  [She, would, fasten, the, ring, about, her, ne...   \n",
              "3                1  [She, would, fasten, the, ring, about, her, ne...   \n",
              "4                1  [She, would, fasten, the, ring, about, her, ne...   \n",
              "...            ...                                                ...   \n",
              "26154        10260  [It, was, after, the, first, snow, and, I, fol...   \n",
              "26155        10260  [It, was, after, the, first, snow, and, I, fol...   \n",
              "26156        10260  [It, was, after, the, first, snow, and, I, fol...   \n",
              "26157        10261  [There, was, only, a, handful, of, mourners, a...   \n",
              "26158        10261  [There, was, only, a, handful, of, mourners, a...   \n",
              "\n",
              "                                            propBankTags  \\\n",
              "0      [O, AM-MNR, O, O, O, O, A0, B-V, O, A1, A2, O,...   \n",
              "1      [AM-DIS, AM-MNR, O, O, O, O, A0, O, O, O, O, O...   \n",
              "2      [A0, AM-MOD, B-V, O, A1, A2, O, O, O, O, O, O,...   \n",
              "3      [A0, AM-MOD, O, O, O, O, O, O, O, B-V, A1, AM-...   \n",
              "4      [O, O, O, O, O, O, O, O, O, O, O, O, O, O, O, ...   \n",
              "...                                                  ...   \n",
              "26154  [O, O, O, O, O, O, O, A0, B-V, O, O, A1, AM-DI...   \n",
              "26155  [O, O, O, O, O, O, O, A0, O, O, O, O, O, O, O,...   \n",
              "26156  [O, O, O, O, O, O, O, O, O, O, O, O, O, O, O, ...   \n",
              "26157  [O, B-V, O, O, A1, O, O, O, O, O, O, AM-CAU, O...   \n",
              "26158  [O, O, O, O, O, O, O, O, O, O, O, O, O, A1, O,...   \n",
              "\n",
              "                                                Sentence  \n",
              "0      And without more ado the two officers fastened...  \n",
              "1      And without more ado the two officers fastened...  \n",
              "2      She would fasten the ring about her neck and w...  \n",
              "3      She would fasten the ring about her neck and w...  \n",
              "4      She would fasten the ring about her neck and w...  \n",
              "...                                                  ...  \n",
              "26154  It was after the first snow and I followed the...  \n",
              "26155  It was after the first snow and I followed the...  \n",
              "26156  It was after the first snow and I followed the...  \n",
              "26157  There was only a handful of mourners at Gillam...  \n",
              "26158  There was only a handful of mourners at Gillam...  \n",
              "\n",
              "[26159 rows x 4 columns]"
            ]
          },
          "execution_count": 22,
          "metadata": {},
          "output_type": "execute_result"
        }
      ],
      "source": [
        "enpb_df"
      ]
    },
    {
      "cell_type": "code",
      "execution_count": null,
      "metadata": {
        "id": "YpFYfjBzCOfr"
      },
      "outputs": [],
      "source": [
        "def process_label(label, all_words):\n",
        "    start = label.get('start')\n",
        "    end = label.get('end')\n",
        "    if start is not None or end is not None:\n",
        "        start = int(start)\n",
        "        end = int(end)\n",
        "        accumulated_chars = 0\n",
        "        start_word_index = 0\n",
        "        end_word_index = 0\n",
        "        for i, word in enumerate(all_words):\n",
        "            word_length = len(word)\n",
        "            if accumulated_chars <= start:\n",
        "                start_word_index = i\n",
        "            if accumulated_chars >= end:\n",
        "                end_word_index = i - 1\n",
        "                break\n",
        "            accumulated_chars += word_length + 1\n",
        "        if end_word_index is None:\n",
        "            end_word_index = len(all_words) - 1\n",
        "        extracted_word = ' '.join(all_words[start_word_index:end_word_index + 1])\n",
        "        return start, end, label.get('name'), extracted_word\n",
        "    else:\n",
        "        return None"
      ]
    },
    {
      "cell_type": "code",
      "execution_count": null,
      "metadata": {
        "id": "jCU5q2sPO-cy"
      },
      "outputs": [],
      "source": [
        "def annotate_sentence(df):\n",
        "    sentence = df['Sentence']\n",
        "    words = df['words']\n",
        "    start = df['Start']\n",
        "    end = df['End']\n",
        "    annotation = df['Annotated Names']\n",
        "    annotated_words = df['Extracted Words']\n",
        "    result = []\n",
        "    char_index = 0\n",
        "    for word in words:\n",
        "        label = 'O'\n",
        "        word_start = char_index\n",
        "        word_end = char_index + len(word) - 1\n",
        "        if word in annotated_words.split():\n",
        "            label = annotation\n",
        "        result.append(label)\n",
        "        char_index = word_end + 1\n",
        "    return result"
      ]
    },
    {
      "cell_type": "code",
      "execution_count": null,
      "metadata": {
        "id": "ivlYEnnc0rww"
      },
      "outputs": [],
      "source": [
        "xml_folder_path = '/content/drive/My Drive/framenetdata-1.7/fndata-1.7/lu'\n",
        "xml_files = glob.glob(xml_folder_path + '/*.xml')\n",
        "table = []\n",
        "namespace = {'fn': 'http://framenet.icsi.berkeley.edu'}"
      ]
    },
    {
      "cell_type": "code",
      "execution_count": null,
      "metadata": {
        "colab": {
          "base_uri": "https://localhost:8080/",
          "height": 649
        },
        "id": "Ob6_XvjYQ1Uv",
        "outputId": "4fbf79cc-914a-4c78-9612-76817f851d59"
      },
      "outputs": [
        {
          "name": "stderr",
          "output_type": "stream",
          "text": [
            " 41%|████      | 1019/2483 [00:10<00:12, 120.05it/s]"
          ]
        },
        {
          "name": "stdout",
          "output_type": "stream",
          "text": [
            "Error parsing XML file: no element found: line 2, column 0\n",
            "XML file Name:/content/drive/My Drive/framenetdata-1.7/fndata-1.7/lu/lu3973.xml\n"
          ]
        },
        {
          "name": "stderr",
          "output_type": "stream",
          "text": [
            "100%|██████████| 2483/2483 [00:25<00:00, 96.65it/s]\n"
          ]
        },
        {
          "data": {
            "application/vnd.google.colaboratory.intrinsic+json": {
              "type": "dataframe",
              "variable_name": "enfn_df"
            },
            "text/html": [
              "\n",
              "  <div id=\"df-79379f1f-63cc-4f88-bd52-727e006d2f63\" class=\"colab-df-container\">\n",
              "    <div>\n",
              "<style scoped>\n",
              "    .dataframe tbody tr th:only-of-type {\n",
              "        vertical-align: middle;\n",
              "    }\n",
              "\n",
              "    .dataframe tbody tr th {\n",
              "        vertical-align: top;\n",
              "    }\n",
              "\n",
              "    .dataframe thead th {\n",
              "        text-align: right;\n",
              "    }\n",
              "</style>\n",
              "<table border=\"1\" class=\"dataframe\">\n",
              "  <thead>\n",
              "    <tr style=\"text-align: right;\">\n",
              "      <th></th>\n",
              "      <th>Sentence</th>\n",
              "      <th>Start</th>\n",
              "      <th>End</th>\n",
              "      <th>Annotated Names</th>\n",
              "      <th>Extracted Words</th>\n",
              "      <th>words</th>\n",
              "      <th>frameNetTags</th>\n",
              "    </tr>\n",
              "  </thead>\n",
              "  <tbody>\n",
              "    <tr>\n",
              "      <th>0</th>\n",
              "      <td>` What makes you think Rainbow would entertain...</td>\n",
              "      <td>76</td>\n",
              "      <td>81</td>\n",
              "      <td>Entity_2</td>\n",
              "      <td>of you</td>\n",
              "      <td>[`, What, makes, you, think, Rainbow, would, e...</td>\n",
              "      <td>[O, O, O, Entity_2, O, O, O, O, O, O, O, O, O,...</td>\n",
              "    </tr>\n",
              "    <tr>\n",
              "      <th>1</th>\n",
              "      <td>` What makes you think Rainbow would entertain...</td>\n",
              "      <td>70</td>\n",
              "      <td>74</td>\n",
              "      <td>Entity_1</td>\n",
              "      <td>likes</td>\n",
              "      <td>[`, What, makes, you, think, Rainbow, would, e...</td>\n",
              "      <td>[O, O, O, O, O, O, O, O, O, O, O, O, O, Entity...</td>\n",
              "    </tr>\n",
              "    <tr>\n",
              "      <th>2</th>\n",
              "      <td>It aims to compete with the likes of BMW and A...</td>\n",
              "      <td>34</td>\n",
              "      <td>48</td>\n",
              "      <td>Entity_2</td>\n",
              "      <td>of BMW and Audi</td>\n",
              "      <td>[It, aims, to, compete, with, the, likes, of, ...</td>\n",
              "      <td>[O, O, O, O, O, O, O, Entity_2, Entity_2, Enti...</td>\n",
              "    </tr>\n",
              "    <tr>\n",
              "      <th>3</th>\n",
              "      <td>It aims to compete with the likes of BMW and A...</td>\n",
              "      <td>28</td>\n",
              "      <td>32</td>\n",
              "      <td>Entity_1</td>\n",
              "      <td>likes</td>\n",
              "      <td>[It, aims, to, compete, with, the, likes, of, ...</td>\n",
              "      <td>[O, O, O, O, O, O, Entity_1, O, O, O, O, O, O,...</td>\n",
              "    </tr>\n",
              "    <tr>\n",
              "      <th>4</th>\n",
              "      <td>They anathematised and expelled the likes of A...</td>\n",
              "      <td>42</td>\n",
              "      <td>89</td>\n",
              "      <td>Entity_2</td>\n",
              "      <td>of Arius , who taught that Jesus was fully human</td>\n",
              "      <td>[They, anathematised, and, expelled, the, like...</td>\n",
              "      <td>[O, O, O, O, O, O, Entity_2, Entity_2, Entity_...</td>\n",
              "    </tr>\n",
              "    <tr>\n",
              "      <th>...</th>\n",
              "      <td>...</td>\n",
              "      <td>...</td>\n",
              "      <td>...</td>\n",
              "      <td>...</td>\n",
              "      <td>...</td>\n",
              "      <td>...</td>\n",
              "      <td>...</td>\n",
              "    </tr>\n",
              "    <tr>\n",
              "      <th>118289</th>\n",
              "      <td>During his four days in Iraq , Hall said he wa...</td>\n",
              "      <td>145</td>\n",
              "      <td>169</td>\n",
              "      <td>Undesirable_event</td>\n",
              "      <td>from chronic malnutrition</td>\n",
              "      <td>[During, his, four, days, in, Iraq, ,, Hall, s...</td>\n",
              "      <td>[O, O, O, O, O, O, O, O, O, O, O, O, O, O, Und...</td>\n",
              "    </tr>\n",
              "    <tr>\n",
              "      <th>118290</th>\n",
              "      <td>During his four days in Iraq , Hall said he wa...</td>\n",
              "      <td>100</td>\n",
              "      <td>126</td>\n",
              "      <td>Patient</td>\n",
              "      <td>a quarter of Iraqi children</td>\n",
              "      <td>[During, his, four, days, in, Iraq, ,, Hall, s...</td>\n",
              "      <td>[O, O, O, O, O, O, O, O, O, O, O, O, O, O, O, ...</td>\n",
              "    </tr>\n",
              "    <tr>\n",
              "      <th>118291</th>\n",
              "      <td>But the many whose lives he had ruined , whose...</td>\n",
              "      <td>80</td>\n",
              "      <td>111</td>\n",
              "      <td>Undesirable_event</td>\n",
              "      <td>torture and death at his hands</td>\n",
              "      <td>[But, the, many, whose, lives, he, had, ruined...</td>\n",
              "      <td>[O, O, O, O, O, O, O, O, O, O, O, Undesirable_...</td>\n",
              "    </tr>\n",
              "    <tr>\n",
              "      <th>118292</th>\n",
              "      <td>But the many whose lives he had ruined , whose...</td>\n",
              "      <td>47</td>\n",
              "      <td>65</td>\n",
              "      <td>Patient</td>\n",
              "      <td>nearest and dearest</td>\n",
              "      <td>[But, the, many, whose, lives, he, had, ruined...</td>\n",
              "      <td>[O, O, O, O, O, O, O, O, O, O, Patient, Patien...</td>\n",
              "    </tr>\n",
              "    <tr>\n",
              "      <th>118293</th>\n",
              "      <td>But the many whose lives he had ruined , whose...</td>\n",
              "      <td>41</td>\n",
              "      <td>45</td>\n",
              "      <td>Patient</td>\n",
              "      <td>whose</td>\n",
              "      <td>[But, the, many, whose, lives, he, had, ruined...</td>\n",
              "      <td>[O, O, O, Patient, O, O, O, O, O, Patient, O, ...</td>\n",
              "    </tr>\n",
              "  </tbody>\n",
              "</table>\n",
              "<p>118294 rows × 7 columns</p>\n",
              "</div>\n",
              "    <div class=\"colab-df-buttons\">\n",
              "\n",
              "  <div class=\"colab-df-container\">\n",
              "    <button class=\"colab-df-convert\" onclick=\"convertToInteractive('df-79379f1f-63cc-4f88-bd52-727e006d2f63')\"\n",
              "            title=\"Convert this dataframe to an interactive table.\"\n",
              "            style=\"display:none;\">\n",
              "\n",
              "  <svg xmlns=\"http://www.w3.org/2000/svg\" height=\"24px\" viewBox=\"0 -960 960 960\">\n",
              "    <path d=\"M120-120v-720h720v720H120Zm60-500h600v-160H180v160Zm220 220h160v-160H400v160Zm0 220h160v-160H400v160ZM180-400h160v-160H180v160Zm440 0h160v-160H620v160ZM180-180h160v-160H180v160Zm440 0h160v-160H620v160Z\"/>\n",
              "  </svg>\n",
              "    </button>\n",
              "\n",
              "  <style>\n",
              "    .colab-df-container {\n",
              "      display:flex;\n",
              "      gap: 12px;\n",
              "    }\n",
              "\n",
              "    .colab-df-convert {\n",
              "      background-color: #E8F0FE;\n",
              "      border: none;\n",
              "      border-radius: 50%;\n",
              "      cursor: pointer;\n",
              "      display: none;\n",
              "      fill: #1967D2;\n",
              "      height: 32px;\n",
              "      padding: 0 0 0 0;\n",
              "      width: 32px;\n",
              "    }\n",
              "\n",
              "    .colab-df-convert:hover {\n",
              "      background-color: #E2EBFA;\n",
              "      box-shadow: 0px 1px 2px rgba(60, 64, 67, 0.3), 0px 1px 3px 1px rgba(60, 64, 67, 0.15);\n",
              "      fill: #174EA6;\n",
              "    }\n",
              "\n",
              "    .colab-df-buttons div {\n",
              "      margin-bottom: 4px;\n",
              "    }\n",
              "\n",
              "    [theme=dark] .colab-df-convert {\n",
              "      background-color: #3B4455;\n",
              "      fill: #D2E3FC;\n",
              "    }\n",
              "\n",
              "    [theme=dark] .colab-df-convert:hover {\n",
              "      background-color: #434B5C;\n",
              "      box-shadow: 0px 1px 3px 1px rgba(0, 0, 0, 0.15);\n",
              "      filter: drop-shadow(0px 1px 2px rgba(0, 0, 0, 0.3));\n",
              "      fill: #FFFFFF;\n",
              "    }\n",
              "  </style>\n",
              "\n",
              "    <script>\n",
              "      const buttonEl =\n",
              "        document.querySelector('#df-79379f1f-63cc-4f88-bd52-727e006d2f63 button.colab-df-convert');\n",
              "      buttonEl.style.display =\n",
              "        google.colab.kernel.accessAllowed ? 'block' : 'none';\n",
              "\n",
              "      async function convertToInteractive(key) {\n",
              "        const element = document.querySelector('#df-79379f1f-63cc-4f88-bd52-727e006d2f63');\n",
              "        const dataTable =\n",
              "          await google.colab.kernel.invokeFunction('convertToInteractive',\n",
              "                                                    [key], {});\n",
              "        if (!dataTable) return;\n",
              "\n",
              "        const docLinkHtml = 'Like what you see? Visit the ' +\n",
              "          '<a target=\"_blank\" href=https://colab.research.google.com/notebooks/data_table.ipynb>data table notebook</a>'\n",
              "          + ' to learn more about interactive tables.';\n",
              "        element.innerHTML = '';\n",
              "        dataTable['output_type'] = 'display_data';\n",
              "        await google.colab.output.renderOutput(dataTable, element);\n",
              "        const docLink = document.createElement('div');\n",
              "        docLink.innerHTML = docLinkHtml;\n",
              "        element.appendChild(docLink);\n",
              "      }\n",
              "    </script>\n",
              "  </div>\n",
              "\n",
              "\n",
              "<div id=\"df-7de8bd9f-3e68-44c8-bd88-be68f8be3478\">\n",
              "  <button class=\"colab-df-quickchart\" onclick=\"quickchart('df-7de8bd9f-3e68-44c8-bd88-be68f8be3478')\"\n",
              "            title=\"Suggest charts\"\n",
              "            style=\"display:none;\">\n",
              "\n",
              "<svg xmlns=\"http://www.w3.org/2000/svg\" height=\"24px\"viewBox=\"0 0 24 24\"\n",
              "     width=\"24px\">\n",
              "    <g>\n",
              "        <path d=\"M19 3H5c-1.1 0-2 .9-2 2v14c0 1.1.9 2 2 2h14c1.1 0 2-.9 2-2V5c0-1.1-.9-2-2-2zM9 17H7v-7h2v7zm4 0h-2V7h2v10zm4 0h-2v-4h2v4z\"/>\n",
              "    </g>\n",
              "</svg>\n",
              "  </button>\n",
              "\n",
              "<style>\n",
              "  .colab-df-quickchart {\n",
              "      --bg-color: #E8F0FE;\n",
              "      --fill-color: #1967D2;\n",
              "      --hover-bg-color: #E2EBFA;\n",
              "      --hover-fill-color: #174EA6;\n",
              "      --disabled-fill-color: #AAA;\n",
              "      --disabled-bg-color: #DDD;\n",
              "  }\n",
              "\n",
              "  [theme=dark] .colab-df-quickchart {\n",
              "      --bg-color: #3B4455;\n",
              "      --fill-color: #D2E3FC;\n",
              "      --hover-bg-color: #434B5C;\n",
              "      --hover-fill-color: #FFFFFF;\n",
              "      --disabled-bg-color: #3B4455;\n",
              "      --disabled-fill-color: #666;\n",
              "  }\n",
              "\n",
              "  .colab-df-quickchart {\n",
              "    background-color: var(--bg-color);\n",
              "    border: none;\n",
              "    border-radius: 50%;\n",
              "    cursor: pointer;\n",
              "    display: none;\n",
              "    fill: var(--fill-color);\n",
              "    height: 32px;\n",
              "    padding: 0;\n",
              "    width: 32px;\n",
              "  }\n",
              "\n",
              "  .colab-df-quickchart:hover {\n",
              "    background-color: var(--hover-bg-color);\n",
              "    box-shadow: 0 1px 2px rgba(60, 64, 67, 0.3), 0 1px 3px 1px rgba(60, 64, 67, 0.15);\n",
              "    fill: var(--button-hover-fill-color);\n",
              "  }\n",
              "\n",
              "  .colab-df-quickchart-complete:disabled,\n",
              "  .colab-df-quickchart-complete:disabled:hover {\n",
              "    background-color: var(--disabled-bg-color);\n",
              "    fill: var(--disabled-fill-color);\n",
              "    box-shadow: none;\n",
              "  }\n",
              "\n",
              "  .colab-df-spinner {\n",
              "    border: 2px solid var(--fill-color);\n",
              "    border-color: transparent;\n",
              "    border-bottom-color: var(--fill-color);\n",
              "    animation:\n",
              "      spin 1s steps(1) infinite;\n",
              "  }\n",
              "\n",
              "  @keyframes spin {\n",
              "    0% {\n",
              "      border-color: transparent;\n",
              "      border-bottom-color: var(--fill-color);\n",
              "      border-left-color: var(--fill-color);\n",
              "    }\n",
              "    20% {\n",
              "      border-color: transparent;\n",
              "      border-left-color: var(--fill-color);\n",
              "      border-top-color: var(--fill-color);\n",
              "    }\n",
              "    30% {\n",
              "      border-color: transparent;\n",
              "      border-left-color: var(--fill-color);\n",
              "      border-top-color: var(--fill-color);\n",
              "      border-right-color: var(--fill-color);\n",
              "    }\n",
              "    40% {\n",
              "      border-color: transparent;\n",
              "      border-right-color: var(--fill-color);\n",
              "      border-top-color: var(--fill-color);\n",
              "    }\n",
              "    60% {\n",
              "      border-color: transparent;\n",
              "      border-right-color: var(--fill-color);\n",
              "    }\n",
              "    80% {\n",
              "      border-color: transparent;\n",
              "      border-right-color: var(--fill-color);\n",
              "      border-bottom-color: var(--fill-color);\n",
              "    }\n",
              "    90% {\n",
              "      border-color: transparent;\n",
              "      border-bottom-color: var(--fill-color);\n",
              "    }\n",
              "  }\n",
              "</style>\n",
              "\n",
              "  <script>\n",
              "    async function quickchart(key) {\n",
              "      const quickchartButtonEl =\n",
              "        document.querySelector('#' + key + ' button');\n",
              "      quickchartButtonEl.disabled = true;  // To prevent multiple clicks.\n",
              "      quickchartButtonEl.classList.add('colab-df-spinner');\n",
              "      try {\n",
              "        const charts = await google.colab.kernel.invokeFunction(\n",
              "            'suggestCharts', [key], {});\n",
              "      } catch (error) {\n",
              "        console.error('Error during call to suggestCharts:', error);\n",
              "      }\n",
              "      quickchartButtonEl.classList.remove('colab-df-spinner');\n",
              "      quickchartButtonEl.classList.add('colab-df-quickchart-complete');\n",
              "    }\n",
              "    (() => {\n",
              "      let quickchartButtonEl =\n",
              "        document.querySelector('#df-7de8bd9f-3e68-44c8-bd88-be68f8be3478 button');\n",
              "      quickchartButtonEl.style.display =\n",
              "        google.colab.kernel.accessAllowed ? 'block' : 'none';\n",
              "    })();\n",
              "  </script>\n",
              "</div>\n",
              "\n",
              "  <div id=\"id_4c539152-a22a-47af-a978-5fa6508d3627\">\n",
              "    <style>\n",
              "      .colab-df-generate {\n",
              "        background-color: #E8F0FE;\n",
              "        border: none;\n",
              "        border-radius: 50%;\n",
              "        cursor: pointer;\n",
              "        display: none;\n",
              "        fill: #1967D2;\n",
              "        height: 32px;\n",
              "        padding: 0 0 0 0;\n",
              "        width: 32px;\n",
              "      }\n",
              "\n",
              "      .colab-df-generate:hover {\n",
              "        background-color: #E2EBFA;\n",
              "        box-shadow: 0px 1px 2px rgba(60, 64, 67, 0.3), 0px 1px 3px 1px rgba(60, 64, 67, 0.15);\n",
              "        fill: #174EA6;\n",
              "      }\n",
              "\n",
              "      [theme=dark] .colab-df-generate {\n",
              "        background-color: #3B4455;\n",
              "        fill: #D2E3FC;\n",
              "      }\n",
              "\n",
              "      [theme=dark] .colab-df-generate:hover {\n",
              "        background-color: #434B5C;\n",
              "        box-shadow: 0px 1px 3px 1px rgba(0, 0, 0, 0.15);\n",
              "        filter: drop-shadow(0px 1px 2px rgba(0, 0, 0, 0.3));\n",
              "        fill: #FFFFFF;\n",
              "      }\n",
              "    </style>\n",
              "    <button class=\"colab-df-generate\" onclick=\"generateWithVariable('enfn_df')\"\n",
              "            title=\"Generate code using this dataframe.\"\n",
              "            style=\"display:none;\">\n",
              "\n",
              "  <svg xmlns=\"http://www.w3.org/2000/svg\" height=\"24px\"viewBox=\"0 0 24 24\"\n",
              "       width=\"24px\">\n",
              "    <path d=\"M7,19H8.4L18.45,9,17,7.55,7,17.6ZM5,21V16.75L18.45,3.32a2,2,0,0,1,2.83,0l1.4,1.43a1.91,1.91,0,0,1,.58,1.4,1.91,1.91,0,0,1-.58,1.4L9.25,21ZM18.45,9,17,7.55Zm-12,3A5.31,5.31,0,0,0,4.9,8.1,5.31,5.31,0,0,0,1,6.5,5.31,5.31,0,0,0,4.9,4.9,5.31,5.31,0,0,0,6.5,1,5.31,5.31,0,0,0,8.1,4.9,5.31,5.31,0,0,0,12,6.5,5.46,5.46,0,0,0,6.5,12Z\"/>\n",
              "  </svg>\n",
              "    </button>\n",
              "    <script>\n",
              "      (() => {\n",
              "      const buttonEl =\n",
              "        document.querySelector('#id_4c539152-a22a-47af-a978-5fa6508d3627 button.colab-df-generate');\n",
              "      buttonEl.style.display =\n",
              "        google.colab.kernel.accessAllowed ? 'block' : 'none';\n",
              "\n",
              "      buttonEl.onclick = () => {\n",
              "        google.colab.notebook.generateWithVariable('enfn_df');\n",
              "      }\n",
              "      })();\n",
              "    </script>\n",
              "  </div>\n",
              "\n",
              "    </div>\n",
              "  </div>\n"
            ],
            "text/plain": [
              "                                                 Sentence  Start  End  \\\n",
              "0       ` What makes you think Rainbow would entertain...     76   81   \n",
              "1       ` What makes you think Rainbow would entertain...     70   74   \n",
              "2       It aims to compete with the likes of BMW and A...     34   48   \n",
              "3       It aims to compete with the likes of BMW and A...     28   32   \n",
              "4       They anathematised and expelled the likes of A...     42   89   \n",
              "...                                                   ...    ...  ...   \n",
              "118289  During his four days in Iraq , Hall said he wa...    145  169   \n",
              "118290  During his four days in Iraq , Hall said he wa...    100  126   \n",
              "118291  But the many whose lives he had ruined , whose...     80  111   \n",
              "118292  But the many whose lives he had ruined , whose...     47   65   \n",
              "118293  But the many whose lives he had ruined , whose...     41   45   \n",
              "\n",
              "          Annotated Names                                   Extracted Words  \\\n",
              "0                Entity_2                                            of you   \n",
              "1                Entity_1                                             likes   \n",
              "2                Entity_2                                   of BMW and Audi   \n",
              "3                Entity_1                                             likes   \n",
              "4                Entity_2  of Arius , who taught that Jesus was fully human   \n",
              "...                   ...                                               ...   \n",
              "118289  Undesirable_event                         from chronic malnutrition   \n",
              "118290            Patient                       a quarter of Iraqi children   \n",
              "118291  Undesirable_event                    torture and death at his hands   \n",
              "118292            Patient                               nearest and dearest   \n",
              "118293            Patient                                             whose   \n",
              "\n",
              "                                                    words  \\\n",
              "0       [`, What, makes, you, think, Rainbow, would, e...   \n",
              "1       [`, What, makes, you, think, Rainbow, would, e...   \n",
              "2       [It, aims, to, compete, with, the, likes, of, ...   \n",
              "3       [It, aims, to, compete, with, the, likes, of, ...   \n",
              "4       [They, anathematised, and, expelled, the, like...   \n",
              "...                                                   ...   \n",
              "118289  [During, his, four, days, in, Iraq, ,, Hall, s...   \n",
              "118290  [During, his, four, days, in, Iraq, ,, Hall, s...   \n",
              "118291  [But, the, many, whose, lives, he, had, ruined...   \n",
              "118292  [But, the, many, whose, lives, he, had, ruined...   \n",
              "118293  [But, the, many, whose, lives, he, had, ruined...   \n",
              "\n",
              "                                             frameNetTags  \n",
              "0       [O, O, O, Entity_2, O, O, O, O, O, O, O, O, O,...  \n",
              "1       [O, O, O, O, O, O, O, O, O, O, O, O, O, Entity...  \n",
              "2       [O, O, O, O, O, O, O, Entity_2, Entity_2, Enti...  \n",
              "3       [O, O, O, O, O, O, Entity_1, O, O, O, O, O, O,...  \n",
              "4       [O, O, O, O, O, O, Entity_2, Entity_2, Entity_...  \n",
              "...                                                   ...  \n",
              "118289  [O, O, O, O, O, O, O, O, O, O, O, O, O, O, Und...  \n",
              "118290  [O, O, O, O, O, O, O, O, O, O, O, O, O, O, O, ...  \n",
              "118291  [O, O, O, O, O, O, O, O, O, O, O, Undesirable_...  \n",
              "118292  [O, O, O, O, O, O, O, O, O, O, Patient, Patien...  \n",
              "118293  [O, O, O, Patient, O, O, O, O, O, Patient, O, ...  \n",
              "\n",
              "[118294 rows x 7 columns]"
            ]
          },
          "execution_count": 28,
          "metadata": {},
          "output_type": "execute_result"
        }
      ],
      "source": [
        "for filename in tqdm(xml_files):\n",
        "    try:\n",
        "        tree = ET.parse(filename)\n",
        "        root = tree.getroot()\n",
        "        for sentence in root.findall('.//fn:sentence', namespace):\n",
        "            text_element = sentence.find('fn:text', namespace)\n",
        "            if text_element is not None and text_element.text:\n",
        "                all_words = text_element.text.split()\n",
        "                annotation_sets = sentence.findall('.//fn:annotationSet[@status=\"MANUAL\"]', namespace)\n",
        "                for annotation_set in annotation_sets:\n",
        "                    layers = annotation_set.findall('.//fn:layer[@name=\"FE\"]', namespace)\n",
        "                    for layer in layers:\n",
        "                        labels = layer.findall('.//fn:label', namespace)\n",
        "                        for label in labels:\n",
        "                            processed_label = process_label(label, all_words)\n",
        "                            if processed_label is not None:\n",
        "                                table.append((text_element.text,) + processed_label)\n",
        "    except ET.ParseError as e:\n",
        "        print(f\"Error parsing XML file: {e}\")\n",
        "        print(f\"XML file Name:\" + str(filename))"
      ]
    },
    {
      "cell_type": "code",
      "execution_count": null,
      "metadata": {
        "id": "GzbG3-czjFqZ"
      },
      "outputs": [],
      "source": [
        "enfn_df = pd.DataFrame(table, columns=['Sentence', 'Start', 'End', 'Annotated Names', 'Extracted Words'])\n",
        "enfn_df[\"words\"] = enfn_df[\"Sentence\"].apply(lambda sentence: [word.strip() for word in sentence.split(' ')])\n",
        "enfn_df['frameNetTags'] = enfn_df.apply(annotate_sentence, axis=1)\n",
        "enfn_df"
      ]
    },
    {
      "cell_type": "code",
      "execution_count": null,
      "metadata": {
        "id": "laibXNkrAt5i"
      },
      "outputs": [],
      "source": [
        "enfn_df = enfn_df.drop(['Start', 'End', 'Annotated Names', 'Extracted Words'], axis = 1)"
      ]
    },
    {
      "cell_type": "code",
      "execution_count": null,
      "metadata": {
        "id": "TmuXWs3NDv1i"
      },
      "outputs": [],
      "source": [
        "#train_data, temp_data = train_test_split(endf, test_size=0.2, random_state=42)\n",
        "train_data, temp_data = train_test_split(enpb_df, test_size=0.2, random_state=42)\n",
        "validation_data, test_data = train_test_split(temp_data, test_size=0.5, random_state=42)\n",
        "print(\"Training set size:\", len(train_data))\n",
        "print(\"Validation set size:\", len(validation_data))\n",
        "print(\"Test set size:\", len(test_data))\n",
        "train_data.to_csv(\"train_set.csv\", index=False)\n",
        "validation_data.to_csv(\"validation_set.csv\", index=False)\n",
        "test_data.to_csv(\"test_set.csv\", index=False)"
      ]
    },
    {
      "cell_type": "code",
      "execution_count": null,
      "metadata": {
        "colab": {
          "base_uri": "https://localhost:8080/",
          "height": 237,
          "referenced_widgets": [
            "a312dc89ecf04c65806c10a14eabd13f",
            "728cd02028934f0692fec8064cc75720",
            "db6e25a17c3747ab89230bb660fcaf0b",
            "ba732ac795794310a5902b825ee30847",
            "43393d88423547db827fe40918bfed80",
            "a27aad2cdabe4e2f80526b3ae3599ca6",
            "7c2e4a572d67407f85fe887f08d018e0",
            "a4d000d0a2e9405d8a1bea512d59c21d",
            "1e43866bab4f4228820d417e6b150e4a",
            "fc3be3d17d104ee3b22515440a80ef40",
            "c265398d485f4d5988405beb8337a606",
            "9418a1df1f824913ae613e4387f39a62",
            "f74d16533de240a48889cbfa4606ccb1",
            "8f86cbd3e0a34fda8c5a611d481b9e33",
            "262701542a094db68d1c5e37631eee51",
            "05ddf5069adb4d238db3c1549e0f840f",
            "54c71a2ff9fb470fbcc1501d584c6939",
            "40cc293bca6e491d8e70ff03d676a2b8",
            "965bdd59297d488e92c60bfcfc0c4c43",
            "d6218cf15e31455bb62ad9de490347ed",
            "682945106214478190165518dddf026c",
            "f80f34bc56c8480a9bca55c9dd1e83f2",
            "d78812dc4b4a40218c3b07ff4d4e7517",
            "ef01d46dd3d14b6bb1c894b56ca13b2b",
            "b55fe1ad68b44088b3b327048f3ff7bf",
            "d5481a34e65948e8af54fdf48ec9aef8",
            "e628f43db2584cc8ae7c8a7ebb935205",
            "6c1c48a5659947d5b3c3c8529babfad1",
            "1dc85e42a1494af0bce4c50bef916b9c",
            "3a71eaa7935a43b2a2ea10706d87d318",
            "2fe392744e5c4a3e95457e241d5183bc",
            "28d2774585444d8ab9933af506fe1822",
            "0dc512f2b485481590b5ef9f5d81f0b6"
          ]
        },
        "id": "TK8CK9ozU-xB",
        "outputId": "fa472c11-9bd7-4dca-b60b-cc96f7a46ae2"
      },
      "outputs": [
        {
          "name": "stderr",
          "output_type": "stream",
          "text": [
            "/usr/local/lib/python3.11/dist-packages/huggingface_hub/utils/_auth.py:94: UserWarning: \n",
            "The secret `HF_TOKEN` does not exist in your Colab secrets.\n",
            "To authenticate with the Hugging Face Hub, create a token in your settings tab (https://huggingface.co/settings/tokens), set it as secret in your Google Colab and restart your session.\n",
            "You will be able to reuse this secret in all of your notebooks.\n",
            "Please note that authentication is recommended but still optional to access public models or datasets.\n",
            "  warnings.warn(\n"
          ]
        },
        {
          "data": {
            "application/vnd.jupyter.widget-view+json": {
              "model_id": "a312dc89ecf04c65806c10a14eabd13f",
              "version_major": 2,
              "version_minor": 0
            },
            "text/plain": [
              "tokenizer_config.json:   0%|          | 0.00/20.8k [00:00<?, ?B/s]"
            ]
          },
          "metadata": {},
          "output_type": "display_data"
        },
        {
          "data": {
            "application/vnd.jupyter.widget-view+json": {
              "model_id": "9418a1df1f824913ae613e4387f39a62",
              "version_major": 2,
              "version_minor": 0
            },
            "text/plain": [
              "tokenizer.json:   0%|          | 0.00/2.13M [00:00<?, ?B/s]"
            ]
          },
          "metadata": {},
          "output_type": "display_data"
        },
        {
          "data": {
            "application/vnd.jupyter.widget-view+json": {
              "model_id": "d78812dc4b4a40218c3b07ff4d4e7517",
              "version_major": 2,
              "version_minor": 0
            },
            "text/plain": [
              "special_tokens_map.json:   0%|          | 0.00/694 [00:00<?, ?B/s]"
            ]
          },
          "metadata": {},
          "output_type": "display_data"
        }
      ],
      "source": [
        "from transformers import AutoTokenizer\n",
        "tokenizer = AutoTokenizer.from_pretrained(\"answerdotai/ModernBERT-base\")"
      ]
    },
    {
      "cell_type": "code",
      "execution_count": null,
      "metadata": {
        "colab": {
          "base_uri": "https://localhost:8080/"
        },
        "id": "c3PrqPEW8kcY",
        "outputId": "cf9c69c1-4e67-497d-df45-0cfcf32b4164"
      },
      "outputs": [
        {
          "data": {
            "text/plain": [
              "['[CLS]',\n",
              " 'And',\n",
              " 'without',\n",
              " 'more',\n",
              " 'ado',\n",
              " 'the',\n",
              " 'two',\n",
              " 'offic',\n",
              " 'ers',\n",
              " 'fast',\n",
              " 'ened',\n",
              " 'their',\n",
              " 'cl',\n",
              " 'ips',\n",
              " 'about',\n",
              " 'their',\n",
              " 'ank',\n",
              " 'les',\n",
              " ',',\n",
              " 'whe',\n",
              " 'eled',\n",
              " 'out',\n",
              " 'with',\n",
              " 'vel',\n",
              " 'oc',\n",
              " 'ip',\n",
              " 'edes',\n",
              " 'and',\n",
              " 'were',\n",
              " 'on',\n",
              " 'their',\n",
              " 'way',\n",
              " '.',\n",
              " '[SEP]']"
            ]
          },
          "execution_count": 38,
          "metadata": {},
          "output_type": "execute_result"
        }
      ],
      "source": [
        "tokenized_input = tokenizer(enpb_df['Sentence'][0].split(' '), is_split_into_words=True)\n",
        "tokenizer.convert_ids_to_tokens(tokenized_input[\"input_ids\"])"
      ]
    },
    {
      "cell_type": "code",
      "execution_count": null,
      "metadata": {
        "id": "1jRbNPH0GSxT"
      },
      "outputs": [],
      "source": [
        "def create_role_id_dictionary():\n",
        "    \"\"\"Creates a dictionary that maps PropBank roles to numerical IDs.\"\"\"\n",
        "    roles = set()\n",
        "    frame_elements = set()\n",
        "    for _, row in enpb_df.iterrows():\n",
        "        prop_str = row['propBankTags']\n",
        "        #framenet_str = row['frameNetTags']\n",
        "        roles.update(prop_str)\n",
        "        #frame_elements.update(framenet_str)\n",
        "    role_id_dict = defaultdict(int)\n",
        "    #frame_id_dict = defaultdict(int)\n",
        "    index = 1\n",
        "    for role in roles:\n",
        "        role_id_dict[role] = index\n",
        "        index += 1\n",
        "    #for frame_element in frame_elements:\n",
        "     #   frame_id_dict[frame_element] = index\n",
        "     #   index += 1\n",
        "    return role_id_dict, roles"
      ]
    },
    {
      "cell_type": "code",
      "execution_count": null,
      "metadata": {
        "colab": {
          "base_uri": "https://localhost:8080/"
        },
        "id": "wlyiZZ-ILuyj",
        "outputId": "1e66764d-89f3-474f-ed49-1eb465da8376"
      },
      "outputs": [
        {
          "name": "stdout",
          "output_type": "stream",
          "text": [
            "Role2ID:defaultdict(<class 'int'>, {'AM-DIS': 1, 'AM-MOD': 2, 'O': 3, 'AM-LOC': 4, 'R-AM-TMP': 5, 'C-A1': 6, 'AM-DIR': 7, 'AM-TMP': 8, 'A3': 9, 'R-A0': 10, 'R-A1': 11, 'B-V': 12, 'A0': 13, 'A1': 14, 'AM-ADV': 15, 'AM-PNC': 16, 'AM-MNR': 17, 'A2': 18})\n",
            "Roles:{'AM-DIS', 'AM-MOD', 'O', 'AM-LOC', 'R-AM-TMP', 'C-A1', 'AM-DIR', 'AM-TMP', 'A3', 'R-A0', 'R-A1', 'B-V', 'A0', 'A1', 'AM-ADV', 'AM-PNC', 'AM-MNR', 'A2'}\n"
          ]
        }
      ],
      "source": [
        "role2id, roles = create_role_id_dictionary()\n",
        "print(\"Role2ID:\" + str(role2id))\n",
        "print(\"Roles:\" + str(roles))"
      ]
    },
    {
      "cell_type": "code",
      "execution_count": null,
      "metadata": {
        "id": "Hshm12kX8Gy5"
      },
      "outputs": [],
      "source": [
        "role2id, roles = create_role_id_dictionary()"
      ]
    },
    {
      "cell_type": "code",
      "execution_count": null,
      "metadata": {
        "colab": {
          "base_uri": "https://localhost:8080/"
        },
        "id": "4EuIUNXWmex_",
        "outputId": "f379b68b-bcfe-4dd2-8547-475ad908c80c"
      },
      "outputs": [
        {
          "name": "stderr",
          "output_type": "stream",
          "text": [
            "<ipython-input-46-d8c9890d94a7>:1: SettingWithCopyWarning: \n",
            "A value is trying to be set on a copy of a slice from a DataFrame.\n",
            "Try using .loc[row_indexer,col_indexer] = value instead\n",
            "\n",
            "See the caveats in the documentation: https://pandas.pydata.org/pandas-docs/stable/user_guide/indexing.html#returning-a-view-versus-a-copy\n",
            "  enpb_df['propBankTags'] = enpb_df['propBankTags'].apply(lambda label : [role2id[l] for l in label])\n"
          ]
        }
      ],
      "source": [
        "enpb_df['propBankTags'] = enpb_df['propBankTags'].apply(lambda label : [role2id[l] for l in label])"
      ]
    },
    {
      "cell_type": "code",
      "execution_count": null,
      "metadata": {
        "id": "oQCDd8yUznhH"
      },
      "outputs": [],
      "source": [
        "def tokenize_and_align_labels(examples):\n",
        "    #tokenized_inputs = tokenizer(examples[\"Sentence\"].split(' '), truncation=True, padding=True, is_split_into_words=True)\n",
        "    #tokenized_inputs = tokenizer(examples[\"Sentence\"], truncation=True, padding=True, is_split_into_words=True)\n",
        "    tokenized_inputs = tokenizer(examples[\"words\"], truncation=True, padding=True, is_split_into_words=True)#words_x\n",
        "    #tokenized_inputs = tokenizer(examples[\"Words\"], truncation=True, padding=True, is_split_into_words=False)\n",
        "    labels = []\n",
        "    for i, label in enumerate(examples[f\"propBankTags\"]):\n",
        "        #label = label.replace(\"[\",\"\").replace(\"]\",\"\").replace(\"'\",\"\").split(',')\n",
        "        word_ids = tokenized_inputs.word_ids(batch_index=i)  # Map tokens to their respective word.\n",
        "        previous_word_idx = None\n",
        "        label_ids = []\n",
        "        for word_idx in word_ids:  # Set the special tokens to -100.\n",
        "            if word_idx is None:\n",
        "                label_ids.append(-100)\n",
        "            elif word_idx != previous_word_idx:  # Only label the first token of a given word.\n",
        "                label_ids.append(label[word_idx])\n",
        "            else:\n",
        "                label_ids.append(-100)\n",
        "            previous_word_idx = word_idx\n",
        "        labels.append(label_ids)\n",
        "\n",
        "    tokenized_inputs[\"labels\"] = labels\n",
        "    return tokenized_inputs"
      ]
    },
    {
      "cell_type": "code",
      "execution_count": null,
      "metadata": {
        "colab": {
          "base_uri": "https://localhost:8080/",
          "height": 49,
          "referenced_widgets": [
            "9a2b0f46833246b38f0293f5410b4522",
            "3a8aadeffd4940b080917e94703ee53b",
            "fcf8bee5809f4b4784143925cdde6c44",
            "a8045e2b1d7844bb8c8a8a1df8f050ea",
            "0a09afe5fe184ea49be2df4d2eabb95c",
            "b389a4c1a3fa4d4694aa9a4c7ca193dc",
            "8a8ea5f797a5415cbc85d6bc1b505409",
            "b3ddfbe858434926ba02f203b657fce0",
            "d43b1de54c034b5a8ee4ead5cb150e68",
            "e5a9a0bddbbb4f47afd3b755b7de4bfe",
            "bf37d1ba09c34d73a9f9283bc2d4a7b5"
          ]
        },
        "id": "9CFTLgIl0MbT",
        "outputId": "2746d18b-5ce3-4222-d7dd-2196bc6fb6be"
      },
      "outputs": [
        {
          "data": {
            "application/vnd.jupyter.widget-view+json": {
              "model_id": "9a2b0f46833246b38f0293f5410b4522",
              "version_major": 2,
              "version_minor": 0
            },
            "text/plain": [
              "Map:   0%|          | 0/100 [00:00<?, ? examples/s]"
            ]
          },
          "metadata": {},
          "output_type": "display_data"
        }
      ],
      "source": [
        "#tokenized_data, label_mapping = tokenize_and_align_labels(df, tokenizer)\n",
        "from datasets import Dataset\n",
        "dataset = Dataset.from_pandas(enpb_df)\n",
        "tokenized_data = dataset.map(tokenize_and_align_labels, batched=True)"
      ]
    },
    {
      "cell_type": "code",
      "execution_count": null,
      "metadata": {
        "id": "x6V3xKXrnxpv"
      },
      "outputs": [],
      "source": [
        "tokenized_data = tokenized_data.train_test_split(test_size=0.3)"
      ]
    },
    {
      "cell_type": "code",
      "execution_count": null,
      "metadata": {
        "colab": {
          "base_uri": "https://localhost:8080/",
          "height": 49,
          "referenced_widgets": [
            "b96a2f4cdd9a4835922a1ff2878af0c7",
            "0e6d86b497af41acbb365133adfc95c0",
            "0442a904a96148e2859648f303f0de00",
            "e121528990174eb3a5c9c2575081a852",
            "4826daf1eb8649328dd9def8913bed16",
            "8fa005412709453f870b04d379dd8a24",
            "93760916a20a4a7095fcacf8998de1b3",
            "3cc1dc19751648378e94ee505137424f",
            "18e2f92b3d26411bb685370ba4c82268",
            "c802fd000cff4d569e324fc5b2daa2e8",
            "adab2e089b764cf899cd58f1a95e1b8d"
          ]
        },
        "id": "9WOsZoa1zXGU",
        "outputId": "9d9eddee-a23e-41d4-997d-a7893e7bcc92"
      },
      "outputs": [
        {
          "data": {
            "application/vnd.jupyter.widget-view+json": {
              "model_id": "b96a2f4cdd9a4835922a1ff2878af0c7",
              "version_major": 2,
              "version_minor": 0
            },
            "text/plain": [
              "Downloading builder script:   0%|          | 0.00/6.34k [00:00<?, ?B/s]"
            ]
          },
          "metadata": {},
          "output_type": "display_data"
        }
      ],
      "source": [
        "import evaluate\n",
        "seqeval = evaluate.load(\"seqeval\")"
      ]
    },
    {
      "cell_type": "code",
      "execution_count": null,
      "metadata": {
        "colab": {
          "base_uri": "https://localhost:8080/",
          "height": 49,
          "referenced_widgets": [
            "bf7b18e98a5d432dac9ad1219a3f88bd",
            "6643bc588fee4b0bb67c25028daa606c",
            "80f31fe0e82f42a194e4a9d2d1a48d54",
            "ffa4b898835f4d1d88819540d97f8e23",
            "a00436b093e64194b449066052f63b31",
            "dbeaffa967494944b361309560bcda0e",
            "57f7e84c77da43caacdde447a86eac77",
            "6e9c6c96bcc24d8db493539ccf1cf988",
            "35745fd6b3984a9790b5772617b60878",
            "be1f417535504a3db1ac238e322eae71",
            "16e0fede314d4e65808405668eb86867"
          ]
        },
        "id": "PvTczx7yz6wE",
        "outputId": "7b6b2ae4-dab2-416a-f0d2-31033d8112b6"
      },
      "outputs": [
        {
          "data": {
            "application/vnd.jupyter.widget-view+json": {
              "model_id": "bf7b18e98a5d432dac9ad1219a3f88bd",
              "version_major": 2,
              "version_minor": 0
            },
            "text/plain": [
              "Downloading builder script:   0%|          | 0.00/4.20k [00:00<?, ?B/s]"
            ]
          },
          "metadata": {},
          "output_type": "display_data"
        }
      ],
      "source": [
        "accuracy = evaluate.load(\"accuracy\")"
      ]
    },
    {
      "cell_type": "code",
      "execution_count": null,
      "metadata": {
        "id": "EaR1Q3gHyqlY"
      },
      "outputs": [],
      "source": [
        "from transformers import DataCollatorForTokenClassification\n",
        "data_collator = DataCollatorForTokenClassification(tokenizer=tokenizer)"
      ]
    },
    {
      "cell_type": "code",
      "execution_count": null,
      "metadata": {
        "colab": {
          "base_uri": "https://localhost:8080/",
          "height": 136,
          "referenced_widgets": [
            "d156e64f51d149629ef9fa9aecb46d99",
            "3d3bd3c256284bf7af6462bf08873a11",
            "ee40816ef7e94cdd87cead98f94ecf6d",
            "8035557b7f024ea894ba6a7fd96873cc",
            "44d6057a0c294d95b921ca22067398dc",
            "ddd0a0a72e1247c48cdafd282a2c5990",
            "747e8707380248ab844d4191f6b38981",
            "6dd4dc84f0704f05ae93561076ec69af",
            "69986c1b53484d9b83cc4eb6b73ccbde",
            "aab2c32a1b824026a813f9f5346ab77d",
            "af795edaaa744c5b9543e42fb128d07b",
            "de80b654b4a044358ae669f52b9aae54",
            "5064bd1c415f47b382714e781ddd279f",
            "3a365282bd1644379a9d24a8f4ddfe99",
            "ec2abb2a265f43719cbd0d905ad238f2",
            "f9b33a3908be408280a217719838c0e8",
            "2e14a4a38dd44d9c8d49bfa7b0357c85",
            "edbbb7e2ed2f4a7581fdc91e2bcf99d4",
            "6102148e13a24d128a57b86a291584f3",
            "c88e93bf2bba4e3db9029425f04a86b9",
            "36535244cf674c26abbbe30b84efe017",
            "d62b699dfacd42c19076655c157927ac"
          ]
        },
        "id": "iHF8Y5I9otVy",
        "outputId": "cfac7d7f-849f-4568-e1dd-da7e0c2fd320"
      },
      "outputs": [
        {
          "data": {
            "application/vnd.jupyter.widget-view+json": {
              "model_id": "d156e64f51d149629ef9fa9aecb46d99",
              "version_major": 2,
              "version_minor": 0
            },
            "text/plain": [
              "config.json:   0%|          | 0.00/1.19k [00:00<?, ?B/s]"
            ]
          },
          "metadata": {},
          "output_type": "display_data"
        },
        {
          "data": {
            "application/vnd.jupyter.widget-view+json": {
              "model_id": "de80b654b4a044358ae669f52b9aae54",
              "version_major": 2,
              "version_minor": 0
            },
            "text/plain": [
              "model.safetensors:   0%|          | 0.00/599M [00:00<?, ?B/s]"
            ]
          },
          "metadata": {},
          "output_type": "display_data"
        },
        {
          "name": "stderr",
          "output_type": "stream",
          "text": [
            "Some weights of ModernBertForTokenClassification were not initialized from the model checkpoint at answerdotai/ModernBERT-base and are newly initialized: ['classifier.bias', 'classifier.weight']\n",
            "You should probably TRAIN this model on a down-stream task to be able to use it for predictions and inference.\n"
          ]
        }
      ],
      "source": [
        "from transformers import ModernBertForTokenClassification\n",
        "model = ModernBertForTokenClassification.from_pretrained(\"answerdotai/ModernBERT-base\", num_labels=len(role2id)+1,ignore_mismatched_sizes=True)"
      ]
    },
    {
      "cell_type": "code",
      "execution_count": null,
      "metadata": {
        "id": "sy_diAZc1qNe"
      },
      "outputs": [],
      "source": [
        "label2id = dict(role2id)"
      ]
    },
    {
      "cell_type": "code",
      "execution_count": null,
      "metadata": {
        "id": "exUhcGciVpDM"
      },
      "outputs": [],
      "source": [
        "id2label = dict((v,k) for k,v in label2id.items())"
      ]
    },
    {
      "cell_type": "code",
      "execution_count": null,
      "metadata": {
        "id": "BAkZc0LQ5cd5"
      },
      "outputs": [],
      "source": [
        "label_list = list(role2id.keys())\n",
        "from sklearn.metrics import classification_report, precision_recall_fscore_support\n",
        "from sklearn.preprocessing import MultiLabelBinarizer\n",
        "\n",
        "from sklearn.metrics import classification_report\n",
        "def compute_metrics(p):\n",
        "    predictions, labels = p\n",
        "    predictions = np.argmax(predictions, axis=2)\n",
        "\n",
        "    true_predictions = [\n",
        "        [id2label[p] for (p, l) in zip(prediction, label) if l != -100]\n",
        "        for prediction, label in zip(predictions, labels)\n",
        "    ]\n",
        "    true_labels = [\n",
        "        [id2label[l] for (p, l) in zip(prediction, label) if l != -100]\n",
        "        for prediction, label in zip(predictions, labels)\n",
        "    ]\n",
        "    true_labels_bin = list(np.concatenate(true_labels))\n",
        "    pred_labels_bin = list(np.concatenate(true_predictions))\n",
        "    print(true_labels_bin)\n",
        "    print(pred_labels_bin)\n",
        "    report = classification_report(true_labels_bin, pred_labels_bin)\n",
        "    metrics = precision_recall_fscore_support(true_labels_bin, pred_labels_bin, average='weighted')\n",
        "    accuracy = metrics[0]\n",
        "    precision = metrics[1]\n",
        "    recall = metrics[2]\n",
        "    f1_score = metrics[3]\n",
        "    return {\n",
        "        \"precision\": precision,\n",
        "        \"recall\": recall,\n",
        "        \"f1\": f1_score,\n",
        "        \"accuracy\": accuracy\n",
        "    }"
      ]
    },
    {
      "cell_type": "code",
      "execution_count": null,
      "metadata": {
        "colab": {
          "base_uri": "https://localhost:8080/"
        },
        "id": "vD9uyLVYGQIa",
        "outputId": "fb5d56ad-e163-4092-d7f4-e862a2a91b26"
      },
      "outputs": [
        {
          "name": "stderr",
          "output_type": "stream",
          "text": [
            "/usr/local/lib/python3.11/dist-packages/transformers/training_args.py:1594: FutureWarning: `evaluation_strategy` is deprecated and will be removed in version 4.46 of 🤗 Transformers. Use `eval_strategy` instead\n",
            "  warnings.warn(\n"
          ]
        }
      ],
      "source": [
        "training_args = TrainingArguments(\n",
        "    output_dir=\"bert-token-classification\",\n",
        "    learning_rate=0.1,\n",
        "    per_device_train_batch_size=16,\n",
        "    per_device_eval_batch_size=16,\n",
        "    num_train_epochs=1,\n",
        "    evaluation_strategy=\"epoch\",\n",
        "    weight_decay=0.01,\n",
        "    save_strategy=\"no\",\n",
        "    report_to=None,\n",
        "    #use_cpu=True,\n",
        "    #no_cuda=True,\n",
        "    #load_best_model_at_end=True, # uncomment if you wanna save\n",
        ")"
      ]
    },
    {
      "cell_type": "code",
      "execution_count": null,
      "metadata": {
        "id": "3elmnJlcGQLz"
      },
      "outputs": [],
      "source": [
        "trainer = Trainer(model=model,args=training_args,data_collator=data_collator,train_dataset=tokenized_data['train']  ,eval_dataset=tokenized_data['test'],compute_metrics=compute_metrics,)"
      ]
    },
    {
      "cell_type": "code",
      "execution_count": null,
      "metadata": {
        "id": "7UuSnK23RrnD"
      },
      "outputs": [],
      "source": [
        "import os\n",
        "os.environ[\"WANDB_DISABLED\"] = \"true\""
      ]
    },
    {
      "cell_type": "code",
      "execution_count": null,
      "metadata": {
        "id": "NZkEIMV7GQqV"
      },
      "outputs": [],
      "source": [
        "trainer.train()"
      ]
    },
    {
      "cell_type": "code",
      "execution_count": null,
      "metadata": {
        "id": "oiRuHuGDRTc8"
      },
      "outputs": [],
      "source": [
        "trainer.evaluate()"
      ]
    }
  ],
  "metadata": {
    "colab": {
      "provenance": []
    },
    "kernelspec": {
      "display_name": "Python 3",
      "name": "python3"
    },
    "language_info": {
      "name": "python"
    }
  },
  "nbformat": 4,
  "nbformat_minor": 0
}