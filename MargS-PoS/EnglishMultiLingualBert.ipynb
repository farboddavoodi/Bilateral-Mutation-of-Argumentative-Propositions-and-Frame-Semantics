{
  "cells": [
    {
      "cell_type": "code",
      "execution_count": null,
      "metadata": {
        "id": "7geJAOjEvA19"
      },
      "outputs": [],
      "source": [
        "%%capture\n",
        "!pip install datasets"
      ]
    },
    {
      "cell_type": "code",
      "execution_count": null,
      "metadata": {
        "id": "mcgpxXNrUnGj"
      },
      "outputs": [],
      "source": [
        "%%capture\n",
        "!pip install evaluate\n",
        "!pip install seqeval"
      ]
    },
    {
      "cell_type": "code",
      "execution_count": null,
      "metadata": {
        "id": "wzUgpKT5KyZp"
      },
      "outputs": [],
      "source": [
        "%%capture\n",
        "!pip install --upgrade transformers"
      ]
    },
    {
      "cell_type": "code",
      "execution_count": null,
      "metadata": {
        "id": "i6PFBM0FNVeU"
      },
      "outputs": [],
      "source": [
        "%%capture\n",
        "!pip install matplotlib-venn\n",
        "!pip install pydot\n",
        "!pip install cartopy\n",
        "import cartopy\n",
        "import pydot"
      ]
    },
    {
      "cell_type": "code",
      "execution_count": null,
      "metadata": {
        "id": "8iyJZLSuv4ev"
      },
      "outputs": [],
      "source": [
        "%%capture\n",
        "!pip install accelerate -U"
      ]
    },
    {
      "cell_type": "code",
      "execution_count": null,
      "metadata": {
        "id": "C8gKCu6XrYY7"
      },
      "outputs": [],
      "source": [
        "import torch\n",
        "import pandas as pd\n",
        "import os\n",
        "import json\n",
        "import re\n",
        "import xml.etree.ElementTree as ET\n",
        "from collections import Counter\n",
        "from tqdm import tqdm\n",
        "import nltk\n",
        "import zipfile\n",
        "import tarfile\n",
        "from nltk.corpus import wordnet\n",
        "from nltk.stem import WordNetLemmatizer\n",
        "from google.colab import drive\n",
        "import matplotlib.pyplot as plt\n",
        "import os\n",
        "import numpy as np\n",
        "from sklearn.model_selection import train_test_split\n",
        "from tokenizers import Encoding\n",
        "from collections import defaultdict\n",
        "from torch.utils.data import Dataset, DataLoader\n",
        "from transformers import BertTokenizer, BertForTokenClassification, AdamW, get_linear_schedule_with_warmup, Trainer, TrainingArguments,  BatchEncoding\n",
        "import json\n",
        "import sqlite3\n",
        "import csv\n",
        "from tqdm import tqdm\n",
        "import pandas as pd\n",
        "import torch\n",
        "from google.colab import drive\n",
        "import matplotlib.pyplot as plt\n",
        "import os\n",
        "import numpy as np\n",
        "from sklearn.model_selection import train_test_split\n",
        "from tokenizers import Encoding\n",
        "from collections import defaultdict\n",
        "from torch.utils.data import Dataset, DataLoader\n",
        "from transformers import BertTokenizer, BertForTokenClassification, AdamW, get_linear_schedule_with_warmup, Trainer, TrainingArguments,  BatchEncoding\n",
        "import os\n",
        "import pandas as pd\n",
        "from lxml import etree\n",
        "import xml.etree.ElementTree as ET\n",
        "import xml.etree.ElementTree as ETree\n",
        "from pathlib import Path\n",
        "import glob\n",
        "from tqdm import tqdm\n",
        "from google.colab import drive\n",
        "import torch\n",
        "import matplotlib.pyplot as plt\n",
        "import numpy as np\n",
        "from sklearn.model_selection import train_test_split\n",
        "from tokenizers import Encoding\n",
        "from collections import defaultdict\n",
        "from torch.utils.data import Dataset, DataLoader\n",
        "from transformers import BertTokenizer, BertForTokenClassification, AdamW, get_linear_schedule_with_warmup, Trainer, TrainingArguments,  BatchEncoding"
      ]
    },
    {
      "cell_type": "code",
      "execution_count": null,
      "metadata": {
        "colab": {
          "base_uri": "https://localhost:8080/"
        },
        "id": "mC2XSPTJuXhk",
        "outputId": "88f824a5-4284-4e71-c1c9-b3809b3681e4"
      },
      "outputs": [
        {
          "name": "stdout",
          "output_type": "stream",
          "text": [
            "Mounted at /content/drive\n"
          ]
        }
      ],
      "source": [
        "from google.colab import drive\n",
        "drive.mount('/content/drive')"
      ]
    },
    {
      "cell_type": "code",
      "execution_count": null,
      "metadata": {
        "id": "sVoTCmeAyPt1"
      },
      "outputs": [],
      "source": [
        "device = torch.device(\"cuda\")\n",
        "json_data = '/content/drive/MyDrive/davodi.json'\n",
        "persian_df = pd.read_json(json_data)\n",
        "persian_df = persian_df.drop(['_id', 'sentence', 'frame', 'lexicalUnit', 'status', 'issuer', 'is_active', 'createdAt', 'updatedAt', 'PId', 'lang', 'description', 'lexicalUnitHint', 'reviewer', 'lexicalUnitHelper', 'frameHelper', 'frameName', 'lexicalUnitName'], axis = 1)"
      ]
    },
    {
      "cell_type": "code",
      "execution_count": null,
      "metadata": {
        "id": "U8STebfkruf-"
      },
      "outputs": [],
      "source": [
        "def framenet_tags(FN_tags):\n",
        "    framenet_pattern = []\n",
        "    for FN_tag in FN_tags:\n",
        "        tag_type = FN_tag.get('tagType')\n",
        "        if tag_type == 5:\n",
        "            element = FN_tag.get('element', {})\n",
        "            element_name = element.get('name', '')\n",
        "            framenet_pattern.append(element_name)\n",
        "        else:\n",
        "            framenet_pattern.append('O')\n",
        "    return framenet_pattern"
      ]
    },
    {
      "cell_type": "code",
      "execution_count": null,
      "metadata": {
        "id": "vr_bQ8xwMPUi"
      },
      "outputs": [],
      "source": [
        "persian_df['frameNetTags'] = persian_df['frameNetTags'].apply(lambda FN_tags : framenet_tags(FN_tags))"
      ]
    },
    {
      "cell_type": "code",
      "execution_count": null,
      "metadata": {
        "id": "hpTSULsLubeJ"
      },
      "outputs": [],
      "source": [
        "device = torch.device(\"cuda\")\n",
        "sentences_path = \"/content/drive/MyDrive/sentences.zip\""
      ]
    },
    {
      "cell_type": "code",
      "execution_count": null,
      "metadata": {
        "colab": {
          "base_uri": "https://localhost:8080/"
        },
        "id": "IdzSd3_lbZgM",
        "outputId": "412e3721-76cb-4127-f745-82da3131e81c"
      },
      "outputs": [
        {
          "data": {
            "text/plain": [
              "2304"
            ]
          },
          "execution_count": 12,
          "metadata": {},
          "output_type": "execute_result"
        }
      ],
      "source": [
        "os.system(\"unzip sentences.zip\")"
      ]
    },
    {
      "cell_type": "code",
      "execution_count": null,
      "metadata": {
        "id": "qsRNREQLa5Wp"
      },
      "outputs": [],
      "source": [
        "zip_file_path = '/content/drive/My Drive/sentences.zip'\n",
        "with zipfile.ZipFile(zip_file_path, 'r') as zip_ref:\n",
        "    zip_ref.extractall('/content/drive/My Drive/sentences')"
      ]
    },
    {
      "cell_type": "code",
      "execution_count": null,
      "metadata": {
        "id": "1XYJw079WEpT"
      },
      "outputs": [],
      "source": [
        "directory = \"/content/drive/MyDrive/sentences\"\n",
        "dataframes = []\n",
        "for filename in os.listdir(directory):\n",
        "    if filename.endswith(\".json\"):\n",
        "        filepath = os.path.join(directory, filename)\n",
        "        enpb_df = pd.read_json(filepath, lines=True)\n",
        "        dataframes.append(enpb_df)"
      ]
    },
    {
      "cell_type": "code",
      "execution_count": null,
      "metadata": {
        "id": "keOUDa7xWFPx"
      },
      "outputs": [],
      "source": [
        "def read_json_files(root_dir):\n",
        "  dataframes = []\n",
        "  for root, dirs, files in os.walk(root_dir):\n",
        "      for filename in files:\n",
        "          if filename.endswith(\".json\"):\n",
        "              filepath = os.path.join(root, filename)\n",
        "              df = pd.read_json(filepath, lines=True)\n",
        "              dataframes.append(df)\n",
        "  return dataframes\n",
        "dataframes = read_json_files(\"/content/drive/MyDrive/sentences\")"
      ]
    },
    {
      "cell_type": "code",
      "execution_count": null,
      "metadata": {
        "id": "4LgmJT6qs38h"
      },
      "outputs": [],
      "source": [
        "def prepare_token_classification_data(json_data):\n",
        "    all_roles = []\n",
        "    for key, value in json_data.items():\n",
        "        predicate = value['predicate']\n",
        "        roles = value['roles']\n",
        "        verb_index = int(key)\n",
        "        roles[verb_index] = \"B-V\"\n",
        "        roles = ['O' if role == '_' else role for role in roles]\n",
        "        all_roles.append(roles)\n",
        "    return all_roles"
      ]
    },
    {
      "cell_type": "code",
      "execution_count": null,
      "metadata": {
        "id": "iajvjXak3DlM"
      },
      "outputs": [],
      "source": [
        "def create_token_label_dataframe_from_columns(df):\n",
        "    sentence_ids = df[\"sentence_id\"].tolist()\n",
        "    words = df['words'].tolist()\n",
        "    predictions = df['predictions'].tolist()\n",
        "    df_prepared = pd.DataFrame(columns=[\"sentence_id\", \"words\", \"predictions\"])\n",
        "    for i, (sentence_id, word, prediction) in enumerate(zip(sentence_ids, words, predictions)):\n",
        "        for label in prediction:\n",
        "            df_prepared.loc[len(df_prepared)] = [sentence_id, word, label]\n",
        "    return df_prepared"
      ]
    },
    {
      "cell_type": "code",
      "execution_count": null,
      "metadata": {
        "id": "f9J6MquBovp2"
      },
      "outputs": [],
      "source": [
        "enpb_df['predictions'] = enpb_df['predictions'].apply(lambda json_data : prepare_token_classification_data(json_data))"
      ]
    },
    {
      "cell_type": "code",
      "execution_count": null,
      "metadata": {
        "id": "Vo7M027LCHBm"
      },
      "outputs": [],
      "source": [
        "enpb_df = create_token_label_dataframe_from_columns(enpb_df)"
      ]
    },
    {
      "cell_type": "code",
      "execution_count": null,
      "metadata": {
        "id": "PYJixkCaIPz2"
      },
      "outputs": [],
      "source": [
        "enpb_df['Sentence'] = enpb_df['words'].apply(lambda x: ' '.join(x))"
      ]
    },
    {
      "cell_type": "code",
      "execution_count": null,
      "metadata": {
        "colab": {
          "base_uri": "https://localhost:8080/",
          "height": 424
        },
        "id": "auRJ9FJxAS9L",
        "outputId": "e0581c42-79cb-416a-8213-4a00ece5971b"
      },
      "outputs": [
        {
          "data": {
            "application/vnd.google.colaboratory.intrinsic+json": {
              "summary": "{\n  \"name\": \"enpb_df\",\n  \"rows\": 26159,\n  \"fields\": [\n    {\n      \"column\": \"sentence_id\",\n      \"properties\": {\n        \"dtype\": \"number\",\n        \"std\": 2981,\n        \"min\": 0,\n        \"max\": 10261,\n        \"num_unique_values\": 9613,\n        \"samples\": [\n          10144,\n          2141,\n          384\n        ],\n        \"semantic_type\": \"\",\n        \"description\": \"\"\n      }\n    },\n    {\n      \"column\": \"words\",\n      \"properties\": {\n        \"dtype\": \"object\",\n        \"semantic_type\": \"\",\n        \"description\": \"\"\n      }\n    },\n    {\n      \"column\": \"predictions\",\n      \"properties\": {\n        \"dtype\": \"object\",\n        \"semantic_type\": \"\",\n        \"description\": \"\"\n      }\n    },\n    {\n      \"column\": \"Sentence\",\n      \"properties\": {\n        \"dtype\": \"category\",\n        \"num_unique_values\": 9565,\n        \"samples\": [\n          \"The process went so far in Algeria earlier this year that the army cancelled the results of general elections when it became clear that the Islamic Salvation Front would win an overwhelming victory .\",\n          \"They also eat the eggs of birds and other reptiles .\",\n          \"He produced a packet of cigarettes , and lit up .\"\n        ],\n        \"semantic_type\": \"\",\n        \"description\": \"\"\n      }\n    }\n  ]\n}",
              "type": "dataframe",
              "variable_name": "enpb_df"
            },
            "text/html": [
              "\n",
              "  <div id=\"df-b32f1159-e5fd-45f1-916b-c635677ad35b\" class=\"colab-df-container\">\n",
              "    <div>\n",
              "<style scoped>\n",
              "    .dataframe tbody tr th:only-of-type {\n",
              "        vertical-align: middle;\n",
              "    }\n",
              "\n",
              "    .dataframe tbody tr th {\n",
              "        vertical-align: top;\n",
              "    }\n",
              "\n",
              "    .dataframe thead th {\n",
              "        text-align: right;\n",
              "    }\n",
              "</style>\n",
              "<table border=\"1\" class=\"dataframe\">\n",
              "  <thead>\n",
              "    <tr style=\"text-align: right;\">\n",
              "      <th></th>\n",
              "      <th>sentence_id</th>\n",
              "      <th>words</th>\n",
              "      <th>predictions</th>\n",
              "      <th>Sentence</th>\n",
              "    </tr>\n",
              "  </thead>\n",
              "  <tbody>\n",
              "    <tr>\n",
              "      <th>0</th>\n",
              "      <td>0</td>\n",
              "      <td>[And, without, more, ado, the, two, officers, ...</td>\n",
              "      <td>[O, AM-MNR, O, O, O, O, A0, B-V, O, A1, A2, O,...</td>\n",
              "      <td>And without more ado the two officers fastened...</td>\n",
              "    </tr>\n",
              "    <tr>\n",
              "      <th>1</th>\n",
              "      <td>0</td>\n",
              "      <td>[And, without, more, ado, the, two, officers, ...</td>\n",
              "      <td>[AM-DIS, AM-MNR, O, O, O, O, A0, O, O, O, O, O...</td>\n",
              "      <td>And without more ado the two officers fastened...</td>\n",
              "    </tr>\n",
              "    <tr>\n",
              "      <th>2</th>\n",
              "      <td>1</td>\n",
              "      <td>[She, would, fasten, the, ring, about, her, ne...</td>\n",
              "      <td>[A0, AM-MOD, B-V, O, A1, A2, O, O, O, O, O, O,...</td>\n",
              "      <td>She would fasten the ring about her neck and w...</td>\n",
              "    </tr>\n",
              "    <tr>\n",
              "      <th>3</th>\n",
              "      <td>1</td>\n",
              "      <td>[She, would, fasten, the, ring, about, her, ne...</td>\n",
              "      <td>[A0, AM-MOD, O, O, O, O, O, O, O, B-V, A1, AM-...</td>\n",
              "      <td>She would fasten the ring about her neck and w...</td>\n",
              "    </tr>\n",
              "    <tr>\n",
              "      <th>4</th>\n",
              "      <td>1</td>\n",
              "      <td>[She, would, fasten, the, ring, about, her, ne...</td>\n",
              "      <td>[O, O, O, O, O, O, O, O, O, O, O, O, O, O, O, ...</td>\n",
              "      <td>She would fasten the ring about her neck and w...</td>\n",
              "    </tr>\n",
              "    <tr>\n",
              "      <th>...</th>\n",
              "      <td>...</td>\n",
              "      <td>...</td>\n",
              "      <td>...</td>\n",
              "      <td>...</td>\n",
              "    </tr>\n",
              "    <tr>\n",
              "      <th>26154</th>\n",
              "      <td>10260</td>\n",
              "      <td>[It, was, after, the, first, snow, and, I, fol...</td>\n",
              "      <td>[O, O, O, O, O, O, O, A0, B-V, O, O, A1, AM-DI...</td>\n",
              "      <td>It was after the first snow and I followed the...</td>\n",
              "    </tr>\n",
              "    <tr>\n",
              "      <th>26155</th>\n",
              "      <td>10260</td>\n",
              "      <td>[It, was, after, the, first, snow, and, I, fol...</td>\n",
              "      <td>[O, O, O, O, O, O, O, A0, O, O, O, O, O, O, O,...</td>\n",
              "      <td>It was after the first snow and I followed the...</td>\n",
              "    </tr>\n",
              "    <tr>\n",
              "      <th>26156</th>\n",
              "      <td>10260</td>\n",
              "      <td>[It, was, after, the, first, snow, and, I, fol...</td>\n",
              "      <td>[O, O, O, O, O, O, O, O, O, O, O, O, O, O, O, ...</td>\n",
              "      <td>It was after the first snow and I followed the...</td>\n",
              "    </tr>\n",
              "    <tr>\n",
              "      <th>26157</th>\n",
              "      <td>10261</td>\n",
              "      <td>[There, was, only, a, handful, of, mourners, a...</td>\n",
              "      <td>[O, B-V, O, O, A1, O, O, O, O, O, O, AM-CAU, O...</td>\n",
              "      <td>There was only a handful of mourners at Gillam...</td>\n",
              "    </tr>\n",
              "    <tr>\n",
              "      <th>26158</th>\n",
              "      <td>10261</td>\n",
              "      <td>[There, was, only, a, handful, of, mourners, a...</td>\n",
              "      <td>[O, O, O, O, O, O, O, O, O, O, O, O, O, A1, O,...</td>\n",
              "      <td>There was only a handful of mourners at Gillam...</td>\n",
              "    </tr>\n",
              "  </tbody>\n",
              "</table>\n",
              "<p>26159 rows × 4 columns</p>\n",
              "</div>\n",
              "    <div class=\"colab-df-buttons\">\n",
              "\n",
              "  <div class=\"colab-df-container\">\n",
              "    <button class=\"colab-df-convert\" onclick=\"convertToInteractive('df-b32f1159-e5fd-45f1-916b-c635677ad35b')\"\n",
              "            title=\"Convert this dataframe to an interactive table.\"\n",
              "            style=\"display:none;\">\n",
              "\n",
              "  <svg xmlns=\"http://www.w3.org/2000/svg\" height=\"24px\" viewBox=\"0 -960 960 960\">\n",
              "    <path d=\"M120-120v-720h720v720H120Zm60-500h600v-160H180v160Zm220 220h160v-160H400v160Zm0 220h160v-160H400v160ZM180-400h160v-160H180v160Zm440 0h160v-160H620v160ZM180-180h160v-160H180v160Zm440 0h160v-160H620v160Z\"/>\n",
              "  </svg>\n",
              "    </button>\n",
              "\n",
              "  <style>\n",
              "    .colab-df-container {\n",
              "      display:flex;\n",
              "      gap: 12px;\n",
              "    }\n",
              "\n",
              "    .colab-df-convert {\n",
              "      background-color: #E8F0FE;\n",
              "      border: none;\n",
              "      border-radius: 50%;\n",
              "      cursor: pointer;\n",
              "      display: none;\n",
              "      fill: #1967D2;\n",
              "      height: 32px;\n",
              "      padding: 0 0 0 0;\n",
              "      width: 32px;\n",
              "    }\n",
              "\n",
              "    .colab-df-convert:hover {\n",
              "      background-color: #E2EBFA;\n",
              "      box-shadow: 0px 1px 2px rgba(60, 64, 67, 0.3), 0px 1px 3px 1px rgba(60, 64, 67, 0.15);\n",
              "      fill: #174EA6;\n",
              "    }\n",
              "\n",
              "    .colab-df-buttons div {\n",
              "      margin-bottom: 4px;\n",
              "    }\n",
              "\n",
              "    [theme=dark] .colab-df-convert {\n",
              "      background-color: #3B4455;\n",
              "      fill: #D2E3FC;\n",
              "    }\n",
              "\n",
              "    [theme=dark] .colab-df-convert:hover {\n",
              "      background-color: #434B5C;\n",
              "      box-shadow: 0px 1px 3px 1px rgba(0, 0, 0, 0.15);\n",
              "      filter: drop-shadow(0px 1px 2px rgba(0, 0, 0, 0.3));\n",
              "      fill: #FFFFFF;\n",
              "    }\n",
              "  </style>\n",
              "\n",
              "    <script>\n",
              "      const buttonEl =\n",
              "        document.querySelector('#df-b32f1159-e5fd-45f1-916b-c635677ad35b button.colab-df-convert');\n",
              "      buttonEl.style.display =\n",
              "        google.colab.kernel.accessAllowed ? 'block' : 'none';\n",
              "\n",
              "      async function convertToInteractive(key) {\n",
              "        const element = document.querySelector('#df-b32f1159-e5fd-45f1-916b-c635677ad35b');\n",
              "        const dataTable =\n",
              "          await google.colab.kernel.invokeFunction('convertToInteractive',\n",
              "                                                    [key], {});\n",
              "        if (!dataTable) return;\n",
              "\n",
              "        const docLinkHtml = 'Like what you see? Visit the ' +\n",
              "          '<a target=\"_blank\" href=https://colab.research.google.com/notebooks/data_table.ipynb>data table notebook</a>'\n",
              "          + ' to learn more about interactive tables.';\n",
              "        element.innerHTML = '';\n",
              "        dataTable['output_type'] = 'display_data';\n",
              "        await google.colab.output.renderOutput(dataTable, element);\n",
              "        const docLink = document.createElement('div');\n",
              "        docLink.innerHTML = docLinkHtml;\n",
              "        element.appendChild(docLink);\n",
              "      }\n",
              "    </script>\n",
              "  </div>\n",
              "\n",
              "\n",
              "<div id=\"df-10b8da02-cfa3-4aa0-b1c3-0c66c6985d8d\">\n",
              "  <button class=\"colab-df-quickchart\" onclick=\"quickchart('df-10b8da02-cfa3-4aa0-b1c3-0c66c6985d8d')\"\n",
              "            title=\"Suggest charts\"\n",
              "            style=\"display:none;\">\n",
              "\n",
              "<svg xmlns=\"http://www.w3.org/2000/svg\" height=\"24px\"viewBox=\"0 0 24 24\"\n",
              "     width=\"24px\">\n",
              "    <g>\n",
              "        <path d=\"M19 3H5c-1.1 0-2 .9-2 2v14c0 1.1.9 2 2 2h14c1.1 0 2-.9 2-2V5c0-1.1-.9-2-2-2zM9 17H7v-7h2v7zm4 0h-2V7h2v10zm4 0h-2v-4h2v4z\"/>\n",
              "    </g>\n",
              "</svg>\n",
              "  </button>\n",
              "\n",
              "<style>\n",
              "  .colab-df-quickchart {\n",
              "      --bg-color: #E8F0FE;\n",
              "      --fill-color: #1967D2;\n",
              "      --hover-bg-color: #E2EBFA;\n",
              "      --hover-fill-color: #174EA6;\n",
              "      --disabled-fill-color: #AAA;\n",
              "      --disabled-bg-color: #DDD;\n",
              "  }\n",
              "\n",
              "  [theme=dark] .colab-df-quickchart {\n",
              "      --bg-color: #3B4455;\n",
              "      --fill-color: #D2E3FC;\n",
              "      --hover-bg-color: #434B5C;\n",
              "      --hover-fill-color: #FFFFFF;\n",
              "      --disabled-bg-color: #3B4455;\n",
              "      --disabled-fill-color: #666;\n",
              "  }\n",
              "\n",
              "  .colab-df-quickchart {\n",
              "    background-color: var(--bg-color);\n",
              "    border: none;\n",
              "    border-radius: 50%;\n",
              "    cursor: pointer;\n",
              "    display: none;\n",
              "    fill: var(--fill-color);\n",
              "    height: 32px;\n",
              "    padding: 0;\n",
              "    width: 32px;\n",
              "  }\n",
              "\n",
              "  .colab-df-quickchart:hover {\n",
              "    background-color: var(--hover-bg-color);\n",
              "    box-shadow: 0 1px 2px rgba(60, 64, 67, 0.3), 0 1px 3px 1px rgba(60, 64, 67, 0.15);\n",
              "    fill: var(--button-hover-fill-color);\n",
              "  }\n",
              "\n",
              "  .colab-df-quickchart-complete:disabled,\n",
              "  .colab-df-quickchart-complete:disabled:hover {\n",
              "    background-color: var(--disabled-bg-color);\n",
              "    fill: var(--disabled-fill-color);\n",
              "    box-shadow: none;\n",
              "  }\n",
              "\n",
              "  .colab-df-spinner {\n",
              "    border: 2px solid var(--fill-color);\n",
              "    border-color: transparent;\n",
              "    border-bottom-color: var(--fill-color);\n",
              "    animation:\n",
              "      spin 1s steps(1) infinite;\n",
              "  }\n",
              "\n",
              "  @keyframes spin {\n",
              "    0% {\n",
              "      border-color: transparent;\n",
              "      border-bottom-color: var(--fill-color);\n",
              "      border-left-color: var(--fill-color);\n",
              "    }\n",
              "    20% {\n",
              "      border-color: transparent;\n",
              "      border-left-color: var(--fill-color);\n",
              "      border-top-color: var(--fill-color);\n",
              "    }\n",
              "    30% {\n",
              "      border-color: transparent;\n",
              "      border-left-color: var(--fill-color);\n",
              "      border-top-color: var(--fill-color);\n",
              "      border-right-color: var(--fill-color);\n",
              "    }\n",
              "    40% {\n",
              "      border-color: transparent;\n",
              "      border-right-color: var(--fill-color);\n",
              "      border-top-color: var(--fill-color);\n",
              "    }\n",
              "    60% {\n",
              "      border-color: transparent;\n",
              "      border-right-color: var(--fill-color);\n",
              "    }\n",
              "    80% {\n",
              "      border-color: transparent;\n",
              "      border-right-color: var(--fill-color);\n",
              "      border-bottom-color: var(--fill-color);\n",
              "    }\n",
              "    90% {\n",
              "      border-color: transparent;\n",
              "      border-bottom-color: var(--fill-color);\n",
              "    }\n",
              "  }\n",
              "</style>\n",
              "\n",
              "  <script>\n",
              "    async function quickchart(key) {\n",
              "      const quickchartButtonEl =\n",
              "        document.querySelector('#' + key + ' button');\n",
              "      quickchartButtonEl.disabled = true;  // To prevent multiple clicks.\n",
              "      quickchartButtonEl.classList.add('colab-df-spinner');\n",
              "      try {\n",
              "        const charts = await google.colab.kernel.invokeFunction(\n",
              "            'suggestCharts', [key], {});\n",
              "      } catch (error) {\n",
              "        console.error('Error during call to suggestCharts:', error);\n",
              "      }\n",
              "      quickchartButtonEl.classList.remove('colab-df-spinner');\n",
              "      quickchartButtonEl.classList.add('colab-df-quickchart-complete');\n",
              "    }\n",
              "    (() => {\n",
              "      let quickchartButtonEl =\n",
              "        document.querySelector('#df-10b8da02-cfa3-4aa0-b1c3-0c66c6985d8d button');\n",
              "      quickchartButtonEl.style.display =\n",
              "        google.colab.kernel.accessAllowed ? 'block' : 'none';\n",
              "    })();\n",
              "  </script>\n",
              "</div>\n",
              "    </div>\n",
              "  </div>\n"
            ],
            "text/plain": [
              "       sentence_id                                              words  \\\n",
              "0                0  [And, without, more, ado, the, two, officers, ...   \n",
              "1                0  [And, without, more, ado, the, two, officers, ...   \n",
              "2                1  [She, would, fasten, the, ring, about, her, ne...   \n",
              "3                1  [She, would, fasten, the, ring, about, her, ne...   \n",
              "4                1  [She, would, fasten, the, ring, about, her, ne...   \n",
              "...            ...                                                ...   \n",
              "26154        10260  [It, was, after, the, first, snow, and, I, fol...   \n",
              "26155        10260  [It, was, after, the, first, snow, and, I, fol...   \n",
              "26156        10260  [It, was, after, the, first, snow, and, I, fol...   \n",
              "26157        10261  [There, was, only, a, handful, of, mourners, a...   \n",
              "26158        10261  [There, was, only, a, handful, of, mourners, a...   \n",
              "\n",
              "                                             predictions  \\\n",
              "0      [O, AM-MNR, O, O, O, O, A0, B-V, O, A1, A2, O,...   \n",
              "1      [AM-DIS, AM-MNR, O, O, O, O, A0, O, O, O, O, O...   \n",
              "2      [A0, AM-MOD, B-V, O, A1, A2, O, O, O, O, O, O,...   \n",
              "3      [A0, AM-MOD, O, O, O, O, O, O, O, B-V, A1, AM-...   \n",
              "4      [O, O, O, O, O, O, O, O, O, O, O, O, O, O, O, ...   \n",
              "...                                                  ...   \n",
              "26154  [O, O, O, O, O, O, O, A0, B-V, O, O, A1, AM-DI...   \n",
              "26155  [O, O, O, O, O, O, O, A0, O, O, O, O, O, O, O,...   \n",
              "26156  [O, O, O, O, O, O, O, O, O, O, O, O, O, O, O, ...   \n",
              "26157  [O, B-V, O, O, A1, O, O, O, O, O, O, AM-CAU, O...   \n",
              "26158  [O, O, O, O, O, O, O, O, O, O, O, O, O, A1, O,...   \n",
              "\n",
              "                                                Sentence  \n",
              "0      And without more ado the two officers fastened...  \n",
              "1      And without more ado the two officers fastened...  \n",
              "2      She would fasten the ring about her neck and w...  \n",
              "3      She would fasten the ring about her neck and w...  \n",
              "4      She would fasten the ring about her neck and w...  \n",
              "...                                                  ...  \n",
              "26154  It was after the first snow and I followed the...  \n",
              "26155  It was after the first snow and I followed the...  \n",
              "26156  It was after the first snow and I followed the...  \n",
              "26157  There was only a handful of mourners at Gillam...  \n",
              "26158  There was only a handful of mourners at Gillam...  \n",
              "\n",
              "[26159 rows x 4 columns]"
            ]
          },
          "execution_count": 21,
          "metadata": {},
          "output_type": "execute_result"
        }
      ],
      "source": [
        "enpb_df"
      ]
    },
    {
      "cell_type": "code",
      "execution_count": null,
      "metadata": {
        "id": "YpFYfjBzCOfr"
      },
      "outputs": [],
      "source": [
        "def process_label(label, all_words):\n",
        "    start = label.get('start')\n",
        "    end = label.get('end')\n",
        "    if start is not None or end is not None:\n",
        "        start = int(start)\n",
        "        end = int(end)\n",
        "        accumulated_chars = 0\n",
        "        start_word_index = 0\n",
        "        end_word_index = 0\n",
        "        for i, word in enumerate(all_words):\n",
        "            word_length = len(word)\n",
        "            if accumulated_chars <= start:\n",
        "                start_word_index = i\n",
        "            if accumulated_chars >= end:\n",
        "                end_word_index = i - 1\n",
        "                break\n",
        "            accumulated_chars += word_length + 1\n",
        "        if end_word_index is None:\n",
        "            end_word_index = len(all_words) - 1\n",
        "        extracted_word = ' '.join(all_words[start_word_index:end_word_index + 1])\n",
        "        return start, end, label.get('name'), extracted_word\n",
        "    else:\n",
        "        return None"
      ]
    },
    {
      "cell_type": "code",
      "execution_count": null,
      "metadata": {
        "id": "jCU5q2sPO-cy"
      },
      "outputs": [],
      "source": [
        "def annotate_sentence(df):\n",
        "    sentence = df['Sentence']\n",
        "    words = df['words']\n",
        "    start = df['Start']\n",
        "    end = df['End']\n",
        "    annotation = df['Annotated Names']\n",
        "    annotated_words = df['Extracted Words']\n",
        "    result = []\n",
        "    char_index = 0\n",
        "    for word in words:\n",
        "        label = 'O'\n",
        "        word_start = char_index\n",
        "        word_end = char_index + len(word) - 1\n",
        "        if word in annotated_words.split():\n",
        "            label = annotation\n",
        "        result.append(label)\n",
        "        char_index = word_end + 1\n",
        "    return result"
      ]
    },
    {
      "cell_type": "code",
      "execution_count": null,
      "metadata": {
        "id": "ivlYEnnc0rww"
      },
      "outputs": [],
      "source": [
        "xml_folder_path = '/content/drive/My Drive/framenetdata-1.7/fndata-1.7/lu'\n",
        "xml_files = glob.glob(xml_folder_path + '/*.xml')\n",
        "table = []\n",
        "namespace = {'fn': 'http://framenet.icsi.berkeley.edu'}"
      ]
    },
    {
      "cell_type": "code",
      "execution_count": null,
      "metadata": {
        "colab": {
          "base_uri": "https://localhost:8080/"
        },
        "id": "Ob6_XvjYQ1Uv",
        "outputId": "08639d6f-c231-4316-b321-dcd497c06880"
      },
      "outputs": [
        {
          "name": "stderr",
          "output_type": "stream",
          "text": [
            " 41%|████      | 1007/2483 [01:19<00:35, 42.12it/s]"
          ]
        },
        {
          "name": "stdout",
          "output_type": "stream",
          "text": [
            "Error parsing XML file: no element found: line 2, column 0\n",
            "XML file Name:/content/drive/My Drive/framenetdata-1.7/fndata-1.7/lu/lu3973.xml\n"
          ]
        },
        {
          "name": "stderr",
          "output_type": "stream",
          "text": [
            "100%|██████████| 2483/2483 [01:37<00:00, 25.54it/s] \n"
          ]
        }
      ],
      "source": [
        "for filename in tqdm(xml_files):\n",
        "    try:\n",
        "        tree = ET.parse(filename)\n",
        "        root = tree.getroot()\n",
        "        for sentence in root.findall('.//fn:sentence', namespace):\n",
        "            text_element = sentence.find('fn:text', namespace)\n",
        "            if text_element is not None and text_element.text:\n",
        "                all_words = text_element.text.split()\n",
        "                annotation_sets = sentence.findall('.//fn:annotationSet[@status=\"MANUAL\"]', namespace)\n",
        "                for annotation_set in annotation_sets:\n",
        "                    layers = annotation_set.findall('.//fn:layer[@name=\"FE\"]', namespace)\n",
        "                    for layer in layers:\n",
        "                        labels = layer.findall('.//fn:label', namespace)\n",
        "                        for label in labels:\n",
        "                            processed_label = process_label(label, all_words)\n",
        "                            if processed_label is not None:\n",
        "                                table.append((text_element.text,) + processed_label)\n",
        "    except ET.ParseError as e:\n",
        "        print(f\"Error parsing XML file: {e}\")\n",
        "        print(f\"XML file Name:\" + str(filename))"
      ]
    },
    {
      "cell_type": "code",
      "execution_count": null,
      "metadata": {
        "colab": {
          "base_uri": "https://localhost:8080/",
          "height": 597
        },
        "id": "ZvdFweXolSa8",
        "outputId": "4f269787-528a-4e5c-eb2c-fa0706f356c2"
      },
      "outputs": [
        {
          "data": {
            "application/vnd.google.colaboratory.intrinsic+json": {
              "summary": "{\n  \"name\": \"enfn_df\",\n  \"rows\": 59147,\n  \"fields\": [\n    {\n      \"column\": \"Sentence\",\n      \"properties\": {\n        \"dtype\": \"category\",\n        \"num_unique_values\": 27655,\n        \"samples\": [\n          \"By contrast , European firms will spend $ 150 million this year on electronic security , and are expected to spend $ 1 billion by 1992 .\",\n          \"Dulles also favoured American aid to members of the Baghdad Pact , though without American adherence . \",\n          \"I consulted a lawyer at the Citizens Advice Bureau when I was in Norwich last Friday . \"\n        ],\n        \"semantic_type\": \"\",\n        \"description\": \"\"\n      }\n    },\n    {\n      \"column\": \"Start\",\n      \"properties\": {\n        \"dtype\": \"number\",\n        \"std\": 47,\n        \"min\": 0,\n        \"max\": 722,\n        \"num_unique_values\": 351,\n        \"samples\": [\n          185,\n          361,\n          378\n        ],\n        \"semantic_type\": \"\",\n        \"description\": \"\"\n      }\n    },\n    {\n      \"column\": \"End\",\n      \"properties\": {\n        \"dtype\": \"number\",\n        \"std\": 51,\n        \"min\": 0,\n        \"max\": 751,\n        \"num_unique_values\": 375,\n        \"samples\": [\n          117,\n          255,\n          105\n        ],\n        \"semantic_type\": \"\",\n        \"description\": \"\"\n      }\n    },\n    {\n      \"column\": \"Annotated Names\",\n      \"properties\": {\n        \"dtype\": \"category\",\n        \"num_unique_values\": 744,\n        \"samples\": [\n          \"Context\",\n          \"Arguer1\",\n          \"Resulting_action\"\n        ],\n        \"semantic_type\": \"\",\n        \"description\": \"\"\n      }\n    },\n    {\n      \"column\": \"Extracted Words\",\n      \"properties\": {\n        \"dtype\": \"string\",\n        \"num_unique_values\": 33803,\n        \"samples\": [\n          \"of forthrightness about its possession of P - 2 design drawings and other related research , and information regarding its manufacturing and mechanical testing activities , all of which was omitted from Iran 's 21 October 2003 declaration to the agency\",\n          \"Urquhart\",\n          \"by English women who flung accusations at us\"\n        ],\n        \"semantic_type\": \"\",\n        \"description\": \"\"\n      }\n    },\n    {\n      \"column\": \"words\",\n      \"properties\": {\n        \"dtype\": \"object\",\n        \"semantic_type\": \"\",\n        \"description\": \"\"\n      }\n    },\n    {\n      \"column\": \"frameNetTags\",\n      \"properties\": {\n        \"dtype\": \"object\",\n        \"semantic_type\": \"\",\n        \"description\": \"\"\n      }\n    }\n  ]\n}",
              "type": "dataframe",
              "variable_name": "enfn_df"
            },
            "text/html": [
              "\n",
              "  <div id=\"df-1c177f6d-c057-4373-a223-6a77462bdfa4\" class=\"colab-df-container\">\n",
              "    <div>\n",
              "<style scoped>\n",
              "    .dataframe tbody tr th:only-of-type {\n",
              "        vertical-align: middle;\n",
              "    }\n",
              "\n",
              "    .dataframe tbody tr th {\n",
              "        vertical-align: top;\n",
              "    }\n",
              "\n",
              "    .dataframe thead th {\n",
              "        text-align: right;\n",
              "    }\n",
              "</style>\n",
              "<table border=\"1\" class=\"dataframe\">\n",
              "  <thead>\n",
              "    <tr style=\"text-align: right;\">\n",
              "      <th></th>\n",
              "      <th>Sentence</th>\n",
              "      <th>Start</th>\n",
              "      <th>End</th>\n",
              "      <th>Annotated Names</th>\n",
              "      <th>Extracted Words</th>\n",
              "      <th>words</th>\n",
              "      <th>frameNetTags</th>\n",
              "    </tr>\n",
              "  </thead>\n",
              "  <tbody>\n",
              "    <tr>\n",
              "      <th>0</th>\n",
              "      <td>` What makes you think Rainbow would entertain...</td>\n",
              "      <td>76</td>\n",
              "      <td>81</td>\n",
              "      <td>Entity_2</td>\n",
              "      <td>of you</td>\n",
              "      <td>[`, What, makes, you, think, Rainbow, would, e...</td>\n",
              "      <td>[O, O, O, Entity_2, O, O, O, O, O, O, O, O, O,...</td>\n",
              "    </tr>\n",
              "    <tr>\n",
              "      <th>1</th>\n",
              "      <td>` What makes you think Rainbow would entertain...</td>\n",
              "      <td>70</td>\n",
              "      <td>74</td>\n",
              "      <td>Entity_1</td>\n",
              "      <td>likes</td>\n",
              "      <td>[`, What, makes, you, think, Rainbow, would, e...</td>\n",
              "      <td>[O, O, O, O, O, O, O, O, O, O, O, O, O, Entity...</td>\n",
              "    </tr>\n",
              "    <tr>\n",
              "      <th>2</th>\n",
              "      <td>It aims to compete with the likes of BMW and A...</td>\n",
              "      <td>34</td>\n",
              "      <td>48</td>\n",
              "      <td>Entity_2</td>\n",
              "      <td>of BMW and Audi</td>\n",
              "      <td>[It, aims, to, compete, with, the, likes, of, ...</td>\n",
              "      <td>[O, O, O, O, O, O, O, Entity_2, Entity_2, Enti...</td>\n",
              "    </tr>\n",
              "    <tr>\n",
              "      <th>3</th>\n",
              "      <td>It aims to compete with the likes of BMW and A...</td>\n",
              "      <td>28</td>\n",
              "      <td>32</td>\n",
              "      <td>Entity_1</td>\n",
              "      <td>likes</td>\n",
              "      <td>[It, aims, to, compete, with, the, likes, of, ...</td>\n",
              "      <td>[O, O, O, O, O, O, Entity_1, O, O, O, O, O, O,...</td>\n",
              "    </tr>\n",
              "    <tr>\n",
              "      <th>4</th>\n",
              "      <td>They anathematised and expelled the likes of A...</td>\n",
              "      <td>42</td>\n",
              "      <td>89</td>\n",
              "      <td>Entity_2</td>\n",
              "      <td>of Arius , who taught that Jesus was fully human</td>\n",
              "      <td>[They, anathematised, and, expelled, the, like...</td>\n",
              "      <td>[O, O, O, O, O, O, Entity_2, Entity_2, Entity_...</td>\n",
              "    </tr>\n",
              "    <tr>\n",
              "      <th>...</th>\n",
              "      <td>...</td>\n",
              "      <td>...</td>\n",
              "      <td>...</td>\n",
              "      <td>...</td>\n",
              "      <td>...</td>\n",
              "      <td>...</td>\n",
              "      <td>...</td>\n",
              "    </tr>\n",
              "    <tr>\n",
              "      <th>59142</th>\n",
              "      <td>During his four days in Iraq , Hall said he wa...</td>\n",
              "      <td>145</td>\n",
              "      <td>169</td>\n",
              "      <td>Undesirable_event</td>\n",
              "      <td>from chronic malnutrition</td>\n",
              "      <td>[During, his, four, days, in, Iraq, ,, Hall, s...</td>\n",
              "      <td>[O, O, O, O, O, O, O, O, O, O, O, O, O, O, Und...</td>\n",
              "    </tr>\n",
              "    <tr>\n",
              "      <th>59143</th>\n",
              "      <td>During his four days in Iraq , Hall said he wa...</td>\n",
              "      <td>100</td>\n",
              "      <td>126</td>\n",
              "      <td>Patient</td>\n",
              "      <td>a quarter of Iraqi children</td>\n",
              "      <td>[During, his, four, days, in, Iraq, ,, Hall, s...</td>\n",
              "      <td>[O, O, O, O, O, O, O, O, O, O, O, O, O, O, O, ...</td>\n",
              "    </tr>\n",
              "    <tr>\n",
              "      <th>59144</th>\n",
              "      <td>But the many whose lives he had ruined , whose...</td>\n",
              "      <td>80</td>\n",
              "      <td>111</td>\n",
              "      <td>Undesirable_event</td>\n",
              "      <td>torture and death at his hands</td>\n",
              "      <td>[But, the, many, whose, lives, he, had, ruined...</td>\n",
              "      <td>[O, O, O, O, O, O, O, O, O, O, O, Undesirable_...</td>\n",
              "    </tr>\n",
              "    <tr>\n",
              "      <th>59145</th>\n",
              "      <td>But the many whose lives he had ruined , whose...</td>\n",
              "      <td>47</td>\n",
              "      <td>65</td>\n",
              "      <td>Patient</td>\n",
              "      <td>nearest and dearest</td>\n",
              "      <td>[But, the, many, whose, lives, he, had, ruined...</td>\n",
              "      <td>[O, O, O, O, O, O, O, O, O, O, Patient, Patien...</td>\n",
              "    </tr>\n",
              "    <tr>\n",
              "      <th>59146</th>\n",
              "      <td>But the many whose lives he had ruined , whose...</td>\n",
              "      <td>41</td>\n",
              "      <td>45</td>\n",
              "      <td>Patient</td>\n",
              "      <td>whose</td>\n",
              "      <td>[But, the, many, whose, lives, he, had, ruined...</td>\n",
              "      <td>[O, O, O, Patient, O, O, O, O, O, Patient, O, ...</td>\n",
              "    </tr>\n",
              "  </tbody>\n",
              "</table>\n",
              "<p>59147 rows × 7 columns</p>\n",
              "</div>\n",
              "    <div class=\"colab-df-buttons\">\n",
              "\n",
              "  <div class=\"colab-df-container\">\n",
              "    <button class=\"colab-df-convert\" onclick=\"convertToInteractive('df-1c177f6d-c057-4373-a223-6a77462bdfa4')\"\n",
              "            title=\"Convert this dataframe to an interactive table.\"\n",
              "            style=\"display:none;\">\n",
              "\n",
              "  <svg xmlns=\"http://www.w3.org/2000/svg\" height=\"24px\" viewBox=\"0 -960 960 960\">\n",
              "    <path d=\"M120-120v-720h720v720H120Zm60-500h600v-160H180v160Zm220 220h160v-160H400v160Zm0 220h160v-160H400v160ZM180-400h160v-160H180v160Zm440 0h160v-160H620v160ZM180-180h160v-160H180v160Zm440 0h160v-160H620v160Z\"/>\n",
              "  </svg>\n",
              "    </button>\n",
              "\n",
              "  <style>\n",
              "    .colab-df-container {\n",
              "      display:flex;\n",
              "      gap: 12px;\n",
              "    }\n",
              "\n",
              "    .colab-df-convert {\n",
              "      background-color: #E8F0FE;\n",
              "      border: none;\n",
              "      border-radius: 50%;\n",
              "      cursor: pointer;\n",
              "      display: none;\n",
              "      fill: #1967D2;\n",
              "      height: 32px;\n",
              "      padding: 0 0 0 0;\n",
              "      width: 32px;\n",
              "    }\n",
              "\n",
              "    .colab-df-convert:hover {\n",
              "      background-color: #E2EBFA;\n",
              "      box-shadow: 0px 1px 2px rgba(60, 64, 67, 0.3), 0px 1px 3px 1px rgba(60, 64, 67, 0.15);\n",
              "      fill: #174EA6;\n",
              "    }\n",
              "\n",
              "    .colab-df-buttons div {\n",
              "      margin-bottom: 4px;\n",
              "    }\n",
              "\n",
              "    [theme=dark] .colab-df-convert {\n",
              "      background-color: #3B4455;\n",
              "      fill: #D2E3FC;\n",
              "    }\n",
              "\n",
              "    [theme=dark] .colab-df-convert:hover {\n",
              "      background-color: #434B5C;\n",
              "      box-shadow: 0px 1px 3px 1px rgba(0, 0, 0, 0.15);\n",
              "      filter: drop-shadow(0px 1px 2px rgba(0, 0, 0, 0.3));\n",
              "      fill: #FFFFFF;\n",
              "    }\n",
              "  </style>\n",
              "\n",
              "    <script>\n",
              "      const buttonEl =\n",
              "        document.querySelector('#df-1c177f6d-c057-4373-a223-6a77462bdfa4 button.colab-df-convert');\n",
              "      buttonEl.style.display =\n",
              "        google.colab.kernel.accessAllowed ? 'block' : 'none';\n",
              "\n",
              "      async function convertToInteractive(key) {\n",
              "        const element = document.querySelector('#df-1c177f6d-c057-4373-a223-6a77462bdfa4');\n",
              "        const dataTable =\n",
              "          await google.colab.kernel.invokeFunction('convertToInteractive',\n",
              "                                                    [key], {});\n",
              "        if (!dataTable) return;\n",
              "\n",
              "        const docLinkHtml = 'Like what you see? Visit the ' +\n",
              "          '<a target=\"_blank\" href=https://colab.research.google.com/notebooks/data_table.ipynb>data table notebook</a>'\n",
              "          + ' to learn more about interactive tables.';\n",
              "        element.innerHTML = '';\n",
              "        dataTable['output_type'] = 'display_data';\n",
              "        await google.colab.output.renderOutput(dataTable, element);\n",
              "        const docLink = document.createElement('div');\n",
              "        docLink.innerHTML = docLinkHtml;\n",
              "        element.appendChild(docLink);\n",
              "      }\n",
              "    </script>\n",
              "  </div>\n",
              "\n",
              "\n",
              "<div id=\"df-320ab1f1-71bc-4782-8c9c-5527e09b537c\">\n",
              "  <button class=\"colab-df-quickchart\" onclick=\"quickchart('df-320ab1f1-71bc-4782-8c9c-5527e09b537c')\"\n",
              "            title=\"Suggest charts\"\n",
              "            style=\"display:none;\">\n",
              "\n",
              "<svg xmlns=\"http://www.w3.org/2000/svg\" height=\"24px\"viewBox=\"0 0 24 24\"\n",
              "     width=\"24px\">\n",
              "    <g>\n",
              "        <path d=\"M19 3H5c-1.1 0-2 .9-2 2v14c0 1.1.9 2 2 2h14c1.1 0 2-.9 2-2V5c0-1.1-.9-2-2-2zM9 17H7v-7h2v7zm4 0h-2V7h2v10zm4 0h-2v-4h2v4z\"/>\n",
              "    </g>\n",
              "</svg>\n",
              "  </button>\n",
              "\n",
              "<style>\n",
              "  .colab-df-quickchart {\n",
              "      --bg-color: #E8F0FE;\n",
              "      --fill-color: #1967D2;\n",
              "      --hover-bg-color: #E2EBFA;\n",
              "      --hover-fill-color: #174EA6;\n",
              "      --disabled-fill-color: #AAA;\n",
              "      --disabled-bg-color: #DDD;\n",
              "  }\n",
              "\n",
              "  [theme=dark] .colab-df-quickchart {\n",
              "      --bg-color: #3B4455;\n",
              "      --fill-color: #D2E3FC;\n",
              "      --hover-bg-color: #434B5C;\n",
              "      --hover-fill-color: #FFFFFF;\n",
              "      --disabled-bg-color: #3B4455;\n",
              "      --disabled-fill-color: #666;\n",
              "  }\n",
              "\n",
              "  .colab-df-quickchart {\n",
              "    background-color: var(--bg-color);\n",
              "    border: none;\n",
              "    border-radius: 50%;\n",
              "    cursor: pointer;\n",
              "    display: none;\n",
              "    fill: var(--fill-color);\n",
              "    height: 32px;\n",
              "    padding: 0;\n",
              "    width: 32px;\n",
              "  }\n",
              "\n",
              "  .colab-df-quickchart:hover {\n",
              "    background-color: var(--hover-bg-color);\n",
              "    box-shadow: 0 1px 2px rgba(60, 64, 67, 0.3), 0 1px 3px 1px rgba(60, 64, 67, 0.15);\n",
              "    fill: var(--button-hover-fill-color);\n",
              "  }\n",
              "\n",
              "  .colab-df-quickchart-complete:disabled,\n",
              "  .colab-df-quickchart-complete:disabled:hover {\n",
              "    background-color: var(--disabled-bg-color);\n",
              "    fill: var(--disabled-fill-color);\n",
              "    box-shadow: none;\n",
              "  }\n",
              "\n",
              "  .colab-df-spinner {\n",
              "    border: 2px solid var(--fill-color);\n",
              "    border-color: transparent;\n",
              "    border-bottom-color: var(--fill-color);\n",
              "    animation:\n",
              "      spin 1s steps(1) infinite;\n",
              "  }\n",
              "\n",
              "  @keyframes spin {\n",
              "    0% {\n",
              "      border-color: transparent;\n",
              "      border-bottom-color: var(--fill-color);\n",
              "      border-left-color: var(--fill-color);\n",
              "    }\n",
              "    20% {\n",
              "      border-color: transparent;\n",
              "      border-left-color: var(--fill-color);\n",
              "      border-top-color: var(--fill-color);\n",
              "    }\n",
              "    30% {\n",
              "      border-color: transparent;\n",
              "      border-left-color: var(--fill-color);\n",
              "      border-top-color: var(--fill-color);\n",
              "      border-right-color: var(--fill-color);\n",
              "    }\n",
              "    40% {\n",
              "      border-color: transparent;\n",
              "      border-right-color: var(--fill-color);\n",
              "      border-top-color: var(--fill-color);\n",
              "    }\n",
              "    60% {\n",
              "      border-color: transparent;\n",
              "      border-right-color: var(--fill-color);\n",
              "    }\n",
              "    80% {\n",
              "      border-color: transparent;\n",
              "      border-right-color: var(--fill-color);\n",
              "      border-bottom-color: var(--fill-color);\n",
              "    }\n",
              "    90% {\n",
              "      border-color: transparent;\n",
              "      border-bottom-color: var(--fill-color);\n",
              "    }\n",
              "  }\n",
              "</style>\n",
              "\n",
              "  <script>\n",
              "    async function quickchart(key) {\n",
              "      const quickchartButtonEl =\n",
              "        document.querySelector('#' + key + ' button');\n",
              "      quickchartButtonEl.disabled = true;  // To prevent multiple clicks.\n",
              "      quickchartButtonEl.classList.add('colab-df-spinner');\n",
              "      try {\n",
              "        const charts = await google.colab.kernel.invokeFunction(\n",
              "            'suggestCharts', [key], {});\n",
              "      } catch (error) {\n",
              "        console.error('Error during call to suggestCharts:', error);\n",
              "      }\n",
              "      quickchartButtonEl.classList.remove('colab-df-spinner');\n",
              "      quickchartButtonEl.classList.add('colab-df-quickchart-complete');\n",
              "    }\n",
              "    (() => {\n",
              "      let quickchartButtonEl =\n",
              "        document.querySelector('#df-320ab1f1-71bc-4782-8c9c-5527e09b537c button');\n",
              "      quickchartButtonEl.style.display =\n",
              "        google.colab.kernel.accessAllowed ? 'block' : 'none';\n",
              "    })();\n",
              "  </script>\n",
              "</div>\n",
              "    </div>\n",
              "  </div>\n"
            ],
            "text/plain": [
              "                                                Sentence  Start  End  \\\n",
              "0      ` What makes you think Rainbow would entertain...     76   81   \n",
              "1      ` What makes you think Rainbow would entertain...     70   74   \n",
              "2      It aims to compete with the likes of BMW and A...     34   48   \n",
              "3      It aims to compete with the likes of BMW and A...     28   32   \n",
              "4      They anathematised and expelled the likes of A...     42   89   \n",
              "...                                                  ...    ...  ...   \n",
              "59142  During his four days in Iraq , Hall said he wa...    145  169   \n",
              "59143  During his four days in Iraq , Hall said he wa...    100  126   \n",
              "59144  But the many whose lives he had ruined , whose...     80  111   \n",
              "59145  But the many whose lives he had ruined , whose...     47   65   \n",
              "59146  But the many whose lives he had ruined , whose...     41   45   \n",
              "\n",
              "         Annotated Names                                   Extracted Words  \\\n",
              "0               Entity_2                                            of you   \n",
              "1               Entity_1                                             likes   \n",
              "2               Entity_2                                   of BMW and Audi   \n",
              "3               Entity_1                                             likes   \n",
              "4               Entity_2  of Arius , who taught that Jesus was fully human   \n",
              "...                  ...                                               ...   \n",
              "59142  Undesirable_event                         from chronic malnutrition   \n",
              "59143            Patient                       a quarter of Iraqi children   \n",
              "59144  Undesirable_event                    torture and death at his hands   \n",
              "59145            Patient                               nearest and dearest   \n",
              "59146            Patient                                             whose   \n",
              "\n",
              "                                                   words  \\\n",
              "0      [`, What, makes, you, think, Rainbow, would, e...   \n",
              "1      [`, What, makes, you, think, Rainbow, would, e...   \n",
              "2      [It, aims, to, compete, with, the, likes, of, ...   \n",
              "3      [It, aims, to, compete, with, the, likes, of, ...   \n",
              "4      [They, anathematised, and, expelled, the, like...   \n",
              "...                                                  ...   \n",
              "59142  [During, his, four, days, in, Iraq, ,, Hall, s...   \n",
              "59143  [During, his, four, days, in, Iraq, ,, Hall, s...   \n",
              "59144  [But, the, many, whose, lives, he, had, ruined...   \n",
              "59145  [But, the, many, whose, lives, he, had, ruined...   \n",
              "59146  [But, the, many, whose, lives, he, had, ruined...   \n",
              "\n",
              "                                            frameNetTags  \n",
              "0      [O, O, O, Entity_2, O, O, O, O, O, O, O, O, O,...  \n",
              "1      [O, O, O, O, O, O, O, O, O, O, O, O, O, Entity...  \n",
              "2      [O, O, O, O, O, O, O, Entity_2, Entity_2, Enti...  \n",
              "3      [O, O, O, O, O, O, Entity_1, O, O, O, O, O, O,...  \n",
              "4      [O, O, O, O, O, O, Entity_2, Entity_2, Entity_...  \n",
              "...                                                  ...  \n",
              "59142  [O, O, O, O, O, O, O, O, O, O, O, O, O, O, Und...  \n",
              "59143  [O, O, O, O, O, O, O, O, O, O, O, O, O, O, O, ...  \n",
              "59144  [O, O, O, O, O, O, O, O, O, O, O, Undesirable_...  \n",
              "59145  [O, O, O, O, O, O, O, O, O, O, Patient, Patien...  \n",
              "59146  [O, O, O, Patient, O, O, O, O, O, Patient, O, ...  \n",
              "\n",
              "[59147 rows x 7 columns]"
            ]
          },
          "execution_count": 26,
          "metadata": {},
          "output_type": "execute_result"
        }
      ],
      "source": [
        "enfn_df = pd.DataFrame(table, columns=['Sentence', 'Start', 'End', 'Annotated Names', 'Extracted Words'])\n",
        "enfn_df[\"words\"] = enfn_df[\"Sentence\"].apply(lambda sentence: [word.strip() for word in sentence.split(' ')])\n",
        "enfn_df['frameNetTags'] = enfn_df.apply(annotate_sentence, axis=1)\n",
        "enfn_df"
      ]
    },
    {
      "cell_type": "code",
      "execution_count": null,
      "metadata": {
        "id": "u7l-EboaClA9"
      },
      "outputs": [],
      "source": [
        "endf = pd.merge(enpb_df, enfn_df, on='Sentence', how='inner')"
      ]
    },
    {
      "cell_type": "code",
      "execution_count": null,
      "metadata": {
        "id": "-HQxXURNJTB7"
      },
      "outputs": [],
      "source": [
        "persian_df = persian_df.rename(columns={'words': 'Sentence'})\n",
        "df_merged = pd.DataFrame()\n",
        "for i in range(len(persian_df)):\n",
        "    df_merged = pd.concat([df_merged, persian_df.iloc[[i]], endf.iloc[[i]]], ignore_index=True)"
      ]
    },
    {
      "cell_type": "code",
      "execution_count": null,
      "metadata": {
        "colab": {
          "base_uri": "https://localhost:8080/"
        },
        "id": "TmuXWs3NDv1i",
        "outputId": "c3d18c3e-2719-4547-f862-b67f2aa562e2"
      },
      "outputs": [
        {
          "name": "stdout",
          "output_type": "stream",
          "text": [
            "Training set size: 80\n",
            "Validation set size: 10\n",
            "Test set size: 10\n"
          ]
        }
      ],
      "source": [
        "train_data, temp_data = train_test_split(endf, test_size=0.2, random_state=42)\n",
        "validation_data, test_data = train_test_split(temp_data, test_size=0.5, random_state=42)\n",
        "print(\"Training set size:\", len(train_data))\n",
        "print(\"Validation set size:\", len(validation_data))\n",
        "print(\"Test set size:\", len(test_data))\n",
        "train_data.to_csv(\"train_set.csv\", index=False)\n",
        "validation_data.to_csv(\"validation_set.csv\", index=False)\n",
        "test_data.to_csv(\"test_set.csv\", index=False)"
      ]
    },
    {
      "cell_type": "code",
      "execution_count": null,
      "metadata": {
        "colab": {
          "base_uri": "https://localhost:8080/",
          "height": 269,
          "referenced_widgets": [
            "e2ed2743303340b79d1d47fad4d00133",
            "705751738b0d4859b4b36d802b7964c7",
            "faa406aa60f54cbbbebeab258da53c65",
            "f44e0abbcd2a42e3a58f1dc803ee3486",
            "cb47a9efef8b4d69af80dfc2c395d391",
            "71faad43a2f449f5a3903b794073ce1e",
            "c9984a2f2e4548e2b7126e6f81662bf0",
            "0cc4ba9f96b54945a88e0d83d81ad887",
            "89132992338b4073a7e3da0dea1fdfe8",
            "45318ae6312c41bf8ef0460a0f288782",
            "8d1341f1666d4713bef1be344106f1e9",
            "a17be10918844a01b7ccfa3310cbf58f",
            "e48bb52ebfbf40e9a3e9a58fa070f6c5",
            "c8fa847ae8594a74a6ef541574bbd8b9",
            "43283f42f91e4fe29c9c833d86c7ef79",
            "f81183c61080400497d2d2e9acb7867b",
            "a100b6fb3ea04c259f5cd186bb68d87d",
            "89158aaa750443abb1ba6fd146987bf2",
            "0027118caa7242458ead2710ad9ea03d",
            "5ecc34c91742482c92b4b952ffbbe112",
            "9887fbd798534ef98a3b2da9744a0357",
            "12d17a214a8d4b768e4f2fc9a5d51b47",
            "139604f83da1457aa31e79bda2a76d07",
            "d5c67e2583c048ad906939f84635641b",
            "b98c707b26684c91b123e5d2b55db394",
            "93a22f187c7248179cc3feda480d32e9",
            "9b55152d726d4c8799e221e3f90ad882",
            "88fb7b9b952241888a122196aa35d054",
            "a81f85559bf44d509e5dd0409f272610",
            "94791fd4d8784e15b176a703c05b23a1",
            "b69b71d203444641bf04eac5e4f3d979",
            "4ebfebea03984c22804cd33b14fc1b2f",
            "f7bcd5f7caba48be8c58341052c5e657",
            "946b4f9ce3214e65a3059733ef492002",
            "443b4e9c791546d7b91064756d748f66",
            "6495b559bb5f46ea83745d58c3f3db07",
            "1967a678db8f42f181e4969b2fb0c67d",
            "1b21d4a099f748f9981b57663e9a71d8",
            "8de6b0fc33c3416582ba1de9fa8eb32e",
            "76e8a2270c7548fe857ccd854f7f8e63",
            "2565c4949e42425d92de0b18cd5728d7",
            "e1556701013d48e589a14ad35faa7683",
            "068e4ede60b844319a1503443acaa94b",
            "1620854316e6422b9773e1091ef7b494"
          ]
        },
        "id": "TK8CK9ozU-xB",
        "outputId": "439fcbe0-e203-41a6-e786-b2ce15ce4709"
      },
      "outputs": [
        {
          "name": "stderr",
          "output_type": "stream",
          "text": [
            "/usr/local/lib/python3.11/dist-packages/huggingface_hub/utils/_auth.py:94: UserWarning: \n",
            "The secret `HF_TOKEN` does not exist in your Colab secrets.\n",
            "To authenticate with the Hugging Face Hub, create a token in your settings tab (https://huggingface.co/settings/tokens), set it as secret in your Google Colab and restart your session.\n",
            "You will be able to reuse this secret in all of your notebooks.\n",
            "Please note that authentication is recommended but still optional to access public models or datasets.\n",
            "  warnings.warn(\n"
          ]
        },
        {
          "data": {
            "application/vnd.jupyter.widget-view+json": {
              "model_id": "e2ed2743303340b79d1d47fad4d00133",
              "version_major": 2,
              "version_minor": 0
            },
            "text/plain": [
              "tokenizer_config.json:   0%|          | 0.00/48.0 [00:00<?, ?B/s]"
            ]
          },
          "metadata": {},
          "output_type": "display_data"
        },
        {
          "data": {
            "application/vnd.jupyter.widget-view+json": {
              "model_id": "a17be10918844a01b7ccfa3310cbf58f",
              "version_major": 2,
              "version_minor": 0
            },
            "text/plain": [
              "config.json:   0%|          | 0.00/625 [00:00<?, ?B/s]"
            ]
          },
          "metadata": {},
          "output_type": "display_data"
        },
        {
          "data": {
            "application/vnd.jupyter.widget-view+json": {
              "model_id": "139604f83da1457aa31e79bda2a76d07",
              "version_major": 2,
              "version_minor": 0
            },
            "text/plain": [
              "vocab.txt:   0%|          | 0.00/872k [00:00<?, ?B/s]"
            ]
          },
          "metadata": {},
          "output_type": "display_data"
        },
        {
          "data": {
            "application/vnd.jupyter.widget-view+json": {
              "model_id": "946b4f9ce3214e65a3059733ef492002",
              "version_major": 2,
              "version_minor": 0
            },
            "text/plain": [
              "tokenizer.json:   0%|          | 0.00/1.72M [00:00<?, ?B/s]"
            ]
          },
          "metadata": {},
          "output_type": "display_data"
        }
      ],
      "source": [
        "from transformers import AutoTokenizer\n",
        "tokenizer = AutoTokenizer.from_pretrained(\"bert-base-multilingual-uncased\")"
      ]
    },
    {
      "cell_type": "code",
      "execution_count": null,
      "metadata": {
        "colab": {
          "base_uri": "https://localhost:8080/"
        },
        "id": "c3PrqPEW8kcY",
        "outputId": "1b6bdb6a-0202-4047-f16d-a6f8891af847"
      },
      "outputs": [
        {
          "data": {
            "text/plain": [
              "['[CLS]',\n",
              " 'he',\n",
              " 'seemed',\n",
              " 'a',\n",
              " 'pleasant',\n",
              " 'well',\n",
              " 'spoken',\n",
              " 'quiet',\n",
              " 'young',\n",
              " 'man',\n",
              " '.',\n",
              " '[SEP]']"
            ]
          },
          "execution_count": 32,
          "metadata": {},
          "output_type": "execute_result"
        }
      ],
      "source": [
        "tokenized_input = tokenizer(endf['Sentence'][0].split(' '), is_split_into_words=True)\n",
        "tokenizer.convert_ids_to_tokens(tokenized_input[\"input_ids\"])"
      ]
    },
    {
      "cell_type": "code",
      "execution_count": null,
      "metadata": {
        "id": "I5wFomf3ohlE"
      },
      "outputs": [],
      "source": [
        "endf = endf.rename(columns={'predictions' : 'propBankTags'})"
      ]
    },
    {
      "cell_type": "code",
      "execution_count": null,
      "metadata": {
        "id": "1jRbNPH0GSxT"
      },
      "outputs": [],
      "source": [
        "def create_role_id_dictionary():\n",
        "    \"\"\"Creates a dictionary that maps PropBank roles to numerical IDs.\"\"\"\n",
        "    roles = set()\n",
        "    frame_elements = set()\n",
        "    for _, row in endf.iterrows():\n",
        "        prop_str = row['propBankTags']\n",
        "        framenet_str = row['frameNetTags']\n",
        "        roles.update(prop_str)\n",
        "        frame_elements.update(framenet_str)\n",
        "    role_id_dict = defaultdict(int)\n",
        "    frame_id_dict = defaultdict(int)\n",
        "    index = 1\n",
        "    for role in roles:\n",
        "        role_id_dict[role] = index\n",
        "        index += 1\n",
        "    for frame_element in frame_elements:\n",
        "        frame_id_dict[frame_element] = index\n",
        "        index += 1\n",
        "    return role_id_dict, frame_id_dict, roles, frame_elements"
      ]
    },
    {
      "cell_type": "code",
      "execution_count": null,
      "metadata": {
        "colab": {
          "base_uri": "https://localhost:8080/"
        },
        "id": "wlyiZZ-ILuyj",
        "outputId": "3f5576ec-352d-4bc6-dc44-b492a17392d1"
      },
      "outputs": [
        {
          "name": "stdout",
          "output_type": "stream",
          "text": [
            "Role2ID:defaultdict(<class 'int'>, {'AM-TMP': 1, 'AM-PNC': 2, 'O': 3, 'AM-NEG': 4, 'AM-MNR': 5, 'C-A1': 6, 'A1': 7, 'A2': 8, 'B-V': 9, 'R-A1': 10, 'AM-ADV': 11, 'AM-DIS': 12, 'AM-LOC': 13, 'R-A2': 14, 'AM-DIR': 15, 'A0': 16, 'AM-MOD': 17})\n",
            "Frame2ID:defaultdict(<class 'int'>, {'Cause': 18, 'Means': 19, 'Cognizer': 20, 'O': 21, 'Descriptor': 22, 'Agent': 23, 'Group': 24, 'New_member': 25, 'Entity': 26, 'Category': 27, 'Particular_iteration': 28, 'Age': 29, 'Manner': 30, 'Item': 31})\n",
            "Roles:{'AM-TMP', 'AM-PNC', 'O', 'AM-NEG', 'AM-MNR', 'C-A1', 'A1', 'A2', 'B-V', 'R-A1', 'AM-ADV', 'AM-DIS', 'AM-LOC', 'R-A2', 'AM-DIR', 'A0', 'AM-MOD'}\n",
            "Frame Elements:{'Cause', 'Means', 'Cognizer', 'O', 'Descriptor', 'Agent', 'Group', 'New_member', 'Entity', 'Category', 'Particular_iteration', 'Age', 'Manner', 'Item'}\n"
          ]
        }
      ],
      "source": [
        "role2id, frame2id, roles, frame_elements = create_role_id_dictionary()\n",
        "print(\"Role2ID:\" + str(role2id))\n",
        "print(\"Frame2ID:\" + str(frame2id))\n",
        "print(\"Roles:\" + str(roles))\n",
        "print(\"Frame Elements:\" + str(frame_elements))"
      ]
    },
    {
      "cell_type": "code",
      "execution_count": null,
      "metadata": {
        "id": "Hshm12kX8Gy5"
      },
      "outputs": [],
      "source": [
        "role2id, frame2id, roles, frame_elements = create_role_id_dictionary()"
      ]
    },
    {
      "cell_type": "code",
      "execution_count": null,
      "metadata": {
        "id": "4EuIUNXWmex_"
      },
      "outputs": [],
      "source": [
        "endf['propBankTags'] = endf['propBankTags'].apply(lambda label : [role2id[l] for l in label])"
      ]
    },
    {
      "cell_type": "code",
      "execution_count": null,
      "metadata": {
        "id": "oQCDd8yUznhH"
      },
      "outputs": [],
      "source": [
        "def tokenize_and_align_labels(examples):\n",
        "    #tokenized_inputs = tokenizer(examples[\"Sentence\"].split(' '), truncation=True, padding=True, is_split_into_words=True)\n",
        "    #tokenized_inputs = tokenizer(examples[\"Sentence\"], truncation=True, padding=True, is_split_into_words=True)\n",
        "    tokenized_inputs = tokenizer(examples[\"words_x\"], truncation=True, padding=True, is_split_into_words=True)#words_x\n",
        "    #tokenized_inputs = tokenizer(examples[\"Words\"], truncation=True, padding=True, is_split_into_words=False)\n",
        "    labels = []\n",
        "    for i, label in enumerate(examples[f\"propBankTags\"]):\n",
        "        word_ids = tokenized_inputs.word_ids(batch_index=i)\n",
        "        previous_word_idx = None\n",
        "        label_ids = []\n",
        "        for word_idx in word_ids:\n",
        "            if word_idx is None:\n",
        "                label_ids.append(-100)\n",
        "            elif word_idx != previous_word_idx:\n",
        "                label_ids.append(label[word_idx])\n",
        "            else:\n",
        "                label_ids.append(-100)\n",
        "            previous_word_idx = word_idx\n",
        "        labels.append(label_ids)\n",
        "\n",
        "    tokenized_inputs[\"labels\"] = labels\n",
        "    return tokenized_inputs"
      ]
    },
    {
      "cell_type": "code",
      "execution_count": null,
      "metadata": {
        "colab": {
          "base_uri": "https://localhost:8080/",
          "height": 49,
          "referenced_widgets": [
            "4c759b8bec6645fdbfcb24487176443f",
            "6ca172e92dda4df5be58dbac50dacc8f",
            "dd7c9d026df240e2aa760a1391766825",
            "dc1443e34b0348ee9d566013006e03c7",
            "6f230a5b10104436bf3dfdb36a739c9d",
            "7b10c1e0e31a4f348d44172ec52009a5",
            "9065c6fde4cc47be81c0b4b48620a74c",
            "da7db842f15241bcb28f9a5736794b84",
            "04abdfaa744b489a8fe3dfa6cf96781b",
            "3d4f293c3e3b4a09a012a3c67f663ec8",
            "8a2b0291508e4e8dbac03557731020e5"
          ]
        },
        "id": "9CFTLgIl0MbT",
        "outputId": "8c6b8171-b5ea-4767-ffcc-f0861baeb24e"
      },
      "outputs": [
        {
          "data": {
            "application/vnd.jupyter.widget-view+json": {
              "model_id": "4c759b8bec6645fdbfcb24487176443f",
              "version_major": 2,
              "version_minor": 0
            },
            "text/plain": [
              "Map:   0%|          | 0/100 [00:00<?, ? examples/s]"
            ]
          },
          "metadata": {},
          "output_type": "display_data"
        }
      ],
      "source": [
        "from datasets import Dataset\n",
        "dataset = Dataset.from_pandas(endf)\n",
        "tokenized_data = dataset.map(tokenize_and_align_labels, batched=True)"
      ]
    },
    {
      "cell_type": "code",
      "execution_count": null,
      "metadata": {
        "id": "x6V3xKXrnxpv"
      },
      "outputs": [],
      "source": [
        "tokenized_data = tokenized_data.train_test_split(test_size=0.3)"
      ]
    },
    {
      "cell_type": "code",
      "execution_count": null,
      "metadata": {
        "colab": {
          "base_uri": "https://localhost:8080/",
          "height": 49,
          "referenced_widgets": [
            "5a918df29489437ca681e9d44a550020",
            "efc3139fc3c440d38d72c099bdcdbc1c",
            "dcfe9eca05414d43aecc78f09824c679",
            "54037b4d57154bb68b3102ad4f09435b",
            "2ce4ed015c064211bd6ce8694bd0c16a",
            "85d99536995046bead687d93453f3349",
            "35e00c139fda473987e9748a5eef9253",
            "bd8957331a9c4e149b8d7f327b7f99d2",
            "6e28ac807df64a4bad3378daff378573",
            "90b5d8f679264b47a5c7c5e10213a365",
            "b9ec371f9bad457b96466f474e87e44a"
          ]
        },
        "id": "9WOsZoa1zXGU",
        "outputId": "fe199633-e5b3-41e8-af99-1b47b67e24c0"
      },
      "outputs": [
        {
          "data": {
            "application/vnd.jupyter.widget-view+json": {
              "model_id": "5a918df29489437ca681e9d44a550020",
              "version_major": 2,
              "version_minor": 0
            },
            "text/plain": [
              "Downloading builder script:   0%|          | 0.00/6.34k [00:00<?, ?B/s]"
            ]
          },
          "metadata": {},
          "output_type": "display_data"
        }
      ],
      "source": [
        "import evaluate\n",
        "seqeval = evaluate.load(\"seqeval\")"
      ]
    },
    {
      "cell_type": "code",
      "execution_count": null,
      "metadata": {
        "colab": {
          "base_uri": "https://localhost:8080/",
          "height": 49,
          "referenced_widgets": [
            "b38660b4eec54874ac60f5c63701003e",
            "a56d7b1534824a8eb248813ecbc450bc",
            "f26df4460a9e4570b44c83c9b933c8a7",
            "671d5ee30ba3435aa68da5d9a7d1bb83",
            "03b4b6a6e6c647da8ea441990b154c31",
            "3ffccb06bc184ad5b8dfd58e92346f42",
            "429caaa58725480d84f72765ed1ab84c",
            "948f1f5f537b4cbe97beb4921105ea2c",
            "69e40f52ea4842e5b57c8fa9c18269bf",
            "80335f4e16e7457eb323bd202a551698",
            "a5a7f68b0dcc4084b6d4117a353fa4ec"
          ]
        },
        "id": "PvTczx7yz6wE",
        "outputId": "79509daf-b740-4482-cbd7-528d2ba64dd5"
      },
      "outputs": [
        {
          "data": {
            "application/vnd.jupyter.widget-view+json": {
              "model_id": "b38660b4eec54874ac60f5c63701003e",
              "version_major": 2,
              "version_minor": 0
            },
            "text/plain": [
              "Downloading builder script:   0%|          | 0.00/4.20k [00:00<?, ?B/s]"
            ]
          },
          "metadata": {},
          "output_type": "display_data"
        }
      ],
      "source": [
        "accuracy = evaluate.load(\"accuracy\")"
      ]
    },
    {
      "cell_type": "code",
      "execution_count": null,
      "metadata": {
        "id": "EaR1Q3gHyqlY"
      },
      "outputs": [],
      "source": [
        "from transformers import DataCollatorForTokenClassification\n",
        "data_collator = DataCollatorForTokenClassification(tokenizer=tokenizer)"
      ]
    },
    {
      "cell_type": "code",
      "execution_count": null,
      "metadata": {
        "colab": {
          "base_uri": "https://localhost:8080/",
          "height": 104,
          "referenced_widgets": [
            "f276bff0230e46868d696678f869b5ef",
            "9147753b3611426888ea2b81bf20b9c8",
            "dc64fec68d0445b687fe363e885756b2",
            "e6b4980bcc0a4a9cb4b2200716cbc346",
            "abde1e9e8dab497f88a2dbedd10ba80d",
            "a7c9561445dd47a5a6d5c2513639b26b",
            "5bdae65f896a4bd0bab88354b28b13b6",
            "13fde974775945e581192a5a5af26b8c",
            "7ecdab5955a140c89c2fab22feabcaf8",
            "80c29b76d0ad48fdbe759710f7c295ba",
            "d18a1c492bff498fa5a98b75de1dd465"
          ]
        },
        "id": "iHF8Y5I9otVy",
        "outputId": "01bf450d-a05a-4c3e-f41c-732251936696"
      },
      "outputs": [
        {
          "data": {
            "application/vnd.jupyter.widget-view+json": {
              "model_id": "f276bff0230e46868d696678f869b5ef",
              "version_major": 2,
              "version_minor": 0
            },
            "text/plain": [
              "model.safetensors:   0%|          | 0.00/672M [00:00<?, ?B/s]"
            ]
          },
          "metadata": {},
          "output_type": "display_data"
        },
        {
          "name": "stderr",
          "output_type": "stream",
          "text": [
            "Some weights of BertForTokenClassification were not initialized from the model checkpoint at bert-base-multilingual-uncased and are newly initialized: ['classifier.bias', 'classifier.weight']\n",
            "You should probably TRAIN this model on a down-stream task to be able to use it for predictions and inference.\n"
          ]
        }
      ],
      "source": [
        "from transformers import AutoModelForTokenClassification\n",
        "model = AutoModelForTokenClassification.from_pretrained('bert-base-multilingual-uncased', num_labels=len(role2id)+1,ignore_mismatched_sizes=True)"
      ]
    },
    {
      "cell_type": "code",
      "execution_count": null,
      "metadata": {
        "id": "sy_diAZc1qNe"
      },
      "outputs": [],
      "source": [
        "label2id = dict(role2id)"
      ]
    },
    {
      "cell_type": "code",
      "execution_count": null,
      "metadata": {
        "id": "exUhcGciVpDM"
      },
      "outputs": [],
      "source": [
        "id2label = dict((v,k) for k,v in label2id.items())"
      ]
    },
    {
      "cell_type": "code",
      "execution_count": null,
      "metadata": {
        "id": "BAkZc0LQ5cd5"
      },
      "outputs": [],
      "source": [
        "label_list = list(role2id.keys())\n",
        "from sklearn.metrics import classification_report, precision_recall_fscore_support\n",
        "from sklearn.preprocessing import MultiLabelBinarizer\n",
        "\n",
        "from sklearn.metrics import classification_report\n",
        "def compute_metrics(p):\n",
        "    predictions, labels = p\n",
        "    predictions = np.argmax(predictions, axis=2)\n",
        "\n",
        "    true_predictions = [\n",
        "        [id2label[p] for (p, l) in zip(prediction, label) if l != -100]\n",
        "        for prediction, label in zip(predictions, labels)\n",
        "    ]\n",
        "    true_labels = [\n",
        "        [id2label[l] for (p, l) in zip(prediction, label) if l != -100]\n",
        "        for prediction, label in zip(predictions, labels)\n",
        "    ]\n",
        "    true_labels_bin = list(np.concatenate(true_labels))\n",
        "    pred_labels_bin = list(np.concatenate(true_predictions))\n",
        "    print(true_labels_bin)\n",
        "    print(pred_labels_bin)\n",
        "    report = classification_report(true_labels_bin, pred_labels_bin)\n",
        "    metrics = precision_recall_fscore_support(true_labels_bin, pred_labels_bin, average='weighted')\n",
        "    accuracy = metrics[0]\n",
        "    precision = metrics[1]\n",
        "    recall = metrics[2]\n",
        "    f1_score = metrics[3]\n",
        "    return {\n",
        "        \"precision\": precision,\n",
        "        \"recall\": recall,\n",
        "        \"f1\": f1_score,\n",
        "        \"accuracy\": accuracy\n",
        "    }"
      ]
    },
    {
      "cell_type": "code",
      "execution_count": null,
      "metadata": {
        "colab": {
          "base_uri": "https://localhost:8080/"
        },
        "id": "vD9uyLVYGQIa",
        "outputId": "60ea1223-d2f8-4215-c11b-8140d13b58c9"
      },
      "outputs": [
        {
          "name": "stderr",
          "output_type": "stream",
          "text": [
            "/usr/local/lib/python3.11/dist-packages/transformers/training_args.py:1594: FutureWarning: `evaluation_strategy` is deprecated and will be removed in version 4.46 of 🤗 Transformers. Use `eval_strategy` instead\n",
            "  warnings.warn(\n"
          ]
        }
      ],
      "source": [
        "training_args = TrainingArguments(\n",
        "    output_dir=\"bert-token-classification\",\n",
        "    learning_rate=0.1,\n",
        "    per_device_train_batch_size=16,\n",
        "    per_device_eval_batch_size=16,\n",
        "    num_train_epochs=1,\n",
        "    evaluation_strategy=\"epoch\",\n",
        "    weight_decay=0.01,\n",
        "    save_strategy=\"no\",\n",
        "    report_to=None,\n",
        "    #use_cpu=True,\n",
        "    #no_cuda=True,\n",
        "    #load_best_model_at_end=True, # uncomment if you wanna save\n",
        ")"
      ]
    },
    {
      "cell_type": "code",
      "execution_count": null,
      "metadata": {
        "id": "3elmnJlcGQLz"
      },
      "outputs": [],
      "source": [
        "trainer = Trainer(model=model,args=training_args,data_collator=data_collator,train_dataset=tokenized_data['train']  ,eval_dataset=tokenized_data['test'],compute_metrics=compute_metrics,)"
      ]
    },
    {
      "cell_type": "code",
      "execution_count": null,
      "metadata": {
        "id": "cMZRLLdwRuIB"
      },
      "outputs": [],
      "source": [
        "import os\n",
        "os.environ[\"WANDB_DISABLED\"] = \"true\""
      ]
    },
    {
      "cell_type": "code",
      "execution_count": null,
      "metadata": {
        "id": "NZkEIMV7GQqV"
      },
      "outputs": [],
      "source": [
        "trainer.train()"
      ]
    },
    {
      "cell_type": "code",
      "execution_count": null,
      "metadata": {
        "id": "oiRuHuGDRTc8"
      },
      "outputs": [],
      "source": [
        "trainer.evaluate()"
      ]
    }
  ],
  "metadata": {
    "colab": {
      "provenance": []
    },
    "kernelspec": {
      "display_name": "Python 3",
      "name": "python3"
    },
    "language_info": {
      "name": "python"
    }
  },
  "nbformat": 4,
  "nbformat_minor": 0
}