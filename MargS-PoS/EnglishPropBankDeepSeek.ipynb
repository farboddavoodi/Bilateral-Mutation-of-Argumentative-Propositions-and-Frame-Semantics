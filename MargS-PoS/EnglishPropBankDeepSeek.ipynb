{
  "cells": [
    {
      "cell_type": "code",
      "execution_count": null,
      "metadata": {
        "id": "B5HMFUDMv9qL"
      },
      "outputs": [],
      "source": [
        "%%capture\n",
        "!pip install rouge_score"
      ]
    },
    {
      "cell_type": "code",
      "execution_count": null,
      "metadata": {
        "id": "Y8X7a4Cpvxgt"
      },
      "outputs": [],
      "source": [
        "%%capture\n",
        "!pip install evaluate"
      ]
    },
    {
      "cell_type": "code",
      "execution_count": null,
      "metadata": {
        "id": "3iTNZe29yjw7"
      },
      "outputs": [],
      "source": [
        "%%capture\n",
        "!pip install unsloth\n",
        "!pip uninstall unsloth -y && pip install --upgrade --no-cache-dir --no-deps git+https://github.com/unslothai/unsloth.git@nightly git+https://github.com/unslothai/unsloth-zoo.git"
      ]
    },
    {
      "cell_type": "code",
      "execution_count": null,
      "metadata": {
        "id": "C_6Wh7D8Lw8m"
      },
      "outputs": [],
      "source": [
        "%%capture\n",
        "!pip install datasets"
      ]
    },
    {
      "cell_type": "code",
      "execution_count": null,
      "metadata": {
        "id": "NTmu0_PRv9uH"
      },
      "outputs": [],
      "source": [
        "%%capture\n",
        "!pip install -U transformers peft accelerate bitsandbytes"
      ]
    },
    {
      "cell_type": "code",
      "execution_count": null,
      "metadata": {
        "id": "ruFzPMB2y6XJ"
      },
      "outputs": [],
      "source": [
        "%%capture\n",
        "import os\n",
        "if \"COLAB_\" not in \"\".join(os.environ.keys()):\n",
        "    !pip install unsloth\n",
        "else:\n",
        "    !pip install --no-deps bitsandbytes accelerate xformers==0.0.29 peft trl triton\n",
        "    !pip install --no-deps cut_cross_entropy unsloth_zoo\n",
        "    !pip install sentencepiece protobuf datasets huggingface_hub hf_transfer\n",
        "    !pip install --no-deps unsloth"
      ]
    },
    {
      "cell_type": "code",
      "execution_count": null,
      "metadata": {
        "colab": {
          "base_uri": "https://localhost:8080/"
        },
        "id": "qh7irNCFJBzi",
        "outputId": "25144ba9-4141-47b2-b411-60a67dd9d6c7"
      },
      "outputs": [
        {
          "name": "stdout",
          "output_type": "stream",
          "text": [
            "Mounted at /content/drive\n"
          ]
        }
      ],
      "source": [
        "from google.colab import drive\n",
        "drive.mount('/content/drive')"
      ]
    },
    {
      "cell_type": "code",
      "execution_count": null,
      "metadata": {
        "colab": {
          "base_uri": "https://localhost:8080/"
        },
        "id": "ePHE1bKg50yU",
        "outputId": "f85640e2-4785-4a77-c92e-9b969a29aaed"
      },
      "outputs": [
        {
          "name": "stdout",
          "output_type": "stream",
          "text": [
            "['README.md', 'adapter_model.safetensors', 'tokenizer.json', 'tokenizer_config.json', 'adapter_config.json', 'special_tokens_map.json']\n"
          ]
        }
      ],
      "source": [
        "import os\n",
        "lora_path = \"/content/drive/MyDrive/English_SRL_unsloth_Llama-3.2-3B-Instruct-bnb-4bit/lora/\"\n",
        "print(os.listdir(lora_path))"
      ]
    },
    {
      "cell_type": "code",
      "execution_count": null,
      "metadata": {
        "colab": {
          "base_uri": "https://localhost:8080/"
        },
        "id": "7l7szMYFD8AF",
        "outputId": "bbe42592-1b4c-4286-df08-1491cef2eab7"
      },
      "outputs": [
        {
          "name": "stdout",
          "output_type": "stream",
          "text": [
            "🦥 Unsloth: Will patch your computer to enable 2x faster free finetuning.\n"
          ]
        },
        {
          "name": "stderr",
          "output_type": "stream",
          "text": [
            "WARNING:xformers:WARNING[XFORMERS]: xFormers can't load C++/CUDA extensions. xFormers was built for:\n",
            "    PyTorch 2.5.1+cu121 with CUDA 1201 (you have 2.6.0+cu124)\n",
            "    Python  3.11.11 (you have 3.11.11)\n",
            "  Please reinstall xformers (see https://github.com/facebookresearch/xformers#installing-xformers)\n",
            "  Memory-efficient attention, SwiGLU, sparse and more won't be available.\n",
            "  Set XFORMERS_MORE_DETAILS=1 for more details\n"
          ]
        },
        {
          "name": "stdout",
          "output_type": "stream",
          "text": [
            "🦥 Unsloth Zoo will now patch everything to make training faster!\n"
          ]
        }
      ],
      "source": [
        "from unsloth import FastLanguageModel\n",
        "from unsloth import is_bfloat16_supported\n",
        "from trl import SFTTrainer\n",
        "import torch\n",
        "import pandas as pd\n",
        "import ast\n",
        "import torch.nn as nn\n",
        "import torch.nn.functional as F\n",
        "from torch.utils.data import DataLoader\n",
        "from transformers import Trainer, TrainingArguments, BatchEncoding#AdamW, get_linear_schedule_with_warmup"
      ]
    },
    {
      "cell_type": "code",
      "execution_count": null,
      "metadata": {
        "id": "snOJ5yhBQIzx"
      },
      "outputs": [],
      "source": [
        "def framenet_tags(FN_tags):\n",
        "    framenet_pattern = []\n",
        "    for FN_tag in FN_tags:\n",
        "        tag_type = FN_tag.get('tagType')\n",
        "        if tag_type == 5:\n",
        "            element = FN_tag.get('element', {})\n",
        "            element_name = element.get('name', '')\n",
        "            framenet_pattern.append(element_name)\n",
        "        else:\n",
        "            framenet_pattern.append('O')\n",
        "    return framenet_pattern"
      ]
    },
    {
      "cell_type": "code",
      "execution_count": null,
      "metadata": {
        "id": "hpTSULsLubeJ"
      },
      "outputs": [],
      "source": [
        "device = torch.device(\"cuda\")\n",
        "sentences_path = \"/content/drive/MyDrive/sentences.zip\""
      ]
    },
    {
      "cell_type": "code",
      "execution_count": null,
      "metadata": {
        "colab": {
          "base_uri": "https://localhost:8080/"
        },
        "id": "IdzSd3_lbZgM",
        "outputId": "6b26df09-99ac-461c-e896-c2b33f5623a4"
      },
      "outputs": [
        {
          "data": {
            "text/plain": [
              "2304"
            ]
          },
          "execution_count": 12,
          "metadata": {},
          "output_type": "execute_result"
        }
      ],
      "source": [
        "os.system(\"unzip sentences.zip\")"
      ]
    },
    {
      "cell_type": "code",
      "execution_count": null,
      "metadata": {
        "id": "qsRNREQLa5Wp"
      },
      "outputs": [],
      "source": [
        "import zipfile\n",
        "zip_file_path = '/content/drive/My Drive/sentences.zip'\n",
        "with zipfile.ZipFile(zip_file_path, 'r') as zip_ref:\n",
        "    zip_ref.extractall('/content/drive/My Drive/sentences')"
      ]
    },
    {
      "cell_type": "code",
      "execution_count": null,
      "metadata": {
        "id": "1XYJw079WEpT"
      },
      "outputs": [],
      "source": [
        "directory = \"/content/drive/MyDrive/sentences\"\n",
        "dataframes = []\n",
        "for filename in os.listdir(directory):\n",
        "    if filename.endswith(\".json\"):\n",
        "        filepath = os.path.join(directory, filename)\n",
        "        enpb_df = pd.read_json(filepath, lines=True)\n",
        "        dataframes.append(enpb_df)"
      ]
    },
    {
      "cell_type": "code",
      "execution_count": null,
      "metadata": {
        "id": "keOUDa7xWFPx"
      },
      "outputs": [],
      "source": [
        "def read_json_files(root_dir):\n",
        "  dataframes = []\n",
        "  for root, dirs, files in os.walk(root_dir):\n",
        "      for filename in files:\n",
        "          if filename.endswith(\".json\"):\n",
        "              filepath = os.path.join(root, filename)\n",
        "              df = pd.read_json(filepath, lines=True)\n",
        "              dataframes.append(df)\n",
        "  return dataframes\n",
        "dataframes = read_json_files(\"/content/drive/MyDrive/sentences\")"
      ]
    },
    {
      "cell_type": "code",
      "execution_count": null,
      "metadata": {
        "id": "4LgmJT6qs38h"
      },
      "outputs": [],
      "source": [
        "def prepare_token_classification_data(json_data):\n",
        "    all_roles = []\n",
        "    for key, value in json_data.items():\n",
        "        predicate = value['predicate']\n",
        "        roles = value['roles']\n",
        "        verb_index = int(key)\n",
        "        roles[verb_index] = \"B-V\"\n",
        "        roles = ['O' if role == '_' else role for role in roles]\n",
        "        all_roles.append(roles)\n",
        "    return all_roles"
      ]
    },
    {
      "cell_type": "code",
      "execution_count": null,
      "metadata": {
        "id": "iajvjXak3DlM"
      },
      "outputs": [],
      "source": [
        "def create_token_label_dataframe_from_columns(df):\n",
        "    sentence_ids = df[\"sentence_id\"].tolist()\n",
        "    words = df['words'].tolist()\n",
        "    predictions = df['predictions'].tolist()\n",
        "    df_prepared = pd.DataFrame(columns=[\"sentence_id\", \"words\", \"predictions\"])\n",
        "    for i, (sentence_id, word, prediction) in enumerate(zip(sentence_ids, words, predictions)):\n",
        "        for label in prediction:\n",
        "            df_prepared.loc[len(df_prepared)] = [sentence_id, word, label]\n",
        "    return df_prepared"
      ]
    },
    {
      "cell_type": "code",
      "execution_count": null,
      "metadata": {
        "id": "f9J6MquBovp2"
      },
      "outputs": [],
      "source": [
        "enpb_df['predictions'] = enpb_df['predictions'].apply(lambda json_data : prepare_token_classification_data(json_data))"
      ]
    },
    {
      "cell_type": "code",
      "execution_count": null,
      "metadata": {
        "id": "Vo7M027LCHBm"
      },
      "outputs": [],
      "source": [
        "enpb_df = create_token_label_dataframe_from_columns(enpb_df)"
      ]
    },
    {
      "cell_type": "code",
      "execution_count": null,
      "metadata": {
        "id": "PYJixkCaIPz2"
      },
      "outputs": [],
      "source": [
        "enpb_df['Sentence'] = enpb_df['words'].apply(lambda x: ' '.join(x))"
      ]
    },
    {
      "cell_type": "code",
      "execution_count": null,
      "metadata": {
        "colab": {
          "base_uri": "https://localhost:8080/",
          "height": 424
        },
        "id": "auRJ9FJxAS9L",
        "outputId": "ffc1d18c-fae2-4c28-acdc-5a0acb13bd8b"
      },
      "outputs": [
        {
          "data": {
            "application/vnd.google.colaboratory.intrinsic+json": {
              "summary": "{\n  \"name\": \"enpb_df\",\n  \"rows\": 26159,\n  \"fields\": [\n    {\n      \"column\": \"sentence_id\",\n      \"properties\": {\n        \"dtype\": \"number\",\n        \"std\": 2981,\n        \"min\": 0,\n        \"max\": 10261,\n        \"num_unique_values\": 9613,\n        \"samples\": [\n          10144,\n          2141,\n          384\n        ],\n        \"semantic_type\": \"\",\n        \"description\": \"\"\n      }\n    },\n    {\n      \"column\": \"words\",\n      \"properties\": {\n        \"dtype\": \"object\",\n        \"semantic_type\": \"\",\n        \"description\": \"\"\n      }\n    },\n    {\n      \"column\": \"predictions\",\n      \"properties\": {\n        \"dtype\": \"object\",\n        \"semantic_type\": \"\",\n        \"description\": \"\"\n      }\n    },\n    {\n      \"column\": \"Sentence\",\n      \"properties\": {\n        \"dtype\": \"category\",\n        \"num_unique_values\": 9565,\n        \"samples\": [\n          \"The process went so far in Algeria earlier this year that the army cancelled the results of general elections when it became clear that the Islamic Salvation Front would win an overwhelming victory .\",\n          \"They also eat the eggs of birds and other reptiles .\",\n          \"He produced a packet of cigarettes , and lit up .\"\n        ],\n        \"semantic_type\": \"\",\n        \"description\": \"\"\n      }\n    }\n  ]\n}",
              "type": "dataframe",
              "variable_name": "enpb_df"
            },
            "text/html": [
              "\n",
              "  <div id=\"df-c66665b0-0335-4f07-9b45-11fad142bf45\" class=\"colab-df-container\">\n",
              "    <div>\n",
              "<style scoped>\n",
              "    .dataframe tbody tr th:only-of-type {\n",
              "        vertical-align: middle;\n",
              "    }\n",
              "\n",
              "    .dataframe tbody tr th {\n",
              "        vertical-align: top;\n",
              "    }\n",
              "\n",
              "    .dataframe thead th {\n",
              "        text-align: right;\n",
              "    }\n",
              "</style>\n",
              "<table border=\"1\" class=\"dataframe\">\n",
              "  <thead>\n",
              "    <tr style=\"text-align: right;\">\n",
              "      <th></th>\n",
              "      <th>sentence_id</th>\n",
              "      <th>words</th>\n",
              "      <th>predictions</th>\n",
              "      <th>Sentence</th>\n",
              "    </tr>\n",
              "  </thead>\n",
              "  <tbody>\n",
              "    <tr>\n",
              "      <th>0</th>\n",
              "      <td>0</td>\n",
              "      <td>[And, without, more, ado, the, two, officers, ...</td>\n",
              "      <td>[O, AM-MNR, O, O, O, O, A0, B-V, O, A1, A2, O,...</td>\n",
              "      <td>And without more ado the two officers fastened...</td>\n",
              "    </tr>\n",
              "    <tr>\n",
              "      <th>1</th>\n",
              "      <td>0</td>\n",
              "      <td>[And, without, more, ado, the, two, officers, ...</td>\n",
              "      <td>[AM-DIS, AM-MNR, O, O, O, O, A0, O, O, O, O, O...</td>\n",
              "      <td>And without more ado the two officers fastened...</td>\n",
              "    </tr>\n",
              "    <tr>\n",
              "      <th>2</th>\n",
              "      <td>1</td>\n",
              "      <td>[She, would, fasten, the, ring, about, her, ne...</td>\n",
              "      <td>[A0, AM-MOD, B-V, O, A1, A2, O, O, O, O, O, O,...</td>\n",
              "      <td>She would fasten the ring about her neck and w...</td>\n",
              "    </tr>\n",
              "    <tr>\n",
              "      <th>3</th>\n",
              "      <td>1</td>\n",
              "      <td>[She, would, fasten, the, ring, about, her, ne...</td>\n",
              "      <td>[A0, AM-MOD, O, O, O, O, O, O, O, B-V, A1, AM-...</td>\n",
              "      <td>She would fasten the ring about her neck and w...</td>\n",
              "    </tr>\n",
              "    <tr>\n",
              "      <th>4</th>\n",
              "      <td>1</td>\n",
              "      <td>[She, would, fasten, the, ring, about, her, ne...</td>\n",
              "      <td>[O, O, O, O, O, O, O, O, O, O, O, O, O, O, O, ...</td>\n",
              "      <td>She would fasten the ring about her neck and w...</td>\n",
              "    </tr>\n",
              "    <tr>\n",
              "      <th>...</th>\n",
              "      <td>...</td>\n",
              "      <td>...</td>\n",
              "      <td>...</td>\n",
              "      <td>...</td>\n",
              "    </tr>\n",
              "    <tr>\n",
              "      <th>26154</th>\n",
              "      <td>10260</td>\n",
              "      <td>[It, was, after, the, first, snow, and, I, fol...</td>\n",
              "      <td>[O, O, O, O, O, O, O, A0, B-V, O, O, A1, AM-DI...</td>\n",
              "      <td>It was after the first snow and I followed the...</td>\n",
              "    </tr>\n",
              "    <tr>\n",
              "      <th>26155</th>\n",
              "      <td>10260</td>\n",
              "      <td>[It, was, after, the, first, snow, and, I, fol...</td>\n",
              "      <td>[O, O, O, O, O, O, O, A0, O, O, O, O, O, O, O,...</td>\n",
              "      <td>It was after the first snow and I followed the...</td>\n",
              "    </tr>\n",
              "    <tr>\n",
              "      <th>26156</th>\n",
              "      <td>10260</td>\n",
              "      <td>[It, was, after, the, first, snow, and, I, fol...</td>\n",
              "      <td>[O, O, O, O, O, O, O, O, O, O, O, O, O, O, O, ...</td>\n",
              "      <td>It was after the first snow and I followed the...</td>\n",
              "    </tr>\n",
              "    <tr>\n",
              "      <th>26157</th>\n",
              "      <td>10261</td>\n",
              "      <td>[There, was, only, a, handful, of, mourners, a...</td>\n",
              "      <td>[O, B-V, O, O, A1, O, O, O, O, O, O, AM-CAU, O...</td>\n",
              "      <td>There was only a handful of mourners at Gillam...</td>\n",
              "    </tr>\n",
              "    <tr>\n",
              "      <th>26158</th>\n",
              "      <td>10261</td>\n",
              "      <td>[There, was, only, a, handful, of, mourners, a...</td>\n",
              "      <td>[O, O, O, O, O, O, O, O, O, O, O, O, O, A1, O,...</td>\n",
              "      <td>There was only a handful of mourners at Gillam...</td>\n",
              "    </tr>\n",
              "  </tbody>\n",
              "</table>\n",
              "<p>26159 rows × 4 columns</p>\n",
              "</div>\n",
              "    <div class=\"colab-df-buttons\">\n",
              "\n",
              "  <div class=\"colab-df-container\">\n",
              "    <button class=\"colab-df-convert\" onclick=\"convertToInteractive('df-c66665b0-0335-4f07-9b45-11fad142bf45')\"\n",
              "            title=\"Convert this dataframe to an interactive table.\"\n",
              "            style=\"display:none;\">\n",
              "\n",
              "  <svg xmlns=\"http://www.w3.org/2000/svg\" height=\"24px\" viewBox=\"0 -960 960 960\">\n",
              "    <path d=\"M120-120v-720h720v720H120Zm60-500h600v-160H180v160Zm220 220h160v-160H400v160Zm0 220h160v-160H400v160ZM180-400h160v-160H180v160Zm440 0h160v-160H620v160ZM180-180h160v-160H180v160Zm440 0h160v-160H620v160Z\"/>\n",
              "  </svg>\n",
              "    </button>\n",
              "\n",
              "  <style>\n",
              "    .colab-df-container {\n",
              "      display:flex;\n",
              "      gap: 12px;\n",
              "    }\n",
              "\n",
              "    .colab-df-convert {\n",
              "      background-color: #E8F0FE;\n",
              "      border: none;\n",
              "      border-radius: 50%;\n",
              "      cursor: pointer;\n",
              "      display: none;\n",
              "      fill: #1967D2;\n",
              "      height: 32px;\n",
              "      padding: 0 0 0 0;\n",
              "      width: 32px;\n",
              "    }\n",
              "\n",
              "    .colab-df-convert:hover {\n",
              "      background-color: #E2EBFA;\n",
              "      box-shadow: 0px 1px 2px rgba(60, 64, 67, 0.3), 0px 1px 3px 1px rgba(60, 64, 67, 0.15);\n",
              "      fill: #174EA6;\n",
              "    }\n",
              "\n",
              "    .colab-df-buttons div {\n",
              "      margin-bottom: 4px;\n",
              "    }\n",
              "\n",
              "    [theme=dark] .colab-df-convert {\n",
              "      background-color: #3B4455;\n",
              "      fill: #D2E3FC;\n",
              "    }\n",
              "\n",
              "    [theme=dark] .colab-df-convert:hover {\n",
              "      background-color: #434B5C;\n",
              "      box-shadow: 0px 1px 3px 1px rgba(0, 0, 0, 0.15);\n",
              "      filter: drop-shadow(0px 1px 2px rgba(0, 0, 0, 0.3));\n",
              "      fill: #FFFFFF;\n",
              "    }\n",
              "  </style>\n",
              "\n",
              "    <script>\n",
              "      const buttonEl =\n",
              "        document.querySelector('#df-c66665b0-0335-4f07-9b45-11fad142bf45 button.colab-df-convert');\n",
              "      buttonEl.style.display =\n",
              "        google.colab.kernel.accessAllowed ? 'block' : 'none';\n",
              "\n",
              "      async function convertToInteractive(key) {\n",
              "        const element = document.querySelector('#df-c66665b0-0335-4f07-9b45-11fad142bf45');\n",
              "        const dataTable =\n",
              "          await google.colab.kernel.invokeFunction('convertToInteractive',\n",
              "                                                    [key], {});\n",
              "        if (!dataTable) return;\n",
              "\n",
              "        const docLinkHtml = 'Like what you see? Visit the ' +\n",
              "          '<a target=\"_blank\" href=https://colab.research.google.com/notebooks/data_table.ipynb>data table notebook</a>'\n",
              "          + ' to learn more about interactive tables.';\n",
              "        element.innerHTML = '';\n",
              "        dataTable['output_type'] = 'display_data';\n",
              "        await google.colab.output.renderOutput(dataTable, element);\n",
              "        const docLink = document.createElement('div');\n",
              "        docLink.innerHTML = docLinkHtml;\n",
              "        element.appendChild(docLink);\n",
              "      }\n",
              "    </script>\n",
              "  </div>\n",
              "\n",
              "\n",
              "<div id=\"df-b3122904-1b6c-4b73-855f-783d23d616b5\">\n",
              "  <button class=\"colab-df-quickchart\" onclick=\"quickchart('df-b3122904-1b6c-4b73-855f-783d23d616b5')\"\n",
              "            title=\"Suggest charts\"\n",
              "            style=\"display:none;\">\n",
              "\n",
              "<svg xmlns=\"http://www.w3.org/2000/svg\" height=\"24px\"viewBox=\"0 0 24 24\"\n",
              "     width=\"24px\">\n",
              "    <g>\n",
              "        <path d=\"M19 3H5c-1.1 0-2 .9-2 2v14c0 1.1.9 2 2 2h14c1.1 0 2-.9 2-2V5c0-1.1-.9-2-2-2zM9 17H7v-7h2v7zm4 0h-2V7h2v10zm4 0h-2v-4h2v4z\"/>\n",
              "    </g>\n",
              "</svg>\n",
              "  </button>\n",
              "\n",
              "<style>\n",
              "  .colab-df-quickchart {\n",
              "      --bg-color: #E8F0FE;\n",
              "      --fill-color: #1967D2;\n",
              "      --hover-bg-color: #E2EBFA;\n",
              "      --hover-fill-color: #174EA6;\n",
              "      --disabled-fill-color: #AAA;\n",
              "      --disabled-bg-color: #DDD;\n",
              "  }\n",
              "\n",
              "  [theme=dark] .colab-df-quickchart {\n",
              "      --bg-color: #3B4455;\n",
              "      --fill-color: #D2E3FC;\n",
              "      --hover-bg-color: #434B5C;\n",
              "      --hover-fill-color: #FFFFFF;\n",
              "      --disabled-bg-color: #3B4455;\n",
              "      --disabled-fill-color: #666;\n",
              "  }\n",
              "\n",
              "  .colab-df-quickchart {\n",
              "    background-color: var(--bg-color);\n",
              "    border: none;\n",
              "    border-radius: 50%;\n",
              "    cursor: pointer;\n",
              "    display: none;\n",
              "    fill: var(--fill-color);\n",
              "    height: 32px;\n",
              "    padding: 0;\n",
              "    width: 32px;\n",
              "  }\n",
              "\n",
              "  .colab-df-quickchart:hover {\n",
              "    background-color: var(--hover-bg-color);\n",
              "    box-shadow: 0 1px 2px rgba(60, 64, 67, 0.3), 0 1px 3px 1px rgba(60, 64, 67, 0.15);\n",
              "    fill: var(--button-hover-fill-color);\n",
              "  }\n",
              "\n",
              "  .colab-df-quickchart-complete:disabled,\n",
              "  .colab-df-quickchart-complete:disabled:hover {\n",
              "    background-color: var(--disabled-bg-color);\n",
              "    fill: var(--disabled-fill-color);\n",
              "    box-shadow: none;\n",
              "  }\n",
              "\n",
              "  .colab-df-spinner {\n",
              "    border: 2px solid var(--fill-color);\n",
              "    border-color: transparent;\n",
              "    border-bottom-color: var(--fill-color);\n",
              "    animation:\n",
              "      spin 1s steps(1) infinite;\n",
              "  }\n",
              "\n",
              "  @keyframes spin {\n",
              "    0% {\n",
              "      border-color: transparent;\n",
              "      border-bottom-color: var(--fill-color);\n",
              "      border-left-color: var(--fill-color);\n",
              "    }\n",
              "    20% {\n",
              "      border-color: transparent;\n",
              "      border-left-color: var(--fill-color);\n",
              "      border-top-color: var(--fill-color);\n",
              "    }\n",
              "    30% {\n",
              "      border-color: transparent;\n",
              "      border-left-color: var(--fill-color);\n",
              "      border-top-color: var(--fill-color);\n",
              "      border-right-color: var(--fill-color);\n",
              "    }\n",
              "    40% {\n",
              "      border-color: transparent;\n",
              "      border-right-color: var(--fill-color);\n",
              "      border-top-color: var(--fill-color);\n",
              "    }\n",
              "    60% {\n",
              "      border-color: transparent;\n",
              "      border-right-color: var(--fill-color);\n",
              "    }\n",
              "    80% {\n",
              "      border-color: transparent;\n",
              "      border-right-color: var(--fill-color);\n",
              "      border-bottom-color: var(--fill-color);\n",
              "    }\n",
              "    90% {\n",
              "      border-color: transparent;\n",
              "      border-bottom-color: var(--fill-color);\n",
              "    }\n",
              "  }\n",
              "</style>\n",
              "\n",
              "  <script>\n",
              "    async function quickchart(key) {\n",
              "      const quickchartButtonEl =\n",
              "        document.querySelector('#' + key + ' button');\n",
              "      quickchartButtonEl.disabled = true;  // To prevent multiple clicks.\n",
              "      quickchartButtonEl.classList.add('colab-df-spinner');\n",
              "      try {\n",
              "        const charts = await google.colab.kernel.invokeFunction(\n",
              "            'suggestCharts', [key], {});\n",
              "      } catch (error) {\n",
              "        console.error('Error during call to suggestCharts:', error);\n",
              "      }\n",
              "      quickchartButtonEl.classList.remove('colab-df-spinner');\n",
              "      quickchartButtonEl.classList.add('colab-df-quickchart-complete');\n",
              "    }\n",
              "    (() => {\n",
              "      let quickchartButtonEl =\n",
              "        document.querySelector('#df-b3122904-1b6c-4b73-855f-783d23d616b5 button');\n",
              "      quickchartButtonEl.style.display =\n",
              "        google.colab.kernel.accessAllowed ? 'block' : 'none';\n",
              "    })();\n",
              "  </script>\n",
              "</div>\n",
              "\n",
              "  <div id=\"id_fb5cb810-57be-4eab-8e92-53f610aff24d\">\n",
              "    <style>\n",
              "      .colab-df-generate {\n",
              "        background-color: #E8F0FE;\n",
              "        border: none;\n",
              "        border-radius: 50%;\n",
              "        cursor: pointer;\n",
              "        display: none;\n",
              "        fill: #1967D2;\n",
              "        height: 32px;\n",
              "        padding: 0 0 0 0;\n",
              "        width: 32px;\n",
              "      }\n",
              "\n",
              "      .colab-df-generate:hover {\n",
              "        background-color: #E2EBFA;\n",
              "        box-shadow: 0px 1px 2px rgba(60, 64, 67, 0.3), 0px 1px 3px 1px rgba(60, 64, 67, 0.15);\n",
              "        fill: #174EA6;\n",
              "      }\n",
              "\n",
              "      [theme=dark] .colab-df-generate {\n",
              "        background-color: #3B4455;\n",
              "        fill: #D2E3FC;\n",
              "      }\n",
              "\n",
              "      [theme=dark] .colab-df-generate:hover {\n",
              "        background-color: #434B5C;\n",
              "        box-shadow: 0px 1px 3px 1px rgba(0, 0, 0, 0.15);\n",
              "        filter: drop-shadow(0px 1px 2px rgba(0, 0, 0, 0.3));\n",
              "        fill: #FFFFFF;\n",
              "      }\n",
              "    </style>\n",
              "    <button class=\"colab-df-generate\" onclick=\"generateWithVariable('enpb_df')\"\n",
              "            title=\"Generate code using this dataframe.\"\n",
              "            style=\"display:none;\">\n",
              "\n",
              "  <svg xmlns=\"http://www.w3.org/2000/svg\" height=\"24px\"viewBox=\"0 0 24 24\"\n",
              "       width=\"24px\">\n",
              "    <path d=\"M7,19H8.4L18.45,9,17,7.55,7,17.6ZM5,21V16.75L18.45,3.32a2,2,0,0,1,2.83,0l1.4,1.43a1.91,1.91,0,0,1,.58,1.4,1.91,1.91,0,0,1-.58,1.4L9.25,21ZM18.45,9,17,7.55Zm-12,3A5.31,5.31,0,0,0,4.9,8.1,5.31,5.31,0,0,0,1,6.5,5.31,5.31,0,0,0,4.9,4.9,5.31,5.31,0,0,0,6.5,1,5.31,5.31,0,0,0,8.1,4.9,5.31,5.31,0,0,0,12,6.5,5.46,5.46,0,0,0,6.5,12Z\"/>\n",
              "  </svg>\n",
              "    </button>\n",
              "    <script>\n",
              "      (() => {\n",
              "      const buttonEl =\n",
              "        document.querySelector('#id_fb5cb810-57be-4eab-8e92-53f610aff24d button.colab-df-generate');\n",
              "      buttonEl.style.display =\n",
              "        google.colab.kernel.accessAllowed ? 'block' : 'none';\n",
              "\n",
              "      buttonEl.onclick = () => {\n",
              "        google.colab.notebook.generateWithVariable('enpb_df');\n",
              "      }\n",
              "      })();\n",
              "    </script>\n",
              "  </div>\n",
              "\n",
              "    </div>\n",
              "  </div>\n"
            ],
            "text/plain": [
              "       sentence_id                                              words  \\\n",
              "0                0  [And, without, more, ado, the, two, officers, ...   \n",
              "1                0  [And, without, more, ado, the, two, officers, ...   \n",
              "2                1  [She, would, fasten, the, ring, about, her, ne...   \n",
              "3                1  [She, would, fasten, the, ring, about, her, ne...   \n",
              "4                1  [She, would, fasten, the, ring, about, her, ne...   \n",
              "...            ...                                                ...   \n",
              "26154        10260  [It, was, after, the, first, snow, and, I, fol...   \n",
              "26155        10260  [It, was, after, the, first, snow, and, I, fol...   \n",
              "26156        10260  [It, was, after, the, first, snow, and, I, fol...   \n",
              "26157        10261  [There, was, only, a, handful, of, mourners, a...   \n",
              "26158        10261  [There, was, only, a, handful, of, mourners, a...   \n",
              "\n",
              "                                             predictions  \\\n",
              "0      [O, AM-MNR, O, O, O, O, A0, B-V, O, A1, A2, O,...   \n",
              "1      [AM-DIS, AM-MNR, O, O, O, O, A0, O, O, O, O, O...   \n",
              "2      [A0, AM-MOD, B-V, O, A1, A2, O, O, O, O, O, O,...   \n",
              "3      [A0, AM-MOD, O, O, O, O, O, O, O, B-V, A1, AM-...   \n",
              "4      [O, O, O, O, O, O, O, O, O, O, O, O, O, O, O, ...   \n",
              "...                                                  ...   \n",
              "26154  [O, O, O, O, O, O, O, A0, B-V, O, O, A1, AM-DI...   \n",
              "26155  [O, O, O, O, O, O, O, A0, O, O, O, O, O, O, O,...   \n",
              "26156  [O, O, O, O, O, O, O, O, O, O, O, O, O, O, O, ...   \n",
              "26157  [O, B-V, O, O, A1, O, O, O, O, O, O, AM-CAU, O...   \n",
              "26158  [O, O, O, O, O, O, O, O, O, O, O, O, O, A1, O,...   \n",
              "\n",
              "                                                Sentence  \n",
              "0      And without more ado the two officers fastened...  \n",
              "1      And without more ado the two officers fastened...  \n",
              "2      She would fasten the ring about her neck and w...  \n",
              "3      She would fasten the ring about her neck and w...  \n",
              "4      She would fasten the ring about her neck and w...  \n",
              "...                                                  ...  \n",
              "26154  It was after the first snow and I followed the...  \n",
              "26155  It was after the first snow and I followed the...  \n",
              "26156  It was after the first snow and I followed the...  \n",
              "26157  There was only a handful of mourners at Gillam...  \n",
              "26158  There was only a handful of mourners at Gillam...  \n",
              "\n",
              "[26159 rows x 4 columns]"
            ]
          },
          "execution_count": 21,
          "metadata": {},
          "output_type": "execute_result"
        }
      ],
      "source": [
        "enpb_df"
      ]
    },
    {
      "cell_type": "code",
      "execution_count": null,
      "metadata": {
        "id": "YpFYfjBzCOfr"
      },
      "outputs": [],
      "source": [
        "def process_label(label, all_words):\n",
        "    start = label.get('start')\n",
        "    end = label.get('end')\n",
        "    if start is not None or end is not None:\n",
        "        start = int(start)\n",
        "        end = int(end)\n",
        "        accumulated_chars = 0\n",
        "        start_word_index = 0\n",
        "        end_word_index = 0\n",
        "        for i, word in enumerate(all_words):\n",
        "            word_length = len(word)\n",
        "            if accumulated_chars <= start:\n",
        "                start_word_index = i\n",
        "            if accumulated_chars >= end:\n",
        "                end_word_index = i - 1\n",
        "                break\n",
        "            accumulated_chars += word_length + 1\n",
        "        if end_word_index is None:\n",
        "            end_word_index = len(all_words) - 1\n",
        "        extracted_word = ' '.join(all_words[start_word_index:end_word_index + 1])\n",
        "        return start, end, label.get('name'), extracted_word\n",
        "    else:\n",
        "        return None"
      ]
    },
    {
      "cell_type": "code",
      "execution_count": null,
      "metadata": {
        "id": "jCU5q2sPO-cy"
      },
      "outputs": [],
      "source": [
        "def annotate_sentence(df):\n",
        "    sentence = df['Sentence']\n",
        "    words = df['words']\n",
        "    start = df['Start']\n",
        "    end = df['End']\n",
        "    annotation = df['Annotated Names']\n",
        "    annotated_words = df['Extracted Words']\n",
        "    result = []\n",
        "    char_index = 0\n",
        "    for word in words:\n",
        "        label = 'O'\n",
        "        word_start = char_index\n",
        "        word_end = char_index + len(word) - 1\n",
        "        if word in annotated_words.split():\n",
        "            label = annotation\n",
        "        result.append(label)\n",
        "        char_index = word_end + 1\n",
        "    return result"
      ]
    },
    {
      "cell_type": "code",
      "execution_count": null,
      "metadata": {
        "id": "ivlYEnnc0rww"
      },
      "outputs": [],
      "source": [
        "import glob\n",
        "xml_folder_path = '/content/drive/My Drive/framenetdata-1.7/fndata-1.7/lu'\n",
        "xml_files = glob.glob(xml_folder_path + '/*.xml')\n",
        "table = []\n",
        "namespace = {'fn': 'http://framenet.icsi.berkeley.edu'}"
      ]
    },
    {
      "cell_type": "code",
      "execution_count": null,
      "metadata": {
        "colab": {
          "base_uri": "https://localhost:8080/"
        },
        "id": "Ob6_XvjYQ1Uv",
        "outputId": "187030bc-78f1-4281-81fa-b6aeb3bda821"
      },
      "outputs": [
        {
          "name": "stderr",
          "output_type": "stream",
          "text": [
            " 42%|████▏     | 1045/2483 [01:04<00:07, 199.32it/s]"
          ]
        },
        {
          "name": "stdout",
          "output_type": "stream",
          "text": [
            "Error parsing XML file: no element found: line 2, column 0\n",
            "XML file Name:/content/drive/My Drive/framenetdata-1.7/fndata-1.7/lu/lu3973.xml\n"
          ]
        },
        {
          "name": "stderr",
          "output_type": "stream",
          "text": [
            "100%|██████████| 2483/2483 [01:14<00:00, 33.49it/s] \n"
          ]
        }
      ],
      "source": [
        "from tqdm import tqdm\n",
        "from lxml import etree\n",
        "import xml.etree.ElementTree as ET\n",
        "import xml.etree.ElementTree as ETree\n",
        "for filename in tqdm(xml_files):\n",
        "    try:\n",
        "        tree = ET.parse(filename)\n",
        "        root = tree.getroot()\n",
        "        for sentence in root.findall('.//fn:sentence', namespace):\n",
        "            text_element = sentence.find('fn:text', namespace)\n",
        "            if text_element is not None and text_element.text:\n",
        "                all_words = text_element.text.split()\n",
        "                annotation_sets = sentence.findall('.//fn:annotationSet[@status=\"MANUAL\"]', namespace)\n",
        "                for annotation_set in annotation_sets:\n",
        "                    layers = annotation_set.findall('.//fn:layer[@name=\"FE\"]', namespace)\n",
        "                    for layer in layers:\n",
        "                        labels = layer.findall('.//fn:label', namespace)\n",
        "                        for label in labels:\n",
        "                            processed_label = process_label(label, all_words)\n",
        "                            if processed_label is not None:\n",
        "                                table.append((text_element.text,) + processed_label)\n",
        "    except ET.ParseError as e:\n",
        "        print(f\"Error parsing XML file: {e}\")\n",
        "        print(f\"XML file Name:\" + str(filename))"
      ]
    },
    {
      "cell_type": "code",
      "execution_count": null,
      "metadata": {
        "colab": {
          "base_uri": "https://localhost:8080/",
          "height": 597
        },
        "id": "ZvdFweXolSa8",
        "outputId": "a2ab165e-592e-4860-e5b0-8f52ddd4e579"
      },
      "outputs": [
        {
          "data": {
            "application/vnd.google.colaboratory.intrinsic+json": {
              "summary": "{\n  \"name\": \"enfn_df\",\n  \"rows\": 59147,\n  \"fields\": [\n    {\n      \"column\": \"Sentence\",\n      \"properties\": {\n        \"dtype\": \"category\",\n        \"num_unique_values\": 27655,\n        \"samples\": [\n          \"By contrast , European firms will spend $ 150 million this year on electronic security , and are expected to spend $ 1 billion by 1992 .\",\n          \"Dulles also favoured American aid to members of the Baghdad Pact , though without American adherence . \",\n          \"I consulted a lawyer at the Citizens Advice Bureau when I was in Norwich last Friday . \"\n        ],\n        \"semantic_type\": \"\",\n        \"description\": \"\"\n      }\n    },\n    {\n      \"column\": \"Start\",\n      \"properties\": {\n        \"dtype\": \"number\",\n        \"std\": 47,\n        \"min\": 0,\n        \"max\": 722,\n        \"num_unique_values\": 351,\n        \"samples\": [\n          185,\n          361,\n          378\n        ],\n        \"semantic_type\": \"\",\n        \"description\": \"\"\n      }\n    },\n    {\n      \"column\": \"End\",\n      \"properties\": {\n        \"dtype\": \"number\",\n        \"std\": 51,\n        \"min\": 0,\n        \"max\": 751,\n        \"num_unique_values\": 375,\n        \"samples\": [\n          117,\n          255,\n          105\n        ],\n        \"semantic_type\": \"\",\n        \"description\": \"\"\n      }\n    },\n    {\n      \"column\": \"Annotated Names\",\n      \"properties\": {\n        \"dtype\": \"category\",\n        \"num_unique_values\": 744,\n        \"samples\": [\n          \"Context\",\n          \"Arguer1\",\n          \"Resulting_action\"\n        ],\n        \"semantic_type\": \"\",\n        \"description\": \"\"\n      }\n    },\n    {\n      \"column\": \"Extracted Words\",\n      \"properties\": {\n        \"dtype\": \"string\",\n        \"num_unique_values\": 33803,\n        \"samples\": [\n          \"of forthrightness about its possession of P - 2 design drawings and other related research , and information regarding its manufacturing and mechanical testing activities , all of which was omitted from Iran 's 21 October 2003 declaration to the agency\",\n          \"Urquhart\",\n          \"by English women who flung accusations at us\"\n        ],\n        \"semantic_type\": \"\",\n        \"description\": \"\"\n      }\n    },\n    {\n      \"column\": \"words\",\n      \"properties\": {\n        \"dtype\": \"object\",\n        \"semantic_type\": \"\",\n        \"description\": \"\"\n      }\n    },\n    {\n      \"column\": \"frameNetTags\",\n      \"properties\": {\n        \"dtype\": \"object\",\n        \"semantic_type\": \"\",\n        \"description\": \"\"\n      }\n    }\n  ]\n}",
              "type": "dataframe",
              "variable_name": "enfn_df"
            },
            "text/html": [
              "\n",
              "  <div id=\"df-31be46de-91ee-490c-adb3-4addda9d63b3\" class=\"colab-df-container\">\n",
              "    <div>\n",
              "<style scoped>\n",
              "    .dataframe tbody tr th:only-of-type {\n",
              "        vertical-align: middle;\n",
              "    }\n",
              "\n",
              "    .dataframe tbody tr th {\n",
              "        vertical-align: top;\n",
              "    }\n",
              "\n",
              "    .dataframe thead th {\n",
              "        text-align: right;\n",
              "    }\n",
              "</style>\n",
              "<table border=\"1\" class=\"dataframe\">\n",
              "  <thead>\n",
              "    <tr style=\"text-align: right;\">\n",
              "      <th></th>\n",
              "      <th>Sentence</th>\n",
              "      <th>Start</th>\n",
              "      <th>End</th>\n",
              "      <th>Annotated Names</th>\n",
              "      <th>Extracted Words</th>\n",
              "      <th>words</th>\n",
              "      <th>frameNetTags</th>\n",
              "    </tr>\n",
              "  </thead>\n",
              "  <tbody>\n",
              "    <tr>\n",
              "      <th>0</th>\n",
              "      <td>` What makes you think Rainbow would entertain...</td>\n",
              "      <td>76</td>\n",
              "      <td>81</td>\n",
              "      <td>Entity_2</td>\n",
              "      <td>of you</td>\n",
              "      <td>[`, What, makes, you, think, Rainbow, would, e...</td>\n",
              "      <td>[O, O, O, Entity_2, O, O, O, O, O, O, O, O, O,...</td>\n",
              "    </tr>\n",
              "    <tr>\n",
              "      <th>1</th>\n",
              "      <td>` What makes you think Rainbow would entertain...</td>\n",
              "      <td>70</td>\n",
              "      <td>74</td>\n",
              "      <td>Entity_1</td>\n",
              "      <td>likes</td>\n",
              "      <td>[`, What, makes, you, think, Rainbow, would, e...</td>\n",
              "      <td>[O, O, O, O, O, O, O, O, O, O, O, O, O, Entity...</td>\n",
              "    </tr>\n",
              "    <tr>\n",
              "      <th>2</th>\n",
              "      <td>It aims to compete with the likes of BMW and A...</td>\n",
              "      <td>34</td>\n",
              "      <td>48</td>\n",
              "      <td>Entity_2</td>\n",
              "      <td>of BMW and Audi</td>\n",
              "      <td>[It, aims, to, compete, with, the, likes, of, ...</td>\n",
              "      <td>[O, O, O, O, O, O, O, Entity_2, Entity_2, Enti...</td>\n",
              "    </tr>\n",
              "    <tr>\n",
              "      <th>3</th>\n",
              "      <td>It aims to compete with the likes of BMW and A...</td>\n",
              "      <td>28</td>\n",
              "      <td>32</td>\n",
              "      <td>Entity_1</td>\n",
              "      <td>likes</td>\n",
              "      <td>[It, aims, to, compete, with, the, likes, of, ...</td>\n",
              "      <td>[O, O, O, O, O, O, Entity_1, O, O, O, O, O, O,...</td>\n",
              "    </tr>\n",
              "    <tr>\n",
              "      <th>4</th>\n",
              "      <td>They anathematised and expelled the likes of A...</td>\n",
              "      <td>42</td>\n",
              "      <td>89</td>\n",
              "      <td>Entity_2</td>\n",
              "      <td>of Arius , who taught that Jesus was fully human</td>\n",
              "      <td>[They, anathematised, and, expelled, the, like...</td>\n",
              "      <td>[O, O, O, O, O, O, Entity_2, Entity_2, Entity_...</td>\n",
              "    </tr>\n",
              "    <tr>\n",
              "      <th>...</th>\n",
              "      <td>...</td>\n",
              "      <td>...</td>\n",
              "      <td>...</td>\n",
              "      <td>...</td>\n",
              "      <td>...</td>\n",
              "      <td>...</td>\n",
              "      <td>...</td>\n",
              "    </tr>\n",
              "    <tr>\n",
              "      <th>59142</th>\n",
              "      <td>During his four days in Iraq , Hall said he wa...</td>\n",
              "      <td>145</td>\n",
              "      <td>169</td>\n",
              "      <td>Undesirable_event</td>\n",
              "      <td>from chronic malnutrition</td>\n",
              "      <td>[During, his, four, days, in, Iraq, ,, Hall, s...</td>\n",
              "      <td>[O, O, O, O, O, O, O, O, O, O, O, O, O, O, Und...</td>\n",
              "    </tr>\n",
              "    <tr>\n",
              "      <th>59143</th>\n",
              "      <td>During his four days in Iraq , Hall said he wa...</td>\n",
              "      <td>100</td>\n",
              "      <td>126</td>\n",
              "      <td>Patient</td>\n",
              "      <td>a quarter of Iraqi children</td>\n",
              "      <td>[During, his, four, days, in, Iraq, ,, Hall, s...</td>\n",
              "      <td>[O, O, O, O, O, O, O, O, O, O, O, O, O, O, O, ...</td>\n",
              "    </tr>\n",
              "    <tr>\n",
              "      <th>59144</th>\n",
              "      <td>But the many whose lives he had ruined , whose...</td>\n",
              "      <td>80</td>\n",
              "      <td>111</td>\n",
              "      <td>Undesirable_event</td>\n",
              "      <td>torture and death at his hands</td>\n",
              "      <td>[But, the, many, whose, lives, he, had, ruined...</td>\n",
              "      <td>[O, O, O, O, O, O, O, O, O, O, O, Undesirable_...</td>\n",
              "    </tr>\n",
              "    <tr>\n",
              "      <th>59145</th>\n",
              "      <td>But the many whose lives he had ruined , whose...</td>\n",
              "      <td>47</td>\n",
              "      <td>65</td>\n",
              "      <td>Patient</td>\n",
              "      <td>nearest and dearest</td>\n",
              "      <td>[But, the, many, whose, lives, he, had, ruined...</td>\n",
              "      <td>[O, O, O, O, O, O, O, O, O, O, Patient, Patien...</td>\n",
              "    </tr>\n",
              "    <tr>\n",
              "      <th>59146</th>\n",
              "      <td>But the many whose lives he had ruined , whose...</td>\n",
              "      <td>41</td>\n",
              "      <td>45</td>\n",
              "      <td>Patient</td>\n",
              "      <td>whose</td>\n",
              "      <td>[But, the, many, whose, lives, he, had, ruined...</td>\n",
              "      <td>[O, O, O, Patient, O, O, O, O, O, Patient, O, ...</td>\n",
              "    </tr>\n",
              "  </tbody>\n",
              "</table>\n",
              "<p>59147 rows × 7 columns</p>\n",
              "</div>\n",
              "    <div class=\"colab-df-buttons\">\n",
              "\n",
              "  <div class=\"colab-df-container\">\n",
              "    <button class=\"colab-df-convert\" onclick=\"convertToInteractive('df-31be46de-91ee-490c-adb3-4addda9d63b3')\"\n",
              "            title=\"Convert this dataframe to an interactive table.\"\n",
              "            style=\"display:none;\">\n",
              "\n",
              "  <svg xmlns=\"http://www.w3.org/2000/svg\" height=\"24px\" viewBox=\"0 -960 960 960\">\n",
              "    <path d=\"M120-120v-720h720v720H120Zm60-500h600v-160H180v160Zm220 220h160v-160H400v160Zm0 220h160v-160H400v160ZM180-400h160v-160H180v160Zm440 0h160v-160H620v160ZM180-180h160v-160H180v160Zm440 0h160v-160H620v160Z\"/>\n",
              "  </svg>\n",
              "    </button>\n",
              "\n",
              "  <style>\n",
              "    .colab-df-container {\n",
              "      display:flex;\n",
              "      gap: 12px;\n",
              "    }\n",
              "\n",
              "    .colab-df-convert {\n",
              "      background-color: #E8F0FE;\n",
              "      border: none;\n",
              "      border-radius: 50%;\n",
              "      cursor: pointer;\n",
              "      display: none;\n",
              "      fill: #1967D2;\n",
              "      height: 32px;\n",
              "      padding: 0 0 0 0;\n",
              "      width: 32px;\n",
              "    }\n",
              "\n",
              "    .colab-df-convert:hover {\n",
              "      background-color: #E2EBFA;\n",
              "      box-shadow: 0px 1px 2px rgba(60, 64, 67, 0.3), 0px 1px 3px 1px rgba(60, 64, 67, 0.15);\n",
              "      fill: #174EA6;\n",
              "    }\n",
              "\n",
              "    .colab-df-buttons div {\n",
              "      margin-bottom: 4px;\n",
              "    }\n",
              "\n",
              "    [theme=dark] .colab-df-convert {\n",
              "      background-color: #3B4455;\n",
              "      fill: #D2E3FC;\n",
              "    }\n",
              "\n",
              "    [theme=dark] .colab-df-convert:hover {\n",
              "      background-color: #434B5C;\n",
              "      box-shadow: 0px 1px 3px 1px rgba(0, 0, 0, 0.15);\n",
              "      filter: drop-shadow(0px 1px 2px rgba(0, 0, 0, 0.3));\n",
              "      fill: #FFFFFF;\n",
              "    }\n",
              "  </style>\n",
              "\n",
              "    <script>\n",
              "      const buttonEl =\n",
              "        document.querySelector('#df-31be46de-91ee-490c-adb3-4addda9d63b3 button.colab-df-convert');\n",
              "      buttonEl.style.display =\n",
              "        google.colab.kernel.accessAllowed ? 'block' : 'none';\n",
              "\n",
              "      async function convertToInteractive(key) {\n",
              "        const element = document.querySelector('#df-31be46de-91ee-490c-adb3-4addda9d63b3');\n",
              "        const dataTable =\n",
              "          await google.colab.kernel.invokeFunction('convertToInteractive',\n",
              "                                                    [key], {});\n",
              "        if (!dataTable) return;\n",
              "\n",
              "        const docLinkHtml = 'Like what you see? Visit the ' +\n",
              "          '<a target=\"_blank\" href=https://colab.research.google.com/notebooks/data_table.ipynb>data table notebook</a>'\n",
              "          + ' to learn more about interactive tables.';\n",
              "        element.innerHTML = '';\n",
              "        dataTable['output_type'] = 'display_data';\n",
              "        await google.colab.output.renderOutput(dataTable, element);\n",
              "        const docLink = document.createElement('div');\n",
              "        docLink.innerHTML = docLinkHtml;\n",
              "        element.appendChild(docLink);\n",
              "      }\n",
              "    </script>\n",
              "  </div>\n",
              "\n",
              "\n",
              "<div id=\"df-4a5d1472-a262-4048-b157-e95a50d63ede\">\n",
              "  <button class=\"colab-df-quickchart\" onclick=\"quickchart('df-4a5d1472-a262-4048-b157-e95a50d63ede')\"\n",
              "            title=\"Suggest charts\"\n",
              "            style=\"display:none;\">\n",
              "\n",
              "<svg xmlns=\"http://www.w3.org/2000/svg\" height=\"24px\"viewBox=\"0 0 24 24\"\n",
              "     width=\"24px\">\n",
              "    <g>\n",
              "        <path d=\"M19 3H5c-1.1 0-2 .9-2 2v14c0 1.1.9 2 2 2h14c1.1 0 2-.9 2-2V5c0-1.1-.9-2-2-2zM9 17H7v-7h2v7zm4 0h-2V7h2v10zm4 0h-2v-4h2v4z\"/>\n",
              "    </g>\n",
              "</svg>\n",
              "  </button>\n",
              "\n",
              "<style>\n",
              "  .colab-df-quickchart {\n",
              "      --bg-color: #E8F0FE;\n",
              "      --fill-color: #1967D2;\n",
              "      --hover-bg-color: #E2EBFA;\n",
              "      --hover-fill-color: #174EA6;\n",
              "      --disabled-fill-color: #AAA;\n",
              "      --disabled-bg-color: #DDD;\n",
              "  }\n",
              "\n",
              "  [theme=dark] .colab-df-quickchart {\n",
              "      --bg-color: #3B4455;\n",
              "      --fill-color: #D2E3FC;\n",
              "      --hover-bg-color: #434B5C;\n",
              "      --hover-fill-color: #FFFFFF;\n",
              "      --disabled-bg-color: #3B4455;\n",
              "      --disabled-fill-color: #666;\n",
              "  }\n",
              "\n",
              "  .colab-df-quickchart {\n",
              "    background-color: var(--bg-color);\n",
              "    border: none;\n",
              "    border-radius: 50%;\n",
              "    cursor: pointer;\n",
              "    display: none;\n",
              "    fill: var(--fill-color);\n",
              "    height: 32px;\n",
              "    padding: 0;\n",
              "    width: 32px;\n",
              "  }\n",
              "\n",
              "  .colab-df-quickchart:hover {\n",
              "    background-color: var(--hover-bg-color);\n",
              "    box-shadow: 0 1px 2px rgba(60, 64, 67, 0.3), 0 1px 3px 1px rgba(60, 64, 67, 0.15);\n",
              "    fill: var(--button-hover-fill-color);\n",
              "  }\n",
              "\n",
              "  .colab-df-quickchart-complete:disabled,\n",
              "  .colab-df-quickchart-complete:disabled:hover {\n",
              "    background-color: var(--disabled-bg-color);\n",
              "    fill: var(--disabled-fill-color);\n",
              "    box-shadow: none;\n",
              "  }\n",
              "\n",
              "  .colab-df-spinner {\n",
              "    border: 2px solid var(--fill-color);\n",
              "    border-color: transparent;\n",
              "    border-bottom-color: var(--fill-color);\n",
              "    animation:\n",
              "      spin 1s steps(1) infinite;\n",
              "  }\n",
              "\n",
              "  @keyframes spin {\n",
              "    0% {\n",
              "      border-color: transparent;\n",
              "      border-bottom-color: var(--fill-color);\n",
              "      border-left-color: var(--fill-color);\n",
              "    }\n",
              "    20% {\n",
              "      border-color: transparent;\n",
              "      border-left-color: var(--fill-color);\n",
              "      border-top-color: var(--fill-color);\n",
              "    }\n",
              "    30% {\n",
              "      border-color: transparent;\n",
              "      border-left-color: var(--fill-color);\n",
              "      border-top-color: var(--fill-color);\n",
              "      border-right-color: var(--fill-color);\n",
              "    }\n",
              "    40% {\n",
              "      border-color: transparent;\n",
              "      border-right-color: var(--fill-color);\n",
              "      border-top-color: var(--fill-color);\n",
              "    }\n",
              "    60% {\n",
              "      border-color: transparent;\n",
              "      border-right-color: var(--fill-color);\n",
              "    }\n",
              "    80% {\n",
              "      border-color: transparent;\n",
              "      border-right-color: var(--fill-color);\n",
              "      border-bottom-color: var(--fill-color);\n",
              "    }\n",
              "    90% {\n",
              "      border-color: transparent;\n",
              "      border-bottom-color: var(--fill-color);\n",
              "    }\n",
              "  }\n",
              "</style>\n",
              "\n",
              "  <script>\n",
              "    async function quickchart(key) {\n",
              "      const quickchartButtonEl =\n",
              "        document.querySelector('#' + key + ' button');\n",
              "      quickchartButtonEl.disabled = true;  // To prevent multiple clicks.\n",
              "      quickchartButtonEl.classList.add('colab-df-spinner');\n",
              "      try {\n",
              "        const charts = await google.colab.kernel.invokeFunction(\n",
              "            'suggestCharts', [key], {});\n",
              "      } catch (error) {\n",
              "        console.error('Error during call to suggestCharts:', error);\n",
              "      }\n",
              "      quickchartButtonEl.classList.remove('colab-df-spinner');\n",
              "      quickchartButtonEl.classList.add('colab-df-quickchart-complete');\n",
              "    }\n",
              "    (() => {\n",
              "      let quickchartButtonEl =\n",
              "        document.querySelector('#df-4a5d1472-a262-4048-b157-e95a50d63ede button');\n",
              "      quickchartButtonEl.style.display =\n",
              "        google.colab.kernel.accessAllowed ? 'block' : 'none';\n",
              "    })();\n",
              "  </script>\n",
              "</div>\n",
              "\n",
              "  <div id=\"id_783de185-182d-4cd8-95b6-952e022e826e\">\n",
              "    <style>\n",
              "      .colab-df-generate {\n",
              "        background-color: #E8F0FE;\n",
              "        border: none;\n",
              "        border-radius: 50%;\n",
              "        cursor: pointer;\n",
              "        display: none;\n",
              "        fill: #1967D2;\n",
              "        height: 32px;\n",
              "        padding: 0 0 0 0;\n",
              "        width: 32px;\n",
              "      }\n",
              "\n",
              "      .colab-df-generate:hover {\n",
              "        background-color: #E2EBFA;\n",
              "        box-shadow: 0px 1px 2px rgba(60, 64, 67, 0.3), 0px 1px 3px 1px rgba(60, 64, 67, 0.15);\n",
              "        fill: #174EA6;\n",
              "      }\n",
              "\n",
              "      [theme=dark] .colab-df-generate {\n",
              "        background-color: #3B4455;\n",
              "        fill: #D2E3FC;\n",
              "      }\n",
              "\n",
              "      [theme=dark] .colab-df-generate:hover {\n",
              "        background-color: #434B5C;\n",
              "        box-shadow: 0px 1px 3px 1px rgba(0, 0, 0, 0.15);\n",
              "        filter: drop-shadow(0px 1px 2px rgba(0, 0, 0, 0.3));\n",
              "        fill: #FFFFFF;\n",
              "      }\n",
              "    </style>\n",
              "    <button class=\"colab-df-generate\" onclick=\"generateWithVariable('enfn_df')\"\n",
              "            title=\"Generate code using this dataframe.\"\n",
              "            style=\"display:none;\">\n",
              "\n",
              "  <svg xmlns=\"http://www.w3.org/2000/svg\" height=\"24px\"viewBox=\"0 0 24 24\"\n",
              "       width=\"24px\">\n",
              "    <path d=\"M7,19H8.4L18.45,9,17,7.55,7,17.6ZM5,21V16.75L18.45,3.32a2,2,0,0,1,2.83,0l1.4,1.43a1.91,1.91,0,0,1,.58,1.4,1.91,1.91,0,0,1-.58,1.4L9.25,21ZM18.45,9,17,7.55Zm-12,3A5.31,5.31,0,0,0,4.9,8.1,5.31,5.31,0,0,0,1,6.5,5.31,5.31,0,0,0,4.9,4.9,5.31,5.31,0,0,0,6.5,1,5.31,5.31,0,0,0,8.1,4.9,5.31,5.31,0,0,0,12,6.5,5.46,5.46,0,0,0,6.5,12Z\"/>\n",
              "  </svg>\n",
              "    </button>\n",
              "    <script>\n",
              "      (() => {\n",
              "      const buttonEl =\n",
              "        document.querySelector('#id_783de185-182d-4cd8-95b6-952e022e826e button.colab-df-generate');\n",
              "      buttonEl.style.display =\n",
              "        google.colab.kernel.accessAllowed ? 'block' : 'none';\n",
              "\n",
              "      buttonEl.onclick = () => {\n",
              "        google.colab.notebook.generateWithVariable('enfn_df');\n",
              "      }\n",
              "      })();\n",
              "    </script>\n",
              "  </div>\n",
              "\n",
              "    </div>\n",
              "  </div>\n"
            ],
            "text/plain": [
              "                                                Sentence  Start  End  \\\n",
              "0      ` What makes you think Rainbow would entertain...     76   81   \n",
              "1      ` What makes you think Rainbow would entertain...     70   74   \n",
              "2      It aims to compete with the likes of BMW and A...     34   48   \n",
              "3      It aims to compete with the likes of BMW and A...     28   32   \n",
              "4      They anathematised and expelled the likes of A...     42   89   \n",
              "...                                                  ...    ...  ...   \n",
              "59142  During his four days in Iraq , Hall said he wa...    145  169   \n",
              "59143  During his four days in Iraq , Hall said he wa...    100  126   \n",
              "59144  But the many whose lives he had ruined , whose...     80  111   \n",
              "59145  But the many whose lives he had ruined , whose...     47   65   \n",
              "59146  But the many whose lives he had ruined , whose...     41   45   \n",
              "\n",
              "         Annotated Names                                   Extracted Words  \\\n",
              "0               Entity_2                                            of you   \n",
              "1               Entity_1                                             likes   \n",
              "2               Entity_2                                   of BMW and Audi   \n",
              "3               Entity_1                                             likes   \n",
              "4               Entity_2  of Arius , who taught that Jesus was fully human   \n",
              "...                  ...                                               ...   \n",
              "59142  Undesirable_event                         from chronic malnutrition   \n",
              "59143            Patient                       a quarter of Iraqi children   \n",
              "59144  Undesirable_event                    torture and death at his hands   \n",
              "59145            Patient                               nearest and dearest   \n",
              "59146            Patient                                             whose   \n",
              "\n",
              "                                                   words  \\\n",
              "0      [`, What, makes, you, think, Rainbow, would, e...   \n",
              "1      [`, What, makes, you, think, Rainbow, would, e...   \n",
              "2      [It, aims, to, compete, with, the, likes, of, ...   \n",
              "3      [It, aims, to, compete, with, the, likes, of, ...   \n",
              "4      [They, anathematised, and, expelled, the, like...   \n",
              "...                                                  ...   \n",
              "59142  [During, his, four, days, in, Iraq, ,, Hall, s...   \n",
              "59143  [During, his, four, days, in, Iraq, ,, Hall, s...   \n",
              "59144  [But, the, many, whose, lives, he, had, ruined...   \n",
              "59145  [But, the, many, whose, lives, he, had, ruined...   \n",
              "59146  [But, the, many, whose, lives, he, had, ruined...   \n",
              "\n",
              "                                            frameNetTags  \n",
              "0      [O, O, O, Entity_2, O, O, O, O, O, O, O, O, O,...  \n",
              "1      [O, O, O, O, O, O, O, O, O, O, O, O, O, Entity...  \n",
              "2      [O, O, O, O, O, O, O, Entity_2, Entity_2, Enti...  \n",
              "3      [O, O, O, O, O, O, Entity_1, O, O, O, O, O, O,...  \n",
              "4      [O, O, O, O, O, O, Entity_2, Entity_2, Entity_...  \n",
              "...                                                  ...  \n",
              "59142  [O, O, O, O, O, O, O, O, O, O, O, O, O, O, Und...  \n",
              "59143  [O, O, O, O, O, O, O, O, O, O, O, O, O, O, O, ...  \n",
              "59144  [O, O, O, O, O, O, O, O, O, O, O, Undesirable_...  \n",
              "59145  [O, O, O, O, O, O, O, O, O, O, Patient, Patien...  \n",
              "59146  [O, O, O, Patient, O, O, O, O, O, Patient, O, ...  \n",
              "\n",
              "[59147 rows x 7 columns]"
            ]
          },
          "execution_count": 26,
          "metadata": {},
          "output_type": "execute_result"
        }
      ],
      "source": [
        "enfn_df = pd.DataFrame(table, columns=['Sentence', 'Start', 'End', 'Annotated Names', 'Extracted Words'])\n",
        "enfn_df[\"words\"] = enfn_df[\"Sentence\"].apply(lambda sentence: [word.strip() for word in sentence.split(' ')])\n",
        "enfn_df['frameNetTags'] = enfn_df.apply(annotate_sentence, axis=1)\n",
        "enfn_df"
      ]
    },
    {
      "cell_type": "code",
      "execution_count": null,
      "metadata": {
        "id": "u7l-EboaClA9"
      },
      "outputs": [],
      "source": [
        "endf = pd.merge(enpb_df, enfn_df, on='Sentence', how='inner')"
      ]
    },
    {
      "cell_type": "code",
      "execution_count": null,
      "metadata": {
        "id": "hxBX-DqWalq2"
      },
      "outputs": [],
      "source": [
        "enpb_df = enpb_df.rename(columns={'predictions' : 'propBankTags'})"
      ]
    },
    {
      "cell_type": "code",
      "execution_count": null,
      "metadata": {
        "id": "4-UwLI3LckVW"
      },
      "outputs": [],
      "source": [
        "import numpy as np\n",
        "import os\n",
        "import random\n",
        "torch.cuda.empty_cache()\n",
        "seed = 42\n",
        "torch.manual_seed(seed)\n",
        "np.random.seed(seed)\n",
        "random.seed(seed)"
      ]
    },
    {
      "cell_type": "code",
      "execution_count": null,
      "metadata": {
        "id": "Ghf_2UWxcCkd"
      },
      "outputs": [],
      "source": [
        "import datasets\n",
        "from datasets import load_dataset, Dataset\n",
        "from sklearn.model_selection import train_test_split\n",
        "persian_df_tr, persian_df_temp = train_test_split(enpb_df, random_state=seed, test_size=.08)\n",
        "persian_df_val, persian_df_te = train_test_split(persian_df_temp, random_state=seed, test_size=.05)\n",
        "del persian_df_temp\n",
        "persian_df_tr.reset_index(drop=True, inplace=True)\n",
        "persian_df_val.reset_index(drop=True, inplace=True)\n",
        "persian_df_te.reset_index(drop=True, inplace=True)\n",
        "persian_df_tr = Dataset.from_pandas(persian_df_tr)\n",
        "persian_df_val = Dataset.from_pandas(persian_df_val)\n",
        "persian_df_te = Dataset.from_pandas(persian_df_te)"
      ]
    },
    {
      "cell_type": "code",
      "execution_count": null,
      "metadata": {
        "id": "Rw3dKfXadGXZ"
      },
      "outputs": [],
      "source": [
        "prop_prompt_template = \"\"\"<|start_header_id|>system<|end_header_id|>\n",
        "Please generate PropBank roles for the provided text.\n",
        "<|eot_id|><|start_header_id|>user<|end_header_id|>\n",
        "You are an expert in the field of Semantic Role Labeling and lexical resources especially PropBank.\n",
        "You know anything about how to label sentence tokens with PropBank roles.\n",
        "Please use the following text:\"+ {}+\"Here are the propbank roles you have to use for labeling:\" + {}+\"\n",
        "Your task is to generate PropBank roles for the provided text.\n",
        "The output should be a list of roles in a list format. IF a token does not have any role, put 'O'.\n",
        "Make sure that you do NOT use any roles other than the ones I provided in this prompt.\n",
        "<|eot_id|><|start_header_id|>assistant<|end_header_id|>\n",
        "{}\n",
        "\"\"\""
      ]
    },
    {
      "cell_type": "code",
      "execution_count": null,
      "metadata": {
        "colab": {
          "base_uri": "https://localhost:8080/",
          "height": 340,
          "referenced_widgets": [
            "96008d5e0eb64f9695e4ca7a2ffcb7b9",
            "c2a66ad592b644d387a8a1caf5e05dc8",
            "e8ee58da1f20496c9e6ba537117f8631",
            "2e7cfbd647b94b9b96ffb503785a6a66",
            "f1731895eaa644bba4792c3edce1fe42",
            "d5d06506ebc944edafac73dd38eb4dda",
            "ce589722507743069983ba0e4addc7f2",
            "cf9f3bed2fd942dcacc320e6b6d5c17d",
            "2701bb3983054afeb526a425a34fea63",
            "add1f9bc37494348b7fcde629553f6d6",
            "f6144f37e9094d6394d2a8b97d3be8f0",
            "5770f279602148da967a9132e3a595f2",
            "36b8468e8fe4451c8fc614ebb85a8966",
            "96b62bad2db74ecdb6553e0532ee95d5",
            "829ba7aff95f4ae19b171cb6464cdd01",
            "d6c2778701f84294b11471951b233c4c",
            "0f3cf7683c85401db550490a9566fe12",
            "c0420bbdcf5f4c319a444345f7941726",
            "6f48a99cb68f479da4337264949d4bfe",
            "d3bd412697424db28a074624a298228b",
            "2ac0671fd62b47669f9227cde5706fb4",
            "d4250629575f45a48ea60f3415b1f59d",
            "5ba545423f364c8b8aad008738944247",
            "e0e28f7a947844eba90dd06c64379918",
            "97a7417d45644eea8f77ec1ec747da55",
            "42693a9de17140248b012dfe7d00abfb",
            "9ae7bc647d204260a82188ea69619a8f",
            "8221bddf5f2b4e378cd3048c04014a1a",
            "d51c67761fb845688387915e87042582",
            "b42286bbccef4f958fb46263ea36b704",
            "08a252aef3c549d6970c0cae9d93e667",
            "0313792e539e4730b7229483805b3fb6",
            "c61508cea2aa42efbe8b1969d21fd774",
            "dd433fdd8d4e4fcfae7ac2e031025f4b",
            "34e8d6b9aee6432b874228ec2e996d2d",
            "4d76dba9566747c09cd1572cc540e359",
            "51ea6f838a764c5d906624d14a8afaa0",
            "8c96856c4d6f46db9121862b105f2873",
            "cf131568b8cb4f79be1359da106490a7",
            "fd6d8ab9e67d4bb0a7743df5eab52da3",
            "2b3c4575c88443739d314ede0d85f19d",
            "981d7e48229049cc93a8c6294259817d",
            "8a409f6c94f54b3c9440d14e0271e158",
            "dd2de0bd4df048fd884f6cf9948231ac",
            "6cc059549fbe4d9eb6909d58d05745f5",
            "a1041a6f51c5420697f05d46a175754f",
            "5fd598b3642b4e28ae679bf01ac8797f",
            "4455d0268cb74575a3b9a8d22afea2d8",
            "8c386589c2e44c9cb48311dfd41115f5",
            "0b169bfc5aa44020b74e3818b5c411fb",
            "f901048b83ef4c9ca9026c4e956aa004",
            "86f809c69b8048c781e4b977617768c8",
            "462e10590ccc49e989cc880d61ded255",
            "9e77cf8e29b54764bc6af6e9e0d0000d",
            "2e85e4a11e9e4b6c9c396a72ccec3ab9",
            "0227ce284f5b4f9ba30a5c7230975e3f",
            "8b8e77ad7ad44177bcf6cacf9a251839",
            "ed4880a2c27449dc9b9f4ac445db09f8",
            "294301dc692b4cd1943f69222200d4bd",
            "1b1b92901bba4ac9b4c9150411e1ea05",
            "46d020c8625e43b6b318888d6b1bd5f2",
            "d578602263584a83bcd81d7924029f66",
            "0e4f7cf9f3214241b2b9e09e662dcfea",
            "27cc9fc8fcc54ac59f9fed4fb6800417",
            "fc9574b8dff742f2a91cb636571749a4",
            "143447ef09b242e08cfa1fed8dc6372f",
            "0b02ed93678844a9945160a25db622ab",
            "077f680e7ed2437abf8ceb966de6e303",
            "00144d24fd5747d3b88062db6260d274",
            "e0924747747c4ed7a5ab739e39378bbc",
            "7e0563ef577a477795aa022caf33d212",
            "d1b88d2774ea44d8803b21de6cae91be",
            "f62808688335470cb93a81cb227872d5",
            "329a84a197f24f54abd0e392a9a44877",
            "16acca5cf2254ef69e4bf7b6d163c5e2",
            "9f51ba74a6314dea81d7a6139f2878f5",
            "3d9e96ee44f24fb2934152d014044c78",
            "b70244dbb0ee47aaa1065a922a4e6efb",
            "cb722e7db5e34ff5becf1385f6fe4c0b",
            "97bbca5dff454dccbe87ca9700f88a26",
            "0aae0f4e0d2c454c9f005076f1de2dfa",
            "56aae02d8a7d4924b074ad3ed970e8b5",
            "746dbc7579cb4de0a7571ef47b1ce84a",
            "a3b7d2bbc6764a19af2470327b369bab",
            "484db59b7950419db3a6a9bb9c41d4a1",
            "52b112f85c604226ae38ca0ae4f0cf01",
            "0104ed08e9c04cc1bdf2230c2a8af22e",
            "ba27e89096aa400aaa8e29b5cd4928a9",
            "3a85671dd13642e09f6a99e2b7fe8f79",
            "96d28d8c895648cc8320420a87944714",
            "26e064a56c884c74a5c66e42d646ac85",
            "247f97a5588d49a9b50d139d7c302e41",
            "6b3377229e7d41a6a08cdc31b270e0b4",
            "c472eb0fca114543a6baf1ea92cc01d4",
            "28a90841d5e34c4c82e7a63ab5a1ebf5",
            "cdc3ca0e45734822b31aeab9a2b99b1f",
            "94317924b81a4336947db97c66ed4230",
            "7e69e91af21b4370ac13b8a3d96bfcc1",
            "6fcfa2982e144b2dbc33c26e50503deb"
          ]
        },
        "id": "dM2xsAI7D8Dg",
        "outputId": "84403fab-a2fd-4cac-8970-777ebc1d1474"
      },
      "outputs": [
        {
          "data": {
            "application/vnd.jupyter.widget-view+json": {
              "model_id": "96008d5e0eb64f9695e4ca7a2ffcb7b9",
              "version_major": 2,
              "version_minor": 0
            },
            "text/plain": [
              "tokenizer_config.json:   0%|          | 0.00/792 [00:00<?, ?B/s]"
            ]
          },
          "metadata": {},
          "output_type": "display_data"
        },
        {
          "data": {
            "application/vnd.jupyter.widget-view+json": {
              "model_id": "5770f279602148da967a9132e3a595f2",
              "version_major": 2,
              "version_minor": 0
            },
            "text/plain": [
              "tokenizer.json:   0%|          | 0.00/4.61M [00:00<?, ?B/s]"
            ]
          },
          "metadata": {},
          "output_type": "display_data"
        },
        {
          "data": {
            "application/vnd.jupyter.widget-view+json": {
              "model_id": "5ba545423f364c8b8aad008738944247",
              "version_major": 2,
              "version_minor": 0
            },
            "text/plain": [
              "config.json:   0%|          | 0.00/584 [00:00<?, ?B/s]"
            ]
          },
          "metadata": {},
          "output_type": "display_data"
        },
        {
          "data": {
            "application/vnd.jupyter.widget-view+json": {
              "model_id": "dd433fdd8d4e4fcfae7ac2e031025f4b",
              "version_major": 2,
              "version_minor": 0
            },
            "text/plain": [
              "pytorch_model.bin.index.json:   0%|          | 0.00/22.5k [00:00<?, ?B/s]"
            ]
          },
          "metadata": {},
          "output_type": "display_data"
        },
        {
          "data": {
            "application/vnd.jupyter.widget-view+json": {
              "model_id": "6cc059549fbe4d9eb6909d58d05745f5",
              "version_major": 2,
              "version_minor": 0
            },
            "text/plain": [
              "pytorch_model-00001-of-00002.bin:   0%|          | 0.00/9.97G [00:00<?, ?B/s]"
            ]
          },
          "metadata": {},
          "output_type": "display_data"
        },
        {
          "data": {
            "application/vnd.jupyter.widget-view+json": {
              "model_id": "0227ce284f5b4f9ba30a5c7230975e3f",
              "version_major": 2,
              "version_minor": 0
            },
            "text/plain": [
              "model.safetensors.index.json:   0%|          | 0.00/23.6k [00:00<?, ?B/s]"
            ]
          },
          "metadata": {},
          "output_type": "display_data"
        },
        {
          "data": {
            "application/vnd.jupyter.widget-view+json": {
              "model_id": "0b02ed93678844a9945160a25db622ab",
              "version_major": 2,
              "version_minor": 0
            },
            "text/plain": [
              "pytorch_model-00002-of-00002.bin:   0%|          | 0.00/3.85G [00:00<?, ?B/s]"
            ]
          },
          "metadata": {},
          "output_type": "display_data"
        },
        {
          "data": {
            "application/vnd.jupyter.widget-view+json": {
              "model_id": "b70244dbb0ee47aaa1065a922a4e6efb",
              "version_major": 2,
              "version_minor": 0
            },
            "text/plain": [
              "Loading checkpoint shards:   0%|          | 0/2 [00:00<?, ?it/s]"
            ]
          },
          "metadata": {},
          "output_type": "display_data"
        },
        {
          "data": {
            "application/vnd.jupyter.widget-view+json": {
              "model_id": "3a85671dd13642e09f6a99e2b7fe8f79",
              "version_major": 2,
              "version_minor": 0
            },
            "text/plain": [
              "generation_config.json:   0%|          | 0.00/121 [00:00<?, ?B/s]"
            ]
          },
          "metadata": {},
          "output_type": "display_data"
        },
        {
          "name": "stdout",
          "output_type": "stream",
          "text": [
            "trainable params: 3,932,160 || all params: 6,914,297,856 || trainable%: 0.0569\n",
            "✅ DeepSeek LLM Loaded with LoRA and 4-bit Precision!\n"
          ]
        }
      ],
      "source": [
        "from transformers import AutoModelForCausalLM, AutoTokenizer, BitsAndBytesConfig\n",
        "from peft import LoraConfig, get_peft_model\n",
        "model_name = \"deepseek-ai/deepseek-llm-7b-base\"\n",
        "bnb_config = BitsAndBytesConfig(load_in_4bit=True,bnb_4bit_compute_dtype=torch.float16)\n",
        "tokenizer = AutoTokenizer.from_pretrained(model_name)\n",
        "model = AutoModelForCausalLM.from_pretrained(model_name,quantization_config=bnb_config,device_map=\"auto\")\n",
        "lora_config = LoraConfig(r=8,lora_alpha=32,target_modules=[\"q_proj\", \"v_proj\"],lora_dropout=0.05,bias=\"none\")\n",
        "model = get_peft_model(model, lora_config)\n",
        "model.print_trainable_parameters()\n",
        "print(\"✅ DeepSeek LLM Loaded with LoRA and 4-bit Precision!\")"
      ]
    },
    {
      "cell_type": "code",
      "execution_count": null,
      "metadata": {
        "colab": {
          "base_uri": "https://localhost:8080/",
          "height": 252,
          "referenced_widgets": [
            "9ff7110a04dc481cbb7e894ceb05e607",
            "1b660c8e094c4d3f9f7bdf6f81028cda",
            "6d626e5c91fc41278314feff23cbf358",
            "92d63698fcbb43d4848a5221a4624bdf",
            "87181df6c3244e07ad6ba60c9369afb2",
            "e1afaa0aa3ef4bbfb22b4f5e990de771",
            "7d9570fefab5478eaee092b9874eca03",
            "30ec8c338a5347cb9db3510ecff1fb59",
            "dd69dec2bb6f46c09369968b8a63fb74",
            "dae6951d64b042858a3cd402b1e2c9f9",
            "b2f79b033db74bbb99741f5af879104e",
            "06a8796067b846798d62324ee859791d",
            "aae0ed1a6f0b4992a8400180bb5a2a2d",
            "b7030dbdc116441f826331a1f03e8258",
            "2b4d44c0a6cf47ea899baef0462baf9e",
            "965d099f74d44db6b12cc8ec75d9131c",
            "8bd054af15b84bfeae39dfa1eb01bc16",
            "96b1c9d7b5794c63bf2d30fb8173e912",
            "ca976a84d82a4b12b37c8591a9fad647",
            "a85f30e28375414cb7a57f16bb620685",
            "a951e9e1d5a64d2d8bb617c9a6e69d91",
            "176e137203d94eff9b7c72809b41032a",
            "d3953e91893d480395d2c0c6c3d10ccd",
            "a1ac477bd96c4644b6f8b819654cb80f",
            "f440ba07791242bcb7ebd005b15f445c",
            "085457ec161647dab4a4e0793185a82b",
            "98dbe8a29a4941cea26a7425228ee903",
            "0a0c27ef2eb6436091a90af796b9b6ab",
            "68669a40bf70497dba7aec2dba8cf692",
            "944480ca1ead49e8ab835543758afcf2",
            "07a9e3d4436a4d68a6d3be863c7a475a",
            "eec34527bd9f49de8fe6033e235871e4",
            "a575332ef1ae4e01b7d1586fea8d57be"
          ]
        },
        "id": "_MFN4TOXDA8r",
        "outputId": "1dac3b5f-2756-4b80-c568-23d7bfd66ecb"
      },
      "outputs": [
        {
          "name": "stdout",
          "output_type": "stream",
          "text": [
            "==((====))==  Unsloth 2025.3.19: Fast Llama patching. Transformers: 4.50.3.\n",
            "   \\\\   /|    Tesla T4. Num GPUs = 1. Max memory: 14.741 GB. Platform: Linux.\n",
            "O^O/ \\_/ \\    Torch: 2.6.0+cu124. CUDA: 7.5. CUDA Toolkit: 12.4. Triton: 3.2.0\n",
            "\\        /    Bfloat16 = FALSE. FA [Xformers = None. FA2 = False]\n",
            " \"-____-\"     Free license: http://github.com/unslothai/unsloth\n",
            "Unsloth: Fast downloading is enabled - ignore downloading bars which are red colored!\n"
          ]
        },
        {
          "data": {
            "application/vnd.jupyter.widget-view+json": {
              "model_id": "9ff7110a04dc481cbb7e894ceb05e607",
              "version_major": 2,
              "version_minor": 0
            },
            "text/plain": [
              "Loading checkpoint shards:   0%|          | 0/2 [00:00<?, ?it/s]"
            ]
          },
          "metadata": {},
          "output_type": "display_data"
        },
        {
          "data": {
            "application/vnd.jupyter.widget-view+json": {
              "model_id": "06a8796067b846798d62324ee859791d",
              "version_major": 2,
              "version_minor": 0
            },
            "text/plain": [
              "tokenizer_config.json:   0%|          | 0.00/792 [00:00<?, ?B/s]"
            ]
          },
          "metadata": {},
          "output_type": "display_data"
        },
        {
          "data": {
            "application/vnd.jupyter.widget-view+json": {
              "model_id": "d3953e91893d480395d2c0c6c3d10ccd",
              "version_major": 2,
              "version_minor": 0
            },
            "text/plain": [
              "tokenizer.json:   0%|          | 0.00/4.61M [00:00<?, ?B/s]"
            ]
          },
          "metadata": {},
          "output_type": "display_data"
        },
        {
          "name": "stdout",
          "output_type": "stream",
          "text": [
            "deepseek-ai/deepseek-llm-7b-base does not have a padding token! Will use pad_token = <|PAD_TOKEN|>.\n"
          ]
        },
        {
          "name": "stderr",
          "output_type": "stream",
          "text": [
            "Unsloth 2025.3.19 patched 30 layers with 30 QKV layers, 30 O layers and 30 MLP layers.\n"
          ]
        }
      ],
      "source": [
        "from unsloth import FastLanguageModel\n",
        "model, tokenizer = FastLanguageModel.from_pretrained(model_name = model_name, max_seq_length = 2048,dtype = None,load_in_4bit = True,)\n",
        "model = FastLanguageModel.get_peft_model(model,r=16,\n",
        "    target_modules=[\"q_proj\",\"k_proj\",\"v_proj\",\"o_proj\",\"gate_proj\",\"up_proj\",\"down_proj\",],\n",
        "    lora_alpha=16,lora_dropout=0,bias=\"none\",use_gradient_checkpointing=\"unsloth\",random_state=3407,use_rslora=False,loftq_config=None,)"
      ]
    },
    {
      "cell_type": "code",
      "execution_count": null,
      "metadata": {
        "id": "H6FsOt4HOibM"
      },
      "outputs": [],
      "source": [
        "EOS_TOKEN = tokenizer.eos_token\n",
        "def formatting_prompts_function(examples):\n",
        "    words = examples[\"Sentence\"]\n",
        "    props = examples[\"propBankTags\"]\n",
        "    texts = []\n",
        "    for word, prop in zip(words, props):\n",
        "        text = prop_prompt_template.format(word, str(prop_roles), prop) + EOS_TOKEN\n",
        "        texts.append(text)\n",
        "    return tokenizer(examples[\"Sentence\"],padding=True,truncation=True,return_tensors=\"pt\")"
      ]
    },
    {
      "cell_type": "code",
      "execution_count": null,
      "metadata": {
        "id": "JfTmhsBtdU0e"
      },
      "outputs": [],
      "source": [
        "prop_roles = set()\n",
        "for _, row in enpb_df.iterrows():\n",
        "    prop_str = ast.literal_eval(str(row['propBankTags']))\n",
        "    prop_roles.update(prop_str)\n",
        "prop_roles = list(prop_roles)"
      ]
    },
    {
      "cell_type": "code",
      "execution_count": null,
      "metadata": {
        "colab": {
          "base_uri": "https://localhost:8080/",
          "height": 113,
          "referenced_widgets": [
            "d867b7f8bbc848b3afd1f0b092122794",
            "8db163caa71d4976aae21525102118e5",
            "b7bdfa5a09b44331953ffd7f43f2bcc5",
            "6bd616443fb14cd5832d00a82b020dc4",
            "78c051f80d184b3abca56b938c7bf9c6",
            "c3983a4783ed4cf5a7dcf7c17558a083",
            "30b2d2fcde414769b1a6c2977b9ee965",
            "841ce81d8ce148079c0de7ff4d592426",
            "c39a02e7058d4770a9fd03a38b168b4e",
            "9942f41c7a3743398e055910468c968c",
            "1bf245e7ae7f4f248d08c47c729c814d",
            "b5253b6728824142a0c6c8b36a42ac05",
            "0561de0c3b4640a4a9b638c6b267bb1c",
            "30faed2589404c8eb5a7f97736632911",
            "27fcac6faac84e47b2e0d2641b2ad029",
            "774484592bf34689b3fae069e516c0b8",
            "753d1fe04f3b43a7b08d87f7cef75dce",
            "64bd161c2a90418783ed2269eea52e44",
            "a11bb8b53041465db2b5bd4a3257332d",
            "d40e0c8244814db7a010706945cc0ed2",
            "d7132a6c634043679c8b0b882a25129b",
            "f98b22f1d28d4ede8866f71857d50a7e",
            "b2409d23b38f491586802874b08a4aeb",
            "4e31f48252534fac8905cbe6854f7275",
            "763a6c74c64f4c0f90ad37fb907b7786",
            "d7f623e7819741cea988a07f07687670",
            "a01558595b9145e5b05aeea01762c1f8",
            "ef2a41c8a95f4f1eb8b3b493b374ff18",
            "55db4ee734f14aa5a1f908e15924fd65",
            "831820a70ad14ae78c7c5929b2d19ebe",
            "a2a19e36d8a243bd9d7c3fb813392ccf",
            "2aff8101f46a41a2b8c4175020208462",
            "0dd9430db826494dbef4c74b1b41efca"
          ]
        },
        "id": "frNuhGSDb28v",
        "outputId": "e9293814-4bf2-4ad8-ff2e-8d6a11ee5434"
      },
      "outputs": [
        {
          "data": {
            "application/vnd.jupyter.widget-view+json": {
              "model_id": "d867b7f8bbc848b3afd1f0b092122794",
              "version_major": 2,
              "version_minor": 0
            },
            "text/plain": [
              "Map:   0%|          | 0/92 [00:00<?, ? examples/s]"
            ]
          },
          "metadata": {},
          "output_type": "display_data"
        },
        {
          "data": {
            "application/vnd.jupyter.widget-view+json": {
              "model_id": "b5253b6728824142a0c6c8b36a42ac05",
              "version_major": 2,
              "version_minor": 0
            },
            "text/plain": [
              "Map:   0%|          | 0/7 [00:00<?, ? examples/s]"
            ]
          },
          "metadata": {},
          "output_type": "display_data"
        },
        {
          "data": {
            "application/vnd.jupyter.widget-view+json": {
              "model_id": "b2409d23b38f491586802874b08a4aeb",
              "version_major": 2,
              "version_minor": 0
            },
            "text/plain": [
              "Map:   0%|          | 0/1 [00:00<?, ? examples/s]"
            ]
          },
          "metadata": {},
          "output_type": "display_data"
        }
      ],
      "source": [
        "main_dataset = persian_df_tr.map(formatting_prompts_function, remove_columns=persian_df_tr.column_names, batched=True)#, num_proc=1\n",
        "eval_dataset = persian_df_val.map(formatting_prompts_function, remove_columns=persian_df_val.column_names, batched=True)\n",
        "test_dataset = persian_df_te.map(formatting_prompts_function, remove_columns=persian_df_te.column_names, batched=True)\n",
        "\n",
        "main_dataset = main_dataset.shuffle(seed=seed)\n",
        "eval_dataset = eval_dataset.shuffle(seed=seed)\n",
        "test_dataset = test_dataset.shuffle(seed=seed)"
      ]
    },
    {
      "cell_type": "code",
      "execution_count": null,
      "metadata": {
        "colab": {
          "base_uri": "https://localhost:8080/"
        },
        "id": "GaFAUNippYMp",
        "outputId": "228c3e8a-f60b-4c37-c5d1-71c98847a87d"
      },
      "outputs": [
        {
          "name": "stdout",
          "output_type": "stream",
          "text": [
            "/bin/bash: line 1: os.environ[CUDA_VISIBLE_DEVICES]: command not found\n"
          ]
        }
      ],
      "source": [
        "!os.environ['CUDA_VISIBLE_DEVICES'] ='0'"
      ]
    },
    {
      "cell_type": "code",
      "execution_count": null,
      "metadata": {
        "id": "VQvF9J1ZvS7Z"
      },
      "outputs": [],
      "source": [
        "from sklearn.metrics import accuracy_score, precision_score, recall_score, f1_score\n",
        "from evaluate import load\n",
        "import numpy as np\n",
        "import math\n",
        "import torch\n",
        "import torch.nn.functional as F\n",
        "\n",
        "def compute_metrics(eval_pred):\n",
        "    logits, labels = eval_pred\n",
        "    predictions = logits.argmax(axis=-1)\n",
        "    labels = torch.tensor(labels, dtype=torch.int32)\n",
        "    print(\"Predictions:\", predictions.shape)\n",
        "    print(\"Labels:\", labels.shape)\n",
        "    results = {}\n",
        "    def compute_token_accuracy(predicted_ids, label_ids):\n",
        "        total_tokens = 0\n",
        "        correct_tokens = 0\n",
        "        for pred, ref in zip(predicted_ids, label_ids):\n",
        "            for p_token, r_token in zip(pred, ref):\n",
        "                if r_token != -100:\n",
        "                    total_tokens += 1\n",
        "                    if p_token == r_token:\n",
        "                        correct_tokens += 1\n",
        "        return (correct_tokens / total_tokens) * 100 if total_tokens > 0 else 0.0\n",
        "    if labels is not None:\n",
        "        logits_tensor = torch.tensor(logits, dtype=torch.float32)\n",
        "        labels_tensor = torch.tensor(labels, dtype=torch.long)\n",
        "        per_sample_losses = []\n",
        "        for sample_logits, sample_labels in zip(logits_tensor, labels_tensor):\n",
        "            loss = F.cross_entropy(sample_logits.view(-1, sample_logits.size(-1)),sample_labels.view(-1),reduction=\"none\")\n",
        "            per_sample_loss = loss.view(sample_labels.size(0), -1).mean(dim=1).mean().item()\n",
        "            per_sample_losses.append(per_sample_loss)\n",
        "        results[\"manual_eval_loss\"] = sum(per_sample_losses) / len(per_sample_losses)\n",
        "        results[\"perplexity\"] = math.exp(results[\"manual_eval_loss\"])\n",
        "        results[\"loss_per_sample\"] = per_sample_losses\n",
        "\n",
        "    # 2. Token-Level Metrics\n",
        "    if labels is not None:\n",
        "        flattened_preds = []\n",
        "        flattened_labels = []\n",
        "        for pred, label in zip(predictions, labels):\n",
        "            for p_token, l_token in zip(pred, label):\n",
        "                if l_token != -100:\n",
        "                    flattened_preds.append(p_token)\n",
        "                    flattened_labels.append(l_token)\n",
        "\n",
        "        if flattened_labels and flattened_preds:\n",
        "            results[\"accuracy_score\"] = accuracy_score(flattened_labels, flattened_preds)\n",
        "            results[\"token_accuracy\"] = compute_token_accuracy(predictions, labels)\n",
        "            results[\"precision\"] = precision_score(flattened_labels, flattened_preds, average=\"macro\")\n",
        "            results[\"recall\"] = recall_score(flattened_labels, flattened_preds, average=\"macro\")\n",
        "            results[\"f1\"] = f1_score(flattened_labels, flattened_preds, average=\"macro\")\n",
        "  return results"
      ]
    },
    {
      "cell_type": "code",
      "execution_count": null,
      "metadata": {
        "id": "s8AJb-Yayxec"
      },
      "outputs": [],
      "source": [
        "trainer = SFTTrainer(\n",
        "    model=model,\n",
        "    tokenizer=tokenizer,\n",
        "    train_dataset=main_dataset,\n",
        "    eval_dataset=eval_dataset,\n",
        "    dataset_text_field=\"text\",\n",
        "    dataset_num_proc=2,\n",
        "    packing=False,\n",
        "    args=TrainingArguments(\n",
        "        per_device_train_batch_size=6,\n",
        "        gradient_accumulation_steps=4,\n",
        "        warmup_steps=5,\n",
        "        num_train_epochs=1,\n",
        "        learning_rate=2e-4,\n",
        "        fp16 = not is_bfloat16_supported(),\n",
        "        bf16 = is_bfloat16_supported(),\n",
        "        optim=\"adamw_8bit\",\n",
        "        weight_decay=0.01,\n",
        "        lr_scheduler_type=\"linear\",\n",
        "        seed=3407,\n",
        "        logging_strategy=\"steps\",\n",
        "        logging_steps=1,\n",
        "    ),\n",
        "    compute_metrics=compute_metrics,\n",
        ")"
      ]
    },
    {
      "cell_type": "code",
      "execution_count": null,
      "metadata": {
        "id": "LYiFdWXnarrk"
      },
      "outputs": [],
      "source": [
        "trainer.train()"
      ]
    },
    {
      "cell_type": "code",
      "execution_count": null,
      "metadata": {
        "id": "H_zHKpZb3KzN"
      },
      "outputs": [],
      "source": [
        "eval_results = trainer.evaluate()\n",
        "print(eval_results)"
      ]
    }
  ],
  "metadata": {
    "accelerator": "GPU",
    "colab": {
      "gpuType": "T4",
      "provenance": []
    },
    "kernelspec": {
      "display_name": "Python 3",
      "name": "python3"
    },
    "language_info": {
      "name": "python"
    }
  },
  "nbformat": 4,
  "nbformat_minor": 0
}