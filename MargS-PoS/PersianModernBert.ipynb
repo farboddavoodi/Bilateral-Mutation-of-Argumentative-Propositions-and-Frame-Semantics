{
  "cells": [
    {
      "cell_type": "code",
      "execution_count": null,
      "metadata": {
        "id": "KiLbeeAAWqam"
      },
      "outputs": [],
      "source": [
        "%%capture\n",
        "!pip install --upgrade transformers"
      ]
    },
    {
      "cell_type": "code",
      "execution_count": null,
      "metadata": {
        "id": "_rGUJMwQiRcS"
      },
      "outputs": [],
      "source": [
        "%%capture\n",
        "!pip install datasets"
      ]
    },
    {
      "cell_type": "code",
      "execution_count": null,
      "metadata": {
        "id": "-0Q3QjWmL0YQ"
      },
      "outputs": [],
      "source": [
        "%%capture\n",
        "!pip install accelerate -U"
      ]
    },
    {
      "cell_type": "code",
      "execution_count": null,
      "metadata": {
        "id": "l4Yh5_heJ42u"
      },
      "outputs": [],
      "source": [
        "%%capture\n",
        "!pip install evaluate"
      ]
    },
    {
      "cell_type": "code",
      "execution_count": null,
      "metadata": {
        "id": "Ni2eEZi4KX11"
      },
      "outputs": [],
      "source": [
        "%%capture\n",
        "!pip install seqeval"
      ]
    },
    {
      "cell_type": "code",
      "execution_count": null,
      "metadata": {
        "id": "dcK5IOCUN_0t"
      },
      "outputs": [],
      "source": [
        "%%capture\n",
        "!pip install scikit-learn"
      ]
    },
    {
      "cell_type": "code",
      "execution_count": null,
      "metadata": {
        "id": "AXMGsh7HanSo"
      },
      "outputs": [],
      "source": [
        "%%capture\n",
        "!pip install matplotlib"
      ]
    },
    {
      "cell_type": "code",
      "execution_count": null,
      "metadata": {
        "id": "jFgdEvC2Scw8"
      },
      "outputs": [],
      "source": [
        "%%capture\n",
        "!pip install sklearn"
      ]
    },
    {
      "cell_type": "code",
      "execution_count": null,
      "metadata": {
        "id": "tU9gaz6P9o3e"
      },
      "outputs": [],
      "source": [
        "from google.colab import drive\n",
        "import torch\n",
        "import pandas as pd\n",
        "import evaluate\n",
        "import matplotlib.pyplot as plt\n",
        "import os\n",
        "import numpy as np\n",
        "from sklearn.model_selection import train_test_split\n",
        "from tokenizers import Encoding\n",
        "from collections import defaultdict\n",
        "from torch.utils.data import Dataset, DataLoader\n",
        "from transformers import BertTokenizer, BertForTokenClassification, AdamW, get_linear_schedule_with_warmup, Trainer, TrainingArguments,  BatchEncoding"
      ]
    },
    {
      "cell_type": "code",
      "execution_count": null,
      "metadata": {
        "colab": {
          "base_uri": "https://localhost:8080/"
        },
        "id": "zyWbDeNeNMpf",
        "outputId": "9b66be86-f4e6-4fe0-fe09-feb0c238eac5"
      },
      "outputs": [
        {
          "name": "stdout",
          "output_type": "stream",
          "text": [
            "Mounted at /content/drive\n"
          ]
        }
      ],
      "source": [
        "drive.mount('/content/drive')"
      ]
    },
    {
      "cell_type": "code",
      "execution_count": null,
      "metadata": {
        "id": "cwlCuCbexix7"
      },
      "outputs": [],
      "source": [
        "device = torch.device(\"cuda\")\n",
        "json_data = '/content/drive/MyDrive/davodi.json'\n",
        "df = pd.read_json(json_data)\n",
        "df = df.drop(['_id', 'sentence', 'frame', 'lexicalUnit', 'status', 'issuer', 'is_active', 'createdAt', 'updatedAt', 'PId', 'lang', 'description', 'lexicalUnitHint', 'reviewer', 'lexicalUnitHelper', 'frameHelper', 'frameName', 'lexicalUnitName'], axis = 1)"
      ]
    },
    {
      "cell_type": "code",
      "execution_count": null,
      "metadata": {
        "id": "U8STebfkruf-"
      },
      "outputs": [],
      "source": [
        "def framenet_tags(FN_tags):\n",
        "    framenet_pattern = []\n",
        "    for FN_tag in FN_tags:\n",
        "        tag_type = FN_tag.get('tagType')\n",
        "        if tag_type == 5:\n",
        "            element = FN_tag.get('element', {})\n",
        "            element_name = element.get('name', '')\n",
        "            framenet_pattern.append(element_name)\n",
        "        else:\n",
        "            framenet_pattern.append('O')\n",
        "    return framenet_pattern"
      ]
    },
    {
      "cell_type": "code",
      "execution_count": null,
      "metadata": {
        "id": "vr_bQ8xwMPUi"
      },
      "outputs": [],
      "source": [
        "df['frameNetTags'] = df['frameNetTags'].apply(lambda FN_tags : framenet_tags(FN_tags))"
      ]
    },
    {
      "cell_type": "code",
      "execution_count": null,
      "metadata": {
        "colab": {
          "base_uri": "https://localhost:8080/",
          "height": 424
        },
        "id": "Pfx5H5-vPS4k",
        "outputId": "0bc5165d-4a6a-47ff-f9b7-5bd929ca4785"
      },
      "outputs": [
        {
          "data": {
            "application/vnd.google.colaboratory.intrinsic+json": {
              "summary": "{\n  \"name\": \"df\",\n  \"rows\": 32729,\n  \"fields\": [\n    {\n      \"column\": \"words\",\n      \"properties\": {\n        \"dtype\": \"string\",\n        \"num_unique_values\": 19466,\n        \"samples\": [\n          \"\\u062f\\u0631 \\u0627\\u06cc\\u0646 \\u0631\\u0627\\u0633\\u062a\\u0627 \\u0648\\u0638\\u06cc\\u0641\\u06c0 \\u0634\\u0645\\u0627 \\u0633\\u062a \\u06a9\\u0647 \\u0627\\u0632 \\u0648\\u0632\\u0627\\u0631\\u062a\\u200c\\u0647\\u0627\\u06cc \\u0645\\u0631\\u0628\\u0648\\u0637\\u0647 \\u062a\\u0648\\u0636\\u06cc\\u062d \\u0628\\u062e\\u0648\\u0627\\u0647\\u06cc\\u062f .\",\n          \"\\u0637\\u0628\\u06cc\\u0639\\u06cc \\u0628\\u0648\\u062f \\u0627\\u0648\\u0644\\u06cc\\u0646 \\u0641\\u06a9\\u0631\\u06cc \\u06a9\\u0647 \\u0628\\u0647 \\u0630\\u0647\\u0646\\u0645 \\u0628\\u0631\\u0633\\u062f \\u060c \\u0646\\u062f\\u0627\\u0634\\u062a\\u0646 \\u0645\\u0648\\u0627\\u062f \\u0627\\u0648\\u0644\\u06cc\\u06c0 \\u062a\\u0647\\u06cc\\u06c0 \\u0634\\u0627\\u0645 \\u0628\\u0627\\u0634\\u062f .\",\n          \"\\u062e\\u0648\\u0634\\u0627 \\u0628\\u0647 \\u062d\\u0627\\u0644 \\u063a\\u0631\\u06cc\\u0628\\u0627\\u0646\\u06cc \\u06a9\\u0647 \\u0622\\u0646 \\u0686\\u0647 \\u0627\\u0632 \\u0633\\u0646\\u062a \\u062a\\u0648\\u0633\\u0637 \\u0645\\u0631\\u062f\\u0645 \\u0628\\u0647 \\u062a\\u0628\\u0627\\u0647\\u06cc \\u0631\\u0641\\u062a\\u0647 \\u0628\\u0647 \\u0635\\u0644\\u0627\\u062d \\u0628\\u0627\\u0632\\u0645\\u06cc\\u200c\\u0622\\u0648\\u0631\\u0646\\u062f .\"\n        ],\n        \"semantic_type\": \"\",\n        \"description\": \"\"\n      }\n    },\n    {\n      \"column\": \"frameNetTags\",\n      \"properties\": {\n        \"dtype\": \"object\",\n        \"semantic_type\": \"\",\n        \"description\": \"\"\n      }\n    },\n    {\n      \"column\": \"propBankTags\",\n      \"properties\": {\n        \"dtype\": \"object\",\n        \"semantic_type\": \"\",\n        \"description\": \"\"\n      }\n    }\n  ]\n}",
              "type": "dataframe",
              "variable_name": "df"
            },
            "text/html": [
              "\n",
              "  <div id=\"df-2b8b87d3-6497-4f43-af91-f61adb2f65d0\" class=\"colab-df-container\">\n",
              "    <div>\n",
              "<style scoped>\n",
              "    .dataframe tbody tr th:only-of-type {\n",
              "        vertical-align: middle;\n",
              "    }\n",
              "\n",
              "    .dataframe tbody tr th {\n",
              "        vertical-align: top;\n",
              "    }\n",
              "\n",
              "    .dataframe thead th {\n",
              "        text-align: right;\n",
              "    }\n",
              "</style>\n",
              "<table border=\"1\" class=\"dataframe\">\n",
              "  <thead>\n",
              "    <tr style=\"text-align: right;\">\n",
              "      <th></th>\n",
              "      <th>words</th>\n",
              "      <th>frameNetTags</th>\n",
              "      <th>propBankTags</th>\n",
              "    </tr>\n",
              "  </thead>\n",
              "  <tbody>\n",
              "    <tr>\n",
              "      <th>0</th>\n",
              "      <td>خانم نزهت‌الدوله گرچه تا به حال سه تا شوهر کرد...</td>\n",
              "      <td>[O, O, O, O, O, O, O, O, O, O, O, O, O, O, O, ...</td>\n",
              "      <td>[O, O, O, O, O, O, O, O, O, O, O, O, O, O, O, ...</td>\n",
              "    </tr>\n",
              "    <tr>\n",
              "      <th>1</th>\n",
              "      <td>خانم نزهت‌الدوله گرچه تا به حال سه تا شوهر کرد...</td>\n",
              "      <td>[جستجو_کننده, جستجو_کننده, O, O, O, O, O, O, O...</td>\n",
              "      <td>[O, O, O, O, O, O, O, O, O, O, O, O, O, O, O, ...</td>\n",
              "    </tr>\n",
              "    <tr>\n",
              "      <th>2</th>\n",
              "      <td>تو به من مجال دادی تا پروانه شوم .</td>\n",
              "      <td>[مرجع_ذیصلاح, قهرمان, قهرمان, O, O, عمل, عمل, ...</td>\n",
              "      <td>[B-A0, B-A2, O, B-NVE, B-V, B-PRP, O, O, O]</td>\n",
              "    </tr>\n",
              "    <tr>\n",
              "      <th>3</th>\n",
              "      <td>تو به من مجال دادی تا پروانه شوم .</td>\n",
              "      <td>[O, O, O, O, O, O, دسته_نهایی, O, O]</td>\n",
              "      <td>[O, O, O, O, O, O, B-A2, B-V, O]</td>\n",
              "    </tr>\n",
              "    <tr>\n",
              "      <th>4</th>\n",
              "      <td>هر زمان این غریزه و فطرت و رشد سنی و عقلی و اج...</td>\n",
              "      <td>[O, O, موجودیت, موجودیت, موجودیت, موجودیت, موج...</td>\n",
              "      <td>[O, O, O, B-A2, O, O, O, O, O, O, O, O, O, B-N...</td>\n",
              "    </tr>\n",
              "    <tr>\n",
              "      <th>...</th>\n",
              "      <td>...</td>\n",
              "      <td>...</td>\n",
              "      <td>...</td>\n",
              "    </tr>\n",
              "    <tr>\n",
              "      <th>32724</th>\n",
              "      <td>روسیه به زودی برای عمل به تعهدهای خود به اروپا...</td>\n",
              "      <td>[بحث‌کنندگان, زمان, زمان, مسئله, مسئله, مسئله,...</td>\n",
              "      <td>[B-A0, B-TMP, O, B-A2, O, O, O, O, O, O, O, O,...</td>\n",
              "    </tr>\n",
              "    <tr>\n",
              "      <th>32725</th>\n",
              "      <td>منازعه و مشاجرۀ پدر و مادر اقدام ناخوشایندی اس...</td>\n",
              "      <td>[O, O, O, بحث‌کنندگان, بحث‌کنندگان, بحث‌کنندگا...</td>\n",
              "      <td>[B-N-V, O, O, B-A0, B-A1, O, O, O, O, O, O, O,...</td>\n",
              "    </tr>\n",
              "    <tr>\n",
              "      <th>32726</th>\n",
              "      <td>منازعه و مشاجرۀ پدر و مادر اقدام ناخوشایندی اس...</td>\n",
              "      <td>[روش, روش, روش, عامل, عامل, عامل, O, توضیح, O,...</td>\n",
              "      <td>[B-A1, O, O, O, O, O, B-A2, O, B-V, O, O, O, O...</td>\n",
              "    </tr>\n",
              "    <tr>\n",
              "      <th>32727</th>\n",
              "      <td>منازعه و مشاجرۀ پدر و مادر اقدام ناخوشایندی اس...</td>\n",
              "      <td>[O, O, O, O, O, O, O, O, O, O, شاخص, شاخص, O, ...</td>\n",
              "      <td>[O, O, O, O, O, O, O, O, O, O, B-Arg2_B1, O, B...</td>\n",
              "    </tr>\n",
              "    <tr>\n",
              "      <th>32728</th>\n",
              "      <td>منازعه و مشاجرۀ پدر و مادر اقدام ناخوشایندی اس...</td>\n",
              "      <td>[O, O, O, O, O, O, O, O, O, O, O, O, O, O, O, ...</td>\n",
              "      <td>[O, O, O, O, O, O, O, O, O, O, O, O, O, B-N-V,...</td>\n",
              "    </tr>\n",
              "  </tbody>\n",
              "</table>\n",
              "<p>32729 rows × 3 columns</p>\n",
              "</div>\n",
              "    <div class=\"colab-df-buttons\">\n",
              "\n",
              "  <div class=\"colab-df-container\">\n",
              "    <button class=\"colab-df-convert\" onclick=\"convertToInteractive('df-2b8b87d3-6497-4f43-af91-f61adb2f65d0')\"\n",
              "            title=\"Convert this dataframe to an interactive table.\"\n",
              "            style=\"display:none;\">\n",
              "\n",
              "  <svg xmlns=\"http://www.w3.org/2000/svg\" height=\"24px\" viewBox=\"0 -960 960 960\">\n",
              "    <path d=\"M120-120v-720h720v720H120Zm60-500h600v-160H180v160Zm220 220h160v-160H400v160Zm0 220h160v-160H400v160ZM180-400h160v-160H180v160Zm440 0h160v-160H620v160ZM180-180h160v-160H180v160Zm440 0h160v-160H620v160Z\"/>\n",
              "  </svg>\n",
              "    </button>\n",
              "\n",
              "  <style>\n",
              "    .colab-df-container {\n",
              "      display:flex;\n",
              "      gap: 12px;\n",
              "    }\n",
              "\n",
              "    .colab-df-convert {\n",
              "      background-color: #E8F0FE;\n",
              "      border: none;\n",
              "      border-radius: 50%;\n",
              "      cursor: pointer;\n",
              "      display: none;\n",
              "      fill: #1967D2;\n",
              "      height: 32px;\n",
              "      padding: 0 0 0 0;\n",
              "      width: 32px;\n",
              "    }\n",
              "\n",
              "    .colab-df-convert:hover {\n",
              "      background-color: #E2EBFA;\n",
              "      box-shadow: 0px 1px 2px rgba(60, 64, 67, 0.3), 0px 1px 3px 1px rgba(60, 64, 67, 0.15);\n",
              "      fill: #174EA6;\n",
              "    }\n",
              "\n",
              "    .colab-df-buttons div {\n",
              "      margin-bottom: 4px;\n",
              "    }\n",
              "\n",
              "    [theme=dark] .colab-df-convert {\n",
              "      background-color: #3B4455;\n",
              "      fill: #D2E3FC;\n",
              "    }\n",
              "\n",
              "    [theme=dark] .colab-df-convert:hover {\n",
              "      background-color: #434B5C;\n",
              "      box-shadow: 0px 1px 3px 1px rgba(0, 0, 0, 0.15);\n",
              "      filter: drop-shadow(0px 1px 2px rgba(0, 0, 0, 0.3));\n",
              "      fill: #FFFFFF;\n",
              "    }\n",
              "  </style>\n",
              "\n",
              "    <script>\n",
              "      const buttonEl =\n",
              "        document.querySelector('#df-2b8b87d3-6497-4f43-af91-f61adb2f65d0 button.colab-df-convert');\n",
              "      buttonEl.style.display =\n",
              "        google.colab.kernel.accessAllowed ? 'block' : 'none';\n",
              "\n",
              "      async function convertToInteractive(key) {\n",
              "        const element = document.querySelector('#df-2b8b87d3-6497-4f43-af91-f61adb2f65d0');\n",
              "        const dataTable =\n",
              "          await google.colab.kernel.invokeFunction('convertToInteractive',\n",
              "                                                    [key], {});\n",
              "        if (!dataTable) return;\n",
              "\n",
              "        const docLinkHtml = 'Like what you see? Visit the ' +\n",
              "          '<a target=\"_blank\" href=https://colab.research.google.com/notebooks/data_table.ipynb>data table notebook</a>'\n",
              "          + ' to learn more about interactive tables.';\n",
              "        element.innerHTML = '';\n",
              "        dataTable['output_type'] = 'display_data';\n",
              "        await google.colab.output.renderOutput(dataTable, element);\n",
              "        const docLink = document.createElement('div');\n",
              "        docLink.innerHTML = docLinkHtml;\n",
              "        element.appendChild(docLink);\n",
              "      }\n",
              "    </script>\n",
              "  </div>\n",
              "\n",
              "\n",
              "<div id=\"df-59f9e4ba-b349-4d6b-a921-906a62948410\">\n",
              "  <button class=\"colab-df-quickchart\" onclick=\"quickchart('df-59f9e4ba-b349-4d6b-a921-906a62948410')\"\n",
              "            title=\"Suggest charts\"\n",
              "            style=\"display:none;\">\n",
              "\n",
              "<svg xmlns=\"http://www.w3.org/2000/svg\" height=\"24px\"viewBox=\"0 0 24 24\"\n",
              "     width=\"24px\">\n",
              "    <g>\n",
              "        <path d=\"M19 3H5c-1.1 0-2 .9-2 2v14c0 1.1.9 2 2 2h14c1.1 0 2-.9 2-2V5c0-1.1-.9-2-2-2zM9 17H7v-7h2v7zm4 0h-2V7h2v10zm4 0h-2v-4h2v4z\"/>\n",
              "    </g>\n",
              "</svg>\n",
              "  </button>\n",
              "\n",
              "<style>\n",
              "  .colab-df-quickchart {\n",
              "      --bg-color: #E8F0FE;\n",
              "      --fill-color: #1967D2;\n",
              "      --hover-bg-color: #E2EBFA;\n",
              "      --hover-fill-color: #174EA6;\n",
              "      --disabled-fill-color: #AAA;\n",
              "      --disabled-bg-color: #DDD;\n",
              "  }\n",
              "\n",
              "  [theme=dark] .colab-df-quickchart {\n",
              "      --bg-color: #3B4455;\n",
              "      --fill-color: #D2E3FC;\n",
              "      --hover-bg-color: #434B5C;\n",
              "      --hover-fill-color: #FFFFFF;\n",
              "      --disabled-bg-color: #3B4455;\n",
              "      --disabled-fill-color: #666;\n",
              "  }\n",
              "\n",
              "  .colab-df-quickchart {\n",
              "    background-color: var(--bg-color);\n",
              "    border: none;\n",
              "    border-radius: 50%;\n",
              "    cursor: pointer;\n",
              "    display: none;\n",
              "    fill: var(--fill-color);\n",
              "    height: 32px;\n",
              "    padding: 0;\n",
              "    width: 32px;\n",
              "  }\n",
              "\n",
              "  .colab-df-quickchart:hover {\n",
              "    background-color: var(--hover-bg-color);\n",
              "    box-shadow: 0 1px 2px rgba(60, 64, 67, 0.3), 0 1px 3px 1px rgba(60, 64, 67, 0.15);\n",
              "    fill: var(--button-hover-fill-color);\n",
              "  }\n",
              "\n",
              "  .colab-df-quickchart-complete:disabled,\n",
              "  .colab-df-quickchart-complete:disabled:hover {\n",
              "    background-color: var(--disabled-bg-color);\n",
              "    fill: var(--disabled-fill-color);\n",
              "    box-shadow: none;\n",
              "  }\n",
              "\n",
              "  .colab-df-spinner {\n",
              "    border: 2px solid var(--fill-color);\n",
              "    border-color: transparent;\n",
              "    border-bottom-color: var(--fill-color);\n",
              "    animation:\n",
              "      spin 1s steps(1) infinite;\n",
              "  }\n",
              "\n",
              "  @keyframes spin {\n",
              "    0% {\n",
              "      border-color: transparent;\n",
              "      border-bottom-color: var(--fill-color);\n",
              "      border-left-color: var(--fill-color);\n",
              "    }\n",
              "    20% {\n",
              "      border-color: transparent;\n",
              "      border-left-color: var(--fill-color);\n",
              "      border-top-color: var(--fill-color);\n",
              "    }\n",
              "    30% {\n",
              "      border-color: transparent;\n",
              "      border-left-color: var(--fill-color);\n",
              "      border-top-color: var(--fill-color);\n",
              "      border-right-color: var(--fill-color);\n",
              "    }\n",
              "    40% {\n",
              "      border-color: transparent;\n",
              "      border-right-color: var(--fill-color);\n",
              "      border-top-color: var(--fill-color);\n",
              "    }\n",
              "    60% {\n",
              "      border-color: transparent;\n",
              "      border-right-color: var(--fill-color);\n",
              "    }\n",
              "    80% {\n",
              "      border-color: transparent;\n",
              "      border-right-color: var(--fill-color);\n",
              "      border-bottom-color: var(--fill-color);\n",
              "    }\n",
              "    90% {\n",
              "      border-color: transparent;\n",
              "      border-bottom-color: var(--fill-color);\n",
              "    }\n",
              "  }\n",
              "</style>\n",
              "\n",
              "  <script>\n",
              "    async function quickchart(key) {\n",
              "      const quickchartButtonEl =\n",
              "        document.querySelector('#' + key + ' button');\n",
              "      quickchartButtonEl.disabled = true;  // To prevent multiple clicks.\n",
              "      quickchartButtonEl.classList.add('colab-df-spinner');\n",
              "      try {\n",
              "        const charts = await google.colab.kernel.invokeFunction(\n",
              "            'suggestCharts', [key], {});\n",
              "      } catch (error) {\n",
              "        console.error('Error during call to suggestCharts:', error);\n",
              "      }\n",
              "      quickchartButtonEl.classList.remove('colab-df-spinner');\n",
              "      quickchartButtonEl.classList.add('colab-df-quickchart-complete');\n",
              "    }\n",
              "    (() => {\n",
              "      let quickchartButtonEl =\n",
              "        document.querySelector('#df-59f9e4ba-b349-4d6b-a921-906a62948410 button');\n",
              "      quickchartButtonEl.style.display =\n",
              "        google.colab.kernel.accessAllowed ? 'block' : 'none';\n",
              "    })();\n",
              "  </script>\n",
              "</div>\n",
              "    </div>\n",
              "  </div>\n"
            ],
            "text/plain": [
              "                                                   words  \\\n",
              "0      خانم نزهت‌الدوله گرچه تا به حال سه تا شوهر کرد...   \n",
              "1      خانم نزهت‌الدوله گرچه تا به حال سه تا شوهر کرد...   \n",
              "2                     تو به من مجال دادی تا پروانه شوم .   \n",
              "3                     تو به من مجال دادی تا پروانه شوم .   \n",
              "4      هر زمان این غریزه و فطرت و رشد سنی و عقلی و اج...   \n",
              "...                                                  ...   \n",
              "32724  روسیه به زودی برای عمل به تعهدهای خود به اروپا...   \n",
              "32725  منازعه و مشاجرۀ پدر و مادر اقدام ناخوشایندی اس...   \n",
              "32726  منازعه و مشاجرۀ پدر و مادر اقدام ناخوشایندی اس...   \n",
              "32727  منازعه و مشاجرۀ پدر و مادر اقدام ناخوشایندی اس...   \n",
              "32728  منازعه و مشاجرۀ پدر و مادر اقدام ناخوشایندی اس...   \n",
              "\n",
              "                                            frameNetTags  \\\n",
              "0      [O, O, O, O, O, O, O, O, O, O, O, O, O, O, O, ...   \n",
              "1      [جستجو_کننده, جستجو_کننده, O, O, O, O, O, O, O...   \n",
              "2      [مرجع_ذیصلاح, قهرمان, قهرمان, O, O, عمل, عمل, ...   \n",
              "3                   [O, O, O, O, O, O, دسته_نهایی, O, O]   \n",
              "4      [O, O, موجودیت, موجودیت, موجودیت, موجودیت, موج...   \n",
              "...                                                  ...   \n",
              "32724  [بحث‌کنندگان, زمان, زمان, مسئله, مسئله, مسئله,...   \n",
              "32725  [O, O, O, بحث‌کنندگان, بحث‌کنندگان, بحث‌کنندگا...   \n",
              "32726  [روش, روش, روش, عامل, عامل, عامل, O, توضیح, O,...   \n",
              "32727  [O, O, O, O, O, O, O, O, O, O, شاخص, شاخص, O, ...   \n",
              "32728  [O, O, O, O, O, O, O, O, O, O, O, O, O, O, O, ...   \n",
              "\n",
              "                                            propBankTags  \n",
              "0      [O, O, O, O, O, O, O, O, O, O, O, O, O, O, O, ...  \n",
              "1      [O, O, O, O, O, O, O, O, O, O, O, O, O, O, O, ...  \n",
              "2            [B-A0, B-A2, O, B-NVE, B-V, B-PRP, O, O, O]  \n",
              "3                       [O, O, O, O, O, O, B-A2, B-V, O]  \n",
              "4      [O, O, O, B-A2, O, O, O, O, O, O, O, O, O, B-N...  \n",
              "...                                                  ...  \n",
              "32724  [B-A0, B-TMP, O, B-A2, O, O, O, O, O, O, O, O,...  \n",
              "32725  [B-N-V, O, O, B-A0, B-A1, O, O, O, O, O, O, O,...  \n",
              "32726  [B-A1, O, O, O, O, O, B-A2, O, B-V, O, O, O, O...  \n",
              "32727  [O, O, O, O, O, O, O, O, O, O, B-Arg2_B1, O, B...  \n",
              "32728  [O, O, O, O, O, O, O, O, O, O, O, O, O, B-N-V,...  \n",
              "\n",
              "[32729 rows x 3 columns]"
            ]
          },
          "execution_count": 14,
          "metadata": {},
          "output_type": "execute_result"
        }
      ],
      "source": [
        "df"
      ]
    },
    {
      "cell_type": "code",
      "execution_count": null,
      "metadata": {
        "id": "TdE8Tp_Jv2Ly"
      },
      "outputs": [],
      "source": [
        "train_data, temp_data = train_test_split(df, test_size=0.2, random_state=42)\n",
        "validation_data, test_data = train_test_split(temp_data, test_size=0.5, random_state=42)\n",
        "print(\"Training set size:\", len(train_data))\n",
        "print(\"Validation set size:\", len(validation_data))\n",
        "print(\"Test set size:\", len(test_data))"
      ]
    },
    {
      "cell_type": "code",
      "execution_count": null,
      "metadata": {
        "colab": {
          "base_uri": "https://localhost:8080/",
          "height": 237,
          "referenced_widgets": [
            "acda923e4acf4c45b483e01b86e894c1",
            "6a834606039245a4ab7579f51d1b8159",
            "f14e8dd30f96492c8a12b6c3bda99403",
            "87dc3ac1046045f5a5431a42bc5a63a8",
            "a4d57b9951e141b288dc591f589097c8",
            "4268c0d76cd34df59f9638f53f95c05b",
            "caf2621fb9c2453db35047fb8ae553dd",
            "1916ed38f2f545d1a0f02e0bc08b2f65",
            "765c92a0713a49928ad9f17fa0d79630",
            "9bc93bf4acee4f7b9f44e8e2652e5f5f",
            "aee7c7e7e33f47f9aa948388dcd56305",
            "018d1201f4064f6f92633a6e494128df",
            "fb7f604a2f1e42b9be33daa9780b08d5",
            "f79091359eed488484ce5813ce3e8393",
            "b8203752a7de42519b186ea8714a1d01",
            "4281013cf1714b07bb4352af8ba6d344",
            "65c3ed52720d4e0088e184850b69b34b",
            "3b75ca06674641d59572368a05b47f44",
            "dd454facc98d454fa7e9e7ba773d1928",
            "51ebd995ec1a423883e0921ccb59147c",
            "28c6218cab9a424ea4b9114a58fea873",
            "92d726e016504a38b9d64ee53b0d6acd",
            "4927cefd4d1b45248f12b71eb5243f52",
            "717955657fcd4e7eab76f512a0ffd488",
            "e75bdc89e253489694bf9f3177620d67",
            "cbaf3fc9f7cb461cac69fe1e6d0b44aa",
            "8b90ea488d5948e98683975dfa70111e",
            "5b6eaef035a04007a6b428aa821b18f8",
            "da22540fa86f481cba857768d7c0b240",
            "847a5b966d9c418f89d73be385827000",
            "3a4c490926f5469ba47127d3bb641d04",
            "9d4f9ecb1024409c950617840f0961e8",
            "824c9c1ee5264c30b6beb876f5f08803"
          ]
        },
        "id": "gAljfzJSZvPE",
        "outputId": "7e56fbff-cce7-4a1d-cec4-185d38116fd7"
      },
      "outputs": [
        {
          "name": "stderr",
          "output_type": "stream",
          "text": [
            "/usr/local/lib/python3.11/dist-packages/huggingface_hub/utils/_auth.py:94: UserWarning: \n",
            "The secret `HF_TOKEN` does not exist in your Colab secrets.\n",
            "To authenticate with the Hugging Face Hub, create a token in your settings tab (https://huggingface.co/settings/tokens), set it as secret in your Google Colab and restart your session.\n",
            "You will be able to reuse this secret in all of your notebooks.\n",
            "Please note that authentication is recommended but still optional to access public models or datasets.\n",
            "  warnings.warn(\n"
          ]
        },
        {
          "data": {
            "application/vnd.jupyter.widget-view+json": {
              "model_id": "acda923e4acf4c45b483e01b86e894c1",
              "version_major": 2,
              "version_minor": 0
            },
            "text/plain": [
              "tokenizer_config.json:   0%|          | 0.00/1.25k [00:00<?, ?B/s]"
            ]
          },
          "metadata": {},
          "output_type": "display_data"
        },
        {
          "data": {
            "application/vnd.jupyter.widget-view+json": {
              "model_id": "018d1201f4064f6f92633a6e494128df",
              "version_major": 2,
              "version_minor": 0
            },
            "text/plain": [
              "tokenizer.json:   0%|          | 0.00/2.30M [00:00<?, ?B/s]"
            ]
          },
          "metadata": {},
          "output_type": "display_data"
        },
        {
          "data": {
            "application/vnd.jupyter.widget-view+json": {
              "model_id": "4927cefd4d1b45248f12b71eb5243f52",
              "version_major": 2,
              "version_minor": 0
            },
            "text/plain": [
              "special_tokens_map.json:   0%|          | 0.00/695 [00:00<?, ?B/s]"
            ]
          },
          "metadata": {},
          "output_type": "display_data"
        }
      ],
      "source": [
        "from transformers import AutoTokenizer, AutoModelForMaskedLM\n",
        "tokenizer = AutoTokenizer.from_pretrained(\"myrkur/Persian-ModernBert-base\")"
      ]
    },
    {
      "cell_type": "code",
      "execution_count": null,
      "metadata": {
        "colab": {
          "base_uri": "https://localhost:8080/"
        },
        "id": "W57ljReCWqu7",
        "outputId": "720a80eb-b5fb-4bec-87e2-afa2328503a0"
      },
      "outputs": [
        {
          "name": "stderr",
          "output_type": "stream",
          "text": [
            "<ipython-input-26-8b00a2c5de89>:1: SettingWithCopyWarning: \n",
            "A value is trying to be set on a copy of a slice from a DataFrame.\n",
            "Try using .loc[row_indexer,col_indexer] = value instead\n",
            "\n",
            "See the caveats in the documentation: https://pandas.pydata.org/pandas-docs/stable/user_guide/indexing.html#returning-a-view-versus-a-copy\n",
            "  df[\"Sentence\"] = df[\"words\"].apply(lambda sentence: [word.strip() for word in sentence.split(' ')])\n"
          ]
        }
      ],
      "source": [
        "df[\"Sentence\"] = df[\"words\"].apply(lambda sentence: [word.strip() for word in sentence.split(' ')])\n",
        "#sentence"
      ]
    },
    {
      "cell_type": "code",
      "execution_count": null,
      "metadata": {
        "id": "TK8CK9ozU-xB"
      },
      "outputs": [],
      "source": [
        "from transformers import AutoTokenizer\n",
        "tokenizer = AutoTokenizer.from_pretrained(\"myrkur/Persian-ModernBert-base\")"
      ]
    },
    {
      "cell_type": "code",
      "execution_count": null,
      "metadata": {
        "colab": {
          "base_uri": "https://localhost:8080/"
        },
        "id": "c3PrqPEW8kcY",
        "outputId": "b0a11b6e-ed5f-4baf-d24a-22b8109625d4"
      },
      "outputs": [
        {
          "data": {
            "text/plain": [
              "['خانم',\n",
              " 'نز',\n",
              " 'هت',\n",
              " '\\u200cال',\n",
              " 'دوله',\n",
              " 'گرچه',\n",
              " 'تا',\n",
              " 'به',\n",
              " 'حال',\n",
              " 'سه',\n",
              " 'تا',\n",
              " 'شوهر',\n",
              " 'کرده',\n",
              " 'و',\n",
              " 'شش',\n",
              " 'بار',\n",
              " 'زاییده',\n",
              " 'و',\n",
              " 'دو',\n",
              " 'تا',\n",
              " 'از',\n",
              " 'دختر',\n",
              " 'هایش',\n",
              " 'هم',\n",
              " 'به',\n",
              " 'خان',\n",
              " '[UNK]',\n",
              " 'داماد',\n",
              " 'فرستاده',\n",
              " '_',\n",
              " 'شده\\u200cاند',\n",
              " 'و',\n",
              " 'حالا',\n",
              " 'دیگر',\n",
              " 'برای',\n",
              " 'خودش',\n",
              " 'مادربزرگ',\n",
              " 'شده',\n",
              " '_',\n",
              " 'است',\n",
              " '،',\n",
              " 'باز',\n",
              " 'هم',\n",
              " 'عقیده',\n",
              " 'دارد',\n",
              " 'که',\n",
              " 'پیری',\n",
              " 'و',\n",
              " 'جوانی',\n",
              " 'دست',\n",
              " 'خود',\n",
              " 'آدم',\n",
              " 'است',\n",
              " 'و',\n",
              " 'گرچه',\n",
              " 'سر',\n",
              " 'و',\n",
              " 'همسر',\n",
              " 'و',\n",
              " 'خوی',\n",
              " 'شان',\n",
              " 'و',\n",
              " 'دوستان',\n",
              " 'می\\u200cگویند',\n",
              " 'که',\n",
              " 'پنجاه',\n",
              " 'سالی',\n",
              " 'دارد',\n",
              " 'ولی',\n",
              " 'هنوز',\n",
              " 'دو',\n",
              " 'دستی',\n",
              " 'به',\n",
              " 'جوانی',\n",
              " '\\u200cاش',\n",
              " 'چسبیده',\n",
              " 'و',\n",
              " 'هنوز',\n",
              " 'هم',\n",
              " 'در',\n",
              " 'جستجوی',\n",
              " 'شوهر',\n",
              " 'ایده\\u200cآل',\n",
              " 'به',\n",
              " 'این',\n",
              " 'در',\n",
              " 'و',\n",
              " 'آن',\n",
              " 'در',\n",
              " 'می\\u200cزند',\n",
              " '.']"
            ]
          },
          "execution_count": 31,
          "metadata": {},
          "output_type": "execute_result"
        }
      ],
      "source": [
        "#tokenized_input = tokenizer(df['Sentence'][0].split(' '), is_split_into_words=True)\n",
        "tokenized_input = tokenizer(df['Sentence'][0], is_split_into_words=True)\n",
        "tokenizer.convert_ids_to_tokens(tokenized_input[\"input_ids\"])"
      ]
    },
    {
      "cell_type": "code",
      "execution_count": null,
      "metadata": {
        "id": "1jRbNPH0GSxT"
      },
      "outputs": [],
      "source": [
        "def create_role_id_dictionary():\n",
        "    \"\"\"Creates a dictionary that maps PropBank roles to numerical IDs.\"\"\"\n",
        "    roles = set()\n",
        "    frame_elements = set()\n",
        "    for _, row in df.iterrows():\n",
        "        prop_str = row['propBankTags']\n",
        "        framenet_str = row['frameNetTags']\n",
        "        roles.update(prop_str)\n",
        "        frame_elements.update(framenet_str)\n",
        "    role_id_dict = defaultdict(int)\n",
        "    frame_id_dict = defaultdict(int)\n",
        "    index = 1\n",
        "    for role in roles:\n",
        "        role_id_dict[role] = index\n",
        "        index += 1\n",
        "    for frame_element in frame_elements:\n",
        "        frame_id_dict[frame_element] = index\n",
        "        index += 1\n",
        "    return role_id_dict, frame_id_dict, roles, frame_elements"
      ]
    },
    {
      "cell_type": "code",
      "execution_count": null,
      "metadata": {
        "colab": {
          "base_uri": "https://localhost:8080/"
        },
        "id": "wlyiZZ-ILuyj",
        "outputId": "7d6f5530-5559-4d49-ffed-8c22561f14f4"
      },
      "outputs": [
        {
          "name": "stdout",
          "output_type": "stream",
          "text": [
            "Role2ID:defaultdict(<class 'int'>, {'B-GOL': 1, 'B-RPT': 2, 'B-MNR': 3, 'B-A2': 4, 'B-A0': 5, 'B-V': 6, 'B-A1': 7, 'B-RCL1': 8, 'B-ADJ': 9, 'B-NEG': 10, 'O': 11, 'B-CON': 12, 'B-PRD': 13, 'B-PRP': 14, 'B-ADV': 15, 'B-Def': 16, 'B-A4': 17, 'B-RCL2': 18, 'B-NVE': 19, 'B-TMP': 20, 'B-EXT': 21, 'B-ASP': 22, 'B-MOD': 23, 'B-N-V': 24, 'B-LOC': 25})\n",
            "Frame2ID:defaultdict(<class 'int'>, {'عمل': 26, 'مقصود': 27, 'شیوه': 28, 'مقوله': 29, 'متن': 30, 'رویداد_همزمان': 31, 'مسافر': 32, 'دسته_نهایی': 33, 'طرف_متأثر': 34, 'حسگر': 35, 'مدت_زمان': 36, 'مورد_1': 37, 'رویداد': 38, 'مجری2': 39, 'O': 40, 'شریک_اول': 41, 'مورد': 42, 'نام': 43, 'موضوع': 44, 'پیکر': 45, 'گوینده': 46, 'اهداکننده': 47, 'توصیفی': 48, 'كنش_پذیر': 49, 'هدف_رویداد': 50, 'کالا': 51, 'مکان': 52, 'توصیف': 53, 'مالکیت': 54, 'شخص': 55, 'شمارش': 56, 'توصیف_گر': 57, 'رویداد_پیش\\u200cزمینه': 58, 'دامنه': 59, 'بسامد': 60, 'کیفیت_نهایی': 61, 'عقیده': 62, 'زمان': 63, 'توزیع\\u200cکننده': 64, 'محتوا': 65, 'محدوده': 66, 'مقصد': 67, 'وسیله': 68, 'مرجع_ذیصلاح': 69, 'هدف': 70, 'موجودیت_جستجوشده': 71, 'محصول': 72, 'موجودیت_خلق_شده': 73, 'وضعیت_نهایی': 74, 'بارش': 75, 'برگزیده': 76, 'الزام': 77, 'پارامتر': 78, 'کنشگر': 79, 'پیام': 80, 'محل': 81, 'علت': 82, 'مسیر': 83, 'مجری1': 84, 'مدت': 85, 'تجربه\\u200cگر': 86, 'پرداخت_کننده': 87, 'توصیفگر': 88, 'تاثیر': 89, 'قهرمان': 90, 'کنش': 91, 'جستجو_کننده': 92, 'رقابت': 93, 'کاربرد': 94, 'پدیده': 95, 'اصل_و_نسب': 96, 'هدف_ذاتی': 97, 'درجه': 98, 'تشخیص\\u200cگر': 99, 'ابزار': 100, 'جریمه': 101, 'مالک': 102, 'محل_اجرا': 103, 'مبدأ': 104, 'گیرنده': 105, 'کنش\\u200cپذیر': 106, 'موجود': 107, 'فرستنده': 108, 'عامل': 109, 'مورد_2': 110, 'توصیف\\u200cگر': 111, 'پذیرنده': 112, 'فعالیت': 113, 'توصیف\\u200cنما': 114, 'رویداد_مقایسه': 115, 'موجودیت': 116})\n",
            "Roles:{'B-GOL', 'B-RPT', 'B-MNR', 'B-A2', 'B-A0', 'B-V', 'B-A1', 'B-RCL1', 'B-ADJ', 'B-NEG', 'O', 'B-CON', 'B-PRD', 'B-PRP', 'B-ADV', 'B-Def', 'B-A4', 'B-RCL2', 'B-NVE', 'B-TMP', 'B-EXT', 'B-ASP', 'B-MOD', 'B-N-V', 'B-LOC'}\n",
            "Frame Elements:{'عمل', 'مقصود', 'شیوه', 'مقوله', 'متن', 'رویداد_همزمان', 'مسافر', 'دسته_نهایی', 'طرف_متأثر', 'حسگر', 'مدت_زمان', 'مورد_1', 'رویداد', 'مجری2', 'O', 'شریک_اول', 'مورد', 'نام', 'موضوع', 'پیکر', 'گوینده', 'اهداکننده', 'توصیفی', 'كنش_پذیر', 'هدف_رویداد', 'کالا', 'مکان', 'توصیف', 'مالکیت', 'شخص', 'شمارش', 'توصیف_گر', 'رویداد_پیش\\u200cزمینه', 'دامنه', 'بسامد', 'کیفیت_نهایی', 'عقیده', 'زمان', 'توزیع\\u200cکننده', 'محتوا', 'محدوده', 'مقصد', 'وسیله', 'مرجع_ذیصلاح', 'هدف', 'موجودیت_جستجوشده', 'محصول', 'موجودیت_خلق_شده', 'وضعیت_نهایی', 'بارش', 'برگزیده', 'الزام', 'پارامتر', 'کنشگر', 'پیام', 'محل', 'علت', 'مسیر', 'مجری1', 'مدت', 'تجربه\\u200cگر', 'پرداخت_کننده', 'توصیفگر', 'تاثیر', 'قهرمان', 'کنش', 'جستجو_کننده', 'رقابت', 'کاربرد', 'پدیده', 'اصل_و_نسب', 'هدف_ذاتی', 'درجه', 'تشخیص\\u200cگر', 'ابزار', 'جریمه', 'مالک', 'محل_اجرا', 'مبدأ', 'گیرنده', 'کنش\\u200cپذیر', 'موجود', 'فرستنده', 'عامل', 'مورد_2', 'توصیف\\u200cگر', 'پذیرنده', 'فعالیت', 'توصیف\\u200cنما', 'رویداد_مقایسه', 'موجودیت'}\n"
          ]
        }
      ],
      "source": [
        "role2id, frame2id, roles, frame_elements = create_role_id_dictionary()\n",
        "print(\"Role2ID:\" + str(role2id))\n",
        "print(\"Frame2ID:\" + str(frame2id))\n",
        "print(\"Roles:\" + str(roles))\n",
        "print(\"Frame Elements:\" + str(frame_elements))"
      ]
    },
    {
      "cell_type": "code",
      "execution_count": null,
      "metadata": {
        "id": "Hshm12kX8Gy5"
      },
      "outputs": [],
      "source": [
        "role2id, frame2id, roles, frame_elements = create_role_id_dictionary()"
      ]
    },
    {
      "cell_type": "code",
      "execution_count": null,
      "metadata": {
        "colab": {
          "base_uri": "https://localhost:8080/"
        },
        "id": "4EuIUNXWmex_",
        "outputId": "86404e74-2236-4c69-d570-a9b2adeed966"
      },
      "outputs": [
        {
          "name": "stderr",
          "output_type": "stream",
          "text": [
            "<ipython-input-35-3bb4a62925b8>:1: SettingWithCopyWarning: \n",
            "A value is trying to be set on a copy of a slice from a DataFrame.\n",
            "Try using .loc[row_indexer,col_indexer] = value instead\n",
            "\n",
            "See the caveats in the documentation: https://pandas.pydata.org/pandas-docs/stable/user_guide/indexing.html#returning-a-view-versus-a-copy\n",
            "  df['propBankTags'] = df['propBankTags'].apply(lambda label : [role2id[l] for l in label])\n"
          ]
        }
      ],
      "source": [
        "df['propBankTags'] = df['propBankTags'].apply(lambda label : [role2id[l] for l in label])"
      ]
    },
    {
      "cell_type": "code",
      "execution_count": null,
      "metadata": {
        "id": "oQCDd8yUznhH"
      },
      "outputs": [],
      "source": [
        "def tokenize_and_align_labels(examples):\n",
        "    tokenized_inputs = tokenizer(examples[\"Words\"], truncation=True, padding=True, is_split_into_words=True)\n",
        "    labels = []\n",
        "    for i, label in enumerate(examples[f\"propBankTags\"]):\n",
        "        word_ids = tokenized_inputs.word_ids(batch_index=i)\n",
        "        previous_word_idx = None\n",
        "        label_ids = []\n",
        "        for word_idx in word_ids:\n",
        "            if word_idx is None:\n",
        "                label_ids.append(-100)\n",
        "            elif word_idx != previous_word_idx:\n",
        "                label_ids.append(label[word_idx])\n",
        "            else:\n",
        "                label_ids.append(-100)\n",
        "            previous_word_idx = word_idx\n",
        "        labels.append(label_ids)\n",
        "    tokenized_inputs[\"labels\"] = labels\n",
        "    return tokenized_inputs"
      ]
    },
    {
      "cell_type": "code",
      "execution_count": null,
      "metadata": {
        "colab": {
          "base_uri": "https://localhost:8080/",
          "height": 66,
          "referenced_widgets": [
            "98230b49c6f240a4b456e6960fc6aab3",
            "0821519f150b4173b2288f0a7bfd4aa8",
            "a24939c25e144919a623604f3c1f557e",
            "4b99b40e7c2341f89a64e2e1bb4e8494",
            "bd4d433cd1b54733a1992d15c337710e",
            "43368d0eb0b7460688805178593ba226",
            "ef92402499ee4e3db0b2d71bd4335a7e",
            "a2dde006cd234ce898ee2b9e9d0f8089",
            "d293bd36d7ba46439bc3cf9d21483c9b",
            "45a9e9aa88c142f9b88cd083f790abb9",
            "8b526f3ad2664e669dede1b9637ac7d3"
          ]
        },
        "id": "9CFTLgIl0MbT",
        "outputId": "d426b6fe-d45f-4538-e561-92c4b28fd7ce"
      },
      "outputs": [
        {
          "data": {
            "application/vnd.jupyter.widget-view+json": {
              "model_id": "98230b49c6f240a4b456e6960fc6aab3",
              "version_major": 2,
              "version_minor": 0
            },
            "text/plain": [
              "Map:   0%|          | 0/100 [00:00<?, ? examples/s]"
            ]
          },
          "metadata": {},
          "output_type": "display_data"
        },
        {
          "name": "stderr",
          "output_type": "stream",
          "text": [
            "Asking to truncate to max_length but no maximum length is provided and the model has no predefined maximum length. Default to no truncation.\n"
          ]
        }
      ],
      "source": [
        "from datasets import Dataset\n",
        "dataset = Dataset.from_pandas(df)\n",
        "tokenized_data = dataset.map(tokenize_and_align_labels, batched=True)"
      ]
    },
    {
      "cell_type": "code",
      "execution_count": null,
      "metadata": {
        "id": "x6V3xKXrnxpv"
      },
      "outputs": [],
      "source": [
        "tokenized_data = tokenized_data.train_test_split(test_size=0.3)"
      ]
    },
    {
      "cell_type": "code",
      "execution_count": null,
      "metadata": {
        "colab": {
          "base_uri": "https://localhost:8080/",
          "height": 49,
          "referenced_widgets": [
            "e2ffa37867384c97a5ade4512e788465",
            "eb9227e2b846451ba445495598cd1fe8",
            "2ad9bde1d23246769d4ac1890808a075",
            "065dd9d39e554f3ab7f8ce4b738319ba",
            "da612c2ea53845189abb3244f7196394",
            "ff22370006f945f2ad99948c86bc094f",
            "1f13d783afb140719659bf3ce0e444ac",
            "55d0a4f0bead4c8e89ac9a31d3235543",
            "98dc37454ba142eea0aa290aef4a8a8b",
            "990f2064fcce4130895721ea4d020523",
            "40bee070effc4da29175af747915cbb6"
          ]
        },
        "id": "9WOsZoa1zXGU",
        "outputId": "29418b76-c053-497a-bf9a-8b16c364c7a2"
      },
      "outputs": [
        {
          "data": {
            "application/vnd.jupyter.widget-view+json": {
              "model_id": "e2ffa37867384c97a5ade4512e788465",
              "version_major": 2,
              "version_minor": 0
            },
            "text/plain": [
              "Downloading builder script:   0%|          | 0.00/6.34k [00:00<?, ?B/s]"
            ]
          },
          "metadata": {},
          "output_type": "display_data"
        }
      ],
      "source": [
        "import evaluate\n",
        "seqeval = evaluate.load(\"seqeval\")"
      ]
    },
    {
      "cell_type": "code",
      "execution_count": null,
      "metadata": {
        "colab": {
          "base_uri": "https://localhost:8080/",
          "height": 49,
          "referenced_widgets": [
            "91243f4c888c4fb7999ebf717d6c94d3",
            "881fc136cef840299ed1fe9ccaa87028",
            "1c275b49d1be4e69be63556d11ed7c8c",
            "5b8b64e94f8648aaa3d79924da5d3ccd",
            "71f0bd81565c4027ba128bc40e9e3801",
            "86183bd0b9884811b6aeb075ae7df1a6",
            "cae86bc30c89482cae0c2413fa8cbcb2",
            "83a043eba1214981bca7728605d84a5f",
            "11e2e919d924484d96542ff470538a47",
            "7c7d2a8f231e40f6866bb29814d91e50",
            "f93c5de00aad4cc2a832e2b1496d318d"
          ]
        },
        "id": "PvTczx7yz6wE",
        "outputId": "9b80491a-6ae4-4b35-b9ae-58d795c6a288"
      },
      "outputs": [
        {
          "data": {
            "application/vnd.jupyter.widget-view+json": {
              "model_id": "91243f4c888c4fb7999ebf717d6c94d3",
              "version_major": 2,
              "version_minor": 0
            },
            "text/plain": [
              "Downloading builder script:   0%|          | 0.00/4.20k [00:00<?, ?B/s]"
            ]
          },
          "metadata": {},
          "output_type": "display_data"
        }
      ],
      "source": [
        "accuracy = evaluate.load(\"accuracy\")"
      ]
    },
    {
      "cell_type": "code",
      "execution_count": null,
      "metadata": {
        "id": "EaR1Q3gHyqlY"
      },
      "outputs": [],
      "source": [
        "from transformers import DataCollatorForTokenClassification\n",
        "data_collator = DataCollatorForTokenClassification(tokenizer=tokenizer)"
      ]
    },
    {
      "cell_type": "code",
      "execution_count": null,
      "metadata": {
        "colab": {
          "base_uri": "https://localhost:8080/",
          "height": 81,
          "referenced_widgets": [
            "2eb65a6090874212b6cf1d26422b0a7f",
            "11351122f20741d48a295846af72279f",
            "0478a50dab4e49f3ab33482988a3796e",
            "eb9c913efa9747d490901837fe325da5",
            "3ec6e736f4a84e70b1f705f9e7d0aec5",
            "8e6c37ccc8414ce7967992e5ff061a3a",
            "7890313e7de24cc69926c66cf70e0431",
            "b32cea77cdd44278a42746721ec06693",
            "66f4549218c7456ab9384d610a6460c6",
            "40cd25be50c746ce901e06ad65305138",
            "571f33e18464480c9a3200771458898f",
            "413b857b98354b03a14e841fd62a79ec",
            "9fe11cfb9bb04c7e948c9a3fd276f55b",
            "865fca09f33e4fd5b5b75efe2349a9ba",
            "a8acd600801e455697cc64ccb0d34b69",
            "877c391338a94533b5c5a1dec07b63de",
            "0ff039bb0f1b480db53f3acf068a58fc",
            "50c04e4e8e204667b5c2d1c37eca1e01",
            "2cd2a83164384f53994acb58b18522e1",
            "51824bcdb73647ddbbd13d5a04fe4ed6",
            "7d7d64ba98964d4dadd8883cd31d1999",
            "7a610ef83f5a4349b20b349a44c307c4"
          ]
        },
        "id": "iHF8Y5I9otVy",
        "outputId": "410bed9e-3dcc-4c09-db87-dd1822f69b96"
      },
      "outputs": [
        {
          "data": {
            "application/vnd.jupyter.widget-view+json": {
              "model_id": "2eb65a6090874212b6cf1d26422b0a7f",
              "version_major": 2,
              "version_minor": 0
            },
            "text/plain": [
              "config.json:   0%|          | 0.00/1.27k [00:00<?, ?B/s]"
            ]
          },
          "metadata": {},
          "output_type": "display_data"
        },
        {
          "data": {
            "application/vnd.jupyter.widget-view+json": {
              "model_id": "413b857b98354b03a14e841fd62a79ec",
              "version_major": 2,
              "version_minor": 0
            },
            "text/plain": [
              "model.safetensors:   0%|          | 0.00/299M [00:00<?, ?B/s]"
            ]
          },
          "metadata": {},
          "output_type": "display_data"
        }
      ],
      "source": [
        "from transformers import AutoModelForTokenClassification\n",
        "model = AutoModelForMaskedLM.from_pretrained(\"myrkur/Persian-ModernBert-base\", num_labels=len(role2id)+1,ignore_mismatched_sizes=True)"
      ]
    },
    {
      "cell_type": "code",
      "execution_count": null,
      "metadata": {
        "id": "sy_diAZc1qNe"
      },
      "outputs": [],
      "source": [
        "label2id = dict(role2id)"
      ]
    },
    {
      "cell_type": "code",
      "execution_count": null,
      "metadata": {
        "id": "exUhcGciVpDM"
      },
      "outputs": [],
      "source": [
        "id2label = dict((v,k) for k,v in label2id.items())"
      ]
    },
    {
      "cell_type": "code",
      "execution_count": null,
      "metadata": {
        "id": "BAkZc0LQ5cd5"
      },
      "outputs": [],
      "source": [
        "label_list = list(role2id.keys())\n",
        "from sklearn.metrics import classification_report, precision_recall_fscore_support\n",
        "from sklearn.preprocessing import MultiLabelBinarizer\n",
        "\n",
        "from sklearn.metrics import classification_report\n",
        "def compute_metrics(p):\n",
        "    predictions, labels = p\n",
        "    predictions = np.argmax(predictions, axis=2)\n",
        "\n",
        "    true_predictions = [\n",
        "        [id2label[p] for (p, l) in zip(prediction, label) if l != -100]\n",
        "        for prediction, label in zip(predictions, labels)\n",
        "    ]\n",
        "    true_labels = [\n",
        "        [id2label[l] for (p, l) in zip(prediction, label) if l != -100]\n",
        "        for prediction, label in zip(predictions, labels)\n",
        "    ]\n",
        "    true_labels_bin = list(np.concatenate(true_labels))\n",
        "    pred_labels_bin = list(np.concatenate(true_predictions))\n",
        "    print(true_labels_bin)\n",
        "    print(pred_labels_bin)\n",
        "    report = classification_report(true_labels_bin, pred_labels_bin)\n",
        "    metrics = precision_recall_fscore_support(true_labels_bin, pred_labels_bin, average='weighted')\n",
        "    accuracy = metrics[0]\n",
        "    precision = metrics[1]\n",
        "    recall = metrics[2]\n",
        "    f1_score = metrics[3]\n",
        "    return {\n",
        "        \"precision\": precision,\n",
        "        \"recall\": recall,\n",
        "        \"f1\": f1_score,\n",
        "        \"accuracy\": accuracy\n",
        "    }"
      ]
    },
    {
      "cell_type": "code",
      "execution_count": null,
      "metadata": {
        "colab": {
          "base_uri": "https://localhost:8080/"
        },
        "id": "vD9uyLVYGQIa",
        "outputId": "a9cb32f0-b631-4b5f-c8f4-2bb36ecbac3d"
      },
      "outputs": [
        {
          "name": "stderr",
          "output_type": "stream",
          "text": [
            "/usr/local/lib/python3.11/dist-packages/transformers/training_args.py:1594: FutureWarning: `evaluation_strategy` is deprecated and will be removed in version 4.46 of 🤗 Transformers. Use `eval_strategy` instead\n",
            "  warnings.warn(\n"
          ]
        }
      ],
      "source": [
        "training_args = TrainingArguments(\n",
        "    output_dir=\"bert-token-classification\",\n",
        "    learning_rate=0.1,\n",
        "    per_device_train_batch_size=16,\n",
        "    per_device_eval_batch_size=16,\n",
        "    num_train_epochs=1,\n",
        "    evaluation_strategy=\"epoch\",\n",
        "    weight_decay=0.01,\n",
        "    save_strategy=\"no\",\n",
        "    report_to=None,\n",
        "    #use_cpu=True,\n",
        "    #no_cuda=True,\n",
        "    #load_best_model_at_end=True, # uncomment if you wanna save\n",
        ")"
      ]
    },
    {
      "cell_type": "code",
      "execution_count": null,
      "metadata": {
        "id": "3elmnJlcGQLz"
      },
      "outputs": [],
      "source": [
        "trainer = Trainer(model=model,args=training_args,data_collator=data_collator,train_dataset=tokenized_data['train']  ,eval_dataset=tokenized_data['test'],compute_metrics=compute_metrics,)"
      ]
    },
    {
      "cell_type": "code",
      "execution_count": null,
      "metadata": {
        "id": "fcaYmDo_Rv7u"
      },
      "outputs": [],
      "source": [
        "import os\n",
        "os.environ[\"WANDB_DISABLED\"] = \"true\""
      ]
    },
    {
      "cell_type": "code",
      "execution_count": null,
      "metadata": {
        "id": "NZkEIMV7GQqV"
      },
      "outputs": [],
      "source": [
        "trainer.train()"
      ]
    },
    {
      "cell_type": "code",
      "execution_count": null,
      "metadata": {
        "id": "oiRuHuGDRTc8"
      },
      "outputs": [],
      "source": [
        "trainer.evaluate()"
      ]
    }
  ],
  "metadata": {
    "accelerator": "GPU",
    "colab": {
      "provenance": []
    },
    "kernelspec": {
      "display_name": "Python 3",
      "name": "python3"
    },
    "language_info": {
      "name": "python"
    }
  },
  "nbformat": 4,
  "nbformat_minor": 0
}