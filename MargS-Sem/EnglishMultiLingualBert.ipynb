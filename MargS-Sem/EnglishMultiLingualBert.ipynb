{
  "cells": [
    {
      "cell_type": "code",
      "execution_count": null,
      "metadata": {
        "id": "7geJAOjEvA19"
      },
      "outputs": [],
      "source": [
        "%%capture\n",
        "!pip install datasets"
      ]
    },
    {
      "cell_type": "code",
      "execution_count": null,
      "metadata": {
        "id": "mcgpxXNrUnGj"
      },
      "outputs": [],
      "source": [
        "%%capture\n",
        "!pip install evaluate\n",
        "!pip install seqeval"
      ]
    },
    {
      "cell_type": "code",
      "execution_count": null,
      "metadata": {
        "id": "wzUgpKT5KyZp"
      },
      "outputs": [],
      "source": [
        "%%capture\n",
        "!pip install --upgrade transformers"
      ]
    },
    {
      "cell_type": "code",
      "execution_count": null,
      "metadata": {
        "id": "i6PFBM0FNVeU"
      },
      "outputs": [],
      "source": [
        "%%capture\n",
        "!pip install matplotlib-venn\n",
        "!pip install pydot\n",
        "!pip install cartopy\n",
        "import cartopy\n",
        "import pydot"
      ]
    },
    {
      "cell_type": "code",
      "execution_count": null,
      "metadata": {
        "id": "8iyJZLSuv4ev"
      },
      "outputs": [],
      "source": [
        "%%capture\n",
        "!pip install accelerate -U"
      ]
    },
    {
      "cell_type": "code",
      "execution_count": null,
      "metadata": {
        "id": "C8gKCu6XrYY7"
      },
      "outputs": [],
      "source": [
        "import torch\n",
        "import pandas as pd\n",
        "import os\n",
        "import json\n",
        "import re\n",
        "import xml.etree.ElementTree as ET\n",
        "from collections import Counter\n",
        "from tqdm import tqdm\n",
        "import nltk\n",
        "import zipfile\n",
        "import tarfile\n",
        "from nltk.corpus import wordnet\n",
        "from nltk.stem import WordNetLemmatizer\n",
        "from google.colab import drive\n",
        "import matplotlib.pyplot as plt\n",
        "import os\n",
        "import numpy as np\n",
        "from sklearn.model_selection import train_test_split\n",
        "from tokenizers import Encoding\n",
        "from collections import defaultdict\n",
        "from torch.utils.data import Dataset, DataLoader\n",
        "from transformers import BertTokenizer, BertForTokenClassification, AdamW, get_linear_schedule_with_warmup, Trainer, TrainingArguments,  BatchEncoding\n",
        "import json\n",
        "import sqlite3\n",
        "import csv\n",
        "from tqdm import tqdm\n",
        "import pandas as pd\n",
        "import torch\n",
        "from google.colab import drive\n",
        "import matplotlib.pyplot as plt\n",
        "import os\n",
        "import numpy as np\n",
        "from sklearn.model_selection import train_test_split\n",
        "from tokenizers import Encoding\n",
        "from collections import defaultdict\n",
        "from torch.utils.data import Dataset, DataLoader\n",
        "from transformers import BertTokenizer, BertForTokenClassification, AdamW, get_linear_schedule_with_warmup, Trainer, TrainingArguments,  BatchEncoding\n",
        "import os\n",
        "import pandas as pd\n",
        "from lxml import etree\n",
        "import xml.etree.ElementTree as ET\n",
        "import xml.etree.ElementTree as ETree\n",
        "from pathlib import Path\n",
        "import glob\n",
        "from tqdm import tqdm\n",
        "from google.colab import drive\n",
        "import torch\n",
        "import matplotlib.pyplot as plt\n",
        "import numpy as np\n",
        "from sklearn.model_selection import train_test_split\n",
        "from tokenizers import Encoding\n",
        "from collections import defaultdict\n",
        "from torch.utils.data import Dataset, DataLoader\n",
        "from transformers import BertTokenizer, BertForTokenClassification, AdamW, get_linear_schedule_with_warmup, Trainer, TrainingArguments,  BatchEncoding"
      ]
    },
    {
      "cell_type": "code",
      "execution_count": null,
      "metadata": {
        "colab": {
          "base_uri": "https://localhost:8080/"
        },
        "id": "mC2XSPTJuXhk",
        "outputId": "a9c04944-4580-4d41-9ac0-b80953299198"
      },
      "outputs": [
        {
          "name": "stdout",
          "output_type": "stream",
          "text": [
            "Mounted at /content/drive\n"
          ]
        }
      ],
      "source": [
        "from google.colab import drive\n",
        "drive.mount('/content/drive')"
      ]
    },
    {
      "cell_type": "code",
      "execution_count": null,
      "metadata": {
        "id": "sVoTCmeAyPt1"
      },
      "outputs": [],
      "source": [
        "device = torch.device(\"cuda\")\n",
        "json_data = '/content/drive/MyDrive/davodi.json'\n",
        "persian_df = pd.read_json(json_data)\n",
        "persian_df = persian_df.drop(['_id', 'sentence', 'frame', 'lexicalUnit', 'status', 'issuer', 'is_active', 'createdAt', 'updatedAt', 'PId', 'lang', 'description', 'lexicalUnitHint', 'reviewer', 'lexicalUnitHelper', 'frameHelper', 'frameName', 'lexicalUnitName'], axis = 1)"
      ]
    },
    {
      "cell_type": "code",
      "execution_count": null,
      "metadata": {
        "id": "U8STebfkruf-"
      },
      "outputs": [],
      "source": [
        "def framenet_tags(FN_tags):\n",
        "    framenet_pattern = []\n",
        "    for FN_tag in FN_tags:\n",
        "        tag_type = FN_tag.get('tagType')\n",
        "        if tag_type == 5:\n",
        "            element = FN_tag.get('element', {})\n",
        "            element_name = element.get('name', '')\n",
        "            framenet_pattern.append(element_name)\n",
        "        else:\n",
        "            framenet_pattern.append('O')\n",
        "    return framenet_pattern"
      ]
    },
    {
      "cell_type": "code",
      "execution_count": null,
      "metadata": {
        "id": "vr_bQ8xwMPUi"
      },
      "outputs": [],
      "source": [
        "persian_df['frameNetTags'] = persian_df['frameNetTags'].apply(lambda FN_tags : framenet_tags(FN_tags))"
      ]
    },
    {
      "cell_type": "code",
      "execution_count": null,
      "metadata": {
        "id": "hpTSULsLubeJ"
      },
      "outputs": [],
      "source": [
        "device = torch.device(\"cuda\")\n",
        "sentences_path = \"/content/drive/MyDrive/sentences.zip\""
      ]
    },
    {
      "cell_type": "code",
      "execution_count": null,
      "metadata": {
        "colab": {
          "base_uri": "https://localhost:8080/"
        },
        "id": "IdzSd3_lbZgM",
        "outputId": "e6dc1390-bdfa-42ca-861e-a8fc533a1001"
      },
      "outputs": [
        {
          "data": {
            "text/plain": [
              "2304"
            ]
          },
          "execution_count": 12,
          "metadata": {},
          "output_type": "execute_result"
        }
      ],
      "source": [
        "os.system(\"unzip sentences.zip\")"
      ]
    },
    {
      "cell_type": "code",
      "execution_count": null,
      "metadata": {
        "id": "qsRNREQLa5Wp"
      },
      "outputs": [],
      "source": [
        "zip_file_path = '/content/drive/My Drive/sentences.zip'\n",
        "with zipfile.ZipFile(zip_file_path, 'r') as zip_ref:\n",
        "    zip_ref.extractall('/content/drive/My Drive/sentences')"
      ]
    },
    {
      "cell_type": "code",
      "execution_count": null,
      "metadata": {
        "id": "1XYJw079WEpT"
      },
      "outputs": [],
      "source": [
        "directory = \"/content/drive/MyDrive/sentences\"\n",
        "dataframes = []\n",
        "for filename in os.listdir(directory):\n",
        "    if filename.endswith(\".json\"):\n",
        "        filepath = os.path.join(directory, filename)\n",
        "        enpb_df = pd.read_json(filepath, lines=True)\n",
        "        dataframes.append(enpb_df)"
      ]
    },
    {
      "cell_type": "code",
      "execution_count": null,
      "metadata": {
        "id": "keOUDa7xWFPx"
      },
      "outputs": [],
      "source": [
        "def read_json_files(root_dir):\n",
        "  dataframes = []\n",
        "  for root, dirs, files in os.walk(root_dir):\n",
        "      for filename in files:\n",
        "          if filename.endswith(\".json\"):\n",
        "              filepath = os.path.join(root, filename)\n",
        "              df = pd.read_json(filepath, lines=True)\n",
        "              dataframes.append(df)\n",
        "  return dataframes\n",
        "dataframes = read_json_files(\"/content/drive/MyDrive/sentences\")"
      ]
    },
    {
      "cell_type": "code",
      "execution_count": null,
      "metadata": {
        "id": "4LgmJT6qs38h"
      },
      "outputs": [],
      "source": [
        "def prepare_token_classification_data(json_data):\n",
        "    all_roles = []\n",
        "    for key, value in json_data.items():\n",
        "        predicate = value['predicate']\n",
        "        roles = value['roles']\n",
        "        verb_index = int(key)\n",
        "        roles[verb_index] = \"B-V\"\n",
        "        roles = ['O' if role == '_' else role for role in roles]\n",
        "        all_roles.append(roles)\n",
        "    return all_roles"
      ]
    },
    {
      "cell_type": "code",
      "execution_count": null,
      "metadata": {
        "id": "iajvjXak3DlM"
      },
      "outputs": [],
      "source": [
        "def create_token_label_dataframe_from_columns(df):\n",
        "    sentence_ids = df[\"sentence_id\"].tolist()\n",
        "    words = df['words'].tolist()\n",
        "    predictions = df['predictions'].tolist()\n",
        "    df_prepared = pd.DataFrame(columns=[\"sentence_id\", \"words\", \"predictions\"])\n",
        "    for i, (sentence_id, word, prediction) in enumerate(zip(sentence_ids, words, predictions)):\n",
        "        for label in prediction:\n",
        "            df_prepared.loc[len(df_prepared)] = [sentence_id, word, label]\n",
        "    return df_prepared"
      ]
    },
    {
      "cell_type": "code",
      "execution_count": null,
      "metadata": {
        "id": "f9J6MquBovp2"
      },
      "outputs": [],
      "source": [
        "enpb_df['predictions'] = enpb_df['predictions'].apply(lambda json_data : prepare_token_classification_data(json_data))"
      ]
    },
    {
      "cell_type": "code",
      "execution_count": null,
      "metadata": {
        "id": "Vo7M027LCHBm"
      },
      "outputs": [],
      "source": [
        "enpb_df = create_token_label_dataframe_from_columns(enpb_df)"
      ]
    },
    {
      "cell_type": "code",
      "execution_count": null,
      "metadata": {
        "id": "Wd7QwiBnvVHd"
      },
      "outputs": [],
      "source": [
        "enpb_df = enpb_df.rename(columns={'predictions': 'propBankTags'})"
      ]
    },
    {
      "cell_type": "code",
      "execution_count": null,
      "metadata": {
        "id": "PYJixkCaIPz2"
      },
      "outputs": [],
      "source": [
        "enpb_df['Sentence'] = enpb_df['words'].apply(lambda x: ' '.join(x))"
      ]
    },
    {
      "cell_type": "code",
      "execution_count": null,
      "metadata": {
        "colab": {
          "base_uri": "https://localhost:8080/",
          "height": 424
        },
        "id": "auRJ9FJxAS9L",
        "outputId": "aaf3316a-02a2-4e95-a391-7fc332841175"
      },
      "outputs": [
        {
          "data": {
            "application/vnd.google.colaboratory.intrinsic+json": {
              "summary": "{\n  \"name\": \"enpb_df\",\n  \"rows\": 26159,\n  \"fields\": [\n    {\n      \"column\": \"sentence_id\",\n      \"properties\": {\n        \"dtype\": \"number\",\n        \"std\": 2981,\n        \"min\": 0,\n        \"max\": 10261,\n        \"num_unique_values\": 9613,\n        \"samples\": [\n          10144,\n          2141,\n          384\n        ],\n        \"semantic_type\": \"\",\n        \"description\": \"\"\n      }\n    },\n    {\n      \"column\": \"words\",\n      \"properties\": {\n        \"dtype\": \"object\",\n        \"semantic_type\": \"\",\n        \"description\": \"\"\n      }\n    },\n    {\n      \"column\": \"propBankTags\",\n      \"properties\": {\n        \"dtype\": \"object\",\n        \"semantic_type\": \"\",\n        \"description\": \"\"\n      }\n    },\n    {\n      \"column\": \"Sentence\",\n      \"properties\": {\n        \"dtype\": \"category\",\n        \"num_unique_values\": 9565,\n        \"samples\": [\n          \"The process went so far in Algeria earlier this year that the army cancelled the results of general elections when it became clear that the Islamic Salvation Front would win an overwhelming victory .\",\n          \"They also eat the eggs of birds and other reptiles .\",\n          \"He produced a packet of cigarettes , and lit up .\"\n        ],\n        \"semantic_type\": \"\",\n        \"description\": \"\"\n      }\n    }\n  ]\n}",
              "type": "dataframe",
              "variable_name": "enpb_df"
            },
            "text/html": [
              "\n",
              "  <div id=\"df-9e8bf31c-9637-4ed9-aec9-6dd721a24b49\" class=\"colab-df-container\">\n",
              "    <div>\n",
              "<style scoped>\n",
              "    .dataframe tbody tr th:only-of-type {\n",
              "        vertical-align: middle;\n",
              "    }\n",
              "\n",
              "    .dataframe tbody tr th {\n",
              "        vertical-align: top;\n",
              "    }\n",
              "\n",
              "    .dataframe thead th {\n",
              "        text-align: right;\n",
              "    }\n",
              "</style>\n",
              "<table border=\"1\" class=\"dataframe\">\n",
              "  <thead>\n",
              "    <tr style=\"text-align: right;\">\n",
              "      <th></th>\n",
              "      <th>sentence_id</th>\n",
              "      <th>words</th>\n",
              "      <th>propBankTags</th>\n",
              "      <th>Sentence</th>\n",
              "    </tr>\n",
              "  </thead>\n",
              "  <tbody>\n",
              "    <tr>\n",
              "      <th>0</th>\n",
              "      <td>0</td>\n",
              "      <td>[And, without, more, ado, the, two, officers, ...</td>\n",
              "      <td>[O, AM-MNR, O, O, O, O, A0, B-V, O, A1, A2, O,...</td>\n",
              "      <td>And without more ado the two officers fastened...</td>\n",
              "    </tr>\n",
              "    <tr>\n",
              "      <th>1</th>\n",
              "      <td>0</td>\n",
              "      <td>[And, without, more, ado, the, two, officers, ...</td>\n",
              "      <td>[AM-DIS, AM-MNR, O, O, O, O, A0, O, O, O, O, O...</td>\n",
              "      <td>And without more ado the two officers fastened...</td>\n",
              "    </tr>\n",
              "    <tr>\n",
              "      <th>2</th>\n",
              "      <td>1</td>\n",
              "      <td>[She, would, fasten, the, ring, about, her, ne...</td>\n",
              "      <td>[A0, AM-MOD, B-V, O, A1, A2, O, O, O, O, O, O,...</td>\n",
              "      <td>She would fasten the ring about her neck and w...</td>\n",
              "    </tr>\n",
              "    <tr>\n",
              "      <th>3</th>\n",
              "      <td>1</td>\n",
              "      <td>[She, would, fasten, the, ring, about, her, ne...</td>\n",
              "      <td>[A0, AM-MOD, O, O, O, O, O, O, O, B-V, A1, AM-...</td>\n",
              "      <td>She would fasten the ring about her neck and w...</td>\n",
              "    </tr>\n",
              "    <tr>\n",
              "      <th>4</th>\n",
              "      <td>1</td>\n",
              "      <td>[She, would, fasten, the, ring, about, her, ne...</td>\n",
              "      <td>[O, O, O, O, O, O, O, O, O, O, O, O, O, O, O, ...</td>\n",
              "      <td>She would fasten the ring about her neck and w...</td>\n",
              "    </tr>\n",
              "    <tr>\n",
              "      <th>...</th>\n",
              "      <td>...</td>\n",
              "      <td>...</td>\n",
              "      <td>...</td>\n",
              "      <td>...</td>\n",
              "    </tr>\n",
              "    <tr>\n",
              "      <th>26154</th>\n",
              "      <td>10260</td>\n",
              "      <td>[It, was, after, the, first, snow, and, I, fol...</td>\n",
              "      <td>[O, O, O, O, O, O, O, A0, B-V, O, O, A1, AM-DI...</td>\n",
              "      <td>It was after the first snow and I followed the...</td>\n",
              "    </tr>\n",
              "    <tr>\n",
              "      <th>26155</th>\n",
              "      <td>10260</td>\n",
              "      <td>[It, was, after, the, first, snow, and, I, fol...</td>\n",
              "      <td>[O, O, O, O, O, O, O, A0, O, O, O, O, O, O, O,...</td>\n",
              "      <td>It was after the first snow and I followed the...</td>\n",
              "    </tr>\n",
              "    <tr>\n",
              "      <th>26156</th>\n",
              "      <td>10260</td>\n",
              "      <td>[It, was, after, the, first, snow, and, I, fol...</td>\n",
              "      <td>[O, O, O, O, O, O, O, O, O, O, O, O, O, O, O, ...</td>\n",
              "      <td>It was after the first snow and I followed the...</td>\n",
              "    </tr>\n",
              "    <tr>\n",
              "      <th>26157</th>\n",
              "      <td>10261</td>\n",
              "      <td>[There, was, only, a, handful, of, mourners, a...</td>\n",
              "      <td>[O, B-V, O, O, A1, O, O, O, O, O, O, AM-CAU, O...</td>\n",
              "      <td>There was only a handful of mourners at Gillam...</td>\n",
              "    </tr>\n",
              "    <tr>\n",
              "      <th>26158</th>\n",
              "      <td>10261</td>\n",
              "      <td>[There, was, only, a, handful, of, mourners, a...</td>\n",
              "      <td>[O, O, O, O, O, O, O, O, O, O, O, O, O, A1, O,...</td>\n",
              "      <td>There was only a handful of mourners at Gillam...</td>\n",
              "    </tr>\n",
              "  </tbody>\n",
              "</table>\n",
              "<p>26159 rows × 4 columns</p>\n",
              "</div>\n",
              "    <div class=\"colab-df-buttons\">\n",
              "\n",
              "  <div class=\"colab-df-container\">\n",
              "    <button class=\"colab-df-convert\" onclick=\"convertToInteractive('df-9e8bf31c-9637-4ed9-aec9-6dd721a24b49')\"\n",
              "            title=\"Convert this dataframe to an interactive table.\"\n",
              "            style=\"display:none;\">\n",
              "\n",
              "  <svg xmlns=\"http://www.w3.org/2000/svg\" height=\"24px\" viewBox=\"0 -960 960 960\">\n",
              "    <path d=\"M120-120v-720h720v720H120Zm60-500h600v-160H180v160Zm220 220h160v-160H400v160Zm0 220h160v-160H400v160ZM180-400h160v-160H180v160Zm440 0h160v-160H620v160ZM180-180h160v-160H180v160Zm440 0h160v-160H620v160Z\"/>\n",
              "  </svg>\n",
              "    </button>\n",
              "\n",
              "  <style>\n",
              "    .colab-df-container {\n",
              "      display:flex;\n",
              "      gap: 12px;\n",
              "    }\n",
              "\n",
              "    .colab-df-convert {\n",
              "      background-color: #E8F0FE;\n",
              "      border: none;\n",
              "      border-radius: 50%;\n",
              "      cursor: pointer;\n",
              "      display: none;\n",
              "      fill: #1967D2;\n",
              "      height: 32px;\n",
              "      padding: 0 0 0 0;\n",
              "      width: 32px;\n",
              "    }\n",
              "\n",
              "    .colab-df-convert:hover {\n",
              "      background-color: #E2EBFA;\n",
              "      box-shadow: 0px 1px 2px rgba(60, 64, 67, 0.3), 0px 1px 3px 1px rgba(60, 64, 67, 0.15);\n",
              "      fill: #174EA6;\n",
              "    }\n",
              "\n",
              "    .colab-df-buttons div {\n",
              "      margin-bottom: 4px;\n",
              "    }\n",
              "\n",
              "    [theme=dark] .colab-df-convert {\n",
              "      background-color: #3B4455;\n",
              "      fill: #D2E3FC;\n",
              "    }\n",
              "\n",
              "    [theme=dark] .colab-df-convert:hover {\n",
              "      background-color: #434B5C;\n",
              "      box-shadow: 0px 1px 3px 1px rgba(0, 0, 0, 0.15);\n",
              "      filter: drop-shadow(0px 1px 2px rgba(0, 0, 0, 0.3));\n",
              "      fill: #FFFFFF;\n",
              "    }\n",
              "  </style>\n",
              "\n",
              "    <script>\n",
              "      const buttonEl =\n",
              "        document.querySelector('#df-9e8bf31c-9637-4ed9-aec9-6dd721a24b49 button.colab-df-convert');\n",
              "      buttonEl.style.display =\n",
              "        google.colab.kernel.accessAllowed ? 'block' : 'none';\n",
              "\n",
              "      async function convertToInteractive(key) {\n",
              "        const element = document.querySelector('#df-9e8bf31c-9637-4ed9-aec9-6dd721a24b49');\n",
              "        const dataTable =\n",
              "          await google.colab.kernel.invokeFunction('convertToInteractive',\n",
              "                                                    [key], {});\n",
              "        if (!dataTable) return;\n",
              "\n",
              "        const docLinkHtml = 'Like what you see? Visit the ' +\n",
              "          '<a target=\"_blank\" href=https://colab.research.google.com/notebooks/data_table.ipynb>data table notebook</a>'\n",
              "          + ' to learn more about interactive tables.';\n",
              "        element.innerHTML = '';\n",
              "        dataTable['output_type'] = 'display_data';\n",
              "        await google.colab.output.renderOutput(dataTable, element);\n",
              "        const docLink = document.createElement('div');\n",
              "        docLink.innerHTML = docLinkHtml;\n",
              "        element.appendChild(docLink);\n",
              "      }\n",
              "    </script>\n",
              "  </div>\n",
              "\n",
              "\n",
              "<div id=\"df-ac6b371c-dd79-4341-8073-1e94ebc1d28c\">\n",
              "  <button class=\"colab-df-quickchart\" onclick=\"quickchart('df-ac6b371c-dd79-4341-8073-1e94ebc1d28c')\"\n",
              "            title=\"Suggest charts\"\n",
              "            style=\"display:none;\">\n",
              "\n",
              "<svg xmlns=\"http://www.w3.org/2000/svg\" height=\"24px\"viewBox=\"0 0 24 24\"\n",
              "     width=\"24px\">\n",
              "    <g>\n",
              "        <path d=\"M19 3H5c-1.1 0-2 .9-2 2v14c0 1.1.9 2 2 2h14c1.1 0 2-.9 2-2V5c0-1.1-.9-2-2-2zM9 17H7v-7h2v7zm4 0h-2V7h2v10zm4 0h-2v-4h2v4z\"/>\n",
              "    </g>\n",
              "</svg>\n",
              "  </button>\n",
              "\n",
              "<style>\n",
              "  .colab-df-quickchart {\n",
              "      --bg-color: #E8F0FE;\n",
              "      --fill-color: #1967D2;\n",
              "      --hover-bg-color: #E2EBFA;\n",
              "      --hover-fill-color: #174EA6;\n",
              "      --disabled-fill-color: #AAA;\n",
              "      --disabled-bg-color: #DDD;\n",
              "  }\n",
              "\n",
              "  [theme=dark] .colab-df-quickchart {\n",
              "      --bg-color: #3B4455;\n",
              "      --fill-color: #D2E3FC;\n",
              "      --hover-bg-color: #434B5C;\n",
              "      --hover-fill-color: #FFFFFF;\n",
              "      --disabled-bg-color: #3B4455;\n",
              "      --disabled-fill-color: #666;\n",
              "  }\n",
              "\n",
              "  .colab-df-quickchart {\n",
              "    background-color: var(--bg-color);\n",
              "    border: none;\n",
              "    border-radius: 50%;\n",
              "    cursor: pointer;\n",
              "    display: none;\n",
              "    fill: var(--fill-color);\n",
              "    height: 32px;\n",
              "    padding: 0;\n",
              "    width: 32px;\n",
              "  }\n",
              "\n",
              "  .colab-df-quickchart:hover {\n",
              "    background-color: var(--hover-bg-color);\n",
              "    box-shadow: 0 1px 2px rgba(60, 64, 67, 0.3), 0 1px 3px 1px rgba(60, 64, 67, 0.15);\n",
              "    fill: var(--button-hover-fill-color);\n",
              "  }\n",
              "\n",
              "  .colab-df-quickchart-complete:disabled,\n",
              "  .colab-df-quickchart-complete:disabled:hover {\n",
              "    background-color: var(--disabled-bg-color);\n",
              "    fill: var(--disabled-fill-color);\n",
              "    box-shadow: none;\n",
              "  }\n",
              "\n",
              "  .colab-df-spinner {\n",
              "    border: 2px solid var(--fill-color);\n",
              "    border-color: transparent;\n",
              "    border-bottom-color: var(--fill-color);\n",
              "    animation:\n",
              "      spin 1s steps(1) infinite;\n",
              "  }\n",
              "\n",
              "  @keyframes spin {\n",
              "    0% {\n",
              "      border-color: transparent;\n",
              "      border-bottom-color: var(--fill-color);\n",
              "      border-left-color: var(--fill-color);\n",
              "    }\n",
              "    20% {\n",
              "      border-color: transparent;\n",
              "      border-left-color: var(--fill-color);\n",
              "      border-top-color: var(--fill-color);\n",
              "    }\n",
              "    30% {\n",
              "      border-color: transparent;\n",
              "      border-left-color: var(--fill-color);\n",
              "      border-top-color: var(--fill-color);\n",
              "      border-right-color: var(--fill-color);\n",
              "    }\n",
              "    40% {\n",
              "      border-color: transparent;\n",
              "      border-right-color: var(--fill-color);\n",
              "      border-top-color: var(--fill-color);\n",
              "    }\n",
              "    60% {\n",
              "      border-color: transparent;\n",
              "      border-right-color: var(--fill-color);\n",
              "    }\n",
              "    80% {\n",
              "      border-color: transparent;\n",
              "      border-right-color: var(--fill-color);\n",
              "      border-bottom-color: var(--fill-color);\n",
              "    }\n",
              "    90% {\n",
              "      border-color: transparent;\n",
              "      border-bottom-color: var(--fill-color);\n",
              "    }\n",
              "  }\n",
              "</style>\n",
              "\n",
              "  <script>\n",
              "    async function quickchart(key) {\n",
              "      const quickchartButtonEl =\n",
              "        document.querySelector('#' + key + ' button');\n",
              "      quickchartButtonEl.disabled = true;  // To prevent multiple clicks.\n",
              "      quickchartButtonEl.classList.add('colab-df-spinner');\n",
              "      try {\n",
              "        const charts = await google.colab.kernel.invokeFunction(\n",
              "            'suggestCharts', [key], {});\n",
              "      } catch (error) {\n",
              "        console.error('Error during call to suggestCharts:', error);\n",
              "      }\n",
              "      quickchartButtonEl.classList.remove('colab-df-spinner');\n",
              "      quickchartButtonEl.classList.add('colab-df-quickchart-complete');\n",
              "    }\n",
              "    (() => {\n",
              "      let quickchartButtonEl =\n",
              "        document.querySelector('#df-ac6b371c-dd79-4341-8073-1e94ebc1d28c button');\n",
              "      quickchartButtonEl.style.display =\n",
              "        google.colab.kernel.accessAllowed ? 'block' : 'none';\n",
              "    })();\n",
              "  </script>\n",
              "</div>\n",
              "    </div>\n",
              "  </div>\n"
            ],
            "text/plain": [
              "       sentence_id                                              words  \\\n",
              "0                0  [And, without, more, ado, the, two, officers, ...   \n",
              "1                0  [And, without, more, ado, the, two, officers, ...   \n",
              "2                1  [She, would, fasten, the, ring, about, her, ne...   \n",
              "3                1  [She, would, fasten, the, ring, about, her, ne...   \n",
              "4                1  [She, would, fasten, the, ring, about, her, ne...   \n",
              "...            ...                                                ...   \n",
              "26154        10260  [It, was, after, the, first, snow, and, I, fol...   \n",
              "26155        10260  [It, was, after, the, first, snow, and, I, fol...   \n",
              "26156        10260  [It, was, after, the, first, snow, and, I, fol...   \n",
              "26157        10261  [There, was, only, a, handful, of, mourners, a...   \n",
              "26158        10261  [There, was, only, a, handful, of, mourners, a...   \n",
              "\n",
              "                                            propBankTags  \\\n",
              "0      [O, AM-MNR, O, O, O, O, A0, B-V, O, A1, A2, O,...   \n",
              "1      [AM-DIS, AM-MNR, O, O, O, O, A0, O, O, O, O, O...   \n",
              "2      [A0, AM-MOD, B-V, O, A1, A2, O, O, O, O, O, O,...   \n",
              "3      [A0, AM-MOD, O, O, O, O, O, O, O, B-V, A1, AM-...   \n",
              "4      [O, O, O, O, O, O, O, O, O, O, O, O, O, O, O, ...   \n",
              "...                                                  ...   \n",
              "26154  [O, O, O, O, O, O, O, A0, B-V, O, O, A1, AM-DI...   \n",
              "26155  [O, O, O, O, O, O, O, A0, O, O, O, O, O, O, O,...   \n",
              "26156  [O, O, O, O, O, O, O, O, O, O, O, O, O, O, O, ...   \n",
              "26157  [O, B-V, O, O, A1, O, O, O, O, O, O, AM-CAU, O...   \n",
              "26158  [O, O, O, O, O, O, O, O, O, O, O, O, O, A1, O,...   \n",
              "\n",
              "                                                Sentence  \n",
              "0      And without more ado the two officers fastened...  \n",
              "1      And without more ado the two officers fastened...  \n",
              "2      She would fasten the ring about her neck and w...  \n",
              "3      She would fasten the ring about her neck and w...  \n",
              "4      She would fasten the ring about her neck and w...  \n",
              "...                                                  ...  \n",
              "26154  It was after the first snow and I followed the...  \n",
              "26155  It was after the first snow and I followed the...  \n",
              "26156  It was after the first snow and I followed the...  \n",
              "26157  There was only a handful of mourners at Gillam...  \n",
              "26158  There was only a handful of mourners at Gillam...  \n",
              "\n",
              "[26159 rows x 4 columns]"
            ]
          },
          "execution_count": 22,
          "metadata": {},
          "output_type": "execute_result"
        }
      ],
      "source": [
        "enpb_df"
      ]
    },
    {
      "cell_type": "code",
      "execution_count": null,
      "metadata": {
        "id": "YpFYfjBzCOfr"
      },
      "outputs": [],
      "source": [
        "def process_label(label, all_words):\n",
        "    start = label.get('start')\n",
        "    end = label.get('end')\n",
        "    if start is not None or end is not None:\n",
        "        start = int(start)\n",
        "        end = int(end)\n",
        "        accumulated_chars = 0\n",
        "        start_word_index = 0\n",
        "        end_word_index = 0\n",
        "        for i, word in enumerate(all_words):\n",
        "            word_length = len(word)\n",
        "            if accumulated_chars <= start:\n",
        "                start_word_index = i\n",
        "            if accumulated_chars >= end:\n",
        "                end_word_index = i - 1\n",
        "                break\n",
        "            accumulated_chars += word_length + 1\n",
        "        if end_word_index is None:\n",
        "            end_word_index = len(all_words) - 1\n",
        "        extracted_word = ' '.join(all_words[start_word_index:end_word_index + 1])\n",
        "        return start, end, label.get('name'), extracted_word\n",
        "    else:\n",
        "        return None"
      ]
    },
    {
      "cell_type": "code",
      "execution_count": null,
      "metadata": {
        "id": "jCU5q2sPO-cy"
      },
      "outputs": [],
      "source": [
        "def annotate_sentence(df):\n",
        "    sentence = df['Sentence']\n",
        "    words = df['words']\n",
        "    start = df['Start']\n",
        "    end = df['End']\n",
        "    annotation = df['Annotated Names']\n",
        "    annotated_words = df['Extracted Words']\n",
        "    result = []\n",
        "    char_index = 0\n",
        "    for word in words:\n",
        "        label = 'O'\n",
        "        word_start = char_index\n",
        "        word_end = char_index + len(word) - 1\n",
        "        if word in annotated_words.split():\n",
        "            label = annotation\n",
        "        result.append(label)\n",
        "        char_index = word_end + 1\n",
        "    return result"
      ]
    },
    {
      "cell_type": "code",
      "execution_count": null,
      "metadata": {
        "id": "ivlYEnnc0rww"
      },
      "outputs": [],
      "source": [
        "xml_folder_path = '/content/drive/My Drive/framenetdata-1.7/fndata-1.7/lu'\n",
        "xml_files = glob.glob(xml_folder_path + '/*.xml')\n",
        "table = []\n",
        "namespace = {'fn': 'http://framenet.icsi.berkeley.edu'}"
      ]
    },
    {
      "cell_type": "code",
      "execution_count": null,
      "metadata": {
        "colab": {
          "base_uri": "https://localhost:8080/"
        },
        "id": "Ob6_XvjYQ1Uv",
        "outputId": "80358a31-59f3-41e2-c908-2776cc9140da"
      },
      "outputs": [
        {
          "name": "stderr",
          "output_type": "stream",
          "text": [
            " 41%|████      | 1024/2483 [01:20<00:12, 121.51it/s]"
          ]
        },
        {
          "name": "stdout",
          "output_type": "stream",
          "text": [
            "Error parsing XML file: no element found: line 2, column 0\n",
            "XML file Name:/content/drive/My Drive/framenetdata-1.7/fndata-1.7/lu/lu3973.xml\n"
          ]
        },
        {
          "name": "stderr",
          "output_type": "stream",
          "text": [
            "100%|██████████| 2483/2483 [01:37<00:00, 25.52it/s]\n"
          ]
        }
      ],
      "source": [
        "for filename in tqdm(xml_files):\n",
        "    try:\n",
        "        tree = ET.parse(filename)\n",
        "        root = tree.getroot()\n",
        "        for sentence in root.findall('.//fn:sentence', namespace):\n",
        "            text_element = sentence.find('fn:text', namespace)\n",
        "            if text_element is not None and text_element.text:\n",
        "                all_words = text_element.text.split()\n",
        "                annotation_sets = sentence.findall('.//fn:annotationSet[@status=\"MANUAL\"]', namespace)\n",
        "                for annotation_set in annotation_sets:\n",
        "                    layers = annotation_set.findall('.//fn:layer[@name=\"FE\"]', namespace)\n",
        "                    for layer in layers:\n",
        "                        labels = layer.findall('.//fn:label', namespace)\n",
        "                        for label in labels:\n",
        "                            processed_label = process_label(label, all_words)\n",
        "                            if processed_label is not None:\n",
        "                                table.append((text_element.text,) + processed_label)\n",
        "    except ET.ParseError as e:\n",
        "        print(f\"Error parsing XML file: {e}\")\n",
        "        print(f\"XML file Name:\" + str(filename))"
      ]
    },
    {
      "cell_type": "code",
      "execution_count": null,
      "metadata": {
        "colab": {
          "base_uri": "https://localhost:8080/",
          "height": 424
        },
        "id": "ZWBcf-3So4EJ",
        "outputId": "0982462f-b4c5-40e6-a061-5f62c2002743"
      },
      "outputs": [
        {
          "data": {
            "application/vnd.google.colaboratory.intrinsic+json": {
              "summary": "{\n  \"name\": \"enfn_df\",\n  \"rows\": 59147,\n  \"fields\": [\n    {\n      \"column\": \"Sentence\",\n      \"properties\": {\n        \"dtype\": \"category\",\n        \"num_unique_values\": 27655,\n        \"samples\": [\n          \"By contrast , European firms will spend $ 150 million this year on electronic security , and are expected to spend $ 1 billion by 1992 .\",\n          \"Dulles also favoured American aid to members of the Baghdad Pact , though without American adherence . \",\n          \"I consulted a lawyer at the Citizens Advice Bureau when I was in Norwich last Friday . \"\n        ],\n        \"semantic_type\": \"\",\n        \"description\": \"\"\n      }\n    },\n    {\n      \"column\": \"words\",\n      \"properties\": {\n        \"dtype\": \"object\",\n        \"semantic_type\": \"\",\n        \"description\": \"\"\n      }\n    },\n    {\n      \"column\": \"frameNetTags\",\n      \"properties\": {\n        \"dtype\": \"object\",\n        \"semantic_type\": \"\",\n        \"description\": \"\"\n      }\n    }\n  ]\n}",
              "type": "dataframe",
              "variable_name": "enfn_df"
            },
            "text/html": [
              "\n",
              "  <div id=\"df-65276a66-4a25-4182-97c4-7c74cf4f8df6\" class=\"colab-df-container\">\n",
              "    <div>\n",
              "<style scoped>\n",
              "    .dataframe tbody tr th:only-of-type {\n",
              "        vertical-align: middle;\n",
              "    }\n",
              "\n",
              "    .dataframe tbody tr th {\n",
              "        vertical-align: top;\n",
              "    }\n",
              "\n",
              "    .dataframe thead th {\n",
              "        text-align: right;\n",
              "    }\n",
              "</style>\n",
              "<table border=\"1\" class=\"dataframe\">\n",
              "  <thead>\n",
              "    <tr style=\"text-align: right;\">\n",
              "      <th></th>\n",
              "      <th>Sentence</th>\n",
              "      <th>words</th>\n",
              "      <th>frameNetTags</th>\n",
              "    </tr>\n",
              "  </thead>\n",
              "  <tbody>\n",
              "    <tr>\n",
              "      <th>0</th>\n",
              "      <td>` What makes you think Rainbow would entertain...</td>\n",
              "      <td>[`, What, makes, you, think, Rainbow, would, e...</td>\n",
              "      <td>[O, O, O, Entity_2, O, O, O, O, O, O, O, O, O,...</td>\n",
              "    </tr>\n",
              "    <tr>\n",
              "      <th>1</th>\n",
              "      <td>` What makes you think Rainbow would entertain...</td>\n",
              "      <td>[`, What, makes, you, think, Rainbow, would, e...</td>\n",
              "      <td>[O, O, O, O, O, O, O, O, O, O, O, O, O, Entity...</td>\n",
              "    </tr>\n",
              "    <tr>\n",
              "      <th>2</th>\n",
              "      <td>It aims to compete with the likes of BMW and A...</td>\n",
              "      <td>[It, aims, to, compete, with, the, likes, of, ...</td>\n",
              "      <td>[O, O, O, O, O, O, O, Entity_2, Entity_2, Enti...</td>\n",
              "    </tr>\n",
              "    <tr>\n",
              "      <th>3</th>\n",
              "      <td>It aims to compete with the likes of BMW and A...</td>\n",
              "      <td>[It, aims, to, compete, with, the, likes, of, ...</td>\n",
              "      <td>[O, O, O, O, O, O, Entity_1, O, O, O, O, O, O,...</td>\n",
              "    </tr>\n",
              "    <tr>\n",
              "      <th>4</th>\n",
              "      <td>They anathematised and expelled the likes of A...</td>\n",
              "      <td>[They, anathematised, and, expelled, the, like...</td>\n",
              "      <td>[O, O, O, O, O, O, Entity_2, Entity_2, Entity_...</td>\n",
              "    </tr>\n",
              "    <tr>\n",
              "      <th>...</th>\n",
              "      <td>...</td>\n",
              "      <td>...</td>\n",
              "      <td>...</td>\n",
              "    </tr>\n",
              "    <tr>\n",
              "      <th>59142</th>\n",
              "      <td>During his four days in Iraq , Hall said he wa...</td>\n",
              "      <td>[During, his, four, days, in, Iraq, ,, Hall, s...</td>\n",
              "      <td>[O, O, O, O, O, O, O, O, O, O, O, O, O, O, Und...</td>\n",
              "    </tr>\n",
              "    <tr>\n",
              "      <th>59143</th>\n",
              "      <td>During his four days in Iraq , Hall said he wa...</td>\n",
              "      <td>[During, his, four, days, in, Iraq, ,, Hall, s...</td>\n",
              "      <td>[O, O, O, O, O, O, O, O, O, O, O, O, O, O, O, ...</td>\n",
              "    </tr>\n",
              "    <tr>\n",
              "      <th>59144</th>\n",
              "      <td>But the many whose lives he had ruined , whose...</td>\n",
              "      <td>[But, the, many, whose, lives, he, had, ruined...</td>\n",
              "      <td>[O, O, O, O, O, O, O, O, O, O, O, Undesirable_...</td>\n",
              "    </tr>\n",
              "    <tr>\n",
              "      <th>59145</th>\n",
              "      <td>But the many whose lives he had ruined , whose...</td>\n",
              "      <td>[But, the, many, whose, lives, he, had, ruined...</td>\n",
              "      <td>[O, O, O, O, O, O, O, O, O, O, Patient, Patien...</td>\n",
              "    </tr>\n",
              "    <tr>\n",
              "      <th>59146</th>\n",
              "      <td>But the many whose lives he had ruined , whose...</td>\n",
              "      <td>[But, the, many, whose, lives, he, had, ruined...</td>\n",
              "      <td>[O, O, O, Patient, O, O, O, O, O, Patient, O, ...</td>\n",
              "    </tr>\n",
              "  </tbody>\n",
              "</table>\n",
              "<p>59147 rows × 3 columns</p>\n",
              "</div>\n",
              "    <div class=\"colab-df-buttons\">\n",
              "\n",
              "  <div class=\"colab-df-container\">\n",
              "    <button class=\"colab-df-convert\" onclick=\"convertToInteractive('df-65276a66-4a25-4182-97c4-7c74cf4f8df6')\"\n",
              "            title=\"Convert this dataframe to an interactive table.\"\n",
              "            style=\"display:none;\">\n",
              "\n",
              "  <svg xmlns=\"http://www.w3.org/2000/svg\" height=\"24px\" viewBox=\"0 -960 960 960\">\n",
              "    <path d=\"M120-120v-720h720v720H120Zm60-500h600v-160H180v160Zm220 220h160v-160H400v160Zm0 220h160v-160H400v160ZM180-400h160v-160H180v160Zm440 0h160v-160H620v160ZM180-180h160v-160H180v160Zm440 0h160v-160H620v160Z\"/>\n",
              "  </svg>\n",
              "    </button>\n",
              "\n",
              "  <style>\n",
              "    .colab-df-container {\n",
              "      display:flex;\n",
              "      gap: 12px;\n",
              "    }\n",
              "\n",
              "    .colab-df-convert {\n",
              "      background-color: #E8F0FE;\n",
              "      border: none;\n",
              "      border-radius: 50%;\n",
              "      cursor: pointer;\n",
              "      display: none;\n",
              "      fill: #1967D2;\n",
              "      height: 32px;\n",
              "      padding: 0 0 0 0;\n",
              "      width: 32px;\n",
              "    }\n",
              "\n",
              "    .colab-df-convert:hover {\n",
              "      background-color: #E2EBFA;\n",
              "      box-shadow: 0px 1px 2px rgba(60, 64, 67, 0.3), 0px 1px 3px 1px rgba(60, 64, 67, 0.15);\n",
              "      fill: #174EA6;\n",
              "    }\n",
              "\n",
              "    .colab-df-buttons div {\n",
              "      margin-bottom: 4px;\n",
              "    }\n",
              "\n",
              "    [theme=dark] .colab-df-convert {\n",
              "      background-color: #3B4455;\n",
              "      fill: #D2E3FC;\n",
              "    }\n",
              "\n",
              "    [theme=dark] .colab-df-convert:hover {\n",
              "      background-color: #434B5C;\n",
              "      box-shadow: 0px 1px 3px 1px rgba(0, 0, 0, 0.15);\n",
              "      filter: drop-shadow(0px 1px 2px rgba(0, 0, 0, 0.3));\n",
              "      fill: #FFFFFF;\n",
              "    }\n",
              "  </style>\n",
              "\n",
              "    <script>\n",
              "      const buttonEl =\n",
              "        document.querySelector('#df-65276a66-4a25-4182-97c4-7c74cf4f8df6 button.colab-df-convert');\n",
              "      buttonEl.style.display =\n",
              "        google.colab.kernel.accessAllowed ? 'block' : 'none';\n",
              "\n",
              "      async function convertToInteractive(key) {\n",
              "        const element = document.querySelector('#df-65276a66-4a25-4182-97c4-7c74cf4f8df6');\n",
              "        const dataTable =\n",
              "          await google.colab.kernel.invokeFunction('convertToInteractive',\n",
              "                                                    [key], {});\n",
              "        if (!dataTable) return;\n",
              "\n",
              "        const docLinkHtml = 'Like what you see? Visit the ' +\n",
              "          '<a target=\"_blank\" href=https://colab.research.google.com/notebooks/data_table.ipynb>data table notebook</a>'\n",
              "          + ' to learn more about interactive tables.';\n",
              "        element.innerHTML = '';\n",
              "        dataTable['output_type'] = 'display_data';\n",
              "        await google.colab.output.renderOutput(dataTable, element);\n",
              "        const docLink = document.createElement('div');\n",
              "        docLink.innerHTML = docLinkHtml;\n",
              "        element.appendChild(docLink);\n",
              "      }\n",
              "    </script>\n",
              "  </div>\n",
              "\n",
              "\n",
              "<div id=\"df-97e3446e-dd3d-4a15-833c-3d385d7a92f9\">\n",
              "  <button class=\"colab-df-quickchart\" onclick=\"quickchart('df-97e3446e-dd3d-4a15-833c-3d385d7a92f9')\"\n",
              "            title=\"Suggest charts\"\n",
              "            style=\"display:none;\">\n",
              "\n",
              "<svg xmlns=\"http://www.w3.org/2000/svg\" height=\"24px\"viewBox=\"0 0 24 24\"\n",
              "     width=\"24px\">\n",
              "    <g>\n",
              "        <path d=\"M19 3H5c-1.1 0-2 .9-2 2v14c0 1.1.9 2 2 2h14c1.1 0 2-.9 2-2V5c0-1.1-.9-2-2-2zM9 17H7v-7h2v7zm4 0h-2V7h2v10zm4 0h-2v-4h2v4z\"/>\n",
              "    </g>\n",
              "</svg>\n",
              "  </button>\n",
              "\n",
              "<style>\n",
              "  .colab-df-quickchart {\n",
              "      --bg-color: #E8F0FE;\n",
              "      --fill-color: #1967D2;\n",
              "      --hover-bg-color: #E2EBFA;\n",
              "      --hover-fill-color: #174EA6;\n",
              "      --disabled-fill-color: #AAA;\n",
              "      --disabled-bg-color: #DDD;\n",
              "  }\n",
              "\n",
              "  [theme=dark] .colab-df-quickchart {\n",
              "      --bg-color: #3B4455;\n",
              "      --fill-color: #D2E3FC;\n",
              "      --hover-bg-color: #434B5C;\n",
              "      --hover-fill-color: #FFFFFF;\n",
              "      --disabled-bg-color: #3B4455;\n",
              "      --disabled-fill-color: #666;\n",
              "  }\n",
              "\n",
              "  .colab-df-quickchart {\n",
              "    background-color: var(--bg-color);\n",
              "    border: none;\n",
              "    border-radius: 50%;\n",
              "    cursor: pointer;\n",
              "    display: none;\n",
              "    fill: var(--fill-color);\n",
              "    height: 32px;\n",
              "    padding: 0;\n",
              "    width: 32px;\n",
              "  }\n",
              "\n",
              "  .colab-df-quickchart:hover {\n",
              "    background-color: var(--hover-bg-color);\n",
              "    box-shadow: 0 1px 2px rgba(60, 64, 67, 0.3), 0 1px 3px 1px rgba(60, 64, 67, 0.15);\n",
              "    fill: var(--button-hover-fill-color);\n",
              "  }\n",
              "\n",
              "  .colab-df-quickchart-complete:disabled,\n",
              "  .colab-df-quickchart-complete:disabled:hover {\n",
              "    background-color: var(--disabled-bg-color);\n",
              "    fill: var(--disabled-fill-color);\n",
              "    box-shadow: none;\n",
              "  }\n",
              "\n",
              "  .colab-df-spinner {\n",
              "    border: 2px solid var(--fill-color);\n",
              "    border-color: transparent;\n",
              "    border-bottom-color: var(--fill-color);\n",
              "    animation:\n",
              "      spin 1s steps(1) infinite;\n",
              "  }\n",
              "\n",
              "  @keyframes spin {\n",
              "    0% {\n",
              "      border-color: transparent;\n",
              "      border-bottom-color: var(--fill-color);\n",
              "      border-left-color: var(--fill-color);\n",
              "    }\n",
              "    20% {\n",
              "      border-color: transparent;\n",
              "      border-left-color: var(--fill-color);\n",
              "      border-top-color: var(--fill-color);\n",
              "    }\n",
              "    30% {\n",
              "      border-color: transparent;\n",
              "      border-left-color: var(--fill-color);\n",
              "      border-top-color: var(--fill-color);\n",
              "      border-right-color: var(--fill-color);\n",
              "    }\n",
              "    40% {\n",
              "      border-color: transparent;\n",
              "      border-right-color: var(--fill-color);\n",
              "      border-top-color: var(--fill-color);\n",
              "    }\n",
              "    60% {\n",
              "      border-color: transparent;\n",
              "      border-right-color: var(--fill-color);\n",
              "    }\n",
              "    80% {\n",
              "      border-color: transparent;\n",
              "      border-right-color: var(--fill-color);\n",
              "      border-bottom-color: var(--fill-color);\n",
              "    }\n",
              "    90% {\n",
              "      border-color: transparent;\n",
              "      border-bottom-color: var(--fill-color);\n",
              "    }\n",
              "  }\n",
              "</style>\n",
              "\n",
              "  <script>\n",
              "    async function quickchart(key) {\n",
              "      const quickchartButtonEl =\n",
              "        document.querySelector('#' + key + ' button');\n",
              "      quickchartButtonEl.disabled = true;  // To prevent multiple clicks.\n",
              "      quickchartButtonEl.classList.add('colab-df-spinner');\n",
              "      try {\n",
              "        const charts = await google.colab.kernel.invokeFunction(\n",
              "            'suggestCharts', [key], {});\n",
              "      } catch (error) {\n",
              "        console.error('Error during call to suggestCharts:', error);\n",
              "      }\n",
              "      quickchartButtonEl.classList.remove('colab-df-spinner');\n",
              "      quickchartButtonEl.classList.add('colab-df-quickchart-complete');\n",
              "    }\n",
              "    (() => {\n",
              "      let quickchartButtonEl =\n",
              "        document.querySelector('#df-97e3446e-dd3d-4a15-833c-3d385d7a92f9 button');\n",
              "      quickchartButtonEl.style.display =\n",
              "        google.colab.kernel.accessAllowed ? 'block' : 'none';\n",
              "    })();\n",
              "  </script>\n",
              "</div>\n",
              "    </div>\n",
              "  </div>\n"
            ],
            "text/plain": [
              "                                                Sentence  \\\n",
              "0      ` What makes you think Rainbow would entertain...   \n",
              "1      ` What makes you think Rainbow would entertain...   \n",
              "2      It aims to compete with the likes of BMW and A...   \n",
              "3      It aims to compete with the likes of BMW and A...   \n",
              "4      They anathematised and expelled the likes of A...   \n",
              "...                                                  ...   \n",
              "59142  During his four days in Iraq , Hall said he wa...   \n",
              "59143  During his four days in Iraq , Hall said he wa...   \n",
              "59144  But the many whose lives he had ruined , whose...   \n",
              "59145  But the many whose lives he had ruined , whose...   \n",
              "59146  But the many whose lives he had ruined , whose...   \n",
              "\n",
              "                                                   words  \\\n",
              "0      [`, What, makes, you, think, Rainbow, would, e...   \n",
              "1      [`, What, makes, you, think, Rainbow, would, e...   \n",
              "2      [It, aims, to, compete, with, the, likes, of, ...   \n",
              "3      [It, aims, to, compete, with, the, likes, of, ...   \n",
              "4      [They, anathematised, and, expelled, the, like...   \n",
              "...                                                  ...   \n",
              "59142  [During, his, four, days, in, Iraq, ,, Hall, s...   \n",
              "59143  [During, his, four, days, in, Iraq, ,, Hall, s...   \n",
              "59144  [But, the, many, whose, lives, he, had, ruined...   \n",
              "59145  [But, the, many, whose, lives, he, had, ruined...   \n",
              "59146  [But, the, many, whose, lives, he, had, ruined...   \n",
              "\n",
              "                                            frameNetTags  \n",
              "0      [O, O, O, Entity_2, O, O, O, O, O, O, O, O, O,...  \n",
              "1      [O, O, O, O, O, O, O, O, O, O, O, O, O, Entity...  \n",
              "2      [O, O, O, O, O, O, O, Entity_2, Entity_2, Enti...  \n",
              "3      [O, O, O, O, O, O, Entity_1, O, O, O, O, O, O,...  \n",
              "4      [O, O, O, O, O, O, Entity_2, Entity_2, Entity_...  \n",
              "...                                                  ...  \n",
              "59142  [O, O, O, O, O, O, O, O, O, O, O, O, O, O, Und...  \n",
              "59143  [O, O, O, O, O, O, O, O, O, O, O, O, O, O, O, ...  \n",
              "59144  [O, O, O, O, O, O, O, O, O, O, O, Undesirable_...  \n",
              "59145  [O, O, O, O, O, O, O, O, O, O, Patient, Patien...  \n",
              "59146  [O, O, O, Patient, O, O, O, O, O, Patient, O, ...  \n",
              "\n",
              "[59147 rows x 3 columns]"
            ]
          },
          "execution_count": 27,
          "metadata": {},
          "output_type": "execute_result"
        }
      ],
      "source": [
        "enfn_df = pd.DataFrame(table, columns=['Sentence', 'Start', 'End', 'Annotated Names', 'Extracted Words'])\n",
        "enfn_df[\"words\"] = enfn_df[\"Sentence\"].apply(lambda sentence: [word.strip() for word in sentence.split(' ')])\n",
        "enfn_df['frameNetTags'] = enfn_df.apply(annotate_sentence, axis=1)\n",
        "enfn_df = enfn_df.drop(['Start', 'End', 'Annotated Names', 'Extracted Words'], axis = 1)\n",
        "enfn_df"
      ]
    },
    {
      "cell_type": "code",
      "execution_count": null,
      "metadata": {
        "colab": {
          "base_uri": "https://localhost:8080/",
          "height": 424
        },
        "id": "tw5OUNjgemyH",
        "outputId": "17a5780d-343f-4cb0-99f6-ed57758b415c"
      },
      "outputs": [
        {
          "data": {
            "application/vnd.google.colaboratory.intrinsic+json": {
              "summary": "{\n  \"name\": \"enpb_df\",\n  \"rows\": 26159,\n  \"fields\": [\n    {\n      \"column\": \"sentence_id\",\n      \"properties\": {\n        \"dtype\": \"number\",\n        \"std\": 2981,\n        \"min\": 0,\n        \"max\": 10261,\n        \"num_unique_values\": 9613,\n        \"samples\": [\n          10144,\n          2141,\n          384\n        ],\n        \"semantic_type\": \"\",\n        \"description\": \"\"\n      }\n    },\n    {\n      \"column\": \"words\",\n      \"properties\": {\n        \"dtype\": \"object\",\n        \"semantic_type\": \"\",\n        \"description\": \"\"\n      }\n    },\n    {\n      \"column\": \"propBankTags\",\n      \"properties\": {\n        \"dtype\": \"object\",\n        \"semantic_type\": \"\",\n        \"description\": \"\"\n      }\n    },\n    {\n      \"column\": \"Sentence\",\n      \"properties\": {\n        \"dtype\": \"category\",\n        \"num_unique_values\": 9565,\n        \"samples\": [\n          \"The process went so far in Algeria earlier this year that the army cancelled the results of general elections when it became clear that the Islamic Salvation Front would win an overwhelming victory .\",\n          \"They also eat the eggs of birds and other reptiles .\",\n          \"He produced a packet of cigarettes , and lit up .\"\n        ],\n        \"semantic_type\": \"\",\n        \"description\": \"\"\n      }\n    }\n  ]\n}",
              "type": "dataframe",
              "variable_name": "enpb_df"
            },
            "text/html": [
              "\n",
              "  <div id=\"df-2be8e5d8-3c18-4f19-a6f2-5cf7df2884c8\" class=\"colab-df-container\">\n",
              "    <div>\n",
              "<style scoped>\n",
              "    .dataframe tbody tr th:only-of-type {\n",
              "        vertical-align: middle;\n",
              "    }\n",
              "\n",
              "    .dataframe tbody tr th {\n",
              "        vertical-align: top;\n",
              "    }\n",
              "\n",
              "    .dataframe thead th {\n",
              "        text-align: right;\n",
              "    }\n",
              "</style>\n",
              "<table border=\"1\" class=\"dataframe\">\n",
              "  <thead>\n",
              "    <tr style=\"text-align: right;\">\n",
              "      <th></th>\n",
              "      <th>sentence_id</th>\n",
              "      <th>words</th>\n",
              "      <th>propBankTags</th>\n",
              "      <th>Sentence</th>\n",
              "    </tr>\n",
              "  </thead>\n",
              "  <tbody>\n",
              "    <tr>\n",
              "      <th>0</th>\n",
              "      <td>0</td>\n",
              "      <td>[And, without, more, ado, the, two, officers, ...</td>\n",
              "      <td>[O, AM-MNR, O, O, O, O, A0, B-V, O, A1, A2, O,...</td>\n",
              "      <td>And without more ado the two officers fastened...</td>\n",
              "    </tr>\n",
              "    <tr>\n",
              "      <th>1</th>\n",
              "      <td>0</td>\n",
              "      <td>[And, without, more, ado, the, two, officers, ...</td>\n",
              "      <td>[AM-DIS, AM-MNR, O, O, O, O, A0, O, O, O, O, O...</td>\n",
              "      <td>And without more ado the two officers fastened...</td>\n",
              "    </tr>\n",
              "    <tr>\n",
              "      <th>2</th>\n",
              "      <td>1</td>\n",
              "      <td>[She, would, fasten, the, ring, about, her, ne...</td>\n",
              "      <td>[A0, AM-MOD, B-V, O, A1, A2, O, O, O, O, O, O,...</td>\n",
              "      <td>She would fasten the ring about her neck and w...</td>\n",
              "    </tr>\n",
              "    <tr>\n",
              "      <th>3</th>\n",
              "      <td>1</td>\n",
              "      <td>[She, would, fasten, the, ring, about, her, ne...</td>\n",
              "      <td>[A0, AM-MOD, O, O, O, O, O, O, O, B-V, A1, AM-...</td>\n",
              "      <td>She would fasten the ring about her neck and w...</td>\n",
              "    </tr>\n",
              "    <tr>\n",
              "      <th>4</th>\n",
              "      <td>1</td>\n",
              "      <td>[She, would, fasten, the, ring, about, her, ne...</td>\n",
              "      <td>[O, O, O, O, O, O, O, O, O, O, O, O, O, O, O, ...</td>\n",
              "      <td>She would fasten the ring about her neck and w...</td>\n",
              "    </tr>\n",
              "    <tr>\n",
              "      <th>...</th>\n",
              "      <td>...</td>\n",
              "      <td>...</td>\n",
              "      <td>...</td>\n",
              "      <td>...</td>\n",
              "    </tr>\n",
              "    <tr>\n",
              "      <th>26154</th>\n",
              "      <td>10260</td>\n",
              "      <td>[It, was, after, the, first, snow, and, I, fol...</td>\n",
              "      <td>[O, O, O, O, O, O, O, A0, B-V, O, O, A1, AM-DI...</td>\n",
              "      <td>It was after the first snow and I followed the...</td>\n",
              "    </tr>\n",
              "    <tr>\n",
              "      <th>26155</th>\n",
              "      <td>10260</td>\n",
              "      <td>[It, was, after, the, first, snow, and, I, fol...</td>\n",
              "      <td>[O, O, O, O, O, O, O, A0, O, O, O, O, O, O, O,...</td>\n",
              "      <td>It was after the first snow and I followed the...</td>\n",
              "    </tr>\n",
              "    <tr>\n",
              "      <th>26156</th>\n",
              "      <td>10260</td>\n",
              "      <td>[It, was, after, the, first, snow, and, I, fol...</td>\n",
              "      <td>[O, O, O, O, O, O, O, O, O, O, O, O, O, O, O, ...</td>\n",
              "      <td>It was after the first snow and I followed the...</td>\n",
              "    </tr>\n",
              "    <tr>\n",
              "      <th>26157</th>\n",
              "      <td>10261</td>\n",
              "      <td>[There, was, only, a, handful, of, mourners, a...</td>\n",
              "      <td>[O, B-V, O, O, A1, O, O, O, O, O, O, AM-CAU, O...</td>\n",
              "      <td>There was only a handful of mourners at Gillam...</td>\n",
              "    </tr>\n",
              "    <tr>\n",
              "      <th>26158</th>\n",
              "      <td>10261</td>\n",
              "      <td>[There, was, only, a, handful, of, mourners, a...</td>\n",
              "      <td>[O, O, O, O, O, O, O, O, O, O, O, O, O, A1, O,...</td>\n",
              "      <td>There was only a handful of mourners at Gillam...</td>\n",
              "    </tr>\n",
              "  </tbody>\n",
              "</table>\n",
              "<p>26159 rows × 4 columns</p>\n",
              "</div>\n",
              "    <div class=\"colab-df-buttons\">\n",
              "\n",
              "  <div class=\"colab-df-container\">\n",
              "    <button class=\"colab-df-convert\" onclick=\"convertToInteractive('df-2be8e5d8-3c18-4f19-a6f2-5cf7df2884c8')\"\n",
              "            title=\"Convert this dataframe to an interactive table.\"\n",
              "            style=\"display:none;\">\n",
              "\n",
              "  <svg xmlns=\"http://www.w3.org/2000/svg\" height=\"24px\" viewBox=\"0 -960 960 960\">\n",
              "    <path d=\"M120-120v-720h720v720H120Zm60-500h600v-160H180v160Zm220 220h160v-160H400v160Zm0 220h160v-160H400v160ZM180-400h160v-160H180v160Zm440 0h160v-160H620v160ZM180-180h160v-160H180v160Zm440 0h160v-160H620v160Z\"/>\n",
              "  </svg>\n",
              "    </button>\n",
              "\n",
              "  <style>\n",
              "    .colab-df-container {\n",
              "      display:flex;\n",
              "      gap: 12px;\n",
              "    }\n",
              "\n",
              "    .colab-df-convert {\n",
              "      background-color: #E8F0FE;\n",
              "      border: none;\n",
              "      border-radius: 50%;\n",
              "      cursor: pointer;\n",
              "      display: none;\n",
              "      fill: #1967D2;\n",
              "      height: 32px;\n",
              "      padding: 0 0 0 0;\n",
              "      width: 32px;\n",
              "    }\n",
              "\n",
              "    .colab-df-convert:hover {\n",
              "      background-color: #E2EBFA;\n",
              "      box-shadow: 0px 1px 2px rgba(60, 64, 67, 0.3), 0px 1px 3px 1px rgba(60, 64, 67, 0.15);\n",
              "      fill: #174EA6;\n",
              "    }\n",
              "\n",
              "    .colab-df-buttons div {\n",
              "      margin-bottom: 4px;\n",
              "    }\n",
              "\n",
              "    [theme=dark] .colab-df-convert {\n",
              "      background-color: #3B4455;\n",
              "      fill: #D2E3FC;\n",
              "    }\n",
              "\n",
              "    [theme=dark] .colab-df-convert:hover {\n",
              "      background-color: #434B5C;\n",
              "      box-shadow: 0px 1px 3px 1px rgba(0, 0, 0, 0.15);\n",
              "      filter: drop-shadow(0px 1px 2px rgba(0, 0, 0, 0.3));\n",
              "      fill: #FFFFFF;\n",
              "    }\n",
              "  </style>\n",
              "\n",
              "    <script>\n",
              "      const buttonEl =\n",
              "        document.querySelector('#df-2be8e5d8-3c18-4f19-a6f2-5cf7df2884c8 button.colab-df-convert');\n",
              "      buttonEl.style.display =\n",
              "        google.colab.kernel.accessAllowed ? 'block' : 'none';\n",
              "\n",
              "      async function convertToInteractive(key) {\n",
              "        const element = document.querySelector('#df-2be8e5d8-3c18-4f19-a6f2-5cf7df2884c8');\n",
              "        const dataTable =\n",
              "          await google.colab.kernel.invokeFunction('convertToInteractive',\n",
              "                                                    [key], {});\n",
              "        if (!dataTable) return;\n",
              "\n",
              "        const docLinkHtml = 'Like what you see? Visit the ' +\n",
              "          '<a target=\"_blank\" href=https://colab.research.google.com/notebooks/data_table.ipynb>data table notebook</a>'\n",
              "          + ' to learn more about interactive tables.';\n",
              "        element.innerHTML = '';\n",
              "        dataTable['output_type'] = 'display_data';\n",
              "        await google.colab.output.renderOutput(dataTable, element);\n",
              "        const docLink = document.createElement('div');\n",
              "        docLink.innerHTML = docLinkHtml;\n",
              "        element.appendChild(docLink);\n",
              "      }\n",
              "    </script>\n",
              "  </div>\n",
              "\n",
              "\n",
              "<div id=\"df-2fbfa86f-5a98-404b-bbe2-3d80253304a3\">\n",
              "  <button class=\"colab-df-quickchart\" onclick=\"quickchart('df-2fbfa86f-5a98-404b-bbe2-3d80253304a3')\"\n",
              "            title=\"Suggest charts\"\n",
              "            style=\"display:none;\">\n",
              "\n",
              "<svg xmlns=\"http://www.w3.org/2000/svg\" height=\"24px\"viewBox=\"0 0 24 24\"\n",
              "     width=\"24px\">\n",
              "    <g>\n",
              "        <path d=\"M19 3H5c-1.1 0-2 .9-2 2v14c0 1.1.9 2 2 2h14c1.1 0 2-.9 2-2V5c0-1.1-.9-2-2-2zM9 17H7v-7h2v7zm4 0h-2V7h2v10zm4 0h-2v-4h2v4z\"/>\n",
              "    </g>\n",
              "</svg>\n",
              "  </button>\n",
              "\n",
              "<style>\n",
              "  .colab-df-quickchart {\n",
              "      --bg-color: #E8F0FE;\n",
              "      --fill-color: #1967D2;\n",
              "      --hover-bg-color: #E2EBFA;\n",
              "      --hover-fill-color: #174EA6;\n",
              "      --disabled-fill-color: #AAA;\n",
              "      --disabled-bg-color: #DDD;\n",
              "  }\n",
              "\n",
              "  [theme=dark] .colab-df-quickchart {\n",
              "      --bg-color: #3B4455;\n",
              "      --fill-color: #D2E3FC;\n",
              "      --hover-bg-color: #434B5C;\n",
              "      --hover-fill-color: #FFFFFF;\n",
              "      --disabled-bg-color: #3B4455;\n",
              "      --disabled-fill-color: #666;\n",
              "  }\n",
              "\n",
              "  .colab-df-quickchart {\n",
              "    background-color: var(--bg-color);\n",
              "    border: none;\n",
              "    border-radius: 50%;\n",
              "    cursor: pointer;\n",
              "    display: none;\n",
              "    fill: var(--fill-color);\n",
              "    height: 32px;\n",
              "    padding: 0;\n",
              "    width: 32px;\n",
              "  }\n",
              "\n",
              "  .colab-df-quickchart:hover {\n",
              "    background-color: var(--hover-bg-color);\n",
              "    box-shadow: 0 1px 2px rgba(60, 64, 67, 0.3), 0 1px 3px 1px rgba(60, 64, 67, 0.15);\n",
              "    fill: var(--button-hover-fill-color);\n",
              "  }\n",
              "\n",
              "  .colab-df-quickchart-complete:disabled,\n",
              "  .colab-df-quickchart-complete:disabled:hover {\n",
              "    background-color: var(--disabled-bg-color);\n",
              "    fill: var(--disabled-fill-color);\n",
              "    box-shadow: none;\n",
              "  }\n",
              "\n",
              "  .colab-df-spinner {\n",
              "    border: 2px solid var(--fill-color);\n",
              "    border-color: transparent;\n",
              "    border-bottom-color: var(--fill-color);\n",
              "    animation:\n",
              "      spin 1s steps(1) infinite;\n",
              "  }\n",
              "\n",
              "  @keyframes spin {\n",
              "    0% {\n",
              "      border-color: transparent;\n",
              "      border-bottom-color: var(--fill-color);\n",
              "      border-left-color: var(--fill-color);\n",
              "    }\n",
              "    20% {\n",
              "      border-color: transparent;\n",
              "      border-left-color: var(--fill-color);\n",
              "      border-top-color: var(--fill-color);\n",
              "    }\n",
              "    30% {\n",
              "      border-color: transparent;\n",
              "      border-left-color: var(--fill-color);\n",
              "      border-top-color: var(--fill-color);\n",
              "      border-right-color: var(--fill-color);\n",
              "    }\n",
              "    40% {\n",
              "      border-color: transparent;\n",
              "      border-right-color: var(--fill-color);\n",
              "      border-top-color: var(--fill-color);\n",
              "    }\n",
              "    60% {\n",
              "      border-color: transparent;\n",
              "      border-right-color: var(--fill-color);\n",
              "    }\n",
              "    80% {\n",
              "      border-color: transparent;\n",
              "      border-right-color: var(--fill-color);\n",
              "      border-bottom-color: var(--fill-color);\n",
              "    }\n",
              "    90% {\n",
              "      border-color: transparent;\n",
              "      border-bottom-color: var(--fill-color);\n",
              "    }\n",
              "  }\n",
              "</style>\n",
              "\n",
              "  <script>\n",
              "    async function quickchart(key) {\n",
              "      const quickchartButtonEl =\n",
              "        document.querySelector('#' + key + ' button');\n",
              "      quickchartButtonEl.disabled = true;  // To prevent multiple clicks.\n",
              "      quickchartButtonEl.classList.add('colab-df-spinner');\n",
              "      try {\n",
              "        const charts = await google.colab.kernel.invokeFunction(\n",
              "            'suggestCharts', [key], {});\n",
              "      } catch (error) {\n",
              "        console.error('Error during call to suggestCharts:', error);\n",
              "      }\n",
              "      quickchartButtonEl.classList.remove('colab-df-spinner');\n",
              "      quickchartButtonEl.classList.add('colab-df-quickchart-complete');\n",
              "    }\n",
              "    (() => {\n",
              "      let quickchartButtonEl =\n",
              "        document.querySelector('#df-2fbfa86f-5a98-404b-bbe2-3d80253304a3 button');\n",
              "      quickchartButtonEl.style.display =\n",
              "        google.colab.kernel.accessAllowed ? 'block' : 'none';\n",
              "    })();\n",
              "  </script>\n",
              "</div>\n",
              "    </div>\n",
              "  </div>\n"
            ],
            "text/plain": [
              "       sentence_id                                              words  \\\n",
              "0                0  [And, without, more, ado, the, two, officers, ...   \n",
              "1                0  [And, without, more, ado, the, two, officers, ...   \n",
              "2                1  [She, would, fasten, the, ring, about, her, ne...   \n",
              "3                1  [She, would, fasten, the, ring, about, her, ne...   \n",
              "4                1  [She, would, fasten, the, ring, about, her, ne...   \n",
              "...            ...                                                ...   \n",
              "26154        10260  [It, was, after, the, first, snow, and, I, fol...   \n",
              "26155        10260  [It, was, after, the, first, snow, and, I, fol...   \n",
              "26156        10260  [It, was, after, the, first, snow, and, I, fol...   \n",
              "26157        10261  [There, was, only, a, handful, of, mourners, a...   \n",
              "26158        10261  [There, was, only, a, handful, of, mourners, a...   \n",
              "\n",
              "                                            propBankTags  \\\n",
              "0      [O, AM-MNR, O, O, O, O, A0, B-V, O, A1, A2, O,...   \n",
              "1      [AM-DIS, AM-MNR, O, O, O, O, A0, O, O, O, O, O...   \n",
              "2      [A0, AM-MOD, B-V, O, A1, A2, O, O, O, O, O, O,...   \n",
              "3      [A0, AM-MOD, O, O, O, O, O, O, O, B-V, A1, AM-...   \n",
              "4      [O, O, O, O, O, O, O, O, O, O, O, O, O, O, O, ...   \n",
              "...                                                  ...   \n",
              "26154  [O, O, O, O, O, O, O, A0, B-V, O, O, A1, AM-DI...   \n",
              "26155  [O, O, O, O, O, O, O, A0, O, O, O, O, O, O, O,...   \n",
              "26156  [O, O, O, O, O, O, O, O, O, O, O, O, O, O, O, ...   \n",
              "26157  [O, B-V, O, O, A1, O, O, O, O, O, O, AM-CAU, O...   \n",
              "26158  [O, O, O, O, O, O, O, O, O, O, O, O, O, A1, O,...   \n",
              "\n",
              "                                                Sentence  \n",
              "0      And without more ado the two officers fastened...  \n",
              "1      And without more ado the two officers fastened...  \n",
              "2      She would fasten the ring about her neck and w...  \n",
              "3      She would fasten the ring about her neck and w...  \n",
              "4      She would fasten the ring about her neck and w...  \n",
              "...                                                  ...  \n",
              "26154  It was after the first snow and I followed the...  \n",
              "26155  It was after the first snow and I followed the...  \n",
              "26156  It was after the first snow and I followed the...  \n",
              "26157  There was only a handful of mourners at Gillam...  \n",
              "26158  There was only a handful of mourners at Gillam...  \n",
              "\n",
              "[26159 rows x 4 columns]"
            ]
          },
          "execution_count": 28,
          "metadata": {},
          "output_type": "execute_result"
        }
      ],
      "source": [
        "enpb_df"
      ]
    },
    {
      "cell_type": "code",
      "execution_count": null,
      "metadata": {
        "id": "peFE6xQA8BvQ"
      },
      "outputs": [],
      "source": [
        "endf = pd.merge(enpb_df, enfn_df, on='Sentence', how='inner')"
      ]
    },
    {
      "cell_type": "code",
      "execution_count": null,
      "metadata": {
        "id": "qKeyV-OsI73k"
      },
      "outputs": [],
      "source": [
        "persian_df = persian_df.rename(columns={'words': 'Sentence'})\n",
        "# Interleave the Persian and English rows\n",
        "df_merged = pd.DataFrame()\n",
        "for i in range(len(persian_df)):\n",
        "    df_merged = pd.concat([df_merged, persian_df.iloc[[i]], endf.iloc[[i]]], ignore_index=True)"
      ]
    },
    {
      "cell_type": "code",
      "execution_count": null,
      "metadata": {
        "colab": {
          "base_uri": "https://localhost:8080/"
        },
        "id": "TmuXWs3NDv1i",
        "outputId": "16968f36-bc7d-43c2-b2e1-69efb1741a51"
      },
      "outputs": [
        {
          "name": "stdout",
          "output_type": "stream",
          "text": [
            "Training set size: 80\n",
            "Validation set size: 10\n",
            "Test set size: 10\n"
          ]
        }
      ],
      "source": [
        "train_data, temp_data = train_test_split(endf, test_size=0.2, random_state=42)\n",
        "validation_data, test_data = train_test_split(temp_data, test_size=0.5, random_state=42)\n",
        "print(\"Training set size:\", len(train_data))\n",
        "print(\"Validation set size:\", len(validation_data))\n",
        "print(\"Test set size:\", len(test_data))\n",
        "train_data.to_csv(\"train_set.csv\", index=False)\n",
        "validation_data.to_csv(\"validation_set.csv\", index=False)\n",
        "test_data.to_csv(\"test_set.csv\", index=False)"
      ]
    },
    {
      "cell_type": "code",
      "execution_count": null,
      "metadata": {
        "colab": {
          "base_uri": "https://localhost:8080/",
          "height": 269,
          "referenced_widgets": [
            "b5fa2c7fa0404512a888c7713077671f",
            "e603483b8e76424794f2aa33857c800d",
            "c8b4e7379be5425982e122b7bff6e00a",
            "122ae2ed8e9943eabf42d9bf71d079b9",
            "ac95572a281442329c98a796e6f782c2",
            "cc8f3bb8f1884bca854975c375257603",
            "13134593191a49d3ab4946d6fd28a1f2",
            "c79c9621328841359accb3a2010ea1ea",
            "e9077dcbedc046e1baff5f84788c7fb3",
            "bac1fab4f5c84b6683116ec6beebf208",
            "cbe0f62120f64dd8a0195f5626dcf166",
            "06e8ed3e5e7548388b7acc3051f9bf0e",
            "7cf52ce1f59c4ae7a5f72f90988d1f9b",
            "db2a54b6ba8a49208d1707a2c1fae968",
            "e8a8483f84bf450fbc656c3d7ab073a2",
            "e11f96b462fd482d96739161f2e164ea",
            "cf576f8c7c1a491a830b816411cdd8a2",
            "88ed298543534b599e4367221bfc8870",
            "3ef960768d4b4f04919dbd5c827352a3",
            "88e31937112e40888c36fdbdb3e8e2e1",
            "44f8015540ce4fb2a103d2b4fac0610d",
            "096858f06def4fb785b28c83c0a457eb",
            "f362acd62b17480aaf0c1229feda3a62",
            "0f4d3e837b7b469fbc946afbbe849b76",
            "1a9b9301315a4da2a859054b1a3076f6",
            "fc2cf3fcb08044eca79e86cb2460c132",
            "1ebd8eb20b694b8a9272c7a3f74f6ca4",
            "92c47bcaeb9645e6b543975f251993d4",
            "6a64d6c923ed4fd99f50421a1b33e313",
            "f6bff188ec2d4ef6b4edef42dd3284c7",
            "5d311fb87cf748febe4eab53f4a23ba7",
            "c593a670e3cd47e1a6351fe3a83893ac",
            "dc483e0d72db476282b78b64481ba940",
            "b6ce10bab35a49ed9f274ea6ce85b81b",
            "be0dee0729b34a4a9112a1231b5726db",
            "ebed676aea224a62b13df3492a9950f5",
            "ce6b72704b5d41d383a5b6ea9c4dee23",
            "d106ece4bc1a4c47a87cc2eee7393d58",
            "b7912e055db04b4ebe587e839679df64",
            "caaea83e73ce4f69acc9255621417c53",
            "1dbf9b1990eb4d54ac53a87fdefddf71",
            "3740417f60c746769ae63164355fdf05",
            "d83181e1f197413daa0f5ffa38f2d1f6",
            "5eb7bcf80e224be887f9a1ca4ebb1163"
          ]
        },
        "id": "TK8CK9ozU-xB",
        "outputId": "0f6984d6-5b3b-4758-abfc-afb32d252b8f"
      },
      "outputs": [
        {
          "name": "stderr",
          "output_type": "stream",
          "text": [
            "/usr/local/lib/python3.11/dist-packages/huggingface_hub/utils/_auth.py:94: UserWarning: \n",
            "The secret `HF_TOKEN` does not exist in your Colab secrets.\n",
            "To authenticate with the Hugging Face Hub, create a token in your settings tab (https://huggingface.co/settings/tokens), set it as secret in your Google Colab and restart your session.\n",
            "You will be able to reuse this secret in all of your notebooks.\n",
            "Please note that authentication is recommended but still optional to access public models or datasets.\n",
            "  warnings.warn(\n"
          ]
        },
        {
          "data": {
            "application/vnd.jupyter.widget-view+json": {
              "model_id": "b5fa2c7fa0404512a888c7713077671f",
              "version_major": 2,
              "version_minor": 0
            },
            "text/plain": [
              "tokenizer_config.json:   0%|          | 0.00/48.0 [00:00<?, ?B/s]"
            ]
          },
          "metadata": {},
          "output_type": "display_data"
        },
        {
          "data": {
            "application/vnd.jupyter.widget-view+json": {
              "model_id": "06e8ed3e5e7548388b7acc3051f9bf0e",
              "version_major": 2,
              "version_minor": 0
            },
            "text/plain": [
              "config.json:   0%|          | 0.00/625 [00:00<?, ?B/s]"
            ]
          },
          "metadata": {},
          "output_type": "display_data"
        },
        {
          "data": {
            "application/vnd.jupyter.widget-view+json": {
              "model_id": "f362acd62b17480aaf0c1229feda3a62",
              "version_major": 2,
              "version_minor": 0
            },
            "text/plain": [
              "vocab.txt:   0%|          | 0.00/872k [00:00<?, ?B/s]"
            ]
          },
          "metadata": {},
          "output_type": "display_data"
        },
        {
          "data": {
            "application/vnd.jupyter.widget-view+json": {
              "model_id": "b6ce10bab35a49ed9f274ea6ce85b81b",
              "version_major": 2,
              "version_minor": 0
            },
            "text/plain": [
              "tokenizer.json:   0%|          | 0.00/1.72M [00:00<?, ?B/s]"
            ]
          },
          "metadata": {},
          "output_type": "display_data"
        }
      ],
      "source": [
        "from transformers import AutoTokenizer\n",
        "tokenizer = AutoTokenizer.from_pretrained(\"bert-base-multilingual-uncased\")"
      ]
    },
    {
      "cell_type": "code",
      "execution_count": null,
      "metadata": {
        "colab": {
          "base_uri": "https://localhost:8080/"
        },
        "id": "c3PrqPEW8kcY",
        "outputId": "928657af-479e-48a1-906b-15b89ca35716"
      },
      "outputs": [
        {
          "data": {
            "text/plain": [
              "['[CLS]',\n",
              " 'he',\n",
              " 'seemed',\n",
              " 'a',\n",
              " 'pleasant',\n",
              " 'well',\n",
              " 'spoken',\n",
              " 'quiet',\n",
              " 'young',\n",
              " 'man',\n",
              " '.',\n",
              " '[SEP]']"
            ]
          },
          "execution_count": 33,
          "metadata": {},
          "output_type": "execute_result"
        }
      ],
      "source": [
        "tokenized_input = tokenizer(endf['Sentence'][0].split(' '), is_split_into_words=True)\n",
        "tokenizer.convert_ids_to_tokens(tokenized_input[\"input_ids\"])"
      ]
    },
    {
      "cell_type": "code",
      "execution_count": null,
      "metadata": {
        "id": "1jRbNPH0GSxT"
      },
      "outputs": [],
      "source": [
        "def create_role_id_dictionary():\n",
        "    \"\"\"Creates a dictionary that maps PropBank roles to numerical IDs.\"\"\"\n",
        "    frame_elements = set()\n",
        "    for _, row in endf.iterrows():\n",
        "        framenet_str = row['frameNetTags']\n",
        "        frame_elements.update(framenet_str)\n",
        "    frame_id_dict = defaultdict(int)\n",
        "    index = 1\n",
        "    for frame_element in frame_elements:\n",
        "        frame_id_dict[frame_element] = index\n",
        "        index += 1\n",
        "    return frame_id_dict, frame_elements"
      ]
    },
    {
      "cell_type": "code",
      "execution_count": null,
      "metadata": {
        "colab": {
          "base_uri": "https://localhost:8080/"
        },
        "id": "wlyiZZ-ILuyj",
        "outputId": "15b57e9f-7c16-4059-b67f-8ae5d1727bb3"
      },
      "outputs": [
        {
          "name": "stdout",
          "output_type": "stream",
          "text": [
            "Frame2ID:defaultdict(<class 'int'>, {'Cognizer': 1, 'Entity': 2, 'Category': 3, 'New_member': 4, 'O': 5, 'Particular_iteration': 6, 'Age': 7, 'Manner': 8, 'Means': 9, 'Item': 10, 'Agent': 11, 'Descriptor': 12, 'Cause': 13, 'Group': 14})\n",
            "Frame Elements:{'Cognizer', 'Entity', 'Category', 'New_member', 'O', 'Particular_iteration', 'Age', 'Manner', 'Means', 'Item', 'Agent', 'Descriptor', 'Cause', 'Group'}\n"
          ]
        }
      ],
      "source": [
        "frame2id, frame_elements = create_role_id_dictionary()\n",
        "print(\"Frame2ID:\" + str(frame2id))\n",
        "print(\"Frame Elements:\" + str(frame_elements))"
      ]
    },
    {
      "cell_type": "code",
      "execution_count": null,
      "metadata": {
        "id": "4EuIUNXWmex_"
      },
      "outputs": [],
      "source": [
        "endf['frameNetTags'] = endf['frameNetTags'].apply(lambda label : [frame2id[l] for l in label])"
      ]
    },
    {
      "cell_type": "code",
      "execution_count": null,
      "metadata": {
        "id": "oQCDd8yUznhH"
      },
      "outputs": [],
      "source": [
        "def tokenize_and_align_labels(examples):\n",
        "    tokenized_inputs = tokenizer(examples[\"words_x\"], truncation=True, padding=True, is_split_into_words=True)#words_x\n",
        "    labels = []\n",
        "    for i, label in enumerate(examples[f\"frameNetTags\"]):\n",
        "        word_ids = tokenized_inputs.word_ids(batch_index=i)\n",
        "        previous_word_idx = None\n",
        "        label_ids = []\n",
        "        for word_idx in word_ids:\n",
        "            if word_idx is None:\n",
        "                label_ids.append(-100)\n",
        "            elif word_idx != previous_word_idx:\n",
        "                label_ids.append(label[word_idx])\n",
        "            else:\n",
        "                label_ids.append(-100)\n",
        "            previous_word_idx = word_idx\n",
        "        labels.append(label_ids)\n",
        "\n",
        "    tokenized_inputs[\"labels\"] = labels\n",
        "    return tokenized_inputs"
      ]
    },
    {
      "cell_type": "code",
      "execution_count": null,
      "metadata": {
        "colab": {
          "base_uri": "https://localhost:8080/",
          "height": 49,
          "referenced_widgets": [
            "27881abb9064492abc043445f46319ab",
            "6d2879c8c6d14a8abfe5057b6b2c098c",
            "8470924be94e4b329007363eb1882309",
            "308fd9f8220c40a48808411ce04cacb1",
            "4f175bee4c4a434e8bf4d4e0951b85f2",
            "82799ca010ed40e5ac7daece6a9fdf67",
            "184d13bc57ec43bfba077d6242d26a97",
            "d9e7e90e1cf14e2da58c6d6672cd5939",
            "14ad59f417cd4a2eb7d35d1d5cb0f5fc",
            "b86e833cee5748c28319c028d0137d56",
            "4422f4b87df74924a8babe353caea345"
          ]
        },
        "id": "9CFTLgIl0MbT",
        "outputId": "45ae1f5c-be3b-445a-9089-99de7cd45048"
      },
      "outputs": [
        {
          "data": {
            "application/vnd.jupyter.widget-view+json": {
              "model_id": "27881abb9064492abc043445f46319ab",
              "version_major": 2,
              "version_minor": 0
            },
            "text/plain": [
              "Map:   0%|          | 0/100 [00:00<?, ? examples/s]"
            ]
          },
          "metadata": {},
          "output_type": "display_data"
        }
      ],
      "source": [
        "from datasets import Dataset\n",
        "dataset = Dataset.from_pandas(endf)\n",
        "tokenized_data = dataset.map(tokenize_and_align_labels, batched=True)"
      ]
    },
    {
      "cell_type": "code",
      "execution_count": null,
      "metadata": {
        "id": "x6V3xKXrnxpv"
      },
      "outputs": [],
      "source": [
        "tokenized_data = tokenized_data.train_test_split(test_size=0.3)"
      ]
    },
    {
      "cell_type": "code",
      "execution_count": null,
      "metadata": {
        "colab": {
          "base_uri": "https://localhost:8080/",
          "height": 49,
          "referenced_widgets": [
            "6c0c7892c6fd417691340cf649a82eb1",
            "890603d9da214df98619b0f9a6165618",
            "54fb7e64da9c46b2bed2b9cdd71b61c1",
            "d25e85fcc8dc4de79f9da4d62d4cb22f",
            "a70d44abc775465d89f515edf5047e2a",
            "c1b22a5da1e441dda6fc62d2aeec02d6",
            "c4aeaad2781546a2a62095cb476ee6b9",
            "758df36b284b4db5b3c03693ba5c858b",
            "f7aa40f1a49a42fe9a86dc337b5aff9b",
            "edb23c686b2c430c9a9f1d57aac2fbca",
            "7aecc92ca3914a1182dc1ae2c69c59e1"
          ]
        },
        "id": "9WOsZoa1zXGU",
        "outputId": "cbf91ed3-ea68-4d03-801a-f3072eff19c1"
      },
      "outputs": [
        {
          "data": {
            "application/vnd.jupyter.widget-view+json": {
              "model_id": "6c0c7892c6fd417691340cf649a82eb1",
              "version_major": 2,
              "version_minor": 0
            },
            "text/plain": [
              "Downloading builder script:   0%|          | 0.00/6.34k [00:00<?, ?B/s]"
            ]
          },
          "metadata": {},
          "output_type": "display_data"
        }
      ],
      "source": [
        "import evaluate\n",
        "seqeval = evaluate.load(\"seqeval\")"
      ]
    },
    {
      "cell_type": "code",
      "execution_count": null,
      "metadata": {
        "colab": {
          "base_uri": "https://localhost:8080/",
          "height": 49,
          "referenced_widgets": [
            "97c946117ba64dca930ea0a4b7b1fa75",
            "e4408dfc13f8468d9272c7db97305207",
            "428b9c45a5a145c69c485702e7e24d7b",
            "747df35b90854fe086819dd6eb2c3a0e",
            "abe57149ca174588b7de7f16e41e4efc",
            "c0eaec621281406480f775d056d16737",
            "6734513efe304261b1e914eac347dbee",
            "318dae56426f4e2cba638b4236122408",
            "b53c62eac54d447aa4ae569fb0ea696c",
            "773dd6e473ea409eb503a77d6b6091b8",
            "7a1102ba072b4008be49d28554771f2d"
          ]
        },
        "id": "PvTczx7yz6wE",
        "outputId": "659a0a6c-dea1-492f-9e20-3b4a2bde3602"
      },
      "outputs": [
        {
          "data": {
            "application/vnd.jupyter.widget-view+json": {
              "model_id": "97c946117ba64dca930ea0a4b7b1fa75",
              "version_major": 2,
              "version_minor": 0
            },
            "text/plain": [
              "Downloading builder script:   0%|          | 0.00/4.20k [00:00<?, ?B/s]"
            ]
          },
          "metadata": {},
          "output_type": "display_data"
        }
      ],
      "source": [
        "accuracy = evaluate.load(\"accuracy\")"
      ]
    },
    {
      "cell_type": "code",
      "execution_count": null,
      "metadata": {
        "id": "EaR1Q3gHyqlY"
      },
      "outputs": [],
      "source": [
        "from transformers import DataCollatorForTokenClassification\n",
        "data_collator = DataCollatorForTokenClassification(tokenizer=tokenizer)"
      ]
    },
    {
      "cell_type": "code",
      "execution_count": null,
      "metadata": {
        "colab": {
          "base_uri": "https://localhost:8080/",
          "height": 104,
          "referenced_widgets": [
            "6875f704830b478988ecafd12f38d599",
            "8cf78f91cff34545845266b69a09fda2",
            "87c91dbfe21b44fba5b493ec7f4b279e",
            "e306e9c7d6964d68b0a08d6f9b059288",
            "b8d5c0a4c7ec490c88394b1eb35db87e",
            "38ada751634b4561b08073a23f56a8b4",
            "5a54ceb0b44345808472b4d12cb6115c",
            "176d8ef5e28247a7b6972ebce003054f",
            "f2509ebfda544e31be079b927993b04f",
            "195b2156c53e44dfb1637e370185cd22",
            "e10f0e530a894b12be9d140a2cde3791"
          ]
        },
        "id": "iHF8Y5I9otVy",
        "outputId": "26432144-389f-43c2-8203-95b6918a86af"
      },
      "outputs": [
        {
          "data": {
            "application/vnd.jupyter.widget-view+json": {
              "model_id": "6875f704830b478988ecafd12f38d599",
              "version_major": 2,
              "version_minor": 0
            },
            "text/plain": [
              "model.safetensors:   0%|          | 0.00/672M [00:00<?, ?B/s]"
            ]
          },
          "metadata": {},
          "output_type": "display_data"
        },
        {
          "name": "stderr",
          "output_type": "stream",
          "text": [
            "Some weights of BertForTokenClassification were not initialized from the model checkpoint at bert-base-multilingual-uncased and are newly initialized: ['classifier.bias', 'classifier.weight']\n",
            "You should probably TRAIN this model on a down-stream task to be able to use it for predictions and inference.\n"
          ]
        }
      ],
      "source": [
        "from transformers import AutoModelForTokenClassification\n",
        "model = AutoModelForTokenClassification.from_pretrained('bert-base-multilingual-uncased', num_labels=len(frame2id)+1,ignore_mismatched_sizes=True)"
      ]
    },
    {
      "cell_type": "code",
      "execution_count": null,
      "metadata": {
        "id": "sy_diAZc1qNe"
      },
      "outputs": [],
      "source": [
        "label2id = dict(frame2id)"
      ]
    },
    {
      "cell_type": "code",
      "execution_count": null,
      "metadata": {
        "id": "exUhcGciVpDM"
      },
      "outputs": [],
      "source": [
        "id2label = dict((v,k) for k,v in label2id.items())"
      ]
    },
    {
      "cell_type": "code",
      "execution_count": null,
      "metadata": {
        "id": "BAkZc0LQ5cd5"
      },
      "outputs": [],
      "source": [
        "label_list = list(frame2id.keys())\n",
        "from sklearn.metrics import classification_report, precision_recall_fscore_support\n",
        "from sklearn.preprocessing import MultiLabelBinarizer\n",
        "\n",
        "from sklearn.metrics import classification_report\n",
        "def compute_metrics(p):\n",
        "    predictions, labels = p\n",
        "    predictions = np.argmax(predictions, axis=2)\n",
        "\n",
        "    true_predictions = [\n",
        "        [id2label[p] for (p, l) in zip(prediction, label) if l != -100]\n",
        "        for prediction, label in zip(predictions, labels)\n",
        "    ]\n",
        "    true_labels = [\n",
        "        [id2label[l] for (p, l) in zip(prediction, label) if l != -100]\n",
        "        for prediction, label in zip(predictions, labels)\n",
        "    ]\n",
        "    true_labels_bin = list(np.concatenate(true_labels))\n",
        "    pred_labels_bin = list(np.concatenate(true_predictions))\n",
        "    print(true_labels_bin)\n",
        "    print(pred_labels_bin)\n",
        "    report = classification_report(true_labels_bin, pred_labels_bin)\n",
        "    metrics = precision_recall_fscore_support(true_labels_bin, pred_labels_bin, average='weighted')\n",
        "    accuracy = metrics[0]\n",
        "    precision = metrics[1]\n",
        "    recall = metrics[2]\n",
        "    f1_score = metrics[3]\n",
        "    return {\n",
        "        \"precision\": precision,\n",
        "        \"recall\": recall,\n",
        "        \"f1\": f1_score,\n",
        "        \"accuracy\": accuracy\n",
        "    }"
      ]
    },
    {
      "cell_type": "code",
      "execution_count": null,
      "metadata": {
        "colab": {
          "base_uri": "https://localhost:8080/"
        },
        "id": "vD9uyLVYGQIa",
        "outputId": "efdfbaa6-b512-46f2-e940-465420515afd"
      },
      "outputs": [
        {
          "name": "stderr",
          "output_type": "stream",
          "text": [
            "/usr/local/lib/python3.11/dist-packages/transformers/training_args.py:1594: FutureWarning: `evaluation_strategy` is deprecated and will be removed in version 4.46 of 🤗 Transformers. Use `eval_strategy` instead\n",
            "  warnings.warn(\n"
          ]
        }
      ],
      "source": [
        "training_args = TrainingArguments(\n",
        "    output_dir=\"bert-token-classification\",\n",
        "    learning_rate=0.1,\n",
        "    per_device_train_batch_size=16,\n",
        "    per_device_eval_batch_size=16,\n",
        "    num_train_epochs=1,\n",
        "    evaluation_strategy=\"epoch\",\n",
        "    weight_decay=0.01,\n",
        "    save_strategy=\"no\",\n",
        "    #use_cpu=True,\n",
        "    #no_cuda=True,\n",
        "    #load_best_model_at_end=True, # uncomment if you wanna save\n",
        ")"
      ]
    },
    {
      "cell_type": "code",
      "execution_count": null,
      "metadata": {
        "id": "3elmnJlcGQLz"
      },
      "outputs": [],
      "source": [
        "trainer = Trainer(model=model,args=training_args,data_collator=data_collator,train_dataset=tokenized_data['train']  ,eval_dataset=tokenized_data['test'],compute_metrics=compute_metrics,)"
      ]
    },
    {
      "cell_type": "code",
      "execution_count": null,
      "metadata": {
        "id": "NZkEIMV7GQqV"
      },
      "outputs": [],
      "source": [
        "trainer.train()"
      ]
    },
    {
      "cell_type": "code",
      "execution_count": null,
      "metadata": {
        "id": "oiRuHuGDRTc8"
      },
      "outputs": [],
      "source": [
        "trainer.evaluate()"
      ]
    }
  ],
  "metadata": {
    "colab": {
      "provenance": []
    },
    "kernelspec": {
      "display_name": "Python 3",
      "name": "python3"
    },
    "language_info": {
      "name": "python"
    }
  },
  "nbformat": 4,
  "nbformat_minor": 0
}