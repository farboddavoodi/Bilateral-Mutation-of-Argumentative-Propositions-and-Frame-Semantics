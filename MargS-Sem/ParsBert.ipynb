{
  "cells": [
    {
      "cell_type": "code",
      "execution_count": null,
      "metadata": {
        "id": "KiLbeeAAWqam"
      },
      "outputs": [],
      "source": [
        "%%capture\n",
        "!pip install --upgrade transformers"
      ]
    },
    {
      "cell_type": "code",
      "execution_count": null,
      "metadata": {
        "id": "_rGUJMwQiRcS"
      },
      "outputs": [],
      "source": [
        "%%capture\n",
        "!pip install datasets"
      ]
    },
    {
      "cell_type": "code",
      "execution_count": null,
      "metadata": {
        "id": "-0Q3QjWmL0YQ"
      },
      "outputs": [],
      "source": [
        "%%capture\n",
        "!pip install accelerate -U"
      ]
    },
    {
      "cell_type": "code",
      "execution_count": null,
      "metadata": {
        "id": "l4Yh5_heJ42u"
      },
      "outputs": [],
      "source": [
        "%%capture\n",
        "!pip install evaluate"
      ]
    },
    {
      "cell_type": "code",
      "execution_count": null,
      "metadata": {
        "id": "Ni2eEZi4KX11"
      },
      "outputs": [],
      "source": [
        "%%capture\n",
        "!pip install seqeval"
      ]
    },
    {
      "cell_type": "code",
      "execution_count": null,
      "metadata": {
        "id": "dcK5IOCUN_0t"
      },
      "outputs": [],
      "source": [
        "%%capture\n",
        "!pip install scikit-learn"
      ]
    },
    {
      "cell_type": "code",
      "execution_count": null,
      "metadata": {
        "id": "AXMGsh7HanSo"
      },
      "outputs": [],
      "source": [
        "%%capture\n",
        "!pip install matplotlib"
      ]
    },
    {
      "cell_type": "code",
      "execution_count": null,
      "metadata": {
        "id": "jFgdEvC2Scw8"
      },
      "outputs": [],
      "source": [
        "%%capture\n",
        "!pip install sklearn"
      ]
    },
    {
      "cell_type": "code",
      "execution_count": null,
      "metadata": {
        "id": "tU9gaz6P9o3e"
      },
      "outputs": [],
      "source": [
        "from google.colab import drive\n",
        "import torch\n",
        "import pandas as pd\n",
        "import evaluate\n",
        "import matplotlib.pyplot as plt\n",
        "import os\n",
        "import numpy as np\n",
        "from sklearn.model_selection import train_test_split\n",
        "from tokenizers import Encoding\n",
        "from collections import defaultdict\n",
        "from torch.utils.data import Dataset, DataLoader\n",
        "from transformers import BertTokenizer, BertForTokenClassification, AdamW, get_linear_schedule_with_warmup, Trainer, TrainingArguments,  BatchEncoding"
      ]
    },
    {
      "cell_type": "code",
      "execution_count": null,
      "metadata": {
        "colab": {
          "base_uri": "https://localhost:8080/"
        },
        "id": "zyWbDeNeNMpf",
        "outputId": "e9325f49-05c7-48e5-f1c4-d5fff98f5534"
      },
      "outputs": [
        {
          "name": "stdout",
          "output_type": "stream",
          "text": [
            "Mounted at /content/drive\n"
          ]
        }
      ],
      "source": [
        "drive.mount('/content/drive')"
      ]
    },
    {
      "cell_type": "code",
      "execution_count": null,
      "metadata": {
        "id": "cwlCuCbexix7"
      },
      "outputs": [],
      "source": [
        "device = torch.device(\"cuda\")\n",
        "json_data = '/content/drive/MyDrive/davodi.json'\n",
        "df = pd.read_json(json_data)\n",
        "df = df.drop(['_id', 'sentence', 'frame', 'lexicalUnit', 'status', 'issuer', 'is_active', 'createdAt', 'updatedAt', 'PId', 'lang', 'description', 'lexicalUnitHint', 'reviewer', 'lexicalUnitHelper', 'frameHelper', 'frameName', 'lexicalUnitName'], axis = 1)"
      ]
    },
    {
      "cell_type": "code",
      "execution_count": null,
      "metadata": {
        "id": "U8STebfkruf-"
      },
      "outputs": [],
      "source": [
        "def framenet_tags(FN_tags):\n",
        "    framenet_pattern = []\n",
        "    for FN_tag in FN_tags:\n",
        "        tag_type = FN_tag.get('tagType')\n",
        "        if tag_type == 5:\n",
        "            element = FN_tag.get('element', {})\n",
        "            element_name = element.get('name', '')\n",
        "            framenet_pattern.append(element_name)\n",
        "        else:\n",
        "            framenet_pattern.append('O')\n",
        "    return framenet_pattern"
      ]
    },
    {
      "cell_type": "code",
      "execution_count": null,
      "metadata": {
        "id": "vr_bQ8xwMPUi"
      },
      "outputs": [],
      "source": [
        "df['frameNetTags'] = df['frameNetTags'].apply(lambda FN_tags : framenet_tags(FN_tags))"
      ]
    },
    {
      "cell_type": "code",
      "execution_count": null,
      "metadata": {
        "colab": {
          "base_uri": "https://localhost:8080/",
          "height": 424
        },
        "id": "Pfx5H5-vPS4k",
        "outputId": "68b7ab21-272d-4bcd-bade-a18304c5ffe6"
      },
      "outputs": [
        {
          "data": {
            "application/vnd.google.colaboratory.intrinsic+json": {
              "summary": "{\n  \"name\": \"df\",\n  \"rows\": 32729,\n  \"fields\": [\n    {\n      \"column\": \"words\",\n      \"properties\": {\n        \"dtype\": \"string\",\n        \"num_unique_values\": 19466,\n        \"samples\": [\n          \"\\u062f\\u0631 \\u0627\\u06cc\\u0646 \\u0631\\u0627\\u0633\\u062a\\u0627 \\u0648\\u0638\\u06cc\\u0641\\u06c0 \\u0634\\u0645\\u0627 \\u0633\\u062a \\u06a9\\u0647 \\u0627\\u0632 \\u0648\\u0632\\u0627\\u0631\\u062a\\u200c\\u0647\\u0627\\u06cc \\u0645\\u0631\\u0628\\u0648\\u0637\\u0647 \\u062a\\u0648\\u0636\\u06cc\\u062d \\u0628\\u062e\\u0648\\u0627\\u0647\\u06cc\\u062f .\",\n          \"\\u0637\\u0628\\u06cc\\u0639\\u06cc \\u0628\\u0648\\u062f \\u0627\\u0648\\u0644\\u06cc\\u0646 \\u0641\\u06a9\\u0631\\u06cc \\u06a9\\u0647 \\u0628\\u0647 \\u0630\\u0647\\u0646\\u0645 \\u0628\\u0631\\u0633\\u062f \\u060c \\u0646\\u062f\\u0627\\u0634\\u062a\\u0646 \\u0645\\u0648\\u0627\\u062f \\u0627\\u0648\\u0644\\u06cc\\u06c0 \\u062a\\u0647\\u06cc\\u06c0 \\u0634\\u0627\\u0645 \\u0628\\u0627\\u0634\\u062f .\",\n          \"\\u062e\\u0648\\u0634\\u0627 \\u0628\\u0647 \\u062d\\u0627\\u0644 \\u063a\\u0631\\u06cc\\u0628\\u0627\\u0646\\u06cc \\u06a9\\u0647 \\u0622\\u0646 \\u0686\\u0647 \\u0627\\u0632 \\u0633\\u0646\\u062a \\u062a\\u0648\\u0633\\u0637 \\u0645\\u0631\\u062f\\u0645 \\u0628\\u0647 \\u062a\\u0628\\u0627\\u0647\\u06cc \\u0631\\u0641\\u062a\\u0647 \\u0628\\u0647 \\u0635\\u0644\\u0627\\u062d \\u0628\\u0627\\u0632\\u0645\\u06cc\\u200c\\u0622\\u0648\\u0631\\u0646\\u062f .\"\n        ],\n        \"semantic_type\": \"\",\n        \"description\": \"\"\n      }\n    },\n    {\n      \"column\": \"frameNetTags\",\n      \"properties\": {\n        \"dtype\": \"object\",\n        \"semantic_type\": \"\",\n        \"description\": \"\"\n      }\n    },\n    {\n      \"column\": \"propBankTags\",\n      \"properties\": {\n        \"dtype\": \"object\",\n        \"semantic_type\": \"\",\n        \"description\": \"\"\n      }\n    }\n  ]\n}",
              "type": "dataframe",
              "variable_name": "df"
            },
            "text/html": [
              "\n",
              "  <div id=\"df-ddb4eb4a-19cf-4e97-a408-c2263de4ddb6\" class=\"colab-df-container\">\n",
              "    <div>\n",
              "<style scoped>\n",
              "    .dataframe tbody tr th:only-of-type {\n",
              "        vertical-align: middle;\n",
              "    }\n",
              "\n",
              "    .dataframe tbody tr th {\n",
              "        vertical-align: top;\n",
              "    }\n",
              "\n",
              "    .dataframe thead th {\n",
              "        text-align: right;\n",
              "    }\n",
              "</style>\n",
              "<table border=\"1\" class=\"dataframe\">\n",
              "  <thead>\n",
              "    <tr style=\"text-align: right;\">\n",
              "      <th></th>\n",
              "      <th>words</th>\n",
              "      <th>frameNetTags</th>\n",
              "      <th>propBankTags</th>\n",
              "    </tr>\n",
              "  </thead>\n",
              "  <tbody>\n",
              "    <tr>\n",
              "      <th>0</th>\n",
              "      <td>خانم نزهت‌الدوله گرچه تا به حال سه تا شوهر کرد...</td>\n",
              "      <td>[O, O, O, O, O, O, O, O, O, O, O, O, O, O, O, ...</td>\n",
              "      <td>[O, O, O, O, O, O, O, O, O, O, O, O, O, O, O, ...</td>\n",
              "    </tr>\n",
              "    <tr>\n",
              "      <th>1</th>\n",
              "      <td>خانم نزهت‌الدوله گرچه تا به حال سه تا شوهر کرد...</td>\n",
              "      <td>[جستجو_کننده, جستجو_کننده, O, O, O, O, O, O, O...</td>\n",
              "      <td>[O, O, O, O, O, O, O, O, O, O, O, O, O, O, O, ...</td>\n",
              "    </tr>\n",
              "    <tr>\n",
              "      <th>2</th>\n",
              "      <td>تو به من مجال دادی تا پروانه شوم .</td>\n",
              "      <td>[مرجع_ذیصلاح, قهرمان, قهرمان, O, O, عمل, عمل, ...</td>\n",
              "      <td>[B-A0, B-A2, O, B-NVE, B-V, B-PRP, O, O, O]</td>\n",
              "    </tr>\n",
              "    <tr>\n",
              "      <th>3</th>\n",
              "      <td>تو به من مجال دادی تا پروانه شوم .</td>\n",
              "      <td>[O, O, O, O, O, O, دسته_نهایی, O, O]</td>\n",
              "      <td>[O, O, O, O, O, O, B-A2, B-V, O]</td>\n",
              "    </tr>\n",
              "    <tr>\n",
              "      <th>4</th>\n",
              "      <td>هر زمان این غریزه و فطرت و رشد سنی و عقلی و اج...</td>\n",
              "      <td>[O, O, موجودیت, موجودیت, موجودیت, موجودیت, موج...</td>\n",
              "      <td>[O, O, O, B-A2, O, O, O, O, O, O, O, O, O, B-N...</td>\n",
              "    </tr>\n",
              "    <tr>\n",
              "      <th>...</th>\n",
              "      <td>...</td>\n",
              "      <td>...</td>\n",
              "      <td>...</td>\n",
              "    </tr>\n",
              "    <tr>\n",
              "      <th>32724</th>\n",
              "      <td>روسیه به زودی برای عمل به تعهدهای خود به اروپا...</td>\n",
              "      <td>[بحث‌کنندگان, زمان, زمان, مسئله, مسئله, مسئله,...</td>\n",
              "      <td>[B-A0, B-TMP, O, B-A2, O, O, O, O, O, O, O, O,...</td>\n",
              "    </tr>\n",
              "    <tr>\n",
              "      <th>32725</th>\n",
              "      <td>منازعه و مشاجرۀ پدر و مادر اقدام ناخوشایندی اس...</td>\n",
              "      <td>[O, O, O, بحث‌کنندگان, بحث‌کنندگان, بحث‌کنندگا...</td>\n",
              "      <td>[B-N-V, O, O, B-A0, B-A1, O, O, O, O, O, O, O,...</td>\n",
              "    </tr>\n",
              "    <tr>\n",
              "      <th>32726</th>\n",
              "      <td>منازعه و مشاجرۀ پدر و مادر اقدام ناخوشایندی اس...</td>\n",
              "      <td>[روش, روش, روش, عامل, عامل, عامل, O, توضیح, O,...</td>\n",
              "      <td>[B-A1, O, O, O, O, O, B-A2, O, B-V, O, O, O, O...</td>\n",
              "    </tr>\n",
              "    <tr>\n",
              "      <th>32727</th>\n",
              "      <td>منازعه و مشاجرۀ پدر و مادر اقدام ناخوشایندی اس...</td>\n",
              "      <td>[O, O, O, O, O, O, O, O, O, O, شاخص, شاخص, O, ...</td>\n",
              "      <td>[O, O, O, O, O, O, O, O, O, O, B-Arg2_B1, O, B...</td>\n",
              "    </tr>\n",
              "    <tr>\n",
              "      <th>32728</th>\n",
              "      <td>منازعه و مشاجرۀ پدر و مادر اقدام ناخوشایندی اس...</td>\n",
              "      <td>[O, O, O, O, O, O, O, O, O, O, O, O, O, O, O, ...</td>\n",
              "      <td>[O, O, O, O, O, O, O, O, O, O, O, O, O, B-N-V,...</td>\n",
              "    </tr>\n",
              "  </tbody>\n",
              "</table>\n",
              "<p>32729 rows × 3 columns</p>\n",
              "</div>\n",
              "    <div class=\"colab-df-buttons\">\n",
              "\n",
              "  <div class=\"colab-df-container\">\n",
              "    <button class=\"colab-df-convert\" onclick=\"convertToInteractive('df-ddb4eb4a-19cf-4e97-a408-c2263de4ddb6')\"\n",
              "            title=\"Convert this dataframe to an interactive table.\"\n",
              "            style=\"display:none;\">\n",
              "\n",
              "  <svg xmlns=\"http://www.w3.org/2000/svg\" height=\"24px\" viewBox=\"0 -960 960 960\">\n",
              "    <path d=\"M120-120v-720h720v720H120Zm60-500h600v-160H180v160Zm220 220h160v-160H400v160Zm0 220h160v-160H400v160ZM180-400h160v-160H180v160Zm440 0h160v-160H620v160ZM180-180h160v-160H180v160Zm440 0h160v-160H620v160Z\"/>\n",
              "  </svg>\n",
              "    </button>\n",
              "\n",
              "  <style>\n",
              "    .colab-df-container {\n",
              "      display:flex;\n",
              "      gap: 12px;\n",
              "    }\n",
              "\n",
              "    .colab-df-convert {\n",
              "      background-color: #E8F0FE;\n",
              "      border: none;\n",
              "      border-radius: 50%;\n",
              "      cursor: pointer;\n",
              "      display: none;\n",
              "      fill: #1967D2;\n",
              "      height: 32px;\n",
              "      padding: 0 0 0 0;\n",
              "      width: 32px;\n",
              "    }\n",
              "\n",
              "    .colab-df-convert:hover {\n",
              "      background-color: #E2EBFA;\n",
              "      box-shadow: 0px 1px 2px rgba(60, 64, 67, 0.3), 0px 1px 3px 1px rgba(60, 64, 67, 0.15);\n",
              "      fill: #174EA6;\n",
              "    }\n",
              "\n",
              "    .colab-df-buttons div {\n",
              "      margin-bottom: 4px;\n",
              "    }\n",
              "\n",
              "    [theme=dark] .colab-df-convert {\n",
              "      background-color: #3B4455;\n",
              "      fill: #D2E3FC;\n",
              "    }\n",
              "\n",
              "    [theme=dark] .colab-df-convert:hover {\n",
              "      background-color: #434B5C;\n",
              "      box-shadow: 0px 1px 3px 1px rgba(0, 0, 0, 0.15);\n",
              "      filter: drop-shadow(0px 1px 2px rgba(0, 0, 0, 0.3));\n",
              "      fill: #FFFFFF;\n",
              "    }\n",
              "  </style>\n",
              "\n",
              "    <script>\n",
              "      const buttonEl =\n",
              "        document.querySelector('#df-ddb4eb4a-19cf-4e97-a408-c2263de4ddb6 button.colab-df-convert');\n",
              "      buttonEl.style.display =\n",
              "        google.colab.kernel.accessAllowed ? 'block' : 'none';\n",
              "\n",
              "      async function convertToInteractive(key) {\n",
              "        const element = document.querySelector('#df-ddb4eb4a-19cf-4e97-a408-c2263de4ddb6');\n",
              "        const dataTable =\n",
              "          await google.colab.kernel.invokeFunction('convertToInteractive',\n",
              "                                                    [key], {});\n",
              "        if (!dataTable) return;\n",
              "\n",
              "        const docLinkHtml = 'Like what you see? Visit the ' +\n",
              "          '<a target=\"_blank\" href=https://colab.research.google.com/notebooks/data_table.ipynb>data table notebook</a>'\n",
              "          + ' to learn more about interactive tables.';\n",
              "        element.innerHTML = '';\n",
              "        dataTable['output_type'] = 'display_data';\n",
              "        await google.colab.output.renderOutput(dataTable, element);\n",
              "        const docLink = document.createElement('div');\n",
              "        docLink.innerHTML = docLinkHtml;\n",
              "        element.appendChild(docLink);\n",
              "      }\n",
              "    </script>\n",
              "  </div>\n",
              "\n",
              "\n",
              "<div id=\"df-edc02bfc-b771-4cd0-9e8c-387a15741a1e\">\n",
              "  <button class=\"colab-df-quickchart\" onclick=\"quickchart('df-edc02bfc-b771-4cd0-9e8c-387a15741a1e')\"\n",
              "            title=\"Suggest charts\"\n",
              "            style=\"display:none;\">\n",
              "\n",
              "<svg xmlns=\"http://www.w3.org/2000/svg\" height=\"24px\"viewBox=\"0 0 24 24\"\n",
              "     width=\"24px\">\n",
              "    <g>\n",
              "        <path d=\"M19 3H5c-1.1 0-2 .9-2 2v14c0 1.1.9 2 2 2h14c1.1 0 2-.9 2-2V5c0-1.1-.9-2-2-2zM9 17H7v-7h2v7zm4 0h-2V7h2v10zm4 0h-2v-4h2v4z\"/>\n",
              "    </g>\n",
              "</svg>\n",
              "  </button>\n",
              "\n",
              "<style>\n",
              "  .colab-df-quickchart {\n",
              "      --bg-color: #E8F0FE;\n",
              "      --fill-color: #1967D2;\n",
              "      --hover-bg-color: #E2EBFA;\n",
              "      --hover-fill-color: #174EA6;\n",
              "      --disabled-fill-color: #AAA;\n",
              "      --disabled-bg-color: #DDD;\n",
              "  }\n",
              "\n",
              "  [theme=dark] .colab-df-quickchart {\n",
              "      --bg-color: #3B4455;\n",
              "      --fill-color: #D2E3FC;\n",
              "      --hover-bg-color: #434B5C;\n",
              "      --hover-fill-color: #FFFFFF;\n",
              "      --disabled-bg-color: #3B4455;\n",
              "      --disabled-fill-color: #666;\n",
              "  }\n",
              "\n",
              "  .colab-df-quickchart {\n",
              "    background-color: var(--bg-color);\n",
              "    border: none;\n",
              "    border-radius: 50%;\n",
              "    cursor: pointer;\n",
              "    display: none;\n",
              "    fill: var(--fill-color);\n",
              "    height: 32px;\n",
              "    padding: 0;\n",
              "    width: 32px;\n",
              "  }\n",
              "\n",
              "  .colab-df-quickchart:hover {\n",
              "    background-color: var(--hover-bg-color);\n",
              "    box-shadow: 0 1px 2px rgba(60, 64, 67, 0.3), 0 1px 3px 1px rgba(60, 64, 67, 0.15);\n",
              "    fill: var(--button-hover-fill-color);\n",
              "  }\n",
              "\n",
              "  .colab-df-quickchart-complete:disabled,\n",
              "  .colab-df-quickchart-complete:disabled:hover {\n",
              "    background-color: var(--disabled-bg-color);\n",
              "    fill: var(--disabled-fill-color);\n",
              "    box-shadow: none;\n",
              "  }\n",
              "\n",
              "  .colab-df-spinner {\n",
              "    border: 2px solid var(--fill-color);\n",
              "    border-color: transparent;\n",
              "    border-bottom-color: var(--fill-color);\n",
              "    animation:\n",
              "      spin 1s steps(1) infinite;\n",
              "  }\n",
              "\n",
              "  @keyframes spin {\n",
              "    0% {\n",
              "      border-color: transparent;\n",
              "      border-bottom-color: var(--fill-color);\n",
              "      border-left-color: var(--fill-color);\n",
              "    }\n",
              "    20% {\n",
              "      border-color: transparent;\n",
              "      border-left-color: var(--fill-color);\n",
              "      border-top-color: var(--fill-color);\n",
              "    }\n",
              "    30% {\n",
              "      border-color: transparent;\n",
              "      border-left-color: var(--fill-color);\n",
              "      border-top-color: var(--fill-color);\n",
              "      border-right-color: var(--fill-color);\n",
              "    }\n",
              "    40% {\n",
              "      border-color: transparent;\n",
              "      border-right-color: var(--fill-color);\n",
              "      border-top-color: var(--fill-color);\n",
              "    }\n",
              "    60% {\n",
              "      border-color: transparent;\n",
              "      border-right-color: var(--fill-color);\n",
              "    }\n",
              "    80% {\n",
              "      border-color: transparent;\n",
              "      border-right-color: var(--fill-color);\n",
              "      border-bottom-color: var(--fill-color);\n",
              "    }\n",
              "    90% {\n",
              "      border-color: transparent;\n",
              "      border-bottom-color: var(--fill-color);\n",
              "    }\n",
              "  }\n",
              "</style>\n",
              "\n",
              "  <script>\n",
              "    async function quickchart(key) {\n",
              "      const quickchartButtonEl =\n",
              "        document.querySelector('#' + key + ' button');\n",
              "      quickchartButtonEl.disabled = true;  // To prevent multiple clicks.\n",
              "      quickchartButtonEl.classList.add('colab-df-spinner');\n",
              "      try {\n",
              "        const charts = await google.colab.kernel.invokeFunction(\n",
              "            'suggestCharts', [key], {});\n",
              "      } catch (error) {\n",
              "        console.error('Error during call to suggestCharts:', error);\n",
              "      }\n",
              "      quickchartButtonEl.classList.remove('colab-df-spinner');\n",
              "      quickchartButtonEl.classList.add('colab-df-quickchart-complete');\n",
              "    }\n",
              "    (() => {\n",
              "      let quickchartButtonEl =\n",
              "        document.querySelector('#df-edc02bfc-b771-4cd0-9e8c-387a15741a1e button');\n",
              "      quickchartButtonEl.style.display =\n",
              "        google.colab.kernel.accessAllowed ? 'block' : 'none';\n",
              "    })();\n",
              "  </script>\n",
              "</div>\n",
              "\n",
              "  <div id=\"id_605b7b2f-faa6-4d23-95bf-d15e6bbc2027\">\n",
              "    <style>\n",
              "      .colab-df-generate {\n",
              "        background-color: #E8F0FE;\n",
              "        border: none;\n",
              "        border-radius: 50%;\n",
              "        cursor: pointer;\n",
              "        display: none;\n",
              "        fill: #1967D2;\n",
              "        height: 32px;\n",
              "        padding: 0 0 0 0;\n",
              "        width: 32px;\n",
              "      }\n",
              "\n",
              "      .colab-df-generate:hover {\n",
              "        background-color: #E2EBFA;\n",
              "        box-shadow: 0px 1px 2px rgba(60, 64, 67, 0.3), 0px 1px 3px 1px rgba(60, 64, 67, 0.15);\n",
              "        fill: #174EA6;\n",
              "      }\n",
              "\n",
              "      [theme=dark] .colab-df-generate {\n",
              "        background-color: #3B4455;\n",
              "        fill: #D2E3FC;\n",
              "      }\n",
              "\n",
              "      [theme=dark] .colab-df-generate:hover {\n",
              "        background-color: #434B5C;\n",
              "        box-shadow: 0px 1px 3px 1px rgba(0, 0, 0, 0.15);\n",
              "        filter: drop-shadow(0px 1px 2px rgba(0, 0, 0, 0.3));\n",
              "        fill: #FFFFFF;\n",
              "      }\n",
              "    </style>\n",
              "    <button class=\"colab-df-generate\" onclick=\"generateWithVariable('df')\"\n",
              "            title=\"Generate code using this dataframe.\"\n",
              "            style=\"display:none;\">\n",
              "\n",
              "  <svg xmlns=\"http://www.w3.org/2000/svg\" height=\"24px\"viewBox=\"0 0 24 24\"\n",
              "       width=\"24px\">\n",
              "    <path d=\"M7,19H8.4L18.45,9,17,7.55,7,17.6ZM5,21V16.75L18.45,3.32a2,2,0,0,1,2.83,0l1.4,1.43a1.91,1.91,0,0,1,.58,1.4,1.91,1.91,0,0,1-.58,1.4L9.25,21ZM18.45,9,17,7.55Zm-12,3A5.31,5.31,0,0,0,4.9,8.1,5.31,5.31,0,0,0,1,6.5,5.31,5.31,0,0,0,4.9,4.9,5.31,5.31,0,0,0,6.5,1,5.31,5.31,0,0,0,8.1,4.9,5.31,5.31,0,0,0,12,6.5,5.46,5.46,0,0,0,6.5,12Z\"/>\n",
              "  </svg>\n",
              "    </button>\n",
              "    <script>\n",
              "      (() => {\n",
              "      const buttonEl =\n",
              "        document.querySelector('#id_605b7b2f-faa6-4d23-95bf-d15e6bbc2027 button.colab-df-generate');\n",
              "      buttonEl.style.display =\n",
              "        google.colab.kernel.accessAllowed ? 'block' : 'none';\n",
              "\n",
              "      buttonEl.onclick = () => {\n",
              "        google.colab.notebook.generateWithVariable('df');\n",
              "      }\n",
              "      })();\n",
              "    </script>\n",
              "  </div>\n",
              "\n",
              "    </div>\n",
              "  </div>\n"
            ],
            "text/plain": [
              "                                                   words  \\\n",
              "0      خانم نزهت‌الدوله گرچه تا به حال سه تا شوهر کرد...   \n",
              "1      خانم نزهت‌الدوله گرچه تا به حال سه تا شوهر کرد...   \n",
              "2                     تو به من مجال دادی تا پروانه شوم .   \n",
              "3                     تو به من مجال دادی تا پروانه شوم .   \n",
              "4      هر زمان این غریزه و فطرت و رشد سنی و عقلی و اج...   \n",
              "...                                                  ...   \n",
              "32724  روسیه به زودی برای عمل به تعهدهای خود به اروپا...   \n",
              "32725  منازعه و مشاجرۀ پدر و مادر اقدام ناخوشایندی اس...   \n",
              "32726  منازعه و مشاجرۀ پدر و مادر اقدام ناخوشایندی اس...   \n",
              "32727  منازعه و مشاجرۀ پدر و مادر اقدام ناخوشایندی اس...   \n",
              "32728  منازعه و مشاجرۀ پدر و مادر اقدام ناخوشایندی اس...   \n",
              "\n",
              "                                            frameNetTags  \\\n",
              "0      [O, O, O, O, O, O, O, O, O, O, O, O, O, O, O, ...   \n",
              "1      [جستجو_کننده, جستجو_کننده, O, O, O, O, O, O, O...   \n",
              "2      [مرجع_ذیصلاح, قهرمان, قهرمان, O, O, عمل, عمل, ...   \n",
              "3                   [O, O, O, O, O, O, دسته_نهایی, O, O]   \n",
              "4      [O, O, موجودیت, موجودیت, موجودیت, موجودیت, موج...   \n",
              "...                                                  ...   \n",
              "32724  [بحث‌کنندگان, زمان, زمان, مسئله, مسئله, مسئله,...   \n",
              "32725  [O, O, O, بحث‌کنندگان, بحث‌کنندگان, بحث‌کنندگا...   \n",
              "32726  [روش, روش, روش, عامل, عامل, عامل, O, توضیح, O,...   \n",
              "32727  [O, O, O, O, O, O, O, O, O, O, شاخص, شاخص, O, ...   \n",
              "32728  [O, O, O, O, O, O, O, O, O, O, O, O, O, O, O, ...   \n",
              "\n",
              "                                            propBankTags  \n",
              "0      [O, O, O, O, O, O, O, O, O, O, O, O, O, O, O, ...  \n",
              "1      [O, O, O, O, O, O, O, O, O, O, O, O, O, O, O, ...  \n",
              "2            [B-A0, B-A2, O, B-NVE, B-V, B-PRP, O, O, O]  \n",
              "3                       [O, O, O, O, O, O, B-A2, B-V, O]  \n",
              "4      [O, O, O, B-A2, O, O, O, O, O, O, O, O, O, B-N...  \n",
              "...                                                  ...  \n",
              "32724  [B-A0, B-TMP, O, B-A2, O, O, O, O, O, O, O, O,...  \n",
              "32725  [B-N-V, O, O, B-A0, B-A1, O, O, O, O, O, O, O,...  \n",
              "32726  [B-A1, O, O, O, O, O, B-A2, O, B-V, O, O, O, O...  \n",
              "32727  [O, O, O, O, O, O, O, O, O, O, B-Arg2_B1, O, B...  \n",
              "32728  [O, O, O, O, O, O, O, O, O, O, O, O, O, B-N-V,...  \n",
              "\n",
              "[32729 rows x 3 columns]"
            ]
          },
          "execution_count": 14,
          "metadata": {},
          "output_type": "execute_result"
        }
      ],
      "source": [
        "df"
      ]
    },
    {
      "cell_type": "code",
      "execution_count": null,
      "metadata": {
        "id": "TdE8Tp_Jv2Ly"
      },
      "outputs": [],
      "source": [
        "train_data, temp_data = train_test_split(df, test_size=0.2, random_state=42)\n",
        "validation_data, test_data = train_test_split(temp_data, test_size=0.5, random_state=42)\n",
        "print(\"Training set size:\", len(train_data))\n",
        "print(\"Validation set size:\", len(validation_data))\n",
        "print(\"Test set size:\", len(test_data))"
      ]
    },
    {
      "cell_type": "code",
      "execution_count": null,
      "metadata": {
        "colab": {
          "base_uri": "https://localhost:8080/",
          "height": 301,
          "referenced_widgets": [
            "12299c6a8fb7424081adc4abb0040208",
            "d0526c197988412da5d32f5b16698f52",
            "78c1768ff2344833bfca5c4dc9156b65",
            "9beb3d6af9144bb5b4c182951111476e",
            "14632146ceec4222b8d35ed014f8d618",
            "5cd49369668f4935afc5d753818814f7",
            "959894d64e0f4352ab661ecc83b0d500",
            "3088db4295af4488903e0ae77eed1da7",
            "993fd106ecba421fa7bf18645bd34244",
            "c002956590d440f5921b79926224584c",
            "745d004d7a0c4273b90af0fb831868d8",
            "fa7a342cb80240ff8c3602b32d477ee7",
            "d26ccb6749b448d197db731adfbd761d",
            "b4c2062ce49340e081d69fd542ca75a5",
            "77696a63cb30463e8c0492edcff45d9b",
            "11c58f910cc5417b82fbd6f93b1ce3ef",
            "005507b887b243a2ab58a309334a8cfc",
            "c11f6f9aeb334ac4b925eab1e669953e",
            "222212b54219417aac0515691025a4ea",
            "748ebed7036b47aebe1d5002e6d6d7c4",
            "d2331bfc0f5841d6933e65e41898332d",
            "553819f6b4a44e6b9e492ea8d4bc95e8",
            "471fee1262634b0c82fe7339c852a40b",
            "0cd92955444d45b3baeeb60f2c93ddd9",
            "2a9b878885744922a7714cb00f079b7e",
            "9fb319c296534c1698c15d6454284b79",
            "37a123ce727947b29c13b9248244b9a0",
            "7447f37a1cb84c57b6954cb79a6ed73f",
            "cd8a3422c8554b11aae2e612384f00f0",
            "98e28740c6bc4f07b91fa30d1879bab2",
            "96d11a0e577f4ed180edf5bacda3c98a",
            "bc0603999e944eb3adeffab04deca237",
            "aa6bea29522d4ab08587b6ce08067823",
            "f3f73d7a0d5e499a83411904829a150a",
            "030a6666532b4d4cbc441c65f8cd06d4",
            "c8ec5053c8fb46f2b11f9ac7e9e64274",
            "949fbbc9a1574c7ba4dc1781d5994cdf",
            "1512ce0010354538905d587fe407cd8f",
            "3e20a09c35cb415b907c2fc6f9941227",
            "25c5e6fac0734fd5884c666aff901c57",
            "60e06d0024ad46af8064c47ce6639ff8",
            "2e5656549b5742bf89c146e7a6491d4c",
            "b0853391232c4af3aabf2afffe8d900a",
            "560f6a98b7324fae81094bdadad08c6a",
            "aeb83169c9b34cc4ba72bddc99227b38",
            "87c1a12609f54a2887255ee09c36f97b",
            "d593c342bb71495c9a33370f325e89b0",
            "44bdfcd8d13941d784774d3dcd63108d",
            "d383430fe00d4fdeb91680929a9d8b90",
            "4905fc9988a44674af3cd679265dc41b",
            "0384fe1d8a94473d8cee82c23e4a618d",
            "d432ed60ab0b40daab4e927636713620",
            "a0274faefb714424aae8f472c0995311",
            "d780f4e08a2b418ea3002050d173aab1",
            "d72c74bda9d24364bbd2051dba88511d"
          ]
        },
        "id": "gAljfzJSZvPE",
        "outputId": "d22944fa-6b53-4c5f-8dda-30a80a429bad"
      },
      "outputs": [
        {
          "name": "stderr",
          "output_type": "stream",
          "text": [
            "/usr/local/lib/python3.11/dist-packages/huggingface_hub/utils/_auth.py:94: UserWarning: \n",
            "The secret `HF_TOKEN` does not exist in your Colab secrets.\n",
            "To authenticate with the Hugging Face Hub, create a token in your settings tab (https://huggingface.co/settings/tokens), set it as secret in your Google Colab and restart your session.\n",
            "You will be able to reuse this secret in all of your notebooks.\n",
            "Please note that authentication is recommended but still optional to access public models or datasets.\n",
            "  warnings.warn(\n"
          ]
        },
        {
          "data": {
            "application/vnd.jupyter.widget-view+json": {
              "model_id": "12299c6a8fb7424081adc4abb0040208",
              "version_major": 2,
              "version_minor": 0
            },
            "text/plain": [
              "tokenizer_config.json:   0%|          | 0.00/346 [00:00<?, ?B/s]"
            ]
          },
          "metadata": {},
          "output_type": "display_data"
        },
        {
          "data": {
            "application/vnd.jupyter.widget-view+json": {
              "model_id": "fa7a342cb80240ff8c3602b32d477ee7",
              "version_major": 2,
              "version_minor": 0
            },
            "text/plain": [
              "config.json:   0%|          | 0.00/1.38k [00:00<?, ?B/s]"
            ]
          },
          "metadata": {},
          "output_type": "display_data"
        },
        {
          "data": {
            "application/vnd.jupyter.widget-view+json": {
              "model_id": "471fee1262634b0c82fe7339c852a40b",
              "version_major": 2,
              "version_minor": 0
            },
            "text/plain": [
              "vocab.txt:   0%|          | 0.00/426k [00:00<?, ?B/s]"
            ]
          },
          "metadata": {},
          "output_type": "display_data"
        },
        {
          "data": {
            "application/vnd.jupyter.widget-view+json": {
              "model_id": "f3f73d7a0d5e499a83411904829a150a",
              "version_major": 2,
              "version_minor": 0
            },
            "text/plain": [
              "tokenizer.json:   0%|          | 0.00/1.11M [00:00<?, ?B/s]"
            ]
          },
          "metadata": {},
          "output_type": "display_data"
        },
        {
          "data": {
            "application/vnd.jupyter.widget-view+json": {
              "model_id": "aeb83169c9b34cc4ba72bddc99227b38",
              "version_major": 2,
              "version_minor": 0
            },
            "text/plain": [
              "special_tokens_map.json:   0%|          | 0.00/134 [00:00<?, ?B/s]"
            ]
          },
          "metadata": {},
          "output_type": "display_data"
        }
      ],
      "source": [
        "from transformers import AutoTokenizer, AutoModelForMaskedLM\n",
        "tokenizer = AutoTokenizer.from_pretrained(\"HooshvareLab/bert-fa-zwnj-base-ner\")"
      ]
    },
    {
      "cell_type": "code",
      "execution_count": null,
      "metadata": {
        "colab": {
          "base_uri": "https://localhost:8080/"
        },
        "id": "W57ljReCWqu7",
        "outputId": "aa14615d-5e6a-44af-b9ba-1af7a23424f2"
      },
      "outputs": [
        {
          "name": "stderr",
          "output_type": "stream",
          "text": [
            "<ipython-input-21-ce01e66bb15d>:1: SettingWithCopyWarning: \n",
            "A value is trying to be set on a copy of a slice from a DataFrame.\n",
            "Try using .loc[row_indexer,col_indexer] = value instead\n",
            "\n",
            "See the caveats in the documentation: https://pandas.pydata.org/pandas-docs/stable/user_guide/indexing.html#returning-a-view-versus-a-copy\n",
            "  df[\"Words\"] = df[\"words\"].apply(lambda sentence: [word.strip() for word in sentence.split(' ')])\n"
          ]
        }
      ],
      "source": [
        "df[\"Words\"] = df[\"words\"].apply(lambda sentence: [word.strip() for word in sentence.split(' ')])"
      ]
    },
    {
      "cell_type": "code",
      "execution_count": null,
      "metadata": {
        "colab": {
          "base_uri": "https://localhost:8080/"
        },
        "id": "c3PrqPEW8kcY",
        "outputId": "9d897c30-ba87-4b95-ed19-9a798cfa60ff"
      },
      "outputs": [
        {
          "data": {
            "text/plain": [
              "['[CLS]',\n",
              " 'خانم',\n",
              " 'نزه',\n",
              " '##ت',\n",
              " '[ZWNJ]',\n",
              " 'الدوله',\n",
              " 'گرچه',\n",
              " 'تا',\n",
              " 'به',\n",
              " 'حال',\n",
              " 'سه',\n",
              " 'تا',\n",
              " 'شوهر',\n",
              " 'کرده',\n",
              " 'و',\n",
              " 'شش',\n",
              " 'بار',\n",
              " 'زاییده',\n",
              " 'و',\n",
              " 'دو',\n",
              " 'تا',\n",
              " 'از',\n",
              " 'دخترهای',\n",
              " '##ش',\n",
              " 'هم',\n",
              " 'به',\n",
              " '[UNK]',\n",
              " 'داماد',\n",
              " 'فرستاده',\n",
              " '_',\n",
              " 'شده',\n",
              " '[ZWNJ]',\n",
              " 'اند',\n",
              " 'و',\n",
              " 'حالا',\n",
              " 'دیگر',\n",
              " 'برای',\n",
              " 'خودش',\n",
              " 'مادربزرگ',\n",
              " 'شده',\n",
              " '_',\n",
              " 'است',\n",
              " '،',\n",
              " 'باز',\n",
              " 'هم',\n",
              " 'عقیده',\n",
              " 'دارد',\n",
              " 'که',\n",
              " 'پیری',\n",
              " 'و',\n",
              " 'جوانی',\n",
              " 'دست',\n",
              " 'خود',\n",
              " 'آ',\n",
              " '##دم',\n",
              " 'است',\n",
              " 'و',\n",
              " 'گرچه',\n",
              " 'سر',\n",
              " 'و',\n",
              " 'همسر',\n",
              " 'و',\n",
              " 'خویشان',\n",
              " 'و',\n",
              " 'دوستان',\n",
              " 'می',\n",
              " '[ZWNJ]',\n",
              " 'گویند',\n",
              " 'که',\n",
              " 'پنجاه',\n",
              " 'سالی',\n",
              " 'دارد',\n",
              " 'ولی',\n",
              " 'هنوز',\n",
              " 'دو',\n",
              " 'دستی',\n",
              " 'به',\n",
              " 'جوانی',\n",
              " '[ZWNJ]',\n",
              " 'اش',\n",
              " 'چسبیده',\n",
              " 'و',\n",
              " 'هنوز',\n",
              " 'هم',\n",
              " 'در',\n",
              " 'جستجوی',\n",
              " 'شوهر',\n",
              " 'ایده',\n",
              " '[ZWNJ]',\n",
              " 'آ',\n",
              " '##ل',\n",
              " 'به',\n",
              " 'این',\n",
              " 'در',\n",
              " 'و',\n",
              " 'آ',\n",
              " '##ن',\n",
              " 'در',\n",
              " 'می',\n",
              " '[ZWNJ]',\n",
              " 'زند',\n",
              " '.',\n",
              " '[SEP]']"
            ]
          },
          "execution_count": 24,
          "metadata": {},
          "output_type": "execute_result"
        }
      ],
      "source": [
        "tokenized_input = tokenizer(df['words'][0].split(' '), is_split_into_words=True)\n",
        "tokenizer.convert_ids_to_tokens(tokenized_input[\"input_ids\"])"
      ]
    },
    {
      "cell_type": "code",
      "execution_count": null,
      "metadata": {
        "id": "TK8CK9ozU-xB"
      },
      "outputs": [],
      "source": [
        "from transformers import AutoTokenizer\n",
        "tokenizer = AutoTokenizer.from_pretrained(\"HooshvareLab/bert-fa-zwnj-base-ner\")"
      ]
    },
    {
      "cell_type": "code",
      "execution_count": null,
      "metadata": {
        "id": "1jRbNPH0GSxT"
      },
      "outputs": [],
      "source": [
        "def create_role_id_dictionary():\n",
        "    \"\"\"Creates a dictionary that maps PropBank roles to numerical IDs.\"\"\"\n",
        "    #roles = set()\n",
        "    frame_elements = set()\n",
        "    for _, row in df.iterrows():\n",
        "        prop_str = row['propBankTags']\n",
        "        framenet_str = row['frameNetTags']\n",
        "     #   roles.update(prop_str)\n",
        "        frame_elements.update(framenet_str)\n",
        "    #role_id_dict = defaultdict(int)\n",
        "    frame_id_dict = defaultdict(int)\n",
        "    index = 1\n",
        "    #for role in roles:\n",
        "    #    role_id_dict[role] = index\n",
        "    #    index += 1\n",
        "    for frame_element in frame_elements:\n",
        "        frame_id_dict[frame_element] = index\n",
        "        index += 1\n",
        "    return frame_id_dict, frame_elements"
      ]
    },
    {
      "cell_type": "code",
      "execution_count": null,
      "metadata": {
        "colab": {
          "base_uri": "https://localhost:8080/"
        },
        "id": "wlyiZZ-ILuyj",
        "outputId": "4a223452-39f0-47a8-f0dc-40a695e11e7b"
      },
      "outputs": [
        {
          "name": "stdout",
          "output_type": "stream",
          "text": [
            "Frame2ID:defaultdict(<class 'int'>, {'کنش\\u200cپذیر': 1, 'ابزار': 2, 'کنش': 3, 'مجری1': 4, 'موجودیت_خلق_شده': 5, 'شریک_اول': 6, 'تاثیر': 7, 'قهرمان': 8, 'مورد_2': 9, 'فرستنده': 10, 'گوینده': 11, 'الزام': 12, 'مورد_1': 13, 'کنشگر': 14, 'مرجع_ذیصلاح': 15, 'مورد': 16, 'بسامد': 17, 'مبدأ': 18, 'موجودیت': 19, 'گیرنده': 20, 'مالک': 21, 'توصیفگر': 22, 'پارامتر': 23, 'رقابت': 24, 'برگزیده': 25, 'هدف_رویداد': 26, 'مقوله': 27, 'مقصود': 28, 'رویداد_همزمان': 29, 'موجودیت_جستجوشده': 30, 'توصیف': 31, 'محل': 32, 'رویداد_پیش\\u200cزمینه': 33, 'حسگر': 34, 'توصیفی': 35, 'مالکیت': 36, 'مجری2': 37, 'بارش': 38, 'شخص': 39, 'محصول': 40, 'پذیرنده': 41, 'تجربه\\u200cگر': 42, 'مقصد': 43, 'رویداد': 44, 'هدف_ذاتی': 45, 'جریمه': 46, 'پدیده': 47, 'مکان': 48, 'شیوه': 49, 'مدت': 50, 'پیکر': 51, 'مسافر': 52, 'شمارش': 53, 'كنش_پذیر': 54, 'مدت_زمان': 55, 'مسیر': 56, 'اهداکننده': 57, 'موضوع': 58, 'توصیف\\u200cنما': 59, 'رویداد_مقایسه': 60, 'O': 61, 'توصیف\\u200cگر': 62, 'کاربرد': 63, 'محدوده': 64, 'محل_اجرا': 65, 'علت': 66, 'درجه': 67, 'پرداخت_کننده': 68, 'توصیف_گر': 69, 'تشخیص\\u200cگر': 70, 'زمان': 71, 'عقیده': 72, 'دسته_نهایی': 73, 'طرف_متأثر': 74, 'محتوا': 75, 'جستجو_کننده': 76, 'پیام': 77, 'وسیله': 78, 'توزیع\\u200cکننده': 79, 'دامنه': 80, 'نام': 81, 'عمل': 82, 'کالا': 83, 'عامل': 84, 'متن': 85, 'موجود': 86, 'اصل_و_نسب': 87, 'هدف': 88, 'فعالیت': 89, 'کیفیت_نهایی': 90, 'وضعیت_نهایی': 91})\n",
            "Frame Elements:{'کنش\\u200cپذیر', 'ابزار', 'کنش', 'مجری1', 'موجودیت_خلق_شده', 'شریک_اول', 'تاثیر', 'قهرمان', 'مورد_2', 'فرستنده', 'گوینده', 'الزام', 'مورد_1', 'کنشگر', 'مرجع_ذیصلاح', 'مورد', 'بسامد', 'مبدأ', 'موجودیت', 'گیرنده', 'مالک', 'توصیفگر', 'پارامتر', 'رقابت', 'برگزیده', 'هدف_رویداد', 'مقوله', 'مقصود', 'رویداد_همزمان', 'موجودیت_جستجوشده', 'توصیف', 'محل', 'رویداد_پیش\\u200cزمینه', 'حسگر', 'توصیفی', 'مالکیت', 'مجری2', 'بارش', 'شخص', 'محصول', 'پذیرنده', 'تجربه\\u200cگر', 'مقصد', 'رویداد', 'هدف_ذاتی', 'جریمه', 'پدیده', 'مکان', 'شیوه', 'مدت', 'پیکر', 'مسافر', 'شمارش', 'كنش_پذیر', 'مدت_زمان', 'مسیر', 'اهداکننده', 'موضوع', 'توصیف\\u200cنما', 'رویداد_مقایسه', 'O', 'توصیف\\u200cگر', 'کاربرد', 'محدوده', 'محل_اجرا', 'علت', 'درجه', 'پرداخت_کننده', 'توصیف_گر', 'تشخیص\\u200cگر', 'زمان', 'عقیده', 'دسته_نهایی', 'طرف_متأثر', 'محتوا', 'جستجو_کننده', 'پیام', 'وسیله', 'توزیع\\u200cکننده', 'دامنه', 'نام', 'عمل', 'کالا', 'عامل', 'متن', 'موجود', 'اصل_و_نسب', 'هدف', 'فعالیت', 'کیفیت_نهایی', 'وضعیت_نهایی'}\n"
          ]
        }
      ],
      "source": [
        "frame2id, frame_elements = create_role_id_dictionary()\n",
        "print(\"Frame2ID:\" + str(frame2id))\n",
        "print(\"Frame Elements:\" + str(frame_elements))"
      ]
    },
    {
      "cell_type": "code",
      "execution_count": null,
      "metadata": {
        "colab": {
          "base_uri": "https://localhost:8080/"
        },
        "id": "4EuIUNXWmex_",
        "outputId": "acfb1c1a-313f-4dfb-c128-aea5dd8b420f"
      },
      "outputs": [
        {
          "name": "stderr",
          "output_type": "stream",
          "text": [
            "<ipython-input-28-b2dc9e216140>:1: SettingWithCopyWarning: \n",
            "A value is trying to be set on a copy of a slice from a DataFrame.\n",
            "Try using .loc[row_indexer,col_indexer] = value instead\n",
            "\n",
            "See the caveats in the documentation: https://pandas.pydata.org/pandas-docs/stable/user_guide/indexing.html#returning-a-view-versus-a-copy\n",
            "  df['frameNetTags'] = df['frameNetTags'].apply(lambda label : [frame2id[l] for l in label])\n"
          ]
        }
      ],
      "source": [
        "df['frameNetTags'] = df['frameNetTags'].apply(lambda label : [frame2id[l] for l in label])"
      ]
    },
    {
      "cell_type": "code",
      "execution_count": null,
      "metadata": {
        "id": "oQCDd8yUznhH"
      },
      "outputs": [],
      "source": [
        "def tokenize_and_align_labels(examples):\n",
        "    tokenized_inputs = tokenizer(examples[\"Words\"], truncation=True, padding=True, is_split_into_words=True)\n",
        "    labels = []\n",
        "    for i, label in enumerate(examples[f\"frameNetTags\"]):\n",
        "        word_ids = tokenized_inputs.word_ids(batch_index=i)\n",
        "        previous_word_idx = None\n",
        "        label_ids = []\n",
        "        for word_idx in word_ids:\n",
        "            if word_idx is None:\n",
        "                label_ids.append(-100)\n",
        "            elif word_idx != previous_word_idx:\n",
        "                label_ids.append(label[word_idx])\n",
        "            else:\n",
        "                label_ids.append(-100)\n",
        "            previous_word_idx = word_idx\n",
        "        labels.append(label_ids)\n",
        "\n",
        "    tokenized_inputs[\"labels\"] = labels\n",
        "    return tokenized_inputs"
      ]
    },
    {
      "cell_type": "code",
      "execution_count": null,
      "metadata": {
        "colab": {
          "base_uri": "https://localhost:8080/",
          "height": 49,
          "referenced_widgets": [
            "8c14fdeddf114ad49533eaa8c2f62a7c",
            "2498bcb3a5044030a6414dd92f90847e",
            "ce76cd07432b4b539683ba02722168a6",
            "2f1af10c4bce4bf199a52d02f451d9e0",
            "9060e0df46d34652a2b28078480d7bb9",
            "ad96e0aa781544a3bc9744ef88b1a1ad",
            "ca94d426ce2045279c4a3eafd8995248",
            "e3379de48264491b8c395249653fdbae",
            "ee38e8fdd34b40bcbe0bd1779a9070ef",
            "4ea4cb996b5b4417bb2ac0397e646312",
            "57181dd434194c76af6cc874af8d767e"
          ]
        },
        "id": "9CFTLgIl0MbT",
        "outputId": "91900408-5a37-434c-8a1f-1375e5c19ac6"
      },
      "outputs": [
        {
          "data": {
            "application/vnd.jupyter.widget-view+json": {
              "model_id": "8c14fdeddf114ad49533eaa8c2f62a7c",
              "version_major": 2,
              "version_minor": 0
            },
            "text/plain": [
              "Map:   0%|          | 0/100 [00:00<?, ? examples/s]"
            ]
          },
          "metadata": {},
          "output_type": "display_data"
        }
      ],
      "source": [
        "from datasets import Dataset\n",
        "dataset = Dataset.from_pandas(df)\n",
        "tokenized_data = dataset.map(tokenize_and_align_labels, batched=True)"
      ]
    },
    {
      "cell_type": "code",
      "execution_count": null,
      "metadata": {
        "id": "x6V3xKXrnxpv"
      },
      "outputs": [],
      "source": [
        "tokenized_data = tokenized_data.train_test_split(test_size=0.3)"
      ]
    },
    {
      "cell_type": "code",
      "execution_count": null,
      "metadata": {
        "colab": {
          "base_uri": "https://localhost:8080/",
          "height": 49,
          "referenced_widgets": [
            "7c38293c10a2454897debde46266f29b",
            "feb64376ca5149e396a4f19dce6b5071",
            "9f42996547764476879e6e696983c2c3",
            "0ab93fc6d9ab4c24a52378314f1ea5a8",
            "5682af512051491ca2ed008e94e8a0b7",
            "7478cb68669143a198c47b523f3d5339",
            "97b74d529fb340d39bfc7cc9e14e99db",
            "b2e3131143c949e08f0c2d3a7cbfd53c",
            "d3afb12a1ee6425bb89ae63ba7d8b0a3",
            "b85319001ea84d63b235b1a20e9bc55e",
            "a99c525b59804c169fae587a6b4ebd64"
          ]
        },
        "id": "9WOsZoa1zXGU",
        "outputId": "dd55582f-e861-40cf-f8ca-32b0f6855b2e"
      },
      "outputs": [
        {
          "data": {
            "application/vnd.jupyter.widget-view+json": {
              "model_id": "7c38293c10a2454897debde46266f29b",
              "version_major": 2,
              "version_minor": 0
            },
            "text/plain": [
              "Downloading builder script:   0%|          | 0.00/6.34k [00:00<?, ?B/s]"
            ]
          },
          "metadata": {},
          "output_type": "display_data"
        }
      ],
      "source": [
        "import evaluate\n",
        "seqeval = evaluate.load(\"seqeval\")"
      ]
    },
    {
      "cell_type": "code",
      "execution_count": null,
      "metadata": {
        "colab": {
          "base_uri": "https://localhost:8080/",
          "height": 49,
          "referenced_widgets": [
            "edb2b801939844eeacf0d1dc19fe2887",
            "c3355209d4bc4762846b66f4efd790fb",
            "010550be70b4451282d7a124592d5e0c",
            "46d43e29421c4f6f9a379cae3b9c52d5",
            "4c6f7e7e53b84def9d884a7d1893ea00",
            "c5fa808a22c44766ad9fc32fb684b069",
            "6dc47dcf232a461691066107923b80ed",
            "b91646adb7034deab0d4243d0cf47d8c",
            "ba7b650119b84fb99f1ea3c808e8dac6",
            "8cce1b61d22243128a02bb4e51aeb17b",
            "ac21db81fd524baf886d2dfd053fb775"
          ]
        },
        "id": "PvTczx7yz6wE",
        "outputId": "aba9d179-dec9-4c4e-9965-74c0d0cda549"
      },
      "outputs": [
        {
          "data": {
            "application/vnd.jupyter.widget-view+json": {
              "model_id": "edb2b801939844eeacf0d1dc19fe2887",
              "version_major": 2,
              "version_minor": 0
            },
            "text/plain": [
              "Downloading builder script:   0%|          | 0.00/4.20k [00:00<?, ?B/s]"
            ]
          },
          "metadata": {},
          "output_type": "display_data"
        }
      ],
      "source": [
        "accuracy = evaluate.load(\"accuracy\")"
      ]
    },
    {
      "cell_type": "code",
      "execution_count": null,
      "metadata": {
        "id": "EaR1Q3gHyqlY"
      },
      "outputs": [],
      "source": [
        "from transformers import DataCollatorForTokenClassification\n",
        "data_collator = DataCollatorForTokenClassification(tokenizer=tokenizer)"
      ]
    },
    {
      "cell_type": "code",
      "execution_count": null,
      "metadata": {
        "colab": {
          "base_uri": "https://localhost:8080/",
          "height": 170,
          "referenced_widgets": [
            "101bd619eb5341a7a527cab5a5c6ff32",
            "1c7d7ad1271d4acd89102d630488f6fd",
            "998eb92fadf647c790db18a7fb4eae29",
            "f9a60d4f108b4c288c3e1053b150f27d",
            "9f949717e676458b83439dd31131c6c3",
            "e4b391fe1bd14f81ab4cd971588e6082",
            "589e6dc7f1a140788b0d84a401ee07d5",
            "a03a3474f7ce498490b7113161f228b2",
            "20aefa3945e54612a13266fe6b010583",
            "c160d58a45a44dfb9241186d4e14cba0",
            "2b8924c716e84dfeb2f770e3f71051f4",
            "952dfaec8ca442e691b74164f74ed33f",
            "af18c600a49a476b845761f4ebf3a2d2",
            "7fd3d1df29d2482c915e7c0adf64420f",
            "602e21b215134e93922bb2926f498402",
            "b2729d1e51e841a293aafe2faf48c8cb",
            "7ecf2577cedc4b33888eaf2721c830e7",
            "2e9f6bb869374e4db0306d4b7c6f68b7",
            "d46019669d02456e95a8b18c299f1afd",
            "b9218f3a1e3649ad9dcae471bbb15692",
            "5bbace553e6645e7adb66e085768d051",
            "cdae39be2fd84cf0b26d22614757fadf"
          ]
        },
        "id": "cHbhWdjY7b5Y",
        "outputId": "fb0cb52c-8944-4ae5-98a6-0250bbce68e4"
      },
      "outputs": [
        {
          "data": {
            "application/vnd.jupyter.widget-view+json": {
              "model_id": "101bd619eb5341a7a527cab5a5c6ff32",
              "version_major": 2,
              "version_minor": 0
            },
            "text/plain": [
              "pytorch_model.bin:   0%|          | 0.00/471M [00:00<?, ?B/s]"
            ]
          },
          "metadata": {},
          "output_type": "display_data"
        },
        {
          "data": {
            "application/vnd.jupyter.widget-view+json": {
              "model_id": "952dfaec8ca442e691b74164f74ed33f",
              "version_major": 2,
              "version_minor": 0
            },
            "text/plain": [
              "model.safetensors:   0%|          | 0.00/471M [00:00<?, ?B/s]"
            ]
          },
          "metadata": {},
          "output_type": "display_data"
        },
        {
          "name": "stderr",
          "output_type": "stream",
          "text": [
            "Some weights of BertForTokenClassification were not initialized from the model checkpoint at HooshvareLab/bert-fa-zwnj-base-ner and are newly initialized because the shapes did not match:\n",
            "- classifier.weight: found shape torch.Size([21, 768]) in the checkpoint and torch.Size([92, 768]) in the model instantiated\n",
            "- classifier.bias: found shape torch.Size([21]) in the checkpoint and torch.Size([92]) in the model instantiated\n",
            "You should probably TRAIN this model on a down-stream task to be able to use it for predictions and inference.\n"
          ]
        }
      ],
      "source": [
        "from transformers import BertTokenizer,  BatchEncoding\n",
        "from transformers import AutoTokenizer, AutoModelForTokenClassification\n",
        "import torch\n",
        "from tokenizers import Encoding\n",
        "model = AutoModelForTokenClassification.from_pretrained('HooshvareLab/bert-fa-zwnj-base-ner', num_labels=len(frame2id)+1,ignore_mismatched_sizes=True)"
      ]
    },
    {
      "cell_type": "code",
      "execution_count": null,
      "metadata": {
        "id": "sy_diAZc1qNe"
      },
      "outputs": [],
      "source": [
        "label2id = dict(frame2id)"
      ]
    },
    {
      "cell_type": "code",
      "execution_count": null,
      "metadata": {
        "id": "exUhcGciVpDM"
      },
      "outputs": [],
      "source": [
        "id2label = dict((v,k) for k,v in label2id.items())"
      ]
    },
    {
      "cell_type": "code",
      "execution_count": null,
      "metadata": {
        "id": "BAkZc0LQ5cd5"
      },
      "outputs": [],
      "source": [
        "label_list = list(frame2id.keys())\n",
        "from sklearn.metrics import classification_report, precision_recall_fscore_support\n",
        "from sklearn.preprocessing import MultiLabelBinarizer\n",
        "\n",
        "from sklearn.metrics import classification_report\n",
        "def compute_metrics(p):\n",
        "    predictions, labels = p\n",
        "    predictions = np.argmax(predictions, axis=2)\n",
        "\n",
        "    true_predictions = [\n",
        "        [id2label[p] for (p, l) in zip(prediction, label) if l != -100]\n",
        "        for prediction, label in zip(predictions, labels)\n",
        "    ]\n",
        "    true_labels = [\n",
        "        [id2label[l] for (p, l) in zip(prediction, label) if l != -100]\n",
        "        for prediction, label in zip(predictions, labels)\n",
        "    ]\n",
        "    true_labels_bin = list(np.concatenate(true_labels))\n",
        "    pred_labels_bin = list(np.concatenate(true_predictions))\n",
        "    print(true_labels_bin)\n",
        "    print(pred_labels_bin)\n",
        "    report = classification_report(true_labels_bin, pred_labels_bin)\n",
        "    metrics = precision_recall_fscore_support(true_labels_bin, pred_labels_bin, average='weighted')\n",
        "    accuracy = metrics[0]\n",
        "    precision = metrics[1]\n",
        "    recall = metrics[2]\n",
        "    f1_score = metrics[3]\n",
        "    return {\n",
        "        \"precision\": precision,\n",
        "        \"recall\": recall,\n",
        "        \"f1\": f1_score,\n",
        "        \"accuracy\": accuracy\n",
        "    }"
      ]
    },
    {
      "cell_type": "code",
      "execution_count": null,
      "metadata": {
        "colab": {
          "base_uri": "https://localhost:8080/",
          "height": 72
        },
        "id": "vD9uyLVYGQIa",
        "outputId": "8f9300ec-0558-47c0-f74d-d575e5fae738"
      },
      "outputs": [
        {
          "name": "stderr",
          "output_type": "stream",
          "text": [
            "/usr/local/lib/python3.11/dist-packages/transformers/training_args.py:1594: FutureWarning: `evaluation_strategy` is deprecated and will be removed in version 4.46 of 🤗 Transformers. Use `eval_strategy` instead\n",
            "  warnings.warn(\n"
          ]
        }
      ],
      "source": [
        "training_args = TrainingArguments(\n",
        "    output_dir=\"bert-token-classification\",\n",
        "    learning_rate=0.1,\n",
        "    per_device_train_batch_size=16,\n",
        "    per_device_eval_batch_size=16,\n",
        "    num_train_epochs=1,\n",
        "    evaluation_strategy=\"epoch\",\n",
        "    weight_decay=0.01,\n",
        "    save_strategy=\"no\",\n",
        "    #use_cpu=True,\n",
        "    #no_cuda=True,\n",
        "    #load_best_model_at_end=True, # uncomment if you wanna save\n",
        ")"
      ]
    },
    {
      "cell_type": "code",
      "execution_count": null,
      "metadata": {
        "id": "3elmnJlcGQLz"
      },
      "outputs": [],
      "source": [
        "trainer = Trainer(model=model,args=training_args,data_collator=data_collator,train_dataset=tokenized_data['train']  ,eval_dataset=tokenized_data['test'],compute_metrics=compute_metrics,)"
      ]
    },
    {
      "cell_type": "code",
      "execution_count": null,
      "metadata": {
        "id": "NZkEIMV7GQqV"
      },
      "outputs": [],
      "source": [
        "trainer.train()"
      ]
    },
    {
      "cell_type": "code",
      "execution_count": null,
      "metadata": {
        "id": "oiRuHuGDRTc8"
      },
      "outputs": [],
      "source": [
        "trainer.evaluate()"
      ]
    }
  ],
  "metadata": {
    "accelerator": "GPU",
    "colab": {
      "provenance": []
    },
    "kernelspec": {
      "display_name": "Python 3",
      "name": "python3"
    },
    "language_info": {
      "name": "python"
    }
  },
  "nbformat": 4,
  "nbformat_minor": 0
}