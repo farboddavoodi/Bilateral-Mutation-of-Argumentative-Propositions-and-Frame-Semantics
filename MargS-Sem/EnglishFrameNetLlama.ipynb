{
  "cells": [
    {
      "cell_type": "code",
      "execution_count": null,
      "metadata": {
        "id": "B5HMFUDMv9qL"
      },
      "outputs": [],
      "source": [
        "%%capture\n",
        "!pip install rouge_score"
      ]
    },
    {
      "cell_type": "code",
      "execution_count": null,
      "metadata": {
        "id": "Y8X7a4Cpvxgt"
      },
      "outputs": [],
      "source": [
        "%%capture\n",
        "!pip install evaluate"
      ]
    },
    {
      "cell_type": "code",
      "execution_count": null,
      "metadata": {
        "id": "3iTNZe29yjw7"
      },
      "outputs": [],
      "source": [
        "%%capture\n",
        "!pip install unsloth\n",
        "!pip uninstall unsloth -y && pip install --upgrade --no-cache-dir --no-deps git+https://github.com/unslothai/unsloth.git@nightly git+https://github.com/unslothai/unsloth-zoo.git"
      ]
    },
    {
      "cell_type": "code",
      "execution_count": null,
      "metadata": {
        "id": "C_6Wh7D8Lw8m"
      },
      "outputs": [],
      "source": [
        "%%capture\n",
        "!pip install datasets"
      ]
    },
    {
      "cell_type": "code",
      "execution_count": null,
      "metadata": {
        "id": "NTmu0_PRv9uH"
      },
      "outputs": [],
      "source": [
        "%%capture\n",
        "!pip install -U transformers peft accelerate bitsandbytes"
      ]
    },
    {
      "cell_type": "code",
      "execution_count": null,
      "metadata": {
        "id": "ruFzPMB2y6XJ"
      },
      "outputs": [],
      "source": [
        "%%capture\n",
        "import os\n",
        "if \"COLAB_\" not in \"\".join(os.environ.keys()):\n",
        "    !pip install unsloth\n",
        "else:\n",
        "    !pip install --no-deps bitsandbytes accelerate xformers==0.0.29 peft trl triton\n",
        "    !pip install --no-deps cut_cross_entropy unsloth_zoo\n",
        "    !pip install sentencepiece protobuf datasets huggingface_hub hf_transfer\n",
        "    !pip install --no-deps unsloth"
      ]
    },
    {
      "cell_type": "code",
      "execution_count": null,
      "metadata": {
        "colab": {
          "base_uri": "https://localhost:8080/"
        },
        "id": "qh7irNCFJBzi",
        "outputId": "8cee5b23-0310-4757-d91f-a0c4c0cbb6b2"
      },
      "outputs": [
        {
          "name": "stdout",
          "output_type": "stream",
          "text": [
            "Mounted at /content/drive\n"
          ]
        }
      ],
      "source": [
        "from google.colab import drive\n",
        "drive.mount('/content/drive')"
      ]
    },
    {
      "cell_type": "code",
      "execution_count": null,
      "metadata": {
        "colab": {
          "base_uri": "https://localhost:8080/"
        },
        "id": "ePHE1bKg50yU",
        "outputId": "90f54fc6-4796-42fc-b597-a19eca161046"
      },
      "outputs": [
        {
          "name": "stdout",
          "output_type": "stream",
          "text": [
            "['README.md', 'adapter_model.safetensors', 'tokenizer.json', 'tokenizer_config.json', 'adapter_config.json', 'special_tokens_map.json']\n"
          ]
        }
      ],
      "source": [
        "import os\n",
        "lora_path = \"/content/drive/MyDrive/English_SRL_unsloth_Llama-3.2-3B-Instruct-bnb-4bit/lora/\"\n",
        "print(os.listdir(lora_path))"
      ]
    },
    {
      "cell_type": "code",
      "execution_count": null,
      "metadata": {
        "colab": {
          "base_uri": "https://localhost:8080/"
        },
        "id": "7l7szMYFD8AF",
        "outputId": "7ebe6b7a-5843-4f91-d398-529d2090e666"
      },
      "outputs": [
        {
          "name": "stdout",
          "output_type": "stream",
          "text": [
            "🦥 Unsloth: Will patch your computer to enable 2x faster free finetuning.\n",
            "🦥 Unsloth Zoo will now patch everything to make training faster!\n"
          ]
        }
      ],
      "source": [
        "from unsloth import FastLanguageModel\n",
        "from unsloth import is_bfloat16_supported\n",
        "from trl import SFTTrainer\n",
        "import torch\n",
        "import pandas as pd\n",
        "import ast\n",
        "import torch.nn as nn\n",
        "import torch.nn.functional as F\n",
        "from torch.utils.data import DataLoader\n",
        "from transformers import Trainer, TrainingArguments, BatchEncoding#AdamW, get_linear_schedule_with_warmup"
      ]
    },
    {
      "cell_type": "code",
      "execution_count": null,
      "metadata": {
        "id": "snOJ5yhBQIzx"
      },
      "outputs": [],
      "source": [
        "def framenet_tags(FN_tags):\n",
        "    framenet_pattern = []\n",
        "    for FN_tag in FN_tags:\n",
        "        tag_type = FN_tag.get('tagType')\n",
        "        if tag_type == 5:\n",
        "            element = FN_tag.get('element', {})\n",
        "            element_name = element.get('name', '')\n",
        "            framenet_pattern.append(element_name)\n",
        "        else:\n",
        "            framenet_pattern.append('O')\n",
        "    return framenet_pattern"
      ]
    },
    {
      "cell_type": "code",
      "execution_count": null,
      "metadata": {
        "id": "hpTSULsLubeJ"
      },
      "outputs": [],
      "source": [
        "device = torch.device(\"cuda\")\n",
        "sentences_path = \"/content/drive/MyDrive/sentences.zip\""
      ]
    },
    {
      "cell_type": "code",
      "execution_count": null,
      "metadata": {
        "colab": {
          "base_uri": "https://localhost:8080/"
        },
        "id": "IdzSd3_lbZgM",
        "outputId": "3bc0ce1e-d88f-44a9-86bc-513fa11ae576"
      },
      "outputs": [
        {
          "data": {
            "text/plain": [
              "2304"
            ]
          },
          "execution_count": 12,
          "metadata": {},
          "output_type": "execute_result"
        }
      ],
      "source": [
        "os.system(\"unzip sentences.zip\")"
      ]
    },
    {
      "cell_type": "code",
      "execution_count": null,
      "metadata": {
        "id": "qsRNREQLa5Wp"
      },
      "outputs": [],
      "source": [
        "import zipfile\n",
        "zip_file_path = '/content/drive/My Drive/sentences.zip'\n",
        "with zipfile.ZipFile(zip_file_path, 'r') as zip_ref:\n",
        "    zip_ref.extractall('/content/drive/My Drive/sentences')"
      ]
    },
    {
      "cell_type": "code",
      "execution_count": null,
      "metadata": {
        "id": "1XYJw079WEpT"
      },
      "outputs": [],
      "source": [
        "directory = \"/content/drive/MyDrive/sentences\"\n",
        "dataframes = []\n",
        "for filename in os.listdir(directory):\n",
        "    if filename.endswith(\".json\"):\n",
        "        filepath = os.path.join(directory, filename)\n",
        "        enpb_df = pd.read_json(filepath, lines=True)\n",
        "        dataframes.append(enpb_df)"
      ]
    },
    {
      "cell_type": "code",
      "execution_count": null,
      "metadata": {
        "id": "keOUDa7xWFPx"
      },
      "outputs": [],
      "source": [
        "def read_json_files(root_dir):\n",
        "  dataframes = []\n",
        "  for root, dirs, files in os.walk(root_dir):\n",
        "      for filename in files:\n",
        "          if filename.endswith(\".json\"):\n",
        "              filepath = os.path.join(root, filename)\n",
        "              df = pd.read_json(filepath, lines=True)\n",
        "              dataframes.append(df)\n",
        "  return dataframes\n",
        "dataframes = read_json_files(\"/content/drive/MyDrive/sentences\")"
      ]
    },
    {
      "cell_type": "code",
      "execution_count": null,
      "metadata": {
        "id": "4LgmJT6qs38h"
      },
      "outputs": [],
      "source": [
        "def prepare_token_classification_data(json_data):\n",
        "    all_roles = []\n",
        "    for key, value in json_data.items():\n",
        "        predicate = value['predicate']\n",
        "        roles = value['roles']\n",
        "        verb_index = int(key)\n",
        "        roles[verb_index] = \"B-V\"\n",
        "        roles = ['O' if role == '_' else role for role in roles]\n",
        "        all_roles.append(roles)\n",
        "    return all_roles"
      ]
    },
    {
      "cell_type": "code",
      "execution_count": null,
      "metadata": {
        "id": "iajvjXak3DlM"
      },
      "outputs": [],
      "source": [
        "def create_token_label_dataframe_from_columns(df):\n",
        "    sentence_ids = df[\"sentence_id\"].tolist()\n",
        "    words = df['words'].tolist()\n",
        "    predictions = df['predictions'].tolist()\n",
        "    df_prepared = pd.DataFrame(columns=[\"sentence_id\", \"words\", \"predictions\"])\n",
        "    for i, (sentence_id, word, prediction) in enumerate(zip(sentence_ids, words, predictions)):\n",
        "        for label in prediction:\n",
        "            df_prepared.loc[len(df_prepared)] = [sentence_id, word, label]\n",
        "    return df_prepared"
      ]
    },
    {
      "cell_type": "code",
      "execution_count": null,
      "metadata": {
        "id": "f9J6MquBovp2"
      },
      "outputs": [],
      "source": [
        "enpb_df['predictions'] = enpb_df['predictions'].apply(lambda json_data : prepare_token_classification_data(json_data))"
      ]
    },
    {
      "cell_type": "code",
      "execution_count": null,
      "metadata": {
        "id": "Vo7M027LCHBm"
      },
      "outputs": [],
      "source": [
        "enpb_df = create_token_label_dataframe_from_columns(enpb_df)"
      ]
    },
    {
      "cell_type": "code",
      "execution_count": null,
      "metadata": {
        "id": "PYJixkCaIPz2"
      },
      "outputs": [],
      "source": [
        "enpb_df['Sentence'] = enpb_df['words'].apply(lambda x: ' '.join(x))"
      ]
    },
    {
      "cell_type": "code",
      "execution_count": null,
      "metadata": {
        "colab": {
          "base_uri": "https://localhost:8080/",
          "height": 424
        },
        "id": "auRJ9FJxAS9L",
        "outputId": "c47c8909-6675-40c6-a250-ec4d17c83fa7"
      },
      "outputs": [
        {
          "data": {
            "application/vnd.google.colaboratory.intrinsic+json": {
              "summary": "{\n  \"name\": \"enpb_df\",\n  \"rows\": 26159,\n  \"fields\": [\n    {\n      \"column\": \"sentence_id\",\n      \"properties\": {\n        \"dtype\": \"number\",\n        \"std\": 2981,\n        \"min\": 0,\n        \"max\": 10261,\n        \"num_unique_values\": 9613,\n        \"samples\": [\n          10144,\n          2141,\n          384\n        ],\n        \"semantic_type\": \"\",\n        \"description\": \"\"\n      }\n    },\n    {\n      \"column\": \"words\",\n      \"properties\": {\n        \"dtype\": \"object\",\n        \"semantic_type\": \"\",\n        \"description\": \"\"\n      }\n    },\n    {\n      \"column\": \"predictions\",\n      \"properties\": {\n        \"dtype\": \"object\",\n        \"semantic_type\": \"\",\n        \"description\": \"\"\n      }\n    },\n    {\n      \"column\": \"Sentence\",\n      \"properties\": {\n        \"dtype\": \"category\",\n        \"num_unique_values\": 9565,\n        \"samples\": [\n          \"The process went so far in Algeria earlier this year that the army cancelled the results of general elections when it became clear that the Islamic Salvation Front would win an overwhelming victory .\",\n          \"They also eat the eggs of birds and other reptiles .\",\n          \"He produced a packet of cigarettes , and lit up .\"\n        ],\n        \"semantic_type\": \"\",\n        \"description\": \"\"\n      }\n    }\n  ]\n}",
              "type": "dataframe",
              "variable_name": "enpb_df"
            },
            "text/html": [
              "\n",
              "  <div id=\"df-bd5af807-f3d6-4e37-bcb2-5ea22f851a0d\" class=\"colab-df-container\">\n",
              "    <div>\n",
              "<style scoped>\n",
              "    .dataframe tbody tr th:only-of-type {\n",
              "        vertical-align: middle;\n",
              "    }\n",
              "\n",
              "    .dataframe tbody tr th {\n",
              "        vertical-align: top;\n",
              "    }\n",
              "\n",
              "    .dataframe thead th {\n",
              "        text-align: right;\n",
              "    }\n",
              "</style>\n",
              "<table border=\"1\" class=\"dataframe\">\n",
              "  <thead>\n",
              "    <tr style=\"text-align: right;\">\n",
              "      <th></th>\n",
              "      <th>sentence_id</th>\n",
              "      <th>words</th>\n",
              "      <th>predictions</th>\n",
              "      <th>Sentence</th>\n",
              "    </tr>\n",
              "  </thead>\n",
              "  <tbody>\n",
              "    <tr>\n",
              "      <th>0</th>\n",
              "      <td>0</td>\n",
              "      <td>[And, without, more, ado, the, two, officers, ...</td>\n",
              "      <td>[O, AM-MNR, O, O, O, O, A0, B-V, O, A1, A2, O,...</td>\n",
              "      <td>And without more ado the two officers fastened...</td>\n",
              "    </tr>\n",
              "    <tr>\n",
              "      <th>1</th>\n",
              "      <td>0</td>\n",
              "      <td>[And, without, more, ado, the, two, officers, ...</td>\n",
              "      <td>[AM-DIS, AM-MNR, O, O, O, O, A0, O, O, O, O, O...</td>\n",
              "      <td>And without more ado the two officers fastened...</td>\n",
              "    </tr>\n",
              "    <tr>\n",
              "      <th>2</th>\n",
              "      <td>1</td>\n",
              "      <td>[She, would, fasten, the, ring, about, her, ne...</td>\n",
              "      <td>[A0, AM-MOD, B-V, O, A1, A2, O, O, O, O, O, O,...</td>\n",
              "      <td>She would fasten the ring about her neck and w...</td>\n",
              "    </tr>\n",
              "    <tr>\n",
              "      <th>3</th>\n",
              "      <td>1</td>\n",
              "      <td>[She, would, fasten, the, ring, about, her, ne...</td>\n",
              "      <td>[A0, AM-MOD, O, O, O, O, O, O, O, B-V, A1, AM-...</td>\n",
              "      <td>She would fasten the ring about her neck and w...</td>\n",
              "    </tr>\n",
              "    <tr>\n",
              "      <th>4</th>\n",
              "      <td>1</td>\n",
              "      <td>[She, would, fasten, the, ring, about, her, ne...</td>\n",
              "      <td>[O, O, O, O, O, O, O, O, O, O, O, O, O, O, O, ...</td>\n",
              "      <td>She would fasten the ring about her neck and w...</td>\n",
              "    </tr>\n",
              "    <tr>\n",
              "      <th>...</th>\n",
              "      <td>...</td>\n",
              "      <td>...</td>\n",
              "      <td>...</td>\n",
              "      <td>...</td>\n",
              "    </tr>\n",
              "    <tr>\n",
              "      <th>26154</th>\n",
              "      <td>10260</td>\n",
              "      <td>[It, was, after, the, first, snow, and, I, fol...</td>\n",
              "      <td>[O, O, O, O, O, O, O, A0, B-V, O, O, A1, AM-DI...</td>\n",
              "      <td>It was after the first snow and I followed the...</td>\n",
              "    </tr>\n",
              "    <tr>\n",
              "      <th>26155</th>\n",
              "      <td>10260</td>\n",
              "      <td>[It, was, after, the, first, snow, and, I, fol...</td>\n",
              "      <td>[O, O, O, O, O, O, O, A0, O, O, O, O, O, O, O,...</td>\n",
              "      <td>It was after the first snow and I followed the...</td>\n",
              "    </tr>\n",
              "    <tr>\n",
              "      <th>26156</th>\n",
              "      <td>10260</td>\n",
              "      <td>[It, was, after, the, first, snow, and, I, fol...</td>\n",
              "      <td>[O, O, O, O, O, O, O, O, O, O, O, O, O, O, O, ...</td>\n",
              "      <td>It was after the first snow and I followed the...</td>\n",
              "    </tr>\n",
              "    <tr>\n",
              "      <th>26157</th>\n",
              "      <td>10261</td>\n",
              "      <td>[There, was, only, a, handful, of, mourners, a...</td>\n",
              "      <td>[O, B-V, O, O, A1, O, O, O, O, O, O, AM-CAU, O...</td>\n",
              "      <td>There was only a handful of mourners at Gillam...</td>\n",
              "    </tr>\n",
              "    <tr>\n",
              "      <th>26158</th>\n",
              "      <td>10261</td>\n",
              "      <td>[There, was, only, a, handful, of, mourners, a...</td>\n",
              "      <td>[O, O, O, O, O, O, O, O, O, O, O, O, O, A1, O,...</td>\n",
              "      <td>There was only a handful of mourners at Gillam...</td>\n",
              "    </tr>\n",
              "  </tbody>\n",
              "</table>\n",
              "<p>26159 rows × 4 columns</p>\n",
              "</div>\n",
              "    <div class=\"colab-df-buttons\">\n",
              "\n",
              "  <div class=\"colab-df-container\">\n",
              "    <button class=\"colab-df-convert\" onclick=\"convertToInteractive('df-bd5af807-f3d6-4e37-bcb2-5ea22f851a0d')\"\n",
              "            title=\"Convert this dataframe to an interactive table.\"\n",
              "            style=\"display:none;\">\n",
              "\n",
              "  <svg xmlns=\"http://www.w3.org/2000/svg\" height=\"24px\" viewBox=\"0 -960 960 960\">\n",
              "    <path d=\"M120-120v-720h720v720H120Zm60-500h600v-160H180v160Zm220 220h160v-160H400v160Zm0 220h160v-160H400v160ZM180-400h160v-160H180v160Zm440 0h160v-160H620v160ZM180-180h160v-160H180v160Zm440 0h160v-160H620v160Z\"/>\n",
              "  </svg>\n",
              "    </button>\n",
              "\n",
              "  <style>\n",
              "    .colab-df-container {\n",
              "      display:flex;\n",
              "      gap: 12px;\n",
              "    }\n",
              "\n",
              "    .colab-df-convert {\n",
              "      background-color: #E8F0FE;\n",
              "      border: none;\n",
              "      border-radius: 50%;\n",
              "      cursor: pointer;\n",
              "      display: none;\n",
              "      fill: #1967D2;\n",
              "      height: 32px;\n",
              "      padding: 0 0 0 0;\n",
              "      width: 32px;\n",
              "    }\n",
              "\n",
              "    .colab-df-convert:hover {\n",
              "      background-color: #E2EBFA;\n",
              "      box-shadow: 0px 1px 2px rgba(60, 64, 67, 0.3), 0px 1px 3px 1px rgba(60, 64, 67, 0.15);\n",
              "      fill: #174EA6;\n",
              "    }\n",
              "\n",
              "    .colab-df-buttons div {\n",
              "      margin-bottom: 4px;\n",
              "    }\n",
              "\n",
              "    [theme=dark] .colab-df-convert {\n",
              "      background-color: #3B4455;\n",
              "      fill: #D2E3FC;\n",
              "    }\n",
              "\n",
              "    [theme=dark] .colab-df-convert:hover {\n",
              "      background-color: #434B5C;\n",
              "      box-shadow: 0px 1px 3px 1px rgba(0, 0, 0, 0.15);\n",
              "      filter: drop-shadow(0px 1px 2px rgba(0, 0, 0, 0.3));\n",
              "      fill: #FFFFFF;\n",
              "    }\n",
              "  </style>\n",
              "\n",
              "    <script>\n",
              "      const buttonEl =\n",
              "        document.querySelector('#df-bd5af807-f3d6-4e37-bcb2-5ea22f851a0d button.colab-df-convert');\n",
              "      buttonEl.style.display =\n",
              "        google.colab.kernel.accessAllowed ? 'block' : 'none';\n",
              "\n",
              "      async function convertToInteractive(key) {\n",
              "        const element = document.querySelector('#df-bd5af807-f3d6-4e37-bcb2-5ea22f851a0d');\n",
              "        const dataTable =\n",
              "          await google.colab.kernel.invokeFunction('convertToInteractive',\n",
              "                                                    [key], {});\n",
              "        if (!dataTable) return;\n",
              "\n",
              "        const docLinkHtml = 'Like what you see? Visit the ' +\n",
              "          '<a target=\"_blank\" href=https://colab.research.google.com/notebooks/data_table.ipynb>data table notebook</a>'\n",
              "          + ' to learn more about interactive tables.';\n",
              "        element.innerHTML = '';\n",
              "        dataTable['output_type'] = 'display_data';\n",
              "        await google.colab.output.renderOutput(dataTable, element);\n",
              "        const docLink = document.createElement('div');\n",
              "        docLink.innerHTML = docLinkHtml;\n",
              "        element.appendChild(docLink);\n",
              "      }\n",
              "    </script>\n",
              "  </div>\n",
              "\n",
              "\n",
              "<div id=\"df-d2b11666-3f5e-48e6-9a9b-07b295692056\">\n",
              "  <button class=\"colab-df-quickchart\" onclick=\"quickchart('df-d2b11666-3f5e-48e6-9a9b-07b295692056')\"\n",
              "            title=\"Suggest charts\"\n",
              "            style=\"display:none;\">\n",
              "\n",
              "<svg xmlns=\"http://www.w3.org/2000/svg\" height=\"24px\"viewBox=\"0 0 24 24\"\n",
              "     width=\"24px\">\n",
              "    <g>\n",
              "        <path d=\"M19 3H5c-1.1 0-2 .9-2 2v14c0 1.1.9 2 2 2h14c1.1 0 2-.9 2-2V5c0-1.1-.9-2-2-2zM9 17H7v-7h2v7zm4 0h-2V7h2v10zm4 0h-2v-4h2v4z\"/>\n",
              "    </g>\n",
              "</svg>\n",
              "  </button>\n",
              "\n",
              "<style>\n",
              "  .colab-df-quickchart {\n",
              "      --bg-color: #E8F0FE;\n",
              "      --fill-color: #1967D2;\n",
              "      --hover-bg-color: #E2EBFA;\n",
              "      --hover-fill-color: #174EA6;\n",
              "      --disabled-fill-color: #AAA;\n",
              "      --disabled-bg-color: #DDD;\n",
              "  }\n",
              "\n",
              "  [theme=dark] .colab-df-quickchart {\n",
              "      --bg-color: #3B4455;\n",
              "      --fill-color: #D2E3FC;\n",
              "      --hover-bg-color: #434B5C;\n",
              "      --hover-fill-color: #FFFFFF;\n",
              "      --disabled-bg-color: #3B4455;\n",
              "      --disabled-fill-color: #666;\n",
              "  }\n",
              "\n",
              "  .colab-df-quickchart {\n",
              "    background-color: var(--bg-color);\n",
              "    border: none;\n",
              "    border-radius: 50%;\n",
              "    cursor: pointer;\n",
              "    display: none;\n",
              "    fill: var(--fill-color);\n",
              "    height: 32px;\n",
              "    padding: 0;\n",
              "    width: 32px;\n",
              "  }\n",
              "\n",
              "  .colab-df-quickchart:hover {\n",
              "    background-color: var(--hover-bg-color);\n",
              "    box-shadow: 0 1px 2px rgba(60, 64, 67, 0.3), 0 1px 3px 1px rgba(60, 64, 67, 0.15);\n",
              "    fill: var(--button-hover-fill-color);\n",
              "  }\n",
              "\n",
              "  .colab-df-quickchart-complete:disabled,\n",
              "  .colab-df-quickchart-complete:disabled:hover {\n",
              "    background-color: var(--disabled-bg-color);\n",
              "    fill: var(--disabled-fill-color);\n",
              "    box-shadow: none;\n",
              "  }\n",
              "\n",
              "  .colab-df-spinner {\n",
              "    border: 2px solid var(--fill-color);\n",
              "    border-color: transparent;\n",
              "    border-bottom-color: var(--fill-color);\n",
              "    animation:\n",
              "      spin 1s steps(1) infinite;\n",
              "  }\n",
              "\n",
              "  @keyframes spin {\n",
              "    0% {\n",
              "      border-color: transparent;\n",
              "      border-bottom-color: var(--fill-color);\n",
              "      border-left-color: var(--fill-color);\n",
              "    }\n",
              "    20% {\n",
              "      border-color: transparent;\n",
              "      border-left-color: var(--fill-color);\n",
              "      border-top-color: var(--fill-color);\n",
              "    }\n",
              "    30% {\n",
              "      border-color: transparent;\n",
              "      border-left-color: var(--fill-color);\n",
              "      border-top-color: var(--fill-color);\n",
              "      border-right-color: var(--fill-color);\n",
              "    }\n",
              "    40% {\n",
              "      border-color: transparent;\n",
              "      border-right-color: var(--fill-color);\n",
              "      border-top-color: var(--fill-color);\n",
              "    }\n",
              "    60% {\n",
              "      border-color: transparent;\n",
              "      border-right-color: var(--fill-color);\n",
              "    }\n",
              "    80% {\n",
              "      border-color: transparent;\n",
              "      border-right-color: var(--fill-color);\n",
              "      border-bottom-color: var(--fill-color);\n",
              "    }\n",
              "    90% {\n",
              "      border-color: transparent;\n",
              "      border-bottom-color: var(--fill-color);\n",
              "    }\n",
              "  }\n",
              "</style>\n",
              "\n",
              "  <script>\n",
              "    async function quickchart(key) {\n",
              "      const quickchartButtonEl =\n",
              "        document.querySelector('#' + key + ' button');\n",
              "      quickchartButtonEl.disabled = true;  // To prevent multiple clicks.\n",
              "      quickchartButtonEl.classList.add('colab-df-spinner');\n",
              "      try {\n",
              "        const charts = await google.colab.kernel.invokeFunction(\n",
              "            'suggestCharts', [key], {});\n",
              "      } catch (error) {\n",
              "        console.error('Error during call to suggestCharts:', error);\n",
              "      }\n",
              "      quickchartButtonEl.classList.remove('colab-df-spinner');\n",
              "      quickchartButtonEl.classList.add('colab-df-quickchart-complete');\n",
              "    }\n",
              "    (() => {\n",
              "      let quickchartButtonEl =\n",
              "        document.querySelector('#df-d2b11666-3f5e-48e6-9a9b-07b295692056 button');\n",
              "      quickchartButtonEl.style.display =\n",
              "        google.colab.kernel.accessAllowed ? 'block' : 'none';\n",
              "    })();\n",
              "  </script>\n",
              "</div>\n",
              "\n",
              "  <div id=\"id_542dda13-389f-40fc-ac56-1c66ae510de1\">\n",
              "    <style>\n",
              "      .colab-df-generate {\n",
              "        background-color: #E8F0FE;\n",
              "        border: none;\n",
              "        border-radius: 50%;\n",
              "        cursor: pointer;\n",
              "        display: none;\n",
              "        fill: #1967D2;\n",
              "        height: 32px;\n",
              "        padding: 0 0 0 0;\n",
              "        width: 32px;\n",
              "      }\n",
              "\n",
              "      .colab-df-generate:hover {\n",
              "        background-color: #E2EBFA;\n",
              "        box-shadow: 0px 1px 2px rgba(60, 64, 67, 0.3), 0px 1px 3px 1px rgba(60, 64, 67, 0.15);\n",
              "        fill: #174EA6;\n",
              "      }\n",
              "\n",
              "      [theme=dark] .colab-df-generate {\n",
              "        background-color: #3B4455;\n",
              "        fill: #D2E3FC;\n",
              "      }\n",
              "\n",
              "      [theme=dark] .colab-df-generate:hover {\n",
              "        background-color: #434B5C;\n",
              "        box-shadow: 0px 1px 3px 1px rgba(0, 0, 0, 0.15);\n",
              "        filter: drop-shadow(0px 1px 2px rgba(0, 0, 0, 0.3));\n",
              "        fill: #FFFFFF;\n",
              "      }\n",
              "    </style>\n",
              "    <button class=\"colab-df-generate\" onclick=\"generateWithVariable('enpb_df')\"\n",
              "            title=\"Generate code using this dataframe.\"\n",
              "            style=\"display:none;\">\n",
              "\n",
              "  <svg xmlns=\"http://www.w3.org/2000/svg\" height=\"24px\"viewBox=\"0 0 24 24\"\n",
              "       width=\"24px\">\n",
              "    <path d=\"M7,19H8.4L18.45,9,17,7.55,7,17.6ZM5,21V16.75L18.45,3.32a2,2,0,0,1,2.83,0l1.4,1.43a1.91,1.91,0,0,1,.58,1.4,1.91,1.91,0,0,1-.58,1.4L9.25,21ZM18.45,9,17,7.55Zm-12,3A5.31,5.31,0,0,0,4.9,8.1,5.31,5.31,0,0,0,1,6.5,5.31,5.31,0,0,0,4.9,4.9,5.31,5.31,0,0,0,6.5,1,5.31,5.31,0,0,0,8.1,4.9,5.31,5.31,0,0,0,12,6.5,5.46,5.46,0,0,0,6.5,12Z\"/>\n",
              "  </svg>\n",
              "    </button>\n",
              "    <script>\n",
              "      (() => {\n",
              "      const buttonEl =\n",
              "        document.querySelector('#id_542dda13-389f-40fc-ac56-1c66ae510de1 button.colab-df-generate');\n",
              "      buttonEl.style.display =\n",
              "        google.colab.kernel.accessAllowed ? 'block' : 'none';\n",
              "\n",
              "      buttonEl.onclick = () => {\n",
              "        google.colab.notebook.generateWithVariable('enpb_df');\n",
              "      }\n",
              "      })();\n",
              "    </script>\n",
              "  </div>\n",
              "\n",
              "    </div>\n",
              "  </div>\n"
            ],
            "text/plain": [
              "       sentence_id                                              words  \\\n",
              "0                0  [And, without, more, ado, the, two, officers, ...   \n",
              "1                0  [And, without, more, ado, the, two, officers, ...   \n",
              "2                1  [She, would, fasten, the, ring, about, her, ne...   \n",
              "3                1  [She, would, fasten, the, ring, about, her, ne...   \n",
              "4                1  [She, would, fasten, the, ring, about, her, ne...   \n",
              "...            ...                                                ...   \n",
              "26154        10260  [It, was, after, the, first, snow, and, I, fol...   \n",
              "26155        10260  [It, was, after, the, first, snow, and, I, fol...   \n",
              "26156        10260  [It, was, after, the, first, snow, and, I, fol...   \n",
              "26157        10261  [There, was, only, a, handful, of, mourners, a...   \n",
              "26158        10261  [There, was, only, a, handful, of, mourners, a...   \n",
              "\n",
              "                                             predictions  \\\n",
              "0      [O, AM-MNR, O, O, O, O, A0, B-V, O, A1, A2, O,...   \n",
              "1      [AM-DIS, AM-MNR, O, O, O, O, A0, O, O, O, O, O...   \n",
              "2      [A0, AM-MOD, B-V, O, A1, A2, O, O, O, O, O, O,...   \n",
              "3      [A0, AM-MOD, O, O, O, O, O, O, O, B-V, A1, AM-...   \n",
              "4      [O, O, O, O, O, O, O, O, O, O, O, O, O, O, O, ...   \n",
              "...                                                  ...   \n",
              "26154  [O, O, O, O, O, O, O, A0, B-V, O, O, A1, AM-DI...   \n",
              "26155  [O, O, O, O, O, O, O, A0, O, O, O, O, O, O, O,...   \n",
              "26156  [O, O, O, O, O, O, O, O, O, O, O, O, O, O, O, ...   \n",
              "26157  [O, B-V, O, O, A1, O, O, O, O, O, O, AM-CAU, O...   \n",
              "26158  [O, O, O, O, O, O, O, O, O, O, O, O, O, A1, O,...   \n",
              "\n",
              "                                                Sentence  \n",
              "0      And without more ado the two officers fastened...  \n",
              "1      And without more ado the two officers fastened...  \n",
              "2      She would fasten the ring about her neck and w...  \n",
              "3      She would fasten the ring about her neck and w...  \n",
              "4      She would fasten the ring about her neck and w...  \n",
              "...                                                  ...  \n",
              "26154  It was after the first snow and I followed the...  \n",
              "26155  It was after the first snow and I followed the...  \n",
              "26156  It was after the first snow and I followed the...  \n",
              "26157  There was only a handful of mourners at Gillam...  \n",
              "26158  There was only a handful of mourners at Gillam...  \n",
              "\n",
              "[26159 rows x 4 columns]"
            ]
          },
          "execution_count": 21,
          "metadata": {},
          "output_type": "execute_result"
        }
      ],
      "source": [
        "enpb_df"
      ]
    },
    {
      "cell_type": "code",
      "execution_count": null,
      "metadata": {
        "id": "YpFYfjBzCOfr"
      },
      "outputs": [],
      "source": [
        "def process_label(label, all_words):\n",
        "    start = label.get('start')\n",
        "    end = label.get('end')\n",
        "    if start is not None or end is not None:\n",
        "        start = int(start)\n",
        "        end = int(end)\n",
        "        accumulated_chars = 0\n",
        "        start_word_index = 0\n",
        "        end_word_index = 0\n",
        "        for i, word in enumerate(all_words):\n",
        "            word_length = len(word)\n",
        "            if accumulated_chars <= start:\n",
        "                start_word_index = i\n",
        "            if accumulated_chars >= end:\n",
        "                end_word_index = i - 1\n",
        "                break\n",
        "            accumulated_chars += word_length + 1\n",
        "        if end_word_index is None:\n",
        "            end_word_index = len(all_words) - 1\n",
        "        extracted_word = ' '.join(all_words[start_word_index:end_word_index + 1])\n",
        "        return start, end, label.get('name'), extracted_word\n",
        "    else:\n",
        "        return None"
      ]
    },
    {
      "cell_type": "code",
      "execution_count": null,
      "metadata": {
        "id": "jCU5q2sPO-cy"
      },
      "outputs": [],
      "source": [
        "def annotate_sentence(df):\n",
        "    sentence = df['Sentence']\n",
        "    words = df['words']\n",
        "    start = df['Start']\n",
        "    end = df['End']\n",
        "    annotation = df['Annotated Names']\n",
        "    annotated_words = df['Extracted Words']\n",
        "    result = []\n",
        "    char_index = 0\n",
        "    for word in words:\n",
        "        label = 'O'\n",
        "        word_start = char_index\n",
        "        word_end = char_index + len(word) - 1\n",
        "        if word in annotated_words.split():\n",
        "            label = annotation\n",
        "        result.append(label)\n",
        "        char_index = word_end + 1\n",
        "    return result"
      ]
    },
    {
      "cell_type": "code",
      "execution_count": null,
      "metadata": {
        "id": "ivlYEnnc0rww"
      },
      "outputs": [],
      "source": [
        "import glob\n",
        "xml_folder_path = '/content/drive/My Drive/framenetdata-1.7/fndata-1.7/lu'\n",
        "xml_files = glob.glob(xml_folder_path + '/*.xml')\n",
        "table = []\n",
        "namespace = {'fn': 'http://framenet.icsi.berkeley.edu'}"
      ]
    },
    {
      "cell_type": "code",
      "execution_count": null,
      "metadata": {
        "colab": {
          "base_uri": "https://localhost:8080/"
        },
        "id": "Ob6_XvjYQ1Uv",
        "outputId": "3f45c798-a164-4bf2-fa38-0979ee93ba6e"
      },
      "outputs": [
        {
          "name": "stderr",
          "output_type": "stream",
          "text": [
            " 40%|███▉      | 990/2483 [01:02<00:07, 193.77it/s]"
          ]
        },
        {
          "name": "stdout",
          "output_type": "stream",
          "text": [
            "Error parsing XML file: no element found: line 2, column 0\n",
            "XML file Name:/content/drive/My Drive/framenetdata-1.7/fndata-1.7/lu/lu3973.xml\n"
          ]
        },
        {
          "name": "stderr",
          "output_type": "stream",
          "text": [
            "100%|██████████| 2483/2483 [01:13<00:00, 33.71it/s] \n"
          ]
        }
      ],
      "source": [
        "from tqdm import tqdm\n",
        "from lxml import etree\n",
        "import xml.etree.ElementTree as ET\n",
        "import xml.etree.ElementTree as ETree\n",
        "for filename in tqdm(xml_files):\n",
        "    try:\n",
        "        tree = ET.parse(filename)\n",
        "        root = tree.getroot()\n",
        "        for sentence in root.findall('.//fn:sentence', namespace):\n",
        "            text_element = sentence.find('fn:text', namespace)\n",
        "            if text_element is not None and text_element.text:\n",
        "                all_words = text_element.text.split()\n",
        "                annotation_sets = sentence.findall('.//fn:annotationSet[@status=\"MANUAL\"]', namespace)\n",
        "                for annotation_set in annotation_sets:\n",
        "                    layers = annotation_set.findall('.//fn:layer[@name=\"FE\"]', namespace)\n",
        "                    for layer in layers:\n",
        "                        labels = layer.findall('.//fn:label', namespace)\n",
        "                        for label in labels:\n",
        "                            processed_label = process_label(label, all_words)\n",
        "                            if processed_label is not None:\n",
        "                                table.append((text_element.text,) + processed_label)\n",
        "    except ET.ParseError as e:\n",
        "        print(f\"Error parsing XML file: {e}\")\n",
        "        print(f\"XML file Name:\" + str(filename))"
      ]
    },
    {
      "cell_type": "code",
      "execution_count": null,
      "metadata": {
        "colab": {
          "base_uri": "https://localhost:8080/",
          "height": 597
        },
        "id": "ZvdFweXolSa8",
        "outputId": "0159f3f6-1136-4306-f060-1a5424cae8e5"
      },
      "outputs": [
        {
          "data": {
            "application/vnd.google.colaboratory.intrinsic+json": {
              "summary": "{\n  \"name\": \"enfn_df\",\n  \"rows\": 59147,\n  \"fields\": [\n    {\n      \"column\": \"Sentence\",\n      \"properties\": {\n        \"dtype\": \"category\",\n        \"num_unique_values\": 27655,\n        \"samples\": [\n          \"By contrast , European firms will spend $ 150 million this year on electronic security , and are expected to spend $ 1 billion by 1992 .\",\n          \"Dulles also favoured American aid to members of the Baghdad Pact , though without American adherence . \",\n          \"I consulted a lawyer at the Citizens Advice Bureau when I was in Norwich last Friday . \"\n        ],\n        \"semantic_type\": \"\",\n        \"description\": \"\"\n      }\n    },\n    {\n      \"column\": \"Start\",\n      \"properties\": {\n        \"dtype\": \"number\",\n        \"std\": 47,\n        \"min\": 0,\n        \"max\": 722,\n        \"num_unique_values\": 351,\n        \"samples\": [\n          185,\n          361,\n          378\n        ],\n        \"semantic_type\": \"\",\n        \"description\": \"\"\n      }\n    },\n    {\n      \"column\": \"End\",\n      \"properties\": {\n        \"dtype\": \"number\",\n        \"std\": 51,\n        \"min\": 0,\n        \"max\": 751,\n        \"num_unique_values\": 375,\n        \"samples\": [\n          117,\n          255,\n          105\n        ],\n        \"semantic_type\": \"\",\n        \"description\": \"\"\n      }\n    },\n    {\n      \"column\": \"Annotated Names\",\n      \"properties\": {\n        \"dtype\": \"category\",\n        \"num_unique_values\": 744,\n        \"samples\": [\n          \"Context\",\n          \"Arguer1\",\n          \"Resulting_action\"\n        ],\n        \"semantic_type\": \"\",\n        \"description\": \"\"\n      }\n    },\n    {\n      \"column\": \"Extracted Words\",\n      \"properties\": {\n        \"dtype\": \"string\",\n        \"num_unique_values\": 33803,\n        \"samples\": [\n          \"of forthrightness about its possession of P - 2 design drawings and other related research , and information regarding its manufacturing and mechanical testing activities , all of which was omitted from Iran 's 21 October 2003 declaration to the agency\",\n          \"Urquhart\",\n          \"by English women who flung accusations at us\"\n        ],\n        \"semantic_type\": \"\",\n        \"description\": \"\"\n      }\n    },\n    {\n      \"column\": \"words\",\n      \"properties\": {\n        \"dtype\": \"object\",\n        \"semantic_type\": \"\",\n        \"description\": \"\"\n      }\n    },\n    {\n      \"column\": \"frameNetTags\",\n      \"properties\": {\n        \"dtype\": \"object\",\n        \"semantic_type\": \"\",\n        \"description\": \"\"\n      }\n    }\n  ]\n}",
              "type": "dataframe",
              "variable_name": "enfn_df"
            },
            "text/html": [
              "\n",
              "  <div id=\"df-d7586755-d3be-417e-9e84-8e45a8aa6077\" class=\"colab-df-container\">\n",
              "    <div>\n",
              "<style scoped>\n",
              "    .dataframe tbody tr th:only-of-type {\n",
              "        vertical-align: middle;\n",
              "    }\n",
              "\n",
              "    .dataframe tbody tr th {\n",
              "        vertical-align: top;\n",
              "    }\n",
              "\n",
              "    .dataframe thead th {\n",
              "        text-align: right;\n",
              "    }\n",
              "</style>\n",
              "<table border=\"1\" class=\"dataframe\">\n",
              "  <thead>\n",
              "    <tr style=\"text-align: right;\">\n",
              "      <th></th>\n",
              "      <th>Sentence</th>\n",
              "      <th>Start</th>\n",
              "      <th>End</th>\n",
              "      <th>Annotated Names</th>\n",
              "      <th>Extracted Words</th>\n",
              "      <th>words</th>\n",
              "      <th>frameNetTags</th>\n",
              "    </tr>\n",
              "  </thead>\n",
              "  <tbody>\n",
              "    <tr>\n",
              "      <th>0</th>\n",
              "      <td>` What makes you think Rainbow would entertain...</td>\n",
              "      <td>76</td>\n",
              "      <td>81</td>\n",
              "      <td>Entity_2</td>\n",
              "      <td>of you</td>\n",
              "      <td>[`, What, makes, you, think, Rainbow, would, e...</td>\n",
              "      <td>[O, O, O, Entity_2, O, O, O, O, O, O, O, O, O,...</td>\n",
              "    </tr>\n",
              "    <tr>\n",
              "      <th>1</th>\n",
              "      <td>` What makes you think Rainbow would entertain...</td>\n",
              "      <td>70</td>\n",
              "      <td>74</td>\n",
              "      <td>Entity_1</td>\n",
              "      <td>likes</td>\n",
              "      <td>[`, What, makes, you, think, Rainbow, would, e...</td>\n",
              "      <td>[O, O, O, O, O, O, O, O, O, O, O, O, O, Entity...</td>\n",
              "    </tr>\n",
              "    <tr>\n",
              "      <th>2</th>\n",
              "      <td>It aims to compete with the likes of BMW and A...</td>\n",
              "      <td>34</td>\n",
              "      <td>48</td>\n",
              "      <td>Entity_2</td>\n",
              "      <td>of BMW and Audi</td>\n",
              "      <td>[It, aims, to, compete, with, the, likes, of, ...</td>\n",
              "      <td>[O, O, O, O, O, O, O, Entity_2, Entity_2, Enti...</td>\n",
              "    </tr>\n",
              "    <tr>\n",
              "      <th>3</th>\n",
              "      <td>It aims to compete with the likes of BMW and A...</td>\n",
              "      <td>28</td>\n",
              "      <td>32</td>\n",
              "      <td>Entity_1</td>\n",
              "      <td>likes</td>\n",
              "      <td>[It, aims, to, compete, with, the, likes, of, ...</td>\n",
              "      <td>[O, O, O, O, O, O, Entity_1, O, O, O, O, O, O,...</td>\n",
              "    </tr>\n",
              "    <tr>\n",
              "      <th>4</th>\n",
              "      <td>They anathematised and expelled the likes of A...</td>\n",
              "      <td>42</td>\n",
              "      <td>89</td>\n",
              "      <td>Entity_2</td>\n",
              "      <td>of Arius , who taught that Jesus was fully human</td>\n",
              "      <td>[They, anathematised, and, expelled, the, like...</td>\n",
              "      <td>[O, O, O, O, O, O, Entity_2, Entity_2, Entity_...</td>\n",
              "    </tr>\n",
              "    <tr>\n",
              "      <th>...</th>\n",
              "      <td>...</td>\n",
              "      <td>...</td>\n",
              "      <td>...</td>\n",
              "      <td>...</td>\n",
              "      <td>...</td>\n",
              "      <td>...</td>\n",
              "      <td>...</td>\n",
              "    </tr>\n",
              "    <tr>\n",
              "      <th>59142</th>\n",
              "      <td>During his four days in Iraq , Hall said he wa...</td>\n",
              "      <td>145</td>\n",
              "      <td>169</td>\n",
              "      <td>Undesirable_event</td>\n",
              "      <td>from chronic malnutrition</td>\n",
              "      <td>[During, his, four, days, in, Iraq, ,, Hall, s...</td>\n",
              "      <td>[O, O, O, O, O, O, O, O, O, O, O, O, O, O, Und...</td>\n",
              "    </tr>\n",
              "    <tr>\n",
              "      <th>59143</th>\n",
              "      <td>During his four days in Iraq , Hall said he wa...</td>\n",
              "      <td>100</td>\n",
              "      <td>126</td>\n",
              "      <td>Patient</td>\n",
              "      <td>a quarter of Iraqi children</td>\n",
              "      <td>[During, his, four, days, in, Iraq, ,, Hall, s...</td>\n",
              "      <td>[O, O, O, O, O, O, O, O, O, O, O, O, O, O, O, ...</td>\n",
              "    </tr>\n",
              "    <tr>\n",
              "      <th>59144</th>\n",
              "      <td>But the many whose lives he had ruined , whose...</td>\n",
              "      <td>80</td>\n",
              "      <td>111</td>\n",
              "      <td>Undesirable_event</td>\n",
              "      <td>torture and death at his hands</td>\n",
              "      <td>[But, the, many, whose, lives, he, had, ruined...</td>\n",
              "      <td>[O, O, O, O, O, O, O, O, O, O, O, Undesirable_...</td>\n",
              "    </tr>\n",
              "    <tr>\n",
              "      <th>59145</th>\n",
              "      <td>But the many whose lives he had ruined , whose...</td>\n",
              "      <td>47</td>\n",
              "      <td>65</td>\n",
              "      <td>Patient</td>\n",
              "      <td>nearest and dearest</td>\n",
              "      <td>[But, the, many, whose, lives, he, had, ruined...</td>\n",
              "      <td>[O, O, O, O, O, O, O, O, O, O, Patient, Patien...</td>\n",
              "    </tr>\n",
              "    <tr>\n",
              "      <th>59146</th>\n",
              "      <td>But the many whose lives he had ruined , whose...</td>\n",
              "      <td>41</td>\n",
              "      <td>45</td>\n",
              "      <td>Patient</td>\n",
              "      <td>whose</td>\n",
              "      <td>[But, the, many, whose, lives, he, had, ruined...</td>\n",
              "      <td>[O, O, O, Patient, O, O, O, O, O, Patient, O, ...</td>\n",
              "    </tr>\n",
              "  </tbody>\n",
              "</table>\n",
              "<p>59147 rows × 7 columns</p>\n",
              "</div>\n",
              "    <div class=\"colab-df-buttons\">\n",
              "\n",
              "  <div class=\"colab-df-container\">\n",
              "    <button class=\"colab-df-convert\" onclick=\"convertToInteractive('df-d7586755-d3be-417e-9e84-8e45a8aa6077')\"\n",
              "            title=\"Convert this dataframe to an interactive table.\"\n",
              "            style=\"display:none;\">\n",
              "\n",
              "  <svg xmlns=\"http://www.w3.org/2000/svg\" height=\"24px\" viewBox=\"0 -960 960 960\">\n",
              "    <path d=\"M120-120v-720h720v720H120Zm60-500h600v-160H180v160Zm220 220h160v-160H400v160Zm0 220h160v-160H400v160ZM180-400h160v-160H180v160Zm440 0h160v-160H620v160ZM180-180h160v-160H180v160Zm440 0h160v-160H620v160Z\"/>\n",
              "  </svg>\n",
              "    </button>\n",
              "\n",
              "  <style>\n",
              "    .colab-df-container {\n",
              "      display:flex;\n",
              "      gap: 12px;\n",
              "    }\n",
              "\n",
              "    .colab-df-convert {\n",
              "      background-color: #E8F0FE;\n",
              "      border: none;\n",
              "      border-radius: 50%;\n",
              "      cursor: pointer;\n",
              "      display: none;\n",
              "      fill: #1967D2;\n",
              "      height: 32px;\n",
              "      padding: 0 0 0 0;\n",
              "      width: 32px;\n",
              "    }\n",
              "\n",
              "    .colab-df-convert:hover {\n",
              "      background-color: #E2EBFA;\n",
              "      box-shadow: 0px 1px 2px rgba(60, 64, 67, 0.3), 0px 1px 3px 1px rgba(60, 64, 67, 0.15);\n",
              "      fill: #174EA6;\n",
              "    }\n",
              "\n",
              "    .colab-df-buttons div {\n",
              "      margin-bottom: 4px;\n",
              "    }\n",
              "\n",
              "    [theme=dark] .colab-df-convert {\n",
              "      background-color: #3B4455;\n",
              "      fill: #D2E3FC;\n",
              "    }\n",
              "\n",
              "    [theme=dark] .colab-df-convert:hover {\n",
              "      background-color: #434B5C;\n",
              "      box-shadow: 0px 1px 3px 1px rgba(0, 0, 0, 0.15);\n",
              "      filter: drop-shadow(0px 1px 2px rgba(0, 0, 0, 0.3));\n",
              "      fill: #FFFFFF;\n",
              "    }\n",
              "  </style>\n",
              "\n",
              "    <script>\n",
              "      const buttonEl =\n",
              "        document.querySelector('#df-d7586755-d3be-417e-9e84-8e45a8aa6077 button.colab-df-convert');\n",
              "      buttonEl.style.display =\n",
              "        google.colab.kernel.accessAllowed ? 'block' : 'none';\n",
              "\n",
              "      async function convertToInteractive(key) {\n",
              "        const element = document.querySelector('#df-d7586755-d3be-417e-9e84-8e45a8aa6077');\n",
              "        const dataTable =\n",
              "          await google.colab.kernel.invokeFunction('convertToInteractive',\n",
              "                                                    [key], {});\n",
              "        if (!dataTable) return;\n",
              "\n",
              "        const docLinkHtml = 'Like what you see? Visit the ' +\n",
              "          '<a target=\"_blank\" href=https://colab.research.google.com/notebooks/data_table.ipynb>data table notebook</a>'\n",
              "          + ' to learn more about interactive tables.';\n",
              "        element.innerHTML = '';\n",
              "        dataTable['output_type'] = 'display_data';\n",
              "        await google.colab.output.renderOutput(dataTable, element);\n",
              "        const docLink = document.createElement('div');\n",
              "        docLink.innerHTML = docLinkHtml;\n",
              "        element.appendChild(docLink);\n",
              "      }\n",
              "    </script>\n",
              "  </div>\n",
              "\n",
              "\n",
              "<div id=\"df-780a7dd8-eb9e-4cc3-b039-76fd227bc41b\">\n",
              "  <button class=\"colab-df-quickchart\" onclick=\"quickchart('df-780a7dd8-eb9e-4cc3-b039-76fd227bc41b')\"\n",
              "            title=\"Suggest charts\"\n",
              "            style=\"display:none;\">\n",
              "\n",
              "<svg xmlns=\"http://www.w3.org/2000/svg\" height=\"24px\"viewBox=\"0 0 24 24\"\n",
              "     width=\"24px\">\n",
              "    <g>\n",
              "        <path d=\"M19 3H5c-1.1 0-2 .9-2 2v14c0 1.1.9 2 2 2h14c1.1 0 2-.9 2-2V5c0-1.1-.9-2-2-2zM9 17H7v-7h2v7zm4 0h-2V7h2v10zm4 0h-2v-4h2v4z\"/>\n",
              "    </g>\n",
              "</svg>\n",
              "  </button>\n",
              "\n",
              "<style>\n",
              "  .colab-df-quickchart {\n",
              "      --bg-color: #E8F0FE;\n",
              "      --fill-color: #1967D2;\n",
              "      --hover-bg-color: #E2EBFA;\n",
              "      --hover-fill-color: #174EA6;\n",
              "      --disabled-fill-color: #AAA;\n",
              "      --disabled-bg-color: #DDD;\n",
              "  }\n",
              "\n",
              "  [theme=dark] .colab-df-quickchart {\n",
              "      --bg-color: #3B4455;\n",
              "      --fill-color: #D2E3FC;\n",
              "      --hover-bg-color: #434B5C;\n",
              "      --hover-fill-color: #FFFFFF;\n",
              "      --disabled-bg-color: #3B4455;\n",
              "      --disabled-fill-color: #666;\n",
              "  }\n",
              "\n",
              "  .colab-df-quickchart {\n",
              "    background-color: var(--bg-color);\n",
              "    border: none;\n",
              "    border-radius: 50%;\n",
              "    cursor: pointer;\n",
              "    display: none;\n",
              "    fill: var(--fill-color);\n",
              "    height: 32px;\n",
              "    padding: 0;\n",
              "    width: 32px;\n",
              "  }\n",
              "\n",
              "  .colab-df-quickchart:hover {\n",
              "    background-color: var(--hover-bg-color);\n",
              "    box-shadow: 0 1px 2px rgba(60, 64, 67, 0.3), 0 1px 3px 1px rgba(60, 64, 67, 0.15);\n",
              "    fill: var(--button-hover-fill-color);\n",
              "  }\n",
              "\n",
              "  .colab-df-quickchart-complete:disabled,\n",
              "  .colab-df-quickchart-complete:disabled:hover {\n",
              "    background-color: var(--disabled-bg-color);\n",
              "    fill: var(--disabled-fill-color);\n",
              "    box-shadow: none;\n",
              "  }\n",
              "\n",
              "  .colab-df-spinner {\n",
              "    border: 2px solid var(--fill-color);\n",
              "    border-color: transparent;\n",
              "    border-bottom-color: var(--fill-color);\n",
              "    animation:\n",
              "      spin 1s steps(1) infinite;\n",
              "  }\n",
              "\n",
              "  @keyframes spin {\n",
              "    0% {\n",
              "      border-color: transparent;\n",
              "      border-bottom-color: var(--fill-color);\n",
              "      border-left-color: var(--fill-color);\n",
              "    }\n",
              "    20% {\n",
              "      border-color: transparent;\n",
              "      border-left-color: var(--fill-color);\n",
              "      border-top-color: var(--fill-color);\n",
              "    }\n",
              "    30% {\n",
              "      border-color: transparent;\n",
              "      border-left-color: var(--fill-color);\n",
              "      border-top-color: var(--fill-color);\n",
              "      border-right-color: var(--fill-color);\n",
              "    }\n",
              "    40% {\n",
              "      border-color: transparent;\n",
              "      border-right-color: var(--fill-color);\n",
              "      border-top-color: var(--fill-color);\n",
              "    }\n",
              "    60% {\n",
              "      border-color: transparent;\n",
              "      border-right-color: var(--fill-color);\n",
              "    }\n",
              "    80% {\n",
              "      border-color: transparent;\n",
              "      border-right-color: var(--fill-color);\n",
              "      border-bottom-color: var(--fill-color);\n",
              "    }\n",
              "    90% {\n",
              "      border-color: transparent;\n",
              "      border-bottom-color: var(--fill-color);\n",
              "    }\n",
              "  }\n",
              "</style>\n",
              "\n",
              "  <script>\n",
              "    async function quickchart(key) {\n",
              "      const quickchartButtonEl =\n",
              "        document.querySelector('#' + key + ' button');\n",
              "      quickchartButtonEl.disabled = true;  // To prevent multiple clicks.\n",
              "      quickchartButtonEl.classList.add('colab-df-spinner');\n",
              "      try {\n",
              "        const charts = await google.colab.kernel.invokeFunction(\n",
              "            'suggestCharts', [key], {});\n",
              "      } catch (error) {\n",
              "        console.error('Error during call to suggestCharts:', error);\n",
              "      }\n",
              "      quickchartButtonEl.classList.remove('colab-df-spinner');\n",
              "      quickchartButtonEl.classList.add('colab-df-quickchart-complete');\n",
              "    }\n",
              "    (() => {\n",
              "      let quickchartButtonEl =\n",
              "        document.querySelector('#df-780a7dd8-eb9e-4cc3-b039-76fd227bc41b button');\n",
              "      quickchartButtonEl.style.display =\n",
              "        google.colab.kernel.accessAllowed ? 'block' : 'none';\n",
              "    })();\n",
              "  </script>\n",
              "</div>\n",
              "\n",
              "  <div id=\"id_e8338ac5-2ed6-4392-b312-df05e4888931\">\n",
              "    <style>\n",
              "      .colab-df-generate {\n",
              "        background-color: #E8F0FE;\n",
              "        border: none;\n",
              "        border-radius: 50%;\n",
              "        cursor: pointer;\n",
              "        display: none;\n",
              "        fill: #1967D2;\n",
              "        height: 32px;\n",
              "        padding: 0 0 0 0;\n",
              "        width: 32px;\n",
              "      }\n",
              "\n",
              "      .colab-df-generate:hover {\n",
              "        background-color: #E2EBFA;\n",
              "        box-shadow: 0px 1px 2px rgba(60, 64, 67, 0.3), 0px 1px 3px 1px rgba(60, 64, 67, 0.15);\n",
              "        fill: #174EA6;\n",
              "      }\n",
              "\n",
              "      [theme=dark] .colab-df-generate {\n",
              "        background-color: #3B4455;\n",
              "        fill: #D2E3FC;\n",
              "      }\n",
              "\n",
              "      [theme=dark] .colab-df-generate:hover {\n",
              "        background-color: #434B5C;\n",
              "        box-shadow: 0px 1px 3px 1px rgba(0, 0, 0, 0.15);\n",
              "        filter: drop-shadow(0px 1px 2px rgba(0, 0, 0, 0.3));\n",
              "        fill: #FFFFFF;\n",
              "      }\n",
              "    </style>\n",
              "    <button class=\"colab-df-generate\" onclick=\"generateWithVariable('enfn_df')\"\n",
              "            title=\"Generate code using this dataframe.\"\n",
              "            style=\"display:none;\">\n",
              "\n",
              "  <svg xmlns=\"http://www.w3.org/2000/svg\" height=\"24px\"viewBox=\"0 0 24 24\"\n",
              "       width=\"24px\">\n",
              "    <path d=\"M7,19H8.4L18.45,9,17,7.55,7,17.6ZM5,21V16.75L18.45,3.32a2,2,0,0,1,2.83,0l1.4,1.43a1.91,1.91,0,0,1,.58,1.4,1.91,1.91,0,0,1-.58,1.4L9.25,21ZM18.45,9,17,7.55Zm-12,3A5.31,5.31,0,0,0,4.9,8.1,5.31,5.31,0,0,0,1,6.5,5.31,5.31,0,0,0,4.9,4.9,5.31,5.31,0,0,0,6.5,1,5.31,5.31,0,0,0,8.1,4.9,5.31,5.31,0,0,0,12,6.5,5.46,5.46,0,0,0,6.5,12Z\"/>\n",
              "  </svg>\n",
              "    </button>\n",
              "    <script>\n",
              "      (() => {\n",
              "      const buttonEl =\n",
              "        document.querySelector('#id_e8338ac5-2ed6-4392-b312-df05e4888931 button.colab-df-generate');\n",
              "      buttonEl.style.display =\n",
              "        google.colab.kernel.accessAllowed ? 'block' : 'none';\n",
              "\n",
              "      buttonEl.onclick = () => {\n",
              "        google.colab.notebook.generateWithVariable('enfn_df');\n",
              "      }\n",
              "      })();\n",
              "    </script>\n",
              "  </div>\n",
              "\n",
              "    </div>\n",
              "  </div>\n"
            ],
            "text/plain": [
              "                                                Sentence  Start  End  \\\n",
              "0      ` What makes you think Rainbow would entertain...     76   81   \n",
              "1      ` What makes you think Rainbow would entertain...     70   74   \n",
              "2      It aims to compete with the likes of BMW and A...     34   48   \n",
              "3      It aims to compete with the likes of BMW and A...     28   32   \n",
              "4      They anathematised and expelled the likes of A...     42   89   \n",
              "...                                                  ...    ...  ...   \n",
              "59142  During his four days in Iraq , Hall said he wa...    145  169   \n",
              "59143  During his four days in Iraq , Hall said he wa...    100  126   \n",
              "59144  But the many whose lives he had ruined , whose...     80  111   \n",
              "59145  But the many whose lives he had ruined , whose...     47   65   \n",
              "59146  But the many whose lives he had ruined , whose...     41   45   \n",
              "\n",
              "         Annotated Names                                   Extracted Words  \\\n",
              "0               Entity_2                                            of you   \n",
              "1               Entity_1                                             likes   \n",
              "2               Entity_2                                   of BMW and Audi   \n",
              "3               Entity_1                                             likes   \n",
              "4               Entity_2  of Arius , who taught that Jesus was fully human   \n",
              "...                  ...                                               ...   \n",
              "59142  Undesirable_event                         from chronic malnutrition   \n",
              "59143            Patient                       a quarter of Iraqi children   \n",
              "59144  Undesirable_event                    torture and death at his hands   \n",
              "59145            Patient                               nearest and dearest   \n",
              "59146            Patient                                             whose   \n",
              "\n",
              "                                                   words  \\\n",
              "0      [`, What, makes, you, think, Rainbow, would, e...   \n",
              "1      [`, What, makes, you, think, Rainbow, would, e...   \n",
              "2      [It, aims, to, compete, with, the, likes, of, ...   \n",
              "3      [It, aims, to, compete, with, the, likes, of, ...   \n",
              "4      [They, anathematised, and, expelled, the, like...   \n",
              "...                                                  ...   \n",
              "59142  [During, his, four, days, in, Iraq, ,, Hall, s...   \n",
              "59143  [During, his, four, days, in, Iraq, ,, Hall, s...   \n",
              "59144  [But, the, many, whose, lives, he, had, ruined...   \n",
              "59145  [But, the, many, whose, lives, he, had, ruined...   \n",
              "59146  [But, the, many, whose, lives, he, had, ruined...   \n",
              "\n",
              "                                            frameNetTags  \n",
              "0      [O, O, O, Entity_2, O, O, O, O, O, O, O, O, O,...  \n",
              "1      [O, O, O, O, O, O, O, O, O, O, O, O, O, Entity...  \n",
              "2      [O, O, O, O, O, O, O, Entity_2, Entity_2, Enti...  \n",
              "3      [O, O, O, O, O, O, Entity_1, O, O, O, O, O, O,...  \n",
              "4      [O, O, O, O, O, O, Entity_2, Entity_2, Entity_...  \n",
              "...                                                  ...  \n",
              "59142  [O, O, O, O, O, O, O, O, O, O, O, O, O, O, Und...  \n",
              "59143  [O, O, O, O, O, O, O, O, O, O, O, O, O, O, O, ...  \n",
              "59144  [O, O, O, O, O, O, O, O, O, O, O, Undesirable_...  \n",
              "59145  [O, O, O, O, O, O, O, O, O, O, Patient, Patien...  \n",
              "59146  [O, O, O, Patient, O, O, O, O, O, Patient, O, ...  \n",
              "\n",
              "[59147 rows x 7 columns]"
            ]
          },
          "execution_count": 26,
          "metadata": {},
          "output_type": "execute_result"
        }
      ],
      "source": [
        "enfn_df = pd.DataFrame(table, columns=['Sentence', 'Start', 'End', 'Annotated Names', 'Extracted Words'])\n",
        "enfn_df[\"words\"] = enfn_df[\"Sentence\"].apply(lambda sentence: [word.strip() for word in sentence.split(' ')])\n",
        "enfn_df['frameNetTags'] = enfn_df.apply(annotate_sentence, axis=1)\n",
        "enfn_df"
      ]
    },
    {
      "cell_type": "code",
      "execution_count": null,
      "metadata": {
        "id": "u7l-EboaClA9"
      },
      "outputs": [],
      "source": [
        "endf = pd.merge(enpb_df, enfn_df, on='Sentence', how='inner')"
      ]
    },
    {
      "cell_type": "code",
      "execution_count": null,
      "metadata": {
        "id": "4-UwLI3LckVW"
      },
      "outputs": [],
      "source": [
        "import numpy as np\n",
        "import os\n",
        "import random\n",
        "torch.cuda.empty_cache()\n",
        "seed = 42\n",
        "torch.manual_seed(seed)\n",
        "np.random.seed(seed)\n",
        "random.seed(seed)"
      ]
    },
    {
      "cell_type": "code",
      "execution_count": null,
      "metadata": {
        "id": "Ghf_2UWxcCkd"
      },
      "outputs": [],
      "source": [
        "import datasets\n",
        "from datasets import load_dataset, Dataset\n",
        "from sklearn.model_selection import train_test_split\n",
        "persian_df_tr, persian_df_temp = train_test_split(enfn_df, random_state=seed, test_size=.08)\n",
        "persian_df_val, persian_df_te = train_test_split(persian_df_temp, random_state=seed, test_size=.05)\n",
        "del persian_df_temp\n",
        "persian_df_tr.reset_index(drop=True, inplace=True)\n",
        "persian_df_val.reset_index(drop=True, inplace=True)\n",
        "persian_df_te.reset_index(drop=True, inplace=True)\n",
        "persian_df_tr = Dataset.from_pandas(persian_df_tr)\n",
        "persian_df_val = Dataset.from_pandas(persian_df_val)\n",
        "persian_df_te = Dataset.from_pandas(persian_df_te)"
      ]
    },
    {
      "cell_type": "code",
      "execution_count": null,
      "metadata": {
        "id": "Rw3dKfXadGXZ"
      },
      "outputs": [],
      "source": [
        "frame_prompt_template = \"\"\"<|start_header_id|>system<|end_header_id|>\n",
        "Please generate FrameNet roles for the provided text.\n",
        "<|eot_id|><|start_header_id|>user<|end_header_id|>\n",
        "You are an expert in the field of Semantic Role Labeling and lexical resources especially FrameNet.\n",
        "You know anything about how to label sentence tokens with FrameNet frame elements.\n",
        "Please use the following text:\"+ {}+\"Here are the frame elements you have to use for labeling:\" + {}+\"\n",
        "Your task is to generate frame elements for the provided text.\n",
        "The output should be a list of frame elements in a list format. IF the token do not have any frame element, put 'O'.\n",
        "Make sure that you do NOT use any elements other than the ones I provided in this prompt.\n",
        "<|eot_id|><|start_header_id|>assistant<|end_header_id|>\n",
        "{}\n",
        "\"\"\""
      ]
    },
    {
      "cell_type": "code",
      "execution_count": null,
      "metadata": {
        "colab": {
          "base_uri": "https://localhost:8080/",
          "height": 244,
          "referenced_widgets": [
            "ec6ca327b66841a0a7a92fc48aea9844",
            "a0072696c62742cf8fbbe89cbd7825e7",
            "0f08e8d1970345088f75906102e08a88",
            "2bfec186f4a744e5b650d810045f42ae",
            "5ee02127534441d1b61040b4b5c24619",
            "5ef676a4a21b4211ac9cc6bd03e067c1",
            "c207e19420eb475abebf334882131a6f",
            "272e06c3073442259c842ce6f7666e23",
            "26165017ed294365bf2d2c578c80edfb",
            "a815a2e4fe5f4c778c4354d92346ff71",
            "07a7150c135141f1908249c0ae58f40f",
            "694b5ec0c8b84e9b9a0fb245530ee483",
            "267e9adcbab64a539a5169e171dd7954",
            "688ad76ea3f14529978759263c11bfa3",
            "6ff4b2a4e1c345b28b73a207e30c0edf",
            "de68fefc05774f6cb74808a24b0b4636",
            "0bc00d41359e444ea1d7731c29e2830b",
            "f994bf3cb90448f9a3b3856fa6f1652d",
            "03b6439e8f51452884e8af42a69734e3",
            "e263b6f9879c450f84fd730a325f2a3f",
            "17d01dfa723e4ad8bb0af41b3189f97e",
            "a9644b15edc5466294a59d118cb678d5",
            "456cba326b964343bb755cf8ab030e24",
            "0b80c7519f1b40bf8ffb7066d9fcda0e",
            "5dc61ade28b54591a3da5ad39c743e66",
            "892fd5ac01564023b7121dc940f5d6b7",
            "31dd2f392b5040418ef8b420c31de07f",
            "93cd8e01b4424b0492e6a1d1b606d0d2",
            "c3182e94104e4c50a9e1f4b505132ade",
            "7df8c82cf74c4178bdab70654ee24d38",
            "846a3a8ca9d248ffb2a5a265d827549f",
            "e7b633e7dbff4a448f94498b0ea29768",
            "6d17e6124ba642bc884350f33ca808e5",
            "d292fee97b514e5d959bc86443aa43f4",
            "5921361195bb4e589bba55d69219b965",
            "8890ff3bf6c54ce7a271fa8305e66b07",
            "96aa23c07d224a76a490353cd17fc532",
            "965e2c45ebb04de1a27a63f900b42819",
            "8f951a88ebc8419cbf158015d279ef03",
            "ef03998a72e342e5b36d74bb4b7dcde9",
            "d5dd83cb7b8f48648425acce1b276cb1",
            "37730d7373044e50831d8a072d27b032",
            "14b32b7946ea4b9dbbd5f3656f3695e0",
            "02681765c64f4988be830219732b5f22",
            "c5a6988bd0e345a380f10f9d848fdae0",
            "213c0d64017d42f5bc6d3b83b8377cfb",
            "a6c76e223804469999f7f7e0b8691b5a",
            "b142cb5798d0492ea1dc7e7b3c66db06",
            "64e3bacf1d1f4a20a01853a418b1b627",
            "93fce134813146fdb59614522fbf4dc7",
            "0cc6fa6d8de84cd49935519cd18be69c",
            "333b48df6ef74ef3b30a1384c724fb7e",
            "67da000c643f4ed78127a6535762030b",
            "3ca82da9a39e4b65b6c8bc07a58e41f8",
            "f8e386aa22c740aaadd04f663f228d75",
            "c8006a2c7ab0478c944ba3d4cc644fcc",
            "d3b93e416ea7492090c0955106d96948",
            "fee289ede3114c90948c1e4c2ac3b61b",
            "8afe32cb1c534593b775779ca0d4d674",
            "b9cb2e92e571464382fc669e2f372ee5",
            "b40d0e75b8aa473cb11d6d64573cb8f6",
            "1f2efa87fe0640388fdb17bd2fe9e2c6",
            "c5d7a6501ddd48889bd37a6edcb16ba9",
            "0c849df90a614b8988973d00553246cc",
            "868a265c75894a5cacd81bb32462a1e3",
            "c67e1ce2f2064b718a21e29d354a3624"
          ]
        },
        "id": "dM2xsAI7D8Dg",
        "outputId": "c186d73b-61a3-4e2e-b77b-e15182a945fd"
      },
      "outputs": [
        {
          "data": {
            "application/vnd.jupyter.widget-view+json": {
              "model_id": "ec6ca327b66841a0a7a92fc48aea9844",
              "version_major": 2,
              "version_minor": 0
            },
            "text/plain": [
              "tokenizer_config.json:   0%|          | 0.00/54.7k [00:00<?, ?B/s]"
            ]
          },
          "metadata": {},
          "output_type": "display_data"
        },
        {
          "data": {
            "application/vnd.jupyter.widget-view+json": {
              "model_id": "694b5ec0c8b84e9b9a0fb245530ee483",
              "version_major": 2,
              "version_minor": 0
            },
            "text/plain": [
              "tokenizer.json:   0%|          | 0.00/17.2M [00:00<?, ?B/s]"
            ]
          },
          "metadata": {},
          "output_type": "display_data"
        },
        {
          "data": {
            "application/vnd.jupyter.widget-view+json": {
              "model_id": "456cba326b964343bb755cf8ab030e24",
              "version_major": 2,
              "version_minor": 0
            },
            "text/plain": [
              "special_tokens_map.json:   0%|          | 0.00/454 [00:00<?, ?B/s]"
            ]
          },
          "metadata": {},
          "output_type": "display_data"
        },
        {
          "data": {
            "application/vnd.jupyter.widget-view+json": {
              "model_id": "d292fee97b514e5d959bc86443aa43f4",
              "version_major": 2,
              "version_minor": 0
            },
            "text/plain": [
              "config.json:   0%|          | 0.00/1.52k [00:00<?, ?B/s]"
            ]
          },
          "metadata": {},
          "output_type": "display_data"
        },
        {
          "data": {
            "application/vnd.jupyter.widget-view+json": {
              "model_id": "c5a6988bd0e345a380f10f9d848fdae0",
              "version_major": 2,
              "version_minor": 0
            },
            "text/plain": [
              "model.safetensors:   0%|          | 0.00/2.24G [00:00<?, ?B/s]"
            ]
          },
          "metadata": {},
          "output_type": "display_data"
        },
        {
          "data": {
            "application/vnd.jupyter.widget-view+json": {
              "model_id": "c8006a2c7ab0478c944ba3d4cc644fcc",
              "version_major": 2,
              "version_minor": 0
            },
            "text/plain": [
              "generation_config.json:   0%|          | 0.00/234 [00:00<?, ?B/s]"
            ]
          },
          "metadata": {},
          "output_type": "display_data"
        },
        {
          "name": "stdout",
          "output_type": "stream",
          "text": [
            "trainable params: 2,293,760 || all params: 3,215,043,584 || trainable%: 0.0713\n",
            "✅ DeepSeek LLM Loaded with LoRA and 4-bit Precision!\n"
          ]
        }
      ],
      "source": [
        "from transformers import AutoModelForCausalLM, AutoTokenizer, BitsAndBytesConfig\n",
        "from peft import LoraConfig, get_peft_model\n",
        "#model_name = \"unsloth/Llama-3.3-70B-Instruct-bnb-4bit\"\n",
        "model_name = \"unsloth/Llama-3.2-3B-Instruct-bnb-4bit\"\n",
        "bnb_config = BitsAndBytesConfig(load_in_4bit=True,bnb_4bit_compute_dtype=torch.float16)\n",
        "tokenizer = AutoTokenizer.from_pretrained(model_name)\n",
        "model = AutoModelForCausalLM.from_pretrained(model_name,quantization_config=bnb_config,device_map=\"auto\")\n",
        "lora_config = LoraConfig(r=8,lora_alpha=32,target_modules=[\"q_proj\", \"v_proj\"],lora_dropout=0.05,bias=\"none\")\n",
        "model = get_peft_model(model, lora_config)\n",
        "model.print_trainable_parameters()\n",
        "print(\"✅ DeepSeek LLM Loaded with LoRA and 4-bit Precision!\")"
      ]
    },
    {
      "cell_type": "code",
      "execution_count": null,
      "metadata": {
        "colab": {
          "base_uri": "https://localhost:8080/",
          "height": 299,
          "referenced_widgets": [
            "2926f8a953634c36adab15aceb10e90e",
            "f3c93618ae9f4d7893d5b252a9c86527",
            "0415897d7b374056b4ae43a62166e6ea",
            "28cdde34ad6042af90b38568c98703a9",
            "fe842e68fabb43c6a702b76853e3dd84",
            "35781abf01454418bf638012e36c977d",
            "751488c53c414d288919c8efad4c9352",
            "900e03f1bcfc44eda1954c287b627754",
            "b197a8d4f2f445df9813601858851d72",
            "151aff582bc24adeb76aa10493fd9a46",
            "f42fdc6fad8f44c7a5a99a26d1ffe1fc",
            "efe90cf8002641d2bfedbccccc99cbad",
            "1e34105a875c488ea287d772f682642a",
            "a016d69d45864695a38c35f6b9de7fa7",
            "b3aa027dbabf4d388d10aa584b17dfc7",
            "20241bd2405d4bc5a5558d6f8979ece8",
            "c0ccdae497254ac8b6e8ce9b108db430",
            "18a33b77dce942de8f2c47799401ce58",
            "ae24db9992de477ea83dadf8d8b89ef8",
            "3eb4ed8758a246528e116f4f6150ffb8",
            "a6bfc763eed44915ac74824b79969069",
            "a4c1aaa8e0b74be691c827390b25daae",
            "2fe559a5bad84846ab5397c17124e323",
            "24b6cd3feb3d4a638e56bbfe8889315c",
            "56cf905cbe8e4474a0ef5db4a7a9b6bb",
            "4c975c311a9e43f99b8284fe24533bb9",
            "b3df3dcadaad4892b04df03fbe8f6ba3",
            "69cd4fe726c44fddb16cfc128d1e9534",
            "c96a0f97025146108c204645c55ca582",
            "1b66ebd4b905438885608c5666fc0764",
            "3f25e8e25eef4d51a58b40b860a21530",
            "d9ad4fba0d684f19a183ebc1d661a64c",
            "1daf5d0e59e843f7ad095a0ab3491bc4",
            "8f78ed4127644c2c8e5f1ef244e44105",
            "3fd236fa91f94e3fb5834738079be4ae",
            "a05e07f4ca9f4c8f8b4a7ecea1879441",
            "81fcf19493f249f8b028a889c7fb4a9b",
            "d63de92c57bb4cf7b9201d9640628bfb",
            "5204bea777b54d35834f0ce2a028b24b",
            "e9962d70e4d34877a0cbc08fb9f0dab7",
            "597e342add384229a6a5eb6ae5ed8bc8",
            "e7676df2183141faa1b8ce6a7452b96b",
            "d3bcfebb074843c490ce4a746ee87055",
            "20fb7733d6624c89a40816140a4c84e9",
            "0003b282ba5b42cd8fa130f8f99cffb3",
            "766ab83cafc64e49b41405b111e31706",
            "7594c4bba3f34e328f4963bcd483d63e",
            "ff014f0b76f047d09d0878f4b9d7ad84",
            "a6b64ebcc67043a6822e68eb1e164c97",
            "294404a5cd5044a9b0a0683bd031b167",
            "a47faea06ffe4b35825c671f39831d99",
            "ffeb635f71524a278b597054d9eb42a7",
            "4e31175bdf92436193e4a4357d184e41",
            "97d4063d1b8045d9b4706b3a863e2878",
            "954c03b190ed46d0af9933c77e813d39"
          ]
        },
        "id": "_MFN4TOXDA8r",
        "outputId": "fda53b48-3026-48dd-e0d0-bb888d981065"
      },
      "outputs": [
        {
          "name": "stdout",
          "output_type": "stream",
          "text": [
            "==((====))==  Unsloth 2025.3.19: Fast Llama patching. Transformers: 4.50.3.\n",
            "   \\\\   /|    Tesla T4. Num GPUs = 1. Max memory: 14.741 GB. Platform: Linux.\n",
            "O^O/ \\_/ \\    Torch: 2.5.1+cu124. CUDA: 7.5. CUDA Toolkit: 12.4. Triton: 3.1.0\n",
            "\\        /    Bfloat16 = FALSE. FA [Xformers = 0.0.29. FA2 = False]\n",
            " \"-____-\"     Free license: http://github.com/unslothai/unsloth\n",
            "Unsloth: Fast downloading is enabled - ignore downloading bars which are red colored!\n"
          ]
        },
        {
          "data": {
            "application/vnd.jupyter.widget-view+json": {
              "model_id": "2926f8a953634c36adab15aceb10e90e",
              "version_major": 2,
              "version_minor": 0
            },
            "text/plain": [
              "model.safetensors:   0%|          | 0.00/2.24G [00:00<?, ?B/s]"
            ]
          },
          "metadata": {},
          "output_type": "display_data"
        },
        {
          "data": {
            "application/vnd.jupyter.widget-view+json": {
              "model_id": "efe90cf8002641d2bfedbccccc99cbad",
              "version_major": 2,
              "version_minor": 0
            },
            "text/plain": [
              "generation_config.json:   0%|          | 0.00/234 [00:00<?, ?B/s]"
            ]
          },
          "metadata": {},
          "output_type": "display_data"
        },
        {
          "data": {
            "application/vnd.jupyter.widget-view+json": {
              "model_id": "2fe559a5bad84846ab5397c17124e323",
              "version_major": 2,
              "version_minor": 0
            },
            "text/plain": [
              "tokenizer_config.json:   0%|          | 0.00/54.7k [00:00<?, ?B/s]"
            ]
          },
          "metadata": {},
          "output_type": "display_data"
        },
        {
          "data": {
            "application/vnd.jupyter.widget-view+json": {
              "model_id": "8f78ed4127644c2c8e5f1ef244e44105",
              "version_major": 2,
              "version_minor": 0
            },
            "text/plain": [
              "tokenizer.json:   0%|          | 0.00/17.2M [00:00<?, ?B/s]"
            ]
          },
          "metadata": {},
          "output_type": "display_data"
        },
        {
          "data": {
            "application/vnd.jupyter.widget-view+json": {
              "model_id": "0003b282ba5b42cd8fa130f8f99cffb3",
              "version_major": 2,
              "version_minor": 0
            },
            "text/plain": [
              "special_tokens_map.json:   0%|          | 0.00/454 [00:00<?, ?B/s]"
            ]
          },
          "metadata": {},
          "output_type": "display_data"
        },
        {
          "name": "stderr",
          "output_type": "stream",
          "text": [
            "Unsloth 2025.3.19 patched 28 layers with 28 QKV layers, 28 O layers and 28 MLP layers.\n"
          ]
        }
      ],
      "source": [
        "from unsloth import FastLanguageModel\n",
        "model, tokenizer = FastLanguageModel.from_pretrained(model_name = model_name, max_seq_length = 2048,dtype = None,load_in_4bit = True,)\n",
        "model = FastLanguageModel.get_peft_model(model,r=16,\n",
        "    target_modules=[\"q_proj\",\"k_proj\",\"v_proj\",\"o_proj\",\"gate_proj\",\"up_proj\",\"down_proj\",],\n",
        "    lora_alpha=16,lora_dropout=0,bias=\"none\",use_gradient_checkpointing=\"unsloth\",random_state=3407,use_rslora=False,loftq_config=None,)"
      ]
    },
    {
      "cell_type": "code",
      "execution_count": null,
      "metadata": {
        "id": "H6FsOt4HOibM"
      },
      "outputs": [],
      "source": [
        "EOS_TOKEN = tokenizer.eos_token\n",
        "def formatting_prompts_function(examples):\n",
        "    words = examples[\"Sentence\"]\n",
        "    frams = examples[\"frameNetTags\"]\n",
        "    texts = []\n",
        "    for word, fram in zip(words, frams):\n",
        "        text = frame_prompt_template.format(word, str(frame_roles), fram) + EOS_TOKEN\n",
        "        texts.append(text)\n",
        "    return tokenizer(examples[\"Sentence\"],padding=True,truncation=True,return_tensors=\"pt\")"
      ]
    },
    {
      "cell_type": "code",
      "execution_count": null,
      "metadata": {
        "id": "JfTmhsBtdU0e"
      },
      "outputs": [],
      "source": [
        "frame_roles = set()\n",
        "for _, row in enfn_df.iterrows():\n",
        "    framenet_str = ast.literal_eval(str(row['frameNetTags']))\n",
        "    frame_roles.update(framenet_str)\n",
        "frame_roles = list(frame_roles)"
      ]
    },
    {
      "cell_type": "code",
      "execution_count": null,
      "metadata": {
        "colab": {
          "base_uri": "https://localhost:8080/",
          "height": 113,
          "referenced_widgets": [
            "1640a121f9e44e6e846141fec94de7bb",
            "c741e1a418ed49968c29faa84bcc0b06",
            "d198dcb229de446b888b0192536c45ac",
            "c86df8a5329f48af8e4fbeb971eb5cc0",
            "118e0308dc2540b8a757e5a930484b66",
            "1c8fb883e5f04118a763c24509586875",
            "b62e0904cb8045cd996caedcc22e9aaf",
            "d6498fa899054bb49de47051bdf4e7fd",
            "0e464ba52d7442e0b0c0fb7cdd803dfa",
            "366f4d18e1354fa9bda817f820f3891d",
            "9c00e2b22af5441db94aca8ad18acf21",
            "b59340c18999479f8e95ffaf703ac3d4",
            "9d2bd288d4244f21aafb0dfd46847889",
            "07658981cb7b46bba4044d9bc412e8ae",
            "294dd9e287b14367bccccef1f5aa2420",
            "bf4ad6550e6347a792cb2238f33b1aa3",
            "3c3a677cd0234b44bdbf16e0c2eb4d0f",
            "93654fe3b4794498975ccfbf96ef329b",
            "a3d50d4c7cd44675be1e1976dd99c265",
            "49ab28d3e9c04e29a4eb2ab0fc6c421d",
            "45bf94ae804047d29c19d4d43707753b",
            "1720fe7b3e2b4dcf8f05ce5832640b60",
            "6a6c6be9165c49d18c5937b22f5f7020",
            "901d409f28a44c58a9437393c25ac96f",
            "15794720a2f5436d92e162c99d3c57df",
            "05bffce014ef474aaa7bfe4c649fad58",
            "afe78ccc6cac47668214890c72da305d",
            "05ffcfeb59ca44d1b8caec22d7bf1e8f",
            "35d577dc4c314d318dbbf185e35bbb22",
            "1776208e756c4d5280c6aea7ff4dd108",
            "6343d210448e4aa7a7cd1bcf7d99ca51",
            "8625243d3ce34cf2aefb5d88dac4e079",
            "6cba6f1847524ae598de7dc89494efae"
          ]
        },
        "id": "frNuhGSDb28v",
        "outputId": "8c814691-f1c9-41c6-d2dc-83a2c66e044e"
      },
      "outputs": [
        {
          "data": {
            "application/vnd.jupyter.widget-view+json": {
              "model_id": "1640a121f9e44e6e846141fec94de7bb",
              "version_major": 2,
              "version_minor": 0
            },
            "text/plain": [
              "Map:   0%|          | 0/92 [00:00<?, ? examples/s]"
            ]
          },
          "metadata": {},
          "output_type": "display_data"
        },
        {
          "data": {
            "application/vnd.jupyter.widget-view+json": {
              "model_id": "b59340c18999479f8e95ffaf703ac3d4",
              "version_major": 2,
              "version_minor": 0
            },
            "text/plain": [
              "Map:   0%|          | 0/7 [00:00<?, ? examples/s]"
            ]
          },
          "metadata": {},
          "output_type": "display_data"
        },
        {
          "data": {
            "application/vnd.jupyter.widget-view+json": {
              "model_id": "6a6c6be9165c49d18c5937b22f5f7020",
              "version_major": 2,
              "version_minor": 0
            },
            "text/plain": [
              "Map:   0%|          | 0/1 [00:00<?, ? examples/s]"
            ]
          },
          "metadata": {},
          "output_type": "display_data"
        }
      ],
      "source": [
        "main_dataset = persian_df_tr.map(formatting_prompts_function, remove_columns=persian_df_tr.column_names, batched=True)#, num_proc=1\n",
        "eval_dataset = persian_df_val.map(formatting_prompts_function, remove_columns=persian_df_val.column_names, batched=True)\n",
        "test_dataset = persian_df_te.map(formatting_prompts_function, remove_columns=persian_df_te.column_names, batched=True)\n",
        "\n",
        "main_dataset = main_dataset.shuffle(seed=seed)\n",
        "eval_dataset = eval_dataset.shuffle(seed=seed)\n",
        "test_dataset = test_dataset.shuffle(seed=seed)"
      ]
    },
    {
      "cell_type": "code",
      "execution_count": null,
      "metadata": {
        "colab": {
          "base_uri": "https://localhost:8080/"
        },
        "id": "GaFAUNippYMp",
        "outputId": "4f778e48-cd27-4ef3-b125-95ce4bcb8f88"
      },
      "outputs": [
        {
          "name": "stdout",
          "output_type": "stream",
          "text": [
            "/bin/bash: line 1: os.environ[CUDA_VISIBLE_DEVICES]: command not found\n"
          ]
        }
      ],
      "source": [
        "!os.environ['CUDA_VISIBLE_DEVICES'] ='0'"
      ]
    },
    {
      "cell_type": "code",
      "execution_count": null,
      "metadata": {
        "id": "VQvF9J1ZvS7Z"
      },
      "outputs": [],
      "source": [
        "from sklearn.metrics import accuracy_score, precision_score, recall_score, f1_score\n",
        "from evaluate import load\n",
        "import numpy as np\n",
        "import math\n",
        "import torch\n",
        "import torch.nn.functional as F\n",
        "\n",
        "def compute_metrics(eval_pred):\n",
        "    logits, labels = eval_pred\n",
        "    predictions = logits.argmax(axis=-1)\n",
        "    labels = torch.tensor(labels, dtype=torch.int32)\n",
        "    print(\"Predictions:\", predictions.shape)\n",
        "    print(\"Labels:\", labels.shape)\n",
        "    results = {}\n",
        "    def compute_token_accuracy(predicted_ids, label_ids):\n",
        "        total_tokens = 0\n",
        "        correct_tokens = 0\n",
        "        for pred, ref in zip(predicted_ids, label_ids):\n",
        "            for p_token, r_token in zip(pred, ref):\n",
        "                if r_token != -100:\n",
        "                    total_tokens += 1\n",
        "                    if p_token == r_token:\n",
        "                        correct_tokens += 1\n",
        "        return (correct_tokens / total_tokens) * 100 if total_tokens > 0 else 0.0\n",
        "    if labels is not None:\n",
        "        logits_tensor = torch.tensor(logits, dtype=torch.float32)\n",
        "        labels_tensor = torch.tensor(labels, dtype=torch.long)\n",
        "        per_sample_losses = []\n",
        "        for sample_logits, sample_labels in zip(logits_tensor, labels_tensor):\n",
        "            loss = F.cross_entropy(sample_logits.view(-1, sample_logits.size(-1)),sample_labels.view(-1),reduction=\"none\")\n",
        "            per_sample_loss = loss.view(sample_labels.size(0), -1).mean(dim=1).mean().item()\n",
        "            per_sample_losses.append(per_sample_loss)\n",
        "        results[\"manual_eval_loss\"] = sum(per_sample_losses) / len(per_sample_losses)\n",
        "        results[\"perplexity\"] = math.exp(results[\"manual_eval_loss\"])\n",
        "        results[\"loss_per_sample\"] = per_sample_losses\n",
        "\n",
        "    # 2. Token-Level Metrics\n",
        "    if labels is not None:\n",
        "        flattened_preds = []\n",
        "        flattened_labels = []\n",
        "        for pred, label in zip(predictions, labels):\n",
        "            for p_token, l_token in zip(pred, label):\n",
        "                if l_token != -100:\n",
        "                    flattened_preds.append(p_token)\n",
        "                    flattened_labels.append(l_token)\n",
        "\n",
        "        if flattened_labels and flattened_preds:\n",
        "            results[\"accuracy_score\"] = accuracy_score(flattened_labels, flattened_preds)\n",
        "            results[\"token_accuracy\"] = compute_token_accuracy(predictions, labels)\n",
        "            results[\"precision\"] = precision_score(flattened_labels, flattened_preds, average=\"macro\")\n",
        "            results[\"recall\"] = recall_score(flattened_labels, flattened_preds, average=\"macro\")\n",
        "            results[\"f1\"] = f1_score(flattened_labels, flattened_preds, average=\"macro\")\n",
        "    return results"
      ]
    },
    {
      "cell_type": "code",
      "execution_count": null,
      "metadata": {
        "id": "s8AJb-Yayxec"
      },
      "outputs": [],
      "source": [
        "trainer = SFTTrainer(\n",
        "    model=model,\n",
        "    tokenizer=tokenizer,\n",
        "    train_dataset=main_dataset,\n",
        "    eval_dataset=eval_dataset,\n",
        "    dataset_text_field=\"text\",\n",
        "    dataset_num_proc=2,\n",
        "    packing=False,\n",
        "    args=TrainingArguments(\n",
        "        per_device_train_batch_size=6,\n",
        "        gradient_accumulation_steps=4,\n",
        "        warmup_steps=5,\n",
        "        num_train_epochs=1,\n",
        "        learning_rate=2e-4,\n",
        "        fp16 = not is_bfloat16_supported(),\n",
        "        bf16 = is_bfloat16_supported(),\n",
        "        optim=\"adamw_8bit\",\n",
        "        weight_decay=0.01,\n",
        "        lr_scheduler_type=\"linear\",\n",
        "        seed=3407,\n",
        "        logging_strategy=\"steps\",\n",
        "        logging_steps=1,\n",
        "    ),\n",
        "    compute_metrics=compute_metrics,\n",
        ")"
      ]
    },
    {
      "cell_type": "code",
      "execution_count": null,
      "metadata": {
        "id": "YE6DjpzU7FqJ"
      },
      "outputs": [],
      "source": [
        "trainer.train()"
      ]
    },
    {
      "cell_type": "code",
      "execution_count": null,
      "metadata": {
        "id": "H_zHKpZb3KzN"
      },
      "outputs": [],
      "source": [
        "eval_results = trainer.evaluate()\n",
        "print(eval_results)"
      ]
    }
  ],
  "metadata": {
    "accelerator": "GPU",
    "colab": {
      "gpuType": "T4",
      "provenance": []
    },
    "kernelspec": {
      "display_name": "Python 3",
      "name": "python3"
    },
    "language_info": {
      "name": "python"
    }
  },
  "nbformat": 4,
  "nbformat_minor": 0
}